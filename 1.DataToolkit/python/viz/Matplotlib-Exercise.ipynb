{
 "cells": [
  {
   "cell_type": "markdown",
   "source": [
    "<h1 style = \"color : Sky blue\"> Plotting Exercise(Numpy Attributes)</h1>\n",
    "\n",
    "As you learnt in the session, data visualisation is an essential skill for a data scientist to have. Charts and graphs are the easiest way to communicate data to different kinds of consumers. The assessments in this notebook will test your ability to represent information. The questions will be investigative and will not have detailed instructions about the execution; you will have to figure that part out yourself. Don't worry, there are no wrong answers here, only happy accidents. Try these questions on your own, to verify if you have done the task correctly, look at the solution as a person who does not know the data and is looking at it for the first time. You will be able to identify better ways to represent data automatically.  \n",
    "\n",
    "The dataset given for this notebook is the pricing data for diamonds based on the carat, cut, colour and so on. Take a look at the data below and also the data dictionary for a better understanding of the data and the attributes. "
   ],
   "metadata": {}
  },
  {
   "cell_type": "code",
   "execution_count": 2,
   "source": [
    "# Import the necessary libraries\n",
    "\n",
    "import pandas as pd\n",
    "import numpy as np\n",
    "import matplotlib.pyplot as plt"
   ],
   "outputs": [],
   "metadata": {}
  },
  {
   "cell_type": "code",
   "execution_count": 3,
   "source": [
    "# Read the data into a dataframe\n",
    "data = pd.read_csv(\"data/diamonds.csv\", header = 0)\n",
    "\n",
    "# As a preparatory step, let's drop Unnamed column.\n",
    "data = data.drop(\"Unnamed: 0\", axis =1 )\n",
    "\n",
    "data.head()"
   ],
   "outputs": [
    {
     "output_type": "execute_result",
     "data": {
      "text/html": [
       "<div>\n",
       "<style scoped>\n",
       "    .dataframe tbody tr th:only-of-type {\n",
       "        vertical-align: middle;\n",
       "    }\n",
       "\n",
       "    .dataframe tbody tr th {\n",
       "        vertical-align: top;\n",
       "    }\n",
       "\n",
       "    .dataframe thead th {\n",
       "        text-align: right;\n",
       "    }\n",
       "</style>\n",
       "<table border=\"1\" class=\"dataframe\">\n",
       "  <thead>\n",
       "    <tr style=\"text-align: right;\">\n",
       "      <th></th>\n",
       "      <th>carat</th>\n",
       "      <th>cut</th>\n",
       "      <th>color</th>\n",
       "      <th>clarity</th>\n",
       "      <th>depth</th>\n",
       "      <th>table</th>\n",
       "      <th>price</th>\n",
       "      <th>x</th>\n",
       "      <th>y</th>\n",
       "      <th>z</th>\n",
       "    </tr>\n",
       "  </thead>\n",
       "  <tbody>\n",
       "    <tr>\n",
       "      <th>0</th>\n",
       "      <td>0.23</td>\n",
       "      <td>Ideal</td>\n",
       "      <td>E</td>\n",
       "      <td>SI2</td>\n",
       "      <td>61.5</td>\n",
       "      <td>55.0</td>\n",
       "      <td>326</td>\n",
       "      <td>3.95</td>\n",
       "      <td>3.98</td>\n",
       "      <td>2.43</td>\n",
       "    </tr>\n",
       "    <tr>\n",
       "      <th>1</th>\n",
       "      <td>0.21</td>\n",
       "      <td>Premium</td>\n",
       "      <td>E</td>\n",
       "      <td>SI1</td>\n",
       "      <td>59.8</td>\n",
       "      <td>61.0</td>\n",
       "      <td>326</td>\n",
       "      <td>3.89</td>\n",
       "      <td>3.84</td>\n",
       "      <td>2.31</td>\n",
       "    </tr>\n",
       "    <tr>\n",
       "      <th>2</th>\n",
       "      <td>0.23</td>\n",
       "      <td>Good</td>\n",
       "      <td>E</td>\n",
       "      <td>VS1</td>\n",
       "      <td>56.9</td>\n",
       "      <td>65.0</td>\n",
       "      <td>327</td>\n",
       "      <td>4.05</td>\n",
       "      <td>4.07</td>\n",
       "      <td>2.31</td>\n",
       "    </tr>\n",
       "    <tr>\n",
       "      <th>3</th>\n",
       "      <td>0.29</td>\n",
       "      <td>Premium</td>\n",
       "      <td>I</td>\n",
       "      <td>VS2</td>\n",
       "      <td>62.4</td>\n",
       "      <td>58.0</td>\n",
       "      <td>334</td>\n",
       "      <td>4.20</td>\n",
       "      <td>4.23</td>\n",
       "      <td>2.63</td>\n",
       "    </tr>\n",
       "    <tr>\n",
       "      <th>4</th>\n",
       "      <td>0.31</td>\n",
       "      <td>Good</td>\n",
       "      <td>J</td>\n",
       "      <td>SI2</td>\n",
       "      <td>63.3</td>\n",
       "      <td>58.0</td>\n",
       "      <td>335</td>\n",
       "      <td>4.34</td>\n",
       "      <td>4.35</td>\n",
       "      <td>2.75</td>\n",
       "    </tr>\n",
       "  </tbody>\n",
       "</table>\n",
       "</div>"
      ],
      "text/plain": [
       "   carat      cut color clarity  depth  table  price     x     y     z\n",
       "0   0.23    Ideal     E     SI2   61.5   55.0    326  3.95  3.98  2.43\n",
       "1   0.21  Premium     E     SI1   59.8   61.0    326  3.89  3.84  2.31\n",
       "2   0.23     Good     E     VS1   56.9   65.0    327  4.05  4.07  2.31\n",
       "3   0.29  Premium     I     VS2   62.4   58.0    334  4.20  4.23  2.63\n",
       "4   0.31     Good     J     SI2   63.3   58.0    335  4.34  4.35  2.75"
      ]
     },
     "metadata": {},
     "execution_count": 3
    }
   ],
   "metadata": {}
  },
  {
   "cell_type": "markdown",
   "source": [
    "### Data Dictionary: \n",
    "\n",
    "1. **carat**: Weight of the diamond (0.2--5.01)\n",
    "\n",
    "2.  **cut**: Quality of the cut (Fair, Good, Very Good, Premium, Ideal)\n",
    "\n",
    "3. **color**: Diamond colour, from J (worst) to D (best)\n",
    "\n",
    "4. **clarity**: A measurement of how clear the diamond is (I1 (worst), SI2, SI1, VS2, VS1, VVS2, VVS1, IF (best))\n",
    "\n",
    "5. **depth**: Total depth percentage = z / mean(x, y) = 2 * z / (x + y) (43--79)\n",
    "\n",
    "6. **table**: Width of top of diamond relative to widest point (43--95)\n",
    "\n",
    "7. **price**: Price in US dollars (326 dollars -18,823 dollars)\n",
    "\n",
    "8. **x**: Length in mm (0--10.74)\n",
    "\n",
    "9. **y**: Width in mm (0--58.9)\n",
    "\n",
    "10. **z**: Depth in mm (0--31.8)"
   ],
   "metadata": {}
  },
  {
   "cell_type": "markdown",
   "source": [
    "<h3 style = \"color : Brown\"> Question </h3>\n",
    "\n",
    "Investigate the variation of prices of diamonds and note your observations. "
   ],
   "metadata": {}
  },
  {
   "cell_type": "code",
   "execution_count": 23,
   "source": [
    "print(data.shape[0])\n",
    "print(data.describe())\n",
    "\n",
    "plt.hist(x=data['price'],bins=10)\n",
    "#plt.boxplot(data['price'])"
   ],
   "outputs": [
    {
     "output_type": "stream",
     "name": "stdout",
     "text": [
      "53940\n",
      "              carat         depth         table         price             x  \\\n",
      "count  53940.000000  53940.000000  53940.000000  53940.000000  53940.000000   \n",
      "mean       0.797940     61.749405     57.457184   3932.799722      5.731157   \n",
      "std        0.474011      1.432621      2.234491   3989.439738      1.121761   \n",
      "min        0.200000     43.000000     43.000000    326.000000      0.000000   \n",
      "25%        0.400000     61.000000     56.000000    950.000000      4.710000   \n",
      "50%        0.700000     61.800000     57.000000   2401.000000      5.700000   \n",
      "75%        1.040000     62.500000     59.000000   5324.250000      6.540000   \n",
      "max        5.010000     79.000000     95.000000  18823.000000     10.740000   \n",
      "\n",
      "                  y             z  \n",
      "count  53940.000000  53940.000000  \n",
      "mean       5.734526      3.538734  \n",
      "std        1.142135      0.705699  \n",
      "min        0.000000      0.000000  \n",
      "25%        4.720000      2.910000  \n",
      "50%        5.710000      3.530000  \n",
      "75%        6.540000      4.040000  \n",
      "max       58.900000     31.800000  \n"
     ]
    },
    {
     "output_type": "execute_result",
     "data": {
      "text/plain": [
       "(array([25335.,  9328.,  7393.,  3878.,  2364.,  1745.,  1306.,  1002.,\n",
       "          863.,   726.]),\n",
       " array([  326. ,  2175.7,  4025.4,  5875.1,  7724.8,  9574.5, 11424.2,\n",
       "        13273.9, 15123.6, 16973.3, 18823. ]),\n",
       " <BarContainer object of 10 artists>)"
      ]
     },
     "metadata": {},
     "execution_count": 23
    },
    {
     "output_type": "display_data",
     "data": {
      "image/png": "[encoded data removed]",
      "text/plain": [
       "<Figure size 432x288 with 1 Axes>"
      ]
     },
     "metadata": {
      "needs_background": "light"
     }
    }
   ],
   "metadata": {}
  },
  {
   "cell_type": "code",
   "execution_count": 21,
   "source": [
    "plt.boxplot(data['price'])"
   ],
   "outputs": [
    {
     "output_type": "execute_result",
     "data": {
      "text/plain": [
       "{'whiskers': [<matplotlib.lines.Line2D at 0x7fdf9bf27390>,\n",
       "  <matplotlib.lines.Line2D at 0x7fdf9bf27810>],\n",
       " 'caps': [<matplotlib.lines.Line2D at 0x7fdf9bf27c10>,\n",
       "  <matplotlib.lines.Line2D at 0x7fdf9bf41590>],\n",
       " 'boxes': [<matplotlib.lines.Line2D at 0x7fdf9bf52350>],\n",
       " 'medians': [<matplotlib.lines.Line2D at 0x7fdf9bf41e90>],\n",
       " 'fliers': [<matplotlib.lines.Line2D at 0x7fdf9bf41450>],\n",
       " 'means': []}"
      ]
     },
     "metadata": {},
     "execution_count": 21
    },
    {
     "output_type": "display_data",
     "data": {
      "image/png": "[encoded data removed]",
      "text/plain": [
       "<Figure size 432x288 with 1 Axes>"
      ]
     },
     "metadata": {
      "needs_background": "light"
     }
    }
   ],
   "metadata": {}
  },
  {
   "cell_type": "markdown",
   "source": [
    "- First quartile: Most diamonds (25000) fall in here < 2500"
   ],
   "metadata": {}
  },
  {
   "cell_type": "markdown",
   "source": [
    "<h3 style = \"color : Brown\"> Question </h3>\n",
    "\n",
    "Perform a similar variation analysis on the quality of cut. "
   ],
   "metadata": {}
  },
  {
   "cell_type": "code",
   "execution_count": 41,
   "source": [
    "cut_counts = data.value_counts(data['cut']).to_frame()\n",
    "cut_counts = cut_counts.reset_index()\n",
    "cut_counts.columns = ['cut','count']\n",
    "cut_counts.columns\n",
    "\n",
    "plt.bar(cut_counts['cut'], cut_counts['count'])"
   ],
   "outputs": [
    {
     "output_type": "execute_result",
     "data": {
      "text/plain": [
       "<BarContainer object of 5 artists>"
      ]
     },
     "metadata": {},
     "execution_count": 41
    },
    {
     "output_type": "display_data",
     "data": {
      "image/png": "[encoded data removed]",
      "text/plain": [
       "<Figure size 432x288 with 1 Axes>"
      ]
     },
     "metadata": {
      "needs_background": "light"
     }
    }
   ],
   "metadata": {}
  },
  {
   "cell_type": "markdown",
   "source": [],
   "metadata": {}
  },
  {
   "cell_type": "markdown",
   "source": [
    "<h3 style = \"color : Brown\"> Question </h3>\n",
    "\n",
    "Represent the same information as above in a pie chart."
   ],
   "metadata": {}
  },
  {
   "cell_type": "code",
   "execution_count": 43,
   "source": [
    "plt.pie(cut_counts['count'], labels = cut_counts['cut'])"
   ],
   "outputs": [
    {
     "output_type": "execute_result",
     "data": {
      "text/plain": [
       "([<matplotlib.patches.Wedge at 0x7fdf9f0d2590>,\n",
       "  <matplotlib.patches.Wedge at 0x7fdf9f0d2c10>,\n",
       "  <matplotlib.patches.Wedge at 0x7fdf9f0cb190>,\n",
       "  <matplotlib.patches.Wedge at 0x7fdf9f0cb6d0>,\n",
       "  <matplotlib.patches.Wedge at 0x7fdf9f0cbc90>],\n",
       " [Text(0.3414416126385917, 1.0456661155257725, 'Ideal'),\n",
       "  Text(-1.0837708252563742, -0.18825726632222606, 'Premium'),\n",
       "  Text(0.1186760913784701, -1.0935794371398584, 'Very Good'),\n",
       "  Text(0.9790871199141089, -0.5013864892658114, 'Good'),\n",
       "  Text(1.0951674706775656, -0.10299617065553196, 'Fair')])"
      ]
     },
     "metadata": {},
     "execution_count": 43
    },
    {
     "output_type": "display_data",
     "data": {
      "image/png": "[encoded data removed]",
      "text/plain": [
       "<Figure size 432x288 with 1 Axes>"
      ]
     },
     "metadata": {}
    }
   ],
   "metadata": {}
  },
  {
   "cell_type": "markdown",
   "source": [
    "<h3 style = \"color : Brown\"> Question </h3>\n",
    "\n",
    "Investigate the variation of price of the diamonds, with respect to the carats. "
   ],
   "metadata": {}
  },
  {
   "cell_type": "code",
   "execution_count": 46,
   "source": [
    "plt.scatter(data['carat'],data['price'])\n",
    "plt.xlabel('carat');plt.ylabel('price')"
   ],
   "outputs": [
    {
     "output_type": "execute_result",
     "data": {
      "text/plain": [
       "Text(0, 0.5, 'price')"
      ]
     },
     "metadata": {},
     "execution_count": 46
    },
    {
     "output_type": "display_data",
     "data": {
      "image/png": "[encoded data removed]",
      "text/plain": [
       "<Figure size 432x288 with 1 Axes>"
      ]
     },
     "metadata": {
      "needs_background": "light"
     }
    }
   ],
   "metadata": {}
  },
  {
   "cell_type": "markdown",
   "source": [
    "<h3 style = \"color : Brown\"> Question </h3>\n",
    "\n",
    "Investigate the relationship of price with respect to the cut of the diamonds. "
   ],
   "metadata": {}
  },
  {
   "cell_type": "code",
   "execution_count": 68,
   "source": [
    "cut_price = data.groupby(by='cut').agg({'price':np.average})\n",
    "cut_price = cut_price.sort_values(by='price')\n",
    "cut_price = cut_price.reset_index()\n",
    "plt.bar(cut_price['cut'],cut_price['price'])"
   ],
   "outputs": [
    {
     "output_type": "execute_result",
     "data": {
      "text/plain": [
       "<BarContainer object of 5 artists>"
      ]
     },
     "metadata": {},
     "execution_count": 68
    },
    {
     "output_type": "display_data",
     "data": {
      "image/png": "[encoded data removed]",
      "text/plain": [
       "<Figure size 432x288 with 1 Axes>"
      ]
     },
     "metadata": {
      "needs_background": "light"
     }
    }
   ],
   "metadata": {}
  },
  {
   "cell_type": "code",
   "execution_count": 54,
   "source": [
    "'''\n",
    "import matplotlib.pyplot as plt\n",
    "months = [1,2,3]\n",
    "sales = [10000, 20000, 30000]\n",
    "plt.scatter(months, sales)\n",
    "for (month, sales) in zip(months, sales):\n",
    "    plt.annotate(text = \"{}K\".format(sales//1000), xy = (month, sales))\n",
    "'''"
   ],
   "outputs": [
    {
     "output_type": "display_data",
     "data": {
      "image/png": "[encoded data removed]",
      "text/plain": [
       "<Figure size 432x288 with 1 Axes>"
      ]
     },
     "metadata": {
      "needs_background": "light"
     }
    }
   ],
   "metadata": {}
  },
  {
   "cell_type": "markdown",
   "source": [
    "**All the best!**"
   ],
   "metadata": {}
  }
 ],
 "metadata": {
  "kernelspec": {
   "display_name": "Python 3.7.9 64-bit ('venv': venv)",
   "name": "python379jvsc74a57bd0cf247013399a202eae5e7608e2ade166a9852d41f1f09169f1cf85c9062346fa"
  },
  "language_info": {
   "codemirror_mode": {
    "name": "ipython",
    "version": 3
   },
   "file_extension": ".py",
   "mimetype": "text/x-python",
   "name": "python",
   "nbconvert_exporter": "python",
   "pygments_lexer": "ipython3",
   "version": "3.7.9"
  },
  "orig_nbformat": 3
 },
 "nbformat": 4,
 "nbformat_minor": 4
}