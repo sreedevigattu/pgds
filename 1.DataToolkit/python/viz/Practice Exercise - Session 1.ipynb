{
 "cells": [
  {
   "cell_type": "code",
   "execution_count": 1,
   "metadata": {},
   "outputs": [],
   "source": [
    "#Import all the necessary libraries\n",
    "import pandas as pd\n",
    "import numpy as np\n",
    "import matplotlib.pyplot as plt"
   ]
  },
  {
   "cell_type": "markdown",
   "metadata": {},
   "source": [
    "### I - Virat Kohli Dataset"
   ]
  },
  {
   "cell_type": "code",
   "execution_count": 2,
   "metadata": {},
   "outputs": [],
   "source": [
    "df = pd.read_csv(\"data/virat.csv\")"
   ]
  },
  {
   "cell_type": "code",
   "execution_count": 3,
   "metadata": {},
   "outputs": [
    {
     "data": {
      "text/html": "<div>\n<style scoped>\n    .dataframe tbody tr th:only-of-type {\n        vertical-align: middle;\n    }\n\n    .dataframe tbody tr th {\n        vertical-align: top;\n    }\n\n    .dataframe thead th {\n        text-align: right;\n    }\n</style>\n<table border=\"1\" class=\"dataframe\">\n  <thead>\n    <tr style=\"text-align: right;\">\n      <th></th>\n      <th>Runs</th>\n      <th>Mins</th>\n      <th>BF</th>\n      <th>4s</th>\n      <th>6s</th>\n      <th>SR</th>\n      <th>Pos</th>\n      <th>Dismissal</th>\n      <th>Inns</th>\n      <th>Opposition</th>\n      <th>Ground</th>\n      <th>Start Date</th>\n    </tr>\n  </thead>\n  <tbody>\n    <tr>\n      <th>0</th>\n      <td>12</td>\n      <td>33</td>\n      <td>22</td>\n      <td>1</td>\n      <td>0</td>\n      <td>54.54</td>\n      <td>2</td>\n      <td>lbw</td>\n      <td>1</td>\n      <td>v Sri Lanka</td>\n      <td>Dambulla</td>\n      <td>18-Aug-08</td>\n    </tr>\n    <tr>\n      <th>1</th>\n      <td>37</td>\n      <td>82</td>\n      <td>67</td>\n      <td>6</td>\n      <td>0</td>\n      <td>55.22</td>\n      <td>2</td>\n      <td>caught</td>\n      <td>2</td>\n      <td>v Sri Lanka</td>\n      <td>Dambulla</td>\n      <td>20-Aug-08</td>\n    </tr>\n    <tr>\n      <th>2</th>\n      <td>25</td>\n      <td>40</td>\n      <td>38</td>\n      <td>4</td>\n      <td>0</td>\n      <td>65.78</td>\n      <td>1</td>\n      <td>run out</td>\n      <td>1</td>\n      <td>v Sri Lanka</td>\n      <td>Colombo (RPS)</td>\n      <td>24-Aug-08</td>\n    </tr>\n    <tr>\n      <th>3</th>\n      <td>54</td>\n      <td>87</td>\n      <td>66</td>\n      <td>7</td>\n      <td>0</td>\n      <td>81.81</td>\n      <td>1</td>\n      <td>bowled</td>\n      <td>1</td>\n      <td>v Sri Lanka</td>\n      <td>Colombo (RPS)</td>\n      <td>27-Aug-08</td>\n    </tr>\n    <tr>\n      <th>4</th>\n      <td>31</td>\n      <td>45</td>\n      <td>46</td>\n      <td>3</td>\n      <td>1</td>\n      <td>67.39</td>\n      <td>1</td>\n      <td>lbw</td>\n      <td>2</td>\n      <td>v Sri Lanka</td>\n      <td>Colombo (RPS)</td>\n      <td>29-Aug-08</td>\n    </tr>\n  </tbody>\n</table>\n</div>",
      "text/plain": "  Runs Mins  BF  4s  6s     SR  Pos Dismissal  Inns   Opposition  \\\n0   12   33  22   1   0  54.54    2       lbw     1  v Sri Lanka   \n1   37   82  67   6   0  55.22    2    caught     2  v Sri Lanka   \n2   25   40  38   4   0  65.78    1   run out     1  v Sri Lanka   \n3   54   87  66   7   0  81.81    1    bowled     1  v Sri Lanka   \n4   31   45  46   3   1  67.39    1       lbw     2  v Sri Lanka   \n\n          Ground Start Date  \n0       Dambulla  18-Aug-08  \n1       Dambulla  20-Aug-08  \n2  Colombo (RPS)  24-Aug-08  \n3  Colombo (RPS)  27-Aug-08  \n4  Colombo (RPS)  29-Aug-08  "
     },
     "execution_count": 3,
     "metadata": {},
     "output_type": "execute_result"
    }
   ],
   "source": [
    "df.head()"
   ]
  },
  {
   "cell_type": "markdown",
   "metadata": {},
   "source": [
    "#### Spread in Runs\n",
    "Question 1: Analyse the spread of Runs scored by Virat in all his matches and report the difference between the scores at the 50th percentile and the 25th percentile respectively.\n",
    "\n",
    "    a)16.5\n",
    "    b)22.5\n",
    "    c)26.5\n",
    "    d)32.5\n",
    "\n"
   ]
  },
  {
   "cell_type": "code",
   "execution_count": 4,
   "metadata": {},
   "outputs": [
    {
     "name": "stdout",
     "output_type": "stream",
     "text": [
      "<class 'pandas.core.frame.DataFrame'>\n",
      "RangeIndex: 132 entries, 0 to 131\n",
      "Data columns (total 12 columns):\n",
      " #   Column      Non-Null Count  Dtype \n",
      "---  ------      --------------  ----- \n",
      " 0   Runs        132 non-null    object\n",
      " 1   Mins        132 non-null    object\n",
      " 2   BF          132 non-null    int64 \n",
      " 3   4s          132 non-null    int64 \n",
      " 4   6s          132 non-null    int64 \n",
      " 5   SR          132 non-null    object\n",
      " 6   Pos         132 non-null    int64 \n",
      " 7   Dismissal   132 non-null    object\n",
      " 8   Inns        132 non-null    int64 \n",
      " 9   Opposition  132 non-null    object\n",
      " 10  Ground      132 non-null    object\n",
      " 11  Start Date  132 non-null    object\n",
      "dtypes: int64(5), object(7)\n",
      "memory usage: 12.5+ KB\n"
     ]
    }
   ],
   "source": [
    "## Your code here\n",
    "df.info()"
   ]
  },
  {
   "cell_type": "code",
   "execution_count": 5,
   "metadata": {},
   "outputs": [
    {
     "data": {
      "text/plain": "0      10\n2       5\n9       4\n31      4\n37      4\n       ..\n136     1\n127     1\n86*     1\n86      1\n1*      1\nName: Runs, Length: 83, dtype: int64"
     },
     "execution_count": 5,
     "metadata": {},
     "output_type": "execute_result"
    }
   ],
   "source": [
    "df['Runs'].value_counts()"
   ]
  },
  {
   "cell_type": "code",
   "execution_count": 6,
   "metadata": {},
   "outputs": [],
   "source": [
    "df['Runs'] = df['Runs'].apply(lambda x: int(x.replace('*','')))"
   ]
  },
  {
   "cell_type": "code",
   "execution_count": 7,
   "metadata": {},
   "outputs": [
    {
     "name": "stdout",
     "output_type": "stream",
     "text": [
      "<class 'pandas.core.frame.DataFrame'>\n",
      "RangeIndex: 132 entries, 0 to 131\n",
      "Data columns (total 12 columns):\n",
      " #   Column      Non-Null Count  Dtype \n",
      "---  ------      --------------  ----- \n",
      " 0   Runs        132 non-null    int64 \n",
      " 1   Mins        132 non-null    object\n",
      " 2   BF          132 non-null    int64 \n",
      " 3   4s          132 non-null    int64 \n",
      " 4   6s          132 non-null    int64 \n",
      " 5   SR          132 non-null    object\n",
      " 6   Pos         132 non-null    int64 \n",
      " 7   Dismissal   132 non-null    object\n",
      " 8   Inns        132 non-null    int64 \n",
      " 9   Opposition  132 non-null    object\n",
      " 10  Ground      132 non-null    object\n",
      " 11  Start Date  132 non-null    object\n",
      "dtypes: int64(6), object(6)\n",
      "memory usage: 12.5+ KB\n"
     ]
    }
   ],
   "source": [
    "df.info()"
   ]
  },
  {
   "cell_type": "code",
   "execution_count": 8,
   "metadata": {},
   "outputs": [
    {
     "name": "stdout",
     "output_type": "stream",
     "text": [
      "22.5\n"
     ]
    }
   ],
   "source": [
    "print(df['Runs'].quantile(0.5) - df['Runs'].quantile(0.25))"
   ]
  },
  {
   "cell_type": "code",
   "execution_count": 9,
   "metadata": {},
   "outputs": [
    {
     "data": {
      "text/plain": "count    132.000000\nmean      46.848485\nstd       41.994635\nmin        0.000000\n25%       10.000000\n50%       32.500000\n100%     154.000000\nmax      154.000000\nName: Runs, dtype: float64"
     },
     "execution_count": 9,
     "metadata": {},
     "output_type": "execute_result"
    }
   ],
   "source": [
    "df['Runs'].describe(percentiles = [0.25,0.5,1]) "
   ]
  },
  {
   "cell_type": "markdown",
   "metadata": {},
   "source": [
    "#### Box Plots\n",
    "\n",
    "Question 2: Plot a Box Plot to analyse the spread of Runs that Virat has scored. The upper fence in the box plot lies in which interval?\n",
    "\n",
    "    a)100-120\n",
    "    b)120-140\n",
    "    c)140-160\n",
    "    d)160-180\n"
   ]
  },
  {
   "cell_type": "code",
   "execution_count": 10,
   "metadata": {},
   "outputs": [
    {
     "data": {
      "image/png": "[encoded data removed]",
      "text/plain": "<Figure size 432x288 with 1 Axes>"
     },
     "metadata": {
      "needs_background": "light"
     },
     "output_type": "display_data"
    }
   ],
   "source": [
    "#Your code here\n",
    "plt.boxplot(df['Runs']);plt.show()"
   ]
  },
  {
   "cell_type": "markdown",
   "metadata": {},
   "source": [
    "#### False Statement\n",
    "\n",
    "Q3:Consider the following statements and choose the correct option\n",
    "\n",
    "     I - Virat has played the maximum number of matches in 2011\n",
    "     II - Virat has the highest run average in the year 2017\n",
    "     III - Virat has the maximum score in a single match and the highest run average in the year 2016.\n",
    "\n",
    "Which of the above statements is/are false?\n",
    "\n",
    "    a)I and II\n",
    "    b)I and III\n",
    "    c)II\n",
    "    d)III\n",
    "\n"
   ]
  },
  {
   "cell_type": "code",
   "execution_count": 11,
   "metadata": {},
   "outputs": [
    {
     "data": {
      "text/plain": "0      2008\n1      2008\n2      2008\n3      2008\n4      2008\n       ... \n127    2016\n128    2016\n129    2017\n130    2017\n131    2017\nName: year, Length: 132, dtype: int64"
     },
     "execution_count": 11,
     "metadata": {},
     "output_type": "execute_result"
    }
   ],
   "source": [
    "## Your code here\n",
    "df['Start Date'] = pd.to_datetime(df['Start Date'])\n",
    "df['year'] = df['Start Date'].dt.year \n",
    "df['year']"
   ]
  },
  {
   "cell_type": "code",
   "execution_count": 12,
   "metadata": {},
   "outputs": [
    {
     "data": {
      "text/plain": "year\n2011    31\n2013    23\n2014    17\n2010    16\n2012    11\n2015    10\n2016    10\n2009     6\n2008     5\n2017     3\nName: Runs, dtype: int64"
     },
     "execution_count": 12,
     "metadata": {},
     "output_type": "execute_result"
    }
   ],
   "source": [
    "df.groupby(by='year')['Runs'].count().sort_values(ascending=False)"
   ]
  },
  {
   "cell_type": "code",
   "execution_count": 13,
   "metadata": {},
   "outputs": [
    {
     "data": {
      "text/plain": "2011    31\n2013    23\n2014    17\n2010    16\n2012    11\n2015    10\n2016    10\n2009     6\n2008     5\n2017     3\nName: year, dtype: int64"
     },
     "execution_count": 13,
     "metadata": {},
     "output_type": "execute_result"
    }
   ],
   "source": [
    "df['year'].value_counts()"
   ]
  },
  {
   "cell_type": "code",
   "execution_count": 14,
   "metadata": {},
   "outputs": [
    {
     "data": {
      "text/plain": "year\n2016    73.900000\n2017    61.666667\n2014    58.529412\n2013    47.826087\n2010    45.375000\n2011    42.000000\n2012    40.363636\n2009    38.333333\n2008    31.800000\n2015    30.400000\nName: Runs, dtype: float64"
     },
     "execution_count": 14,
     "metadata": {},
     "output_type": "execute_result"
    }
   ],
   "source": [
    "df.groupby(by='year')['Runs'].mean().sort_values(ascending=False)"
   ]
  },
  {
   "cell_type": "code",
   "execution_count": 15,
   "metadata": {},
   "outputs": [
    {
     "data": {
      "text/html": "<div>\n<style scoped>\n    .dataframe tbody tr th:only-of-type {\n        vertical-align: middle;\n    }\n\n    .dataframe tbody tr th {\n        vertical-align: top;\n    }\n\n    .dataframe thead th {\n        text-align: right;\n    }\n</style>\n<table border=\"1\" class=\"dataframe\">\n  <thead>\n    <tr style=\"text-align: right;\">\n      <th></th>\n      <th>year</th>\n      <th>Runs</th>\n    </tr>\n  </thead>\n  <tbody>\n    <tr>\n      <th>126</th>\n      <td>2016</td>\n      <td>154</td>\n    </tr>\n    <tr>\n      <th>108</th>\n      <td>2014</td>\n      <td>139</td>\n    </tr>\n    <tr>\n      <th>117</th>\n      <td>2015</td>\n      <td>138</td>\n    </tr>\n    <tr>\n      <th>96</th>\n      <td>2014</td>\n      <td>136</td>\n    </tr>\n    <tr>\n      <th>66</th>\n      <td>2012</td>\n      <td>128</td>\n    </tr>\n    <tr>\n      <th>...</th>\n      <td>...</td>\n      <td>...</td>\n    </tr>\n    <tr>\n      <th>75</th>\n      <td>2013</td>\n      <td>0</td>\n    </tr>\n    <tr>\n      <th>42</th>\n      <td>2011</td>\n      <td>0</td>\n    </tr>\n    <tr>\n      <th>68</th>\n      <td>2012</td>\n      <td>0</td>\n    </tr>\n    <tr>\n      <th>15</th>\n      <td>2010</td>\n      <td>0</td>\n    </tr>\n    <tr>\n      <th>91</th>\n      <td>2013</td>\n      <td>0</td>\n    </tr>\n  </tbody>\n</table>\n<p>132 rows × 2 columns</p>\n</div>",
      "text/plain": "     year  Runs\n126  2016   154\n108  2014   139\n117  2015   138\n96   2014   136\n66   2012   128\n..    ...   ...\n75   2013     0\n42   2011     0\n68   2012     0\n15   2010     0\n91   2013     0\n\n[132 rows x 2 columns]"
     },
     "execution_count": 15,
     "metadata": {},
     "output_type": "execute_result"
    }
   ],
   "source": [
    "df[['year','Runs']].sort_values(by='Runs', ascending=False)"
   ]
  },
  {
   "cell_type": "code",
   "execution_count": 16,
   "metadata": {},
   "outputs": [
    {
     "data": {
      "text/html": "<div>\n<style scoped>\n    .dataframe tbody tr th:only-of-type {\n        vertical-align: middle;\n    }\n\n    .dataframe tbody tr th {\n        vertical-align: top;\n    }\n\n    .dataframe thead th {\n        text-align: right;\n    }\n</style>\n<table border=\"1\" class=\"dataframe\">\n  <thead>\n    <tr style=\"text-align: right;\">\n      <th></th>\n      <th>year</th>\n      <th>Runs</th>\n    </tr>\n  </thead>\n  <tbody>\n    <tr>\n      <th>126</th>\n      <td>2016</td>\n      <td>154</td>\n    </tr>\n    <tr>\n      <th>108</th>\n      <td>2014</td>\n      <td>139</td>\n    </tr>\n    <tr>\n      <th>117</th>\n      <td>2015</td>\n      <td>138</td>\n    </tr>\n    <tr>\n      <th>96</th>\n      <td>2014</td>\n      <td>136</td>\n    </tr>\n    <tr>\n      <th>66</th>\n      <td>2012</td>\n      <td>128</td>\n    </tr>\n    <tr>\n      <th>...</th>\n      <td>...</td>\n      <td>...</td>\n    </tr>\n    <tr>\n      <th>75</th>\n      <td>2013</td>\n      <td>0</td>\n    </tr>\n    <tr>\n      <th>42</th>\n      <td>2011</td>\n      <td>0</td>\n    </tr>\n    <tr>\n      <th>68</th>\n      <td>2012</td>\n      <td>0</td>\n    </tr>\n    <tr>\n      <th>15</th>\n      <td>2010</td>\n      <td>0</td>\n    </tr>\n    <tr>\n      <th>91</th>\n      <td>2013</td>\n      <td>0</td>\n    </tr>\n  </tbody>\n</table>\n<p>132 rows × 2 columns</p>\n</div>",
      "text/plain": "     year  Runs\n126  2016   154\n108  2014   139\n117  2015   138\n96   2014   136\n66   2012   128\n..    ...   ...\n75   2013     0\n42   2011     0\n68   2012     0\n15   2010     0\n91   2013     0\n\n[132 rows x 2 columns]"
     },
     "execution_count": 16,
     "metadata": {},
     "output_type": "execute_result"
    }
   ],
   "source": [
    "df[['year','Runs']].sort_values(by='Runs', ascending=False)"
   ]
  },
  {
   "cell_type": "code",
   "execution_count": 17,
   "metadata": {},
   "outputs": [
    {
     "data": {
      "text/html": "<div>\n<style scoped>\n    .dataframe tbody tr th:only-of-type {\n        vertical-align: middle;\n    }\n\n    .dataframe tbody tr th {\n        vertical-align: top;\n    }\n\n    .dataframe thead tr th {\n        text-align: left;\n    }\n</style>\n<table border=\"1\" class=\"dataframe\">\n  <thead>\n    <tr>\n      <th></th>\n      <th colspan=\"10\" halign=\"left\">mean</th>\n      <th colspan=\"10\" halign=\"left\">amax</th>\n    </tr>\n    <tr>\n      <th>year</th>\n      <th>2008</th>\n      <th>2009</th>\n      <th>2010</th>\n      <th>2011</th>\n      <th>2012</th>\n      <th>2013</th>\n      <th>2014</th>\n      <th>2015</th>\n      <th>2016</th>\n      <th>2017</th>\n      <th>2008</th>\n      <th>2009</th>\n      <th>2010</th>\n      <th>2011</th>\n      <th>2012</th>\n      <th>2013</th>\n      <th>2014</th>\n      <th>2015</th>\n      <th>2016</th>\n      <th>2017</th>\n    </tr>\n  </thead>\n  <tbody>\n    <tr>\n      <th>Runs</th>\n      <td>31.8</td>\n      <td>38.333333</td>\n      <td>45.375</td>\n      <td>42.0</td>\n      <td>40.363636</td>\n      <td>47.826087</td>\n      <td>58.529412</td>\n      <td>30.4</td>\n      <td>73.9</td>\n      <td>61.666667</td>\n      <td>54</td>\n      <td>107</td>\n      <td>118</td>\n      <td>117</td>\n      <td>128</td>\n      <td>115</td>\n      <td>139</td>\n      <td>138</td>\n      <td>154</td>\n      <td>122</td>\n    </tr>\n  </tbody>\n</table>\n</div>",
      "text/plain": "      mean                                                                  \\\nyear  2008       2009    2010  2011       2012       2013       2014  2015   \nRuns  31.8  38.333333  45.375  42.0  40.363636  47.826087  58.529412  30.4   \n\n                      amax                                               \nyear  2016       2017 2008 2009 2010 2011 2012 2013 2014 2015 2016 2017  \nRuns  73.9  61.666667   54  107  118  117  128  115  139  138  154  122  "
     },
     "execution_count": 17,
     "metadata": {},
     "output_type": "execute_result"
    }
   ],
   "source": [
    "pd.pivot_table(df,values='Runs',columns=['year'], aggfunc=[np.mean, np.max])"
   ]
  },
  {
   "cell_type": "code",
   "execution_count": 18,
   "metadata": {},
   "outputs": [
    {
     "data": {
      "text/html": "<div>\n<style scoped>\n    .dataframe tbody tr th:only-of-type {\n        vertical-align: middle;\n    }\n\n    .dataframe tbody tr th {\n        vertical-align: top;\n    }\n\n    .dataframe thead th {\n        text-align: right;\n    }\n</style>\n<table border=\"1\" class=\"dataframe\">\n  <thead>\n    <tr style=\"text-align: right;\">\n      <th>year</th>\n      <th>2008</th>\n      <th>2009</th>\n      <th>2010</th>\n      <th>2011</th>\n      <th>2012</th>\n      <th>2013</th>\n      <th>2014</th>\n      <th>2015</th>\n      <th>2016</th>\n      <th>2017</th>\n    </tr>\n  </thead>\n  <tbody>\n    <tr>\n      <th>Runs</th>\n      <td>31.8</td>\n      <td>38.333333</td>\n      <td>45.375</td>\n      <td>42.0</td>\n      <td>40.363636</td>\n      <td>47.826087</td>\n      <td>58.529412</td>\n      <td>30.4</td>\n      <td>73.9</td>\n      <td>61.666667</td>\n    </tr>\n  </tbody>\n</table>\n</div>",
      "text/plain": "year  2008       2009    2010  2011       2012       2013       2014  2015  \\\nRuns  31.8  38.333333  45.375  42.0  40.363636  47.826087  58.529412  30.4   \n\nyear  2016       2017  \nRuns  73.9  61.666667  "
     },
     "execution_count": 18,
     "metadata": {},
     "output_type": "execute_result"
    }
   ],
   "source": [
    "pd.pivot_table(df, values='Runs',columns=['year'], aggfunc=np.mean)"
   ]
  },
  {
   "cell_type": "code",
   "execution_count": 19,
   "metadata": {},
   "outputs": [
    {
     "data": {
      "text/html": "<div>\n<style scoped>\n    .dataframe tbody tr th:only-of-type {\n        vertical-align: middle;\n    }\n\n    .dataframe tbody tr th {\n        vertical-align: top;\n    }\n\n    .dataframe thead th {\n        text-align: right;\n    }\n</style>\n<table border=\"1\" class=\"dataframe\">\n  <thead>\n    <tr style=\"text-align: right;\">\n      <th>year</th>\n      <th>2008</th>\n      <th>2009</th>\n      <th>2010</th>\n      <th>2011</th>\n      <th>2012</th>\n      <th>2013</th>\n      <th>2014</th>\n      <th>2015</th>\n      <th>2016</th>\n      <th>2017</th>\n    </tr>\n  </thead>\n  <tbody>\n    <tr>\n      <th>Runs</th>\n      <td>54</td>\n      <td>107</td>\n      <td>118</td>\n      <td>117</td>\n      <td>128</td>\n      <td>115</td>\n      <td>139</td>\n      <td>138</td>\n      <td>154</td>\n      <td>122</td>\n    </tr>\n  </tbody>\n</table>\n</div>",
      "text/plain": "year  2008  2009  2010  2011  2012  2013  2014  2015  2016  2017\nRuns    54   107   118   117   128   115   139   138   154   122"
     },
     "execution_count": 19,
     "metadata": {},
     "output_type": "execute_result"
    }
   ],
   "source": [
    "pd.pivot_table(df, values='Runs',columns=['year'], aggfunc=np.max)"
   ]
  },
  {
   "cell_type": "markdown",
   "metadata": {},
   "source": [
    "#### Maximum Frequency\n",
    "\n",
    "Q4:Plot a histogram for the Mins column with 15 bins. Among the three ranges mentioned below, which one has the highest frequency?\n",
    "\n",
    "A - [54.6,68)\n",
    "\n",
    "B - [68,81.4)\n",
    "\n",
    "C - [121.6,135)\n",
    "\n",
    "    a)A - [54.6,68)\n",
    "    b)B - [68,81.4)\n",
    "    c)C - [121.6,135)\n",
    "    d)All the bin ranges have the same frequency\n"
   ]
  },
  {
   "cell_type": "code",
   "execution_count": 20,
   "metadata": {},
   "outputs": [
    {
     "data": {
      "text/html": "<div>\n<style scoped>\n    .dataframe tbody tr th:only-of-type {\n        vertical-align: middle;\n    }\n\n    .dataframe tbody tr th {\n        vertical-align: top;\n    }\n\n    .dataframe thead th {\n        text-align: right;\n    }\n</style>\n<table border=\"1\" class=\"dataframe\">\n  <thead>\n    <tr style=\"text-align: right;\">\n      <th></th>\n      <th>Runs</th>\n      <th>Mins</th>\n      <th>BF</th>\n      <th>4s</th>\n      <th>6s</th>\n      <th>SR</th>\n      <th>Pos</th>\n      <th>Dismissal</th>\n      <th>Inns</th>\n      <th>Opposition</th>\n      <th>Ground</th>\n      <th>Start Date</th>\n      <th>year</th>\n    </tr>\n  </thead>\n  <tbody>\n    <tr>\n      <th>10</th>\n      <td>107</td>\n      <td>-</td>\n      <td>114</td>\n      <td>11</td>\n      <td>1</td>\n      <td>93.85</td>\n      <td>4</td>\n      <td>caught</td>\n      <td>2</td>\n      <td>v Sri Lanka</td>\n      <td>Kolkata</td>\n      <td>2009-12-24</td>\n      <td>2009</td>\n    </tr>\n    <tr>\n      <th>13</th>\n      <td>31</td>\n      <td>-</td>\n      <td>46</td>\n      <td>1</td>\n      <td>0</td>\n      <td>67.39</td>\n      <td>5</td>\n      <td>caught</td>\n      <td>1</td>\n      <td>v South Africa</td>\n      <td>Jaipur</td>\n      <td>2010-02-21</td>\n      <td>2010</td>\n    </tr>\n    <tr>\n      <th>14</th>\n      <td>57</td>\n      <td>-</td>\n      <td>71</td>\n      <td>4</td>\n      <td>1</td>\n      <td>80.28</td>\n      <td>3</td>\n      <td>caught</td>\n      <td>2</td>\n      <td>v South Africa</td>\n      <td>Ahmedabad</td>\n      <td>2010-02-27</td>\n      <td>2010</td>\n    </tr>\n    <tr>\n      <th>51</th>\n      <td>86</td>\n      <td>-</td>\n      <td>99</td>\n      <td>11</td>\n      <td>0</td>\n      <td>86.86</td>\n      <td>4</td>\n      <td>not out</td>\n      <td>2</td>\n      <td>v England</td>\n      <td>Mumbai</td>\n      <td>2011-10-23</td>\n      <td>2011</td>\n    </tr>\n    <tr>\n      <th>105</th>\n      <td>49</td>\n      <td>-</td>\n      <td>44</td>\n      <td>2</td>\n      <td>2</td>\n      <td>111.36</td>\n      <td>4</td>\n      <td>caught</td>\n      <td>2</td>\n      <td>v Sri Lanka</td>\n      <td>Ahmedabad</td>\n      <td>2014-11-06</td>\n      <td>2014</td>\n    </tr>\n    <tr>\n      <th>106</th>\n      <td>53</td>\n      <td>-</td>\n      <td>61</td>\n      <td>4</td>\n      <td>1</td>\n      <td>86.88</td>\n      <td>4</td>\n      <td>caught</td>\n      <td>2</td>\n      <td>v Sri Lanka</td>\n      <td>Hyderabad (Deccan)</td>\n      <td>2014-11-09</td>\n      <td>2014</td>\n    </tr>\n  </tbody>\n</table>\n</div>",
      "text/plain": "     Runs Mins   BF  4s  6s      SR  Pos Dismissal  Inns      Opposition  \\\n10    107    -  114  11   1   93.85    4    caught     2     v Sri Lanka   \n13     31    -   46   1   0   67.39    5    caught     1  v South Africa   \n14     57    -   71   4   1   80.28    3    caught     2  v South Africa   \n51     86    -   99  11   0   86.86    4   not out     2       v England   \n105    49    -   44   2   2  111.36    4    caught     2     v Sri Lanka   \n106    53    -   61   4   1   86.88    4    caught     2     v Sri Lanka   \n\n                 Ground Start Date  year  \n10              Kolkata 2009-12-24  2009  \n13               Jaipur 2010-02-21  2010  \n14            Ahmedabad 2010-02-27  2010  \n51               Mumbai 2011-10-23  2011  \n105           Ahmedabad 2014-11-06  2014  \n106  Hyderabad (Deccan) 2014-11-09  2014  "
     },
     "execution_count": 20,
     "metadata": {},
     "output_type": "execute_result"
    }
   ],
   "source": [
    "df[df['Mins']=='-']"
   ]
  },
  {
   "cell_type": "code",
   "execution_count": 21,
   "metadata": {},
   "outputs": [],
   "source": [
    "df = df[df['Mins']!='-']"
   ]
  },
  {
   "cell_type": "code",
   "execution_count": 22,
   "metadata": {},
   "outputs": [],
   "source": [
    "df['Mins'] = df['Mins'].astype(int)"
   ]
  },
  {
   "cell_type": "code",
   "execution_count": 23,
   "metadata": {},
   "outputs": [
    {
     "data": {
      "image/png": "[encoded data removed]",
      "text/plain": "<Figure size 432x288 with 1 Axes>"
     },
     "metadata": {
      "needs_background": "light"
     },
     "output_type": "display_data"
    }
   ],
   "source": [
    "#Your code here\n",
    "plt.hist(df['Mins'],bins=15)\n",
    "plt.show()"
   ]
  }
 ],
 "metadata": {
  "kernelspec": {
   "display_name": "Python 3.7.9 64-bit ('venv': venv)",
   "name": "python379jvsc74a57bd0cf247013399a202eae5e7608e2ade166a9852d41f1f09169f1cf85c9062346fa"
  },
  "language_info": {
   "codemirror_mode": {
    "name": "ipython",
    "version": 3
   },
   "file_extension": ".py",
   "mimetype": "text/x-python",
   "name": "python",
   "nbconvert_exporter": "python",
   "pygments_lexer": "ipython3",
   "version": "3.7.9"
  },
  "orig_nbformat": 3
 },
 "nbformat": 4,
 "nbformat_minor": 2
}