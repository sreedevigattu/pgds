{
 "cells": [
  {
   "cell_type": "markdown",
   "metadata": {},
   "source": [
    "The `netflix` dictionary contains a list of 100 titles along with their total number of views in the past. Based on the keys and values provided in this dictionary, answer the questions given below."
   ]
  },
  {
   "cell_type": "code",
   "execution_count": 12,
   "metadata": {},
   "outputs": [],
   "source": [
    "netflix = {'The Debt Collector': 1821195, 'Act of Vengeance': 2804479, 'Paradise Lost': 2195477, \"Gerald's Game\": 3650626, 'Long Shot': 638440, 'Mak Cun': 1010311, 'Our Souls at Night': 3028705, 'Out of Thin Air': 2681938, \"Paul Hollywood's Big Continental Road Trip\": 230689, 'Satu Hari': 1012350, 'Monster High: Boo York, Boo York': 1526025, 'Cultivating the Seas: History and Future of the Full-Cycle Cultured Kindai Tuna': 2762103, 'Domino': 872663, 'TUNA GIRL': 2574816, '5CM': 2647713, 'Animal World': 220789, 'Hold the Dark': 2307432, 'Lessons from a School Shooting: Notes from Dunblane': 2419534, 'Made in Mexico': 3653712, 'Single': 239278, 'The 3rd Eye': 196138, 'The Sinking Of Van Der Wijck': 2831856, 'Two Catalonias': 1337119, 'Bobby Sands: 66 Days': 2005623, 'Bard of Blood': 744998, 'Deliha 2': 3638900, 'Dragons: Rescue Riders': 3241239, 'In the Shadow of the Moon': 1213329, 'Skylines': 1840094, 'Sturgill Simpson Presents Sound & Fury': 1915540, 'The Politician': 1019394, 'Weeds on Fire': 2273090, 'Much Loved': 3039852, 'Joseph: King of Dreams': 1734449, 'Malaal': 1926128, 'The Grandmaster': 2549410, 'The Inmate': 130965, 'The Hurricane Heist': 2191538, 'Def Comedy Jam 25': 1392697, 'Restless Creature: Wendy Whelan': 2474412, 'Print the Legend': 548250, 'Birders': 3478883, 'Furie': 2755115, 'Leap!': 1401638, 'Oh! Baby (Malayalam)': 839139, 'Oh! Baby (Tamil)': 2691505, 'USS Indianapolis: Men of Courage': 3286014, 'A Wrinkle in Time': 1258861, 'Teach Us All': 2428947, 'White Island': 1152905, 'Inside Man: Most Wanted': 2812661, 'Jeff Dunham: Beside Himself': 2930368, 'China Salesman': 3377292, 'Swearnet: The Movie': 949689, 'The Bar': 620655, 'Manmadhudu 2': 1842761, 'Team Kaylie': 359856, 'Under the Eiffel Tower': 2298237, 'Audrie & Daisy': 1573055, 'Iliza Shlesinger: Confirmed Kills': 365220, 'BONDING': 1664242, 'Do Paise Ki Dhoop Chaar Aane Ki Baarish': 2770879, '20 Feet From Stardom': 2931730, 'In Darkness': 3248749, 'Gaga: Five Foot Two': 3719550, 'The Bad Batch': 3656264, 'SMOSH: The Movie': 3697506, 'King of Boys': 584112, 'Merry Men: The Real Yoruba Demons': 2035595, \"Sarah's Key\": 1337902, 'The Wedding Party 2: Destination Dubai': 1471204, 'Vagabond': 1600432, 'Battlefish': 723021, 'DRAGON PILOT: Hisone & Masotan': 602919, 'Hilda': 54948, 'Maniac': 1348196, 'Quincy': 2601704, 'Rafinha Bastos: Ultimatum': 3469996, 'The Good Cop': 2265521, 'Between Two Ferns: The Movie': 3146508, 'Criminal: France': 2021409, 'Criminal: Germany': 658824, 'Criminal: Spain': 3078634, 'Criminal: UK': 2721398, 'Daddy Issues': 2119035, \"Inside Bill's Brain: Decoding Bill Gates\": 1755104, 'The Hockey Girls': 2000507, 'Travel Mates 2': 707260, 'True: Tricky Treat Day': 3213199, 'Two Sentence Horror Stories': 2438329, 'Mad World': 2281773, 'Mobile Suit Gundam UC': 778879, 'The Bund': 1729892, 'The First Line': 674591, 'Maynard': 84986, 'Monkey Twins': 3277179, 'Bitcoin Heist': 1450158, 'I Am Not Madame Bovary': 2763830, 'Vincent N Roxxy': 1961810, \"Chef's Table: France\": 2065738}"
   ]
  },
  {
   "cell_type": "markdown",
   "metadata": {},
   "source": [
    "#### Q1. There's an Indian movie in the dictionary named `Do Paise Ki Dhoop Chaar Aane Ki Baarish`. What is the number of views for this movie?\n",
    "- 90,854\n",
    "- 658,824\n",
    "- 1,023,597\n",
    "- 2,770,879"
   ]
  },
  {
   "cell_type": "code",
   "execution_count": 13,
   "metadata": {},
   "outputs": [
    {
     "name": "stdout",
     "output_type": "stream",
     "text": [
      "2770879\n"
     ]
    }
   ],
   "source": [
    "print(netflix['Do Paise Ki Dhoop Chaar Aane Ki Baarish'])"
   ]
  },
  {
   "cell_type": "markdown",
   "metadata": {},
   "source": [
    "#### Q2. Which of the shows is the most and least popular in terms of number of views? </br> \n",
    "(Hint: Use the `key` argument in the max() and min() functions.)\n",
    "- Monkey Twins, Maynard\n",
    "- Gaga: Five Foot Two, Hilda\n",
    "- Gerald's Game, White Island\n",
    "- Rafinha Bastos: Ultimatum, The First Line"
   ]
  },
  {
   "cell_type": "code",
   "execution_count": 14,
   "metadata": {},
   "outputs": [
    {
     "name": "stdout",
     "output_type": "stream",
     "text": [
      "{'Hilda': 54948, 'Maynard': 84986, 'The Inmate': 130965, 'The 3rd Eye': 196138, 'Animal World': 220789, \"Paul Hollywood's Big Continental Road Trip\": 230689, 'Single': 239278, 'Team Kaylie': 359856, 'Iliza Shlesinger: Confirmed Kills': 365220, 'Print the Legend': 548250, 'King of Boys': 584112, 'DRAGON PILOT: Hisone & Masotan': 602919, 'The Bar': 620655, 'Long Shot': 638440, 'Criminal: Germany': 658824, 'The First Line': 674591, 'Travel Mates 2': 707260, 'Battlefish': 723021, 'Bard of Blood': 744998, 'Mobile Suit Gundam UC': 778879, 'Oh! Baby (Malayalam)': 839139, 'Domino': 872663, 'Swearnet: The Movie': 949689, 'Mak Cun': 1010311, 'Satu Hari': 1012350, 'The Politician': 1019394, 'White Island': 1152905, 'In the Shadow of the Moon': 1213329, 'A Wrinkle in Time': 1258861, 'Two Catalonias': 1337119, \"Sarah's Key\": 1337902, 'Maniac': 1348196, 'Def Comedy Jam 25': 1392697, 'Leap!': 1401638, 'Bitcoin Heist': 1450158, 'The Wedding Party 2: Destination Dubai': 1471204, 'Monster High: Boo York, Boo York': 1526025, 'Audrie & Daisy': 1573055, 'Vagabond': 1600432, 'BONDING': 1664242, 'The Bund': 1729892, 'Joseph: King of Dreams': 1734449, \"Inside Bill's Brain: Decoding Bill Gates\": 1755104, 'The Debt Collector': 1821195, 'Skylines': 1840094, 'Manmadhudu 2': 1842761, 'Sturgill Simpson Presents Sound & Fury': 1915540, 'Malaal': 1926128, 'Vincent N Roxxy': 1961810, 'The Hockey Girls': 2000507, 'Bobby Sands: 66 Days': 2005623, 'Criminal: France': 2021409, 'Merry Men: The Real Yoruba Demons': 2035595, \"Chef's Table: France\": 2065738, 'Daddy Issues': 2119035, 'The Hurricane Heist': 2191538, 'Paradise Lost': 2195477, 'The Good Cop': 2265521, 'Weeds on Fire': 2273090, 'Mad World': 2281773, 'Under the Eiffel Tower': 2298237, 'Hold the Dark': 2307432, 'Lessons from a School Shooting: Notes from Dunblane': 2419534, 'Teach Us All': 2428947, 'Two Sentence Horror Stories': 2438329, 'Restless Creature: Wendy Whelan': 2474412, 'The Grandmaster': 2549410, 'TUNA GIRL': 2574816, 'Quincy': 2601704, '5CM': 2647713, 'Out of Thin Air': 2681938, 'Oh! Baby (Tamil)': 2691505, 'Criminal: UK': 2721398, 'Furie': 2755115, 'Cultivating the Seas: History and Future of the Full-Cycle Cultured Kindai Tuna': 2762103, 'I Am Not Madame Bovary': 2763830, 'Do Paise Ki Dhoop Chaar Aane Ki Baarish': 2770879, 'Act of Vengeance': 2804479, 'Inside Man: Most Wanted': 2812661, 'The Sinking Of Van Der Wijck': 2831856, 'Jeff Dunham: Beside Himself': 2930368, '20 Feet From Stardom': 2931730, 'Our Souls at Night': 3028705, 'Much Loved': 3039852, 'Criminal: Spain': 3078634, 'Between Two Ferns: The Movie': 3146508, 'True: Tricky Treat Day': 3213199, 'Dragons: Rescue Riders': 3241239, 'In Darkness': 3248749, 'Monkey Twins': 3277179, 'USS Indianapolis: Men of Courage': 3286014, 'China Salesman': 3377292, 'Rafinha Bastos: Ultimatum': 3469996, 'Birders': 3478883, 'Deliha 2': 3638900, \"Gerald's Game\": 3650626, 'Made in Mexico': 3653712, 'The Bad Batch': 3656264, 'SMOSH: The Movie': 3697506, 'Gaga: Five Foot Two': 3719550}\n"
     ]
    }
   ],
   "source": [
    "netflix_sorted = dict(sorted(netflix.items(), key=lambda item: item[1]))\n",
    "print(netflix_sorted)"
   ]
  },
  {
   "cell_type": "markdown",
   "metadata": {},
   "source": [
    "Netflix has just recieved the number of views for the last week as well. This data is given below, in the form of a dictionary"
   ]
  },
  {
   "cell_type": "code",
   "execution_count": 15,
   "metadata": {},
   "outputs": [],
   "source": [
    "netflix_last_week = {'The Debt Collector': 229218, 'Act of Vengeance': 191468, 'Paradise Lost': 167846, \"Gerald's Game\": 113298, 'Long Shot': 15190, 'Mak Cun': 244581, 'Our Souls at Night': 188095, 'Out of Thin Air': 183961, \"Paul Hollywood's Big Continental Road Trip\": 207967, 'Satu Hari': 226211, 'Monster High: Boo York, Boo York': 265919, 'Cultivating the Seas: History and Future of the Full-Cycle Cultured Kindai Tuna': 192246, 'Domino': 190538, 'TUNA GIRL': 301819, '5CM': 154371, 'Animal World': 228227, 'Hold the Dark': 222938, 'Lessons from a School Shooting: Notes from Dunblane': 256580, 'Made in Mexico': 199790, 'Single': 155517, 'The 3rd Eye': 251349, 'The Sinking Of Van Der Wijck': 153797, 'Two Catalonias': 189422, 'Bobby Sands: 66 Days': 202461, 'Bard of Blood': 241928, 'Deliha 2': 304552, 'Dragons: Rescue Riders': 155149, 'In the Shadow of the Moon': 222999, 'Skylines': 118737, 'Sturgill Simpson Presents Sound & Fury': 43590, 'The Politician': 11902, 'Weeds on Fire': 243382, 'Much Loved': 190123, 'Joseph: King of Dreams': 46104, 'Malaal': 70961, 'The Grandmaster': 44908, 'The Inmate': 19574, 'The Hurricane Heist': 167696, 'Def Comedy Jam 25': 208075, 'Restless Creature: Wendy Whelan': 22976, 'Print the Legend': 161584, 'Birders': 257668, 'Furie': 282266, 'Leap!': 124338, 'Oh! Baby (Malayalam)': 18203, 'Oh! Baby (Tamil)': 131481, 'USS Indianapolis: Men of Courage': 76558, 'A Wrinkle in Time': 169365, 'Teach Us All': 50378, 'White Island': 299779, 'Inside Man: Most Wanted': 123346, 'Jeff Dunham: Beside Himself': 283561, 'China Salesman': 182041, 'Swearnet: The Movie': 63809, 'The Bar': 41243, 'Manmadhudu 2': 261349, 'Team Kaylie': 101283, 'Under the Eiffel Tower': 83650, 'Audrie & Daisy': 106092, 'Iliza Shlesinger: Confirmed Kills': 255103, 'BONDING': 202683, 'Do Paise Ki Dhoop Chaar Aane Ki Baarish': 32329, '20 Feet From Stardom': 165178, 'In Darkness': 95259, 'Gaga: Five Foot Two': 36638, 'The Bad Batch': 197820, 'SMOSH: The Movie': 196519, 'King of Boys': 49332, 'Merry Men: The Real Yoruba Demons': 293229, \"Sarah's Key\": 178523, 'The Wedding Party 2: Destination Dubai': 51211, 'Vagabond': 116831, 'Battlefish': 5448, 'DRAGON PILOT: Hisone & Masotan': 281873, 'Hilda': 21348, 'Maniac': 268187, 'Quincy': 139696, 'Rafinha Bastos: Ultimatum': 105449, 'The Good Cop': 73230, 'Between Two Ferns: The Movie': 135600, 'Criminal: France': 243469, 'Criminal: Germany': 285211, 'Criminal: Spain': 45184, 'Criminal: UK': 117056, 'Daddy Issues': 267329, \"Inside Bill's Brain: Decoding Bill Gates\": 64083, 'The Hockey Girls': 114146, 'Travel Mates 2': 21088, 'True: Tricky Treat Day': 116504, 'Two Sentence Horror Stories': 274471, 'Mad World': 225244, 'Mobile Suit Gundam UC': 47306, 'The Bund': 146872, 'The First Line': 148861, 'Maynard': 87252, 'Monkey Twins': 199274, 'Bitcoin Heist': 41105, 'I Am Not Madame Bovary': 57841, 'Vincent N Roxxy': 207453, \"Chef's Table: France\": 200536}"
   ]
  },
  {
   "cell_type": "markdown",
   "metadata": {},
   "source": [
    "#### Q3. Netflix has just recieved the number of views for the last week as well. Add these views to the total views and find the most popular title in terms of views. Also find out how many views this title has? \n",
    "- Title: Deliha 2, Views: 3943452\n",
    "- Title: Dragons: Rescue Riders, Views: 3996388\n",
    "- Title: Rafinha Bastos: Ultimatum, Views: 3575445\n",
    "- Title: Gaga: Five Foot Two, Views: 3756188"
   ]
  },
  {
   "cell_type": "code",
   "execution_count": 17,
   "metadata": {},
   "outputs": [
    {
     "name": "stdout",
     "output_type": "stream",
     "text": [
      "{'Hilda': 76296, 'The Inmate': 150539, 'Maynard': 172238, 'Single': 394795, \"Paul Hollywood's Big Continental Road Trip\": 438656, 'The 3rd Eye': 447487, 'Animal World': 449016, 'Team Kaylie': 461139, 'Iliza Shlesinger: Confirmed Kills': 620323, 'King of Boys': 633444, 'Long Shot': 653630, 'The Bar': 661898, 'Print the Legend': 709834, 'Travel Mates 2': 728348, 'Battlefish': 728469, 'The First Line': 823452, 'Mobile Suit Gundam UC': 826185, 'Oh! Baby (Malayalam)': 857342, 'DRAGON PILOT: Hisone & Masotan': 884792, 'Criminal: Germany': 944035, 'Bard of Blood': 986926, 'Swearnet: The Movie': 1013498, 'The Politician': 1031296, 'Domino': 1063201, 'Satu Hari': 1238561, 'Mak Cun': 1254892, 'A Wrinkle in Time': 1428226, 'In the Shadow of the Moon': 1436328, 'White Island': 1452684, 'Bitcoin Heist': 1491263, \"Sarah's Key\": 1516425, 'The Wedding Party 2: Destination Dubai': 1522415, 'Leap!': 1525976, 'Two Catalonias': 1526541, 'Def Comedy Jam 25': 1600772, 'Maniac': 1616383, 'Audrie & Daisy': 1679147, 'Vagabond': 1717263, 'Joseph: King of Dreams': 1780553, 'Monster High: Boo York, Boo York': 1791944, \"Inside Bill's Brain: Decoding Bill Gates\": 1819187, 'BONDING': 1866925, 'The Bund': 1876764, 'Skylines': 1958831, 'Sturgill Simpson Presents Sound & Fury': 1959130, 'Malaal': 1997089, 'The Debt Collector': 2050413, 'Manmadhudu 2': 2104110, 'The Hockey Girls': 2114653, 'Vincent N Roxxy': 2169263, 'Bobby Sands: 66 Days': 2208084, 'Criminal: France': 2264878, \"Chef's Table: France\": 2266274, 'Merry Men: The Real Yoruba Demons': 2328824, 'The Good Cop': 2338751, 'The Hurricane Heist': 2359234, 'Paradise Lost': 2363323, 'Under the Eiffel Tower': 2381887, 'Daddy Issues': 2386364, 'Teach Us All': 2479325, 'Restless Creature: Wendy Whelan': 2497388, 'Mad World': 2507017, 'Weeds on Fire': 2516472, 'Hold the Dark': 2530370, 'The Grandmaster': 2594318, 'Lessons from a School Shooting: Notes from Dunblane': 2676114, 'Two Sentence Horror Stories': 2712800, 'Quincy': 2741400, '5CM': 2802084, 'Do Paise Ki Dhoop Chaar Aane Ki Baarish': 2803208, 'I Am Not Madame Bovary': 2821671, 'Oh! Baby (Tamil)': 2822986, 'Criminal: UK': 2838454, 'Out of Thin Air': 2865899, 'TUNA GIRL': 2876635, 'Inside Man: Most Wanted': 2936007, 'Cultivating the Seas: History and Future of the Full-Cycle Cultured Kindai Tuna': 2954349, 'The Sinking Of Van Der Wijck': 2985653, 'Act of Vengeance': 2995947, 'Furie': 3037381, '20 Feet From Stardom': 3096908, 'Criminal: Spain': 3123818, 'Jeff Dunham: Beside Himself': 3213929, 'Our Souls at Night': 3216800, 'Much Loved': 3229975, 'Between Two Ferns: The Movie': 3282108, 'True: Tricky Treat Day': 3329703, 'In Darkness': 3344008, 'USS Indianapolis: Men of Courage': 3362572, 'Dragons: Rescue Riders': 3396388, 'Monkey Twins': 3476453, 'China Salesman': 3559333, 'Rafinha Bastos: Ultimatum': 3575445, 'Birders': 3736551, 'Gaga: Five Foot Two': 3756188, \"Gerald's Game\": 3763924, 'Made in Mexico': 3853502, 'The Bad Batch': 3854084, 'SMOSH: The Movie': 3894025, 'Deliha 2': 3943452}\n"
     ]
    }
   ],
   "source": [
    "for movie, views in netflix_last_week.items():\n",
    "    if movie in netflix:\n",
    "        netflix[movie] = netflix[movie]+views\n",
    "    else: \n",
    "        netflix[movie] = views\n",
    "        print(movie, views)\n",
    "\n",
    "netflix_sorted = dict(sorted(netflix.items(), key=lambda item: item[1]))\n",
    "print(netflix_sorted)"
   ]
  },
  {
   "cell_type": "code",
   "execution_count": 10,
   "metadata": {},
   "outputs": [
    {
     "name": "stdout",
     "output_type": "stream",
     "text": [
      "3680894\n"
     ]
    }
   ],
   "source": [
    "print(netflix_sorted['Rafinha Bastos: Ultimatum'])"
   ]
  },
  {
   "cell_type": "code",
   "execution_count": 11,
   "metadata": {},
   "outputs": [
    {
     "name": "stdout",
     "output_type": "stream",
     "text": [
      "3792826\n"
     ]
    }
   ],
   "source": [
    "print(netflix['Gaga: Five Foot Two'])"
   ]
  },
  {
   "cell_type": "code",
   "execution_count": 2,
   "metadata": {},
   "outputs": [
    {
     "name": "stdout",
     "output_type": "stream",
     "text": [
      "orange\n"
     ]
    },
    {
     "data": {
      "text/plain": "[None]"
     },
     "execution_count": 2,
     "metadata": {},
     "output_type": "execute_result"
    }
   ],
   "source": [
    "[print(color) for color in ['red', 'green', 'blue', 'orange', 'yellow'] if color[0] in 'aeiouAEIOU']"
   ]
  },
  {
   "cell_type": "code",
   "execution_count": 3,
   "metadata": {},
   "outputs": [
    {
     "data": {
      "text/plain": "{'ironman': 7, 'thor': 4, 'spiderman': 9, 'Capt. America': 13}"
     },
     "execution_count": 3,
     "metadata": {},
     "output_type": "execute_result"
    }
   ],
   "source": [
    "heroes=['ironman','thor','spiderman','Capt. America']\n",
    "{hero: len(hero) for hero in heroes}"
   ]
  },
  {
   "cell_type": "code",
   "execution_count": 7,
   "metadata": {},
   "outputs": [
    {
     "data": {
      "text/plain": "{'Milk': 203.0, 'Butter': 105.0, 'Bread': 224.0}"
     },
     "execution_count": 7,
     "metadata": {},
     "output_type": "execute_result"
    }
   ],
   "source": [
    "grocery_items = {'Milk':2.9,'Butter':1.5,'Bread':3.2}\n",
    "{ item: price*70 for item, price in grocery_items.items() }"
   ]
  },
  {
   "cell_type": "code",
   "execution_count": 16,
   "metadata": {},
   "outputs": [],
   "source": [
    "wm = lambda : \"Hi Guys\"\n",
    "sq = lambda x : x * x"
   ]
  },
  {
   "cell_type": "code",
   "execution_count": 14,
   "metadata": {},
   "outputs": [
    {
     "data": {
      "text/plain": "484"
     },
     "execution_count": 14,
     "metadata": {},
     "output_type": "execute_result"
    }
   ],
   "source": [
    "wm()\n",
    "sq(22)"
   ]
  },
  {
   "cell_type": "code",
   "execution_count": 27,
   "metadata": {},
   "outputs": [],
   "source": [
    "nba_players_weights=[118,210,165,189,145]"
   ]
  },
  {
   "cell_type": "code",
   "execution_count": 19,
   "metadata": {},
   "outputs": [
    {
     "data": {
      "text/plain": "[53.1, 94.5, 74.25, 85.05, 65.25]"
     },
     "execution_count": 19,
     "metadata": {},
     "output_type": "execute_result"
    }
   ],
   "source": [
    "pd2kg = lambda w : w * 0.45\n",
    "[pd2kg(weight) for weight in nba_players_weights]"
   ]
  },
  {
   "cell_type": "code",
   "execution_count": 25,
   "metadata": {},
   "outputs": [],
   "source": [
    "garbage=['hello',100,True,200,False,[10,20],300, 10.9]"
   ]
  },
  {
   "cell_type": "code",
   "execution_count": 26,
   "metadata": {},
   "outputs": [
    {
     "data": {
      "text/plain": "[100, 200, 300]"
     },
     "execution_count": 26,
     "metadata": {},
     "output_type": "execute_result"
    }
   ],
   "source": [
    "list(filter(lambda x: isinstance(x, int) and not isinstance(x, bool), garbage))"
   ]
  },
  {
   "cell_type": "code",
   "execution_count": 17,
   "metadata": {},
   "outputs": [],
   "source": [
    "pokemons = open(\"data/pokemon.csv\").readlines()\n",
    "pokemons = pokemons[1:] # Remove header\n",
    "pokemons_5 = pokemons[:5]\n"
   ]
  },
  {
   "cell_type": "code",
   "execution_count": 18,
   "metadata": {},
   "outputs": [
    {
     "data": {
      "text/plain": "['Bulbasaur,Grass\\n',\n 'Ivysaur,Grass\\n',\n 'Venusaur,Grass\\n',\n 'Charmander,Fire\\n',\n 'Charmeleon,Fire\\n']"
     },
     "execution_count": 18,
     "metadata": {},
     "output_type": "execute_result"
    }
   ],
   "source": [
    "pokemons_5"
   ]
  },
  {
   "cell_type": "code",
   "execution_count": 25,
   "metadata": {},
   "outputs": [
    {
     "data": {
      "text/plain": "['Bulbasaur', 'Ivysaur', 'Venusaur']"
     },
     "execution_count": 25,
     "metadata": {},
     "output_type": "execute_result"
    }
   ],
   "source": [
    "pokemons_titles = [line.split(',')[0] for line in pokemons]\n",
    "pokemons_titles[:3]"
   ]
  },
  {
   "cell_type": "code",
   "execution_count": 27,
   "metadata": {},
   "outputs": [
    {
     "name": "stdout",
     "output_type": "stream",
     "text": [
      "721\n"
     ]
    }
   ],
   "source": [
    "pokemons_dict = {line.split(',')[0]:line.split(',')[1].strip() for line in pokemons}\n",
    "print(len(pokemons_dict)) "
   ]
  },
  {
   "cell_type": "code",
   "execution_count": 28,
   "metadata": {},
   "outputs": [
    {
     "data": {
      "text/plain": "['Bulbasaur', 'Ivysaur', 'Venusaur']"
     },
     "execution_count": 28,
     "metadata": {},
     "output_type": "execute_result"
    }
   ],
   "source": [
    "pokemons_titles_2 = list(map(lambda line: line.split(',')[0], pokemons))\n",
    "pokemons_titles_2[0:3]"
   ]
  },
  {
   "cell_type": "code",
   "execution_count": 36,
   "metadata": {},
   "outputs": [
    {
     "data": {
      "text/plain": "{'Bug',\n 'Dark',\n 'Dragon',\n 'Electric',\n 'Fairy',\n 'Fighting',\n 'Fire',\n 'Flying',\n 'Ghost',\n 'Grass',\n 'Ground',\n 'Ice',\n 'Normal',\n 'Poison',\n 'Psychic',\n 'Rock',\n 'Steel',\n 'Water'}"
     },
     "execution_count": 36,
     "metadata": {},
     "output_type": "execute_result"
    }
   ],
   "source": [
    "pokemons_types = set(map(lambda line: line.split(',')[1].strip(), pokemons))\n",
    "pokemons_types"
   ]
  },
  {
   "cell_type": "code",
   "execution_count": 46,
   "metadata": {},
   "outputs": [
    {
     "name": "stdout",
     "output_type": "stream",
     "text": [
      "Flying | Ground | Fairy | Steel | Fighting | Psychic | Dark | Poison | Rock | Normal | Dragon | Ice | Fire | Grass | Bug | Water | Ghost | Electric | \n"
     ]
    }
   ],
   "source": [
    "for i in pokemons_types:\n",
    "    print(i, end=\" | \")\n",
    "print()"
   ]
  },
  {
   "cell_type": "code",
   "execution_count": null,
   "metadata": {},
   "outputs": [],
   "source": [
    "# Exercise :\n",
    "\n",
    "# prepare a  dictionary in the format below:\n",
    "\n",
    "# { Fire : 999, Water: 122, Bug: 34..}\n",
    "\n",
    "# key: pokemon Type\n",
    "# value: count of pokemon of similar type"
   ]
  },
  {
   "cell_type": "code",
   "execution_count": null,
   "metadata": {},
   "outputs": [],
   "source": [
    "# Exercise:\n",
    "\n",
    "# prepare a dictionary in the format below\n",
    "\n",
    "# { Fire: ['A','B','C'],Water :['X','Y','Z']..}\n",
    "\n",
    "# key : pokemonType\n",
    "# value: list of pokemontitles of similar type"
   ]
  }
 ],
 "metadata": {
  "kernelspec": {
   "display_name": "Python 3.7.9 64-bit",
   "name": "python379jvsc74a57bd0aee8b7b246df8f9039afb4144a1f6fd8d2ca17a180786b69acc140d282b71a49"
  },
  "language_info": {
   "codemirror_mode": {
    "name": "ipython",
    "version": 3
   },
   "file_extension": ".py",
   "mimetype": "text/x-python",
   "name": "python",
   "nbconvert_exporter": "python",
   "pygments_lexer": "ipython3",
   "version": "3.7.9"
  },
  "metadata": {
   "interpreter": {
    "hash": "aee8b7b246df8f9039afb4144a1f6fd8d2ca17a180786b69acc140d282b71a49"
   }
  },
  "orig_nbformat": 3
 },
 "nbformat": 4,
 "nbformat_minor": 2
}