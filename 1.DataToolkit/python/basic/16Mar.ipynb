{
 "cells": [
  {
   "cell_type": "code",
   "execution_count": 7,
   "metadata": {},
   "outputs": [
    {
     "name": "stdout",
     "output_type": "stream",
     "text": [
      "l1 [1, 2, 3, 4, 5]\n",
      "l2 [1, 2, 3, 4, 5]\n",
      "l3 [1, 2, 3, 4, 5]\n",
      "l41 [1, 2, 3, 4, 5]\n",
      "l42 [1, 2, 3, 4, 5]\n",
      "\n",
      "l1 [1, 2, 9, 4, 5]\n",
      "l2 [1, 2, 9, 4, 5]\n",
      "l3 [1, 2, 3, 4, 5]\n",
      "l41 [1, 2, 3, 4, 5]\n",
      "l42 [1, 2, 3, 4, 5]\n",
      "\n"
     ]
    }
   ],
   "source": [
    "l1 = [1, 2, 3, 4 ,5]\n",
    "l2 = l1\n",
    "\n",
    "l3 = l1.copy()\n",
    "\n",
    "import copy\n",
    "l41 = copy.copy(l1)\n",
    "l42 = copy.deepcopy(l1)\n",
    "print(\"l1\", l1); print(\"l2\",l2);print(\"l3\", l3);print(\"l41\", l41);print(\"l42\", l42);print()\n",
    "\n",
    "l1[2] = 9\n",
    "print(\"l1\", l1); print(\"l2\",l2);print(\"l3\", l3);print(\"l41\", l41);print(\"l42\", l42);print()\n",
    "\n",
    "# Press 'Shift + Enter' to execute the cell."
   ]
  },
  {
   "cell_type": "code",
   "execution_count": 10,
   "metadata": {},
   "outputs": [
    {
     "name": "stdout",
     "output_type": "stream",
     "text": [
      "l1 hello python\n",
      "l2 hello python\n",
      "l3 hello python\n",
      "l41 hello python\n",
      "l42 hello python\n",
      "\n",
      "l1 bye python\n",
      "l2 hello python\n",
      "l3 hello python\n",
      "l41 hello python\n",
      "l42 hello python\n",
      "\n"
     ]
    }
   ],
   "source": [
    "l1 = \"hello python\"\n",
    "l2 = l1\n",
    "l3 = l1\n",
    "#l3 = l1.copy()\n",
    "\n",
    "import copy\n",
    "l41 = copy.copy(l1)\n",
    "l42 = copy.deepcopy(l1)\n",
    "print(\"l1\", l1); print(\"l2\",l2);print(\"l3\", l3);print(\"l41\", l41);print(\"l42\", l42);print()\n",
    "\n",
    "l1 = \"bye python\"\n",
    "print(\"l1\", l1); print(\"l2\",l2);print(\"l3\", l3);print(\"l41\", l41);print(\"l42\", l42);print()\n"
   ]
  },
  {
   "cell_type": "code",
   "execution_count": 13,
   "metadata": {},
   "outputs": [
    {
     "name": "stdout",
     "output_type": "stream",
     "text": [
      "c\n",
      "s\n",
      "s\n",
      "b\n",
      "d\n"
     ]
    },
    {
     "data": {
      "text/plain": "[None, None, None, None, None]"
     },
     "execution_count": 13,
     "metadata": {},
     "output_type": "execute_result"
    }
   ],
   "source": [
    "message = \"candy sugar start butterfly daisy\"\n",
    "message_list = message.split()\n",
    "([print(m[0]) for m in message_list])"
   ]
  },
  {
   "cell_type": "code",
   "execution_count": 16,
   "metadata": {},
   "outputs": [
    {
     "name": "stdout",
     "output_type": "stream",
     "text": [
      "i*phone\n",
      "mac*book\n",
      "i*pad\n"
     ]
    },
    {
     "data": {
      "text/plain": "[None, None, None]"
     },
     "execution_count": 16,
     "metadata": {},
     "output_type": "execute_result"
    }
   ],
   "source": [
    "giftbox = \"i*phone LLoyd mac*book zoomtv i*pad oneplus\"\n",
    "giftbox_l = giftbox.split()\n",
    "[print(item) for item in giftbox_l if '*' in item]\n"
   ]
  },
  {
   "cell_type": "code",
   "execution_count": 18,
   "metadata": {},
   "outputs": [
    {
     "name": "stdout",
     "output_type": "stream",
     "text": [
      "#Waking\n",
      "#morning\n",
      "#eye-opening\n"
     ]
    },
    {
     "data": {
      "text/plain": "[None, None, None]"
     },
     "execution_count": 18,
     "metadata": {},
     "output_type": "execute_result"
    }
   ],
   "source": [
    "tweet = \"#Waking up this #morning was an #eye-opening experience for me\"\n",
    "[print(word) for word in tweet.split() if '#' in word ]"
   ]
  },
  {
   "cell_type": "code",
   "execution_count": 19,
   "metadata": {},
   "outputs": [
    {
     "name": "stdout",
     "output_type": "stream",
     "text": [
      "Einstein.A\n",
      "Curie.M\n",
      "Newton.I\n",
      "Hawking.S\n"
     ]
    }
   ],
   "source": [
    "scientists = \"Albest Einstein, Marie Curie, Issac Newton, Stephen Hawking\"\n",
    "scientists_list = scientists.split(',')\n",
    "\n",
    "for scientist in scientists_list:\n",
    "    first_name, last_name = scientist.split()\n",
    "    print(f\"{last_name}.{first_name[0]}\")"
   ]
  },
  {
   "cell_type": "code",
   "execution_count": 23,
   "metadata": {},
   "outputs": [
    {
     "name": "stdout",
     "output_type": "stream",
     "text": [
      "['pickle', 'pen', 'apple', 'jar']\n"
     ]
    }
   ],
   "source": [
    "bucket=[]\n",
    "shopping_cart  = ['pickle','pen','apple','pickle','jar','pen','jar']\n",
    "for product in shopping_cart:\n",
    "    if product not in bucket:\n",
    "        bucket.append(product)\n",
    "print(bucket)"
   ]
  },
  {
   "cell_type": "code",
   "execution_count": 35,
   "metadata": {},
   "outputs": [
    {
     "name": "stdout",
     "output_type": "stream",
     "text": [
      "hello\n"
     ]
    }
   ],
   "source": [
    "# ** Given this nested list, use indexing to grab the word \"hello\" **\n",
    "lst = [1,2,[3,4],[5,[100,200,['hello']],23,11],1,7]\n",
    "\n",
    "print(lst[3][1][2][0])"
   ]
  },
  {
   "cell_type": "code",
   "execution_count": 37,
   "metadata": {},
   "outputs": [
    {
     "name": "stdout",
     "output_type": "stream",
     "text": [
      "hello\n"
     ]
    }
   ],
   "source": [
    "# ** Given this nested dictionary grab the word \"hello\". Be prepared, this will be annoying/tricky **\n",
    "d = {'k1':[1,2,3,{'tricky':['oh','man','inception',{'target':[1,2,3,'hello']}]}]}\n",
    "print(d['k1'][3]['tricky'][3]['target'][3])"
   ]
  },
  {
   "cell_type": "code",
   "execution_count": null,
   "metadata": {},
   "outputs": [],
   "source": [
    "'''\n",
    "Given a string, return the sum and average of the digits that appear in the string, ignoring all other characters Given:\n",
    "str1 = \"English = 78 Science = 83 Math = 68 History = 65\"\n",
    "Expected Outcome:\n",
    "sum is 294\n",
    "average is 73.5\n",
    "'''"
   ]
  },
  {
   "cell_type": "code",
   "execution_count": 48,
   "metadata": {},
   "outputs": [
    {
     "name": "stdout",
     "output_type": "stream",
     "text": [
      "['English', '=', '78', 'Science', '=', '83', 'Math', '=', '68', 'History', '=', '65']\n",
      "78\n",
      "83\n",
      "68\n",
      "65\n",
      "294\n",
      "73.5\n"
     ]
    }
   ],
   "source": [
    "str1 = \"English = 78 Science = 83 Math = 68 History = 65\"\n",
    "sub_marks = str1.split()\n",
    "print(sub_marks)\n",
    "sum, count = 0, 0\n",
    "for i in range(2, len(sub_marks), 3):\n",
    "    print(sub_marks[i])\n",
    "    sum += int(sub_marks[i])\n",
    "    count += 1\n",
    "print(sum)\n",
    "print(sum/count)"
   ]
  },
  {
   "cell_type": "code",
   "execution_count": null,
   "metadata": {},
   "outputs": [],
   "source": [
    "'''\n",
    "Finall Call\n",
    "Game: Guess the number (2 players)\n",
    "\n",
    "computerChoice = generate a random number between 1 and 20\n",
    "\n",
    "playerChoice = ask the user to enter a no between 1 and 20\n",
    "\n",
    "if the playerChoice is greater then computerChoice display \" your guess is too high\" if the playerChoice is lesser then computerChoice display \"your guess is too low\"\n",
    "\n",
    "if the playerChoice matches with computerChoice display \"Gotcha! you guessed it right\"\n",
    "\n",
    "a user can take a max of 6 attempts after all attempts are exhausted\n",
    "print 'please try later'\n",
    "'''"
   ]
  },
  {
   "cell_type": "code",
   "execution_count": 49,
   "metadata": {},
   "outputs": [
    {
     "name": "stdout",
     "output_type": "stream",
     "text": [
      " your guess is too low\n",
      " your guess is too high\n",
      " your guess is too low\n",
      " your guess is too low\n",
      " your guess is too low\n",
      "Gotcha! you guessed it right\n"
     ]
    }
   ],
   "source": [
    "import random\n",
    "computerChoice = random.randint(1, 20)\n",
    "\n",
    "guessedRight = False\n",
    "for i in range(6):\n",
    "    playerChoice = int(input(\"Enter a number between 1 and 20\"))\n",
    "    if playerChoice > computerChoice:\n",
    "        print(\" your guess is too high\")\n",
    "    elif playerChoice < computerChoice:\n",
    "        print(\" your guess is too low\")\n",
    "    else:\n",
    "        guessedRight = True\n",
    "        print(\"Gotcha! you guessed it right\")\n",
    "        break\n",
    "\n",
    "if guessedRight == False:\n",
    "    print('please try later')\n"
   ]
  }
 ],
 "metadata": {
  "kernelspec": {
   "display_name": "Python 3.9.1 64-bit ('venv')",
   "name": "python391jvsc74a57bd0e7be31647b4c2eef312028cafbb691a9d17475ed79b7c3ef17d5a313378b5b92"
  },
  "language_info": {
   "codemirror_mode": {
    "name": "ipython",
    "version": 3
   },
   "file_extension": ".py",
   "mimetype": "text/x-python",
   "name": "python",
   "nbconvert_exporter": "python",
   "pygments_lexer": "ipython3",
   "version": "3.9.1"
  },
  "metadata": {
   "interpreter": {
    "hash": "e7be31647b4c2eef312028cafbb691a9d17475ed79b7c3ef17d5a313378b5b92"
   }
  },
  "orig_nbformat": 3
 },
 "nbformat": 4,
 "nbformat_minor": 2
}