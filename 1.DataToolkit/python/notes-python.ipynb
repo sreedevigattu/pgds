{
 "cells": [
  {
   "cell_type": "code",
   "execution_count": 1,
   "source": [
    " import ast\n",
    " ast.literal_eval"
   ],
   "outputs": [
    {
     "output_type": "execute_result",
     "data": {
      "text/plain": [
       "<function ast.literal_eval(node_or_string)>"
      ]
     },
     "metadata": {},
     "execution_count": 1
    }
   ],
   "metadata": {}
  }
 ],
 "metadata": {
  "orig_nbformat": 4,
  "language_info": {
   "name": "python",
   "version": "3.7.9",
   "mimetype": "text/x-python",
   "codemirror_mode": {
    "name": "ipython",
    "version": 3
   },
   "pygments_lexer": "ipython3",
   "nbconvert_exporter": "python",
   "file_extension": ".py"
  },
  "kernelspec": {
   "name": "python3",
   "display_name": "Python 3.7.9 64-bit ('venv': venv)"
  },
  "interpreter": {
   "hash": "f97d34db9510eee530bd15462a1472e6c8ea8cdd282363a5122dd2d3fb534a0c"
  }
 },
 "nbformat": 4,
 "nbformat_minor": 2
}