{
 "cells": [
  {
   "cell_type": "code",
   "execution_count": 1,
   "metadata": {},
   "outputs": [],
   "source": [
    "import numpy as np\n",
    "import pandas as pd"
   ]
  },
  {
   "cell_type": "code",
   "execution_count": 19,
   "metadata": {},
   "outputs": [
    {
     "data": {
      "text/html": "<div>\n<style scoped>\n    .dataframe tbody tr th:only-of-type {\n        vertical-align: middle;\n    }\n\n    .dataframe tbody tr th {\n        vertical-align: top;\n    }\n\n    .dataframe thead th {\n        text-align: right;\n    }\n</style>\n<table border=\"1\" class=\"dataframe\">\n  <thead>\n    <tr style=\"text-align: right;\">\n      <th></th>\n      <th>Order ID</th>\n      <th>Product Name</th>\n      <th>Discount</th>\n      <th>Sales</th>\n      <th>Profit</th>\n      <th>Quantity</th>\n      <th>Category</th>\n      <th>Sub-Category</th>\n    </tr>\n  </thead>\n  <tbody>\n    <tr>\n      <th>0</th>\n      <td>AZ-2011-1029887</td>\n      <td>Novimex Color Coded Labels, 5000 Label Set</td>\n      <td>0.0</td>\n      <td>26</td>\n      <td>7</td>\n      <td>2</td>\n      <td>Office Supplies</td>\n      <td>Labels</td>\n    </tr>\n    <tr>\n      <th>1</th>\n      <td>AZ-2011-107716</td>\n      <td>Deflect-O Door Stop, Erganomic</td>\n      <td>0.0</td>\n      <td>85</td>\n      <td>15</td>\n      <td>2</td>\n      <td>Furniture</td>\n      <td>Furnishings</td>\n    </tr>\n    <tr>\n      <th>2</th>\n      <td>AZ-2011-1087704</td>\n      <td>Belkin Flash Drive, Bluetooth</td>\n      <td>0.0</td>\n      <td>294</td>\n      <td>109</td>\n      <td>7</td>\n      <td>Technology</td>\n      <td>Accessories</td>\n    </tr>\n    <tr>\n      <th>3</th>\n      <td>AZ-2011-1372644</td>\n      <td>Panasonic Printer, Durable</td>\n      <td>0.0</td>\n      <td>800</td>\n      <td>168</td>\n      <td>3</td>\n      <td>Technology</td>\n      <td>Machines</td>\n    </tr>\n    <tr>\n      <th>4</th>\n      <td>AZ-2011-1362199</td>\n      <td>Sanford Pens, Fluorescent</td>\n      <td>0.5</td>\n      <td>25</td>\n      <td>-11</td>\n      <td>4</td>\n      <td>Office Supplies</td>\n      <td>Art</td>\n    </tr>\n  </tbody>\n</table>\n</div>",
      "text/plain": "          Order ID                                Product Name  Discount  \\\n0  AZ-2011-1029887  Novimex Color Coded Labels, 5000 Label Set       0.0   \n1   AZ-2011-107716              Deflect-O Door Stop, Erganomic       0.0   \n2  AZ-2011-1087704               Belkin Flash Drive, Bluetooth       0.0   \n3  AZ-2011-1372644                  Panasonic Printer, Durable       0.0   \n4  AZ-2011-1362199                   Sanford Pens, Fluorescent       0.5   \n\n   Sales  Profit  Quantity         Category Sub-Category  \n0     26       7         2  Office Supplies       Labels  \n1     85      15         2        Furniture  Furnishings  \n2    294     109         7       Technology  Accessories  \n3    800     168         3       Technology     Machines  \n4     25     -11         4  Office Supplies          Art  "
     },
     "execution_count": 19,
     "metadata": {},
     "output_type": "execute_result"
    }
   ],
   "source": [
    "df = pd.read_csv(\"Data/MegaMart_sales.csv\")\n",
    "df.head()"
   ]
  },
  {
   "cell_type": "code",
   "execution_count": 20,
   "metadata": {},
   "outputs": [
    {
     "data": {
      "text/html": "<div>\n<style scoped>\n    .dataframe tbody tr th:only-of-type {\n        vertical-align: middle;\n    }\n\n    .dataframe tbody tr th {\n        vertical-align: top;\n    }\n\n    .dataframe thead th {\n        text-align: right;\n    }\n</style>\n<table border=\"1\" class=\"dataframe\">\n  <thead>\n    <tr style=\"text-align: right;\">\n      <th></th>\n      <th>Order ID</th>\n      <th>Product Name</th>\n      <th>Discount</th>\n      <th>Sales</th>\n      <th>Profit</th>\n      <th>Quantity</th>\n      <th>Category</th>\n      <th>Sub-Category</th>\n    </tr>\n  </thead>\n  <tbody>\n    <tr>\n      <th>0</th>\n      <td>AZ-2011-1902971</td>\n      <td>Wilson Jones Binding Machine, Clear</td>\n      <td>0.0</td>\n      <td>339</td>\n      <td>102</td>\n      <td>7</td>\n      <td>Office Supplies</td>\n      <td>Binders</td>\n    </tr>\n    <tr>\n      <th>1</th>\n      <td>AZ-2011-1916360</td>\n      <td>Dania 3-Shelf Cabinet, Mobile</td>\n      <td>0.0</td>\n      <td>288</td>\n      <td>20</td>\n      <td>2</td>\n      <td>Furniture</td>\n      <td>Bookcases</td>\n    </tr>\n    <tr>\n      <th>2</th>\n      <td>AZ-2011-1916555</td>\n      <td>Eldon Folders, Single Width</td>\n      <td>0.4</td>\n      <td>61</td>\n      <td>7</td>\n      <td>6</td>\n      <td>Office Supplies</td>\n      <td>Storage</td>\n    </tr>\n    <tr>\n      <th>3</th>\n      <td>AZ-2011-1930058</td>\n      <td>Sanford Markers, Easy-Erase</td>\n      <td>0.0</td>\n      <td>71</td>\n      <td>1</td>\n      <td>3</td>\n      <td>Office Supplies</td>\n      <td>Art</td>\n    </tr>\n    <tr>\n      <th>4</th>\n      <td>AZ-2011-1967754</td>\n      <td>Logitech Numeric Keypad, USB</td>\n      <td>0.0</td>\n      <td>93</td>\n      <td>40</td>\n      <td>2</td>\n      <td>Technology</td>\n      <td>Accessories</td>\n    </tr>\n  </tbody>\n</table>\n</div>",
      "text/plain": "          Order ID                         Product Name  Discount  Sales  \\\n0  AZ-2011-1902971  Wilson Jones Binding Machine, Clear       0.0    339   \n1  AZ-2011-1916360        Dania 3-Shelf Cabinet, Mobile       0.0    288   \n2  AZ-2011-1916555          Eldon Folders, Single Width       0.4     61   \n3  AZ-2011-1930058          Sanford Markers, Easy-Erase       0.0     71   \n4  AZ-2011-1967754         Logitech Numeric Keypad, USB       0.0     93   \n\n   Profit  Quantity         Category Sub-Category  \n0     102         7  Office Supplies      Binders  \n1      20         2        Furniture    Bookcases  \n2       7         6  Office Supplies      Storage  \n3       1         3  Office Supplies          Art  \n4      40         2       Technology  Accessories  "
     },
     "execution_count": 20,
     "metadata": {},
     "output_type": "execute_result"
    }
   ],
   "source": [
    "df_new = pd.read_csv(\"Data/MegaMart_newsales.csv\")\n",
    "df_new.head()"
   ]
  },
  {
   "cell_type": "code",
   "execution_count": 21,
   "metadata": {},
   "outputs": [
    {
     "data": {
      "text/html": "<div>\n<style scoped>\n    .dataframe tbody tr th:only-of-type {\n        vertical-align: middle;\n    }\n\n    .dataframe tbody tr th {\n        vertical-align: top;\n    }\n\n    .dataframe thead th {\n        text-align: right;\n    }\n</style>\n<table border=\"1\" class=\"dataframe\">\n  <thead>\n    <tr style=\"text-align: right;\">\n      <th></th>\n      <th>Order ID</th>\n      <th>Product Name</th>\n      <th>Discount</th>\n      <th>Sales</th>\n      <th>Profit</th>\n      <th>Quantity</th>\n      <th>Category</th>\n      <th>Sub-Category</th>\n    </tr>\n  </thead>\n  <tbody>\n    <tr>\n      <th>0</th>\n      <td>AZ-2011-1029887</td>\n      <td>Novimex Color Coded Labels, 5000 Label Set</td>\n      <td>0.0</td>\n      <td>26</td>\n      <td>7</td>\n      <td>2</td>\n      <td>Office Supplies</td>\n      <td>Labels</td>\n    </tr>\n    <tr>\n      <th>1</th>\n      <td>AZ-2011-107716</td>\n      <td>Deflect-O Door Stop, Erganomic</td>\n      <td>0.0</td>\n      <td>85</td>\n      <td>15</td>\n      <td>2</td>\n      <td>Furniture</td>\n      <td>Furnishings</td>\n    </tr>\n    <tr>\n      <th>2</th>\n      <td>AZ-2011-1087704</td>\n      <td>Belkin Flash Drive, Bluetooth</td>\n      <td>0.0</td>\n      <td>294</td>\n      <td>109</td>\n      <td>7</td>\n      <td>Technology</td>\n      <td>Accessories</td>\n    </tr>\n    <tr>\n      <th>3</th>\n      <td>AZ-2011-1372644</td>\n      <td>Panasonic Printer, Durable</td>\n      <td>0.0</td>\n      <td>800</td>\n      <td>168</td>\n      <td>3</td>\n      <td>Technology</td>\n      <td>Machines</td>\n    </tr>\n    <tr>\n      <th>4</th>\n      <td>AZ-2011-1362199</td>\n      <td>Sanford Pens, Fluorescent</td>\n      <td>0.5</td>\n      <td>25</td>\n      <td>-11</td>\n      <td>4</td>\n      <td>Office Supplies</td>\n      <td>Art</td>\n    </tr>\n  </tbody>\n</table>\n</div>",
      "text/plain": "          Order ID                                Product Name  Discount  \\\n0  AZ-2011-1029887  Novimex Color Coded Labels, 5000 Label Set       0.0   \n1   AZ-2011-107716              Deflect-O Door Stop, Erganomic       0.0   \n2  AZ-2011-1087704               Belkin Flash Drive, Bluetooth       0.0   \n3  AZ-2011-1372644                  Panasonic Printer, Durable       0.0   \n4  AZ-2011-1362199                   Sanford Pens, Fluorescent       0.5   \n\n   Sales  Profit  Quantity         Category Sub-Category  \n0     26       7         2  Office Supplies       Labels  \n1     85      15         2        Furniture  Furnishings  \n2    294     109         7       Technology  Accessories  \n3    800     168         3       Technology     Machines  \n4     25     -11         4  Office Supplies          Art  "
     },
     "execution_count": 21,
     "metadata": {},
     "output_type": "execute_result"
    }
   ],
   "source": [
    "df_combined = pd.concat([df, df_new])\n",
    "df_combined.head()"
   ]
  },
  {
   "cell_type": "markdown",
   "metadata": {},
   "source": [
    "\n"
   ]
  },
  {
   "cell_type": "markdown",
   "metadata": {},
   "source": [
    "#### Combining two data frames\n",
    "Question 1: Some of the orders are stored in another csv file named `megamart_new sales`. Read the csv file, store it in a data frame and add it to the `megamart_sales` data frame. Find the total sales value of the category 'Office Supplies'  after combining the dataframes\n",
    "\n",
    "    a)7970\n",
    "    b)6964\n",
    "    c)7494\n",
    "    d)6076"
   ]
  },
  {
   "cell_type": "code",
   "execution_count": 22,
   "metadata": {},
   "outputs": [
    {
     "name": "stdout",
     "output_type": "stream",
     "text": [
      "59 9 68\n"
     ]
    }
   ],
   "source": [
    "print(df.shape[0], df_new.shape[0], df_combined.shape[0])"
   ]
  },
  {
   "cell_type": "code",
   "execution_count": 23,
   "metadata": {},
   "outputs": [
    {
     "name": "stdout",
     "output_type": "stream",
     "text": [
      "45 \n",
      "            Order ID  Sales\n",
      "0   AZ-2011-1029887     26\n",
      "4   AZ-2011-1362199     25\n",
      "6   AZ-2011-1116129    252\n",
      "7   AZ-2011-1137571     90\n",
      "9    AZ-2011-122598     32\n",
      "11  AZ-2011-1240916    284\n",
      "14  AZ-2011-1260928    576\n",
      "15  AZ-2011-1278696     44\n",
      "16  AZ-2011-1279238     96\n",
      "18  AZ-2011-1406494    748\n",
      "19  AZ-2011-1315772    152\n",
      "22  AZ-2011-1331897     33\n",
      "23  AZ-2011-1332474     28\n",
      "24  AZ-2011-1335871     82\n",
      "25  AZ-2011-1362199     25\n",
      "27  AZ-2011-1366554     13\n",
      "29  AZ-2011-1406494    748\n",
      "32  AZ-2011-1445249     46\n",
      "34   AZ-2011-145488    255\n",
      "35  AZ-2011-1474073     10\n",
      "36  AZ-2011-1475254     54\n",
      "37  AZ-2011-1484679     73\n",
      "38  AZ-2011-1499597    193\n",
      "40  AZ-2011-1546153     56\n",
      "42  AZ-2011-1584987    241\n",
      "44  AZ-2011-1603295     20\n",
      "45  AZ-2011-1645475     30\n",
      "46  AZ-2011-1655349    176\n",
      "47  AZ-2011-1661180     94\n",
      "48  AZ-2011-1672552    510\n",
      "49  AZ-2011-1499597    193\n",
      "50  AZ-2011-1680940     15\n",
      "51  AZ-2011-1693949     39\n",
      "53  AZ-2011-1723003     18\n",
      "54  AZ-2011-1474073     10\n",
      "55  AZ-2011-1645475     30\n",
      "57  AZ-2011-1754604     98\n",
      "58   AZ-2011-176674   1667\n",
      "0   AZ-2011-1902971    339\n",
      "2   AZ-2011-1916555     61\n",
      "3   AZ-2011-1930058     71\n",
      "5   AZ-2011-1976919    132\n",
      "6   AZ-2011-2001312     97\n",
      "7   AZ-2011-2002251    136\n",
      "8    AZ-2011-201891     52\n"
     ]
    },
    {
     "data": {
      "text/plain": "7970"
     },
     "execution_count": 23,
     "metadata": {},
     "output_type": "execute_result"
    }
   ],
   "source": [
    "#your code here\n",
    "df_os = df_combined[df_combined['Category'] == 'Office Supplies']\n",
    "print(df_os.shape[0],\"\\n\", df_os[['Order ID','Sales']])\n",
    "df_os['Sales'].sum()"
   ]
  },
  {
   "cell_type": "code",
   "execution_count": 24,
   "metadata": {},
   "outputs": [
    {
     "data": {
      "text/html": "<div>\n<style scoped>\n    .dataframe tbody tr th:only-of-type {\n        vertical-align: middle;\n    }\n\n    .dataframe tbody tr th {\n        vertical-align: top;\n    }\n\n    .dataframe thead th {\n        text-align: right;\n    }\n</style>\n<table border=\"1\" class=\"dataframe\">\n  <thead>\n    <tr style=\"text-align: right;\">\n      <th></th>\n      <th>Sales</th>\n    </tr>\n    <tr>\n      <th>Category</th>\n      <th></th>\n    </tr>\n  </thead>\n  <tbody>\n    <tr>\n      <th>Furniture</th>\n      <td>2172</td>\n    </tr>\n    <tr>\n      <th>Office Supplies</th>\n      <td>7082</td>\n    </tr>\n    <tr>\n      <th>Technology</th>\n      <td>8495</td>\n    </tr>\n  </tbody>\n</table>\n</div>",
      "text/plain": "                 Sales\nCategory              \nFurniture         2172\nOffice Supplies   7082\nTechnology        8495"
     },
     "execution_count": 24,
     "metadata": {},
     "output_type": "execute_result"
    }
   ],
   "source": [
    "df.groupby(['Category']).agg({\"Sales\":sum})"
   ]
  },
  {
   "cell_type": "code",
   "execution_count": 25,
   "metadata": {},
   "outputs": [
    {
     "data": {
      "text/html": "<div>\n<style scoped>\n    .dataframe tbody tr th:only-of-type {\n        vertical-align: middle;\n    }\n\n    .dataframe tbody tr th {\n        vertical-align: top;\n    }\n\n    .dataframe thead th {\n        text-align: right;\n    }\n</style>\n<table border=\"1\" class=\"dataframe\">\n  <thead>\n    <tr style=\"text-align: right;\">\n      <th></th>\n      <th>Sales</th>\n    </tr>\n    <tr>\n      <th>Category</th>\n      <th></th>\n    </tr>\n  </thead>\n  <tbody>\n    <tr>\n      <th>Furniture</th>\n      <td>288</td>\n    </tr>\n    <tr>\n      <th>Office Supplies</th>\n      <td>888</td>\n    </tr>\n    <tr>\n      <th>Technology</th>\n      <td>93</td>\n    </tr>\n  </tbody>\n</table>\n</div>",
      "text/plain": "                 Sales\nCategory              \nFurniture          288\nOffice Supplies    888\nTechnology          93"
     },
     "execution_count": 25,
     "metadata": {},
     "output_type": "execute_result"
    }
   ],
   "source": [
    "df_new.groupby(['Category']).agg({\"Sales\":sum})"
   ]
  },
  {
   "cell_type": "code",
   "execution_count": 26,
   "metadata": {},
   "outputs": [
    {
     "data": {
      "text/html": "<div>\n<style scoped>\n    .dataframe tbody tr th:only-of-type {\n        vertical-align: middle;\n    }\n\n    .dataframe tbody tr th {\n        vertical-align: top;\n    }\n\n    .dataframe thead th {\n        text-align: right;\n    }\n</style>\n<table border=\"1\" class=\"dataframe\">\n  <thead>\n    <tr style=\"text-align: right;\">\n      <th></th>\n      <th>Sales</th>\n    </tr>\n    <tr>\n      <th>Category</th>\n      <th></th>\n    </tr>\n  </thead>\n  <tbody>\n    <tr>\n      <th>Furniture</th>\n      <td>2460</td>\n    </tr>\n    <tr>\n      <th>Office Supplies</th>\n      <td>7970</td>\n    </tr>\n    <tr>\n      <th>Technology</th>\n      <td>8588</td>\n    </tr>\n  </tbody>\n</table>\n</div>",
      "text/plain": "                 Sales\nCategory              \nFurniture         2460\nOffice Supplies   7970\nTechnology        8588"
     },
     "execution_count": 26,
     "metadata": {},
     "output_type": "execute_result"
    }
   ],
   "source": [
    "df_combined.groupby(['Category']).agg({\"Sales\":sum})"
   ]
  },
  {
   "cell_type": "markdown",
   "metadata": {},
   "source": [
    "#### Dropping duplicates\n",
    "Question 2: There are some duplicate rows in the data frame. Drop these rows and calculate the total sales value of the category Office Supplies.\n",
    "\n",
    "    a)7156\n",
    "    b)6496\n",
    "    c)6964\n",
    "    d)6023"
   ]
  },
  {
   "cell_type": "code",
   "execution_count": 39,
   "metadata": {},
   "outputs": [
    {
     "data": {
      "text/html": "<div>\n<style scoped>\n    .dataframe tbody tr th:only-of-type {\n        vertical-align: middle;\n    }\n\n    .dataframe tbody tr th {\n        vertical-align: top;\n    }\n\n    .dataframe thead th {\n        text-align: right;\n    }\n</style>\n<table border=\"1\" class=\"dataframe\">\n  <thead>\n    <tr style=\"text-align: right;\">\n      <th></th>\n      <th>Order ID</th>\n    </tr>\n    <tr>\n      <th>Order ID</th>\n      <th></th>\n    </tr>\n  </thead>\n  <tbody>\n    <tr>\n      <th>AZ-2011-1087704</th>\n      <td>2</td>\n    </tr>\n    <tr>\n      <th>AZ-2011-1362199</th>\n      <td>2</td>\n    </tr>\n    <tr>\n      <th>AZ-2011-1372644</th>\n      <td>2</td>\n    </tr>\n    <tr>\n      <th>AZ-2011-1406494</th>\n      <td>2</td>\n    </tr>\n    <tr>\n      <th>AZ-2011-1474073</th>\n      <td>2</td>\n    </tr>\n    <tr>\n      <th>AZ-2011-1499597</th>\n      <td>2</td>\n    </tr>\n    <tr>\n      <th>AZ-2011-1645475</th>\n      <td>2</td>\n    </tr>\n  </tbody>\n</table>\n</div>",
      "text/plain": "                 Order ID\nOrder ID                 \nAZ-2011-1087704         2\nAZ-2011-1362199         2\nAZ-2011-1372644         2\nAZ-2011-1406494         2\nAZ-2011-1474073         2\nAZ-2011-1499597         2\nAZ-2011-1645475         2"
     },
     "execution_count": 39,
     "metadata": {},
     "output_type": "execute_result"
    }
   ],
   "source": [
    "#your code here\n",
    "#df_combined[df_combined.groupby(['Order ID']).agg({\"Order ID\":\"count\"})[\"Order ID\"] > 1 ]\n",
    "df_combined_orders = df_combined.groupby(['Order ID']).agg({\"Order ID\":\"count\"})[\"Order ID\"].to_frame()\n",
    "df_combined_orders\n",
    "df_combined_orders[(df_combined_orders['Order ID'] is not np.nan) & (df_combined_orders['Order ID'] > 1)]"
   ]
  },
  {
   "cell_type": "code",
   "execution_count": 41,
   "metadata": {},
   "outputs": [
    {
     "name": "stdout",
     "output_type": "stream",
     "text": [
      "68\n",
      "61\n"
     ]
    }
   ],
   "source": [
    "print(df_combined.shape[0])\n",
    "df_combined = df_combined.drop_duplicates()\n",
    "print(df_combined.shape[0])"
   ]
  },
  {
   "cell_type": "code",
   "execution_count": 42,
   "metadata": {},
   "outputs": [
    {
     "data": {
      "text/html": "<div>\n<style scoped>\n    .dataframe tbody tr th:only-of-type {\n        vertical-align: middle;\n    }\n\n    .dataframe tbody tr th {\n        vertical-align: top;\n    }\n\n    .dataframe thead th {\n        text-align: right;\n    }\n</style>\n<table border=\"1\" class=\"dataframe\">\n  <thead>\n    <tr style=\"text-align: right;\">\n      <th></th>\n      <th>Sales</th>\n    </tr>\n    <tr>\n      <th>Category</th>\n      <th></th>\n    </tr>\n  </thead>\n  <tbody>\n    <tr>\n      <th>Furniture</th>\n      <td>2460</td>\n    </tr>\n    <tr>\n      <th>Office Supplies</th>\n      <td>6964</td>\n    </tr>\n    <tr>\n      <th>Technology</th>\n      <td>7494</td>\n    </tr>\n  </tbody>\n</table>\n</div>",
      "text/plain": "                 Sales\nCategory              \nFurniture         2460\nOffice Supplies   6964\nTechnology        7494"
     },
     "execution_count": 42,
     "metadata": {},
     "output_type": "execute_result"
    }
   ],
   "source": [
    "df_combined.groupby(['Category']).agg({\"Sales\":sum})"
   ]
  },
  {
   "cell_type": "code",
   "execution_count": 44,
   "metadata": {},
   "outputs": [
    {
     "data": {
      "text/html": "<div>\n<style scoped>\n    .dataframe tbody tr th:only-of-type {\n        vertical-align: middle;\n    }\n\n    .dataframe tbody tr th {\n        vertical-align: top;\n    }\n\n    .dataframe thead th {\n        text-align: right;\n    }\n</style>\n<table border=\"1\" class=\"dataframe\">\n  <thead>\n    <tr style=\"text-align: right;\">\n      <th></th>\n      <th></th>\n      <th>Sales</th>\n    </tr>\n    <tr>\n      <th>Category</th>\n      <th>Sub-Category</th>\n      <th></th>\n    </tr>\n  </thead>\n  <tbody>\n    <tr>\n      <th>Technology</th>\n      <th>Phones</th>\n      <td>5199</td>\n    </tr>\n    <tr>\n      <th rowspan=\"2\" valign=\"top\">Office Supplies</th>\n      <th>Storage</th>\n      <td>2019</td>\n    </tr>\n    <tr>\n      <th>Appliances</th>\n      <td>1819</td>\n    </tr>\n    <tr>\n      <th>Furniture</th>\n      <th>Bookcases</th>\n      <td>1459</td>\n    </tr>\n    <tr>\n      <th>Office Supplies</th>\n      <th>Art</th>\n      <td>1364</td>\n    </tr>\n    <tr>\n      <th>Technology</th>\n      <th>Accessories</th>\n      <td>1053</td>\n    </tr>\n    <tr>\n      <th>Office Supplies</th>\n      <th>Binders</th>\n      <td>924</td>\n    </tr>\n    <tr>\n      <th>Technology</th>\n      <th>Machines</th>\n      <td>800</td>\n    </tr>\n    <tr>\n      <th rowspan=\"2\" valign=\"top\">Furniture</th>\n      <th>Chairs</th>\n      <td>558</td>\n    </tr>\n    <tr>\n      <th>Furnishings</th>\n      <td>443</td>\n    </tr>\n    <tr>\n      <th>Technology</th>\n      <th>Copiers</th>\n      <td>442</td>\n    </tr>\n    <tr>\n      <th rowspan=\"5\" valign=\"top\">Office Supplies</th>\n      <th>Supplies</th>\n      <td>362</td>\n    </tr>\n    <tr>\n      <th>Labels</th>\n      <td>166</td>\n    </tr>\n    <tr>\n      <th>Envelopes</th>\n      <td>146</td>\n    </tr>\n    <tr>\n      <th>Paper</th>\n      <td>136</td>\n    </tr>\n    <tr>\n      <th>Fasteners</th>\n      <td>28</td>\n    </tr>\n  </tbody>\n</table>\n</div>",
      "text/plain": "                              Sales\nCategory        Sub-Category       \nTechnology      Phones         5199\nOffice Supplies Storage        2019\n                Appliances     1819\nFurniture       Bookcases      1459\nOffice Supplies Art            1364\nTechnology      Accessories    1053\nOffice Supplies Binders         924\nTechnology      Machines        800\nFurniture       Chairs          558\n                Furnishings     443\nTechnology      Copiers         442\nOffice Supplies Supplies        362\n                Labels          166\n                Envelopes       146\n                Paper           136\n                Fasteners        28"
     },
     "execution_count": 44,
     "metadata": {},
     "output_type": "execute_result"
    }
   ],
   "source": [
    "df_combined.groupby(['Category','Sub-Category']).agg({\"Sales\":sum}).sort_values(by=\"Sales\", ascending=False)"
   ]
  },
  {
   "cell_type": "markdown",
   "metadata": {},
   "source": [
    "#### Best category-sub category \n",
    "Question 3: Find the most profitable category and sub category combination based on the net profit.\n",
    "\n",
    "\n",
    "    a)Furniture-Bookcases\n",
    "    b)Office supplies-Appliances\n",
    "    c)Office supplies-Storage\n",
    "    d)Technology-Phones"
   ]
  },
  {
   "cell_type": "code",
   "execution_count": null,
   "metadata": {},
   "outputs": [],
   "source": [
    "#your code here\n",
    "\n"
   ]
  },
  {
   "cell_type": "markdown",
   "metadata": {},
   "source": [
    "#### Invalid order IDs\n",
    "Question 4: How many invalid order IDs are there in the data frame. An order id is of the form AZ-2011-Y where Y represents a whole number. A Order ID is said to be valid only if Y consists of 7 digits. Find the number of valid order order IDs in the data frame.\n",
    "    \n",
    "    a)6\n",
    "    b)7\n",
    "    c)8\n",
    "    d)9\n"
   ]
  },
  {
   "cell_type": "code",
   "execution_count": 47,
   "metadata": {},
   "outputs": [],
   "source": [
    "#your code here\n",
    "df_combined[\"Order ID len\"] = df_combined.apply(lambda x: len(x['Order ID']), axis=1)\n",
    "\n"
   ]
  },
  {
   "cell_type": "code",
   "execution_count": 49,
   "metadata": {},
   "outputs": [
    {
     "data": {
      "text/html": "<div>\n<style scoped>\n    .dataframe tbody tr th:only-of-type {\n        vertical-align: middle;\n    }\n\n    .dataframe tbody tr th {\n        vertical-align: top;\n    }\n\n    .dataframe thead th {\n        text-align: right;\n    }\n</style>\n<table border=\"1\" class=\"dataframe\">\n  <thead>\n    <tr style=\"text-align: right;\">\n      <th></th>\n      <th>Order ID</th>\n      <th>Product Name</th>\n      <th>Discount</th>\n      <th>Sales</th>\n      <th>Profit</th>\n      <th>Quantity</th>\n      <th>Category</th>\n      <th>Sub-Category</th>\n      <th>Order ID len</th>\n    </tr>\n  </thead>\n  <tbody>\n    <tr>\n      <th>1</th>\n      <td>AZ-2011-107716</td>\n      <td>Deflect-O Door Stop, Erganomic</td>\n      <td>0.0</td>\n      <td>85</td>\n      <td>15</td>\n      <td>2</td>\n      <td>Furniture</td>\n      <td>Furnishings</td>\n      <td>14</td>\n    </tr>\n    <tr>\n      <th>9</th>\n      <td>AZ-2011-122598</td>\n      <td>Avery Removable Labels, Alphabetical</td>\n      <td>0.0</td>\n      <td>32</td>\n      <td>6</td>\n      <td>3</td>\n      <td>Office Supplies</td>\n      <td>Labels</td>\n      <td>14</td>\n    </tr>\n    <tr>\n      <th>17</th>\n      <td>AZ-2011-130330</td>\n      <td>Office Star Chairmat, Adjustable</td>\n      <td>0.1</td>\n      <td>307</td>\n      <td>99</td>\n      <td>5</td>\n      <td>Furniture</td>\n      <td>Chairs</td>\n      <td>14</td>\n    </tr>\n    <tr>\n      <th>31</th>\n      <td>AZ-2011-144325</td>\n      <td>Bush Stackable Bookrack, Pine</td>\n      <td>0.0</td>\n      <td>630</td>\n      <td>132</td>\n      <td>5</td>\n      <td>Furniture</td>\n      <td>Bookcases</td>\n      <td>14</td>\n    </tr>\n    <tr>\n      <th>34</th>\n      <td>AZ-2011-145488</td>\n      <td>Rogers File Cart, Industrial</td>\n      <td>0.4</td>\n      <td>255</td>\n      <td>-98</td>\n      <td>3</td>\n      <td>Office Supplies</td>\n      <td>Storage</td>\n      <td>14</td>\n    </tr>\n    <tr>\n      <th>58</th>\n      <td>AZ-2011-176674</td>\n      <td>Hoover Microwave, Red</td>\n      <td>0.1</td>\n      <td>1667</td>\n      <td>185</td>\n      <td>6</td>\n      <td>Office Supplies</td>\n      <td>Appliances</td>\n      <td>14</td>\n    </tr>\n    <tr>\n      <th>8</th>\n      <td>AZ-2011-201891</td>\n      <td>Cameo Clasp Envelope, with clear poly window</td>\n      <td>0.0</td>\n      <td>52</td>\n      <td>19</td>\n      <td>4</td>\n      <td>Office Supplies</td>\n      <td>Envelopes</td>\n      <td>14</td>\n    </tr>\n  </tbody>\n</table>\n</div>",
      "text/plain": "          Order ID                                  Product Name  Discount  \\\n1   AZ-2011-107716                Deflect-O Door Stop, Erganomic       0.0   \n9   AZ-2011-122598          Avery Removable Labels, Alphabetical       0.0   \n17  AZ-2011-130330              Office Star Chairmat, Adjustable       0.1   \n31  AZ-2011-144325                 Bush Stackable Bookrack, Pine       0.0   \n34  AZ-2011-145488                  Rogers File Cart, Industrial       0.4   \n58  AZ-2011-176674                         Hoover Microwave, Red       0.1   \n8   AZ-2011-201891  Cameo Clasp Envelope, with clear poly window       0.0   \n\n    Sales  Profit  Quantity         Category Sub-Category  Order ID len  \n1      85      15         2        Furniture  Furnishings            14  \n9      32       6         3  Office Supplies       Labels            14  \n17    307      99         5        Furniture       Chairs            14  \n31    630     132         5        Furniture    Bookcases            14  \n34    255     -98         3  Office Supplies      Storage            14  \n58   1667     185         6  Office Supplies   Appliances            14  \n8      52      19         4  Office Supplies    Envelopes            14  "
     },
     "execution_count": 49,
     "metadata": {},
     "output_type": "execute_result"
    }
   ],
   "source": [
    "df_combined[df_combined[\"Order ID len\"] != 15]"
   ]
  },
  {
   "cell_type": "markdown",
   "metadata": {},
   "source": [
    "#### Occurence of furniture in top 25 sales\n",
    "Question 5: Find the top 25 orders based on sales value and find the number of orders which belong to furniture category.\n",
    "\n",
    "    a)2\n",
    "    b)3\n",
    "    c)4\n",
    "    d)5 "
   ]
  },
  {
   "cell_type": "code",
   "execution_count": 54,
   "metadata": {},
   "outputs": [
    {
     "data": {
      "text/html": "<div>\n<style scoped>\n    .dataframe tbody tr th:only-of-type {\n        vertical-align: middle;\n    }\n\n    .dataframe tbody tr th {\n        vertical-align: top;\n    }\n\n    .dataframe thead th {\n        text-align: right;\n    }\n</style>\n<table border=\"1\" class=\"dataframe\">\n  <thead>\n    <tr style=\"text-align: right;\">\n      <th></th>\n      <th>Order ID</th>\n      <th>Product Name</th>\n      <th>Discount</th>\n      <th>Sales</th>\n      <th>Profit</th>\n      <th>Quantity</th>\n      <th>Category</th>\n      <th>Sub-Category</th>\n      <th>Order ID len</th>\n    </tr>\n  </thead>\n  <tbody>\n    <tr>\n      <th>30</th>\n      <td>AZ-2011-1410648</td>\n      <td>Nokia Smart Phone, Full Size</td>\n      <td>0.0</td>\n      <td>1908</td>\n      <td>820</td>\n      <td>3</td>\n      <td>Technology</td>\n      <td>Phones</td>\n      <td>15</td>\n    </tr>\n    <tr>\n      <th>58</th>\n      <td>AZ-2011-176674</td>\n      <td>Hoover Microwave, Red</td>\n      <td>0.1</td>\n      <td>1667</td>\n      <td>185</td>\n      <td>6</td>\n      <td>Office Supplies</td>\n      <td>Appliances</td>\n      <td>14</td>\n    </tr>\n    <tr>\n      <th>8</th>\n      <td>AZ-2011-1174243</td>\n      <td>Nokia Audio Dock, with Caller ID</td>\n      <td>0.0</td>\n      <td>1334</td>\n      <td>200</td>\n      <td>8</td>\n      <td>Technology</td>\n      <td>Phones</td>\n      <td>15</td>\n    </tr>\n    <tr>\n      <th>20</th>\n      <td>AZ-2011-1322840</td>\n      <td>Motorola Headset, with Caller ID</td>\n      <td>0.0</td>\n      <td>957</td>\n      <td>316</td>\n      <td>12</td>\n      <td>Technology</td>\n      <td>Phones</td>\n      <td>15</td>\n    </tr>\n    <tr>\n      <th>3</th>\n      <td>AZ-2011-1372644</td>\n      <td>Panasonic Printer, Durable</td>\n      <td>0.0</td>\n      <td>800</td>\n      <td>168</td>\n      <td>3</td>\n      <td>Technology</td>\n      <td>Machines</td>\n      <td>15</td>\n    </tr>\n    <tr>\n      <th>18</th>\n      <td>AZ-2011-1406494</td>\n      <td>Fellowes Lockers, Industrial</td>\n      <td>0.1</td>\n      <td>748</td>\n      <td>283</td>\n      <td>4</td>\n      <td>Office Supplies</td>\n      <td>Storage</td>\n      <td>15</td>\n    </tr>\n    <tr>\n      <th>39</th>\n      <td>AZ-2011-1536006</td>\n      <td>Logitech Keyboard, Programmable</td>\n      <td>0.0</td>\n      <td>666</td>\n      <td>66</td>\n      <td>9</td>\n      <td>Technology</td>\n      <td>Accessories</td>\n      <td>15</td>\n    </tr>\n    <tr>\n      <th>33</th>\n      <td>AZ-2011-1445262</td>\n      <td>Apple Smart Phone, Cordless</td>\n      <td>0.0</td>\n      <td>636</td>\n      <td>140</td>\n      <td>1</td>\n      <td>Technology</td>\n      <td>Phones</td>\n      <td>15</td>\n    </tr>\n    <tr>\n      <th>31</th>\n      <td>AZ-2011-144325</td>\n      <td>Bush Stackable Bookrack, Pine</td>\n      <td>0.0</td>\n      <td>630</td>\n      <td>132</td>\n      <td>5</td>\n      <td>Furniture</td>\n      <td>Bookcases</td>\n      <td>14</td>\n    </tr>\n    <tr>\n      <th>14</th>\n      <td>AZ-2011-1260928</td>\n      <td>Eldon File Cart, Single Width</td>\n      <td>0.1</td>\n      <td>576</td>\n      <td>51</td>\n      <td>5</td>\n      <td>Office Supplies</td>\n      <td>Storage</td>\n      <td>15</td>\n    </tr>\n    <tr>\n      <th>12</th>\n      <td>AZ-2011-1253407</td>\n      <td>Safco Stackable Bookrack, Pine</td>\n      <td>0.1</td>\n      <td>541</td>\n      <td>156</td>\n      <td>4</td>\n      <td>Furniture</td>\n      <td>Bookcases</td>\n      <td>15</td>\n    </tr>\n    <tr>\n      <th>48</th>\n      <td>AZ-2011-1672552</td>\n      <td>Binney &amp; Smith Sketch Pad, Blue</td>\n      <td>0.0</td>\n      <td>510</td>\n      <td>132</td>\n      <td>11</td>\n      <td>Office Supplies</td>\n      <td>Art</td>\n      <td>15</td>\n    </tr>\n    <tr>\n      <th>41</th>\n      <td>AZ-2011-1584049</td>\n      <td>Brother Ink, Laser</td>\n      <td>0.0</td>\n      <td>442</td>\n      <td>0</td>\n      <td>3</td>\n      <td>Technology</td>\n      <td>Copiers</td>\n      <td>15</td>\n    </tr>\n    <tr>\n      <th>52</th>\n      <td>AZ-2011-1722024</td>\n      <td>Cisco Audio Dock, VoIP</td>\n      <td>0.0</td>\n      <td>364</td>\n      <td>142</td>\n      <td>2</td>\n      <td>Technology</td>\n      <td>Phones</td>\n      <td>15</td>\n    </tr>\n    <tr>\n      <th>0</th>\n      <td>AZ-2011-1902971</td>\n      <td>Wilson Jones Binding Machine, Clear</td>\n      <td>0.0</td>\n      <td>339</td>\n      <td>102</td>\n      <td>7</td>\n      <td>Office Supplies</td>\n      <td>Binders</td>\n      <td>15</td>\n    </tr>\n    <tr>\n      <th>17</th>\n      <td>AZ-2011-130330</td>\n      <td>Office Star Chairmat, Adjustable</td>\n      <td>0.1</td>\n      <td>307</td>\n      <td>99</td>\n      <td>5</td>\n      <td>Furniture</td>\n      <td>Chairs</td>\n      <td>14</td>\n    </tr>\n    <tr>\n      <th>2</th>\n      <td>AZ-2011-1087704</td>\n      <td>Belkin Flash Drive, Bluetooth</td>\n      <td>0.0</td>\n      <td>294</td>\n      <td>109</td>\n      <td>7</td>\n      <td>Technology</td>\n      <td>Accessories</td>\n      <td>15</td>\n    </tr>\n    <tr>\n      <th>1</th>\n      <td>AZ-2011-1916360</td>\n      <td>Dania 3-Shelf Cabinet, Mobile</td>\n      <td>0.0</td>\n      <td>288</td>\n      <td>20</td>\n      <td>2</td>\n      <td>Furniture</td>\n      <td>Bookcases</td>\n      <td>15</td>\n    </tr>\n    <tr>\n      <th>11</th>\n      <td>AZ-2011-1240916</td>\n      <td>Boston Canvas, Water Color</td>\n      <td>0.0</td>\n      <td>284</td>\n      <td>43</td>\n      <td>5</td>\n      <td>Office Supplies</td>\n      <td>Art</td>\n      <td>15</td>\n    </tr>\n    <tr>\n      <th>34</th>\n      <td>AZ-2011-145488</td>\n      <td>Rogers File Cart, Industrial</td>\n      <td>0.4</td>\n      <td>255</td>\n      <td>-98</td>\n      <td>3</td>\n      <td>Office Supplies</td>\n      <td>Storage</td>\n      <td>14</td>\n    </tr>\n    <tr>\n      <th>6</th>\n      <td>AZ-2011-1116129</td>\n      <td>Avery Binding Machine, Durable</td>\n      <td>0.0</td>\n      <td>252</td>\n      <td>15</td>\n      <td>5</td>\n      <td>Office Supplies</td>\n      <td>Binders</td>\n      <td>15</td>\n    </tr>\n    <tr>\n      <th>42</th>\n      <td>AZ-2011-1584987</td>\n      <td>Tenex File Cart, Industrial</td>\n      <td>0.1</td>\n      <td>241</td>\n      <td>24</td>\n      <td>2</td>\n      <td>Office Supplies</td>\n      <td>Storage</td>\n      <td>15</td>\n    </tr>\n    <tr>\n      <th>38</th>\n      <td>AZ-2011-1499597</td>\n      <td>Boston Markers, Fluorescent</td>\n      <td>0.0</td>\n      <td>193</td>\n      <td>29</td>\n      <td>7</td>\n      <td>Office Supplies</td>\n      <td>Art</td>\n      <td>15</td>\n    </tr>\n    <tr>\n      <th>46</th>\n      <td>AZ-2011-1655349</td>\n      <td>Fiskars Trimmer, Easy Grip</td>\n      <td>0.0</td>\n      <td>176</td>\n      <td>65</td>\n      <td>4</td>\n      <td>Office Supplies</td>\n      <td>Supplies</td>\n      <td>15</td>\n    </tr>\n    <tr>\n      <th>43</th>\n      <td>AZ-2011-1589827</td>\n      <td>Novimex Steel Folding Chair, Red</td>\n      <td>0.6</td>\n      <td>164</td>\n      <td>-70</td>\n      <td>5</td>\n      <td>Furniture</td>\n      <td>Chairs</td>\n      <td>15</td>\n    </tr>\n  </tbody>\n</table>\n</div>",
      "text/plain": "           Order ID                         Product Name  Discount  Sales  \\\n30  AZ-2011-1410648         Nokia Smart Phone, Full Size       0.0   1908   \n58   AZ-2011-176674                Hoover Microwave, Red       0.1   1667   \n8   AZ-2011-1174243     Nokia Audio Dock, with Caller ID       0.0   1334   \n20  AZ-2011-1322840     Motorola Headset, with Caller ID       0.0    957   \n3   AZ-2011-1372644           Panasonic Printer, Durable       0.0    800   \n18  AZ-2011-1406494         Fellowes Lockers, Industrial       0.1    748   \n39  AZ-2011-1536006      Logitech Keyboard, Programmable       0.0    666   \n33  AZ-2011-1445262          Apple Smart Phone, Cordless       0.0    636   \n31   AZ-2011-144325        Bush Stackable Bookrack, Pine       0.0    630   \n14  AZ-2011-1260928        Eldon File Cart, Single Width       0.1    576   \n12  AZ-2011-1253407       Safco Stackable Bookrack, Pine       0.1    541   \n48  AZ-2011-1672552      Binney & Smith Sketch Pad, Blue       0.0    510   \n41  AZ-2011-1584049                   Brother Ink, Laser       0.0    442   \n52  AZ-2011-1722024               Cisco Audio Dock, VoIP       0.0    364   \n0   AZ-2011-1902971  Wilson Jones Binding Machine, Clear       0.0    339   \n17   AZ-2011-130330     Office Star Chairmat, Adjustable       0.1    307   \n2   AZ-2011-1087704        Belkin Flash Drive, Bluetooth       0.0    294   \n1   AZ-2011-1916360        Dania 3-Shelf Cabinet, Mobile       0.0    288   \n11  AZ-2011-1240916           Boston Canvas, Water Color       0.0    284   \n34   AZ-2011-145488         Rogers File Cart, Industrial       0.4    255   \n6   AZ-2011-1116129       Avery Binding Machine, Durable       0.0    252   \n42  AZ-2011-1584987          Tenex File Cart, Industrial       0.1    241   \n38  AZ-2011-1499597          Boston Markers, Fluorescent       0.0    193   \n46  AZ-2011-1655349           Fiskars Trimmer, Easy Grip       0.0    176   \n43  AZ-2011-1589827     Novimex Steel Folding Chair, Red       0.6    164   \n\n    Profit  Quantity         Category Sub-Category  Order ID len  \n30     820         3       Technology       Phones            15  \n58     185         6  Office Supplies   Appliances            14  \n8      200         8       Technology       Phones            15  \n20     316        12       Technology       Phones            15  \n3      168         3       Technology     Machines            15  \n18     283         4  Office Supplies      Storage            15  \n39      66         9       Technology  Accessories            15  \n33     140         1       Technology       Phones            15  \n31     132         5        Furniture    Bookcases            14  \n14      51         5  Office Supplies      Storage            15  \n12     156         4        Furniture    Bookcases            15  \n48     132        11  Office Supplies          Art            15  \n41       0         3       Technology      Copiers            15  \n52     142         2       Technology       Phones            15  \n0      102         7  Office Supplies      Binders            15  \n17      99         5        Furniture       Chairs            14  \n2      109         7       Technology  Accessories            15  \n1       20         2        Furniture    Bookcases            15  \n11      43         5  Office Supplies          Art            15  \n34     -98         3  Office Supplies      Storage            14  \n6       15         5  Office Supplies      Binders            15  \n42      24         2  Office Supplies      Storage            15  \n38      29         7  Office Supplies          Art            15  \n46      65         4  Office Supplies     Supplies            15  \n43     -70         5        Furniture       Chairs            15  "
     },
     "execution_count": 54,
     "metadata": {},
     "output_type": "execute_result"
    }
   ],
   "source": [
    "#your code here\n",
    "top_25_orders = df_combined.sort_values(by=['Sales'],ascending=False)\n",
    "top_25_orders = top_25_orders[:25]\n",
    "top_25_orders"
   ]
  },
  {
   "cell_type": "code",
   "execution_count": 55,
   "metadata": {},
   "outputs": [
    {
     "data": {
      "text/html": "<div>\n<style scoped>\n    .dataframe tbody tr th:only-of-type {\n        vertical-align: middle;\n    }\n\n    .dataframe tbody tr th {\n        vertical-align: top;\n    }\n\n    .dataframe thead th {\n        text-align: right;\n    }\n</style>\n<table border=\"1\" class=\"dataframe\">\n  <thead>\n    <tr style=\"text-align: right;\">\n      <th></th>\n      <th>Order ID</th>\n    </tr>\n    <tr>\n      <th>Category</th>\n      <th></th>\n    </tr>\n  </thead>\n  <tbody>\n    <tr>\n      <th>Furniture</th>\n      <td>5</td>\n    </tr>\n    <tr>\n      <th>Office Supplies</th>\n      <td>11</td>\n    </tr>\n    <tr>\n      <th>Technology</th>\n      <td>9</td>\n    </tr>\n  </tbody>\n</table>\n</div>",
      "text/plain": "                 Order ID\nCategory                 \nFurniture               5\nOffice Supplies        11\nTechnology              9"
     },
     "execution_count": 55,
     "metadata": {},
     "output_type": "execute_result"
    }
   ],
   "source": [
    "top_25_orders.groupby(\"Category\").agg({\"Order ID\":\"count\"})"
   ]
  },
  {
   "cell_type": "markdown",
   "metadata": {},
   "source": [
    "#### And operation\n",
    "Question 6: Among the orders with sales>250 and profit>50, find the product name of the fourth highest order based on sales value.\n",
    "\n",
    "    a)Motorola Headset, with Caller ID\n",
    "    b)Panasonic Printer, Durable\t\n",
    "    c)Hoover Microwave, Red\t\n",
    "    d)Fellowes Lockers, Industrial\t"
   ]
  },
  {
   "cell_type": "code",
   "execution_count": 57,
   "metadata": {},
   "outputs": [
    {
     "data": {
      "text/html": "<div>\n<style scoped>\n    .dataframe tbody tr th:only-of-type {\n        vertical-align: middle;\n    }\n\n    .dataframe tbody tr th {\n        vertical-align: top;\n    }\n\n    .dataframe thead th {\n        text-align: right;\n    }\n</style>\n<table border=\"1\" class=\"dataframe\">\n  <thead>\n    <tr style=\"text-align: right;\">\n      <th></th>\n      <th>Order ID</th>\n      <th>Product Name</th>\n      <th>Discount</th>\n      <th>Sales</th>\n      <th>Profit</th>\n      <th>Quantity</th>\n      <th>Category</th>\n      <th>Sub-Category</th>\n      <th>Order ID len</th>\n    </tr>\n  </thead>\n  <tbody>\n    <tr>\n      <th>30</th>\n      <td>AZ-2011-1410648</td>\n      <td>Nokia Smart Phone, Full Size</td>\n      <td>0.0</td>\n      <td>1908</td>\n      <td>820</td>\n      <td>3</td>\n      <td>Technology</td>\n      <td>Phones</td>\n      <td>15</td>\n    </tr>\n    <tr>\n      <th>58</th>\n      <td>AZ-2011-176674</td>\n      <td>Hoover Microwave, Red</td>\n      <td>0.1</td>\n      <td>1667</td>\n      <td>185</td>\n      <td>6</td>\n      <td>Office Supplies</td>\n      <td>Appliances</td>\n      <td>14</td>\n    </tr>\n    <tr>\n      <th>8</th>\n      <td>AZ-2011-1174243</td>\n      <td>Nokia Audio Dock, with Caller ID</td>\n      <td>0.0</td>\n      <td>1334</td>\n      <td>200</td>\n      <td>8</td>\n      <td>Technology</td>\n      <td>Phones</td>\n      <td>15</td>\n    </tr>\n    <tr>\n      <th>20</th>\n      <td>AZ-2011-1322840</td>\n      <td>Motorola Headset, with Caller ID</td>\n      <td>0.0</td>\n      <td>957</td>\n      <td>316</td>\n      <td>12</td>\n      <td>Technology</td>\n      <td>Phones</td>\n      <td>15</td>\n    </tr>\n    <tr>\n      <th>3</th>\n      <td>AZ-2011-1372644</td>\n      <td>Panasonic Printer, Durable</td>\n      <td>0.0</td>\n      <td>800</td>\n      <td>168</td>\n      <td>3</td>\n      <td>Technology</td>\n      <td>Machines</td>\n      <td>15</td>\n    </tr>\n    <tr>\n      <th>18</th>\n      <td>AZ-2011-1406494</td>\n      <td>Fellowes Lockers, Industrial</td>\n      <td>0.1</td>\n      <td>748</td>\n      <td>283</td>\n      <td>4</td>\n      <td>Office Supplies</td>\n      <td>Storage</td>\n      <td>15</td>\n    </tr>\n    <tr>\n      <th>39</th>\n      <td>AZ-2011-1536006</td>\n      <td>Logitech Keyboard, Programmable</td>\n      <td>0.0</td>\n      <td>666</td>\n      <td>66</td>\n      <td>9</td>\n      <td>Technology</td>\n      <td>Accessories</td>\n      <td>15</td>\n    </tr>\n    <tr>\n      <th>33</th>\n      <td>AZ-2011-1445262</td>\n      <td>Apple Smart Phone, Cordless</td>\n      <td>0.0</td>\n      <td>636</td>\n      <td>140</td>\n      <td>1</td>\n      <td>Technology</td>\n      <td>Phones</td>\n      <td>15</td>\n    </tr>\n    <tr>\n      <th>31</th>\n      <td>AZ-2011-144325</td>\n      <td>Bush Stackable Bookrack, Pine</td>\n      <td>0.0</td>\n      <td>630</td>\n      <td>132</td>\n      <td>5</td>\n      <td>Furniture</td>\n      <td>Bookcases</td>\n      <td>14</td>\n    </tr>\n    <tr>\n      <th>14</th>\n      <td>AZ-2011-1260928</td>\n      <td>Eldon File Cart, Single Width</td>\n      <td>0.1</td>\n      <td>576</td>\n      <td>51</td>\n      <td>5</td>\n      <td>Office Supplies</td>\n      <td>Storage</td>\n      <td>15</td>\n    </tr>\n    <tr>\n      <th>12</th>\n      <td>AZ-2011-1253407</td>\n      <td>Safco Stackable Bookrack, Pine</td>\n      <td>0.1</td>\n      <td>541</td>\n      <td>156</td>\n      <td>4</td>\n      <td>Furniture</td>\n      <td>Bookcases</td>\n      <td>15</td>\n    </tr>\n    <tr>\n      <th>48</th>\n      <td>AZ-2011-1672552</td>\n      <td>Binney &amp; Smith Sketch Pad, Blue</td>\n      <td>0.0</td>\n      <td>510</td>\n      <td>132</td>\n      <td>11</td>\n      <td>Office Supplies</td>\n      <td>Art</td>\n      <td>15</td>\n    </tr>\n    <tr>\n      <th>52</th>\n      <td>AZ-2011-1722024</td>\n      <td>Cisco Audio Dock, VoIP</td>\n      <td>0.0</td>\n      <td>364</td>\n      <td>142</td>\n      <td>2</td>\n      <td>Technology</td>\n      <td>Phones</td>\n      <td>15</td>\n    </tr>\n    <tr>\n      <th>0</th>\n      <td>AZ-2011-1902971</td>\n      <td>Wilson Jones Binding Machine, Clear</td>\n      <td>0.0</td>\n      <td>339</td>\n      <td>102</td>\n      <td>7</td>\n      <td>Office Supplies</td>\n      <td>Binders</td>\n      <td>15</td>\n    </tr>\n    <tr>\n      <th>17</th>\n      <td>AZ-2011-130330</td>\n      <td>Office Star Chairmat, Adjustable</td>\n      <td>0.1</td>\n      <td>307</td>\n      <td>99</td>\n      <td>5</td>\n      <td>Furniture</td>\n      <td>Chairs</td>\n      <td>14</td>\n    </tr>\n    <tr>\n      <th>2</th>\n      <td>AZ-2011-1087704</td>\n      <td>Belkin Flash Drive, Bluetooth</td>\n      <td>0.0</td>\n      <td>294</td>\n      <td>109</td>\n      <td>7</td>\n      <td>Technology</td>\n      <td>Accessories</td>\n      <td>15</td>\n    </tr>\n  </tbody>\n</table>\n</div>",
      "text/plain": "           Order ID                         Product Name  Discount  Sales  \\\n30  AZ-2011-1410648         Nokia Smart Phone, Full Size       0.0   1908   \n58   AZ-2011-176674                Hoover Microwave, Red       0.1   1667   \n8   AZ-2011-1174243     Nokia Audio Dock, with Caller ID       0.0   1334   \n20  AZ-2011-1322840     Motorola Headset, with Caller ID       0.0    957   \n3   AZ-2011-1372644           Panasonic Printer, Durable       0.0    800   \n18  AZ-2011-1406494         Fellowes Lockers, Industrial       0.1    748   \n39  AZ-2011-1536006      Logitech Keyboard, Programmable       0.0    666   \n33  AZ-2011-1445262          Apple Smart Phone, Cordless       0.0    636   \n31   AZ-2011-144325        Bush Stackable Bookrack, Pine       0.0    630   \n14  AZ-2011-1260928        Eldon File Cart, Single Width       0.1    576   \n12  AZ-2011-1253407       Safco Stackable Bookrack, Pine       0.1    541   \n48  AZ-2011-1672552      Binney & Smith Sketch Pad, Blue       0.0    510   \n52  AZ-2011-1722024               Cisco Audio Dock, VoIP       0.0    364   \n0   AZ-2011-1902971  Wilson Jones Binding Machine, Clear       0.0    339   \n17   AZ-2011-130330     Office Star Chairmat, Adjustable       0.1    307   \n2   AZ-2011-1087704        Belkin Flash Drive, Bluetooth       0.0    294   \n\n    Profit  Quantity         Category Sub-Category  Order ID len  \n30     820         3       Technology       Phones            15  \n58     185         6  Office Supplies   Appliances            14  \n8      200         8       Technology       Phones            15  \n20     316        12       Technology       Phones            15  \n3      168         3       Technology     Machines            15  \n18     283         4  Office Supplies      Storage            15  \n39      66         9       Technology  Accessories            15  \n33     140         1       Technology       Phones            15  \n31     132         5        Furniture    Bookcases            14  \n14      51         5  Office Supplies      Storage            15  \n12     156         4        Furniture    Bookcases            15  \n48     132        11  Office Supplies          Art            15  \n52     142         2       Technology       Phones            15  \n0      102         7  Office Supplies      Binders            15  \n17      99         5        Furniture       Chairs            14  \n2      109         7       Technology  Accessories            15  "
     },
     "execution_count": 57,
     "metadata": {},
     "output_type": "execute_result"
    }
   ],
   "source": [
    "#your code here\n",
    "\n",
    "df_combined[(df_combined['Sales']>250) & (df_combined['Profit']>50)].sort_values(by=\"Sales\", ascending=False)"
   ]
  },
  {
   "cell_type": "markdown",
   "metadata": {},
   "source": [
    "#### Column manipulation\n",
    "Question 7: Remove the orders with negative profit by dropping the corresponding rows with negative `Profit`. Find the product that makes the lowest profit per Quantity in the Technology category.\n",
    "\n",
    "    a) Nokia Audio Dock, with Caller ID\n",
    "    b) Logitech Keyboard, Programmable\n",
    "    c) Motorola Headset, with Caller ID\n",
    "    d) Belkin Flash Drive, Bluetooth"
   ]
  },
  {
   "cell_type": "code",
   "execution_count": 66,
   "metadata": {},
   "outputs": [],
   "source": [
    "df_combined = df_combined.reset_index()"
   ]
  },
  {
   "cell_type": "code",
   "execution_count": 68,
   "metadata": {},
   "outputs": [
    {
     "name": "stdout",
     "output_type": "stream",
     "text": [
      "61\n",
      "    index         Order ID                        Product Name  Discount  \\\n",
      "4       4  AZ-2011-1362199           Sanford Pens, Fluorescent       0.5   \n",
      "20     21  AZ-2011-1328316  Office Star Bag Chairs, Set of Two       0.5   \n",
      "23     24  AZ-2011-1335871                Tenex Shelving, Blue       0.5   \n",
      "30     34   AZ-2011-145488        Rogers File Cart, Industrial       0.4   \n",
      "36     40  AZ-2011-1546153             Eldon Trays, Wire Frame       0.4   \n",
      "37     41  AZ-2011-1584049                  Brother Ink, Laser       0.0   \n",
      "39     43  AZ-2011-1589827    Novimex Steel Folding Chair, Red       0.6   \n",
      "40     44  AZ-2011-1603295          Ibico Binder Covers, Clear       0.5   \n",
      "41     45  AZ-2011-1645475       BIC Highlighters, Fluorescent       0.5   \n",
      "\n",
      "    Sales  Profit  Quantity         Category Sub-Category  Order ID len  \n",
      "4      25     -11         4  Office Supplies          Art            15  \n",
      "20     87     -78         3        Furniture       Chairs            15  \n",
      "23     82     -74         3  Office Supplies      Storage            15  \n",
      "30    255     -98         3  Office Supplies      Storage            14  \n",
      "36     56      -1         2  Office Supplies      Storage            15  \n",
      "37    442       0         3       Technology      Copiers            15  \n",
      "39    164     -70         5        Furniture       Chairs            15  \n",
      "40     20     -17         3  Office Supplies      Binders            15  \n",
      "41     30     -10         3  Office Supplies          Art            15  \n",
      "52\n"
     ]
    },
    {
     "data": {
      "text/html": "<div>\n<style scoped>\n    .dataframe tbody tr th:only-of-type {\n        vertical-align: middle;\n    }\n\n    .dataframe tbody tr th {\n        vertical-align: top;\n    }\n\n    .dataframe thead th {\n        text-align: right;\n    }\n</style>\n<table border=\"1\" class=\"dataframe\">\n  <thead>\n    <tr style=\"text-align: right;\">\n      <th></th>\n      <th>index</th>\n      <th>Order ID</th>\n      <th>Product Name</th>\n      <th>Discount</th>\n      <th>Sales</th>\n      <th>Profit</th>\n      <th>Quantity</th>\n      <th>Category</th>\n      <th>Sub-Category</th>\n      <th>Order ID len</th>\n    </tr>\n  </thead>\n  <tbody>\n    <tr>\n      <th>0</th>\n      <td>0</td>\n      <td>AZ-2011-1029887</td>\n      <td>Novimex Color Coded Labels, 5000 Label Set</td>\n      <td>0.0</td>\n      <td>26</td>\n      <td>7</td>\n      <td>2</td>\n      <td>Office Supplies</td>\n      <td>Labels</td>\n      <td>15</td>\n    </tr>\n    <tr>\n      <th>1</th>\n      <td>1</td>\n      <td>AZ-2011-107716</td>\n      <td>Deflect-O Door Stop, Erganomic</td>\n      <td>0.0</td>\n      <td>85</td>\n      <td>15</td>\n      <td>2</td>\n      <td>Furniture</td>\n      <td>Furnishings</td>\n      <td>14</td>\n    </tr>\n    <tr>\n      <th>2</th>\n      <td>2</td>\n      <td>AZ-2011-1087704</td>\n      <td>Belkin Flash Drive, Bluetooth</td>\n      <td>0.0</td>\n      <td>294</td>\n      <td>109</td>\n      <td>7</td>\n      <td>Technology</td>\n      <td>Accessories</td>\n      <td>15</td>\n    </tr>\n    <tr>\n      <th>3</th>\n      <td>3</td>\n      <td>AZ-2011-1372644</td>\n      <td>Panasonic Printer, Durable</td>\n      <td>0.0</td>\n      <td>800</td>\n      <td>168</td>\n      <td>3</td>\n      <td>Technology</td>\n      <td>Machines</td>\n      <td>15</td>\n    </tr>\n    <tr>\n      <th>5</th>\n      <td>5</td>\n      <td>AZ-2011-1114253</td>\n      <td>Tenex Stacking Tray, Black</td>\n      <td>0.0</td>\n      <td>76</td>\n      <td>11</td>\n      <td>3</td>\n      <td>Furniture</td>\n      <td>Furnishings</td>\n      <td>15</td>\n    </tr>\n    <tr>\n      <th>6</th>\n      <td>6</td>\n      <td>AZ-2011-1116129</td>\n      <td>Avery Binding Machine, Durable</td>\n      <td>0.0</td>\n      <td>252</td>\n      <td>15</td>\n      <td>5</td>\n      <td>Office Supplies</td>\n      <td>Binders</td>\n      <td>15</td>\n    </tr>\n    <tr>\n      <th>7</th>\n      <td>7</td>\n      <td>AZ-2011-1137571</td>\n      <td>Stiletto Letter Opener, Easy Grip</td>\n      <td>0.0</td>\n      <td>90</td>\n      <td>17</td>\n      <td>3</td>\n      <td>Office Supplies</td>\n      <td>Supplies</td>\n      <td>15</td>\n    </tr>\n    <tr>\n      <th>8</th>\n      <td>8</td>\n      <td>AZ-2011-1174243</td>\n      <td>Nokia Audio Dock, with Caller ID</td>\n      <td>0.0</td>\n      <td>1334</td>\n      <td>200</td>\n      <td>8</td>\n      <td>Technology</td>\n      <td>Phones</td>\n      <td>15</td>\n    </tr>\n    <tr>\n      <th>9</th>\n      <td>9</td>\n      <td>AZ-2011-122598</td>\n      <td>Avery Removable Labels, Alphabetical</td>\n      <td>0.0</td>\n      <td>32</td>\n      <td>6</td>\n      <td>3</td>\n      <td>Office Supplies</td>\n      <td>Labels</td>\n      <td>14</td>\n    </tr>\n    <tr>\n      <th>10</th>\n      <td>10</td>\n      <td>AZ-2011-1229073</td>\n      <td>Deflect-O Door Stop, Black</td>\n      <td>0.0</td>\n      <td>88</td>\n      <td>3</td>\n      <td>2</td>\n      <td>Furniture</td>\n      <td>Furnishings</td>\n      <td>15</td>\n    </tr>\n    <tr>\n      <th>11</th>\n      <td>11</td>\n      <td>AZ-2011-1240916</td>\n      <td>Boston Canvas, Water Color</td>\n      <td>0.0</td>\n      <td>284</td>\n      <td>43</td>\n      <td>5</td>\n      <td>Office Supplies</td>\n      <td>Art</td>\n      <td>15</td>\n    </tr>\n    <tr>\n      <th>12</th>\n      <td>12</td>\n      <td>AZ-2011-1253407</td>\n      <td>Safco Stackable Bookrack, Pine</td>\n      <td>0.1</td>\n      <td>541</td>\n      <td>156</td>\n      <td>4</td>\n      <td>Furniture</td>\n      <td>Bookcases</td>\n      <td>15</td>\n    </tr>\n    <tr>\n      <th>13</th>\n      <td>14</td>\n      <td>AZ-2011-1260928</td>\n      <td>Eldon File Cart, Single Width</td>\n      <td>0.1</td>\n      <td>576</td>\n      <td>51</td>\n      <td>5</td>\n      <td>Office Supplies</td>\n      <td>Storage</td>\n      <td>15</td>\n    </tr>\n    <tr>\n      <th>14</th>\n      <td>15</td>\n      <td>AZ-2011-1278696</td>\n      <td>Acco Binder, Clear</td>\n      <td>0.0</td>\n      <td>44</td>\n      <td>14</td>\n      <td>3</td>\n      <td>Office Supplies</td>\n      <td>Binders</td>\n      <td>15</td>\n    </tr>\n    <tr>\n      <th>15</th>\n      <td>16</td>\n      <td>AZ-2011-1279238</td>\n      <td>Kleencut Scissors, Easy Grip</td>\n      <td>0.0</td>\n      <td>96</td>\n      <td>21</td>\n      <td>4</td>\n      <td>Office Supplies</td>\n      <td>Supplies</td>\n      <td>15</td>\n    </tr>\n    <tr>\n      <th>16</th>\n      <td>17</td>\n      <td>AZ-2011-130330</td>\n      <td>Office Star Chairmat, Adjustable</td>\n      <td>0.1</td>\n      <td>307</td>\n      <td>99</td>\n      <td>5</td>\n      <td>Furniture</td>\n      <td>Chairs</td>\n      <td>14</td>\n    </tr>\n    <tr>\n      <th>17</th>\n      <td>18</td>\n      <td>AZ-2011-1406494</td>\n      <td>Fellowes Lockers, Industrial</td>\n      <td>0.1</td>\n      <td>748</td>\n      <td>283</td>\n      <td>4</td>\n      <td>Office Supplies</td>\n      <td>Storage</td>\n      <td>15</td>\n    </tr>\n    <tr>\n      <th>18</th>\n      <td>19</td>\n      <td>AZ-2011-1315772</td>\n      <td>Breville Toaster, Black</td>\n      <td>0.0</td>\n      <td>152</td>\n      <td>44</td>\n      <td>2</td>\n      <td>Office Supplies</td>\n      <td>Appliances</td>\n      <td>15</td>\n    </tr>\n    <tr>\n      <th>19</th>\n      <td>20</td>\n      <td>AZ-2011-1322840</td>\n      <td>Motorola Headset, with Caller ID</td>\n      <td>0.0</td>\n      <td>957</td>\n      <td>316</td>\n      <td>12</td>\n      <td>Technology</td>\n      <td>Phones</td>\n      <td>15</td>\n    </tr>\n    <tr>\n      <th>21</th>\n      <td>22</td>\n      <td>AZ-2011-1331897</td>\n      <td>Avery Binder Covers, Economy</td>\n      <td>0.0</td>\n      <td>33</td>\n      <td>10</td>\n      <td>3</td>\n      <td>Office Supplies</td>\n      <td>Binders</td>\n      <td>15</td>\n    </tr>\n    <tr>\n      <th>22</th>\n      <td>23</td>\n      <td>AZ-2011-1332474</td>\n      <td>OIC Thumb Tacks, Bulk Pack</td>\n      <td>0.0</td>\n      <td>28</td>\n      <td>10</td>\n      <td>2</td>\n      <td>Office Supplies</td>\n      <td>Fasteners</td>\n      <td>15</td>\n    </tr>\n    <tr>\n      <th>24</th>\n      <td>26</td>\n      <td>AZ-2011-1362591</td>\n      <td>Tenex Light Bulb, Black</td>\n      <td>0.0</td>\n      <td>38</td>\n      <td>11</td>\n      <td>2</td>\n      <td>Furniture</td>\n      <td>Furnishings</td>\n      <td>15</td>\n    </tr>\n    <tr>\n      <th>25</th>\n      <td>27</td>\n      <td>AZ-2011-1366554</td>\n      <td>Avery Index Tab, Durable</td>\n      <td>0.0</td>\n      <td>13</td>\n      <td>3</td>\n      <td>2</td>\n      <td>Office Supplies</td>\n      <td>Binders</td>\n      <td>15</td>\n    </tr>\n    <tr>\n      <th>26</th>\n      <td>30</td>\n      <td>AZ-2011-1410648</td>\n      <td>Nokia Smart Phone, Full Size</td>\n      <td>0.0</td>\n      <td>1908</td>\n      <td>820</td>\n      <td>3</td>\n      <td>Technology</td>\n      <td>Phones</td>\n      <td>15</td>\n    </tr>\n    <tr>\n      <th>27</th>\n      <td>31</td>\n      <td>AZ-2011-144325</td>\n      <td>Bush Stackable Bookrack, Pine</td>\n      <td>0.0</td>\n      <td>630</td>\n      <td>132</td>\n      <td>5</td>\n      <td>Furniture</td>\n      <td>Bookcases</td>\n      <td>14</td>\n    </tr>\n    <tr>\n      <th>28</th>\n      <td>32</td>\n      <td>AZ-2011-1445249</td>\n      <td>Boston Pens, Fluorescent</td>\n      <td>0.0</td>\n      <td>46</td>\n      <td>8</td>\n      <td>3</td>\n      <td>Office Supplies</td>\n      <td>Art</td>\n      <td>15</td>\n    </tr>\n    <tr>\n      <th>29</th>\n      <td>33</td>\n      <td>AZ-2011-1445262</td>\n      <td>Apple Smart Phone, Cordless</td>\n      <td>0.0</td>\n      <td>636</td>\n      <td>140</td>\n      <td>1</td>\n      <td>Technology</td>\n      <td>Phones</td>\n      <td>15</td>\n    </tr>\n    <tr>\n      <th>31</th>\n      <td>35</td>\n      <td>AZ-2011-1474073</td>\n      <td>Wilson Jones Hole Reinforcements, Recycled</td>\n      <td>0.0</td>\n      <td>10</td>\n      <td>2</td>\n      <td>2</td>\n      <td>Office Supplies</td>\n      <td>Binders</td>\n      <td>15</td>\n    </tr>\n    <tr>\n      <th>32</th>\n      <td>36</td>\n      <td>AZ-2011-1475254</td>\n      <td>Harbour Creations Color Coded Labels, Adjustable</td>\n      <td>0.0</td>\n      <td>54</td>\n      <td>8</td>\n      <td>5</td>\n      <td>Office Supplies</td>\n      <td>Labels</td>\n      <td>15</td>\n    </tr>\n    <tr>\n      <th>33</th>\n      <td>37</td>\n      <td>AZ-2011-1484679</td>\n      <td>Binney &amp; Smith Markers, Easy-Erase</td>\n      <td>0.0</td>\n      <td>73</td>\n      <td>29</td>\n      <td>3</td>\n      <td>Office Supplies</td>\n      <td>Art</td>\n      <td>15</td>\n    </tr>\n    <tr>\n      <th>34</th>\n      <td>38</td>\n      <td>AZ-2011-1499597</td>\n      <td>Boston Markers, Fluorescent</td>\n      <td>0.0</td>\n      <td>193</td>\n      <td>29</td>\n      <td>7</td>\n      <td>Office Supplies</td>\n      <td>Art</td>\n      <td>15</td>\n    </tr>\n    <tr>\n      <th>35</th>\n      <td>39</td>\n      <td>AZ-2011-1536006</td>\n      <td>Logitech Keyboard, Programmable</td>\n      <td>0.0</td>\n      <td>666</td>\n      <td>66</td>\n      <td>9</td>\n      <td>Technology</td>\n      <td>Accessories</td>\n      <td>15</td>\n    </tr>\n    <tr>\n      <th>38</th>\n      <td>42</td>\n      <td>AZ-2011-1584987</td>\n      <td>Tenex File Cart, Industrial</td>\n      <td>0.1</td>\n      <td>241</td>\n      <td>24</td>\n      <td>2</td>\n      <td>Office Supplies</td>\n      <td>Storage</td>\n      <td>15</td>\n    </tr>\n    <tr>\n      <th>42</th>\n      <td>46</td>\n      <td>AZ-2011-1655349</td>\n      <td>Fiskars Trimmer, Easy Grip</td>\n      <td>0.0</td>\n      <td>176</td>\n      <td>65</td>\n      <td>4</td>\n      <td>Office Supplies</td>\n      <td>Supplies</td>\n      <td>15</td>\n    </tr>\n    <tr>\n      <th>43</th>\n      <td>47</td>\n      <td>AZ-2011-1661180</td>\n      <td>Jiffy Peel and Seal, Recycled</td>\n      <td>0.0</td>\n      <td>94</td>\n      <td>16</td>\n      <td>5</td>\n      <td>Office Supplies</td>\n      <td>Envelopes</td>\n      <td>15</td>\n    </tr>\n    <tr>\n      <th>44</th>\n      <td>48</td>\n      <td>AZ-2011-1672552</td>\n      <td>Binney &amp; Smith Sketch Pad, Blue</td>\n      <td>0.0</td>\n      <td>510</td>\n      <td>132</td>\n      <td>11</td>\n      <td>Office Supplies</td>\n      <td>Art</td>\n      <td>15</td>\n    </tr>\n    <tr>\n      <th>45</th>\n      <td>50</td>\n      <td>AZ-2011-1680940</td>\n      <td>Smead Round Labels, 5000 Label Set</td>\n      <td>0.0</td>\n      <td>15</td>\n      <td>1</td>\n      <td>2</td>\n      <td>Office Supplies</td>\n      <td>Labels</td>\n      <td>15</td>\n    </tr>\n    <tr>\n      <th>46</th>\n      <td>51</td>\n      <td>AZ-2011-1693949</td>\n      <td>Harbour Creations Color Coded Labels, Laser Pr...</td>\n      <td>0.0</td>\n      <td>39</td>\n      <td>8</td>\n      <td>3</td>\n      <td>Office Supplies</td>\n      <td>Labels</td>\n      <td>15</td>\n    </tr>\n    <tr>\n      <th>47</th>\n      <td>52</td>\n      <td>AZ-2011-1722024</td>\n      <td>Cisco Audio Dock, VoIP</td>\n      <td>0.0</td>\n      <td>364</td>\n      <td>142</td>\n      <td>2</td>\n      <td>Technology</td>\n      <td>Phones</td>\n      <td>15</td>\n    </tr>\n    <tr>\n      <th>48</th>\n      <td>53</td>\n      <td>AZ-2011-1723003</td>\n      <td>Ibico Index Tab, Clear</td>\n      <td>0.0</td>\n      <td>18</td>\n      <td>3</td>\n      <td>2</td>\n      <td>Office Supplies</td>\n      <td>Binders</td>\n      <td>15</td>\n    </tr>\n    <tr>\n      <th>49</th>\n      <td>56</td>\n      <td>AZ-2011-1735855</td>\n      <td>Deflect-O Photo Frame, Black</td>\n      <td>0.0</td>\n      <td>156</td>\n      <td>34</td>\n      <td>3</td>\n      <td>Furniture</td>\n      <td>Furnishings</td>\n      <td>15</td>\n    </tr>\n    <tr>\n      <th>50</th>\n      <td>57</td>\n      <td>AZ-2011-1754604</td>\n      <td>Avery Binding Machine, Economy</td>\n      <td>0.0</td>\n      <td>98</td>\n      <td>12</td>\n      <td>2</td>\n      <td>Office Supplies</td>\n      <td>Binders</td>\n      <td>15</td>\n    </tr>\n    <tr>\n      <th>51</th>\n      <td>58</td>\n      <td>AZ-2011-176674</td>\n      <td>Hoover Microwave, Red</td>\n      <td>0.1</td>\n      <td>1667</td>\n      <td>185</td>\n      <td>6</td>\n      <td>Office Supplies</td>\n      <td>Appliances</td>\n      <td>14</td>\n    </tr>\n    <tr>\n      <th>52</th>\n      <td>0</td>\n      <td>AZ-2011-1902971</td>\n      <td>Wilson Jones Binding Machine, Clear</td>\n      <td>0.0</td>\n      <td>339</td>\n      <td>102</td>\n      <td>7</td>\n      <td>Office Supplies</td>\n      <td>Binders</td>\n      <td>15</td>\n    </tr>\n    <tr>\n      <th>53</th>\n      <td>1</td>\n      <td>AZ-2011-1916360</td>\n      <td>Dania 3-Shelf Cabinet, Mobile</td>\n      <td>0.0</td>\n      <td>288</td>\n      <td>20</td>\n      <td>2</td>\n      <td>Furniture</td>\n      <td>Bookcases</td>\n      <td>15</td>\n    </tr>\n    <tr>\n      <th>54</th>\n      <td>2</td>\n      <td>AZ-2011-1916555</td>\n      <td>Eldon Folders, Single Width</td>\n      <td>0.4</td>\n      <td>61</td>\n      <td>7</td>\n      <td>6</td>\n      <td>Office Supplies</td>\n      <td>Storage</td>\n      <td>15</td>\n    </tr>\n    <tr>\n      <th>55</th>\n      <td>3</td>\n      <td>AZ-2011-1930058</td>\n      <td>Sanford Markers, Easy-Erase</td>\n      <td>0.0</td>\n      <td>71</td>\n      <td>1</td>\n      <td>3</td>\n      <td>Office Supplies</td>\n      <td>Art</td>\n      <td>15</td>\n    </tr>\n    <tr>\n      <th>56</th>\n      <td>4</td>\n      <td>AZ-2011-1967754</td>\n      <td>Logitech Numeric Keypad, USB</td>\n      <td>0.0</td>\n      <td>93</td>\n      <td>40</td>\n      <td>2</td>\n      <td>Technology</td>\n      <td>Accessories</td>\n      <td>15</td>\n    </tr>\n    <tr>\n      <th>57</th>\n      <td>5</td>\n      <td>AZ-2011-1976919</td>\n      <td>Boston Markers, Blue</td>\n      <td>0.0</td>\n      <td>132</td>\n      <td>54</td>\n      <td>5</td>\n      <td>Office Supplies</td>\n      <td>Art</td>\n      <td>15</td>\n    </tr>\n    <tr>\n      <th>58</th>\n      <td>6</td>\n      <td>AZ-2011-2001312</td>\n      <td>Avery Binding Machine, Clear</td>\n      <td>0.0</td>\n      <td>97</td>\n      <td>12</td>\n      <td>2</td>\n      <td>Office Supplies</td>\n      <td>Binders</td>\n      <td>15</td>\n    </tr>\n    <tr>\n      <th>59</th>\n      <td>7</td>\n      <td>AZ-2011-2002251</td>\n      <td>SanDisk Computer Printout Paper, 8.5 x 11</td>\n      <td>0.0</td>\n      <td>136</td>\n      <td>15</td>\n      <td>4</td>\n      <td>Office Supplies</td>\n      <td>Paper</td>\n      <td>15</td>\n    </tr>\n    <tr>\n      <th>60</th>\n      <td>8</td>\n      <td>AZ-2011-201891</td>\n      <td>Cameo Clasp Envelope, with clear poly window</td>\n      <td>0.0</td>\n      <td>52</td>\n      <td>19</td>\n      <td>4</td>\n      <td>Office Supplies</td>\n      <td>Envelopes</td>\n      <td>14</td>\n    </tr>\n  </tbody>\n</table>\n</div>",
      "text/plain": "    index         Order ID                                       Product Name  \\\n0       0  AZ-2011-1029887         Novimex Color Coded Labels, 5000 Label Set   \n1       1   AZ-2011-107716                     Deflect-O Door Stop, Erganomic   \n2       2  AZ-2011-1087704                      Belkin Flash Drive, Bluetooth   \n3       3  AZ-2011-1372644                         Panasonic Printer, Durable   \n5       5  AZ-2011-1114253                         Tenex Stacking Tray, Black   \n6       6  AZ-2011-1116129                     Avery Binding Machine, Durable   \n7       7  AZ-2011-1137571                  Stiletto Letter Opener, Easy Grip   \n8       8  AZ-2011-1174243                   Nokia Audio Dock, with Caller ID   \n9       9   AZ-2011-122598               Avery Removable Labels, Alphabetical   \n10     10  AZ-2011-1229073                         Deflect-O Door Stop, Black   \n11     11  AZ-2011-1240916                         Boston Canvas, Water Color   \n12     12  AZ-2011-1253407                     Safco Stackable Bookrack, Pine   \n13     14  AZ-2011-1260928                      Eldon File Cart, Single Width   \n14     15  AZ-2011-1278696                                 Acco Binder, Clear   \n15     16  AZ-2011-1279238                       Kleencut Scissors, Easy Grip   \n16     17   AZ-2011-130330                   Office Star Chairmat, Adjustable   \n17     18  AZ-2011-1406494                       Fellowes Lockers, Industrial   \n18     19  AZ-2011-1315772                            Breville Toaster, Black   \n19     20  AZ-2011-1322840                   Motorola Headset, with Caller ID   \n21     22  AZ-2011-1331897                       Avery Binder Covers, Economy   \n22     23  AZ-2011-1332474                         OIC Thumb Tacks, Bulk Pack   \n24     26  AZ-2011-1362591                            Tenex Light Bulb, Black   \n25     27  AZ-2011-1366554                           Avery Index Tab, Durable   \n26     30  AZ-2011-1410648                       Nokia Smart Phone, Full Size   \n27     31   AZ-2011-144325                      Bush Stackable Bookrack, Pine   \n28     32  AZ-2011-1445249                           Boston Pens, Fluorescent   \n29     33  AZ-2011-1445262                        Apple Smart Phone, Cordless   \n31     35  AZ-2011-1474073         Wilson Jones Hole Reinforcements, Recycled   \n32     36  AZ-2011-1475254   Harbour Creations Color Coded Labels, Adjustable   \n33     37  AZ-2011-1484679                 Binney & Smith Markers, Easy-Erase   \n34     38  AZ-2011-1499597                        Boston Markers, Fluorescent   \n35     39  AZ-2011-1536006                    Logitech Keyboard, Programmable   \n38     42  AZ-2011-1584987                        Tenex File Cart, Industrial   \n42     46  AZ-2011-1655349                         Fiskars Trimmer, Easy Grip   \n43     47  AZ-2011-1661180                      Jiffy Peel and Seal, Recycled   \n44     48  AZ-2011-1672552                    Binney & Smith Sketch Pad, Blue   \n45     50  AZ-2011-1680940                 Smead Round Labels, 5000 Label Set   \n46     51  AZ-2011-1693949  Harbour Creations Color Coded Labels, Laser Pr...   \n47     52  AZ-2011-1722024                             Cisco Audio Dock, VoIP   \n48     53  AZ-2011-1723003                             Ibico Index Tab, Clear   \n49     56  AZ-2011-1735855                       Deflect-O Photo Frame, Black   \n50     57  AZ-2011-1754604                     Avery Binding Machine, Economy   \n51     58   AZ-2011-176674                              Hoover Microwave, Red   \n52      0  AZ-2011-1902971                Wilson Jones Binding Machine, Clear   \n53      1  AZ-2011-1916360                      Dania 3-Shelf Cabinet, Mobile   \n54      2  AZ-2011-1916555                        Eldon Folders, Single Width   \n55      3  AZ-2011-1930058                        Sanford Markers, Easy-Erase   \n56      4  AZ-2011-1967754                       Logitech Numeric Keypad, USB   \n57      5  AZ-2011-1976919                               Boston Markers, Blue   \n58      6  AZ-2011-2001312                       Avery Binding Machine, Clear   \n59      7  AZ-2011-2002251          SanDisk Computer Printout Paper, 8.5 x 11   \n60      8   AZ-2011-201891       Cameo Clasp Envelope, with clear poly window   \n\n    Discount  Sales  Profit  Quantity         Category Sub-Category  \\\n0        0.0     26       7         2  Office Supplies       Labels   \n1        0.0     85      15         2        Furniture  Furnishings   \n2        0.0    294     109         7       Technology  Accessories   \n3        0.0    800     168         3       Technology     Machines   \n5        0.0     76      11         3        Furniture  Furnishings   \n6        0.0    252      15         5  Office Supplies      Binders   \n7        0.0     90      17         3  Office Supplies     Supplies   \n8        0.0   1334     200         8       Technology       Phones   \n9        0.0     32       6         3  Office Supplies       Labels   \n10       0.0     88       3         2        Furniture  Furnishings   \n11       0.0    284      43         5  Office Supplies          Art   \n12       0.1    541     156         4        Furniture    Bookcases   \n13       0.1    576      51         5  Office Supplies      Storage   \n14       0.0     44      14         3  Office Supplies      Binders   \n15       0.0     96      21         4  Office Supplies     Supplies   \n16       0.1    307      99         5        Furniture       Chairs   \n17       0.1    748     283         4  Office Supplies      Storage   \n18       0.0    152      44         2  Office Supplies   Appliances   \n19       0.0    957     316        12       Technology       Phones   \n21       0.0     33      10         3  Office Supplies      Binders   \n22       0.0     28      10         2  Office Supplies    Fasteners   \n24       0.0     38      11         2        Furniture  Furnishings   \n25       0.0     13       3         2  Office Supplies      Binders   \n26       0.0   1908     820         3       Technology       Phones   \n27       0.0    630     132         5        Furniture    Bookcases   \n28       0.0     46       8         3  Office Supplies          Art   \n29       0.0    636     140         1       Technology       Phones   \n31       0.0     10       2         2  Office Supplies      Binders   \n32       0.0     54       8         5  Office Supplies       Labels   \n33       0.0     73      29         3  Office Supplies          Art   \n34       0.0    193      29         7  Office Supplies          Art   \n35       0.0    666      66         9       Technology  Accessories   \n38       0.1    241      24         2  Office Supplies      Storage   \n42       0.0    176      65         4  Office Supplies     Supplies   \n43       0.0     94      16         5  Office Supplies    Envelopes   \n44       0.0    510     132        11  Office Supplies          Art   \n45       0.0     15       1         2  Office Supplies       Labels   \n46       0.0     39       8         3  Office Supplies       Labels   \n47       0.0    364     142         2       Technology       Phones   \n48       0.0     18       3         2  Office Supplies      Binders   \n49       0.0    156      34         3        Furniture  Furnishings   \n50       0.0     98      12         2  Office Supplies      Binders   \n51       0.1   1667     185         6  Office Supplies   Appliances   \n52       0.0    339     102         7  Office Supplies      Binders   \n53       0.0    288      20         2        Furniture    Bookcases   \n54       0.4     61       7         6  Office Supplies      Storage   \n55       0.0     71       1         3  Office Supplies          Art   \n56       0.0     93      40         2       Technology  Accessories   \n57       0.0    132      54         5  Office Supplies          Art   \n58       0.0     97      12         2  Office Supplies      Binders   \n59       0.0    136      15         4  Office Supplies        Paper   \n60       0.0     52      19         4  Office Supplies    Envelopes   \n\n    Order ID len  \n0             15  \n1             14  \n2             15  \n3             15  \n5             15  \n6             15  \n7             15  \n8             15  \n9             14  \n10            15  \n11            15  \n12            15  \n13            15  \n14            15  \n15            15  \n16            14  \n17            15  \n18            15  \n19            15  \n21            15  \n22            15  \n24            15  \n25            15  \n26            15  \n27            14  \n28            15  \n29            15  \n31            15  \n32            15  \n33            15  \n34            15  \n35            15  \n38            15  \n42            15  \n43            15  \n44            15  \n45            15  \n46            15  \n47            15  \n48            15  \n49            15  \n50            15  \n51            14  \n52            15  \n53            15  \n54            15  \n55            15  \n56            15  \n57            15  \n58            15  \n59            15  \n60            14  "
     },
     "execution_count": 68,
     "metadata": {},
     "output_type": "execute_result"
    }
   ],
   "source": [
    "#your code here\n",
    "\n",
    "print(df_combined.shape[0])\n",
    "print(df_combined[df_combined['Profit'] <= 0])\n",
    "df_combined_posprofit = df_combined.drop(df_combined[df_combined['Profit'] <= 0].index, axis=0)\n",
    "print(df_combined_posprofit.shape[0])\n",
    "df_combined_posprofit\n"
   ]
  },
  {
   "cell_type": "code",
   "execution_count": 69,
   "metadata": {},
   "outputs": [
    {
     "data": {
      "text/html": "<div>\n<style scoped>\n    .dataframe tbody tr th:only-of-type {\n        vertical-align: middle;\n    }\n\n    .dataframe tbody tr th {\n        vertical-align: top;\n    }\n\n    .dataframe thead th {\n        text-align: right;\n    }\n</style>\n<table border=\"1\" class=\"dataframe\">\n  <thead>\n    <tr style=\"text-align: right;\">\n      <th></th>\n      <th>index</th>\n      <th>Order ID</th>\n      <th>Product Name</th>\n      <th>Discount</th>\n      <th>Sales</th>\n      <th>Profit</th>\n      <th>Quantity</th>\n      <th>Category</th>\n      <th>Sub-Category</th>\n      <th>Order ID len</th>\n      <th>Profit_Quantity</th>\n    </tr>\n  </thead>\n  <tbody>\n    <tr>\n      <th>0</th>\n      <td>0</td>\n      <td>AZ-2011-1029887</td>\n      <td>Novimex Color Coded Labels, 5000 Label Set</td>\n      <td>0.0</td>\n      <td>26</td>\n      <td>7</td>\n      <td>2</td>\n      <td>Office Supplies</td>\n      <td>Labels</td>\n      <td>15</td>\n      <td>3.500000</td>\n    </tr>\n    <tr>\n      <th>1</th>\n      <td>1</td>\n      <td>AZ-2011-107716</td>\n      <td>Deflect-O Door Stop, Erganomic</td>\n      <td>0.0</td>\n      <td>85</td>\n      <td>15</td>\n      <td>2</td>\n      <td>Furniture</td>\n      <td>Furnishings</td>\n      <td>14</td>\n      <td>7.500000</td>\n    </tr>\n    <tr>\n      <th>2</th>\n      <td>2</td>\n      <td>AZ-2011-1087704</td>\n      <td>Belkin Flash Drive, Bluetooth</td>\n      <td>0.0</td>\n      <td>294</td>\n      <td>109</td>\n      <td>7</td>\n      <td>Technology</td>\n      <td>Accessories</td>\n      <td>15</td>\n      <td>15.571429</td>\n    </tr>\n    <tr>\n      <th>3</th>\n      <td>3</td>\n      <td>AZ-2011-1372644</td>\n      <td>Panasonic Printer, Durable</td>\n      <td>0.0</td>\n      <td>800</td>\n      <td>168</td>\n      <td>3</td>\n      <td>Technology</td>\n      <td>Machines</td>\n      <td>15</td>\n      <td>56.000000</td>\n    </tr>\n    <tr>\n      <th>5</th>\n      <td>5</td>\n      <td>AZ-2011-1114253</td>\n      <td>Tenex Stacking Tray, Black</td>\n      <td>0.0</td>\n      <td>76</td>\n      <td>11</td>\n      <td>3</td>\n      <td>Furniture</td>\n      <td>Furnishings</td>\n      <td>15</td>\n      <td>3.666667</td>\n    </tr>\n    <tr>\n      <th>6</th>\n      <td>6</td>\n      <td>AZ-2011-1116129</td>\n      <td>Avery Binding Machine, Durable</td>\n      <td>0.0</td>\n      <td>252</td>\n      <td>15</td>\n      <td>5</td>\n      <td>Office Supplies</td>\n      <td>Binders</td>\n      <td>15</td>\n      <td>3.000000</td>\n    </tr>\n    <tr>\n      <th>7</th>\n      <td>7</td>\n      <td>AZ-2011-1137571</td>\n      <td>Stiletto Letter Opener, Easy Grip</td>\n      <td>0.0</td>\n      <td>90</td>\n      <td>17</td>\n      <td>3</td>\n      <td>Office Supplies</td>\n      <td>Supplies</td>\n      <td>15</td>\n      <td>5.666667</td>\n    </tr>\n    <tr>\n      <th>8</th>\n      <td>8</td>\n      <td>AZ-2011-1174243</td>\n      <td>Nokia Audio Dock, with Caller ID</td>\n      <td>0.0</td>\n      <td>1334</td>\n      <td>200</td>\n      <td>8</td>\n      <td>Technology</td>\n      <td>Phones</td>\n      <td>15</td>\n      <td>25.000000</td>\n    </tr>\n    <tr>\n      <th>9</th>\n      <td>9</td>\n      <td>AZ-2011-122598</td>\n      <td>Avery Removable Labels, Alphabetical</td>\n      <td>0.0</td>\n      <td>32</td>\n      <td>6</td>\n      <td>3</td>\n      <td>Office Supplies</td>\n      <td>Labels</td>\n      <td>14</td>\n      <td>2.000000</td>\n    </tr>\n    <tr>\n      <th>10</th>\n      <td>10</td>\n      <td>AZ-2011-1229073</td>\n      <td>Deflect-O Door Stop, Black</td>\n      <td>0.0</td>\n      <td>88</td>\n      <td>3</td>\n      <td>2</td>\n      <td>Furniture</td>\n      <td>Furnishings</td>\n      <td>15</td>\n      <td>1.500000</td>\n    </tr>\n    <tr>\n      <th>11</th>\n      <td>11</td>\n      <td>AZ-2011-1240916</td>\n      <td>Boston Canvas, Water Color</td>\n      <td>0.0</td>\n      <td>284</td>\n      <td>43</td>\n      <td>5</td>\n      <td>Office Supplies</td>\n      <td>Art</td>\n      <td>15</td>\n      <td>8.600000</td>\n    </tr>\n    <tr>\n      <th>12</th>\n      <td>12</td>\n      <td>AZ-2011-1253407</td>\n      <td>Safco Stackable Bookrack, Pine</td>\n      <td>0.1</td>\n      <td>541</td>\n      <td>156</td>\n      <td>4</td>\n      <td>Furniture</td>\n      <td>Bookcases</td>\n      <td>15</td>\n      <td>39.000000</td>\n    </tr>\n    <tr>\n      <th>13</th>\n      <td>14</td>\n      <td>AZ-2011-1260928</td>\n      <td>Eldon File Cart, Single Width</td>\n      <td>0.1</td>\n      <td>576</td>\n      <td>51</td>\n      <td>5</td>\n      <td>Office Supplies</td>\n      <td>Storage</td>\n      <td>15</td>\n      <td>10.200000</td>\n    </tr>\n    <tr>\n      <th>14</th>\n      <td>15</td>\n      <td>AZ-2011-1278696</td>\n      <td>Acco Binder, Clear</td>\n      <td>0.0</td>\n      <td>44</td>\n      <td>14</td>\n      <td>3</td>\n      <td>Office Supplies</td>\n      <td>Binders</td>\n      <td>15</td>\n      <td>4.666667</td>\n    </tr>\n    <tr>\n      <th>15</th>\n      <td>16</td>\n      <td>AZ-2011-1279238</td>\n      <td>Kleencut Scissors, Easy Grip</td>\n      <td>0.0</td>\n      <td>96</td>\n      <td>21</td>\n      <td>4</td>\n      <td>Office Supplies</td>\n      <td>Supplies</td>\n      <td>15</td>\n      <td>5.250000</td>\n    </tr>\n    <tr>\n      <th>16</th>\n      <td>17</td>\n      <td>AZ-2011-130330</td>\n      <td>Office Star Chairmat, Adjustable</td>\n      <td>0.1</td>\n      <td>307</td>\n      <td>99</td>\n      <td>5</td>\n      <td>Furniture</td>\n      <td>Chairs</td>\n      <td>14</td>\n      <td>19.800000</td>\n    </tr>\n    <tr>\n      <th>17</th>\n      <td>18</td>\n      <td>AZ-2011-1406494</td>\n      <td>Fellowes Lockers, Industrial</td>\n      <td>0.1</td>\n      <td>748</td>\n      <td>283</td>\n      <td>4</td>\n      <td>Office Supplies</td>\n      <td>Storage</td>\n      <td>15</td>\n      <td>70.750000</td>\n    </tr>\n    <tr>\n      <th>18</th>\n      <td>19</td>\n      <td>AZ-2011-1315772</td>\n      <td>Breville Toaster, Black</td>\n      <td>0.0</td>\n      <td>152</td>\n      <td>44</td>\n      <td>2</td>\n      <td>Office Supplies</td>\n      <td>Appliances</td>\n      <td>15</td>\n      <td>22.000000</td>\n    </tr>\n    <tr>\n      <th>19</th>\n      <td>20</td>\n      <td>AZ-2011-1322840</td>\n      <td>Motorola Headset, with Caller ID</td>\n      <td>0.0</td>\n      <td>957</td>\n      <td>316</td>\n      <td>12</td>\n      <td>Technology</td>\n      <td>Phones</td>\n      <td>15</td>\n      <td>26.333333</td>\n    </tr>\n    <tr>\n      <th>21</th>\n      <td>22</td>\n      <td>AZ-2011-1331897</td>\n      <td>Avery Binder Covers, Economy</td>\n      <td>0.0</td>\n      <td>33</td>\n      <td>10</td>\n      <td>3</td>\n      <td>Office Supplies</td>\n      <td>Binders</td>\n      <td>15</td>\n      <td>3.333333</td>\n    </tr>\n    <tr>\n      <th>22</th>\n      <td>23</td>\n      <td>AZ-2011-1332474</td>\n      <td>OIC Thumb Tacks, Bulk Pack</td>\n      <td>0.0</td>\n      <td>28</td>\n      <td>10</td>\n      <td>2</td>\n      <td>Office Supplies</td>\n      <td>Fasteners</td>\n      <td>15</td>\n      <td>5.000000</td>\n    </tr>\n    <tr>\n      <th>24</th>\n      <td>26</td>\n      <td>AZ-2011-1362591</td>\n      <td>Tenex Light Bulb, Black</td>\n      <td>0.0</td>\n      <td>38</td>\n      <td>11</td>\n      <td>2</td>\n      <td>Furniture</td>\n      <td>Furnishings</td>\n      <td>15</td>\n      <td>5.500000</td>\n    </tr>\n    <tr>\n      <th>25</th>\n      <td>27</td>\n      <td>AZ-2011-1366554</td>\n      <td>Avery Index Tab, Durable</td>\n      <td>0.0</td>\n      <td>13</td>\n      <td>3</td>\n      <td>2</td>\n      <td>Office Supplies</td>\n      <td>Binders</td>\n      <td>15</td>\n      <td>1.500000</td>\n    </tr>\n    <tr>\n      <th>26</th>\n      <td>30</td>\n      <td>AZ-2011-1410648</td>\n      <td>Nokia Smart Phone, Full Size</td>\n      <td>0.0</td>\n      <td>1908</td>\n      <td>820</td>\n      <td>3</td>\n      <td>Technology</td>\n      <td>Phones</td>\n      <td>15</td>\n      <td>273.333333</td>\n    </tr>\n    <tr>\n      <th>27</th>\n      <td>31</td>\n      <td>AZ-2011-144325</td>\n      <td>Bush Stackable Bookrack, Pine</td>\n      <td>0.0</td>\n      <td>630</td>\n      <td>132</td>\n      <td>5</td>\n      <td>Furniture</td>\n      <td>Bookcases</td>\n      <td>14</td>\n      <td>26.400000</td>\n    </tr>\n    <tr>\n      <th>28</th>\n      <td>32</td>\n      <td>AZ-2011-1445249</td>\n      <td>Boston Pens, Fluorescent</td>\n      <td>0.0</td>\n      <td>46</td>\n      <td>8</td>\n      <td>3</td>\n      <td>Office Supplies</td>\n      <td>Art</td>\n      <td>15</td>\n      <td>2.666667</td>\n    </tr>\n    <tr>\n      <th>29</th>\n      <td>33</td>\n      <td>AZ-2011-1445262</td>\n      <td>Apple Smart Phone, Cordless</td>\n      <td>0.0</td>\n      <td>636</td>\n      <td>140</td>\n      <td>1</td>\n      <td>Technology</td>\n      <td>Phones</td>\n      <td>15</td>\n      <td>140.000000</td>\n    </tr>\n    <tr>\n      <th>31</th>\n      <td>35</td>\n      <td>AZ-2011-1474073</td>\n      <td>Wilson Jones Hole Reinforcements, Recycled</td>\n      <td>0.0</td>\n      <td>10</td>\n      <td>2</td>\n      <td>2</td>\n      <td>Office Supplies</td>\n      <td>Binders</td>\n      <td>15</td>\n      <td>1.000000</td>\n    </tr>\n    <tr>\n      <th>32</th>\n      <td>36</td>\n      <td>AZ-2011-1475254</td>\n      <td>Harbour Creations Color Coded Labels, Adjustable</td>\n      <td>0.0</td>\n      <td>54</td>\n      <td>8</td>\n      <td>5</td>\n      <td>Office Supplies</td>\n      <td>Labels</td>\n      <td>15</td>\n      <td>1.600000</td>\n    </tr>\n    <tr>\n      <th>33</th>\n      <td>37</td>\n      <td>AZ-2011-1484679</td>\n      <td>Binney &amp; Smith Markers, Easy-Erase</td>\n      <td>0.0</td>\n      <td>73</td>\n      <td>29</td>\n      <td>3</td>\n      <td>Office Supplies</td>\n      <td>Art</td>\n      <td>15</td>\n      <td>9.666667</td>\n    </tr>\n    <tr>\n      <th>34</th>\n      <td>38</td>\n      <td>AZ-2011-1499597</td>\n      <td>Boston Markers, Fluorescent</td>\n      <td>0.0</td>\n      <td>193</td>\n      <td>29</td>\n      <td>7</td>\n      <td>Office Supplies</td>\n      <td>Art</td>\n      <td>15</td>\n      <td>4.142857</td>\n    </tr>\n    <tr>\n      <th>35</th>\n      <td>39</td>\n      <td>AZ-2011-1536006</td>\n      <td>Logitech Keyboard, Programmable</td>\n      <td>0.0</td>\n      <td>666</td>\n      <td>66</td>\n      <td>9</td>\n      <td>Technology</td>\n      <td>Accessories</td>\n      <td>15</td>\n      <td>7.333333</td>\n    </tr>\n    <tr>\n      <th>38</th>\n      <td>42</td>\n      <td>AZ-2011-1584987</td>\n      <td>Tenex File Cart, Industrial</td>\n      <td>0.1</td>\n      <td>241</td>\n      <td>24</td>\n      <td>2</td>\n      <td>Office Supplies</td>\n      <td>Storage</td>\n      <td>15</td>\n      <td>12.000000</td>\n    </tr>\n    <tr>\n      <th>42</th>\n      <td>46</td>\n      <td>AZ-2011-1655349</td>\n      <td>Fiskars Trimmer, Easy Grip</td>\n      <td>0.0</td>\n      <td>176</td>\n      <td>65</td>\n      <td>4</td>\n      <td>Office Supplies</td>\n      <td>Supplies</td>\n      <td>15</td>\n      <td>16.250000</td>\n    </tr>\n    <tr>\n      <th>43</th>\n      <td>47</td>\n      <td>AZ-2011-1661180</td>\n      <td>Jiffy Peel and Seal, Recycled</td>\n      <td>0.0</td>\n      <td>94</td>\n      <td>16</td>\n      <td>5</td>\n      <td>Office Supplies</td>\n      <td>Envelopes</td>\n      <td>15</td>\n      <td>3.200000</td>\n    </tr>\n    <tr>\n      <th>44</th>\n      <td>48</td>\n      <td>AZ-2011-1672552</td>\n      <td>Binney &amp; Smith Sketch Pad, Blue</td>\n      <td>0.0</td>\n      <td>510</td>\n      <td>132</td>\n      <td>11</td>\n      <td>Office Supplies</td>\n      <td>Art</td>\n      <td>15</td>\n      <td>12.000000</td>\n    </tr>\n    <tr>\n      <th>45</th>\n      <td>50</td>\n      <td>AZ-2011-1680940</td>\n      <td>Smead Round Labels, 5000 Label Set</td>\n      <td>0.0</td>\n      <td>15</td>\n      <td>1</td>\n      <td>2</td>\n      <td>Office Supplies</td>\n      <td>Labels</td>\n      <td>15</td>\n      <td>0.500000</td>\n    </tr>\n    <tr>\n      <th>46</th>\n      <td>51</td>\n      <td>AZ-2011-1693949</td>\n      <td>Harbour Creations Color Coded Labels, Laser Pr...</td>\n      <td>0.0</td>\n      <td>39</td>\n      <td>8</td>\n      <td>3</td>\n      <td>Office Supplies</td>\n      <td>Labels</td>\n      <td>15</td>\n      <td>2.666667</td>\n    </tr>\n    <tr>\n      <th>47</th>\n      <td>52</td>\n      <td>AZ-2011-1722024</td>\n      <td>Cisco Audio Dock, VoIP</td>\n      <td>0.0</td>\n      <td>364</td>\n      <td>142</td>\n      <td>2</td>\n      <td>Technology</td>\n      <td>Phones</td>\n      <td>15</td>\n      <td>71.000000</td>\n    </tr>\n    <tr>\n      <th>48</th>\n      <td>53</td>\n      <td>AZ-2011-1723003</td>\n      <td>Ibico Index Tab, Clear</td>\n      <td>0.0</td>\n      <td>18</td>\n      <td>3</td>\n      <td>2</td>\n      <td>Office Supplies</td>\n      <td>Binders</td>\n      <td>15</td>\n      <td>1.500000</td>\n    </tr>\n    <tr>\n      <th>49</th>\n      <td>56</td>\n      <td>AZ-2011-1735855</td>\n      <td>Deflect-O Photo Frame, Black</td>\n      <td>0.0</td>\n      <td>156</td>\n      <td>34</td>\n      <td>3</td>\n      <td>Furniture</td>\n      <td>Furnishings</td>\n      <td>15</td>\n      <td>11.333333</td>\n    </tr>\n    <tr>\n      <th>50</th>\n      <td>57</td>\n      <td>AZ-2011-1754604</td>\n      <td>Avery Binding Machine, Economy</td>\n      <td>0.0</td>\n      <td>98</td>\n      <td>12</td>\n      <td>2</td>\n      <td>Office Supplies</td>\n      <td>Binders</td>\n      <td>15</td>\n      <td>6.000000</td>\n    </tr>\n    <tr>\n      <th>51</th>\n      <td>58</td>\n      <td>AZ-2011-176674</td>\n      <td>Hoover Microwave, Red</td>\n      <td>0.1</td>\n      <td>1667</td>\n      <td>185</td>\n      <td>6</td>\n      <td>Office Supplies</td>\n      <td>Appliances</td>\n      <td>14</td>\n      <td>30.833333</td>\n    </tr>\n    <tr>\n      <th>52</th>\n      <td>0</td>\n      <td>AZ-2011-1902971</td>\n      <td>Wilson Jones Binding Machine, Clear</td>\n      <td>0.0</td>\n      <td>339</td>\n      <td>102</td>\n      <td>7</td>\n      <td>Office Supplies</td>\n      <td>Binders</td>\n      <td>15</td>\n      <td>14.571429</td>\n    </tr>\n    <tr>\n      <th>53</th>\n      <td>1</td>\n      <td>AZ-2011-1916360</td>\n      <td>Dania 3-Shelf Cabinet, Mobile</td>\n      <td>0.0</td>\n      <td>288</td>\n      <td>20</td>\n      <td>2</td>\n      <td>Furniture</td>\n      <td>Bookcases</td>\n      <td>15</td>\n      <td>10.000000</td>\n    </tr>\n    <tr>\n      <th>54</th>\n      <td>2</td>\n      <td>AZ-2011-1916555</td>\n      <td>Eldon Folders, Single Width</td>\n      <td>0.4</td>\n      <td>61</td>\n      <td>7</td>\n      <td>6</td>\n      <td>Office Supplies</td>\n      <td>Storage</td>\n      <td>15</td>\n      <td>1.166667</td>\n    </tr>\n    <tr>\n      <th>55</th>\n      <td>3</td>\n      <td>AZ-2011-1930058</td>\n      <td>Sanford Markers, Easy-Erase</td>\n      <td>0.0</td>\n      <td>71</td>\n      <td>1</td>\n      <td>3</td>\n      <td>Office Supplies</td>\n      <td>Art</td>\n      <td>15</td>\n      <td>0.333333</td>\n    </tr>\n    <tr>\n      <th>56</th>\n      <td>4</td>\n      <td>AZ-2011-1967754</td>\n      <td>Logitech Numeric Keypad, USB</td>\n      <td>0.0</td>\n      <td>93</td>\n      <td>40</td>\n      <td>2</td>\n      <td>Technology</td>\n      <td>Accessories</td>\n      <td>15</td>\n      <td>20.000000</td>\n    </tr>\n    <tr>\n      <th>57</th>\n      <td>5</td>\n      <td>AZ-2011-1976919</td>\n      <td>Boston Markers, Blue</td>\n      <td>0.0</td>\n      <td>132</td>\n      <td>54</td>\n      <td>5</td>\n      <td>Office Supplies</td>\n      <td>Art</td>\n      <td>15</td>\n      <td>10.800000</td>\n    </tr>\n    <tr>\n      <th>58</th>\n      <td>6</td>\n      <td>AZ-2011-2001312</td>\n      <td>Avery Binding Machine, Clear</td>\n      <td>0.0</td>\n      <td>97</td>\n      <td>12</td>\n      <td>2</td>\n      <td>Office Supplies</td>\n      <td>Binders</td>\n      <td>15</td>\n      <td>6.000000</td>\n    </tr>\n    <tr>\n      <th>59</th>\n      <td>7</td>\n      <td>AZ-2011-2002251</td>\n      <td>SanDisk Computer Printout Paper, 8.5 x 11</td>\n      <td>0.0</td>\n      <td>136</td>\n      <td>15</td>\n      <td>4</td>\n      <td>Office Supplies</td>\n      <td>Paper</td>\n      <td>15</td>\n      <td>3.750000</td>\n    </tr>\n    <tr>\n      <th>60</th>\n      <td>8</td>\n      <td>AZ-2011-201891</td>\n      <td>Cameo Clasp Envelope, with clear poly window</td>\n      <td>0.0</td>\n      <td>52</td>\n      <td>19</td>\n      <td>4</td>\n      <td>Office Supplies</td>\n      <td>Envelopes</td>\n      <td>14</td>\n      <td>4.750000</td>\n    </tr>\n  </tbody>\n</table>\n</div>",
      "text/plain": "    index         Order ID                                       Product Name  \\\n0       0  AZ-2011-1029887         Novimex Color Coded Labels, 5000 Label Set   \n1       1   AZ-2011-107716                     Deflect-O Door Stop, Erganomic   \n2       2  AZ-2011-1087704                      Belkin Flash Drive, Bluetooth   \n3       3  AZ-2011-1372644                         Panasonic Printer, Durable   \n5       5  AZ-2011-1114253                         Tenex Stacking Tray, Black   \n6       6  AZ-2011-1116129                     Avery Binding Machine, Durable   \n7       7  AZ-2011-1137571                  Stiletto Letter Opener, Easy Grip   \n8       8  AZ-2011-1174243                   Nokia Audio Dock, with Caller ID   \n9       9   AZ-2011-122598               Avery Removable Labels, Alphabetical   \n10     10  AZ-2011-1229073                         Deflect-O Door Stop, Black   \n11     11  AZ-2011-1240916                         Boston Canvas, Water Color   \n12     12  AZ-2011-1253407                     Safco Stackable Bookrack, Pine   \n13     14  AZ-2011-1260928                      Eldon File Cart, Single Width   \n14     15  AZ-2011-1278696                                 Acco Binder, Clear   \n15     16  AZ-2011-1279238                       Kleencut Scissors, Easy Grip   \n16     17   AZ-2011-130330                   Office Star Chairmat, Adjustable   \n17     18  AZ-2011-1406494                       Fellowes Lockers, Industrial   \n18     19  AZ-2011-1315772                            Breville Toaster, Black   \n19     20  AZ-2011-1322840                   Motorola Headset, with Caller ID   \n21     22  AZ-2011-1331897                       Avery Binder Covers, Economy   \n22     23  AZ-2011-1332474                         OIC Thumb Tacks, Bulk Pack   \n24     26  AZ-2011-1362591                            Tenex Light Bulb, Black   \n25     27  AZ-2011-1366554                           Avery Index Tab, Durable   \n26     30  AZ-2011-1410648                       Nokia Smart Phone, Full Size   \n27     31   AZ-2011-144325                      Bush Stackable Bookrack, Pine   \n28     32  AZ-2011-1445249                           Boston Pens, Fluorescent   \n29     33  AZ-2011-1445262                        Apple Smart Phone, Cordless   \n31     35  AZ-2011-1474073         Wilson Jones Hole Reinforcements, Recycled   \n32     36  AZ-2011-1475254   Harbour Creations Color Coded Labels, Adjustable   \n33     37  AZ-2011-1484679                 Binney & Smith Markers, Easy-Erase   \n34     38  AZ-2011-1499597                        Boston Markers, Fluorescent   \n35     39  AZ-2011-1536006                    Logitech Keyboard, Programmable   \n38     42  AZ-2011-1584987                        Tenex File Cart, Industrial   \n42     46  AZ-2011-1655349                         Fiskars Trimmer, Easy Grip   \n43     47  AZ-2011-1661180                      Jiffy Peel and Seal, Recycled   \n44     48  AZ-2011-1672552                    Binney & Smith Sketch Pad, Blue   \n45     50  AZ-2011-1680940                 Smead Round Labels, 5000 Label Set   \n46     51  AZ-2011-1693949  Harbour Creations Color Coded Labels, Laser Pr...   \n47     52  AZ-2011-1722024                             Cisco Audio Dock, VoIP   \n48     53  AZ-2011-1723003                             Ibico Index Tab, Clear   \n49     56  AZ-2011-1735855                       Deflect-O Photo Frame, Black   \n50     57  AZ-2011-1754604                     Avery Binding Machine, Economy   \n51     58   AZ-2011-176674                              Hoover Microwave, Red   \n52      0  AZ-2011-1902971                Wilson Jones Binding Machine, Clear   \n53      1  AZ-2011-1916360                      Dania 3-Shelf Cabinet, Mobile   \n54      2  AZ-2011-1916555                        Eldon Folders, Single Width   \n55      3  AZ-2011-1930058                        Sanford Markers, Easy-Erase   \n56      4  AZ-2011-1967754                       Logitech Numeric Keypad, USB   \n57      5  AZ-2011-1976919                               Boston Markers, Blue   \n58      6  AZ-2011-2001312                       Avery Binding Machine, Clear   \n59      7  AZ-2011-2002251          SanDisk Computer Printout Paper, 8.5 x 11   \n60      8   AZ-2011-201891       Cameo Clasp Envelope, with clear poly window   \n\n    Discount  Sales  Profit  Quantity         Category Sub-Category  \\\n0        0.0     26       7         2  Office Supplies       Labels   \n1        0.0     85      15         2        Furniture  Furnishings   \n2        0.0    294     109         7       Technology  Accessories   \n3        0.0    800     168         3       Technology     Machines   \n5        0.0     76      11         3        Furniture  Furnishings   \n6        0.0    252      15         5  Office Supplies      Binders   \n7        0.0     90      17         3  Office Supplies     Supplies   \n8        0.0   1334     200         8       Technology       Phones   \n9        0.0     32       6         3  Office Supplies       Labels   \n10       0.0     88       3         2        Furniture  Furnishings   \n11       0.0    284      43         5  Office Supplies          Art   \n12       0.1    541     156         4        Furniture    Bookcases   \n13       0.1    576      51         5  Office Supplies      Storage   \n14       0.0     44      14         3  Office Supplies      Binders   \n15       0.0     96      21         4  Office Supplies     Supplies   \n16       0.1    307      99         5        Furniture       Chairs   \n17       0.1    748     283         4  Office Supplies      Storage   \n18       0.0    152      44         2  Office Supplies   Appliances   \n19       0.0    957     316        12       Technology       Phones   \n21       0.0     33      10         3  Office Supplies      Binders   \n22       0.0     28      10         2  Office Supplies    Fasteners   \n24       0.0     38      11         2        Furniture  Furnishings   \n25       0.0     13       3         2  Office Supplies      Binders   \n26       0.0   1908     820         3       Technology       Phones   \n27       0.0    630     132         5        Furniture    Bookcases   \n28       0.0     46       8         3  Office Supplies          Art   \n29       0.0    636     140         1       Technology       Phones   \n31       0.0     10       2         2  Office Supplies      Binders   \n32       0.0     54       8         5  Office Supplies       Labels   \n33       0.0     73      29         3  Office Supplies          Art   \n34       0.0    193      29         7  Office Supplies          Art   \n35       0.0    666      66         9       Technology  Accessories   \n38       0.1    241      24         2  Office Supplies      Storage   \n42       0.0    176      65         4  Office Supplies     Supplies   \n43       0.0     94      16         5  Office Supplies    Envelopes   \n44       0.0    510     132        11  Office Supplies          Art   \n45       0.0     15       1         2  Office Supplies       Labels   \n46       0.0     39       8         3  Office Supplies       Labels   \n47       0.0    364     142         2       Technology       Phones   \n48       0.0     18       3         2  Office Supplies      Binders   \n49       0.0    156      34         3        Furniture  Furnishings   \n50       0.0     98      12         2  Office Supplies      Binders   \n51       0.1   1667     185         6  Office Supplies   Appliances   \n52       0.0    339     102         7  Office Supplies      Binders   \n53       0.0    288      20         2        Furniture    Bookcases   \n54       0.4     61       7         6  Office Supplies      Storage   \n55       0.0     71       1         3  Office Supplies          Art   \n56       0.0     93      40         2       Technology  Accessories   \n57       0.0    132      54         5  Office Supplies          Art   \n58       0.0     97      12         2  Office Supplies      Binders   \n59       0.0    136      15         4  Office Supplies        Paper   \n60       0.0     52      19         4  Office Supplies    Envelopes   \n\n    Order ID len  Profit_Quantity  \n0             15         3.500000  \n1             14         7.500000  \n2             15        15.571429  \n3             15        56.000000  \n5             15         3.666667  \n6             15         3.000000  \n7             15         5.666667  \n8             15        25.000000  \n9             14         2.000000  \n10            15         1.500000  \n11            15         8.600000  \n12            15        39.000000  \n13            15        10.200000  \n14            15         4.666667  \n15            15         5.250000  \n16            14        19.800000  \n17            15        70.750000  \n18            15        22.000000  \n19            15        26.333333  \n21            15         3.333333  \n22            15         5.000000  \n24            15         5.500000  \n25            15         1.500000  \n26            15       273.333333  \n27            14        26.400000  \n28            15         2.666667  \n29            15       140.000000  \n31            15         1.000000  \n32            15         1.600000  \n33            15         9.666667  \n34            15         4.142857  \n35            15         7.333333  \n38            15        12.000000  \n42            15        16.250000  \n43            15         3.200000  \n44            15        12.000000  \n45            15         0.500000  \n46            15         2.666667  \n47            15        71.000000  \n48            15         1.500000  \n49            15        11.333333  \n50            15         6.000000  \n51            14        30.833333  \n52            15        14.571429  \n53            15        10.000000  \n54            15         1.166667  \n55            15         0.333333  \n56            15        20.000000  \n57            15        10.800000  \n58            15         6.000000  \n59            15         3.750000  \n60            14         4.750000  "
     },
     "execution_count": 69,
     "metadata": {},
     "output_type": "execute_result"
    }
   ],
   "source": [
    "df_combined_posprofit[\"Profit_Quantity\"] = df_combined_posprofit[\"Profit\"]/df_combined_posprofit[\"Quantity\"]\n",
    "df_combined_posprofit"
   ]
  },
  {
   "cell_type": "code",
   "execution_count": 71,
   "metadata": {},
   "outputs": [
    {
     "data": {
      "text/html": "<div>\n<style scoped>\n    .dataframe tbody tr th:only-of-type {\n        vertical-align: middle;\n    }\n\n    .dataframe tbody tr th {\n        vertical-align: top;\n    }\n\n    .dataframe thead th {\n        text-align: right;\n    }\n</style>\n<table border=\"1\" class=\"dataframe\">\n  <thead>\n    <tr style=\"text-align: right;\">\n      <th></th>\n      <th>index</th>\n      <th>Order ID</th>\n      <th>Product Name</th>\n      <th>Discount</th>\n      <th>Sales</th>\n      <th>Profit</th>\n      <th>Quantity</th>\n      <th>Category</th>\n      <th>Sub-Category</th>\n      <th>Order ID len</th>\n      <th>Profit_Quantity</th>\n    </tr>\n  </thead>\n  <tbody>\n    <tr>\n      <th>35</th>\n      <td>39</td>\n      <td>AZ-2011-1536006</td>\n      <td>Logitech Keyboard, Programmable</td>\n      <td>0.0</td>\n      <td>666</td>\n      <td>66</td>\n      <td>9</td>\n      <td>Technology</td>\n      <td>Accessories</td>\n      <td>15</td>\n      <td>7.333333</td>\n    </tr>\n    <tr>\n      <th>2</th>\n      <td>2</td>\n      <td>AZ-2011-1087704</td>\n      <td>Belkin Flash Drive, Bluetooth</td>\n      <td>0.0</td>\n      <td>294</td>\n      <td>109</td>\n      <td>7</td>\n      <td>Technology</td>\n      <td>Accessories</td>\n      <td>15</td>\n      <td>15.571429</td>\n    </tr>\n    <tr>\n      <th>56</th>\n      <td>4</td>\n      <td>AZ-2011-1967754</td>\n      <td>Logitech Numeric Keypad, USB</td>\n      <td>0.0</td>\n      <td>93</td>\n      <td>40</td>\n      <td>2</td>\n      <td>Technology</td>\n      <td>Accessories</td>\n      <td>15</td>\n      <td>20.000000</td>\n    </tr>\n    <tr>\n      <th>8</th>\n      <td>8</td>\n      <td>AZ-2011-1174243</td>\n      <td>Nokia Audio Dock, with Caller ID</td>\n      <td>0.0</td>\n      <td>1334</td>\n      <td>200</td>\n      <td>8</td>\n      <td>Technology</td>\n      <td>Phones</td>\n      <td>15</td>\n      <td>25.000000</td>\n    </tr>\n    <tr>\n      <th>19</th>\n      <td>20</td>\n      <td>AZ-2011-1322840</td>\n      <td>Motorola Headset, with Caller ID</td>\n      <td>0.0</td>\n      <td>957</td>\n      <td>316</td>\n      <td>12</td>\n      <td>Technology</td>\n      <td>Phones</td>\n      <td>15</td>\n      <td>26.333333</td>\n    </tr>\n    <tr>\n      <th>3</th>\n      <td>3</td>\n      <td>AZ-2011-1372644</td>\n      <td>Panasonic Printer, Durable</td>\n      <td>0.0</td>\n      <td>800</td>\n      <td>168</td>\n      <td>3</td>\n      <td>Technology</td>\n      <td>Machines</td>\n      <td>15</td>\n      <td>56.000000</td>\n    </tr>\n    <tr>\n      <th>47</th>\n      <td>52</td>\n      <td>AZ-2011-1722024</td>\n      <td>Cisco Audio Dock, VoIP</td>\n      <td>0.0</td>\n      <td>364</td>\n      <td>142</td>\n      <td>2</td>\n      <td>Technology</td>\n      <td>Phones</td>\n      <td>15</td>\n      <td>71.000000</td>\n    </tr>\n    <tr>\n      <th>29</th>\n      <td>33</td>\n      <td>AZ-2011-1445262</td>\n      <td>Apple Smart Phone, Cordless</td>\n      <td>0.0</td>\n      <td>636</td>\n      <td>140</td>\n      <td>1</td>\n      <td>Technology</td>\n      <td>Phones</td>\n      <td>15</td>\n      <td>140.000000</td>\n    </tr>\n    <tr>\n      <th>26</th>\n      <td>30</td>\n      <td>AZ-2011-1410648</td>\n      <td>Nokia Smart Phone, Full Size</td>\n      <td>0.0</td>\n      <td>1908</td>\n      <td>820</td>\n      <td>3</td>\n      <td>Technology</td>\n      <td>Phones</td>\n      <td>15</td>\n      <td>273.333333</td>\n    </tr>\n  </tbody>\n</table>\n</div>",
      "text/plain": "    index         Order ID                      Product Name  Discount  Sales  \\\n35     39  AZ-2011-1536006   Logitech Keyboard, Programmable       0.0    666   \n2       2  AZ-2011-1087704     Belkin Flash Drive, Bluetooth       0.0    294   \n56      4  AZ-2011-1967754      Logitech Numeric Keypad, USB       0.0     93   \n8       8  AZ-2011-1174243  Nokia Audio Dock, with Caller ID       0.0   1334   \n19     20  AZ-2011-1322840  Motorola Headset, with Caller ID       0.0    957   \n3       3  AZ-2011-1372644        Panasonic Printer, Durable       0.0    800   \n47     52  AZ-2011-1722024            Cisco Audio Dock, VoIP       0.0    364   \n29     33  AZ-2011-1445262       Apple Smart Phone, Cordless       0.0    636   \n26     30  AZ-2011-1410648      Nokia Smart Phone, Full Size       0.0   1908   \n\n    Profit  Quantity    Category Sub-Category  Order ID len  Profit_Quantity  \n35      66         9  Technology  Accessories            15         7.333333  \n2      109         7  Technology  Accessories            15        15.571429  \n56      40         2  Technology  Accessories            15        20.000000  \n8      200         8  Technology       Phones            15        25.000000  \n19     316        12  Technology       Phones            15        26.333333  \n3      168         3  Technology     Machines            15        56.000000  \n47     142         2  Technology       Phones            15        71.000000  \n29     140         1  Technology       Phones            15       140.000000  \n26     820         3  Technology       Phones            15       273.333333  "
     },
     "execution_count": 71,
     "metadata": {},
     "output_type": "execute_result"
    }
   ],
   "source": [
    "df_combined_posprofit[df_combined_posprofit['Category']==\"Technology\"].sort_values(by=\"Profit_Quantity\")"
   ]
  }
 ],
 "metadata": {
  "kernelspec": {
   "display_name": "Python 3.7.9 64-bit ('venv': venv)",
   "name": "python379jvsc74a57bd0cf247013399a202eae5e7608e2ade166a9852d41f1f09169f1cf85c9062346fa"
  },
  "language_info": {
   "codemirror_mode": {
    "name": "ipython",
    "version": 3
   },
   "file_extension": ".py",
   "mimetype": "text/x-python",
   "name": "python",
   "nbconvert_exporter": "python",
   "pygments_lexer": "ipython3",
   "version": "3.7.9"
  },
  "orig_nbformat": 3
 },
 "nbformat": 4,
 "nbformat_minor": 2
}