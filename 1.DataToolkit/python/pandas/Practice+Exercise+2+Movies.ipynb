{
 "cells": [
  {
   "cell_type": "markdown",
   "metadata": {},
   "source": [
    "## Practice Exercise 2"
   ]
  },
  {
   "cell_type": "markdown",
   "metadata": {},
   "source": [
    "In this assignment, you will try to find some interesting insights into a few movies released between 1916 and 2016, using Python. You will have to download a movie dataset, write Python code to explore the data, gain insights into the movies, actors, directors, and collections, and submit the code."
   ]
  },
  {
   "cell_type": "markdown",
   "metadata": {},
   "source": [
    "#### Some tips before starting the assignment\n",
    "\n",
    "1. Identify the task to be performed correctly, and only then proceed to write the required code. Don’t perform any incorrect analysis or look for information that isn’t required for the assignment.\n",
    "2. In some cases, the variable names have already been assigned, and you just need to write code against them. In other cases, the names to be given are mentioned in the instructions. We strongly advise you to use the mentioned names only.\n",
    "3. Always keep inspecting your data frame after you have performed a particular set of operations.\n",
    "4. There are some checkpoints given in the IPython notebook provided. They're just useful pieces of information you can use to check if the result you have obtained after performing a particular task is correct or not.\n",
    "5. Note that you will be asked to refer to documentation for solving some of the questions. That is done on purpose for you to learn new commands and also how to use the documentation."
   ]
  },
  {
   "cell_type": "code",
   "execution_count": 1,
   "metadata": {},
   "outputs": [],
   "source": [
    "# Import the numpy and pandas packages\n",
    "\n",
    "#import numpy as np\n",
    "import pandas as pd"
   ]
  },
  {
   "cell_type": "markdown",
   "metadata": {},
   "source": [
    "### Task 1: Reading and Inspection\n",
    "\n",
    "**Subtask 1.1: Import and read**\n",
    "\n",
    "Import and read the movie database. Store it in a variable called `movies`."
   ]
  },
  {
   "cell_type": "code",
   "execution_count": 2,
   "metadata": {},
   "outputs": [
    {
     "data": {
      "text/html": "<div>\n<style scoped>\n    .dataframe tbody tr th:only-of-type {\n        vertical-align: middle;\n    }\n\n    .dataframe tbody tr th {\n        vertical-align: top;\n    }\n\n    .dataframe thead th {\n        text-align: right;\n    }\n</style>\n<table border=\"1\" class=\"dataframe\">\n  <thead>\n    <tr style=\"text-align: right;\">\n      <th></th>\n      <th>color</th>\n      <th>director_name</th>\n      <th>num_critic_for_reviews</th>\n      <th>duration</th>\n      <th>director_facebook_likes</th>\n      <th>actor_3_facebook_likes</th>\n      <th>actor_2_name</th>\n      <th>actor_1_facebook_likes</th>\n      <th>gross</th>\n      <th>genres</th>\n      <th>...</th>\n      <th>num_user_for_reviews</th>\n      <th>language</th>\n      <th>country</th>\n      <th>content_rating</th>\n      <th>budget</th>\n      <th>title_year</th>\n      <th>actor_2_facebook_likes</th>\n      <th>imdb_score</th>\n      <th>aspect_ratio</th>\n      <th>movie_facebook_likes</th>\n    </tr>\n  </thead>\n  <tbody>\n    <tr>\n      <th>0</th>\n      <td>Color</td>\n      <td>James Cameron</td>\n      <td>723.0</td>\n      <td>178.0</td>\n      <td>0.0</td>\n      <td>855.0</td>\n      <td>Joel David Moore</td>\n      <td>1000.0</td>\n      <td>760505847.0</td>\n      <td>Action|Adventure|Fantasy|Sci-Fi</td>\n      <td>...</td>\n      <td>3054.0</td>\n      <td>English</td>\n      <td>USA</td>\n      <td>PG-13</td>\n      <td>237000000.0</td>\n      <td>2009.0</td>\n      <td>936.0</td>\n      <td>7.9</td>\n      <td>1.78</td>\n      <td>33000</td>\n    </tr>\n    <tr>\n      <th>1</th>\n      <td>Color</td>\n      <td>Gore Verbinski</td>\n      <td>302.0</td>\n      <td>169.0</td>\n      <td>563.0</td>\n      <td>1000.0</td>\n      <td>Orlando Bloom</td>\n      <td>40000.0</td>\n      <td>309404152.0</td>\n      <td>Action|Adventure|Fantasy</td>\n      <td>...</td>\n      <td>1238.0</td>\n      <td>English</td>\n      <td>USA</td>\n      <td>PG-13</td>\n      <td>300000000.0</td>\n      <td>2007.0</td>\n      <td>5000.0</td>\n      <td>7.1</td>\n      <td>2.35</td>\n      <td>0</td>\n    </tr>\n    <tr>\n      <th>2</th>\n      <td>Color</td>\n      <td>Sam Mendes</td>\n      <td>602.0</td>\n      <td>148.0</td>\n      <td>0.0</td>\n      <td>161.0</td>\n      <td>Rory Kinnear</td>\n      <td>11000.0</td>\n      <td>200074175.0</td>\n      <td>Action|Adventure|Thriller</td>\n      <td>...</td>\n      <td>994.0</td>\n      <td>English</td>\n      <td>UK</td>\n      <td>PG-13</td>\n      <td>245000000.0</td>\n      <td>2015.0</td>\n      <td>393.0</td>\n      <td>6.8</td>\n      <td>2.35</td>\n      <td>85000</td>\n    </tr>\n    <tr>\n      <th>3</th>\n      <td>Color</td>\n      <td>Christopher Nolan</td>\n      <td>813.0</td>\n      <td>164.0</td>\n      <td>22000.0</td>\n      <td>23000.0</td>\n      <td>Christian Bale</td>\n      <td>27000.0</td>\n      <td>448130642.0</td>\n      <td>Action|Thriller</td>\n      <td>...</td>\n      <td>2701.0</td>\n      <td>English</td>\n      <td>USA</td>\n      <td>PG-13</td>\n      <td>250000000.0</td>\n      <td>2012.0</td>\n      <td>23000.0</td>\n      <td>8.5</td>\n      <td>2.35</td>\n      <td>164000</td>\n    </tr>\n    <tr>\n      <th>4</th>\n      <td>Color</td>\n      <td>Andrew Stanton</td>\n      <td>462.0</td>\n      <td>132.0</td>\n      <td>475.0</td>\n      <td>530.0</td>\n      <td>Samantha Morton</td>\n      <td>640.0</td>\n      <td>73058679.0</td>\n      <td>Action|Adventure|Sci-Fi</td>\n      <td>...</td>\n      <td>738.0</td>\n      <td>English</td>\n      <td>USA</td>\n      <td>PG-13</td>\n      <td>263700000.0</td>\n      <td>2012.0</td>\n      <td>632.0</td>\n      <td>6.6</td>\n      <td>2.35</td>\n      <td>24000</td>\n    </tr>\n    <tr>\n      <th>...</th>\n      <td>...</td>\n      <td>...</td>\n      <td>...</td>\n      <td>...</td>\n      <td>...</td>\n      <td>...</td>\n      <td>...</td>\n      <td>...</td>\n      <td>...</td>\n      <td>...</td>\n      <td>...</td>\n      <td>...</td>\n      <td>...</td>\n      <td>...</td>\n      <td>...</td>\n      <td>...</td>\n      <td>...</td>\n      <td>...</td>\n      <td>...</td>\n      <td>...</td>\n      <td>...</td>\n    </tr>\n    <tr>\n      <th>3848</th>\n      <td>Color</td>\n      <td>Shane Carruth</td>\n      <td>143.0</td>\n      <td>77.0</td>\n      <td>291.0</td>\n      <td>8.0</td>\n      <td>David Sullivan</td>\n      <td>291.0</td>\n      <td>424760.0</td>\n      <td>Drama|Sci-Fi|Thriller</td>\n      <td>...</td>\n      <td>371.0</td>\n      <td>English</td>\n      <td>USA</td>\n      <td>PG-13</td>\n      <td>7000.0</td>\n      <td>2004.0</td>\n      <td>45.0</td>\n      <td>7.0</td>\n      <td>1.85</td>\n      <td>19000</td>\n    </tr>\n    <tr>\n      <th>3849</th>\n      <td>Color</td>\n      <td>Neill Dela Llana</td>\n      <td>35.0</td>\n      <td>80.0</td>\n      <td>0.0</td>\n      <td>0.0</td>\n      <td>Edgar Tancangco</td>\n      <td>0.0</td>\n      <td>70071.0</td>\n      <td>Thriller</td>\n      <td>...</td>\n      <td>35.0</td>\n      <td>English</td>\n      <td>Philippines</td>\n      <td>Not Rated</td>\n      <td>7000.0</td>\n      <td>2005.0</td>\n      <td>0.0</td>\n      <td>6.3</td>\n      <td>NaN</td>\n      <td>74</td>\n    </tr>\n    <tr>\n      <th>3850</th>\n      <td>Color</td>\n      <td>Robert Rodriguez</td>\n      <td>56.0</td>\n      <td>81.0</td>\n      <td>0.0</td>\n      <td>6.0</td>\n      <td>Peter Marquardt</td>\n      <td>121.0</td>\n      <td>2040920.0</td>\n      <td>Action|Crime|Drama|Romance|Thriller</td>\n      <td>...</td>\n      <td>130.0</td>\n      <td>Spanish</td>\n      <td>USA</td>\n      <td>R</td>\n      <td>7000.0</td>\n      <td>1992.0</td>\n      <td>20.0</td>\n      <td>6.9</td>\n      <td>1.37</td>\n      <td>0</td>\n    </tr>\n    <tr>\n      <th>3851</th>\n      <td>Color</td>\n      <td>Edward Burns</td>\n      <td>14.0</td>\n      <td>95.0</td>\n      <td>0.0</td>\n      <td>133.0</td>\n      <td>Caitlin FitzGerald</td>\n      <td>296.0</td>\n      <td>4584.0</td>\n      <td>Comedy|Drama</td>\n      <td>...</td>\n      <td>14.0</td>\n      <td>English</td>\n      <td>USA</td>\n      <td>Not Rated</td>\n      <td>9000.0</td>\n      <td>2011.0</td>\n      <td>205.0</td>\n      <td>6.4</td>\n      <td>NaN</td>\n      <td>413</td>\n    </tr>\n    <tr>\n      <th>3852</th>\n      <td>Color</td>\n      <td>Jon Gunn</td>\n      <td>43.0</td>\n      <td>90.0</td>\n      <td>16.0</td>\n      <td>16.0</td>\n      <td>Brian Herzlinger</td>\n      <td>86.0</td>\n      <td>85222.0</td>\n      <td>Documentary</td>\n      <td>...</td>\n      <td>84.0</td>\n      <td>English</td>\n      <td>USA</td>\n      <td>PG</td>\n      <td>1100.0</td>\n      <td>2004.0</td>\n      <td>23.0</td>\n      <td>6.6</td>\n      <td>1.85</td>\n      <td>456</td>\n    </tr>\n  </tbody>\n</table>\n<p>3853 rows × 28 columns</p>\n</div>",
      "text/plain": "      color      director_name  num_critic_for_reviews  duration  \\\n0     Color      James Cameron                   723.0     178.0   \n1     Color     Gore Verbinski                   302.0     169.0   \n2     Color         Sam Mendes                   602.0     148.0   \n3     Color  Christopher Nolan                   813.0     164.0   \n4     Color     Andrew Stanton                   462.0     132.0   \n...     ...                ...                     ...       ...   \n3848  Color      Shane Carruth                   143.0      77.0   \n3849  Color   Neill Dela Llana                    35.0      80.0   \n3850  Color   Robert Rodriguez                    56.0      81.0   \n3851  Color       Edward Burns                    14.0      95.0   \n3852  Color           Jon Gunn                    43.0      90.0   \n\n      director_facebook_likes  actor_3_facebook_likes        actor_2_name  \\\n0                         0.0                   855.0    Joel David Moore   \n1                       563.0                  1000.0       Orlando Bloom   \n2                         0.0                   161.0        Rory Kinnear   \n3                     22000.0                 23000.0      Christian Bale   \n4                       475.0                   530.0     Samantha Morton   \n...                       ...                     ...                 ...   \n3848                    291.0                     8.0      David Sullivan   \n3849                      0.0                     0.0     Edgar Tancangco   \n3850                      0.0                     6.0     Peter Marquardt   \n3851                      0.0                   133.0  Caitlin FitzGerald   \n3852                     16.0                    16.0    Brian Herzlinger   \n\n      actor_1_facebook_likes        gross  \\\n0                     1000.0  760505847.0   \n1                    40000.0  309404152.0   \n2                    11000.0  200074175.0   \n3                    27000.0  448130642.0   \n4                      640.0   73058679.0   \n...                      ...          ...   \n3848                   291.0     424760.0   \n3849                     0.0      70071.0   \n3850                   121.0    2040920.0   \n3851                   296.0       4584.0   \n3852                    86.0      85222.0   \n\n                                   genres  ... num_user_for_reviews language  \\\n0         Action|Adventure|Fantasy|Sci-Fi  ...               3054.0  English   \n1                Action|Adventure|Fantasy  ...               1238.0  English   \n2               Action|Adventure|Thriller  ...                994.0  English   \n3                         Action|Thriller  ...               2701.0  English   \n4                 Action|Adventure|Sci-Fi  ...                738.0  English   \n...                                   ...  ...                  ...      ...   \n3848                Drama|Sci-Fi|Thriller  ...                371.0  English   \n3849                             Thriller  ...                 35.0  English   \n3850  Action|Crime|Drama|Romance|Thriller  ...                130.0  Spanish   \n3851                         Comedy|Drama  ...                 14.0  English   \n3852                          Documentary  ...                 84.0  English   \n\n          country  content_rating       budget  title_year  \\\n0             USA           PG-13  237000000.0      2009.0   \n1             USA           PG-13  300000000.0      2007.0   \n2              UK           PG-13  245000000.0      2015.0   \n3             USA           PG-13  250000000.0      2012.0   \n4             USA           PG-13  263700000.0      2012.0   \n...           ...             ...          ...         ...   \n3848          USA           PG-13       7000.0      2004.0   \n3849  Philippines       Not Rated       7000.0      2005.0   \n3850          USA               R       7000.0      1992.0   \n3851          USA       Not Rated       9000.0      2011.0   \n3852          USA              PG       1100.0      2004.0   \n\n     actor_2_facebook_likes imdb_score  aspect_ratio movie_facebook_likes  \n0                     936.0        7.9          1.78                33000  \n1                    5000.0        7.1          2.35                    0  \n2                     393.0        6.8          2.35                85000  \n3                   23000.0        8.5          2.35               164000  \n4                     632.0        6.6          2.35                24000  \n...                     ...        ...           ...                  ...  \n3848                   45.0        7.0          1.85                19000  \n3849                    0.0        6.3           NaN                   74  \n3850                   20.0        6.9          1.37                    0  \n3851                  205.0        6.4           NaN                  413  \n3852                   23.0        6.6          1.85                  456  \n\n[3853 rows x 28 columns]"
     },
     "execution_count": 2,
     "metadata": {},
     "output_type": "execute_result"
    }
   ],
   "source": [
    "# Write your code for importing the csv file here\n",
    "movies = pd.read_csv(\"Data/Movies.csv\")\n",
    "movies"
   ]
  },
  {
   "cell_type": "markdown",
   "metadata": {},
   "source": [
    "**Subtask 1.2: Inspect the dataframe**\n",
    "\n",
    "Inspect the dataframe's columns, shapes, variable types etc."
   ]
  },
  {
   "cell_type": "code",
   "execution_count": 3,
   "metadata": {},
   "outputs": [
    {
     "name": "stdout",
     "output_type": "stream",
     "text": [
      "<class 'pandas.core.frame.DataFrame'>\n",
      "RangeIndex: 3853 entries, 0 to 3852\n",
      "Data columns (total 28 columns):\n",
      " #   Column                     Non-Null Count  Dtype  \n",
      "---  ------                     --------------  -----  \n",
      " 0   color                      3851 non-null   object \n",
      " 1   director_name              3853 non-null   object \n",
      " 2   num_critic_for_reviews     3852 non-null   float64\n",
      " 3   duration                   3852 non-null   float64\n",
      " 4   director_facebook_likes    3853 non-null   float64\n",
      " 5   actor_3_facebook_likes     3847 non-null   float64\n",
      " 6   actor_2_name               3852 non-null   object \n",
      " 7   actor_1_facebook_likes     3853 non-null   float64\n",
      " 8   gross                      3853 non-null   float64\n",
      " 9   genres                     3853 non-null   object \n",
      " 10  actor_1_name               3853 non-null   object \n",
      " 11  movie_title                3853 non-null   object \n",
      " 12  num_voted_users            3853 non-null   int64  \n",
      " 13  cast_total_facebook_likes  3853 non-null   int64  \n",
      " 14  actor_3_name               3847 non-null   object \n",
      " 15  facenumber_in_poster       3847 non-null   float64\n",
      " 16  plot_keywords              3823 non-null   object \n",
      " 17  movie_imdb_link            3853 non-null   object \n",
      " 18  num_user_for_reviews       3853 non-null   float64\n",
      " 19  language                   3850 non-null   object \n",
      " 20  country                    3853 non-null   object \n",
      " 21  content_rating             3805 non-null   object \n",
      " 22  budget                     3853 non-null   float64\n",
      " 23  title_year                 3853 non-null   float64\n",
      " 24  actor_2_facebook_likes     3852 non-null   float64\n",
      " 25  imdb_score                 3853 non-null   float64\n",
      " 26  aspect_ratio               3781 non-null   float64\n",
      " 27  movie_facebook_likes       3853 non-null   int64  \n",
      "dtypes: float64(13), int64(3), object(12)\n",
      "memory usage: 843.0+ KB\n",
      "Index(['color', 'director_name', 'num_critic_for_reviews', 'duration',\n",
      "       'director_facebook_likes', 'actor_3_facebook_likes', 'actor_2_name',\n",
      "       'actor_1_facebook_likes', 'gross', 'genres', 'actor_1_name',\n",
      "       'movie_title', 'num_voted_users', 'cast_total_facebook_likes',\n",
      "       'actor_3_name', 'facenumber_in_poster', 'plot_keywords',\n",
      "       'movie_imdb_link', 'num_user_for_reviews', 'language', 'country',\n",
      "       'content_rating', 'budget', 'title_year', 'actor_2_facebook_likes',\n",
      "       'imdb_score', 'aspect_ratio', 'movie_facebook_likes'],\n",
      "      dtype='object') (3853, 28) \n",
      " None\n"
     ]
    }
   ],
   "source": [
    "# Write your code for inspection here\n",
    "print(movies.columns, movies.shape, \"\\n\", movies.info())"
   ]
  },
  {
   "cell_type": "markdown",
   "metadata": {},
   "source": [
    "#### <font color='red'>Question 1: How many rows and columns are present in the dataframe? </font>\n",
    "-  <font color='red'>(3821, 26)</font>\n",
    "-  <font color='red'>(3879, 28)</font>\n",
    "-  <font color='red'>(3853, 28)</font>\n",
    "-  <font color='red'>(3866, 26)</font>"
   ]
  },
  {
   "cell_type": "markdown",
   "metadata": {},
   "source": [
    "#### <font color='red'>Question 2: How many columns have null values present in them? Try writing a code for this instead of counting them manually.</font>\n",
    "\n",
    "-  <font color='red'>3</font>\n",
    "-  <font color='red'>6</font>\n",
    "-  <font color='red'>9</font>\n",
    "-  <font color='red'>12</font>"
   ]
  },
  {
   "cell_type": "code",
   "execution_count": 8,
   "metadata": {},
   "outputs": [
    {
     "data": {
      "text/plain": "12"
     },
     "execution_count": 8,
     "metadata": {},
     "output_type": "execute_result"
    }
   ],
   "source": [
    "len(movies.columns[movies.isna().any()].tolist())"
   ]
  },
  {
   "cell_type": "markdown",
   "metadata": {},
   "source": [
    "### Task 2: Cleaning the Data\n",
    "\n",
    "**Subtask 2.1: Drop unecessary columns**\n",
    "\n",
    "For this assignment, you will mostly be analyzing the movies with respect to the ratings, gross collection, popularity of movies, etc. So many of the columns in this dataframe are not required. So it is advised to drop the following columns.\n",
    "-  color\n",
    "-  director_facebook_likes\n",
    "-  actor_1_facebook_likes\n",
    "-  actor_2_facebook_likes\n",
    "-  actor_3_facebook_likes\n",
    "-  actor_2_name\n",
    "-  cast_total_facebook_likes\n",
    "-  actor_3_name\n",
    "-  duration\n",
    "-  facenumber_in_poster\n",
    "-  content_rating\n",
    "-  country\n",
    "-  movie_imdb_link\n",
    "-  aspect_ratio\n",
    "-  plot_keywords"
   ]
  },
  {
   "cell_type": "code",
   "execution_count": 9,
   "metadata": {},
   "outputs": [
    {
     "data": {
      "text/plain": "13"
     },
     "execution_count": 9,
     "metadata": {},
     "output_type": "execute_result"
    }
   ],
   "source": [
    "# Check the 'drop' function in the Pandas library - dataframe.drop(list_of_unnecessary_columns, axis = )\n",
    "# Write your code for dropping the columns here. It is advised to keep inspecting the dataframe after each set of operations\n",
    "\n",
    "movies = movies.drop(['color', 'director_facebook_likes', 'actor_1_facebook_likes', 'actor_2_facebook_likes', 'actor_3_facebook_likes',\n",
    "                        'actor_2_name', 'cast_total_facebook_likes', 'actor_3_name', 'duration', 'facenumber_in_poster', 'content_rating', \n",
    "                        'country', 'movie_imdb_link', 'aspect_ratio', 'plot_keywords' ],axis=1)\n",
    "len(movies.columns.tolist())"
   ]
  },
  {
   "cell_type": "markdown",
   "metadata": {},
   "source": [
    "#### <font color='red'>Question 3: What is the count of columns in the new dataframe? </font>\n",
    "-  <font color='red'>10</font>\n",
    "-  <font color='red'>13</font>\n",
    "-  <font color='red'>15</font>\n",
    "-  <font color='red'>17</font>"
   ]
  },
  {
   "cell_type": "markdown",
   "metadata": {},
   "source": [
    "**Subtask 2.2: Inspect Null values**\n",
    "\n",
    "As you have seen above, there are null values in multiple columns of the dataframe 'movies'. Find out the percentage of null values in each column of the dataframe 'movies'. "
   ]
  },
  {
   "cell_type": "code",
   "execution_count": 16,
   "metadata": {},
   "outputs": [
    {
     "data": {
      "text/plain": "director_name             0\nnum_critic_for_reviews    1\ngross                     0\ngenres                    0\nactor_1_name              0\nmovie_title               0\nnum_voted_users           0\nnum_user_for_reviews      0\nlanguage                  3\nbudget                    0\ntitle_year                0\nimdb_score                0\nmovie_facebook_likes      0\ndtype: int64"
     },
     "execution_count": 16,
     "metadata": {},
     "output_type": "execute_result"
    }
   ],
   "source": [
    "# Write you code here\n",
    "movies.isna().sum()"
   ]
  },
  {
   "cell_type": "markdown",
   "metadata": {},
   "source": [
    "#### <font color='red'>Question 4: Which column has the highest percentage of null values? </font>\n",
    "-  <font color='red'>language</font>\n",
    "-  <font color='red'>genres</font>\n",
    "-  <font color='red'>num_critic_for_reviews</font>\n",
    "-  <font color='red'>imdb_score</font>"
   ]
  },
  {
   "cell_type": "markdown",
   "metadata": {},
   "source": [
    "**Subtask 2.3: Fill NaN values**\n",
    "\n",
    "You might notice that the `language` column has some NaN values. Here, on inspection, you will see that it is safe to replace all the missing values with `'English'`."
   ]
  },
  {
   "cell_type": "code",
   "execution_count": 19,
   "metadata": {},
   "outputs": [
    {
     "name": "stdout",
     "output_type": "stream",
     "text": [
      "Before: (3671, 13)\n",
      "After: (3674, 13)\n"
     ]
    }
   ],
   "source": [
    "# Write your code for filling the NaN values in the 'language' column here\n",
    "import numpy as np\n",
    "print(\"Before:\", movies[movies['language'] == 'English'].shape)\n",
    "movies['language'] = movies['language'].replace(np.nan,'English')\n",
    "print(\"After:\", movies[movies['language'] == 'English'].shape)"
   ]
  },
  {
   "cell_type": "markdown",
   "metadata": {},
   "source": [
    "#### <font color='red'>Question 5: What is the count of movies made in English language after replacing the NaN values with English? </font>\n",
    "-  <font color='red'>3670</font>\n",
    "-  <font color='red'>3674</font>\n",
    "-  <font color='red'>3668</font>\n",
    "-  <font color='red'>3672</font>"
   ]
  },
  {
   "cell_type": "markdown",
   "metadata": {},
   "source": [
    "### Task 3: Data Analysis\n",
    "\n",
    "**Subtask 3.1: Change the unit of columns**\n",
    "\n",
    "Convert the unit of the `budget` and `gross` columns from `$` to `million $`."
   ]
  },
  {
   "cell_type": "code",
   "execution_count": 23,
   "metadata": {},
   "outputs": [
    {
     "data": {
      "text/html": "<div>\n<style scoped>\n    .dataframe tbody tr th:only-of-type {\n        vertical-align: middle;\n    }\n\n    .dataframe tbody tr th {\n        vertical-align: top;\n    }\n\n    .dataframe thead th {\n        text-align: right;\n    }\n</style>\n<table border=\"1\" class=\"dataframe\">\n  <thead>\n    <tr style=\"text-align: right;\">\n      <th></th>\n      <th>budget</th>\n      <th>gross</th>\n    </tr>\n  </thead>\n  <tbody>\n    <tr>\n      <th>0</th>\n      <td>2.370000e-04</td>\n      <td>7.605058e-04</td>\n    </tr>\n    <tr>\n      <th>1</th>\n      <td>3.000000e-04</td>\n      <td>3.094042e-04</td>\n    </tr>\n    <tr>\n      <th>2</th>\n      <td>2.450000e-04</td>\n      <td>2.000742e-04</td>\n    </tr>\n    <tr>\n      <th>3</th>\n      <td>2.500000e-04</td>\n      <td>4.481306e-04</td>\n    </tr>\n    <tr>\n      <th>4</th>\n      <td>2.637000e-04</td>\n      <td>7.305868e-05</td>\n    </tr>\n    <tr>\n      <th>...</th>\n      <td>...</td>\n      <td>...</td>\n    </tr>\n    <tr>\n      <th>3848</th>\n      <td>7.000000e-09</td>\n      <td>4.247600e-07</td>\n    </tr>\n    <tr>\n      <th>3849</th>\n      <td>7.000000e-09</td>\n      <td>7.007100e-08</td>\n    </tr>\n    <tr>\n      <th>3850</th>\n      <td>7.000000e-09</td>\n      <td>2.040920e-06</td>\n    </tr>\n    <tr>\n      <th>3851</th>\n      <td>9.000000e-09</td>\n      <td>4.584000e-09</td>\n    </tr>\n    <tr>\n      <th>3852</th>\n      <td>1.100000e-09</td>\n      <td>8.522200e-08</td>\n    </tr>\n  </tbody>\n</table>\n<p>3853 rows × 2 columns</p>\n</div>",
      "text/plain": "            budget         gross\n0     2.370000e-04  7.605058e-04\n1     3.000000e-04  3.094042e-04\n2     2.450000e-04  2.000742e-04\n3     2.500000e-04  4.481306e-04\n4     2.637000e-04  7.305868e-05\n...            ...           ...\n3848  7.000000e-09  4.247600e-07\n3849  7.000000e-09  7.007100e-08\n3850  7.000000e-09  2.040920e-06\n3851  9.000000e-09  4.584000e-09\n3852  1.100000e-09  8.522200e-08\n\n[3853 rows x 2 columns]"
     },
     "execution_count": 23,
     "metadata": {},
     "output_type": "execute_result"
    }
   ],
   "source": [
    "# Write your code for unit conversion here\n",
    "movies[['budget','gross']] = movies[['budget','gross']] / 1000000\n",
    "movies[['budget','gross']] "
   ]
  },
  {
   "cell_type": "markdown",
   "metadata": {},
   "source": [
    "**Subtask 3.2: Find the movies with highest profit**\n",
    "\n",
    "   1. Create a new column called `profit` which contains the difference of the two columns: `gross` and `budget`.\n",
    "   2. Sort the dataframe using the `profit` column as reference. (Find which command can be used here to sort entries from the documentation)\n",
    "   3. Extract the top ten profiting movies in descending order and store them in a new dataframe - `top10`"
   ]
  },
  {
   "cell_type": "code",
   "execution_count": 26,
   "metadata": {},
   "outputs": [
    {
     "data": {
      "text/html": "<div>\n<style scoped>\n    .dataframe tbody tr th:only-of-type {\n        vertical-align: middle;\n    }\n\n    .dataframe tbody tr th {\n        vertical-align: top;\n    }\n\n    .dataframe thead th {\n        text-align: right;\n    }\n</style>\n<table border=\"1\" class=\"dataframe\">\n  <thead>\n    <tr style=\"text-align: right;\">\n      <th></th>\n      <th>director_name</th>\n      <th>num_critic_for_reviews</th>\n      <th>gross</th>\n      <th>genres</th>\n      <th>actor_1_name</th>\n      <th>movie_title</th>\n      <th>num_voted_users</th>\n      <th>num_user_for_reviews</th>\n      <th>language</th>\n      <th>budget</th>\n      <th>title_year</th>\n      <th>imdb_score</th>\n      <th>movie_facebook_likes</th>\n      <th>profit</th>\n    </tr>\n  </thead>\n  <tbody>\n    <tr>\n      <th>0</th>\n      <td>James Cameron</td>\n      <td>723.0</td>\n      <td>0.000761</td>\n      <td>Action|Adventure|Fantasy|Sci-Fi</td>\n      <td>CCH Pounder</td>\n      <td>Avatar</td>\n      <td>886204</td>\n      <td>3054.0</td>\n      <td>English</td>\n      <td>0.000237</td>\n      <td>2009.0</td>\n      <td>7.9</td>\n      <td>33000</td>\n      <td>0.000524</td>\n    </tr>\n    <tr>\n      <th>28</th>\n      <td>Colin Trevorrow</td>\n      <td>644.0</td>\n      <td>0.000652</td>\n      <td>Action|Adventure|Sci-Fi|Thriller</td>\n      <td>Bryce Dallas Howard</td>\n      <td>Jurassic World</td>\n      <td>418214</td>\n      <td>1290.0</td>\n      <td>English</td>\n      <td>0.000150</td>\n      <td>2015.0</td>\n      <td>7.0</td>\n      <td>150000</td>\n      <td>0.000502</td>\n    </tr>\n    <tr>\n      <th>25</th>\n      <td>James Cameron</td>\n      <td>315.0</td>\n      <td>0.000659</td>\n      <td>Drama|Romance</td>\n      <td>Leonardo DiCaprio</td>\n      <td>Titanic</td>\n      <td>793059</td>\n      <td>2528.0</td>\n      <td>English</td>\n      <td>0.000200</td>\n      <td>1997.0</td>\n      <td>7.7</td>\n      <td>26000</td>\n      <td>0.000459</td>\n    </tr>\n    <tr>\n      <th>2704</th>\n      <td>George Lucas</td>\n      <td>282.0</td>\n      <td>0.000461</td>\n      <td>Action|Adventure|Fantasy|Sci-Fi</td>\n      <td>Harrison Ford</td>\n      <td>Star Wars: Episode IV - A New Hope</td>\n      <td>911097</td>\n      <td>1470.0</td>\n      <td>English</td>\n      <td>0.000011</td>\n      <td>1977.0</td>\n      <td>8.7</td>\n      <td>33000</td>\n      <td>0.000450</td>\n    </tr>\n    <tr>\n      <th>2748</th>\n      <td>Steven Spielberg</td>\n      <td>215.0</td>\n      <td>0.000435</td>\n      <td>Family|Sci-Fi</td>\n      <td>Henry Thomas</td>\n      <td>E.T. the Extra-Terrestrial</td>\n      <td>281842</td>\n      <td>515.0</td>\n      <td>English</td>\n      <td>0.000010</td>\n      <td>1982.0</td>\n      <td>7.9</td>\n      <td>34000</td>\n      <td>0.000424</td>\n    </tr>\n  </tbody>\n</table>\n</div>",
      "text/plain": "         director_name  num_critic_for_reviews     gross  \\\n0        James Cameron                   723.0  0.000761   \n28     Colin Trevorrow                   644.0  0.000652   \n25       James Cameron                   315.0  0.000659   \n2704      George Lucas                   282.0  0.000461   \n2748  Steven Spielberg                   215.0  0.000435   \n\n                                genres         actor_1_name  \\\n0      Action|Adventure|Fantasy|Sci-Fi          CCH Pounder   \n28    Action|Adventure|Sci-Fi|Thriller  Bryce Dallas Howard   \n25                       Drama|Romance    Leonardo DiCaprio   \n2704   Action|Adventure|Fantasy|Sci-Fi        Harrison Ford   \n2748                     Family|Sci-Fi         Henry Thomas   \n\n                              movie_title  num_voted_users  \\\n0                                 Avatar            886204   \n28                        Jurassic World            418214   \n25                               Titanic            793059   \n2704  Star Wars: Episode IV - A New Hope            911097   \n2748          E.T. the Extra-Terrestrial            281842   \n\n      num_user_for_reviews language    budget  title_year  imdb_score  \\\n0                   3054.0  English  0.000237      2009.0         7.9   \n28                  1290.0  English  0.000150      2015.0         7.0   \n25                  2528.0  English  0.000200      1997.0         7.7   \n2704                1470.0  English  0.000011      1977.0         8.7   \n2748                 515.0  English  0.000010      1982.0         7.9   \n\n      movie_facebook_likes    profit  \n0                    33000  0.000524  \n28                  150000  0.000502  \n25                   26000  0.000459  \n2704                 33000  0.000450  \n2748                 34000  0.000424  "
     },
     "execution_count": 26,
     "metadata": {},
     "output_type": "execute_result"
    }
   ],
   "source": [
    "# Write your code for creating the profit column here\n",
    "movies['profit'] = movies['gross'] - movies['budget']\n",
    "movies = movies.sort_values(by=['profit'], ascending=False)\n",
    "movies.head()"
   ]
  },
  {
   "cell_type": "code",
   "execution_count": null,
   "metadata": {},
   "outputs": [],
   "source": [
    "# Write your code for sorting the dataframe here\n"
   ]
  },
  {
   "cell_type": "code",
   "execution_count": null,
   "metadata": {},
   "outputs": [],
   "source": [
    "top10 = # Write your code to get the top 10 profiting movies here"
   ]
  },
  {
   "cell_type": "markdown",
   "metadata": {},
   "source": [
    "**Checkpoint:** You might spot two movies directed by `James Cameron` in the list."
   ]
  },
  {
   "cell_type": "markdown",
   "metadata": {},
   "source": [
    "#### <font color='red'>Question 6: Which movie is ranked 5th from the top in the list obtained? </font>\n",
    "-  <font color='red'>E.T. the Extra-Terrestrial</font>\n",
    "-  <font color='red'>The Avengers</font>\n",
    "-  <font color='red'>The Dark Knight</font>\n",
    "-  <font color='red'>Titanic</font>"
   ]
  },
  {
   "cell_type": "markdown",
   "metadata": {},
   "source": [
    "**Subtask 3.3: Find IMDb Top 250**\n",
    "\n",
    "Create a new dataframe `IMDb_Top_250` and store the top 250 movies with the highest IMDb Rating (corresponding to the column: `imdb_score`). Also make sure that for all of these movies, the `num_voted_users` is greater than 25,000. \n",
    "\n",
    "Also add a `Rank` column containing the values 1 to 250 indicating the ranks of the corresponding films."
   ]
  },
  {
   "cell_type": "code",
   "execution_count": 36,
   "metadata": {},
   "outputs": [
    {
     "data": {
      "text/html": "<div>\n<style scoped>\n    .dataframe tbody tr th:only-of-type {\n        vertical-align: middle;\n    }\n\n    .dataframe tbody tr th {\n        vertical-align: top;\n    }\n\n    .dataframe thead th {\n        text-align: right;\n    }\n</style>\n<table border=\"1\" class=\"dataframe\">\n  <thead>\n    <tr style=\"text-align: right;\">\n      <th></th>\n      <th>index</th>\n      <th>director_name</th>\n      <th>num_critic_for_reviews</th>\n      <th>gross</th>\n      <th>genres</th>\n      <th>actor_1_name</th>\n      <th>movie_title</th>\n      <th>num_voted_users</th>\n      <th>num_user_for_reviews</th>\n      <th>language</th>\n      <th>budget</th>\n      <th>title_year</th>\n      <th>imdb_score</th>\n      <th>movie_facebook_likes</th>\n      <th>profit</th>\n      <th>Rank</th>\n    </tr>\n  </thead>\n  <tbody>\n    <tr>\n      <th>0</th>\n      <td>1795</td>\n      <td>Frank Darabont</td>\n      <td>199.0</td>\n      <td>2.834147e-05</td>\n      <td>Crime|Drama</td>\n      <td>Morgan Freeman</td>\n      <td>The Shawshank Redemption</td>\n      <td>1689764</td>\n      <td>4144.0</td>\n      <td>English</td>\n      <td>0.000025</td>\n      <td>1994.0</td>\n      <td>9.3</td>\n      <td>108000</td>\n      <td>0.000003</td>\n      <td>1</td>\n    </tr>\n    <tr>\n      <th>1</th>\n      <td>3016</td>\n      <td>Francis Ford Coppola</td>\n      <td>208.0</td>\n      <td>1.348220e-04</td>\n      <td>Crime|Drama</td>\n      <td>Al Pacino</td>\n      <td>The Godfather</td>\n      <td>1155770</td>\n      <td>2238.0</td>\n      <td>English</td>\n      <td>0.000006</td>\n      <td>1972.0</td>\n      <td>9.2</td>\n      <td>43000</td>\n      <td>0.000129</td>\n      <td>2</td>\n    </tr>\n    <tr>\n      <th>2</th>\n      <td>64</td>\n      <td>Christopher Nolan</td>\n      <td>645.0</td>\n      <td>5.333161e-04</td>\n      <td>Action|Crime|Drama|Thriller</td>\n      <td>Christian Bale</td>\n      <td>The Dark Knight</td>\n      <td>1676169</td>\n      <td>4667.0</td>\n      <td>English</td>\n      <td>0.000185</td>\n      <td>2008.0</td>\n      <td>9.0</td>\n      <td>37000</td>\n      <td>0.000348</td>\n      <td>3</td>\n    </tr>\n    <tr>\n      <th>3</th>\n      <td>2543</td>\n      <td>Francis Ford Coppola</td>\n      <td>149.0</td>\n      <td>5.730000e-05</td>\n      <td>Crime|Drama</td>\n      <td>Robert De Niro</td>\n      <td>The Godfather: Part II</td>\n      <td>790926</td>\n      <td>650.0</td>\n      <td>English</td>\n      <td>0.000013</td>\n      <td>1974.0</td>\n      <td>9.0</td>\n      <td>14000</td>\n      <td>0.000044</td>\n      <td>4</td>\n    </tr>\n    <tr>\n      <th>4</th>\n      <td>3607</td>\n      <td>Sergio Leone</td>\n      <td>181.0</td>\n      <td>6.100000e-06</td>\n      <td>Western</td>\n      <td>Clint Eastwood</td>\n      <td>The Good, the Bad and the Ugly</td>\n      <td>503509</td>\n      <td>780.0</td>\n      <td>Italian</td>\n      <td>0.000001</td>\n      <td>1966.0</td>\n      <td>8.9</td>\n      <td>20000</td>\n      <td>0.000005</td>\n      <td>5</td>\n    </tr>\n    <tr>\n      <th>...</th>\n      <td>...</td>\n      <td>...</td>\n      <td>...</td>\n      <td>...</td>\n      <td>...</td>\n      <td>...</td>\n      <td>...</td>\n      <td>...</td>\n      <td>...</td>\n      <td>...</td>\n      <td>...</td>\n      <td>...</td>\n      <td>...</td>\n      <td>...</td>\n      <td>...</td>\n      <td>...</td>\n    </tr>\n    <tr>\n      <th>245</th>\n      <td>0</td>\n      <td>James Cameron</td>\n      <td>723.0</td>\n      <td>7.605058e-04</td>\n      <td>Action|Adventure|Fantasy|Sci-Fi</td>\n      <td>CCH Pounder</td>\n      <td>Avatar</td>\n      <td>886204</td>\n      <td>3054.0</td>\n      <td>English</td>\n      <td>0.000237</td>\n      <td>2009.0</td>\n      <td>7.9</td>\n      <td>33000</td>\n      <td>0.000524</td>\n      <td>246</td>\n    </tr>\n    <tr>\n      <th>246</th>\n      <td>339</td>\n      <td>John Lasseter</td>\n      <td>191.0</td>\n      <td>2.458234e-04</td>\n      <td>Adventure|Animation|Comedy|Family|Fantasy</td>\n      <td>Tom Hanks</td>\n      <td>Toy Story 2</td>\n      <td>385871</td>\n      <td>515.0</td>\n      <td>English</td>\n      <td>0.000090</td>\n      <td>1999.0</td>\n      <td>7.9</td>\n      <td>0</td>\n      <td>0.000156</td>\n      <td>247</td>\n    </tr>\n    <tr>\n      <th>247</th>\n      <td>67</td>\n      <td>Jon Favreau</td>\n      <td>486.0</td>\n      <td>3.182982e-04</td>\n      <td>Action|Adventure|Sci-Fi</td>\n      <td>Robert Downey Jr.</td>\n      <td>Iron Man</td>\n      <td>696338</td>\n      <td>1055.0</td>\n      <td>English</td>\n      <td>0.000140</td>\n      <td>2008.0</td>\n      <td>7.9</td>\n      <td>10000</td>\n      <td>0.000178</td>\n      <td>248</td>\n    </tr>\n    <tr>\n      <th>248</th>\n      <td>1502</td>\n      <td>Nick Cassavetes</td>\n      <td>177.0</td>\n      <td>6.428600e-08</td>\n      <td>Drama|Romance</td>\n      <td>Ryan Gosling</td>\n      <td>The Notebook</td>\n      <td>396396</td>\n      <td>1111.0</td>\n      <td>English</td>\n      <td>0.000029</td>\n      <td>2004.0</td>\n      <td>7.9</td>\n      <td>57000</td>\n      <td>-0.000029</td>\n      <td>249</td>\n    </tr>\n    <tr>\n      <th>249</th>\n      <td>95</td>\n      <td>Peter Jackson</td>\n      <td>645.0</td>\n      <td>3.030012e-04</td>\n      <td>Adventure|Fantasy</td>\n      <td>Aidan Turner</td>\n      <td>The Hobbit: An Unexpected Journey</td>\n      <td>637246</td>\n      <td>1367.0</td>\n      <td>English</td>\n      <td>0.000180</td>\n      <td>2012.0</td>\n      <td>7.9</td>\n      <td>166000</td>\n      <td>0.000123</td>\n      <td>250</td>\n    </tr>\n  </tbody>\n</table>\n<p>250 rows × 16 columns</p>\n</div>",
      "text/plain": "     index         director_name  num_critic_for_reviews         gross  \\\n0     1795        Frank Darabont                   199.0  2.834147e-05   \n1     3016  Francis Ford Coppola                   208.0  1.348220e-04   \n2       64     Christopher Nolan                   645.0  5.333161e-04   \n3     2543  Francis Ford Coppola                   149.0  5.730000e-05   \n4     3607          Sergio Leone                   181.0  6.100000e-06   \n..     ...                   ...                     ...           ...   \n245      0         James Cameron                   723.0  7.605058e-04   \n246    339         John Lasseter                   191.0  2.458234e-04   \n247     67           Jon Favreau                   486.0  3.182982e-04   \n248   1502       Nick Cassavetes                   177.0  6.428600e-08   \n249     95         Peter Jackson                   645.0  3.030012e-04   \n\n                                        genres       actor_1_name  \\\n0                                  Crime|Drama     Morgan Freeman   \n1                                  Crime|Drama          Al Pacino   \n2                  Action|Crime|Drama|Thriller     Christian Bale   \n3                                  Crime|Drama     Robert De Niro   \n4                                      Western     Clint Eastwood   \n..                                         ...                ...   \n245            Action|Adventure|Fantasy|Sci-Fi        CCH Pounder   \n246  Adventure|Animation|Comedy|Family|Fantasy          Tom Hanks   \n247                    Action|Adventure|Sci-Fi  Robert Downey Jr.   \n248                              Drama|Romance       Ryan Gosling   \n249                          Adventure|Fantasy       Aidan Turner   \n\n                            movie_title  num_voted_users  \\\n0             The Shawshank Redemption           1689764   \n1                        The Godfather           1155770   \n2                      The Dark Knight           1676169   \n3               The Godfather: Part II            790926   \n4       The Good, the Bad and the Ugly            503509   \n..                                  ...              ...   \n245                             Avatar            886204   \n246                        Toy Story 2            385871   \n247                           Iron Man            696338   \n248                       The Notebook            396396   \n249  The Hobbit: An Unexpected Journey            637246   \n\n     num_user_for_reviews language    budget  title_year  imdb_score  \\\n0                  4144.0  English  0.000025      1994.0         9.3   \n1                  2238.0  English  0.000006      1972.0         9.2   \n2                  4667.0  English  0.000185      2008.0         9.0   \n3                   650.0  English  0.000013      1974.0         9.0   \n4                   780.0  Italian  0.000001      1966.0         8.9   \n..                    ...      ...       ...         ...         ...   \n245                3054.0  English  0.000237      2009.0         7.9   \n246                 515.0  English  0.000090      1999.0         7.9   \n247                1055.0  English  0.000140      2008.0         7.9   \n248                1111.0  English  0.000029      2004.0         7.9   \n249                1367.0  English  0.000180      2012.0         7.9   \n\n     movie_facebook_likes    profit  Rank  \n0                  108000  0.000003     1  \n1                   43000  0.000129     2  \n2                   37000  0.000348     3  \n3                   14000  0.000044     4  \n4                   20000  0.000005     5  \n..                    ...       ...   ...  \n245                 33000  0.000524   246  \n246                     0  0.000156   247  \n247                 10000  0.000178   248  \n248                 57000 -0.000029   249  \n249                166000  0.000123   250  \n\n[250 rows x 16 columns]"
     },
     "execution_count": 36,
     "metadata": {},
     "output_type": "execute_result"
    }
   ],
   "source": [
    "# Write your code for extracting the top 250 movies as per the IMDb score here. Make sure that you store it in a new dataframe \n",
    "# and name that dataframe as 'IMDb_Top_250'\n",
    "IMDb_Top_250 = movies.sort_values(by=\"imdb_score\", ascending=False).reset_index()\n",
    "IMDb_Top_250 = IMDb_Top_250.iloc[:250,:]\n",
    "IMDb_Top_250['Rank'] = IMDb_Top_250.index + 1\n",
    "IMDb_Top_250 \n"
   ]
  },
  {
   "cell_type": "code",
   "execution_count": 39,
   "metadata": {},
   "outputs": [
    {
     "data": {
      "text/plain": "(8.0, 8.5]     132\n(7.5, 8.0]      90\n(8.5, 9.0]      26\n(9.0, 9.5]       2\n(7.0, 7.5]       0\n(9.5, 10.0]      0\nName: imdb_score, dtype: int64"
     },
     "execution_count": 39,
     "metadata": {},
     "output_type": "execute_result"
    }
   ],
   "source": [
    "bins = [7, 7.5, 8, 8.5, 9, 9.5, 10 ]\n",
    "s = pd.cut(IMDb_Top_250['imdb_score'], bins=bins).value_counts()\n",
    "s"
   ]
  },
  {
   "cell_type": "markdown",
   "metadata": {},
   "source": [
    "#### <font color='red'>Question 7: Suppose movies are divided into 5 buckets based on the IMDb ratings: </font>\n",
    "-  <font color='red'>7.5 to 8</font>\n",
    "-  <font color='red'>8 to 8.5</font>\n",
    "-  <font color='red'>8.5 to 9</font>\n",
    "-  <font color='red'>9 to 9.5</font>\n",
    "-  <font color='red'>9.5 to 10</font>\n",
    "\n",
    "<font color = 'red'> Which bucket holds the maximum number of movies from *IMDb_Top_250*? </font>"
   ]
  },
  {
   "cell_type": "markdown",
   "metadata": {},
   "source": [
    "**Subtask 3.4: Find the critic-favorite and audience-favorite actors**\n",
    "\n",
    "   1. Create three new dataframes namely, `Meryl_Streep`, `Leo_Caprio`, and `Brad_Pitt` which contain the movies in which the actors: 'Meryl Streep', 'Leonardo DiCaprio', and 'Brad Pitt' are the lead actors. Use only the `actor_1_name` column for extraction. Also, make sure that you use the names 'Meryl Streep', 'Leonardo DiCaprio', and 'Brad Pitt' for the said extraction.\n",
    "   2. Append the rows of all these dataframes and store them in a new dataframe named `Combined`.\n",
    "   3. Group the combined dataframe using the `actor_1_name` column.\n",
    "   4. Find the mean of the `num_critic_for_reviews` and `num_user_for_review` and identify the actors which have the highest mean."
   ]
  },
  {
   "cell_type": "code",
   "execution_count": 40,
   "metadata": {},
   "outputs": [],
   "source": [
    "# Write your code for creating three new dataframes here\n",
    "Meryl_Streep = movies[movies['actor_1_name']=='Meryl Streep'] # Include all movies in which Meryl_Streep is the lead"
   ]
  },
  {
   "cell_type": "code",
   "execution_count": 48,
   "metadata": {},
   "outputs": [],
   "source": [
    "Leo_Caprio = movies[movies['actor_1_name']=='Leonardo DiCaprio'] # Include all movies in which Leo_Caprio is the lead"
   ]
  },
  {
   "cell_type": "code",
   "execution_count": 49,
   "metadata": {},
   "outputs": [
    {
     "data": {
      "text/html": "<div>\n<style scoped>\n    .dataframe tbody tr th:only-of-type {\n        vertical-align: middle;\n    }\n\n    .dataframe tbody tr th {\n        vertical-align: top;\n    }\n\n    .dataframe thead th {\n        text-align: right;\n    }\n</style>\n<table border=\"1\" class=\"dataframe\">\n  <thead>\n    <tr style=\"text-align: right;\">\n      <th></th>\n      <th>director_name</th>\n      <th>num_critic_for_reviews</th>\n      <th>gross</th>\n      <th>genres</th>\n      <th>actor_1_name</th>\n      <th>movie_title</th>\n      <th>num_voted_users</th>\n      <th>num_user_for_reviews</th>\n      <th>language</th>\n      <th>budget</th>\n      <th>title_year</th>\n      <th>imdb_score</th>\n      <th>movie_facebook_likes</th>\n      <th>profit</th>\n    </tr>\n  </thead>\n  <tbody>\n    <tr>\n      <th>25</th>\n      <td>James Cameron</td>\n      <td>315.0</td>\n      <td>0.000659</td>\n      <td>Drama|Romance</td>\n      <td>Leonardo DiCaprio</td>\n      <td>Titanic</td>\n      <td>793059</td>\n      <td>2528.0</td>\n      <td>English</td>\n      <td>0.000200</td>\n      <td>1997.0</td>\n      <td>7.7</td>\n      <td>26000</td>\n      <td>0.000459</td>\n    </tr>\n    <tr>\n      <th>94</th>\n      <td>Christopher Nolan</td>\n      <td>642.0</td>\n      <td>0.000293</td>\n      <td>Action|Adventure|Sci-Fi|Thriller</td>\n      <td>Leonardo DiCaprio</td>\n      <td>Inception</td>\n      <td>1468200</td>\n      <td>2803.0</td>\n      <td>English</td>\n      <td>0.000160</td>\n      <td>2010.0</td>\n      <td>8.8</td>\n      <td>175000</td>\n      <td>0.000133</td>\n    </tr>\n    <tr>\n      <th>859</th>\n      <td>Steven Spielberg</td>\n      <td>194.0</td>\n      <td>0.000164</td>\n      <td>Biography|Crime|Drama</td>\n      <td>Leonardo DiCaprio</td>\n      <td>Catch Me If You Can</td>\n      <td>525801</td>\n      <td>667.0</td>\n      <td>English</td>\n      <td>0.000052</td>\n      <td>2002.0</td>\n      <td>8.0</td>\n      <td>15000</td>\n      <td>0.000112</td>\n    </tr>\n    <tr>\n      <th>283</th>\n      <td>Quentin Tarantino</td>\n      <td>765.0</td>\n      <td>0.000163</td>\n      <td>Drama|Western</td>\n      <td>Leonardo DiCaprio</td>\n      <td>Django Unchained</td>\n      <td>955174</td>\n      <td>1193.0</td>\n      <td>English</td>\n      <td>0.000100</td>\n      <td>2012.0</td>\n      <td>8.5</td>\n      <td>199000</td>\n      <td>0.000063</td>\n    </tr>\n    <tr>\n      <th>173</th>\n      <td>Alejandro G. Iñárritu</td>\n      <td>556.0</td>\n      <td>0.000184</td>\n      <td>Adventure|Drama|Thriller|Western</td>\n      <td>Leonardo DiCaprio</td>\n      <td>The Revenant</td>\n      <td>406020</td>\n      <td>1188.0</td>\n      <td>English</td>\n      <td>0.000135</td>\n      <td>2015.0</td>\n      <td>8.1</td>\n      <td>190000</td>\n      <td>0.000049</td>\n    </tr>\n    <tr>\n      <th>431</th>\n      <td>Martin Scorsese</td>\n      <td>490.0</td>\n      <td>0.000128</td>\n      <td>Mystery|Thriller</td>\n      <td>Leonardo DiCaprio</td>\n      <td>Shutter Island</td>\n      <td>786092</td>\n      <td>964.0</td>\n      <td>English</td>\n      <td>0.000080</td>\n      <td>2010.0</td>\n      <td>8.1</td>\n      <td>53000</td>\n      <td>0.000048</td>\n    </tr>\n    <tr>\n      <th>347</th>\n      <td>Martin Scorsese</td>\n      <td>352.0</td>\n      <td>0.000132</td>\n      <td>Crime|Drama|Thriller</td>\n      <td>Leonardo DiCaprio</td>\n      <td>The Departed</td>\n      <td>873649</td>\n      <td>2054.0</td>\n      <td>English</td>\n      <td>0.000090</td>\n      <td>2006.0</td>\n      <td>8.5</td>\n      <td>29000</td>\n      <td>0.000042</td>\n    </tr>\n    <tr>\n      <th>49</th>\n      <td>Baz Luhrmann</td>\n      <td>490.0</td>\n      <td>0.000145</td>\n      <td>Drama|Romance</td>\n      <td>Leonardo DiCaprio</td>\n      <td>The Great Gatsby</td>\n      <td>362912</td>\n      <td>753.0</td>\n      <td>English</td>\n      <td>0.000105</td>\n      <td>2013.0</td>\n      <td>7.3</td>\n      <td>115000</td>\n      <td>0.000040</td>\n    </tr>\n    <tr>\n      <th>3025</th>\n      <td>Baz Luhrmann</td>\n      <td>490.0</td>\n      <td>0.000145</td>\n      <td>Drama|Romance</td>\n      <td>Leonardo DiCaprio</td>\n      <td>The Great Gatsby</td>\n      <td>362933</td>\n      <td>753.0</td>\n      <td>English</td>\n      <td>0.000105</td>\n      <td>2013.0</td>\n      <td>7.3</td>\n      <td>115000</td>\n      <td>0.000040</td>\n    </tr>\n    <tr>\n      <th>2484</th>\n      <td>Baz Luhrmann</td>\n      <td>106.0</td>\n      <td>0.000046</td>\n      <td>Drama|Romance</td>\n      <td>Leonardo DiCaprio</td>\n      <td>Romeo + Juliet</td>\n      <td>167750</td>\n      <td>506.0</td>\n      <td>English</td>\n      <td>0.000015</td>\n      <td>1996.0</td>\n      <td>6.8</td>\n      <td>10000</td>\n      <td>0.000032</td>\n    </tr>\n    <tr>\n      <th>1336</th>\n      <td>Randall Wallace</td>\n      <td>83.0</td>\n      <td>0.000057</td>\n      <td>Action|Adventure</td>\n      <td>Leonardo DiCaprio</td>\n      <td>The Man in the Iron Mask</td>\n      <td>125219</td>\n      <td>244.0</td>\n      <td>English</td>\n      <td>0.000035</td>\n      <td>1998.0</td>\n      <td>6.4</td>\n      <td>0</td>\n      <td>0.000022</td>\n    </tr>\n    <tr>\n      <th>294</th>\n      <td>Martin Scorsese</td>\n      <td>606.0</td>\n      <td>0.000117</td>\n      <td>Biography|Comedy|Crime|Drama</td>\n      <td>Leonardo DiCaprio</td>\n      <td>The Wolf of Wall Street</td>\n      <td>780588</td>\n      <td>1138.0</td>\n      <td>English</td>\n      <td>0.000100</td>\n      <td>2013.0</td>\n      <td>8.2</td>\n      <td>138000</td>\n      <td>0.000017</td>\n    </tr>\n    <tr>\n      <th>1364</th>\n      <td>Clint Eastwood</td>\n      <td>392.0</td>\n      <td>0.000037</td>\n      <td>Biography|Crime|Drama</td>\n      <td>Leonardo DiCaprio</td>\n      <td>J. Edgar</td>\n      <td>102728</td>\n      <td>279.0</td>\n      <td>English</td>\n      <td>0.000035</td>\n      <td>2011.0</td>\n      <td>6.6</td>\n      <td>16000</td>\n      <td>0.000002</td>\n    </tr>\n    <tr>\n      <th>246</th>\n      <td>Martin Scorsese</td>\n      <td>267.0</td>\n      <td>0.000103</td>\n      <td>Biography|Drama</td>\n      <td>Leonardo DiCaprio</td>\n      <td>The Aviator</td>\n      <td>264318</td>\n      <td>799.0</td>\n      <td>English</td>\n      <td>0.000110</td>\n      <td>2004.0</td>\n      <td>7.5</td>\n      <td>0</td>\n      <td>-0.000007</td>\n    </tr>\n    <tr>\n      <th>1909</th>\n      <td>Jerry Zaks</td>\n      <td>45.0</td>\n      <td>0.000013</td>\n      <td>Drama</td>\n      <td>Leonardo DiCaprio</td>\n      <td>Marvin's Room</td>\n      <td>20163</td>\n      <td>71.0</td>\n      <td>English</td>\n      <td>0.000023</td>\n      <td>1996.0</td>\n      <td>6.7</td>\n      <td>1000</td>\n      <td>-0.000010</td>\n    </tr>\n    <tr>\n      <th>934</th>\n      <td>Danny Boyle</td>\n      <td>118.0</td>\n      <td>0.000040</td>\n      <td>Adventure|Drama|Thriller</td>\n      <td>Leonardo DiCaprio</td>\n      <td>The Beach</td>\n      <td>176169</td>\n      <td>548.0</td>\n      <td>English</td>\n      <td>0.000050</td>\n      <td>2000.0</td>\n      <td>6.6</td>\n      <td>0</td>\n      <td>-0.000010</td>\n    </tr>\n    <tr>\n      <th>1046</th>\n      <td>Sam Mendes</td>\n      <td>323.0</td>\n      <td>0.000023</td>\n      <td>Drama|Romance</td>\n      <td>Leonardo DiCaprio</td>\n      <td>Revolutionary Road</td>\n      <td>152591</td>\n      <td>414.0</td>\n      <td>English</td>\n      <td>0.000035</td>\n      <td>2008.0</td>\n      <td>7.3</td>\n      <td>0</td>\n      <td>-0.000012</td>\n    </tr>\n    <tr>\n      <th>1457</th>\n      <td>Sam Raimi</td>\n      <td>63.0</td>\n      <td>0.000019</td>\n      <td>Action|Thriller|Western</td>\n      <td>Leonardo DiCaprio</td>\n      <td>The Quick and the Dead</td>\n      <td>69197</td>\n      <td>216.0</td>\n      <td>English</td>\n      <td>0.000032</td>\n      <td>1995.0</td>\n      <td>6.4</td>\n      <td>0</td>\n      <td>-0.000013</td>\n    </tr>\n    <tr>\n      <th>312</th>\n      <td>Martin Scorsese</td>\n      <td>233.0</td>\n      <td>0.000078</td>\n      <td>Crime|Drama</td>\n      <td>Leonardo DiCaprio</td>\n      <td>Gangs of New York</td>\n      <td>314033</td>\n      <td>1166.0</td>\n      <td>English</td>\n      <td>0.000100</td>\n      <td>2002.0</td>\n      <td>7.5</td>\n      <td>0</td>\n      <td>-0.000022</td>\n    </tr>\n    <tr>\n      <th>608</th>\n      <td>Ridley Scott</td>\n      <td>238.0</td>\n      <td>0.000039</td>\n      <td>Action|Drama|Thriller</td>\n      <td>Leonardo DiCaprio</td>\n      <td>Body of Lies</td>\n      <td>174248</td>\n      <td>263.0</td>\n      <td>English</td>\n      <td>0.000070</td>\n      <td>2008.0</td>\n      <td>7.1</td>\n      <td>0</td>\n      <td>-0.000031</td>\n    </tr>\n    <tr>\n      <th>293</th>\n      <td>Edward Zwick</td>\n      <td>166.0</td>\n      <td>0.000057</td>\n      <td>Adventure|Drama|Thriller</td>\n      <td>Leonardo DiCaprio</td>\n      <td>Blood Diamond</td>\n      <td>400292</td>\n      <td>657.0</td>\n      <td>English</td>\n      <td>0.000100</td>\n      <td>2006.0</td>\n      <td>8.0</td>\n      <td>14000</td>\n      <td>-0.000043</td>\n    </tr>\n  </tbody>\n</table>\n</div>",
      "text/plain": "              director_name  num_critic_for_reviews     gross  \\\n25            James Cameron                   315.0  0.000659   \n94        Christopher Nolan                   642.0  0.000293   \n859        Steven Spielberg                   194.0  0.000164   \n283       Quentin Tarantino                   765.0  0.000163   \n173   Alejandro G. Iñárritu                   556.0  0.000184   \n431         Martin Scorsese                   490.0  0.000128   \n347         Martin Scorsese                   352.0  0.000132   \n49             Baz Luhrmann                   490.0  0.000145   \n3025           Baz Luhrmann                   490.0  0.000145   \n2484           Baz Luhrmann                   106.0  0.000046   \n1336        Randall Wallace                    83.0  0.000057   \n294         Martin Scorsese                   606.0  0.000117   \n1364         Clint Eastwood                   392.0  0.000037   \n246         Martin Scorsese                   267.0  0.000103   \n1909             Jerry Zaks                    45.0  0.000013   \n934             Danny Boyle                   118.0  0.000040   \n1046             Sam Mendes                   323.0  0.000023   \n1457              Sam Raimi                    63.0  0.000019   \n312         Martin Scorsese                   233.0  0.000078   \n608            Ridley Scott                   238.0  0.000039   \n293            Edward Zwick                   166.0  0.000057   \n\n                                genres       actor_1_name  \\\n25                       Drama|Romance  Leonardo DiCaprio   \n94    Action|Adventure|Sci-Fi|Thriller  Leonardo DiCaprio   \n859              Biography|Crime|Drama  Leonardo DiCaprio   \n283                      Drama|Western  Leonardo DiCaprio   \n173   Adventure|Drama|Thriller|Western  Leonardo DiCaprio   \n431                   Mystery|Thriller  Leonardo DiCaprio   \n347               Crime|Drama|Thriller  Leonardo DiCaprio   \n49                       Drama|Romance  Leonardo DiCaprio   \n3025                     Drama|Romance  Leonardo DiCaprio   \n2484                     Drama|Romance  Leonardo DiCaprio   \n1336                  Action|Adventure  Leonardo DiCaprio   \n294       Biography|Comedy|Crime|Drama  Leonardo DiCaprio   \n1364             Biography|Crime|Drama  Leonardo DiCaprio   \n246                    Biography|Drama  Leonardo DiCaprio   \n1909                             Drama  Leonardo DiCaprio   \n934           Adventure|Drama|Thriller  Leonardo DiCaprio   \n1046                     Drama|Romance  Leonardo DiCaprio   \n1457           Action|Thriller|Western  Leonardo DiCaprio   \n312                        Crime|Drama  Leonardo DiCaprio   \n608              Action|Drama|Thriller  Leonardo DiCaprio   \n293           Adventure|Drama|Thriller  Leonardo DiCaprio   \n\n                    movie_title  num_voted_users  num_user_for_reviews  \\\n25                     Titanic            793059                2528.0   \n94                   Inception           1468200                2803.0   \n859        Catch Me If You Can            525801                 667.0   \n283           Django Unchained            955174                1193.0   \n173               The Revenant            406020                1188.0   \n431             Shutter Island            786092                 964.0   \n347               The Departed            873649                2054.0   \n49            The Great Gatsby            362912                 753.0   \n3025          The Great Gatsby            362933                 753.0   \n2484            Romeo + Juliet            167750                 506.0   \n1336  The Man in the Iron Mask            125219                 244.0   \n294    The Wolf of Wall Street            780588                1138.0   \n1364                  J. Edgar            102728                 279.0   \n246                The Aviator            264318                 799.0   \n1909             Marvin's Room             20163                  71.0   \n934                  The Beach            176169                 548.0   \n1046        Revolutionary Road            152591                 414.0   \n1457    The Quick and the Dead             69197                 216.0   \n312          Gangs of New York            314033                1166.0   \n608               Body of Lies            174248                 263.0   \n293              Blood Diamond            400292                 657.0   \n\n     language    budget  title_year  imdb_score  movie_facebook_likes  \\\n25    English  0.000200      1997.0         7.7                 26000   \n94    English  0.000160      2010.0         8.8                175000   \n859   English  0.000052      2002.0         8.0                 15000   \n283   English  0.000100      2012.0         8.5                199000   \n173   English  0.000135      2015.0         8.1                190000   \n431   English  0.000080      2010.0         8.1                 53000   \n347   English  0.000090      2006.0         8.5                 29000   \n49    English  0.000105      2013.0         7.3                115000   \n3025  English  0.000105      2013.0         7.3                115000   \n2484  English  0.000015      1996.0         6.8                 10000   \n1336  English  0.000035      1998.0         6.4                     0   \n294   English  0.000100      2013.0         8.2                138000   \n1364  English  0.000035      2011.0         6.6                 16000   \n246   English  0.000110      2004.0         7.5                     0   \n1909  English  0.000023      1996.0         6.7                  1000   \n934   English  0.000050      2000.0         6.6                     0   \n1046  English  0.000035      2008.0         7.3                     0   \n1457  English  0.000032      1995.0         6.4                     0   \n312   English  0.000100      2002.0         7.5                     0   \n608   English  0.000070      2008.0         7.1                     0   \n293   English  0.000100      2006.0         8.0                 14000   \n\n        profit  \n25    0.000459  \n94    0.000133  \n859   0.000112  \n283   0.000063  \n173   0.000049  \n431   0.000048  \n347   0.000042  \n49    0.000040  \n3025  0.000040  \n2484  0.000032  \n1336  0.000022  \n294   0.000017  \n1364  0.000002  \n246  -0.000007  \n1909 -0.000010  \n934  -0.000010  \n1046 -0.000012  \n1457 -0.000013  \n312  -0.000022  \n608  -0.000031  \n293  -0.000043  "
     },
     "execution_count": 49,
     "metadata": {},
     "output_type": "execute_result"
    }
   ],
   "source": [
    "Leo_Caprio"
   ]
  },
  {
   "cell_type": "code",
   "execution_count": 43,
   "metadata": {},
   "outputs": [],
   "source": [
    "Brad_Pitt = movies[movies['actor_1_name']=='Brad Pitt'] # Include all movies in which Brad_Pitt is the lead"
   ]
  },
  {
   "cell_type": "code",
   "execution_count": 55,
   "metadata": {},
   "outputs": [
    {
     "data": {
      "text/html": "<div>\n<style scoped>\n    .dataframe tbody tr th:only-of-type {\n        vertical-align: middle;\n    }\n\n    .dataframe tbody tr th {\n        vertical-align: top;\n    }\n\n    .dataframe thead th {\n        text-align: right;\n    }\n</style>\n<table border=\"1\" class=\"dataframe\">\n  <thead>\n    <tr style=\"text-align: right;\">\n      <th></th>\n      <th>director_name</th>\n      <th>num_critic_for_reviews</th>\n      <th>gross</th>\n      <th>genres</th>\n      <th>actor_1_name</th>\n      <th>movie_title</th>\n      <th>num_voted_users</th>\n      <th>num_user_for_reviews</th>\n      <th>language</th>\n      <th>budget</th>\n      <th>title_year</th>\n      <th>imdb_score</th>\n      <th>movie_facebook_likes</th>\n      <th>profit</th>\n    </tr>\n  </thead>\n  <tbody>\n    <tr>\n      <th>1322</th>\n      <td>David Frankel</td>\n      <td>208.0</td>\n      <td>1.247330e-04</td>\n      <td>Comedy|Drama|Romance</td>\n      <td>Meryl Streep</td>\n      <td>The Devil Wears Prada</td>\n      <td>286178</td>\n      <td>631.0</td>\n      <td>English</td>\n      <td>0.000035</td>\n      <td>2006.0</td>\n      <td>6.8</td>\n      <td>0</td>\n      <td>8.973296e-05</td>\n    </tr>\n    <tr>\n      <th>1471</th>\n      <td>Sydney Pollack</td>\n      <td>66.0</td>\n      <td>8.710000e-05</td>\n      <td>Biography|Drama|Romance</td>\n      <td>Meryl Streep</td>\n      <td>Out of Africa</td>\n      <td>52339</td>\n      <td>200.0</td>\n      <td>English</td>\n      <td>0.000031</td>\n      <td>1985.0</td>\n      <td>7.2</td>\n      <td>0</td>\n      <td>5.610000e-05</td>\n    </tr>\n    <tr>\n      <th>1132</th>\n      <td>Nora Ephron</td>\n      <td>252.0</td>\n      <td>9.412543e-05</td>\n      <td>Biography|Drama|Romance</td>\n      <td>Meryl Streep</td>\n      <td>Julie &amp; Julia</td>\n      <td>79264</td>\n      <td>277.0</td>\n      <td>English</td>\n      <td>0.000040</td>\n      <td>2009.0</td>\n      <td>7.0</td>\n      <td>13000</td>\n      <td>5.412543e-05</td>\n    </tr>\n    <tr>\n      <th>1514</th>\n      <td>David Frankel</td>\n      <td>234.0</td>\n      <td>6.353601e-05</td>\n      <td>Comedy|Drama|Romance</td>\n      <td>Meryl Streep</td>\n      <td>Hope Springs</td>\n      <td>34258</td>\n      <td>178.0</td>\n      <td>English</td>\n      <td>0.000030</td>\n      <td>2012.0</td>\n      <td>6.3</td>\n      <td>0</td>\n      <td>3.353601e-05</td>\n    </tr>\n    <tr>\n      <th>392</th>\n      <td>Nancy Meyers</td>\n      <td>187.0</td>\n      <td>1.127035e-04</td>\n      <td>Comedy|Drama|Romance</td>\n      <td>Meryl Streep</td>\n      <td>It's Complicated</td>\n      <td>69860</td>\n      <td>214.0</td>\n      <td>English</td>\n      <td>0.000085</td>\n      <td>2009.0</td>\n      <td>6.6</td>\n      <td>0</td>\n      <td>2.770347e-05</td>\n    </tr>\n    <tr>\n      <th>2500</th>\n      <td>Phyllida Lloyd</td>\n      <td>331.0</td>\n      <td>2.995944e-05</td>\n      <td>Biography|Drama|History</td>\n      <td>Meryl Streep</td>\n      <td>The Iron Lady</td>\n      <td>82327</td>\n      <td>350.0</td>\n      <td>English</td>\n      <td>0.000013</td>\n      <td>2011.0</td>\n      <td>6.4</td>\n      <td>18000</td>\n      <td>1.695944e-05</td>\n    </tr>\n    <tr>\n      <th>1784</th>\n      <td>Stephen Daldry</td>\n      <td>174.0</td>\n      <td>4.159783e-05</td>\n      <td>Drama|Romance</td>\n      <td>Meryl Streep</td>\n      <td>The Hours</td>\n      <td>102123</td>\n      <td>660.0</td>\n      <td>English</td>\n      <td>0.000025</td>\n      <td>2002.0</td>\n      <td>7.6</td>\n      <td>0</td>\n      <td>1.659783e-05</td>\n    </tr>\n    <tr>\n      <th>2793</th>\n      <td>Robert Altman</td>\n      <td>211.0</td>\n      <td>2.033861e-05</td>\n      <td>Comedy|Drama|Music</td>\n      <td>Meryl Streep</td>\n      <td>A Prairie Home Companion</td>\n      <td>19655</td>\n      <td>280.0</td>\n      <td>English</td>\n      <td>0.000010</td>\n      <td>2006.0</td>\n      <td>6.8</td>\n      <td>683</td>\n      <td>1.033861e-05</td>\n    </tr>\n    <tr>\n      <th>1038</th>\n      <td>Curtis Hanson</td>\n      <td>42.0</td>\n      <td>4.681575e-05</td>\n      <td>Action|Adventure|Crime|Thriller</td>\n      <td>Meryl Streep</td>\n      <td>The River Wild</td>\n      <td>32544</td>\n      <td>69.0</td>\n      <td>English</td>\n      <td>0.000045</td>\n      <td>1994.0</td>\n      <td>6.3</td>\n      <td>0</td>\n      <td>1.815748e-06</td>\n    </tr>\n    <tr>\n      <th>1563</th>\n      <td>Carl Franklin</td>\n      <td>64.0</td>\n      <td>2.320944e-05</td>\n      <td>Drama</td>\n      <td>Meryl Streep</td>\n      <td>One True Thing</td>\n      <td>9283</td>\n      <td>112.0</td>\n      <td>English</td>\n      <td>0.000030</td>\n      <td>1998.0</td>\n      <td>7.0</td>\n      <td>592</td>\n      <td>-6.790560e-06</td>\n    </tr>\n    <tr>\n      <th>1390</th>\n      <td>Robert Redford</td>\n      <td>227.0</td>\n      <td>1.499807e-05</td>\n      <td>Drama|Thriller|War</td>\n      <td>Meryl Streep</td>\n      <td>Lions for Lambs</td>\n      <td>41170</td>\n      <td>298.0</td>\n      <td>English</td>\n      <td>0.000035</td>\n      <td>2007.0</td>\n      <td>6.2</td>\n      <td>0</td>\n      <td>-2.000193e-05</td>\n    </tr>\n    <tr>\n      <th>25</th>\n      <td>James Cameron</td>\n      <td>315.0</td>\n      <td>6.586723e-04</td>\n      <td>Drama|Romance</td>\n      <td>Leonardo DiCaprio</td>\n      <td>Titanic</td>\n      <td>793059</td>\n      <td>2528.0</td>\n      <td>English</td>\n      <td>0.000200</td>\n      <td>1997.0</td>\n      <td>7.7</td>\n      <td>26000</td>\n      <td>4.586723e-04</td>\n    </tr>\n    <tr>\n      <th>94</th>\n      <td>Christopher Nolan</td>\n      <td>642.0</td>\n      <td>2.925689e-04</td>\n      <td>Action|Adventure|Sci-Fi|Thriller</td>\n      <td>Leonardo DiCaprio</td>\n      <td>Inception</td>\n      <td>1468200</td>\n      <td>2803.0</td>\n      <td>English</td>\n      <td>0.000160</td>\n      <td>2010.0</td>\n      <td>8.8</td>\n      <td>175000</td>\n      <td>1.325689e-04</td>\n    </tr>\n    <tr>\n      <th>859</th>\n      <td>Steven Spielberg</td>\n      <td>194.0</td>\n      <td>1.644352e-04</td>\n      <td>Biography|Crime|Drama</td>\n      <td>Leonardo DiCaprio</td>\n      <td>Catch Me If You Can</td>\n      <td>525801</td>\n      <td>667.0</td>\n      <td>English</td>\n      <td>0.000052</td>\n      <td>2002.0</td>\n      <td>8.0</td>\n      <td>15000</td>\n      <td>1.124352e-04</td>\n    </tr>\n    <tr>\n      <th>283</th>\n      <td>Quentin Tarantino</td>\n      <td>765.0</td>\n      <td>1.628046e-04</td>\n      <td>Drama|Western</td>\n      <td>Leonardo DiCaprio</td>\n      <td>Django Unchained</td>\n      <td>955174</td>\n      <td>1193.0</td>\n      <td>English</td>\n      <td>0.000100</td>\n      <td>2012.0</td>\n      <td>8.5</td>\n      <td>199000</td>\n      <td>6.280465e-05</td>\n    </tr>\n    <tr>\n      <th>173</th>\n      <td>Alejandro G. Iñárritu</td>\n      <td>556.0</td>\n      <td>1.836359e-04</td>\n      <td>Adventure|Drama|Thriller|Western</td>\n      <td>Leonardo DiCaprio</td>\n      <td>The Revenant</td>\n      <td>406020</td>\n      <td>1188.0</td>\n      <td>English</td>\n      <td>0.000135</td>\n      <td>2015.0</td>\n      <td>8.1</td>\n      <td>190000</td>\n      <td>4.863592e-05</td>\n    </tr>\n    <tr>\n      <th>431</th>\n      <td>Martin Scorsese</td>\n      <td>490.0</td>\n      <td>1.279684e-04</td>\n      <td>Mystery|Thriller</td>\n      <td>Leonardo DiCaprio</td>\n      <td>Shutter Island</td>\n      <td>786092</td>\n      <td>964.0</td>\n      <td>English</td>\n      <td>0.000080</td>\n      <td>2010.0</td>\n      <td>8.1</td>\n      <td>53000</td>\n      <td>4.796841e-05</td>\n    </tr>\n    <tr>\n      <th>347</th>\n      <td>Martin Scorsese</td>\n      <td>352.0</td>\n      <td>1.323734e-04</td>\n      <td>Crime|Drama|Thriller</td>\n      <td>Leonardo DiCaprio</td>\n      <td>The Departed</td>\n      <td>873649</td>\n      <td>2054.0</td>\n      <td>English</td>\n      <td>0.000090</td>\n      <td>2006.0</td>\n      <td>8.5</td>\n      <td>29000</td>\n      <td>4.237344e-05</td>\n    </tr>\n    <tr>\n      <th>49</th>\n      <td>Baz Luhrmann</td>\n      <td>490.0</td>\n      <td>1.448128e-04</td>\n      <td>Drama|Romance</td>\n      <td>Leonardo DiCaprio</td>\n      <td>The Great Gatsby</td>\n      <td>362912</td>\n      <td>753.0</td>\n      <td>English</td>\n      <td>0.000105</td>\n      <td>2013.0</td>\n      <td>7.3</td>\n      <td>115000</td>\n      <td>3.981280e-05</td>\n    </tr>\n    <tr>\n      <th>3025</th>\n      <td>Baz Luhrmann</td>\n      <td>490.0</td>\n      <td>1.448128e-04</td>\n      <td>Drama|Romance</td>\n      <td>Leonardo DiCaprio</td>\n      <td>The Great Gatsby</td>\n      <td>362933</td>\n      <td>753.0</td>\n      <td>English</td>\n      <td>0.000105</td>\n      <td>2013.0</td>\n      <td>7.3</td>\n      <td>115000</td>\n      <td>3.981280e-05</td>\n    </tr>\n    <tr>\n      <th>2484</th>\n      <td>Baz Luhrmann</td>\n      <td>106.0</td>\n      <td>4.633873e-05</td>\n      <td>Drama|Romance</td>\n      <td>Leonardo DiCaprio</td>\n      <td>Romeo + Juliet</td>\n      <td>167750</td>\n      <td>506.0</td>\n      <td>English</td>\n      <td>0.000015</td>\n      <td>1996.0</td>\n      <td>6.8</td>\n      <td>10000</td>\n      <td>3.183873e-05</td>\n    </tr>\n    <tr>\n      <th>1336</th>\n      <td>Randall Wallace</td>\n      <td>83.0</td>\n      <td>5.687637e-05</td>\n      <td>Action|Adventure</td>\n      <td>Leonardo DiCaprio</td>\n      <td>The Man in the Iron Mask</td>\n      <td>125219</td>\n      <td>244.0</td>\n      <td>English</td>\n      <td>0.000035</td>\n      <td>1998.0</td>\n      <td>6.4</td>\n      <td>0</td>\n      <td>2.187637e-05</td>\n    </tr>\n    <tr>\n      <th>294</th>\n      <td>Martin Scorsese</td>\n      <td>606.0</td>\n      <td>1.168667e-04</td>\n      <td>Biography|Comedy|Crime|Drama</td>\n      <td>Leonardo DiCaprio</td>\n      <td>The Wolf of Wall Street</td>\n      <td>780588</td>\n      <td>1138.0</td>\n      <td>English</td>\n      <td>0.000100</td>\n      <td>2013.0</td>\n      <td>8.2</td>\n      <td>138000</td>\n      <td>1.686673e-05</td>\n    </tr>\n    <tr>\n      <th>1364</th>\n      <td>Clint Eastwood</td>\n      <td>392.0</td>\n      <td>3.730495e-05</td>\n      <td>Biography|Crime|Drama</td>\n      <td>Leonardo DiCaprio</td>\n      <td>J. Edgar</td>\n      <td>102728</td>\n      <td>279.0</td>\n      <td>English</td>\n      <td>0.000035</td>\n      <td>2011.0</td>\n      <td>6.6</td>\n      <td>16000</td>\n      <td>2.304950e-06</td>\n    </tr>\n    <tr>\n      <th>246</th>\n      <td>Martin Scorsese</td>\n      <td>267.0</td>\n      <td>1.026088e-04</td>\n      <td>Biography|Drama</td>\n      <td>Leonardo DiCaprio</td>\n      <td>The Aviator</td>\n      <td>264318</td>\n      <td>799.0</td>\n      <td>English</td>\n      <td>0.000110</td>\n      <td>2004.0</td>\n      <td>7.5</td>\n      <td>0</td>\n      <td>-7.391173e-06</td>\n    </tr>\n    <tr>\n      <th>1909</th>\n      <td>Jerry Zaks</td>\n      <td>45.0</td>\n      <td>1.278251e-05</td>\n      <td>Drama</td>\n      <td>Leonardo DiCaprio</td>\n      <td>Marvin's Room</td>\n      <td>20163</td>\n      <td>71.0</td>\n      <td>English</td>\n      <td>0.000023</td>\n      <td>1996.0</td>\n      <td>6.7</td>\n      <td>1000</td>\n      <td>-1.021749e-05</td>\n    </tr>\n    <tr>\n      <th>934</th>\n      <td>Danny Boyle</td>\n      <td>118.0</td>\n      <td>3.977860e-05</td>\n      <td>Adventure|Drama|Thriller</td>\n      <td>Leonardo DiCaprio</td>\n      <td>The Beach</td>\n      <td>176169</td>\n      <td>548.0</td>\n      <td>English</td>\n      <td>0.000050</td>\n      <td>2000.0</td>\n      <td>6.6</td>\n      <td>0</td>\n      <td>-1.022140e-05</td>\n    </tr>\n    <tr>\n      <th>1046</th>\n      <td>Sam Mendes</td>\n      <td>323.0</td>\n      <td>2.287781e-05</td>\n      <td>Drama|Romance</td>\n      <td>Leonardo DiCaprio</td>\n      <td>Revolutionary Road</td>\n      <td>152591</td>\n      <td>414.0</td>\n      <td>English</td>\n      <td>0.000035</td>\n      <td>2008.0</td>\n      <td>7.3</td>\n      <td>0</td>\n      <td>-1.212219e-05</td>\n    </tr>\n    <tr>\n      <th>1457</th>\n      <td>Sam Raimi</td>\n      <td>63.0</td>\n      <td>1.863654e-05</td>\n      <td>Action|Thriller|Western</td>\n      <td>Leonardo DiCaprio</td>\n      <td>The Quick and the Dead</td>\n      <td>69197</td>\n      <td>216.0</td>\n      <td>English</td>\n      <td>0.000032</td>\n      <td>1995.0</td>\n      <td>6.4</td>\n      <td>0</td>\n      <td>-1.336346e-05</td>\n    </tr>\n    <tr>\n      <th>312</th>\n      <td>Martin Scorsese</td>\n      <td>233.0</td>\n      <td>7.767964e-05</td>\n      <td>Crime|Drama</td>\n      <td>Leonardo DiCaprio</td>\n      <td>Gangs of New York</td>\n      <td>314033</td>\n      <td>1166.0</td>\n      <td>English</td>\n      <td>0.000100</td>\n      <td>2002.0</td>\n      <td>7.5</td>\n      <td>0</td>\n      <td>-2.232036e-05</td>\n    </tr>\n    <tr>\n      <th>608</th>\n      <td>Ridley Scott</td>\n      <td>238.0</td>\n      <td>3.938044e-05</td>\n      <td>Action|Drama|Thriller</td>\n      <td>Leonardo DiCaprio</td>\n      <td>Body of Lies</td>\n      <td>174248</td>\n      <td>263.0</td>\n      <td>English</td>\n      <td>0.000070</td>\n      <td>2008.0</td>\n      <td>7.1</td>\n      <td>0</td>\n      <td>-3.061956e-05</td>\n    </tr>\n    <tr>\n      <th>293</th>\n      <td>Edward Zwick</td>\n      <td>166.0</td>\n      <td>5.736626e-05</td>\n      <td>Adventure|Drama|Thriller</td>\n      <td>Leonardo DiCaprio</td>\n      <td>Blood Diamond</td>\n      <td>400292</td>\n      <td>657.0</td>\n      <td>English</td>\n      <td>0.000100</td>\n      <td>2006.0</td>\n      <td>8.0</td>\n      <td>14000</td>\n      <td>-4.263374e-05</td>\n    </tr>\n    <tr>\n      <th>383</th>\n      <td>Steven Soderbergh</td>\n      <td>186.0</td>\n      <td>1.834058e-04</td>\n      <td>Crime|Thriller</td>\n      <td>Brad Pitt</td>\n      <td>Ocean's Eleven</td>\n      <td>402645</td>\n      <td>845.0</td>\n      <td>English</td>\n      <td>0.000085</td>\n      <td>2001.0</td>\n      <td>7.8</td>\n      <td>0</td>\n      <td>9.840577e-05</td>\n    </tr>\n    <tr>\n      <th>244</th>\n      <td>Doug Liman</td>\n      <td>233.0</td>\n      <td>1.863361e-04</td>\n      <td>Action|Comedy|Crime|Romance|Thriller</td>\n      <td>Brad Pitt</td>\n      <td>Mr. &amp; Mrs. Smith</td>\n      <td>348861</td>\n      <td>798.0</td>\n      <td>English</td>\n      <td>0.000120</td>\n      <td>2005.0</td>\n      <td>6.5</td>\n      <td>0</td>\n      <td>6.633610e-05</td>\n    </tr>\n    <tr>\n      <th>887</th>\n      <td>Neil Jordan</td>\n      <td>120.0</td>\n      <td>1.052646e-04</td>\n      <td>Drama|Fantasy|Horror</td>\n      <td>Brad Pitt</td>\n      <td>Interview with the Vampire: The Vampire Chroni...</td>\n      <td>239752</td>\n      <td>406.0</td>\n      <td>English</td>\n      <td>0.000060</td>\n      <td>1994.0</td>\n      <td>7.6</td>\n      <td>11000</td>\n      <td>4.526461e-05</td>\n    </tr>\n    <tr>\n      <th>448</th>\n      <td>David Ayer</td>\n      <td>406.0</td>\n      <td>8.570712e-05</td>\n      <td>Action|Drama|War</td>\n      <td>Brad Pitt</td>\n      <td>Fury</td>\n      <td>303185</td>\n      <td>701.0</td>\n      <td>English</td>\n      <td>0.000068</td>\n      <td>2014.0</td>\n      <td>7.6</td>\n      <td>82000</td>\n      <td>1.770712e-05</td>\n    </tr>\n    <tr>\n      <th>243</th>\n      <td>Steven Soderbergh</td>\n      <td>198.0</td>\n      <td>1.255316e-04</td>\n      <td>Crime|Thriller</td>\n      <td>Brad Pitt</td>\n      <td>Ocean's Twelve</td>\n      <td>284852</td>\n      <td>627.0</td>\n      <td>English</td>\n      <td>0.000110</td>\n      <td>2004.0</td>\n      <td>6.4</td>\n      <td>0</td>\n      <td>1.553163e-05</td>\n    </tr>\n    <tr>\n      <th>2030</th>\n      <td>Alejandro G. Iñárritu</td>\n      <td>285.0</td>\n      <td>3.430077e-05</td>\n      <td>Drama</td>\n      <td>Brad Pitt</td>\n      <td>Babel</td>\n      <td>243799</td>\n      <td>908.0</td>\n      <td>English</td>\n      <td>0.000025</td>\n      <td>2006.0</td>\n      <td>7.5</td>\n      <td>0</td>\n      <td>9.300771e-06</td>\n    </tr>\n    <tr>\n      <th>2428</th>\n      <td>Andrew Dominik</td>\n      <td>414.0</td>\n      <td>1.493857e-05</td>\n      <td>Crime|Thriller</td>\n      <td>Brad Pitt</td>\n      <td>Killing Them Softly</td>\n      <td>111625</td>\n      <td>369.0</td>\n      <td>English</td>\n      <td>0.000015</td>\n      <td>2012.0</td>\n      <td>6.2</td>\n      <td>20000</td>\n      <td>-6.143000e-08</td>\n    </tr>\n    <tr>\n      <th>2602</th>\n      <td>Tony Scott</td>\n      <td>122.0</td>\n      <td>1.228150e-05</td>\n      <td>Action|Crime|Drama|Romance|Thriller</td>\n      <td>Brad Pitt</td>\n      <td>True Romance</td>\n      <td>163492</td>\n      <td>460.0</td>\n      <td>English</td>\n      <td>0.000013</td>\n      <td>1993.0</td>\n      <td>8.0</td>\n      <td>15000</td>\n      <td>-7.185000e-07</td>\n    </tr>\n    <tr>\n      <th>2146</th>\n      <td>Angelina Jolie Pitt</td>\n      <td>131.0</td>\n      <td>5.310090e-07</td>\n      <td>Drama|Romance</td>\n      <td>Brad Pitt</td>\n      <td>By the Sea</td>\n      <td>7976</td>\n      <td>61.0</td>\n      <td>English</td>\n      <td>0.000010</td>\n      <td>2015.0</td>\n      <td>5.3</td>\n      <td>0</td>\n      <td>-9.468991e-06</td>\n    </tr>\n    <tr>\n      <th>1397</th>\n      <td>Terrence Malick</td>\n      <td>584.0</td>\n      <td>1.330332e-05</td>\n      <td>Drama|Fantasy</td>\n      <td>Brad Pitt</td>\n      <td>The Tree of Life</td>\n      <td>136367</td>\n      <td>975.0</td>\n      <td>English</td>\n      <td>0.000032</td>\n      <td>2011.0</td>\n      <td>6.7</td>\n      <td>39000</td>\n      <td>-1.869668e-05</td>\n    </tr>\n    <tr>\n      <th>97</th>\n      <td>David Fincher</td>\n      <td>362.0</td>\n      <td>1.274908e-04</td>\n      <td>Drama|Fantasy|Romance</td>\n      <td>Brad Pitt</td>\n      <td>The Curious Case of Benjamin Button</td>\n      <td>459346</td>\n      <td>822.0</td>\n      <td>English</td>\n      <td>0.000150</td>\n      <td>2008.0</td>\n      <td>7.8</td>\n      <td>23000</td>\n      <td>-2.250920e-05</td>\n    </tr>\n    <tr>\n      <th>646</th>\n      <td>David Fincher</td>\n      <td>315.0</td>\n      <td>3.702340e-05</td>\n      <td>Drama</td>\n      <td>Brad Pitt</td>\n      <td>Fight Club</td>\n      <td>1347461</td>\n      <td>2968.0</td>\n      <td>English</td>\n      <td>0.000063</td>\n      <td>1999.0</td>\n      <td>8.8</td>\n      <td>48000</td>\n      <td>-2.597660e-05</td>\n    </tr>\n    <tr>\n      <th>1608</th>\n      <td>Andrew Dominik</td>\n      <td>273.0</td>\n      <td>3.904982e-06</td>\n      <td>Biography|Crime|Drama|History|Western</td>\n      <td>Brad Pitt</td>\n      <td>The Assassination of Jesse James by the Coward...</td>\n      <td>136104</td>\n      <td>415.0</td>\n      <td>English</td>\n      <td>0.000030</td>\n      <td>2007.0</td>\n      <td>7.5</td>\n      <td>0</td>\n      <td>-2.609502e-05</td>\n    </tr>\n    <tr>\n      <th>579</th>\n      <td>Jean-Jacques Annaud</td>\n      <td>76.0</td>\n      <td>3.790151e-05</td>\n      <td>Adventure|Biography|Drama|History|War</td>\n      <td>Brad Pitt</td>\n      <td>Seven Years in Tibet</td>\n      <td>96385</td>\n      <td>119.0</td>\n      <td>English</td>\n      <td>0.000070</td>\n      <td>1997.0</td>\n      <td>7.0</td>\n      <td>0</td>\n      <td>-3.209849e-05</td>\n    </tr>\n    <tr>\n      <th>749</th>\n      <td>Patrick Gilmore</td>\n      <td>98.0</td>\n      <td>2.628832e-05</td>\n      <td>Adventure|Animation|Comedy|Drama|Family|Fantas...</td>\n      <td>Brad Pitt</td>\n      <td>Sinbad: Legend of the Seven Seas</td>\n      <td>36144</td>\n      <td>91.0</td>\n      <td>English</td>\n      <td>0.000060</td>\n      <td>2003.0</td>\n      <td>6.7</td>\n      <td>880</td>\n      <td>-3.371168e-05</td>\n    </tr>\n    <tr>\n      <th>142</th>\n      <td>Wolfgang Petersen</td>\n      <td>220.0</td>\n      <td>1.332283e-04</td>\n      <td>Adventure</td>\n      <td>Brad Pitt</td>\n      <td>Troy</td>\n      <td>381672</td>\n      <td>1694.0</td>\n      <td>English</td>\n      <td>0.000175</td>\n      <td>2004.0</td>\n      <td>7.2</td>\n      <td>0</td>\n      <td>-4.177165e-05</td>\n    </tr>\n    <tr>\n      <th>367</th>\n      <td>Tony Scott</td>\n      <td>142.0</td>\n      <td>2.687100e-08</td>\n      <td>Action|Crime|Thriller</td>\n      <td>Brad Pitt</td>\n      <td>Spy Game</td>\n      <td>121259</td>\n      <td>361.0</td>\n      <td>English</td>\n      <td>0.000092</td>\n      <td>2001.0</td>\n      <td>7.0</td>\n      <td>0</td>\n      <td>-9.197313e-05</td>\n    </tr>\n  </tbody>\n</table>\n</div>",
      "text/plain": "              director_name  num_critic_for_reviews         gross  \\\n1322          David Frankel                   208.0  1.247330e-04   \n1471         Sydney Pollack                    66.0  8.710000e-05   \n1132            Nora Ephron                   252.0  9.412543e-05   \n1514          David Frankel                   234.0  6.353601e-05   \n392            Nancy Meyers                   187.0  1.127035e-04   \n2500         Phyllida Lloyd                   331.0  2.995944e-05   \n1784         Stephen Daldry                   174.0  4.159783e-05   \n2793          Robert Altman                   211.0  2.033861e-05   \n1038          Curtis Hanson                    42.0  4.681575e-05   \n1563          Carl Franklin                    64.0  2.320944e-05   \n1390         Robert Redford                   227.0  1.499807e-05   \n25            James Cameron                   315.0  6.586723e-04   \n94        Christopher Nolan                   642.0  2.925689e-04   \n859        Steven Spielberg                   194.0  1.644352e-04   \n283       Quentin Tarantino                   765.0  1.628046e-04   \n173   Alejandro G. Iñárritu                   556.0  1.836359e-04   \n431         Martin Scorsese                   490.0  1.279684e-04   \n347         Martin Scorsese                   352.0  1.323734e-04   \n49             Baz Luhrmann                   490.0  1.448128e-04   \n3025           Baz Luhrmann                   490.0  1.448128e-04   \n2484           Baz Luhrmann                   106.0  4.633873e-05   \n1336        Randall Wallace                    83.0  5.687637e-05   \n294         Martin Scorsese                   606.0  1.168667e-04   \n1364         Clint Eastwood                   392.0  3.730495e-05   \n246         Martin Scorsese                   267.0  1.026088e-04   \n1909             Jerry Zaks                    45.0  1.278251e-05   \n934             Danny Boyle                   118.0  3.977860e-05   \n1046             Sam Mendes                   323.0  2.287781e-05   \n1457              Sam Raimi                    63.0  1.863654e-05   \n312         Martin Scorsese                   233.0  7.767964e-05   \n608            Ridley Scott                   238.0  3.938044e-05   \n293            Edward Zwick                   166.0  5.736626e-05   \n383       Steven Soderbergh                   186.0  1.834058e-04   \n244              Doug Liman                   233.0  1.863361e-04   \n887             Neil Jordan                   120.0  1.052646e-04   \n448              David Ayer                   406.0  8.570712e-05   \n243       Steven Soderbergh                   198.0  1.255316e-04   \n2030  Alejandro G. Iñárritu                   285.0  3.430077e-05   \n2428         Andrew Dominik                   414.0  1.493857e-05   \n2602             Tony Scott                   122.0  1.228150e-05   \n2146    Angelina Jolie Pitt                   131.0  5.310090e-07   \n1397        Terrence Malick                   584.0  1.330332e-05   \n97            David Fincher                   362.0  1.274908e-04   \n646           David Fincher                   315.0  3.702340e-05   \n1608         Andrew Dominik                   273.0  3.904982e-06   \n579     Jean-Jacques Annaud                    76.0  3.790151e-05   \n749         Patrick Gilmore                    98.0  2.628832e-05   \n142       Wolfgang Petersen                   220.0  1.332283e-04   \n367              Tony Scott                   142.0  2.687100e-08   \n\n                                                 genres       actor_1_name  \\\n1322                               Comedy|Drama|Romance       Meryl Streep   \n1471                            Biography|Drama|Romance       Meryl Streep   \n1132                            Biography|Drama|Romance       Meryl Streep   \n1514                               Comedy|Drama|Romance       Meryl Streep   \n392                                Comedy|Drama|Romance       Meryl Streep   \n2500                            Biography|Drama|History       Meryl Streep   \n1784                                      Drama|Romance       Meryl Streep   \n2793                                 Comedy|Drama|Music       Meryl Streep   \n1038                    Action|Adventure|Crime|Thriller       Meryl Streep   \n1563                                              Drama       Meryl Streep   \n1390                                 Drama|Thriller|War       Meryl Streep   \n25                                        Drama|Romance  Leonardo DiCaprio   \n94                     Action|Adventure|Sci-Fi|Thriller  Leonardo DiCaprio   \n859                               Biography|Crime|Drama  Leonardo DiCaprio   \n283                                       Drama|Western  Leonardo DiCaprio   \n173                    Adventure|Drama|Thriller|Western  Leonardo DiCaprio   \n431                                    Mystery|Thriller  Leonardo DiCaprio   \n347                                Crime|Drama|Thriller  Leonardo DiCaprio   \n49                                        Drama|Romance  Leonardo DiCaprio   \n3025                                      Drama|Romance  Leonardo DiCaprio   \n2484                                      Drama|Romance  Leonardo DiCaprio   \n1336                                   Action|Adventure  Leonardo DiCaprio   \n294                        Biography|Comedy|Crime|Drama  Leonardo DiCaprio   \n1364                              Biography|Crime|Drama  Leonardo DiCaprio   \n246                                     Biography|Drama  Leonardo DiCaprio   \n1909                                              Drama  Leonardo DiCaprio   \n934                            Adventure|Drama|Thriller  Leonardo DiCaprio   \n1046                                      Drama|Romance  Leonardo DiCaprio   \n1457                            Action|Thriller|Western  Leonardo DiCaprio   \n312                                         Crime|Drama  Leonardo DiCaprio   \n608                               Action|Drama|Thriller  Leonardo DiCaprio   \n293                            Adventure|Drama|Thriller  Leonardo DiCaprio   \n383                                      Crime|Thriller          Brad Pitt   \n244                Action|Comedy|Crime|Romance|Thriller          Brad Pitt   \n887                                Drama|Fantasy|Horror          Brad Pitt   \n448                                    Action|Drama|War          Brad Pitt   \n243                                      Crime|Thriller          Brad Pitt   \n2030                                              Drama          Brad Pitt   \n2428                                     Crime|Thriller          Brad Pitt   \n2602                Action|Crime|Drama|Romance|Thriller          Brad Pitt   \n2146                                      Drama|Romance          Brad Pitt   \n1397                                      Drama|Fantasy          Brad Pitt   \n97                                Drama|Fantasy|Romance          Brad Pitt   \n646                                               Drama          Brad Pitt   \n1608              Biography|Crime|Drama|History|Western          Brad Pitt   \n579               Adventure|Biography|Drama|History|War          Brad Pitt   \n749   Adventure|Animation|Comedy|Drama|Family|Fantas...          Brad Pitt   \n142                                           Adventure          Brad Pitt   \n367                               Action|Crime|Thriller          Brad Pitt   \n\n                                            movie_title  num_voted_users  \\\n1322                             The Devil Wears Prada            286178   \n1471                                     Out of Africa             52339   \n1132                                     Julie & Julia             79264   \n1514                                      Hope Springs             34258   \n392                                   It's Complicated             69860   \n2500                                     The Iron Lady             82327   \n1784                                         The Hours            102123   \n2793                          A Prairie Home Companion             19655   \n1038                                    The River Wild             32544   \n1563                                    One True Thing              9283   \n1390                                   Lions for Lambs             41170   \n25                                             Titanic            793059   \n94                                           Inception           1468200   \n859                                Catch Me If You Can            525801   \n283                                   Django Unchained            955174   \n173                                       The Revenant            406020   \n431                                     Shutter Island            786092   \n347                                       The Departed            873649   \n49                                    The Great Gatsby            362912   \n3025                                  The Great Gatsby            362933   \n2484                                    Romeo + Juliet            167750   \n1336                          The Man in the Iron Mask            125219   \n294                            The Wolf of Wall Street            780588   \n1364                                          J. Edgar            102728   \n246                                        The Aviator            264318   \n1909                                     Marvin's Room             20163   \n934                                          The Beach            176169   \n1046                                Revolutionary Road            152591   \n1457                            The Quick and the Dead             69197   \n312                                  Gangs of New York            314033   \n608                                       Body of Lies            174248   \n293                                      Blood Diamond            400292   \n383                                     Ocean's Eleven            402645   \n244                                   Mr. & Mrs. Smith            348861   \n887   Interview with the Vampire: The Vampire Chroni...           239752   \n448                                               Fury            303185   \n243                                     Ocean's Twelve            284852   \n2030                                             Babel            243799   \n2428                               Killing Them Softly            111625   \n2602                                      True Romance            163492   \n2146                                        By the Sea              7976   \n1397                                  The Tree of Life            136367   \n97                 The Curious Case of Benjamin Button            459346   \n646                                         Fight Club           1347461   \n1608  The Assassination of Jesse James by the Coward...           136104   \n579                               Seven Years in Tibet             96385   \n749                   Sinbad: Legend of the Seven Seas             36144   \n142                                               Troy            381672   \n367                                           Spy Game            121259   \n\n      num_user_for_reviews language    budget  title_year  imdb_score  \\\n1322                 631.0  English  0.000035      2006.0         6.8   \n1471                 200.0  English  0.000031      1985.0         7.2   \n1132                 277.0  English  0.000040      2009.0         7.0   \n1514                 178.0  English  0.000030      2012.0         6.3   \n392                  214.0  English  0.000085      2009.0         6.6   \n2500                 350.0  English  0.000013      2011.0         6.4   \n1784                 660.0  English  0.000025      2002.0         7.6   \n2793                 280.0  English  0.000010      2006.0         6.8   \n1038                  69.0  English  0.000045      1994.0         6.3   \n1563                 112.0  English  0.000030      1998.0         7.0   \n1390                 298.0  English  0.000035      2007.0         6.2   \n25                  2528.0  English  0.000200      1997.0         7.7   \n94                  2803.0  English  0.000160      2010.0         8.8   \n859                  667.0  English  0.000052      2002.0         8.0   \n283                 1193.0  English  0.000100      2012.0         8.5   \n173                 1188.0  English  0.000135      2015.0         8.1   \n431                  964.0  English  0.000080      2010.0         8.1   \n347                 2054.0  English  0.000090      2006.0         8.5   \n49                   753.0  English  0.000105      2013.0         7.3   \n3025                 753.0  English  0.000105      2013.0         7.3   \n2484                 506.0  English  0.000015      1996.0         6.8   \n1336                 244.0  English  0.000035      1998.0         6.4   \n294                 1138.0  English  0.000100      2013.0         8.2   \n1364                 279.0  English  0.000035      2011.0         6.6   \n246                  799.0  English  0.000110      2004.0         7.5   \n1909                  71.0  English  0.000023      1996.0         6.7   \n934                  548.0  English  0.000050      2000.0         6.6   \n1046                 414.0  English  0.000035      2008.0         7.3   \n1457                 216.0  English  0.000032      1995.0         6.4   \n312                 1166.0  English  0.000100      2002.0         7.5   \n608                  263.0  English  0.000070      2008.0         7.1   \n293                  657.0  English  0.000100      2006.0         8.0   \n383                  845.0  English  0.000085      2001.0         7.8   \n244                  798.0  English  0.000120      2005.0         6.5   \n887                  406.0  English  0.000060      1994.0         7.6   \n448                  701.0  English  0.000068      2014.0         7.6   \n243                  627.0  English  0.000110      2004.0         6.4   \n2030                 908.0  English  0.000025      2006.0         7.5   \n2428                 369.0  English  0.000015      2012.0         6.2   \n2602                 460.0  English  0.000013      1993.0         8.0   \n2146                  61.0  English  0.000010      2015.0         5.3   \n1397                 975.0  English  0.000032      2011.0         6.7   \n97                   822.0  English  0.000150      2008.0         7.8   \n646                 2968.0  English  0.000063      1999.0         8.8   \n1608                 415.0  English  0.000030      2007.0         7.5   \n579                  119.0  English  0.000070      1997.0         7.0   \n749                   91.0  English  0.000060      2003.0         6.7   \n142                 1694.0  English  0.000175      2004.0         7.2   \n367                  361.0  English  0.000092      2001.0         7.0   \n\n      movie_facebook_likes        profit  \n1322                     0  8.973296e-05  \n1471                     0  5.610000e-05  \n1132                 13000  5.412543e-05  \n1514                     0  3.353601e-05  \n392                      0  2.770347e-05  \n2500                 18000  1.695944e-05  \n1784                     0  1.659783e-05  \n2793                   683  1.033861e-05  \n1038                     0  1.815748e-06  \n1563                   592 -6.790560e-06  \n1390                     0 -2.000193e-05  \n25                   26000  4.586723e-04  \n94                  175000  1.325689e-04  \n859                  15000  1.124352e-04  \n283                 199000  6.280465e-05  \n173                 190000  4.863592e-05  \n431                  53000  4.796841e-05  \n347                  29000  4.237344e-05  \n49                  115000  3.981280e-05  \n3025                115000  3.981280e-05  \n2484                 10000  3.183873e-05  \n1336                     0  2.187637e-05  \n294                 138000  1.686673e-05  \n1364                 16000  2.304950e-06  \n246                      0 -7.391173e-06  \n1909                  1000 -1.021749e-05  \n934                      0 -1.022140e-05  \n1046                     0 -1.212219e-05  \n1457                     0 -1.336346e-05  \n312                      0 -2.232036e-05  \n608                      0 -3.061956e-05  \n293                  14000 -4.263374e-05  \n383                      0  9.840577e-05  \n244                      0  6.633610e-05  \n887                  11000  4.526461e-05  \n448                  82000  1.770712e-05  \n243                      0  1.553163e-05  \n2030                     0  9.300771e-06  \n2428                 20000 -6.143000e-08  \n2602                 15000 -7.185000e-07  \n2146                     0 -9.468991e-06  \n1397                 39000 -1.869668e-05  \n97                   23000 -2.250920e-05  \n646                  48000 -2.597660e-05  \n1608                     0 -2.609502e-05  \n579                      0 -3.209849e-05  \n749                    880 -3.371168e-05  \n142                      0 -4.177165e-05  \n367                      0 -9.197313e-05  "
     },
     "execution_count": 55,
     "metadata": {},
     "output_type": "execute_result"
    }
   ],
   "source": [
    "# Write your code for combining the three dataframes here\n",
    "Combined = pd.concat([Meryl_Streep, Leo_Caprio, Brad_Pitt])\n",
    "Combined"
   ]
  },
  {
   "cell_type": "code",
   "execution_count": 57,
   "metadata": {},
   "outputs": [
    {
     "name": "stderr",
     "output_type": "stream",
     "text": [
      "ipykernel_launcher:2: FutureWarning: Indexing with multiple keys (implicitly converted to a tuple of keys) will be deprecated, use a list instead.\n"
     ]
    },
    {
     "data": {
      "text/html": "<div>\n<style scoped>\n    .dataframe tbody tr th:only-of-type {\n        vertical-align: middle;\n    }\n\n    .dataframe tbody tr th {\n        vertical-align: top;\n    }\n\n    .dataframe thead th {\n        text-align: right;\n    }\n</style>\n<table border=\"1\" class=\"dataframe\">\n  <thead>\n    <tr style=\"text-align: right;\">\n      <th></th>\n      <th>num_critic_for_reviews</th>\n      <th>num_user_for_reviews</th>\n    </tr>\n    <tr>\n      <th>actor_1_name</th>\n      <th></th>\n      <th></th>\n    </tr>\n  </thead>\n  <tbody>\n    <tr>\n      <th>Leonardo DiCaprio</th>\n      <td>330.190476</td>\n      <td>914.476190</td>\n    </tr>\n    <tr>\n      <th>Brad Pitt</th>\n      <td>245.000000</td>\n      <td>742.352941</td>\n    </tr>\n    <tr>\n      <th>Meryl Streep</th>\n      <td>181.454545</td>\n      <td>297.181818</td>\n    </tr>\n  </tbody>\n</table>\n</div>",
      "text/plain": "                   num_critic_for_reviews  num_user_for_reviews\nactor_1_name                                                   \nLeonardo DiCaprio              330.190476            914.476190\nBrad Pitt                      245.000000            742.352941\nMeryl Streep                   181.454545            297.181818"
     },
     "execution_count": 57,
     "metadata": {},
     "output_type": "execute_result"
    }
   ],
   "source": [
    "# Write your code for grouping the combined dataframe here\n",
    "Combined = Combined.groupby(\"actor_1_name\")['num_critic_for_reviews', 'num_user_for_reviews'].mean()\n",
    "Combined.sort_values(by='num_user_for_reviews', ascending=False)"
   ]
  },
  {
   "cell_type": "code",
   "execution_count": 58,
   "metadata": {},
   "outputs": [
    {
     "data": {
      "text/html": "<div>\n<style scoped>\n    .dataframe tbody tr th:only-of-type {\n        vertical-align: middle;\n    }\n\n    .dataframe tbody tr th {\n        vertical-align: top;\n    }\n\n    .dataframe thead th {\n        text-align: right;\n    }\n</style>\n<table border=\"1\" class=\"dataframe\">\n  <thead>\n    <tr style=\"text-align: right;\">\n      <th></th>\n      <th>num_critic_for_reviews</th>\n      <th>num_user_for_reviews</th>\n    </tr>\n    <tr>\n      <th>actor_1_name</th>\n      <th></th>\n      <th></th>\n    </tr>\n  </thead>\n  <tbody>\n    <tr>\n      <th>Leonardo DiCaprio</th>\n      <td>330.190476</td>\n      <td>914.476190</td>\n    </tr>\n    <tr>\n      <th>Brad Pitt</th>\n      <td>245.000000</td>\n      <td>742.352941</td>\n    </tr>\n    <tr>\n      <th>Meryl Streep</th>\n      <td>181.454545</td>\n      <td>297.181818</td>\n    </tr>\n  </tbody>\n</table>\n</div>",
      "text/plain": "                   num_critic_for_reviews  num_user_for_reviews\nactor_1_name                                                   \nLeonardo DiCaprio              330.190476            914.476190\nBrad Pitt                      245.000000            742.352941\nMeryl Streep                   181.454545            297.181818"
     },
     "execution_count": 58,
     "metadata": {},
     "output_type": "execute_result"
    }
   ],
   "source": [
    "# Write the code for finding the mean of critic reviews and audience reviews here\n",
    "Combined.sort_values(by='num_critic_for_reviews', ascending=False)"
   ]
  },
  {
   "cell_type": "markdown",
   "metadata": {},
   "source": [
    "#### <font color='red'>Question 8: Which actor is highest rated among the three actors according to the user reviews? </font>\n",
    "-  <font color='red'>Meryl Streep</font>\n",
    "-  <font color='red'>Leonardo DiCaprio</font>\n",
    "-  <font color='red'>Brad Pitt</font>"
   ]
  },
  {
   "cell_type": "markdown",
   "metadata": {},
   "source": [
    "#### <font color='red'>Question 9: Which actor is highest rated among the three actors according to the critics?</font>\n",
    "-  <font color='red'>Meryl Streep</font>\n",
    "-  <font color='red'>Leonardo DiCaprio</font>\n",
    "-  <font color='red'>Brad Pitt</font>"
   ]
  },
  {
   "cell_type": "code",
   "execution_count": 62,
   "metadata": {},
   "outputs": [],
   "source": [
    "df = movies"
   ]
  },
  {
   "cell_type": "code",
   "execution_count": null,
   "metadata": {},
   "outputs": [],
   "source": [
    "df.drop(columns=[])"
   ]
  }
 ],
 "metadata": {
  "kernelspec": {
   "display_name": "Python 3.7.9 64-bit ('venv': venv)",
   "name": "python379jvsc74a57bd0cf247013399a202eae5e7608e2ade166a9852d41f1f09169f1cf85c9062346fa"
  },
  "language_info": {
   "codemirror_mode": {
    "name": "ipython",
    "version": 3
   },
   "file_extension": ".py",
   "mimetype": "text/x-python",
   "name": "python",
   "nbconvert_exporter": "python",
   "pygments_lexer": "ipython3",
   "version": "3.7.9"
  },
  "orig_nbformat": 3
 },
 "nbformat": 4,
 "nbformat_minor": 2
}