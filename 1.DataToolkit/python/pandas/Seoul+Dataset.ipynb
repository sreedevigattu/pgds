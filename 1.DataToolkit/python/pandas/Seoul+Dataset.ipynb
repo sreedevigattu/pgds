{
 "cells": [
  {
   "cell_type": "markdown",
   "metadata": {},
   "source": [
    "#### Question\n",
    "\n",
    "The air quality data for this segment has been divided into three different csv files. \n",
    "\n",
    "- `info.csv` has the data hour by hour data about the concentration of polutants in the air and the status of the intruments. \n",
    "- `item_info` has the data for items and levels of concetration. \n",
    "- `station_info` has the data for measuring stations. \n",
    "\n",
    "Read in all the three datasets and then print the first five rows.\n",
    "\n",
    "You can download the dataset from kaggle website: https://www.kaggle.com/bappekim/air-pollution-in-seoul"
   ]
  },
  {
   "cell_type": "code",
   "execution_count": 1,
   "metadata": {},
   "outputs": [],
   "source": [
    "import pandas as pd"
   ]
  },
  {
   "cell_type": "code",
   "execution_count": 2,
   "metadata": {},
   "outputs": [
    {
     "data": {
      "text/html": "<div>\n<style scoped>\n    .dataframe tbody tr th:only-of-type {\n        vertical-align: middle;\n    }\n\n    .dataframe tbody tr th {\n        vertical-align: top;\n    }\n\n    .dataframe thead th {\n        text-align: right;\n    }\n</style>\n<table border=\"1\" class=\"dataframe\">\n  <thead>\n    <tr style=\"text-align: right;\">\n      <th></th>\n      <th>Measurement date</th>\n      <th>Station code</th>\n      <th>Item code</th>\n      <th>Average value</th>\n      <th>Instrument status</th>\n    </tr>\n  </thead>\n  <tbody>\n    <tr>\n      <th>0</th>\n      <td>2017-01-01 00:00</td>\n      <td>101</td>\n      <td>1</td>\n      <td>0.004</td>\n      <td>0</td>\n    </tr>\n    <tr>\n      <th>1</th>\n      <td>2017-01-01 00:00</td>\n      <td>101</td>\n      <td>3</td>\n      <td>0.059</td>\n      <td>0</td>\n    </tr>\n    <tr>\n      <th>2</th>\n      <td>2017-01-01 00:00</td>\n      <td>101</td>\n      <td>5</td>\n      <td>1.200</td>\n      <td>0</td>\n    </tr>\n    <tr>\n      <th>3</th>\n      <td>2017-01-01 00:00</td>\n      <td>101</td>\n      <td>6</td>\n      <td>0.002</td>\n      <td>0</td>\n    </tr>\n    <tr>\n      <th>4</th>\n      <td>2017-01-01 00:00</td>\n      <td>101</td>\n      <td>8</td>\n      <td>73.000</td>\n      <td>0</td>\n    </tr>\n  </tbody>\n</table>\n</div>",
      "text/plain": "   Measurement date  Station code  Item code  Average value  Instrument status\n0  2017-01-01 00:00           101          1          0.004                  0\n1  2017-01-01 00:00           101          3          0.059                  0\n2  2017-01-01 00:00           101          5          1.200                  0\n3  2017-01-01 00:00           101          6          0.002                  0\n4  2017-01-01 00:00           101          8         73.000                  0"
     },
     "execution_count": 2,
     "metadata": {},
     "output_type": "execute_result"
    }
   ],
   "source": [
    "data = pd.read_csv(\"./Data/Measurement_info.csv\", nrows=200)\n",
    "data.head()"
   ]
  },
  {
   "cell_type": "code",
   "execution_count": 3,
   "metadata": {},
   "outputs": [
    {
     "data": {
      "text/html": "<div>\n<style scoped>\n    .dataframe tbody tr th:only-of-type {\n        vertical-align: middle;\n    }\n\n    .dataframe tbody tr th {\n        vertical-align: top;\n    }\n\n    .dataframe thead th {\n        text-align: right;\n    }\n</style>\n<table border=\"1\" class=\"dataframe\">\n  <thead>\n    <tr style=\"text-align: right;\">\n      <th></th>\n      <th>Item code</th>\n      <th>Item name</th>\n      <th>Unit of measurement</th>\n      <th>Good(Blue)</th>\n      <th>Normal(Green)</th>\n      <th>Bad(Yellow)</th>\n      <th>Very bad(Red)</th>\n    </tr>\n  </thead>\n  <tbody>\n    <tr>\n      <th>0</th>\n      <td>1</td>\n      <td>SO2</td>\n      <td>ppm</td>\n      <td>0.02</td>\n      <td>0.05</td>\n      <td>0.15</td>\n      <td>1.0</td>\n    </tr>\n    <tr>\n      <th>1</th>\n      <td>3</td>\n      <td>NO2</td>\n      <td>ppm</td>\n      <td>0.03</td>\n      <td>0.06</td>\n      <td>0.20</td>\n      <td>2.0</td>\n    </tr>\n    <tr>\n      <th>2</th>\n      <td>5</td>\n      <td>CO</td>\n      <td>ppm</td>\n      <td>2.00</td>\n      <td>9.00</td>\n      <td>15.00</td>\n      <td>50.0</td>\n    </tr>\n    <tr>\n      <th>3</th>\n      <td>6</td>\n      <td>O3</td>\n      <td>ppm</td>\n      <td>0.03</td>\n      <td>0.09</td>\n      <td>0.15</td>\n      <td>0.5</td>\n    </tr>\n    <tr>\n      <th>4</th>\n      <td>8</td>\n      <td>PM10</td>\n      <td>Mircrogram/m3</td>\n      <td>30.00</td>\n      <td>80.00</td>\n      <td>150.00</td>\n      <td>600.0</td>\n    </tr>\n  </tbody>\n</table>\n</div>",
      "text/plain": "   Item code Item name Unit of measurement  Good(Blue)  Normal(Green)  \\\n0          1       SO2                 ppm        0.02           0.05   \n1          3       NO2                 ppm        0.03           0.06   \n2          5        CO                 ppm        2.00           9.00   \n3          6        O3                 ppm        0.03           0.09   \n4          8      PM10       Mircrogram/m3       30.00          80.00   \n\n   Bad(Yellow)  Very bad(Red)  \n0         0.15            1.0  \n1         0.20            2.0  \n2        15.00           50.0  \n3         0.15            0.5  \n4       150.00          600.0  "
     },
     "execution_count": 3,
     "metadata": {},
     "output_type": "execute_result"
    }
   ],
   "source": [
    "item = pd.read_csv(\"./Data/Measurement_item_info.csv\")\n",
    "item.head()"
   ]
  },
  {
   "cell_type": "code",
   "execution_count": 4,
   "metadata": {},
   "outputs": [
    {
     "data": {
      "text/html": "<div>\n<style scoped>\n    .dataframe tbody tr th:only-of-type {\n        vertical-align: middle;\n    }\n\n    .dataframe tbody tr th {\n        vertical-align: top;\n    }\n\n    .dataframe thead th {\n        text-align: right;\n    }\n</style>\n<table border=\"1\" class=\"dataframe\">\n  <thead>\n    <tr style=\"text-align: right;\">\n      <th></th>\n      <th>Station code</th>\n      <th>Station name(district)</th>\n      <th>Address</th>\n      <th>Latitude</th>\n      <th>Longitude</th>\n    </tr>\n  </thead>\n  <tbody>\n    <tr>\n      <th>0</th>\n      <td>101</td>\n      <td>Jongno-gu</td>\n      <td>19, Jong-ro 35ga-gil, Jongno-gu, Seoul, Republ...</td>\n      <td>37.572016</td>\n      <td>127.005008</td>\n    </tr>\n    <tr>\n      <th>1</th>\n      <td>102</td>\n      <td>Jung-gu</td>\n      <td>15, Deoksugung-gil, Jung-gu, Seoul, Republic o...</td>\n      <td>37.564263</td>\n      <td>126.974676</td>\n    </tr>\n    <tr>\n      <th>2</th>\n      <td>103</td>\n      <td>Yongsan-gu</td>\n      <td>136, Hannam-daero, Yongsan-gu, Seoul, Republic...</td>\n      <td>37.540033</td>\n      <td>127.004850</td>\n    </tr>\n    <tr>\n      <th>3</th>\n      <td>104</td>\n      <td>Eunpyeong-gu</td>\n      <td>215, Jinheung-ro, Eunpyeong-gu, Seoul, Republi...</td>\n      <td>37.609823</td>\n      <td>126.934848</td>\n    </tr>\n    <tr>\n      <th>4</th>\n      <td>105</td>\n      <td>Seodaemun-gu</td>\n      <td>32, Segeomjeong-ro 4-gil, Seodaemun-gu, Seoul,...</td>\n      <td>37.593742</td>\n      <td>126.949679</td>\n    </tr>\n  </tbody>\n</table>\n</div>",
      "text/plain": "   Station code Station name(district)  \\\n0           101              Jongno-gu   \n1           102                Jung-gu   \n2           103             Yongsan-gu   \n3           104           Eunpyeong-gu   \n4           105           Seodaemun-gu   \n\n                                             Address   Latitude   Longitude  \n0  19, Jong-ro 35ga-gil, Jongno-gu, Seoul, Republ...  37.572016  127.005008  \n1  15, Deoksugung-gil, Jung-gu, Seoul, Republic o...  37.564263  126.974676  \n2  136, Hannam-daero, Yongsan-gu, Seoul, Republic...  37.540033  127.004850  \n3  215, Jinheung-ro, Eunpyeong-gu, Seoul, Republi...  37.609823  126.934848  \n4  32, Segeomjeong-ro 4-gil, Seodaemun-gu, Seoul,...  37.593742  126.949679  "
     },
     "execution_count": 4,
     "metadata": {},
     "output_type": "execute_result"
    }
   ],
   "source": [
    "station = pd.read_csv(\"./Data/Measurement_station_info.csv\")\n",
    "station.head()"
   ]
  },
  {
   "cell_type": "markdown",
   "metadata": {},
   "source": [
    "#### Question\n",
    "\n",
    "Create a new Dataframe whcih has information about the item code and item name"
   ]
  },
  {
   "cell_type": "code",
   "execution_count": 5,
   "metadata": {},
   "outputs": [
    {
     "data": {
      "text/html": "<div>\n<style scoped>\n    .dataframe tbody tr th:only-of-type {\n        vertical-align: middle;\n    }\n\n    .dataframe tbody tr th {\n        vertical-align: top;\n    }\n\n    .dataframe thead th {\n        text-align: right;\n    }\n</style>\n<table border=\"1\" class=\"dataframe\">\n  <thead>\n    <tr style=\"text-align: right;\">\n      <th></th>\n      <th>Item code</th>\n      <th>Item name</th>\n    </tr>\n  </thead>\n  <tbody>\n    <tr>\n      <th>0</th>\n      <td>1</td>\n      <td>SO2</td>\n    </tr>\n    <tr>\n      <th>1</th>\n      <td>3</td>\n      <td>NO2</td>\n    </tr>\n    <tr>\n      <th>2</th>\n      <td>5</td>\n      <td>CO</td>\n    </tr>\n    <tr>\n      <th>3</th>\n      <td>6</td>\n      <td>O3</td>\n    </tr>\n    <tr>\n      <th>4</th>\n      <td>8</td>\n      <td>PM10</td>\n    </tr>\n  </tbody>\n</table>\n</div>",
      "text/plain": "   Item code Item name\n0          1       SO2\n1          3       NO2\n2          5        CO\n3          6        O3\n4          8      PM10"
     },
     "execution_count": 5,
     "metadata": {},
     "output_type": "execute_result"
    }
   ],
   "source": [
    "sub_item = item[['Item code', 'Item name']]\n",
    "sub_item.head()"
   ]
  },
  {
   "cell_type": "markdown",
   "metadata": {},
   "source": [
    "#### Question\n",
    "\n",
    "Create a new Dataframe whcih has information about the station code and station name"
   ]
  },
  {
   "cell_type": "code",
   "execution_count": 6,
   "metadata": {},
   "outputs": [
    {
     "data": {
      "text/html": "<div>\n<style scoped>\n    .dataframe tbody tr th:only-of-type {\n        vertical-align: middle;\n    }\n\n    .dataframe tbody tr th {\n        vertical-align: top;\n    }\n\n    .dataframe thead th {\n        text-align: right;\n    }\n</style>\n<table border=\"1\" class=\"dataframe\">\n  <thead>\n    <tr style=\"text-align: right;\">\n      <th></th>\n      <th>Station code</th>\n      <th>Station name(district)</th>\n    </tr>\n  </thead>\n  <tbody>\n    <tr>\n      <th>0</th>\n      <td>101</td>\n      <td>Jongno-gu</td>\n    </tr>\n    <tr>\n      <th>1</th>\n      <td>102</td>\n      <td>Jung-gu</td>\n    </tr>\n    <tr>\n      <th>2</th>\n      <td>103</td>\n      <td>Yongsan-gu</td>\n    </tr>\n    <tr>\n      <th>3</th>\n      <td>104</td>\n      <td>Eunpyeong-gu</td>\n    </tr>\n    <tr>\n      <th>4</th>\n      <td>105</td>\n      <td>Seodaemun-gu</td>\n    </tr>\n  </tbody>\n</table>\n</div>",
      "text/plain": "   Station code Station name(district)\n0           101              Jongno-gu\n1           102                Jung-gu\n2           103             Yongsan-gu\n3           104           Eunpyeong-gu\n4           105           Seodaemun-gu"
     },
     "execution_count": 6,
     "metadata": {},
     "output_type": "execute_result"
    }
   ],
   "source": [
    "sub_station = station[['Station code', 'Station name(district)']]\n",
    "sub_station.head()"
   ]
  },
  {
   "cell_type": "markdown",
   "metadata": {},
   "source": [
    "### Question \n",
    "\n",
    "In the `data` DataFrame add in a column displaying the names of the items. "
   ]
  },
  {
   "cell_type": "code",
   "execution_count": 7,
   "metadata": {},
   "outputs": [
    {
     "data": {
      "text/html": "<div>\n<style scoped>\n    .dataframe tbody tr th:only-of-type {\n        vertical-align: middle;\n    }\n\n    .dataframe tbody tr th {\n        vertical-align: top;\n    }\n\n    .dataframe thead th {\n        text-align: right;\n    }\n</style>\n<table border=\"1\" class=\"dataframe\">\n  <thead>\n    <tr style=\"text-align: right;\">\n      <th></th>\n      <th>Measurement date</th>\n      <th>Station code</th>\n      <th>Item code</th>\n      <th>Average value</th>\n      <th>Instrument status</th>\n      <th>Item name</th>\n    </tr>\n  </thead>\n  <tbody>\n    <tr>\n      <th>0</th>\n      <td>2017-01-01 00:00</td>\n      <td>101</td>\n      <td>1</td>\n      <td>0.004</td>\n      <td>0</td>\n      <td>SO2</td>\n    </tr>\n    <tr>\n      <th>1</th>\n      <td>2017-01-01 00:00</td>\n      <td>101</td>\n      <td>3</td>\n      <td>0.059</td>\n      <td>0</td>\n      <td>NO2</td>\n    </tr>\n    <tr>\n      <th>2</th>\n      <td>2017-01-01 00:00</td>\n      <td>101</td>\n      <td>5</td>\n      <td>1.200</td>\n      <td>0</td>\n      <td>CO</td>\n    </tr>\n    <tr>\n      <th>3</th>\n      <td>2017-01-01 00:00</td>\n      <td>101</td>\n      <td>6</td>\n      <td>0.002</td>\n      <td>0</td>\n      <td>O3</td>\n    </tr>\n    <tr>\n      <th>4</th>\n      <td>2017-01-01 00:00</td>\n      <td>101</td>\n      <td>8</td>\n      <td>73.000</td>\n      <td>0</td>\n      <td>PM10</td>\n    </tr>\n  </tbody>\n</table>\n</div>",
      "text/plain": "   Measurement date  Station code  Item code  Average value  \\\n0  2017-01-01 00:00           101          1          0.004   \n1  2017-01-01 00:00           101          3          0.059   \n2  2017-01-01 00:00           101          5          1.200   \n3  2017-01-01 00:00           101          6          0.002   \n4  2017-01-01 00:00           101          8         73.000   \n\n   Instrument status Item name  \n0                  0       SO2  \n1                  0       NO2  \n2                  0        CO  \n3                  0        O3  \n4                  0      PM10  "
     },
     "execution_count": 7,
     "metadata": {},
     "output_type": "execute_result"
    }
   ],
   "source": [
    "data_i = pd.merge(data, item[['Item code', 'Item name']], how='left', on = 'Item code')\n",
    "data_i.head()"
   ]
  },
  {
   "cell_type": "markdown",
   "metadata": {},
   "source": [
    "### Question \n",
    "\n",
    "In the `data_i` DataFrame add in a column displaying the names of the stations. "
   ]
  },
  {
   "cell_type": "code",
   "execution_count": 8,
   "metadata": {},
   "outputs": [
    {
     "data": {
      "text/html": "<div>\n<style scoped>\n    .dataframe tbody tr th:only-of-type {\n        vertical-align: middle;\n    }\n\n    .dataframe tbody tr th {\n        vertical-align: top;\n    }\n\n    .dataframe thead th {\n        text-align: right;\n    }\n</style>\n<table border=\"1\" class=\"dataframe\">\n  <thead>\n    <tr style=\"text-align: right;\">\n      <th></th>\n      <th>Measurement date</th>\n      <th>Station code</th>\n      <th>Item code</th>\n      <th>Average value</th>\n      <th>Instrument status</th>\n      <th>Item name</th>\n      <th>Station name(district)</th>\n    </tr>\n  </thead>\n  <tbody>\n    <tr>\n      <th>0</th>\n      <td>2017-01-01 00:00</td>\n      <td>101</td>\n      <td>1</td>\n      <td>0.004</td>\n      <td>0</td>\n      <td>SO2</td>\n      <td>Jongno-gu</td>\n    </tr>\n    <tr>\n      <th>1</th>\n      <td>2017-01-01 00:00</td>\n      <td>101</td>\n      <td>3</td>\n      <td>0.059</td>\n      <td>0</td>\n      <td>NO2</td>\n      <td>Jongno-gu</td>\n    </tr>\n    <tr>\n      <th>2</th>\n      <td>2017-01-01 00:00</td>\n      <td>101</td>\n      <td>5</td>\n      <td>1.200</td>\n      <td>0</td>\n      <td>CO</td>\n      <td>Jongno-gu</td>\n    </tr>\n    <tr>\n      <th>3</th>\n      <td>2017-01-01 00:00</td>\n      <td>101</td>\n      <td>6</td>\n      <td>0.002</td>\n      <td>0</td>\n      <td>O3</td>\n      <td>Jongno-gu</td>\n    </tr>\n    <tr>\n      <th>4</th>\n      <td>2017-01-01 00:00</td>\n      <td>101</td>\n      <td>8</td>\n      <td>73.000</td>\n      <td>0</td>\n      <td>PM10</td>\n      <td>Jongno-gu</td>\n    </tr>\n  </tbody>\n</table>\n</div>",
      "text/plain": "   Measurement date  Station code  Item code  Average value  \\\n0  2017-01-01 00:00           101          1          0.004   \n1  2017-01-01 00:00           101          3          0.059   \n2  2017-01-01 00:00           101          5          1.200   \n3  2017-01-01 00:00           101          6          0.002   \n4  2017-01-01 00:00           101          8         73.000   \n\n   Instrument status Item name Station name(district)  \n0                  0       SO2              Jongno-gu  \n1                  0       NO2              Jongno-gu  \n2                  0        CO              Jongno-gu  \n3                  0        O3              Jongno-gu  \n4                  0      PM10              Jongno-gu  "
     },
     "execution_count": 8,
     "metadata": {},
     "output_type": "execute_result"
    }
   ],
   "source": [
    "data_s =  pd.merge(data_i, station[['Station code', 'Station name(district)']], how='left', on = 'Station code')\n",
    "data_s.head()"
   ]
  },
  {
   "cell_type": "markdown",
   "metadata": {},
   "source": [
    "### Question \n",
    "\n",
    "In the `data_s` DataFrame drop the columns `Station code` and `Item code`. As these columns have not become redundant. You can find the relevant function in the pandas library [here](https://pandas.pydata.org/docs/reference/index.html). "
   ]
  },
  {
   "cell_type": "code",
   "execution_count": 9,
   "metadata": {},
   "outputs": [
    {
     "data": {
      "text/html": "<div>\n<style scoped>\n    .dataframe tbody tr th:only-of-type {\n        vertical-align: middle;\n    }\n\n    .dataframe tbody tr th {\n        vertical-align: top;\n    }\n\n    .dataframe thead th {\n        text-align: right;\n    }\n</style>\n<table border=\"1\" class=\"dataframe\">\n  <thead>\n    <tr style=\"text-align: right;\">\n      <th></th>\n      <th>Measurement date</th>\n      <th>Average value</th>\n      <th>Instrument status</th>\n      <th>Item name</th>\n      <th>Station name(district)</th>\n    </tr>\n  </thead>\n  <tbody>\n    <tr>\n      <th>0</th>\n      <td>2017-01-01 00:00</td>\n      <td>0.004</td>\n      <td>0</td>\n      <td>SO2</td>\n      <td>Jongno-gu</td>\n    </tr>\n    <tr>\n      <th>1</th>\n      <td>2017-01-01 00:00</td>\n      <td>0.059</td>\n      <td>0</td>\n      <td>NO2</td>\n      <td>Jongno-gu</td>\n    </tr>\n    <tr>\n      <th>2</th>\n      <td>2017-01-01 00:00</td>\n      <td>1.200</td>\n      <td>0</td>\n      <td>CO</td>\n      <td>Jongno-gu</td>\n    </tr>\n    <tr>\n      <th>3</th>\n      <td>2017-01-01 00:00</td>\n      <td>0.002</td>\n      <td>0</td>\n      <td>O3</td>\n      <td>Jongno-gu</td>\n    </tr>\n    <tr>\n      <th>4</th>\n      <td>2017-01-01 00:00</td>\n      <td>73.000</td>\n      <td>0</td>\n      <td>PM10</td>\n      <td>Jongno-gu</td>\n    </tr>\n  </tbody>\n</table>\n</div>",
      "text/plain": "   Measurement date  Average value  Instrument status Item name  \\\n0  2017-01-01 00:00          0.004                  0       SO2   \n1  2017-01-01 00:00          0.059                  0       NO2   \n2  2017-01-01 00:00          1.200                  0        CO   \n3  2017-01-01 00:00          0.002                  0        O3   \n4  2017-01-01 00:00         73.000                  0      PM10   \n\n  Station name(district)  \n0              Jongno-gu  \n1              Jongno-gu  \n2              Jongno-gu  \n3              Jongno-gu  \n4              Jongno-gu  "
     },
     "execution_count": 9,
     "metadata": {},
     "output_type": "execute_result"
    }
   ],
   "source": [
    "data = data_s.drop(['Item code', 'Station code'],axis=1)\n",
    "data.head()"
   ]
  },
  {
   "cell_type": "markdown",
   "metadata": {},
   "source": [
    "### Question \n",
    "\n",
    "Given below are the meanings of the values in the `Instrument status`. \n",
    "\n",
    "- 0: Normal \n",
    "- 1: Need for calibration \n",
    "- 2: Abnormal\n",
    "- 4: Power cut off \n",
    "- 8: Under repair\n",
    "- 9: Abnormal data\n",
    "\n",
    "Using the information given above, add a column in the `data` DataFrame to give the status of the intsruments. Then drop the `Instrument status` column.  \n",
    "\n",
    "Hint: First create a dictionary from the data, then use the same dictionary to create a DataFrame and then merge the DataFrame. with `data`"
   ]
  },
  {
   "cell_type": "code",
   "execution_count": 10,
   "metadata": {},
   "outputs": [],
   "source": [
    "status_dict = {'Instrument status': [0, 1, 2, 4, 8, 9],\n",
    " 'Status': ['Normal',\n",
    "            'Need for calibration',\n",
    "            'Abnormal',\n",
    "            'Power cut off',\n",
    "            'Under repair',\n",
    "            'Abnormal data']}"
   ]
  },
  {
   "cell_type": "code",
   "execution_count": 11,
   "metadata": {},
   "outputs": [
    {
     "data": {
      "text/html": "<div>\n<style scoped>\n    .dataframe tbody tr th:only-of-type {\n        vertical-align: middle;\n    }\n\n    .dataframe tbody tr th {\n        vertical-align: top;\n    }\n\n    .dataframe thead th {\n        text-align: right;\n    }\n</style>\n<table border=\"1\" class=\"dataframe\">\n  <thead>\n    <tr style=\"text-align: right;\">\n      <th></th>\n      <th>Instrument status</th>\n      <th>Status</th>\n    </tr>\n  </thead>\n  <tbody>\n    <tr>\n      <th>0</th>\n      <td>0</td>\n      <td>Normal</td>\n    </tr>\n    <tr>\n      <th>1</th>\n      <td>1</td>\n      <td>Need for calibration</td>\n    </tr>\n    <tr>\n      <th>2</th>\n      <td>2</td>\n      <td>Abnormal</td>\n    </tr>\n    <tr>\n      <th>3</th>\n      <td>4</td>\n      <td>Power cut off</td>\n    </tr>\n    <tr>\n      <th>4</th>\n      <td>8</td>\n      <td>Under repair</td>\n    </tr>\n    <tr>\n      <th>5</th>\n      <td>9</td>\n      <td>Abnormal data</td>\n    </tr>\n  </tbody>\n</table>\n</div>",
      "text/plain": "   Instrument status                Status\n0                  0                Normal\n1                  1  Need for calibration\n2                  2              Abnormal\n3                  4         Power cut off\n4                  8          Under repair\n5                  9         Abnormal data"
     },
     "execution_count": 11,
     "metadata": {},
     "output_type": "execute_result"
    }
   ],
   "source": [
    "dictdf = pd.DataFrame(data=status_dict)\n",
    "dictdf"
   ]
  },
  {
   "cell_type": "code",
   "execution_count": 12,
   "metadata": {},
   "outputs": [
    {
     "data": {
      "text/html": "<div>\n<style scoped>\n    .dataframe tbody tr th:only-of-type {\n        vertical-align: middle;\n    }\n\n    .dataframe tbody tr th {\n        vertical-align: top;\n    }\n\n    .dataframe thead th {\n        text-align: right;\n    }\n</style>\n<table border=\"1\" class=\"dataframe\">\n  <thead>\n    <tr style=\"text-align: right;\">\n      <th></th>\n      <th>Measurement date</th>\n      <th>Average value</th>\n      <th>Instrument status</th>\n      <th>Item name</th>\n      <th>Station name(district)</th>\n      <th>Status</th>\n    </tr>\n  </thead>\n  <tbody>\n    <tr>\n      <th>0</th>\n      <td>2017-01-01 00:00</td>\n      <td>0.004</td>\n      <td>0</td>\n      <td>SO2</td>\n      <td>Jongno-gu</td>\n      <td>Normal</td>\n    </tr>\n    <tr>\n      <th>1</th>\n      <td>2017-01-01 00:00</td>\n      <td>0.059</td>\n      <td>0</td>\n      <td>NO2</td>\n      <td>Jongno-gu</td>\n      <td>Normal</td>\n    </tr>\n    <tr>\n      <th>2</th>\n      <td>2017-01-01 00:00</td>\n      <td>1.200</td>\n      <td>0</td>\n      <td>CO</td>\n      <td>Jongno-gu</td>\n      <td>Normal</td>\n    </tr>\n    <tr>\n      <th>3</th>\n      <td>2017-01-01 00:00</td>\n      <td>0.002</td>\n      <td>0</td>\n      <td>O3</td>\n      <td>Jongno-gu</td>\n      <td>Normal</td>\n    </tr>\n    <tr>\n      <th>4</th>\n      <td>2017-01-01 00:00</td>\n      <td>73.000</td>\n      <td>0</td>\n      <td>PM10</td>\n      <td>Jongno-gu</td>\n      <td>Normal</td>\n    </tr>\n  </tbody>\n</table>\n</div>",
      "text/plain": "   Measurement date  Average value  Instrument status Item name  \\\n0  2017-01-01 00:00          0.004                  0       SO2   \n1  2017-01-01 00:00          0.059                  0       NO2   \n2  2017-01-01 00:00          1.200                  0        CO   \n3  2017-01-01 00:00          0.002                  0        O3   \n4  2017-01-01 00:00         73.000                  0      PM10   \n\n  Station name(district)  Status  \n0              Jongno-gu  Normal  \n1              Jongno-gu  Normal  \n2              Jongno-gu  Normal  \n3              Jongno-gu  Normal  \n4              Jongno-gu  Normal  "
     },
     "execution_count": 12,
     "metadata": {},
     "output_type": "execute_result"
    }
   ],
   "source": [
    "data = pd.merge(data, dictdf, how='left', on='Instrument status')\n",
    "data.head()"
   ]
  },
  {
   "cell_type": "code",
   "execution_count": 13,
   "metadata": {},
   "outputs": [
    {
     "data": {
      "text/html": "<div>\n<style scoped>\n    .dataframe tbody tr th:only-of-type {\n        vertical-align: middle;\n    }\n\n    .dataframe tbody tr th {\n        vertical-align: top;\n    }\n\n    .dataframe thead th {\n        text-align: right;\n    }\n</style>\n<table border=\"1\" class=\"dataframe\">\n  <thead>\n    <tr style=\"text-align: right;\">\n      <th></th>\n      <th>Measurement date</th>\n      <th>Average value</th>\n      <th>Item name</th>\n      <th>Station name(district)</th>\n      <th>Status</th>\n    </tr>\n  </thead>\n  <tbody>\n    <tr>\n      <th>0</th>\n      <td>2017-01-01 00:00</td>\n      <td>0.004</td>\n      <td>SO2</td>\n      <td>Jongno-gu</td>\n      <td>Normal</td>\n    </tr>\n    <tr>\n      <th>1</th>\n      <td>2017-01-01 00:00</td>\n      <td>0.059</td>\n      <td>NO2</td>\n      <td>Jongno-gu</td>\n      <td>Normal</td>\n    </tr>\n    <tr>\n      <th>2</th>\n      <td>2017-01-01 00:00</td>\n      <td>1.200</td>\n      <td>CO</td>\n      <td>Jongno-gu</td>\n      <td>Normal</td>\n    </tr>\n    <tr>\n      <th>3</th>\n      <td>2017-01-01 00:00</td>\n      <td>0.002</td>\n      <td>O3</td>\n      <td>Jongno-gu</td>\n      <td>Normal</td>\n    </tr>\n    <tr>\n      <th>4</th>\n      <td>2017-01-01 00:00</td>\n      <td>73.000</td>\n      <td>PM10</td>\n      <td>Jongno-gu</td>\n      <td>Normal</td>\n    </tr>\n  </tbody>\n</table>\n</div>",
      "text/plain": "   Measurement date  Average value Item name Station name(district)  Status\n0  2017-01-01 00:00          0.004       SO2              Jongno-gu  Normal\n1  2017-01-01 00:00          0.059       NO2              Jongno-gu  Normal\n2  2017-01-01 00:00          1.200        CO              Jongno-gu  Normal\n3  2017-01-01 00:00          0.002        O3              Jongno-gu  Normal\n4  2017-01-01 00:00         73.000      PM10              Jongno-gu  Normal"
     },
     "execution_count": 13,
     "metadata": {},
     "output_type": "execute_result"
    }
   ],
   "source": [
    "data = data.drop(['Instrument status'], axis=1)\n",
    "data.head()"
   ]
  },
  {
   "cell_type": "markdown",
   "metadata": {},
   "source": [
    "### Question \n",
    "\n",
    "Extract the time series data, that is year, month, date and hour form the `Measurement date` column. Once all the data is extrcted drop the `Measurement date` column. \n",
    "\n",
    "This operation might take some time as the dataset we are working with is very large. "
   ]
  },
  {
   "cell_type": "code",
   "execution_count": 14,
   "metadata": {},
   "outputs": [
    {
     "data": {
      "text/html": "<div>\n<style scoped>\n    .dataframe tbody tr th:only-of-type {\n        vertical-align: middle;\n    }\n\n    .dataframe tbody tr th {\n        vertical-align: top;\n    }\n\n    .dataframe thead th {\n        text-align: right;\n    }\n</style>\n<table border=\"1\" class=\"dataframe\">\n  <thead>\n    <tr style=\"text-align: right;\">\n      <th></th>\n      <th>Measurement date</th>\n      <th>Average value</th>\n      <th>Item name</th>\n      <th>Station name(district)</th>\n      <th>Status</th>\n    </tr>\n  </thead>\n  <tbody>\n    <tr>\n      <th>0</th>\n      <td>2017-01-01 00:00</td>\n      <td>0.004</td>\n      <td>SO2</td>\n      <td>Jongno-gu</td>\n      <td>Normal</td>\n    </tr>\n    <tr>\n      <th>1</th>\n      <td>2017-01-01 00:00</td>\n      <td>0.059</td>\n      <td>NO2</td>\n      <td>Jongno-gu</td>\n      <td>Normal</td>\n    </tr>\n    <tr>\n      <th>2</th>\n      <td>2017-01-01 00:00</td>\n      <td>1.200</td>\n      <td>CO</td>\n      <td>Jongno-gu</td>\n      <td>Normal</td>\n    </tr>\n    <tr>\n      <th>3</th>\n      <td>2017-01-01 00:00</td>\n      <td>0.002</td>\n      <td>O3</td>\n      <td>Jongno-gu</td>\n      <td>Normal</td>\n    </tr>\n    <tr>\n      <th>4</th>\n      <td>2017-01-01 00:00</td>\n      <td>73.000</td>\n      <td>PM10</td>\n      <td>Jongno-gu</td>\n      <td>Normal</td>\n    </tr>\n  </tbody>\n</table>\n</div>",
      "text/plain": "   Measurement date  Average value Item name Station name(district)  Status\n0  2017-01-01 00:00          0.004       SO2              Jongno-gu  Normal\n1  2017-01-01 00:00          0.059       NO2              Jongno-gu  Normal\n2  2017-01-01 00:00          1.200        CO              Jongno-gu  Normal\n3  2017-01-01 00:00          0.002        O3              Jongno-gu  Normal\n4  2017-01-01 00:00         73.000      PM10              Jongno-gu  Normal"
     },
     "execution_count": 14,
     "metadata": {},
     "output_type": "execute_result"
    }
   ],
   "source": [
    "data.head()"
   ]
  },
  {
   "cell_type": "code",
   "execution_count": 15,
   "metadata": {},
   "outputs": [
    {
     "data": {
      "text/html": "<div>\n<style scoped>\n    .dataframe tbody tr th:only-of-type {\n        vertical-align: middle;\n    }\n\n    .dataframe tbody tr th {\n        vertical-align: top;\n    }\n\n    .dataframe thead th {\n        text-align: right;\n    }\n</style>\n<table border=\"1\" class=\"dataframe\">\n  <thead>\n    <tr style=\"text-align: right;\">\n      <th></th>\n      <th>Average value</th>\n      <th>Item name</th>\n      <th>Station name(district)</th>\n      <th>Status</th>\n      <th>Year</th>\n      <th>Month</th>\n      <th>Date</th>\n      <th>Hour</th>\n    </tr>\n  </thead>\n  <tbody>\n    <tr>\n      <th>0</th>\n      <td>0.004</td>\n      <td>SO2</td>\n      <td>Jongno-gu</td>\n      <td>Normal</td>\n      <td>2017</td>\n      <td>1</td>\n      <td>2017-01-01</td>\n      <td>0</td>\n    </tr>\n    <tr>\n      <th>1</th>\n      <td>0.059</td>\n      <td>NO2</td>\n      <td>Jongno-gu</td>\n      <td>Normal</td>\n      <td>2017</td>\n      <td>1</td>\n      <td>2017-01-01</td>\n      <td>0</td>\n    </tr>\n    <tr>\n      <th>2</th>\n      <td>1.200</td>\n      <td>CO</td>\n      <td>Jongno-gu</td>\n      <td>Normal</td>\n      <td>2017</td>\n      <td>1</td>\n      <td>2017-01-01</td>\n      <td>0</td>\n    </tr>\n    <tr>\n      <th>3</th>\n      <td>0.002</td>\n      <td>O3</td>\n      <td>Jongno-gu</td>\n      <td>Normal</td>\n      <td>2017</td>\n      <td>1</td>\n      <td>2017-01-01</td>\n      <td>0</td>\n    </tr>\n    <tr>\n      <th>4</th>\n      <td>73.000</td>\n      <td>PM10</td>\n      <td>Jongno-gu</td>\n      <td>Normal</td>\n      <td>2017</td>\n      <td>1</td>\n      <td>2017-01-01</td>\n      <td>0</td>\n    </tr>\n    <tr>\n      <th>...</th>\n      <td>...</td>\n      <td>...</td>\n      <td>...</td>\n      <td>...</td>\n      <td>...</td>\n      <td>...</td>\n      <td>...</td>\n      <td>...</td>\n    </tr>\n    <tr>\n      <th>195</th>\n      <td>0.003</td>\n      <td>O3</td>\n      <td>Gwangjin-gu</td>\n      <td>Normal</td>\n      <td>2017</td>\n      <td>1</td>\n      <td>2017-01-01</td>\n      <td>1</td>\n    </tr>\n    <tr>\n      <th>196</th>\n      <td>71.000</td>\n      <td>PM10</td>\n      <td>Gwangjin-gu</td>\n      <td>Normal</td>\n      <td>2017</td>\n      <td>1</td>\n      <td>2017-01-01</td>\n      <td>1</td>\n    </tr>\n    <tr>\n      <th>197</th>\n      <td>62.000</td>\n      <td>PM2.5</td>\n      <td>Gwangjin-gu</td>\n      <td>Normal</td>\n      <td>2017</td>\n      <td>1</td>\n      <td>2017-01-01</td>\n      <td>1</td>\n    </tr>\n    <tr>\n      <th>198</th>\n      <td>0.005</td>\n      <td>SO2</td>\n      <td>Dongdaemun-gu</td>\n      <td>Normal</td>\n      <td>2017</td>\n      <td>1</td>\n      <td>2017-01-01</td>\n      <td>1</td>\n    </tr>\n    <tr>\n      <th>199</th>\n      <td>0.050</td>\n      <td>NO2</td>\n      <td>Dongdaemun-gu</td>\n      <td>Normal</td>\n      <td>2017</td>\n      <td>1</td>\n      <td>2017-01-01</td>\n      <td>1</td>\n    </tr>\n  </tbody>\n</table>\n<p>200 rows × 8 columns</p>\n</div>",
      "text/plain": "     Average value Item name Station name(district)  Status  Year  Month  \\\n0            0.004       SO2              Jongno-gu  Normal  2017      1   \n1            0.059       NO2              Jongno-gu  Normal  2017      1   \n2            1.200        CO              Jongno-gu  Normal  2017      1   \n3            0.002        O3              Jongno-gu  Normal  2017      1   \n4           73.000      PM10              Jongno-gu  Normal  2017      1   \n..             ...       ...                    ...     ...   ...    ...   \n195          0.003        O3            Gwangjin-gu  Normal  2017      1   \n196         71.000      PM10            Gwangjin-gu  Normal  2017      1   \n197         62.000     PM2.5            Gwangjin-gu  Normal  2017      1   \n198          0.005       SO2          Dongdaemun-gu  Normal  2017      1   \n199          0.050       NO2          Dongdaemun-gu  Normal  2017      1   \n\n           Date  Hour  \n0    2017-01-01     0  \n1    2017-01-01     0  \n2    2017-01-01     0  \n3    2017-01-01     0  \n4    2017-01-01     0  \n..          ...   ...  \n195  2017-01-01     1  \n196  2017-01-01     1  \n197  2017-01-01     1  \n198  2017-01-01     1  \n199  2017-01-01     1  \n\n[200 rows x 8 columns]"
     },
     "execution_count": 15,
     "metadata": {},
     "output_type": "execute_result"
    }
   ],
   "source": [
    "data['Year'] = pd.DatetimeIndex(data['Measurement date']).year\n",
    "data['Month'] = pd.DatetimeIndex(data['Measurement date']).month\n",
    "data['Date'] = pd.DatetimeIndex(data['Measurement date']).date\n",
    "data['Hour'] = pd.DatetimeIndex(data['Measurement date']).hour\n",
    "data.drop(['Measurement date'], axis=1)\n"
   ]
  },
  {
   "cell_type": "code",
   "execution_count": 16,
   "metadata": {},
   "outputs": [],
   "source": [
    "data = data.drop(['Measurement date'], axis=1)"
   ]
  },
  {
   "cell_type": "code",
   "execution_count": 17,
   "metadata": {},
   "outputs": [
    {
     "data": {
      "text/html": "<div>\n<style scoped>\n    .dataframe tbody tr th:only-of-type {\n        vertical-align: middle;\n    }\n\n    .dataframe tbody tr th {\n        vertical-align: top;\n    }\n\n    .dataframe thead th {\n        text-align: right;\n    }\n</style>\n<table border=\"1\" class=\"dataframe\">\n  <thead>\n    <tr style=\"text-align: right;\">\n      <th></th>\n      <th>Average value</th>\n      <th>Item name</th>\n      <th>Station name(district)</th>\n      <th>Status</th>\n      <th>Year</th>\n      <th>Month</th>\n      <th>Date</th>\n      <th>Hour</th>\n    </tr>\n  </thead>\n  <tbody>\n    <tr>\n      <th>0</th>\n      <td>0.004</td>\n      <td>SO2</td>\n      <td>Jongno-gu</td>\n      <td>Normal</td>\n      <td>2017</td>\n      <td>1</td>\n      <td>2017-01-01</td>\n      <td>0</td>\n    </tr>\n    <tr>\n      <th>1</th>\n      <td>0.059</td>\n      <td>NO2</td>\n      <td>Jongno-gu</td>\n      <td>Normal</td>\n      <td>2017</td>\n      <td>1</td>\n      <td>2017-01-01</td>\n      <td>0</td>\n    </tr>\n    <tr>\n      <th>2</th>\n      <td>1.200</td>\n      <td>CO</td>\n      <td>Jongno-gu</td>\n      <td>Normal</td>\n      <td>2017</td>\n      <td>1</td>\n      <td>2017-01-01</td>\n      <td>0</td>\n    </tr>\n    <tr>\n      <th>3</th>\n      <td>0.002</td>\n      <td>O3</td>\n      <td>Jongno-gu</td>\n      <td>Normal</td>\n      <td>2017</td>\n      <td>1</td>\n      <td>2017-01-01</td>\n      <td>0</td>\n    </tr>\n    <tr>\n      <th>4</th>\n      <td>73.000</td>\n      <td>PM10</td>\n      <td>Jongno-gu</td>\n      <td>Normal</td>\n      <td>2017</td>\n      <td>1</td>\n      <td>2017-01-01</td>\n      <td>0</td>\n    </tr>\n  </tbody>\n</table>\n</div>",
      "text/plain": "   Average value Item name Station name(district)  Status  Year  Month  \\\n0          0.004       SO2              Jongno-gu  Normal  2017      1   \n1          0.059       NO2              Jongno-gu  Normal  2017      1   \n2          1.200        CO              Jongno-gu  Normal  2017      1   \n3          0.002        O3              Jongno-gu  Normal  2017      1   \n4         73.000      PM10              Jongno-gu  Normal  2017      1   \n\n         Date  Hour  \n0  2017-01-01     0  \n1  2017-01-01     0  \n2  2017-01-01     0  \n3  2017-01-01     0  \n4  2017-01-01     0  "
     },
     "execution_count": 17,
     "metadata": {},
     "output_type": "execute_result"
    }
   ],
   "source": [
    "data.head()"
   ]
  }
 ],
 "metadata": {
  "kernelspec": {
   "display_name": "Python 3.7.9 64-bit ('venv': venv)",
   "name": "python379jvsc74a57bd0cf247013399a202eae5e7608e2ade166a9852d41f1f09169f1cf85c9062346fa"
  },
  "language_info": {
   "codemirror_mode": {
    "name": "ipython",
    "version": 3
   },
   "file_extension": ".py",
   "mimetype": "text/x-python",
   "name": "python",
   "nbconvert_exporter": "python",
   "pygments_lexer": "ipython3",
   "version": "3.7.9"
  },
  "orig_nbformat": 3
 },
 "nbformat": 4,
 "nbformat_minor": 4
}