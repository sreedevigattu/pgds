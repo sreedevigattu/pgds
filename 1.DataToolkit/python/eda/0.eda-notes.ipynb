{
 "cells": [
  {
   "cell_type": "markdown",
   "source": [
    "# Box plots\n",
    "https://www.simplypsychology.org/boxplots.html\n",
    "\n",
    "Why are box plots useful?\n",
    "- Average, Range\n",
    "- Skewness\n",
    "- Dispersion\n",
    "- Outliers"
   ],
   "metadata": {}
  },
  {
   "cell_type": "markdown",
   "source": [
    "# Missing Data\n",
    "https://blog.usejournal.com/missing-data-its-types-and-statistical-methods-to-deal-with-it-5cf8b71a443f\n",
    "- MCAR : Missing Completely at random\n",
    "- MAR : Missing at random\n",
    "- MNAR : Missing not at random"
   ],
   "metadata": {}
  },
  {
   "cell_type": "markdown",
   "source": [
    "## Analysis\n",
    "| | |\n",
    "|---|---|\n",
    "|Numerical|Box plots|\n",
    "|Categorical|Bar graphs|\n",
    "|Numerical - Numerical|Correlation, Scatter plots|\n",
    "|Numerical - Categorical|Box plots|\n",
    "|Categorical-Categorical|Bar graphs|\n",
    "|Mult-variate|Heatmaps|"
   ],
   "metadata": {}
  },
  {
   "cell_type": "code",
   "execution_count": null,
   "source": [
    "help('print')"
   ],
   "outputs": [],
   "metadata": {}
  },
  {
   "cell_type": "code",
   "execution_count": null,
   "source": [
    "import matplotlib.pyplot as plt"
   ],
   "outputs": [],
   "metadata": {}
  }
 ],
 "metadata": {
  "kernelspec": {
   "display_name": "Python 3.7.9 64-bit ('venv': venv)",
   "name": "python379jvsc74a57bd0cf247013399a202eae5e7608e2ade166a9852d41f1f09169f1cf85c9062346fa"
  },
  "language_info": {
   "name": "python",
   "version": ""
  },
  "orig_nbformat": 2
 },
 "nbformat": 4,
 "nbformat_minor": 2
}