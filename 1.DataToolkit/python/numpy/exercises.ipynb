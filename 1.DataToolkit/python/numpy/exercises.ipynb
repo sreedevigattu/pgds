{
 "cells": [
  {
   "cell_type": "markdown",
   "source": [
    "## Extracting Elements from Array\n",
    "Description\n",
    "From a given array, extract all the elements which are greater than 'm' and less than 'n'. Note: 'm' and 'n' are integer values provided as input.\n",
    "\n",
    "Input format:\n",
    "A list of integers on line one\n",
    "Integer 'm' on line two\n",
    "Integer 'n' on line three\n",
    "\n",
    "Output format:\n",
    "1-D array containing integers greater than 'm' and smaller than 'n'.\n",
    "\n",
    "Sample input:\n",
    "\n",
    "[ 1, 5, 9, 12, 15, 7, 12, 9 ] (array)\n",
    "\n",
    "6 (m)\n",
    "\n",
    "12 (n)\n",
    "\n",
    "Sample output:[ 9 7 9 ]\n",
    "\n",
    "Sample input:\n",
    "\n",
    "[ 1, 5, 9, 12, 15, 7, 12, 9 ]\n",
    "\n",
    "12\n",
    "\n",
    "6\n",
    "\n",
    "Sample output:[ ]"
   ],
   "metadata": {}
  },
  {
   "cell_type": "code",
   "execution_count": 5,
   "source": [
    "import ast\n",
    "import numpy as np"
   ],
   "outputs": [],
   "metadata": {}
  },
  {
   "cell_type": "code",
   "execution_count": 8,
   "source": [
    "values = [ 1, 5, 9, 12, 15, 7, 12, 9 ] #ast.literal_eval(input())\n",
    "m, n = 6, 12\n",
    "arr = np.array(values)\n",
    "print(arr)\n",
    "print(arr[(arr>m) & (arr<n)])"
   ],
   "outputs": [
    {
     "output_type": "stream",
     "name": "stdout",
     "text": [
      "[ 1  5  9 12 15  7 12  9]\n",
      "[9 7 9]\n"
     ]
    }
   ],
   "metadata": {}
  },
  {
   "cell_type": "markdown",
   "source": [
    "## Border Rows and Columns\n",
    "Extract all the border rows and columns from a 2-D array.\n",
    "\n",
    "Format:\n",
    "Input: A 2-D Python list\n",
    "\n",
    "Output: Four NumPy arrays - First column of the input array, first row of the input array, last column of the input array, last row of the input array respectively.\n",
    "\n",
    "Example:\n",
    "\n",
    "Input 1:\n",
    "[[11 12 13 14]\n",
    "\n",
    " [21 22 23 24]\n",
    "\n",
    " [31 32 33 34]]\n",
    "\n",
    "Output 1:\n",
    "[11 21 31]\n",
    "\n",
    "[11 12 13 14]\n",
    "\n",
    "[14 24 34]\n",
    "\n",
    "[31 32 33 34]"
   ],
   "metadata": {}
  },
  {
   "cell_type": "code",
   "execution_count": 11,
   "source": [
    "arr = np.array([[11, 12, 13, 14], [21, 22, 23, 24], [31, 32, 33, 34]])\n",
    "print(arr)\n",
    "\n",
    "print(\"First column:\", arr[:,0])\n",
    "print(\"First row:\", arr[0,:])\n",
    "print(\"Last row:\", arr[-1,:])\n",
    "print(\"Last column:\", arr[:,-1])"
   ],
   "outputs": [
    {
     "output_type": "stream",
     "name": "stdout",
     "text": [
      "[[11 12 13 14]\n",
      " [21 22 23 24]\n",
      " [31 32 33 34]]\n",
      "First column: [11 21 31]\n",
      "First row: [11 12 13 14]\n",
      "Last row: [31 32 33 34]\n",
      "Last column: [14 24 34]\n"
     ]
    }
   ],
   "metadata": {}
  },
  {
   "cell_type": "markdown",
   "source": [
    "# Array 'arange' Function\n",
    "Create an array of first 10 multiples of 5 using the 'arange' function."
   ],
   "metadata": {}
  },
  {
   "cell_type": "code",
   "execution_count": 13,
   "source": [
    "np.arange(5, 5*10+1, 5)"
   ],
   "outputs": [
    {
     "output_type": "execute_result",
     "data": {
      "text/plain": [
       "array([ 5, 10, 15, 20, 25, 30, 35, 40, 45, 50])"
      ]
     },
     "metadata": {},
     "execution_count": 13
    }
   ],
   "metadata": {}
  },
  {
   "cell_type": "markdown",
   "source": [
    "## Create border array\n",
    "Given a single integer n, create an (n x n) 2D array with 1 on the border and 0 on the inside.\n",
    "\n",
    "Note: Make sure the array is of type int.\n",
    "\n",
    "Example:\n",
    "\n",
    "Input 1: 4\n",
    "\n",
    "Output 1:\n",
    "\n",
    "[[1 1 1 1]\n",
    "\n",
    "[1 0 0 1]\n",
    "\n",
    "[1 0 0 1]\n",
    "\n",
    "[1 1 1 1]]\n",
    "\n",
    "Input 2: 2\n",
    "\n",
    "Output 2:\n",
    "\n",
    "[[1 1] \n",
    "\n",
    " [1 1]] "
   ],
   "metadata": {}
  },
  {
   "cell_type": "code",
   "execution_count": 23,
   "source": [
    "n = 6\n",
    "arr = np.ones((n,n))\n",
    "arr[1:-1,1:-1] = 0\n",
    "print(arr)"
   ],
   "outputs": [
    {
     "output_type": "stream",
     "name": "stdout",
     "text": [
      "[[1. 1. 1. 1. 1. 1.]\n",
      " [1. 0. 0. 0. 0. 1.]\n",
      " [1. 0. 0. 0. 0. 1.]\n",
      " [1. 0. 0. 0. 0. 1.]\n",
      " [1. 0. 0. 0. 0. 1.]\n",
      " [1. 1. 1. 1. 1. 1.]]\n"
     ]
    }
   ],
   "metadata": {}
  },
  {
   "cell_type": "markdown",
   "source": [
    "## Merge the three arrays provided to you to form a one 4x4 array.\n",
    "\n",
    "[Hint: Check the function np.transpose() in the 'Manipulating Arrays' notebook provided.]\n",
    "\n",
    "Input:\n",
    "\n",
    "Array 1: 3*3\n",
    "\n",
    "[[7, 13, 14]\n",
    "\n",
    "[18, 10, 17]\n",
    "\n",
    "[11, 12, 19]]\n",
    "\n",
    "Array 2: 1-D array\n",
    "\n",
    "[16, 6, 1]\n",
    "\n",
    "Array 3: 1*4 array\n",
    "\n",
    "[[5, 8, 4, 3]]\n",
    "\n",
    "Output:\n",
    "\n",
    "[[7 13 14 5]\n",
    "\n",
    "[18 10 17 8]\n",
    "\n",
    "[11 12 19 4]\n",
    "\n",
    "[16 6 1 3]]"
   ],
   "metadata": {}
  },
  {
   "cell_type": "code",
   "execution_count": 45,
   "source": [
    "arr1 = np.array([[7, 13, 14], [18, 10, 17], [11, 12, 19]])\n",
    "arr2 = np.array([16, 6, 1])\n",
    "arr3 = np.array([[5, 8, 4, 3]])\n",
    "\n",
    "arr2 = arr2.reshape(1, 3)\n",
    "arr4 = np.vstack((arr1, arr2.reshape(1, 3)))\n",
    "print(arr4)\n",
    "\n",
    "arr3 = arr3.reshape(4, 1)\n",
    "print(arr3)\n",
    "\n",
    "arr4 = np.hstack((arr4, arr3))\n",
    "print(arr4)"
   ],
   "outputs": [
    {
     "output_type": "stream",
     "name": "stdout",
     "text": [
      "[[ 7 13 14]\n",
      " [18 10 17]\n",
      " [11 12 19]\n",
      " [16  6  1]]\n",
      "[[5]\n",
      " [8]\n",
      " [4]\n",
      " [3]]\n",
      "[[ 7 13 14  5]\n",
      " [18 10 17  8]\n",
      " [11 12 19  4]\n",
      " [16  6  1  3]]\n"
     ]
    }
   ],
   "metadata": {}
  },
  {
   "cell_type": "code",
   "execution_count": 46,
   "source": [
    "y = np.empty(5)\n",
    "y   "
   ],
   "outputs": [
    {
     "output_type": "execute_result",
     "data": {
      "text/plain": [
       "array([ 1.  ,  2.75,  6.  , 10.75, 17.  ])"
      ]
     },
     "metadata": {},
     "execution_count": 46
    }
   ],
   "metadata": {}
  }
 ],
 "metadata": {
  "orig_nbformat": 4,
  "language_info": {
   "name": "python",
   "version": "3.7.9",
   "mimetype": "text/x-python",
   "codemirror_mode": {
    "name": "ipython",
    "version": 3
   },
   "pygments_lexer": "ipython3",
   "nbconvert_exporter": "python",
   "file_extension": ".py"
  },
  "kernelspec": {
   "name": "python3",
   "display_name": "Python 3.7.9 64-bit ('venv': venv)"
  },
  "interpreter": {
   "hash": "f97d34db9510eee530bd15462a1472e6c8ea8cdd282363a5122dd2d3fb534a0c"
  }
 },
 "nbformat": 4,
 "nbformat_minor": 2
}