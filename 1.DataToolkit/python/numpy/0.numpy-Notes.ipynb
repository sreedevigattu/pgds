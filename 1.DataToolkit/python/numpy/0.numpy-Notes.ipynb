{
 "cells": [
  {
   "cell_type": "code",
   "execution_count": 2,
   "metadata": {},
   "outputs": [],
   "source": [
    "import numpy as np"
   ]
  },
  {
   "cell_type": "markdown",
   "metadata": {},
   "source": [
    "## Notes"
   ]
  },
  {
   "cell_type": "markdown",
   "metadata": {},
   "source": [
    "## **numpy** \n",
    "- is immutable, homogeneous array (stores same data type) in contiguous memory\n",
    "- NumPy - ‘Numerical Python’ is meant for scientific calculations. \n",
    "- numpy is not a base python module. It is 3rd party module\n",
    "- Can hold data of types - int, float, string\n",
    "- Advantages over lists:\n",
    "    - Allow you to operate over the entire data, unlike lists\n",
    "    - Speed of execution\n",
    "- Creating NumPy Arrays\n",
    "    - Convert lists or tuples to arrays using np.array\n",
    "    - Initialise fixed-length arrays using the NumPy functions\n",
    "- np.array(p)\n",
    "- len, size, itemsize, shape, ndim, dtype\n",
    "- indexing --> single element --> np_2d[row index, col index]\n",
    "- slicing --> many elements --> np_2d[row range, col range] \n",
    "    - where range = [start:end (excluded):skip] \n",
    "- np_2[2] = np_2d[2,] = np_2d[2,:]\n",
    "- conditional subset\n",
    "- Built-in functions: min, max, mean, power, absolute, sin, cos, tan, exp, exp2, log\n",
    "- Aggregates: np.add.reduce(x), np.add.accumulate(x), np.multiply.accumulate(x)\n",
    "- axis = 0 --> row; axis = 1 --> column\n",
    "- Creating numpy arrays\n",
    "    - np.ones() --> np.ones((5,3))\n",
    "    - np.zeros()\n",
    "    - np.random.randint() : 1D array --> np.random.randint(3,5, size=10)\n",
    "    - np.random.random() : nD array --> np.random.random([3,4])\n",
    "    - np.arange(start,end (excluded),skip): It is used to create an array with increments of fixed step size. --> np.arange(3,35,2)\n",
    "    - np.linspace(): It is used to create an array of fixed length.\n",
    "- Reshape: reshape(3,3)\n",
    "- Stacking operations: np.hstack(), np.vstack()\n",
    "- Linear Algebra: np.linalg.det(A), np.linalg.inv(A), np.matmul(A,B), np.linalg.matrix_power(A,3)\n"
   ]
  },
  {
   "cell_type": "markdown",
   "metadata": {},
   "source": [
    "## Difference between len, size, shape, dim"
   ]
  },
  {
   "cell_type": "code",
   "execution_count": 3,
   "metadata": {},
   "outputs": [
    {
     "name": "stdout",
     "output_type": "stream",
     "text": [
      "[[1 5 4 5]\n",
      " [3 7 8 7]\n",
      " [4 9 4 6]]\n",
      "<class 'numpy.ndarray'>\n",
      "len: 3\n",
      "size: 12\n",
      "itemsize: 8 bytes\n",
      "Memory consumption: 96 bytes\n",
      "shape: (3, 4)\n",
      "ndim: 2\n"
     ]
    }
   ],
   "source": [
    "p = [[1, 5, 4, 5],\n",
    "    [3, 7, 8, 7],\n",
    "    [4, 9, 4, 6]]\n",
    "arr = np.array(p)\n",
    "print(arr)\n",
    "print(type(arr))\n",
    "print(\"len:\", len(arr))\n",
    "print(\"size:\", arr.size)\n",
    "print(\"itemsize:\", arr.itemsize, \"bytes\")\n",
    "print(\"Memory consumption:\", arr.size * arr.itemsize, \"bytes\")\n",
    "print(\"shape:\", arr.shape)\n",
    "print(\"ndim:\", arr.ndim)"
   ]
  },
  {
   "cell_type": "code",
   "execution_count": 8,
   "metadata": {},
   "outputs": [
    {
     "name": "stdout",
     "output_type": "stream",
     "text": [
      "[[ True False  True False]\n",
      " [ True False False False]\n",
      " [ True False  True False]]\n"
     ]
    },
    {
     "data": {
      "text/plain": [
       "array([1, 4, 3, 4, 4])"
      ]
     },
     "execution_count": 8,
     "metadata": {},
     "output_type": "execute_result"
    }
   ],
   "source": [
    "# Conditional subset\n",
    "print(arr < 5)\n",
    "arr[arr < 5]"
   ]
  },
  {
   "cell_type": "code",
   "execution_count": 27,
   "metadata": {},
   "outputs": [
    {
     "name": "stdout",
     "output_type": "stream",
     "text": [
      "[[1 5 4 5]\n",
      " [3 7 8 7]\n",
      " [4 9 4 6]]\n",
      "len: 3\n",
      "size: 12\n",
      "shape: (3, 4)\n",
      "ndim: 2\n"
     ]
    }
   ],
   "source": [
    "arr = np.reshape(arr, (3, 4))\n",
    "print(arr)\n",
    "print(\"len:\", len(arr))\n",
    "print(\"size:\", arr.size)\n",
    "print(\"shape:\", arr.shape)\n",
    "print(\"ndim:\", arr.ndim)"
   ]
  },
  {
   "cell_type": "code",
   "execution_count": 28,
   "metadata": {},
   "outputs": [
    {
     "name": "stdout",
     "output_type": "stream",
     "text": [
      "[[1 5 4]\n",
      " [5 3 7]\n",
      " [8 7 4]\n",
      " [9 4 6]]\n",
      "len: 4\n",
      "size: 12\n",
      "shape: (4, 3)\n",
      "ndim: 2\n"
     ]
    }
   ],
   "source": [
    "arr = np.reshape(arr, (4, 3))\n",
    "print(arr)\n",
    "print(\"len:\", len(arr))\n",
    "print(\"size:\", arr.size)\n",
    "print(\"shape:\", arr.shape)\n",
    "print(\"ndim:\", arr.ndim)"
   ]
  },
  {
   "cell_type": "code",
   "execution_count": 30,
   "metadata": {},
   "outputs": [
    {
     "name": "stdout",
     "output_type": "stream",
     "text": [
      "[5 3 7]\n",
      "[5 3 7]\n",
      "[5 3 7]\n"
     ]
    }
   ],
   "source": [
    "print(arr[1])\n",
    "print(arr[1,])\n",
    "print(arr[1,:])"
   ]
  },
  {
   "cell_type": "code",
   "execution_count": 32,
   "metadata": {},
   "outputs": [
    {
     "name": "stdout",
     "output_type": "stream",
     "text": [
      "[5 3 7 4]\n",
      "[[5]\n",
      " [3]\n",
      " [7]\n",
      " [4]]\n"
     ]
    }
   ],
   "source": [
    "print(arr[:,1])\n",
    "print(arr[:,[1]])"
   ]
  },
  {
   "cell_type": "code",
   "execution_count": 19,
   "metadata": {},
   "outputs": [
    {
     "name": "stdout",
     "output_type": "stream",
     "text": [
      "[[[1 5]\n",
      "  [4 5]\n",
      "  [3 7]]\n",
      "\n",
      " [[8 7]\n",
      "  [4 9]\n",
      "  [4 6]]]\n",
      "len: 2\n",
      "size: 12\n",
      "shape: (2, 3, 2)\n",
      "ndim: 3\n"
     ]
    }
   ],
   "source": [
    "arr_3d = np.reshape(arr, (2, 3 , 2))\n",
    "print(arr_3d)\n",
    "print(\"len:\", len(arr_3d))\n",
    "print(\"size:\", arr_3d.size)\n",
    "print(\"shape:\", arr_3d.shape)\n",
    "print(\"ndim:\", arr_3d.ndim)"
   ]
  },
  {
   "cell_type": "code",
   "execution_count": 5,
   "metadata": {},
   "outputs": [
    {
     "name": "stdout",
     "output_type": "stream",
     "text": [
      "140659902935760 [[1 5 4 5]\n",
      " [3 7 8 7]\n",
      " [4 9 4 6]]\n"
     ]
    }
   ],
   "source": [
    "p = [[1, 5, 4, 5],\n",
    " [3, 7, 8, 7],\n",
    " [4, 9, 4, 6]]\n",
    "arr = np.array(p)\n",
    "print(id(arr), arr)"
   ]
  },
  {
   "cell_type": "code",
   "execution_count": 6,
   "metadata": {},
   "outputs": [
    {
     "name": "stdout",
     "output_type": "stream",
     "text": [
      "1\n",
      "140659902935760 11\n"
     ]
    }
   ],
   "source": [
    "print(arr[0,0])\n",
    "arr[0,0] = 11\n",
    "print(id(arr), arr[0,0])"
   ]
  },
  {
   "cell_type": "code",
   "execution_count": 7,
   "metadata": {},
   "outputs": [
    {
     "name": "stdout",
     "output_type": "stream",
     "text": [
      "140659890555088 [[[11  5]\n",
      "  [ 4  5]\n",
      "  [ 3  7]]\n",
      "\n",
      " [[ 8  7]\n",
      "  [ 4  9]\n",
      "  [ 4  6]]]\n"
     ]
    }
   ],
   "source": [
    "arr_3d = np.reshape(arr, (2, 3 , 2))\n",
    "print(id(arr_3d), arr_3d)"
   ]
  },
  {
   "cell_type": "code",
   "execution_count": 11,
   "metadata": {},
   "outputs": [
    {
     "ename": "ValueError",
     "evalue": "assignment destination is read-only",
     "output_type": "error",
     "traceback": [
      "\u001b[0;31m---------------------------------------------------------------------------\u001b[0m",
      "\u001b[0;31mValueError\u001b[0m                                Traceback (most recent call last)",
      "\u001b[0;32m<ipython-input-11-185787f6a79d>\u001b[0m in \u001b[0;36m<module>\u001b[0;34m\u001b[0m\n\u001b[1;32m      1\u001b[0m \u001b[0ma\u001b[0m \u001b[0;34m=\u001b[0m \u001b[0mnp\u001b[0m\u001b[0;34m.\u001b[0m\u001b[0marange\u001b[0m\u001b[0;34m(\u001b[0m\u001b[0;36m10\u001b[0m\u001b[0;34m)\u001b[0m\u001b[0;34m\u001b[0m\u001b[0;34m\u001b[0m\u001b[0m\n\u001b[1;32m      2\u001b[0m \u001b[0ma\u001b[0m\u001b[0;34m.\u001b[0m\u001b[0mflags\u001b[0m\u001b[0;34m.\u001b[0m\u001b[0mwriteable\u001b[0m \u001b[0;34m=\u001b[0m \u001b[0;32mFalse\u001b[0m\u001b[0;34m\u001b[0m\u001b[0;34m\u001b[0m\u001b[0m\n\u001b[0;32m----> 3\u001b[0;31m \u001b[0ma\u001b[0m\u001b[0;34m[\u001b[0m\u001b[0;36m0\u001b[0m\u001b[0;34m]\u001b[0m \u001b[0;34m=\u001b[0m \u001b[0;36m1\u001b[0m\u001b[0;34m\u001b[0m\u001b[0;34m\u001b[0m\u001b[0m\n\u001b[0m\u001b[1;32m      4\u001b[0m \u001b[0ma\u001b[0m\u001b[0;34m\u001b[0m\u001b[0;34m\u001b[0m\u001b[0m\n",
      "\u001b[0;31mValueError\u001b[0m: assignment destination is read-only"
     ]
    }
   ],
   "source": [
    "a = np.arange(10)\n",
    "a.flags.writeable = False\n",
    "a[0] = 1\n",
    "a"
   ]
  },
  {
   "cell_type": "code",
   "execution_count": 15,
   "metadata": {},
   "outputs": [
    {
     "name": "stdout",
     "output_type": "stream",
     "text": [
      "BEFORE RESHAPE: address: 140659906049392 [[1 5 4 5]\n",
      " [3 7 8 7]\n",
      " [4 9 4 6]]\n",
      "AFTER RESHAPE: address: 140659906912496 [[[1 5]\n",
      "  [4 5]\n",
      "  [3 7]]\n",
      "\n",
      " [[8 7]\n",
      "  [4 9]\n",
      "  [4 6]]]\n"
     ]
    }
   ],
   "source": [
    "p = [[1, 5, 4, 5],\n",
    " [3, 7, 8, 7],\n",
    " [4, 9, 4, 6]]\n",
    "arr = np.array(p)\n",
    "print(\"BEFORE RESHAPE: address:\", id(arr), arr) # id is the object's memory address\n",
    "\n",
    "arr_3d = np.reshape(arr, (2, 3 , 2))\n",
    "print(\"AFTER RESHAPE: address:\", id(arr_3d), arr_3d)"
   ]
  },
  {
   "cell_type": "code",
   "execution_count": 19,
   "metadata": {},
   "outputs": [
    {
     "data": {
      "text/plain": [
       "7"
      ]
     },
     "execution_count": 19,
     "metadata": {},
     "output_type": "execute_result"
    }
   ],
   "source": [
    "arr[1,1]"
   ]
  },
  {
   "cell_type": "code",
   "execution_count": 24,
   "metadata": {},
   "outputs": [
    {
     "data": {
      "text/plain": [
       "array([[4, 5],\n",
       "       [8, 7]])"
      ]
     },
     "execution_count": 24,
     "metadata": {},
     "output_type": "execute_result"
    }
   ],
   "source": [
    "arr[:2,-2:]"
   ]
  },
  {
   "cell_type": "code",
   "execution_count": 25,
   "metadata": {},
   "outputs": [
    {
     "data": {
      "text/plain": [
       "array([[ 1,  3],\n",
       "       [ 5,  7],\n",
       "       [ 9, 11],\n",
       "       [13, 15]])"
      ]
     },
     "execution_count": 25,
     "metadata": {},
     "output_type": "execute_result"
    }
   ],
   "source": [
    "np.arange(1,16,2).reshape(4, 2)"
   ]
  },
  {
   "cell_type": "code",
   "execution_count": 18,
   "metadata": {},
   "outputs": [
    {
     "name": "stdout",
     "output_type": "stream",
     "text": [
      "140659886765232 4 [1, 2, 3, 4]\n",
      "140659886765232 5 [1, 2, 3, 4, 5]\n"
     ]
    }
   ],
   "source": [
    "l1 = [1 ,2, 3, 4]\n",
    "print(id(l1), len(l1), l1)\n",
    "l1.append(5)\n",
    "print(id(l1), len(l1), l1)"
   ]
  },
  {
   "cell_type": "code",
   "execution_count": 26,
   "metadata": {},
   "outputs": [],
   "source": [
    "'''\n",
    "Print \"+\"\n",
    "Description\n",
    "Given a single positive odd integer 'n' greater than 2, create a NumPy array of size (n x n) with all zeros and ones such that the ones make a shape like '+'. The lines of the plus must be present at the middle row and column.\n",
    "Hint: Start by creating a (n x n) array with all zeroes using the np.zeros() function and then fill in the ones at the appropriate indices. Use integer division (//) to access the middle rows and columns\n",
    "Examples:\n",
    "Input 1:\n",
    "3\n",
    "\n",
    "Output 1:\n",
    "[[0 1 0]\n",
    " [1 1 1]\n",
    " [0 1 0]]\n",
    "\n",
    "Input 2:\n",
    "5\n",
    "\n",
    "Output 1:\n",
    "[[0 0 1 0 0]\n",
    " [0 0 1 0 0]\n",
    " [1 1 1 1 1]\n",
    " [0 0 1 0 0]\n",
    " [0 0 1 0 0]]\n",
    "\n",
    "Explanation: Notice that the 1s in the arrays make a shape like '+'.\n",
    "'''"
   ]
  },
  {
   "cell_type": "code",
   "execution_count": 38,
   "metadata": {},
   "outputs": [
    {
     "data": {
      "text/plain": [
       "array([[0, 0, 0, 0, 0],\n",
       "       [0, 0, 0, 0, 0],\n",
       "       [0, 0, 0, 0, 0],\n",
       "       [0, 0, 0, 0, 0],\n",
       "       [0, 0, 0, 0, 0]])"
      ]
     },
     "execution_count": 38,
     "metadata": {},
     "output_type": "execute_result"
    }
   ],
   "source": [
    "n = 5 \n",
    "arr = np.zeros((n,n),dtype=int)\n",
    "arr"
   ]
  },
  {
   "cell_type": "code",
   "execution_count": 39,
   "metadata": {},
   "outputs": [
    {
     "data": {
      "text/plain": [
       "array([[0, 0, 1, 0, 0],\n",
       "       [0, 0, 1, 0, 0],\n",
       "       [1, 1, 1, 1, 1],\n",
       "       [0, 0, 1, 0, 0],\n",
       "       [0, 0, 1, 0, 0]])"
      ]
     },
     "execution_count": 39,
     "metadata": {},
     "output_type": "execute_result"
    }
   ],
   "source": [
    "mid = n//2\n",
    "arr[:, mid] = 1\n",
    "arr[mid, :] = 1\n",
    "arr"
   ]
  },
  {
   "cell_type": "code",
   "execution_count": 9,
   "metadata": {},
   "outputs": [
    {
     "name": "stdout",
     "output_type": "stream",
     "text": [
      "[[11, 12, 13, 14], [21, 22, 23, 24], [31, 32, 33, 34]]\n",
      "[[11 12 13 14]\n",
      " [21 22 23 24]\n",
      " [31 32 33 34]]\n"
     ]
    },
    {
     "data": {
      "text/plain": [
       "(array([11, 12, 13, 14]),\n",
       " array([14, 24, 34]),\n",
       " array([31, 32, 33, 34]),\n",
       " array([11, 21, 31]))"
      ]
     },
     "execution_count": 9,
     "metadata": {},
     "output_type": "execute_result"
    }
   ],
   "source": [
    "import numpy as np\n",
    "x = [[11, 12, 13, 14], [21, 22, 23, 24], [31, 32, 33, 34]];print(x)\n",
    "xarr = np.array(x)\n",
    "print(xarr)\n",
    "xarr[0], xarr[:,-1], xarr[-1], xarr[:, 0]"
   ]
  },
  {
   "cell_type": "code",
   "execution_count": 18,
   "metadata": {},
   "outputs": [
    {
     "data": {
      "text/plain": [
       "array([[5, 3, 0, 4],\n",
       "       [5, 5, 3, 0],\n",
       "       [0, 2, 2, 2]])"
      ]
     },
     "execution_count": 18,
     "metadata": {},
     "output_type": "execute_result"
    }
   ],
   "source": [
    "np.random.randint(7, size=[3, 4])"
   ]
  }
 ],
 "metadata": {
  "interpreter": {
   "hash": "f97d34db9510eee530bd15462a1472e6c8ea8cdd282363a5122dd2d3fb534a0c"
  },
  "kernelspec": {
   "display_name": "Python 3.7.9 64-bit ('venv': venv)",
   "name": "python3"
  },
  "language_info": {
   "codemirror_mode": {
    "name": "ipython",
    "version": 3
   },
   "file_extension": ".py",
   "mimetype": "text/x-python",
   "name": "python",
   "nbconvert_exporter": "python",
   "pygments_lexer": "ipython3",
   "version": "3.7.9"
  },
  "orig_nbformat": 3
 },
 "nbformat": 4,
 "nbformat_minor": 2
}
