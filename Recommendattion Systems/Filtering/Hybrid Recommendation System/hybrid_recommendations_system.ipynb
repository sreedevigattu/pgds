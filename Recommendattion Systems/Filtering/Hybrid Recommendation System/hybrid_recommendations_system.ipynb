{
 "cells": [
  {
   "cell_type": "markdown",
   "metadata": {},
   "source": [
    "# Hybrid Recommendation System: Combine Collaborative & Content based "
   ]
  },
  {
   "cell_type": "code",
   "execution_count": 1,
   "metadata": {},
   "outputs": [],
   "source": [
    "import pandas as pd\n",
    "import numpy as np"
   ]
  },
  {
   "cell_type": "markdown",
   "metadata": {},
   "source": [
    "# Collaborative Fitering: Item based Model"
   ]
  },
  {
   "cell_type": "markdown",
   "metadata": {},
   "source": [
    "## Load Movies Data"
   ]
  },
  {
   "cell_type": "code",
   "execution_count": 2,
   "metadata": {},
   "outputs": [
    {
     "name": "stdout",
     "output_type": "stream",
     "text": [
      "Index(['adult', 'belongs_to_collection', 'budget', 'genres', 'homepage',\n",
      "       'movie_id', 'imdb_id', 'original_language', 'title', 'keywords',\n",
      "       'popularity', 'poster_path', 'production_companies',\n",
      "       'production_countries', 'release_date', 'revenue', 'runtime',\n",
      "       'spoken_languages', 'status', 'tagline', 'title.1', 'video',\n",
      "       'vote_average', 'vote_count'],\n",
      "      dtype='object')\n"
     ]
    },
    {
     "data": {
      "text/html": [
       "<div>\n",
       "<style scoped>\n",
       "    .dataframe tbody tr th:only-of-type {\n",
       "        vertical-align: middle;\n",
       "    }\n",
       "\n",
       "    .dataframe tbody tr th {\n",
       "        vertical-align: top;\n",
       "    }\n",
       "\n",
       "    .dataframe thead th {\n",
       "        text-align: right;\n",
       "    }\n",
       "</style>\n",
       "<table border=\"1\" class=\"dataframe\">\n",
       "  <thead>\n",
       "    <tr style=\"text-align: right;\">\n",
       "      <th></th>\n",
       "      <th>adult</th>\n",
       "      <th>belongs_to_collection</th>\n",
       "      <th>budget</th>\n",
       "      <th>genres</th>\n",
       "      <th>homepage</th>\n",
       "      <th>movie_id</th>\n",
       "      <th>imdb_id</th>\n",
       "      <th>original_language</th>\n",
       "      <th>title</th>\n",
       "      <th>keywords</th>\n",
       "      <th>...</th>\n",
       "      <th>release_date</th>\n",
       "      <th>revenue</th>\n",
       "      <th>runtime</th>\n",
       "      <th>spoken_languages</th>\n",
       "      <th>status</th>\n",
       "      <th>tagline</th>\n",
       "      <th>title.1</th>\n",
       "      <th>video</th>\n",
       "      <th>vote_average</th>\n",
       "      <th>vote_count</th>\n",
       "    </tr>\n",
       "  </thead>\n",
       "  <tbody>\n",
       "    <tr>\n",
       "      <th>0</th>\n",
       "      <td>False</td>\n",
       "      <td>NaN</td>\n",
       "      <td>0</td>\n",
       "      <td>[{'id': 18, 'name': 'Drama'}, {'id': 80, 'name...</td>\n",
       "      <td>NaN</td>\n",
       "      <td>2</td>\n",
       "      <td>tt0094675</td>\n",
       "      <td>fi</td>\n",
       "      <td>Ariel</td>\n",
       "      <td>Taisto Kasurinen is a Finnish coal miner whose...</td>\n",
       "      <td>...</td>\n",
       "      <td>1988-10-21</td>\n",
       "      <td>0.0</td>\n",
       "      <td>69.0</td>\n",
       "      <td>[{'iso_639_1': 'fi', 'name': 'suomi'}, {'iso_6...</td>\n",
       "      <td>Released</td>\n",
       "      <td>NaN</td>\n",
       "      <td>Ariel</td>\n",
       "      <td>False</td>\n",
       "      <td>7.1</td>\n",
       "      <td>44.0</td>\n",
       "    </tr>\n",
       "    <tr>\n",
       "      <th>1</th>\n",
       "      <td>False</td>\n",
       "      <td>NaN</td>\n",
       "      <td>0</td>\n",
       "      <td>[{'id': 18, 'name': 'Drama'}, {'id': 35, 'name...</td>\n",
       "      <td>NaN</td>\n",
       "      <td>3</td>\n",
       "      <td>tt0092149</td>\n",
       "      <td>fi</td>\n",
       "      <td>Varjoja paratiisissa</td>\n",
       "      <td>An episode in the life of Nikander, a garbage ...</td>\n",
       "      <td>...</td>\n",
       "      <td>1986-10-16</td>\n",
       "      <td>0.0</td>\n",
       "      <td>76.0</td>\n",
       "      <td>[{'iso_639_1': 'en', 'name': 'English'}, {'iso...</td>\n",
       "      <td>Released</td>\n",
       "      <td>NaN</td>\n",
       "      <td>Shadows in Paradise</td>\n",
       "      <td>False</td>\n",
       "      <td>7.1</td>\n",
       "      <td>35.0</td>\n",
       "    </tr>\n",
       "    <tr>\n",
       "      <th>2</th>\n",
       "      <td>False</td>\n",
       "      <td>NaN</td>\n",
       "      <td>4000000</td>\n",
       "      <td>[{'id': 80, 'name': 'Crime'}, {'id': 35, 'name...</td>\n",
       "      <td>NaN</td>\n",
       "      <td>5</td>\n",
       "      <td>tt0113101</td>\n",
       "      <td>en</td>\n",
       "      <td>Four Rooms</td>\n",
       "      <td>It's Ted the Bellhop's first night on the job....</td>\n",
       "      <td>...</td>\n",
       "      <td>1995-12-09</td>\n",
       "      <td>4300000.0</td>\n",
       "      <td>98.0</td>\n",
       "      <td>[{'iso_639_1': 'en', 'name': 'English'}]</td>\n",
       "      <td>Released</td>\n",
       "      <td>Twelve outrageous guests. Four scandalous requ...</td>\n",
       "      <td>Four Rooms</td>\n",
       "      <td>False</td>\n",
       "      <td>6.5</td>\n",
       "      <td>539.0</td>\n",
       "    </tr>\n",
       "    <tr>\n",
       "      <th>3</th>\n",
       "      <td>False</td>\n",
       "      <td>NaN</td>\n",
       "      <td>0</td>\n",
       "      <td>[{'id': 28, 'name': 'Action'}, {'id': 53, 'nam...</td>\n",
       "      <td>NaN</td>\n",
       "      <td>6</td>\n",
       "      <td>tt0107286</td>\n",
       "      <td>en</td>\n",
       "      <td>Judgment Night</td>\n",
       "      <td>While racing to a boxing match, Frank, Mike, J...</td>\n",
       "      <td>...</td>\n",
       "      <td>1993-10-15</td>\n",
       "      <td>12136938.0</td>\n",
       "      <td>110.0</td>\n",
       "      <td>[{'iso_639_1': 'en', 'name': 'English'}]</td>\n",
       "      <td>Released</td>\n",
       "      <td>Don't move. Don't whisper. Don't even breathe.</td>\n",
       "      <td>Judgment Night</td>\n",
       "      <td>False</td>\n",
       "      <td>6.4</td>\n",
       "      <td>79.0</td>\n",
       "    </tr>\n",
       "    <tr>\n",
       "      <th>4</th>\n",
       "      <td>False</td>\n",
       "      <td>{'id': 10, 'name': 'Star Wars Collection', 'po...</td>\n",
       "      <td>11000000</td>\n",
       "      <td>[{'id': 12, 'name': 'Adventure'}, {'id': 28, '...</td>\n",
       "      <td>http://www.starwars.com/films/star-wars-episod...</td>\n",
       "      <td>11</td>\n",
       "      <td>tt0076759</td>\n",
       "      <td>en</td>\n",
       "      <td>Star Wars</td>\n",
       "      <td>Princess Leia is captured and held hostage by ...</td>\n",
       "      <td>...</td>\n",
       "      <td>1977-05-25</td>\n",
       "      <td>775398007.0</td>\n",
       "      <td>121.0</td>\n",
       "      <td>[{'iso_639_1': 'en', 'name': 'English'}]</td>\n",
       "      <td>Released</td>\n",
       "      <td>A long time ago in a galaxy far, far away...</td>\n",
       "      <td>Star Wars</td>\n",
       "      <td>False</td>\n",
       "      <td>8.1</td>\n",
       "      <td>6778.0</td>\n",
       "    </tr>\n",
       "  </tbody>\n",
       "</table>\n",
       "<p>5 rows × 24 columns</p>\n",
       "</div>"
      ],
      "text/plain": [
       "   adult                              belongs_to_collection    budget  \\\n",
       "0  False                                                NaN         0   \n",
       "1  False                                                NaN         0   \n",
       "2  False                                                NaN   4000000   \n",
       "3  False                                                NaN         0   \n",
       "4  False  {'id': 10, 'name': 'Star Wars Collection', 'po...  11000000   \n",
       "\n",
       "                                              genres  \\\n",
       "0  [{'id': 18, 'name': 'Drama'}, {'id': 80, 'name...   \n",
       "1  [{'id': 18, 'name': 'Drama'}, {'id': 35, 'name...   \n",
       "2  [{'id': 80, 'name': 'Crime'}, {'id': 35, 'name...   \n",
       "3  [{'id': 28, 'name': 'Action'}, {'id': 53, 'nam...   \n",
       "4  [{'id': 12, 'name': 'Adventure'}, {'id': 28, '...   \n",
       "\n",
       "                                            homepage  movie_id    imdb_id  \\\n",
       "0                                                NaN         2  tt0094675   \n",
       "1                                                NaN         3  tt0092149   \n",
       "2                                                NaN         5  tt0113101   \n",
       "3                                                NaN         6  tt0107286   \n",
       "4  http://www.starwars.com/films/star-wars-episod...        11  tt0076759   \n",
       "\n",
       "  original_language                 title  \\\n",
       "0                fi                 Ariel   \n",
       "1                fi  Varjoja paratiisissa   \n",
       "2                en            Four Rooms   \n",
       "3                en        Judgment Night   \n",
       "4                en             Star Wars   \n",
       "\n",
       "                                            keywords  ...  release_date  \\\n",
       "0  Taisto Kasurinen is a Finnish coal miner whose...  ...    1988-10-21   \n",
       "1  An episode in the life of Nikander, a garbage ...  ...    1986-10-16   \n",
       "2  It's Ted the Bellhop's first night on the job....  ...    1995-12-09   \n",
       "3  While racing to a boxing match, Frank, Mike, J...  ...    1993-10-15   \n",
       "4  Princess Leia is captured and held hostage by ...  ...    1977-05-25   \n",
       "\n",
       "       revenue runtime                                   spoken_languages  \\\n",
       "0          0.0    69.0  [{'iso_639_1': 'fi', 'name': 'suomi'}, {'iso_6...   \n",
       "1          0.0    76.0  [{'iso_639_1': 'en', 'name': 'English'}, {'iso...   \n",
       "2    4300000.0    98.0           [{'iso_639_1': 'en', 'name': 'English'}]   \n",
       "3   12136938.0   110.0           [{'iso_639_1': 'en', 'name': 'English'}]   \n",
       "4  775398007.0   121.0           [{'iso_639_1': 'en', 'name': 'English'}]   \n",
       "\n",
       "     status                                            tagline  \\\n",
       "0  Released                                                NaN   \n",
       "1  Released                                                NaN   \n",
       "2  Released  Twelve outrageous guests. Four scandalous requ...   \n",
       "3  Released     Don't move. Don't whisper. Don't even breathe.   \n",
       "4  Released       A long time ago in a galaxy far, far away...   \n",
       "\n",
       "               title.1  video vote_average vote_count  \n",
       "0                Ariel  False          7.1       44.0  \n",
       "1  Shadows in Paradise  False          7.1       35.0  \n",
       "2           Four Rooms  False          6.5      539.0  \n",
       "3       Judgment Night  False          6.4       79.0  \n",
       "4            Star Wars  False          8.1     6778.0  \n",
       "\n",
       "[5 rows x 24 columns]"
      ]
     },
     "execution_count": 2,
     "metadata": {},
     "output_type": "execute_result"
    }
   ],
   "source": [
    "movies = pd.read_csv('movies_metadata_final.csv')\n",
    "print(movies.columns)\n",
    "movies.head()"
   ]
  },
  {
   "cell_type": "code",
   "execution_count": 3,
   "metadata": {},
   "outputs": [
    {
     "data": {
      "text/plain": [
       "((45462, 2),\n",
       "    movie_id                 title\n",
       " 0         2                 Ariel\n",
       " 1         3  Varjoja paratiisissa\n",
       " 2         5            Four Rooms\n",
       " 3         6        Judgment Night\n",
       " 4        11             Star Wars)"
      ]
     },
     "execution_count": 3,
     "metadata": {},
     "output_type": "execute_result"
    }
   ],
   "source": [
    "movies = movies[['movie_id', 'title']]\n",
    "movies.shape, movies.head()"
   ]
  },
  {
   "cell_type": "code",
   "execution_count": 4,
   "metadata": {
    "scrolled": false
   },
   "outputs": [
    {
     "data": {
      "text/plain": [
       "(movie_id    45432\n",
       " title       43369\n",
       " dtype: int64,\n",
       " movie_id     int64\n",
       " title       object\n",
       " dtype: object)"
      ]
     },
     "execution_count": 4,
     "metadata": {},
     "output_type": "execute_result"
    }
   ],
   "source": [
    "movies.nunique(), movies.dtypes"
   ]
  },
  {
   "cell_type": "markdown",
   "metadata": {},
   "source": [
    "## Load Ratings Data"
   ]
  },
  {
   "cell_type": "code",
   "execution_count": 5,
   "metadata": {},
   "outputs": [
    {
     "data": {
      "text/plain": [
       "((100004, 4),\n",
       "    user_id  movie_id  rating   timestamp\n",
       " 0        1        31     2.5  1260759144\n",
       " 1        1      1029     3.0  1260759179\n",
       " 2        1      1061     3.0  1260759182\n",
       " 3        1      1129     2.0  1260759185\n",
       " 4        1      1172     4.0  1260759205)"
      ]
     },
     "execution_count": 5,
     "metadata": {},
     "output_type": "execute_result"
    }
   ],
   "source": [
    "ratings = pd.read_csv('ratings_small.csv')\n",
    "ratings.shape, ratings.head()"
   ]
  },
  {
   "cell_type": "code",
   "execution_count": 6,
   "metadata": {},
   "outputs": [
    {
     "data": {
      "text/plain": [
       "user_id        671\n",
       "movie_id      9066\n",
       "rating          10\n",
       "timestamp    78141\n",
       "dtype: int64"
      ]
     },
     "execution_count": 6,
     "metadata": {},
     "output_type": "execute_result"
    }
   ],
   "source": [
    "ratings.nunique()"
   ]
  },
  {
   "cell_type": "code",
   "execution_count": 7,
   "metadata": {},
   "outputs": [],
   "source": [
    "ratings.drop(['timestamp'], axis=1, inplace=True)"
   ]
  },
  {
   "cell_type": "code",
   "execution_count": 8,
   "metadata": {},
   "outputs": [
    {
     "data": {
      "text/html": [
       "<div>\n",
       "<style scoped>\n",
       "    .dataframe tbody tr th:only-of-type {\n",
       "        vertical-align: middle;\n",
       "    }\n",
       "\n",
       "    .dataframe tbody tr th {\n",
       "        vertical-align: top;\n",
       "    }\n",
       "\n",
       "    .dataframe thead th {\n",
       "        text-align: right;\n",
       "    }\n",
       "</style>\n",
       "<table border=\"1\" class=\"dataframe\">\n",
       "  <thead>\n",
       "    <tr style=\"text-align: right;\">\n",
       "      <th></th>\n",
       "      <th>user_id</th>\n",
       "      <th>movie_id</th>\n",
       "      <th>rating</th>\n",
       "    </tr>\n",
       "  </thead>\n",
       "  <tbody>\n",
       "    <tr>\n",
       "      <th>0</th>\n",
       "      <td>1</td>\n",
       "      <td>31</td>\n",
       "      <td>2.5</td>\n",
       "    </tr>\n",
       "    <tr>\n",
       "      <th>1</th>\n",
       "      <td>1</td>\n",
       "      <td>1029</td>\n",
       "      <td>3.0</td>\n",
       "    </tr>\n",
       "    <tr>\n",
       "      <th>2</th>\n",
       "      <td>1</td>\n",
       "      <td>1061</td>\n",
       "      <td>3.0</td>\n",
       "    </tr>\n",
       "    <tr>\n",
       "      <th>3</th>\n",
       "      <td>1</td>\n",
       "      <td>1129</td>\n",
       "      <td>2.0</td>\n",
       "    </tr>\n",
       "    <tr>\n",
       "      <th>4</th>\n",
       "      <td>1</td>\n",
       "      <td>1172</td>\n",
       "      <td>4.0</td>\n",
       "    </tr>\n",
       "  </tbody>\n",
       "</table>\n",
       "</div>"
      ],
      "text/plain": [
       "   user_id  movie_id  rating\n",
       "0        1        31     2.5\n",
       "1        1      1029     3.0\n",
       "2        1      1061     3.0\n",
       "3        1      1129     2.0\n",
       "4        1      1172     4.0"
      ]
     },
     "execution_count": 8,
     "metadata": {},
     "output_type": "execute_result"
    }
   ],
   "source": [
    "ratings.head()"
   ]
  },
  {
   "cell_type": "code",
   "execution_count": 9,
   "metadata": {},
   "outputs": [
    {
     "data": {
      "text/html": [
       "<div>\n",
       "<style scoped>\n",
       "    .dataframe tbody tr th:only-of-type {\n",
       "        vertical-align: middle;\n",
       "    }\n",
       "\n",
       "    .dataframe tbody tr th {\n",
       "        vertical-align: top;\n",
       "    }\n",
       "\n",
       "    .dataframe thead th {\n",
       "        text-align: right;\n",
       "    }\n",
       "</style>\n",
       "<table border=\"1\" class=\"dataframe\">\n",
       "  <thead>\n",
       "    <tr style=\"text-align: right;\">\n",
       "      <th></th>\n",
       "      <th>user_id</th>\n",
       "      <th>movie_id</th>\n",
       "      <th>rating</th>\n",
       "    </tr>\n",
       "  </thead>\n",
       "  <tbody>\n",
       "    <tr>\n",
       "      <th>count</th>\n",
       "      <td>100004.000000</td>\n",
       "      <td>100004.000000</td>\n",
       "      <td>100004.000000</td>\n",
       "    </tr>\n",
       "    <tr>\n",
       "      <th>mean</th>\n",
       "      <td>347.011310</td>\n",
       "      <td>12548.664363</td>\n",
       "      <td>3.543608</td>\n",
       "    </tr>\n",
       "    <tr>\n",
       "      <th>std</th>\n",
       "      <td>195.163838</td>\n",
       "      <td>26369.198969</td>\n",
       "      <td>1.058064</td>\n",
       "    </tr>\n",
       "    <tr>\n",
       "      <th>min</th>\n",
       "      <td>1.000000</td>\n",
       "      <td>1.000000</td>\n",
       "      <td>0.500000</td>\n",
       "    </tr>\n",
       "    <tr>\n",
       "      <th>25%</th>\n",
       "      <td>182.000000</td>\n",
       "      <td>1028.000000</td>\n",
       "      <td>3.000000</td>\n",
       "    </tr>\n",
       "    <tr>\n",
       "      <th>50%</th>\n",
       "      <td>367.000000</td>\n",
       "      <td>2406.500000</td>\n",
       "      <td>4.000000</td>\n",
       "    </tr>\n",
       "    <tr>\n",
       "      <th>75%</th>\n",
       "      <td>520.000000</td>\n",
       "      <td>5418.000000</td>\n",
       "      <td>4.000000</td>\n",
       "    </tr>\n",
       "    <tr>\n",
       "      <th>max</th>\n",
       "      <td>671.000000</td>\n",
       "      <td>163949.000000</td>\n",
       "      <td>5.000000</td>\n",
       "    </tr>\n",
       "  </tbody>\n",
       "</table>\n",
       "</div>"
      ],
      "text/plain": [
       "             user_id       movie_id         rating\n",
       "count  100004.000000  100004.000000  100004.000000\n",
       "mean      347.011310   12548.664363       3.543608\n",
       "std       195.163838   26369.198969       1.058064\n",
       "min         1.000000       1.000000       0.500000\n",
       "25%       182.000000    1028.000000       3.000000\n",
       "50%       367.000000    2406.500000       4.000000\n",
       "75%       520.000000    5418.000000       4.000000\n",
       "max       671.000000  163949.000000       5.000000"
      ]
     },
     "execution_count": 9,
     "metadata": {},
     "output_type": "execute_result"
    }
   ],
   "source": [
    "ratings.describe()"
   ]
  },
  {
   "cell_type": "code",
   "execution_count": 10,
   "metadata": {},
   "outputs": [
    {
     "data": {
      "text/plain": [
       "(671, 9066)"
      ]
     },
     "execution_count": 10,
     "metadata": {},
     "output_type": "execute_result"
    }
   ],
   "source": [
    "n_users = ratings.user_id.nunique()\n",
    "n_items = ratings.movie_id.nunique()\n",
    "n_users, n_items"
   ]
  },
  {
   "cell_type": "markdown",
   "metadata": {},
   "source": [
    "## Create Pivot Matrix from rating values"
   ]
  },
  {
   "cell_type": "code",
   "execution_count": 11,
   "metadata": {},
   "outputs": [
    {
     "data": {
      "text/plain": [
       "((671, 9066),\n",
       " movie_id  1       2       3       4       5       6       7       8       \\\n",
       " user_id                                                                    \n",
       " 1            0.0     0.0     0.0     0.0     0.0     0.0     0.0     0.0   \n",
       " 2            0.0     0.0     0.0     0.0     0.0     0.0     0.0     0.0   \n",
       " 3            0.0     0.0     0.0     0.0     0.0     0.0     0.0     0.0   \n",
       " 4            0.0     0.0     0.0     0.0     0.0     0.0     0.0     0.0   \n",
       " 5            0.0     0.0     4.0     0.0     0.0     0.0     0.0     0.0   \n",
       " \n",
       " movie_id  9       10      ...  161084  161155  161594  161830  161918  161944  \\\n",
       " user_id                   ...                                                   \n",
       " 1            0.0     0.0  ...     0.0     0.0     0.0     0.0     0.0     0.0   \n",
       " 2            0.0     4.0  ...     0.0     0.0     0.0     0.0     0.0     0.0   \n",
       " 3            0.0     0.0  ...     0.0     0.0     0.0     0.0     0.0     0.0   \n",
       " 4            0.0     4.0  ...     0.0     0.0     0.0     0.0     0.0     0.0   \n",
       " 5            0.0     0.0  ...     0.0     0.0     0.0     0.0     0.0     0.0   \n",
       " \n",
       " movie_id  162376  162542  162672  163949  \n",
       " user_id                                   \n",
       " 1            0.0     0.0     0.0     0.0  \n",
       " 2            0.0     0.0     0.0     0.0  \n",
       " 3            0.0     0.0     0.0     0.0  \n",
       " 4            0.0     0.0     0.0     0.0  \n",
       " 5            0.0     0.0     0.0     0.0  \n",
       " \n",
       " [5 rows x 9066 columns])"
      ]
     },
     "execution_count": 11,
     "metadata": {},
     "output_type": "execute_result"
    }
   ],
   "source": [
    "data_matrix = ratings.pivot(\n",
    "    index='user_id',\n",
    "    columns='movie_id',\n",
    "    values='rating'\n",
    ").fillna(0)\n",
    "data_matrix.shape, data_matrix.head()"
   ]
  },
  {
   "cell_type": "markdown",
   "metadata": {},
   "source": [
    "# Pairwise Distance"
   ]
  },
  {
   "cell_type": "markdown",
   "metadata": {},
   "source": [
    "## Movies pairwise similarity distance"
   ]
  },
  {
   "cell_type": "code",
   "execution_count": 12,
   "metadata": {
    "scrolled": true
   },
   "outputs": [
    {
     "data": {
      "text/plain": [
       "((9066, 671),\n",
       " user_id   1    2    3    4    5    6    7    8    9    10   ...  662  663  \\\n",
       " movie_id                                                    ...             \n",
       " 1         0.0  0.0  0.0  0.0  0.0  0.0  3.0  0.0  4.0  0.0  ...  0.0  4.0   \n",
       " 2         0.0  0.0  0.0  0.0  0.0  0.0  0.0  0.0  0.0  0.0  ...  5.0  0.0   \n",
       " 3         0.0  0.0  0.0  0.0  4.0  0.0  0.0  0.0  0.0  0.0  ...  0.0  0.0   \n",
       " 4         0.0  0.0  0.0  0.0  0.0  0.0  0.0  0.0  0.0  0.0  ...  0.0  0.0   \n",
       " 5         0.0  0.0  0.0  0.0  0.0  0.0  0.0  0.0  0.0  0.0  ...  0.0  0.0   \n",
       " ...       ...  ...  ...  ...  ...  ...  ...  ...  ...  ...  ...  ...  ...   \n",
       " 161944    0.0  0.0  0.0  0.0  0.0  0.0  0.0  0.0  0.0  0.0  ...  0.0  0.0   \n",
       " 162376    0.0  0.0  0.0  0.0  0.0  0.0  0.0  0.0  0.0  0.0  ...  0.0  0.0   \n",
       " 162542    0.0  0.0  0.0  0.0  0.0  0.0  0.0  0.0  0.0  0.0  ...  0.0  0.0   \n",
       " 162672    0.0  0.0  0.0  0.0  0.0  0.0  0.0  0.0  0.0  0.0  ...  0.0  0.0   \n",
       " 163949    0.0  0.0  0.0  0.0  0.0  0.0  0.0  0.0  0.0  0.0  ...  0.0  0.0   \n",
       " \n",
       " user_id   664  665  666  667  668  669  670  671  \n",
       " movie_id                                          \n",
       " 1         3.5  0.0  0.0  0.0  0.0  0.0  4.0  5.0  \n",
       " 2         0.0  3.0  0.0  0.0  0.0  0.0  0.0  0.0  \n",
       " 3         0.0  3.0  0.0  0.0  0.0  0.0  0.0  0.0  \n",
       " 4         0.0  0.0  0.0  0.0  0.0  0.0  0.0  0.0  \n",
       " 5         0.0  3.0  0.0  0.0  0.0  0.0  0.0  0.0  \n",
       " ...       ...  ...  ...  ...  ...  ...  ...  ...  \n",
       " 161944    0.0  0.0  0.0  0.0  0.0  0.0  0.0  0.0  \n",
       " 162376    0.0  0.0  0.0  0.0  0.0  0.0  0.0  0.0  \n",
       " 162542    0.0  0.0  0.0  0.0  0.0  0.0  0.0  0.0  \n",
       " 162672    0.0  0.0  0.0  0.0  0.0  0.0  0.0  0.0  \n",
       " 163949    0.0  0.0  0.0  0.0  0.0  0.0  0.0  0.0  \n",
       " \n",
       " [9066 rows x 671 columns])"
      ]
     },
     "execution_count": 12,
     "metadata": {},
     "output_type": "execute_result"
    }
   ],
   "source": [
    "data_matrix.T.shape, data_matrix.T"
   ]
  },
  {
   "cell_type": "code",
   "execution_count": 43,
   "metadata": {},
   "outputs": [
    {
     "data": {
      "text/plain": [
       "((9066, 9066),\n",
       " array([[1.        , 0.39451145, 0.30651588, ..., 0.        , 0.        ,\n",
       "         0.05582876],\n",
       "        [0.39451145, 1.        , 0.21749153, ..., 0.        , 0.        ,\n",
       "         0.        ],\n",
       "        [0.30651588, 0.21749153, 1.        , ..., 0.        , 0.        ,\n",
       "         0.        ],\n",
       "        ...,\n",
       "        [0.        , 0.        , 0.        , ..., 1.        , 1.        ,\n",
       "         0.        ],\n",
       "        [0.        , 0.        , 0.        , ..., 1.        , 1.        ,\n",
       "         0.        ],\n",
       "        [0.05582876, 0.        , 0.        , ..., 0.        , 0.        ,\n",
       "         1.        ]]))"
      ]
     },
     "execution_count": 43,
     "metadata": {},
     "output_type": "execute_result"
    }
   ],
   "source": [
    "from sklearn.metrics.pairwise import pairwise_distances \n",
    "item_similarity = 1- pairwise_distances(data_matrix.T, metric='cosine')\n",
    "item_similarity.shape, item_similarity"
   ]
  },
  {
   "cell_type": "markdown",
   "metadata": {},
   "source": [
    "## Get similar recommended movies for a movie_id"
   ]
  },
  {
   "cell_type": "code",
   "execution_count": 14,
   "metadata": {},
   "outputs": [
    {
     "name": "stdout",
     "output_type": "stream",
     "text": [
      "(9066, 9066)\n"
     ]
    },
    {
     "data": {
      "text/html": [
       "<div>\n",
       "<style scoped>\n",
       "    .dataframe tbody tr th:only-of-type {\n",
       "        vertical-align: middle;\n",
       "    }\n",
       "\n",
       "    .dataframe tbody tr th {\n",
       "        vertical-align: top;\n",
       "    }\n",
       "\n",
       "    .dataframe thead th {\n",
       "        text-align: right;\n",
       "    }\n",
       "</style>\n",
       "<table border=\"1\" class=\"dataframe\">\n",
       "  <thead>\n",
       "    <tr style=\"text-align: right;\">\n",
       "      <th></th>\n",
       "      <th>0</th>\n",
       "      <th>1</th>\n",
       "      <th>2</th>\n",
       "      <th>3</th>\n",
       "      <th>4</th>\n",
       "      <th>5</th>\n",
       "      <th>6</th>\n",
       "      <th>7</th>\n",
       "      <th>8</th>\n",
       "      <th>9</th>\n",
       "      <th>...</th>\n",
       "      <th>9056</th>\n",
       "      <th>9057</th>\n",
       "      <th>9058</th>\n",
       "      <th>9059</th>\n",
       "      <th>9060</th>\n",
       "      <th>9061</th>\n",
       "      <th>9062</th>\n",
       "      <th>9063</th>\n",
       "      <th>9064</th>\n",
       "      <th>9065</th>\n",
       "    </tr>\n",
       "  </thead>\n",
       "  <tbody>\n",
       "    <tr>\n",
       "      <th>0</th>\n",
       "      <td>1.000000</td>\n",
       "      <td>0.394511</td>\n",
       "      <td>0.306516</td>\n",
       "      <td>0.133614</td>\n",
       "      <td>0.245102</td>\n",
       "      <td>0.377086</td>\n",
       "      <td>0.278629</td>\n",
       "      <td>0.063031</td>\n",
       "      <td>0.117499</td>\n",
       "      <td>0.310689</td>\n",
       "      <td>...</td>\n",
       "      <td>0.055829</td>\n",
       "      <td>0.031902</td>\n",
       "      <td>0.079755</td>\n",
       "      <td>0.079755</td>\n",
       "      <td>0.079755</td>\n",
       "      <td>0.079755</td>\n",
       "      <td>0.079755</td>\n",
       "      <td>0.0</td>\n",
       "      <td>0.0</td>\n",
       "      <td>0.055829</td>\n",
       "    </tr>\n",
       "    <tr>\n",
       "      <th>1</th>\n",
       "      <td>0.394511</td>\n",
       "      <td>1.000000</td>\n",
       "      <td>0.217492</td>\n",
       "      <td>0.164651</td>\n",
       "      <td>0.278476</td>\n",
       "      <td>0.222003</td>\n",
       "      <td>0.207299</td>\n",
       "      <td>0.223524</td>\n",
       "      <td>0.113669</td>\n",
       "      <td>0.418124</td>\n",
       "      <td>...</td>\n",
       "      <td>0.000000</td>\n",
       "      <td>0.055038</td>\n",
       "      <td>0.068797</td>\n",
       "      <td>0.082557</td>\n",
       "      <td>0.082557</td>\n",
       "      <td>0.137594</td>\n",
       "      <td>0.068797</td>\n",
       "      <td>0.0</td>\n",
       "      <td>0.0</td>\n",
       "      <td>0.000000</td>\n",
       "    </tr>\n",
       "    <tr>\n",
       "      <th>2</th>\n",
       "      <td>0.306516</td>\n",
       "      <td>0.217492</td>\n",
       "      <td>1.000000</td>\n",
       "      <td>0.177012</td>\n",
       "      <td>0.370732</td>\n",
       "      <td>0.247499</td>\n",
       "      <td>0.435648</td>\n",
       "      <td>0.127574</td>\n",
       "      <td>0.306717</td>\n",
       "      <td>0.191255</td>\n",
       "      <td>...</td>\n",
       "      <td>0.000000</td>\n",
       "      <td>0.000000</td>\n",
       "      <td>0.000000</td>\n",
       "      <td>0.116226</td>\n",
       "      <td>0.116226</td>\n",
       "      <td>0.000000</td>\n",
       "      <td>0.000000</td>\n",
       "      <td>0.0</td>\n",
       "      <td>0.0</td>\n",
       "      <td>0.000000</td>\n",
       "    </tr>\n",
       "    <tr>\n",
       "      <th>3</th>\n",
       "      <td>0.133614</td>\n",
       "      <td>0.164651</td>\n",
       "      <td>0.177012</td>\n",
       "      <td>1.000000</td>\n",
       "      <td>0.179556</td>\n",
       "      <td>0.072518</td>\n",
       "      <td>0.184626</td>\n",
       "      <td>0.501513</td>\n",
       "      <td>0.254630</td>\n",
       "      <td>0.111447</td>\n",
       "      <td>...</td>\n",
       "      <td>0.000000</td>\n",
       "      <td>0.000000</td>\n",
       "      <td>0.000000</td>\n",
       "      <td>0.000000</td>\n",
       "      <td>0.000000</td>\n",
       "      <td>0.000000</td>\n",
       "      <td>0.000000</td>\n",
       "      <td>0.0</td>\n",
       "      <td>0.0</td>\n",
       "      <td>0.000000</td>\n",
       "    </tr>\n",
       "    <tr>\n",
       "      <th>4</th>\n",
       "      <td>0.245102</td>\n",
       "      <td>0.278476</td>\n",
       "      <td>0.370732</td>\n",
       "      <td>0.179556</td>\n",
       "      <td>1.000000</td>\n",
       "      <td>0.272645</td>\n",
       "      <td>0.388476</td>\n",
       "      <td>0.194113</td>\n",
       "      <td>0.367941</td>\n",
       "      <td>0.246846</td>\n",
       "      <td>...</td>\n",
       "      <td>0.000000</td>\n",
       "      <td>0.176845</td>\n",
       "      <td>0.000000</td>\n",
       "      <td>0.117897</td>\n",
       "      <td>0.117897</td>\n",
       "      <td>0.000000</td>\n",
       "      <td>0.000000</td>\n",
       "      <td>0.0</td>\n",
       "      <td>0.0</td>\n",
       "      <td>0.000000</td>\n",
       "    </tr>\n",
       "  </tbody>\n",
       "</table>\n",
       "<p>5 rows × 9066 columns</p>\n",
       "</div>"
      ],
      "text/plain": [
       "       0         1         2         3         4         5         6     \\\n",
       "0  1.000000  0.394511  0.306516  0.133614  0.245102  0.377086  0.278629   \n",
       "1  0.394511  1.000000  0.217492  0.164651  0.278476  0.222003  0.207299   \n",
       "2  0.306516  0.217492  1.000000  0.177012  0.370732  0.247499  0.435648   \n",
       "3  0.133614  0.164651  0.177012  1.000000  0.179556  0.072518  0.184626   \n",
       "4  0.245102  0.278476  0.370732  0.179556  1.000000  0.272645  0.388476   \n",
       "\n",
       "       7         8         9     ...      9056      9057      9058      9059  \\\n",
       "0  0.063031  0.117499  0.310689  ...  0.055829  0.031902  0.079755  0.079755   \n",
       "1  0.223524  0.113669  0.418124  ...  0.000000  0.055038  0.068797  0.082557   \n",
       "2  0.127574  0.306717  0.191255  ...  0.000000  0.000000  0.000000  0.116226   \n",
       "3  0.501513  0.254630  0.111447  ...  0.000000  0.000000  0.000000  0.000000   \n",
       "4  0.194113  0.367941  0.246846  ...  0.000000  0.176845  0.000000  0.117897   \n",
       "\n",
       "       9060      9061      9062  9063  9064      9065  \n",
       "0  0.079755  0.079755  0.079755   0.0   0.0  0.055829  \n",
       "1  0.082557  0.137594  0.068797   0.0   0.0  0.000000  \n",
       "2  0.116226  0.000000  0.000000   0.0   0.0  0.000000  \n",
       "3  0.000000  0.000000  0.000000   0.0   0.0  0.000000  \n",
       "4  0.117897  0.000000  0.000000   0.0   0.0  0.000000  \n",
       "\n",
       "[5 rows x 9066 columns]"
      ]
     },
     "execution_count": 14,
     "metadata": {},
     "output_type": "execute_result"
    }
   ],
   "source": [
    "movie_index = 5\n",
    "movie_prediction = pd.DataFrame(item_similarity)\n",
    "print(movie_prediction.shape)\n",
    "movie_prediction.head()"
   ]
  },
  {
   "cell_type": "code",
   "execution_count": 15,
   "metadata": {},
   "outputs": [
    {
     "data": {
      "text/plain": [
       "0       0.377086\n",
       "1       0.222003\n",
       "2       0.247499\n",
       "3       0.072518\n",
       "4       0.272645\n",
       "          ...   \n",
       "9061    0.000000\n",
       "9062    0.111103\n",
       "9063    0.000000\n",
       "9064    0.000000\n",
       "9065    0.061724\n",
       "Name: 5, Length: 9066, dtype: float64"
      ]
     },
     "execution_count": 15,
     "metadata": {},
     "output_type": "execute_result"
    }
   ],
   "source": [
    "movie_prediction.iloc[movie_index]"
   ]
  },
  {
   "cell_type": "code",
   "execution_count": 16,
   "metadata": {},
   "outputs": [
    {
     "data": {
      "text/html": [
       "<div>\n",
       "<style scoped>\n",
       "    .dataframe tbody tr th:only-of-type {\n",
       "        vertical-align: middle;\n",
       "    }\n",
       "\n",
       "    .dataframe tbody tr th {\n",
       "        vertical-align: top;\n",
       "    }\n",
       "\n",
       "    .dataframe thead th {\n",
       "        text-align: right;\n",
       "    }\n",
       "</style>\n",
       "<table border=\"1\" class=\"dataframe\">\n",
       "  <thead>\n",
       "    <tr style=\"text-align: right;\">\n",
       "      <th></th>\n",
       "      <th>5</th>\n",
       "    </tr>\n",
       "  </thead>\n",
       "  <tbody>\n",
       "    <tr>\n",
       "      <th>5</th>\n",
       "      <td>1.000000</td>\n",
       "    </tr>\n",
       "    <tr>\n",
       "      <th>615</th>\n",
       "      <td>0.525758</td>\n",
       "    </tr>\n",
       "    <tr>\n",
       "      <th>24</th>\n",
       "      <td>0.504869</td>\n",
       "    </tr>\n",
       "    <tr>\n",
       "      <th>31</th>\n",
       "      <td>0.491099</td>\n",
       "    </tr>\n",
       "    <tr>\n",
       "      <th>650</th>\n",
       "      <td>0.467446</td>\n",
       "    </tr>\n",
       "  </tbody>\n",
       "</table>\n",
       "</div>"
      ],
      "text/plain": [
       "            5\n",
       "5    1.000000\n",
       "615  0.525758\n",
       "24   0.504869\n",
       "31   0.491099\n",
       "650  0.467446"
      ]
     },
     "execution_count": 16,
     "metadata": {},
     "output_type": "execute_result"
    }
   ],
   "source": [
    "item_recommendation = pd.DataFrame(movie_prediction.iloc[movie_index].sort_values(ascending=False))\n",
    "item_recommendation.head()"
   ]
  },
  {
   "cell_type": "code",
   "execution_count": 17,
   "metadata": {},
   "outputs": [
    {
     "data": {
      "text/html": [
       "<div>\n",
       "<style scoped>\n",
       "    .dataframe tbody tr th:only-of-type {\n",
       "        vertical-align: middle;\n",
       "    }\n",
       "\n",
       "    .dataframe tbody tr th {\n",
       "        vertical-align: top;\n",
       "    }\n",
       "\n",
       "    .dataframe thead th {\n",
       "        text-align: right;\n",
       "    }\n",
       "</style>\n",
       "<table border=\"1\" class=\"dataframe\">\n",
       "  <thead>\n",
       "    <tr style=\"text-align: right;\">\n",
       "      <th></th>\n",
       "      <th>index</th>\n",
       "      <th>5</th>\n",
       "    </tr>\n",
       "  </thead>\n",
       "  <tbody>\n",
       "    <tr>\n",
       "      <th>0</th>\n",
       "      <td>5</td>\n",
       "      <td>1.000000</td>\n",
       "    </tr>\n",
       "    <tr>\n",
       "      <th>1</th>\n",
       "      <td>615</td>\n",
       "      <td>0.525758</td>\n",
       "    </tr>\n",
       "    <tr>\n",
       "      <th>2</th>\n",
       "      <td>24</td>\n",
       "      <td>0.504869</td>\n",
       "    </tr>\n",
       "    <tr>\n",
       "      <th>3</th>\n",
       "      <td>31</td>\n",
       "      <td>0.491099</td>\n",
       "    </tr>\n",
       "    <tr>\n",
       "      <th>4</th>\n",
       "      <td>650</td>\n",
       "      <td>0.467446</td>\n",
       "    </tr>\n",
       "  </tbody>\n",
       "</table>\n",
       "</div>"
      ],
      "text/plain": [
       "   index         5\n",
       "0      5  1.000000\n",
       "1    615  0.525758\n",
       "2     24  0.504869\n",
       "3     31  0.491099\n",
       "4    650  0.467446"
      ]
     },
     "execution_count": 17,
     "metadata": {},
     "output_type": "execute_result"
    }
   ],
   "source": [
    "item_recommendation.reset_index(inplace=True)\n",
    "item_recommendation.head()"
   ]
  },
  {
   "cell_type": "code",
   "execution_count": 18,
   "metadata": {},
   "outputs": [
    {
     "data": {
      "text/html": [
       "<div>\n",
       "<style scoped>\n",
       "    .dataframe tbody tr th:only-of-type {\n",
       "        vertical-align: middle;\n",
       "    }\n",
       "\n",
       "    .dataframe tbody tr th {\n",
       "        vertical-align: top;\n",
       "    }\n",
       "\n",
       "    .dataframe thead th {\n",
       "        text-align: right;\n",
       "    }\n",
       "</style>\n",
       "<table border=\"1\" class=\"dataframe\">\n",
       "  <thead>\n",
       "    <tr style=\"text-align: right;\">\n",
       "      <th></th>\n",
       "      <th>movie_id</th>\n",
       "      <th>score</th>\n",
       "    </tr>\n",
       "  </thead>\n",
       "  <tbody>\n",
       "    <tr>\n",
       "      <th>0</th>\n",
       "      <td>5</td>\n",
       "      <td>1.000000</td>\n",
       "    </tr>\n",
       "    <tr>\n",
       "      <th>1</th>\n",
       "      <td>615</td>\n",
       "      <td>0.525758</td>\n",
       "    </tr>\n",
       "    <tr>\n",
       "      <th>2</th>\n",
       "      <td>24</td>\n",
       "      <td>0.504869</td>\n",
       "    </tr>\n",
       "    <tr>\n",
       "      <th>3</th>\n",
       "      <td>31</td>\n",
       "      <td>0.491099</td>\n",
       "    </tr>\n",
       "    <tr>\n",
       "      <th>4</th>\n",
       "      <td>650</td>\n",
       "      <td>0.467446</td>\n",
       "    </tr>\n",
       "  </tbody>\n",
       "</table>\n",
       "</div>"
      ],
      "text/plain": [
       "   movie_id     score\n",
       "0         5  1.000000\n",
       "1       615  0.525758\n",
       "2        24  0.504869\n",
       "3        31  0.491099\n",
       "4       650  0.467446"
      ]
     },
     "execution_count": 18,
     "metadata": {},
     "output_type": "execute_result"
    }
   ],
   "source": [
    "item_recommendation.columns = ['movie_id', 'score']\n",
    "item_recommendation.head()"
   ]
  },
  {
   "cell_type": "code",
   "execution_count": 19,
   "metadata": {
    "scrolled": true
   },
   "outputs": [
    {
     "data": {
      "text/plain": [
       "(movie_id      int64\n",
       " score       float64\n",
       " dtype: object,\n",
       "           movie_id        score\n",
       " count  9066.000000  9066.000000\n",
       " mean   4532.500000     0.078832\n",
       " std    2617.273104     0.074483\n",
       " min       0.000000     0.000000\n",
       " 25%    2266.250000     0.000000\n",
       " 50%    4532.500000     0.069438\n",
       " 75%    6798.750000     0.113789\n",
       " max    9065.000000     1.000000)"
      ]
     },
     "execution_count": 19,
     "metadata": {},
     "output_type": "execute_result"
    }
   ],
   "source": [
    "item_recommendation.dtypes, item_recommendation.describe()"
   ]
  },
  {
   "cell_type": "markdown",
   "metadata": {},
   "source": [
    "### Merge movie_id with movie title"
   ]
  },
  {
   "cell_type": "code",
   "execution_count": 20,
   "metadata": {},
   "outputs": [
    {
     "data": {
      "text/plain": [
       "((9068, 3),\n",
       "    movie_id     score                      title\n",
       " 0         5  1.000000                 Four Rooms\n",
       " 1       615  0.525758  The Passion of the Christ\n",
       " 2        24  0.504869          Kill Bill: Vol. 1\n",
       " 3        31  0.491099                        NaN\n",
       " 4       650  0.467446            Boyz n the Hood)"
      ]
     },
     "execution_count": 20,
     "metadata": {},
     "output_type": "execute_result"
    }
   ],
   "source": [
    "merged = pd.merge(item_recommendation, movies, on='movie_id', how='left')\n",
    "merged.shape, merged.head()"
   ]
  },
  {
   "cell_type": "code",
   "execution_count": 21,
   "metadata": {},
   "outputs": [
    {
     "data": {
      "text/plain": [
       "((3140, 3),\n",
       "     movie_id     score                                 title\n",
       " 0          5  1.000000                            Four Rooms\n",
       " 1        615  0.525758             The Passion of the Christ\n",
       " 2         24  0.504869                     Kill Bill: Vol. 1\n",
       " 4        650  0.467446                       Boyz n the Hood\n",
       " 5        644  0.465175          A.I. Artificial Intelligence\n",
       " 6         87  0.461647  Indiana Jones and the Temple of Doom\n",
       " 7        535  0.460525                            Flashdance\n",
       " 8        617  0.457149                           Wild Things\n",
       " 9        561  0.452249                           Constantine\n",
       " 11        15  0.430175                          Citizen Kane)"
      ]
     },
     "execution_count": 21,
     "metadata": {},
     "output_type": "execute_result"
    }
   ],
   "source": [
    "collab_output = merged[merged['title'].notna()]\n",
    "collab_output.shape, collab_output.head(10)"
   ]
  },
  {
   "cell_type": "code",
   "execution_count": 22,
   "metadata": {},
   "outputs": [
    {
     "data": {
      "text/html": [
       "<div>\n",
       "<style scoped>\n",
       "    .dataframe tbody tr th:only-of-type {\n",
       "        vertical-align: middle;\n",
       "    }\n",
       "\n",
       "    .dataframe tbody tr th {\n",
       "        vertical-align: top;\n",
       "    }\n",
       "\n",
       "    .dataframe thead th {\n",
       "        text-align: right;\n",
       "    }\n",
       "</style>\n",
       "<table border=\"1\" class=\"dataframe\">\n",
       "  <thead>\n",
       "    <tr style=\"text-align: right;\">\n",
       "      <th></th>\n",
       "      <th>movie_id</th>\n",
       "      <th>score</th>\n",
       "    </tr>\n",
       "  </thead>\n",
       "  <tbody>\n",
       "    <tr>\n",
       "      <th>count</th>\n",
       "      <td>3140.000000</td>\n",
       "      <td>3140.000000</td>\n",
       "    </tr>\n",
       "    <tr>\n",
       "      <th>mean</th>\n",
       "      <td>3571.053185</td>\n",
       "      <td>0.090171</td>\n",
       "    </tr>\n",
       "    <tr>\n",
       "      <th>std</th>\n",
       "      <td>2841.833636</td>\n",
       "      <td>0.084577</td>\n",
       "    </tr>\n",
       "    <tr>\n",
       "      <th>min</th>\n",
       "      <td>2.000000</td>\n",
       "      <td>0.000000</td>\n",
       "    </tr>\n",
       "    <tr>\n",
       "      <th>25%</th>\n",
       "      <td>985.750000</td>\n",
       "      <td>0.018243</td>\n",
       "    </tr>\n",
       "    <tr>\n",
       "      <th>50%</th>\n",
       "      <td>2673.000000</td>\n",
       "      <td>0.078298</td>\n",
       "    </tr>\n",
       "    <tr>\n",
       "      <th>75%</th>\n",
       "      <td>5744.750000</td>\n",
       "      <td>0.128906</td>\n",
       "    </tr>\n",
       "    <tr>\n",
       "      <th>max</th>\n",
       "      <td>9065.000000</td>\n",
       "      <td>1.000000</td>\n",
       "    </tr>\n",
       "  </tbody>\n",
       "</table>\n",
       "</div>"
      ],
      "text/plain": [
       "          movie_id        score\n",
       "count  3140.000000  3140.000000\n",
       "mean   3571.053185     0.090171\n",
       "std    2841.833636     0.084577\n",
       "min       2.000000     0.000000\n",
       "25%     985.750000     0.018243\n",
       "50%    2673.000000     0.078298\n",
       "75%    5744.750000     0.128906\n",
       "max    9065.000000     1.000000"
      ]
     },
     "execution_count": 22,
     "metadata": {},
     "output_type": "execute_result"
    }
   ],
   "source": [
    "collab_output.describe()"
   ]
  },
  {
   "cell_type": "markdown",
   "metadata": {},
   "source": [
    "### Min Max Normalization"
   ]
  },
  {
   "cell_type": "code",
   "execution_count": 23,
   "metadata": {},
   "outputs": [
    {
     "name": "stderr",
     "output_type": "stream",
     "text": [
      "/var/folders/6d/t1t1r89n1q95d2ztv2qstyb40000gr/T/ipykernel_23412/1803365600.py:1: SettingWithCopyWarning: \n",
      "A value is trying to be set on a copy of a slice from a DataFrame.\n",
      "Try using .loc[row_indexer,col_indexer] = value instead\n",
      "\n",
      "See the caveats in the documentation: https://pandas.pydata.org/pandas-docs/stable/user_guide/indexing.html#returning-a-view-versus-a-copy\n",
      "  collab_output['collaborative_score_normalized'] = (collab_output['score']-min(collab_output['score']))/(max(collab_output['score'])-min(collab_output['score']))\n"
     ]
    }
   ],
   "source": [
    "collab_output['collaborative_score_normalized'] = (collab_output['score']-min(collab_output['score']))/(max(collab_output['score'])-min(collab_output['score']))"
   ]
  },
  {
   "cell_type": "code",
   "execution_count": 24,
   "metadata": {},
   "outputs": [
    {
     "data": {
      "text/html": [
       "<div>\n",
       "<style scoped>\n",
       "    .dataframe tbody tr th:only-of-type {\n",
       "        vertical-align: middle;\n",
       "    }\n",
       "\n",
       "    .dataframe tbody tr th {\n",
       "        vertical-align: top;\n",
       "    }\n",
       "\n",
       "    .dataframe thead th {\n",
       "        text-align: right;\n",
       "    }\n",
       "</style>\n",
       "<table border=\"1\" class=\"dataframe\">\n",
       "  <thead>\n",
       "    <tr style=\"text-align: right;\">\n",
       "      <th></th>\n",
       "      <th>movie_id</th>\n",
       "      <th>score</th>\n",
       "      <th>title</th>\n",
       "      <th>collaborative_score_normalized</th>\n",
       "    </tr>\n",
       "  </thead>\n",
       "  <tbody>\n",
       "    <tr>\n",
       "      <th>0</th>\n",
       "      <td>5</td>\n",
       "      <td>1.000000</td>\n",
       "      <td>Four Rooms</td>\n",
       "      <td>1.000000</td>\n",
       "    </tr>\n",
       "    <tr>\n",
       "      <th>1</th>\n",
       "      <td>615</td>\n",
       "      <td>0.525758</td>\n",
       "      <td>The Passion of the Christ</td>\n",
       "      <td>0.525758</td>\n",
       "    </tr>\n",
       "    <tr>\n",
       "      <th>2</th>\n",
       "      <td>24</td>\n",
       "      <td>0.504869</td>\n",
       "      <td>Kill Bill: Vol. 1</td>\n",
       "      <td>0.504869</td>\n",
       "    </tr>\n",
       "    <tr>\n",
       "      <th>4</th>\n",
       "      <td>650</td>\n",
       "      <td>0.467446</td>\n",
       "      <td>Boyz n the Hood</td>\n",
       "      <td>0.467446</td>\n",
       "    </tr>\n",
       "    <tr>\n",
       "      <th>5</th>\n",
       "      <td>644</td>\n",
       "      <td>0.465175</td>\n",
       "      <td>A.I. Artificial Intelligence</td>\n",
       "      <td>0.465175</td>\n",
       "    </tr>\n",
       "  </tbody>\n",
       "</table>\n",
       "</div>"
      ],
      "text/plain": [
       "   movie_id     score                         title  \\\n",
       "0         5  1.000000                    Four Rooms   \n",
       "1       615  0.525758     The Passion of the Christ   \n",
       "2        24  0.504869             Kill Bill: Vol. 1   \n",
       "4       650  0.467446               Boyz n the Hood   \n",
       "5       644  0.465175  A.I. Artificial Intelligence   \n",
       "\n",
       "   collaborative_score_normalized  \n",
       "0                        1.000000  \n",
       "1                        0.525758  \n",
       "2                        0.504869  \n",
       "4                        0.467446  \n",
       "5                        0.465175  "
      ]
     },
     "execution_count": 24,
     "metadata": {},
     "output_type": "execute_result"
    }
   ],
   "source": [
    "collab_output.head()"
   ]
  },
  {
   "cell_type": "code",
   "execution_count": 25,
   "metadata": {},
   "outputs": [
    {
     "data": {
      "text/html": [
       "<div>\n",
       "<style scoped>\n",
       "    .dataframe tbody tr th:only-of-type {\n",
       "        vertical-align: middle;\n",
       "    }\n",
       "\n",
       "    .dataframe tbody tr th {\n",
       "        vertical-align: top;\n",
       "    }\n",
       "\n",
       "    .dataframe thead th {\n",
       "        text-align: right;\n",
       "    }\n",
       "</style>\n",
       "<table border=\"1\" class=\"dataframe\">\n",
       "  <thead>\n",
       "    <tr style=\"text-align: right;\">\n",
       "      <th></th>\n",
       "      <th>movie_id</th>\n",
       "      <th>score</th>\n",
       "      <th>collaborative_score_normalized</th>\n",
       "    </tr>\n",
       "  </thead>\n",
       "  <tbody>\n",
       "    <tr>\n",
       "      <th>count</th>\n",
       "      <td>3140.000000</td>\n",
       "      <td>3140.000000</td>\n",
       "      <td>3140.000000</td>\n",
       "    </tr>\n",
       "    <tr>\n",
       "      <th>mean</th>\n",
       "      <td>3571.053185</td>\n",
       "      <td>0.090171</td>\n",
       "      <td>0.090171</td>\n",
       "    </tr>\n",
       "    <tr>\n",
       "      <th>std</th>\n",
       "      <td>2841.833636</td>\n",
       "      <td>0.084577</td>\n",
       "      <td>0.084577</td>\n",
       "    </tr>\n",
       "    <tr>\n",
       "      <th>min</th>\n",
       "      <td>2.000000</td>\n",
       "      <td>0.000000</td>\n",
       "      <td>0.000000</td>\n",
       "    </tr>\n",
       "    <tr>\n",
       "      <th>25%</th>\n",
       "      <td>985.750000</td>\n",
       "      <td>0.018243</td>\n",
       "      <td>0.018243</td>\n",
       "    </tr>\n",
       "    <tr>\n",
       "      <th>50%</th>\n",
       "      <td>2673.000000</td>\n",
       "      <td>0.078298</td>\n",
       "      <td>0.078298</td>\n",
       "    </tr>\n",
       "    <tr>\n",
       "      <th>75%</th>\n",
       "      <td>5744.750000</td>\n",
       "      <td>0.128906</td>\n",
       "      <td>0.128906</td>\n",
       "    </tr>\n",
       "    <tr>\n",
       "      <th>max</th>\n",
       "      <td>9065.000000</td>\n",
       "      <td>1.000000</td>\n",
       "      <td>1.000000</td>\n",
       "    </tr>\n",
       "  </tbody>\n",
       "</table>\n",
       "</div>"
      ],
      "text/plain": [
       "          movie_id        score  collaborative_score_normalized\n",
       "count  3140.000000  3140.000000                     3140.000000\n",
       "mean   3571.053185     0.090171                        0.090171\n",
       "std    2841.833636     0.084577                        0.084577\n",
       "min       2.000000     0.000000                        0.000000\n",
       "25%     985.750000     0.018243                        0.018243\n",
       "50%    2673.000000     0.078298                        0.078298\n",
       "75%    5744.750000     0.128906                        0.128906\n",
       "max    9065.000000     1.000000                        1.000000"
      ]
     },
     "execution_count": 25,
     "metadata": {},
     "output_type": "execute_result"
    }
   ],
   "source": [
    "collab_output.describe()"
   ]
  },
  {
   "cell_type": "code",
   "execution_count": 26,
   "metadata": {},
   "outputs": [
    {
     "data": {
      "text/plain": [
       "(3140, 4)"
      ]
     },
     "execution_count": 26,
     "metadata": {},
     "output_type": "execute_result"
    }
   ],
   "source": [
    "collab_output.shape"
   ]
  },
  {
   "cell_type": "code",
   "execution_count": 27,
   "metadata": {},
   "outputs": [
    {
     "data": {
      "text/plain": [
       "0                               Four Rooms\n",
       "1                The Passion of the Christ\n",
       "2                        Kill Bill: Vol. 1\n",
       "4                          Boyz n the Hood\n",
       "5             A.I. Artificial Intelligence\n",
       "6     Indiana Jones and the Temple of Doom\n",
       "7                               Flashdance\n",
       "8                              Wild Things\n",
       "9                              Constantine\n",
       "11                            Citizen Kane\n",
       "Name: title, dtype: object"
      ]
     },
     "execution_count": 27,
     "metadata": {},
     "output_type": "execute_result"
    }
   ],
   "source": [
    "collab_output['title'][:10]"
   ]
  },
  {
   "cell_type": "markdown",
   "metadata": {},
   "source": [
    "# Content Based Recommendations"
   ]
  },
  {
   "cell_type": "code",
   "execution_count": 28,
   "metadata": {},
   "outputs": [
    {
     "name": "stdout",
     "output_type": "stream",
     "text": [
      "Index(['adult', 'belongs_to_collection', 'budget', 'genres', 'homepage',\n",
      "       'movie_id', 'imdb_id', 'original_language', 'title', 'keywords',\n",
      "       'popularity', 'poster_path', 'production_companies',\n",
      "       'production_countries', 'release_date', 'revenue', 'runtime',\n",
      "       'spoken_languages', 'status', 'tagline', 'title.1', 'video',\n",
      "       'vote_average', 'vote_count'],\n",
      "      dtype='object')\n"
     ]
    },
    {
     "data": {
      "text/html": [
       "<div>\n",
       "<style scoped>\n",
       "    .dataframe tbody tr th:only-of-type {\n",
       "        vertical-align: middle;\n",
       "    }\n",
       "\n",
       "    .dataframe tbody tr th {\n",
       "        vertical-align: top;\n",
       "    }\n",
       "\n",
       "    .dataframe thead th {\n",
       "        text-align: right;\n",
       "    }\n",
       "</style>\n",
       "<table border=\"1\" class=\"dataframe\">\n",
       "  <thead>\n",
       "    <tr style=\"text-align: right;\">\n",
       "      <th></th>\n",
       "      <th>adult</th>\n",
       "      <th>belongs_to_collection</th>\n",
       "      <th>budget</th>\n",
       "      <th>genres</th>\n",
       "      <th>homepage</th>\n",
       "      <th>movie_id</th>\n",
       "      <th>imdb_id</th>\n",
       "      <th>original_language</th>\n",
       "      <th>title</th>\n",
       "      <th>keywords</th>\n",
       "      <th>...</th>\n",
       "      <th>release_date</th>\n",
       "      <th>revenue</th>\n",
       "      <th>runtime</th>\n",
       "      <th>spoken_languages</th>\n",
       "      <th>status</th>\n",
       "      <th>tagline</th>\n",
       "      <th>title.1</th>\n",
       "      <th>video</th>\n",
       "      <th>vote_average</th>\n",
       "      <th>vote_count</th>\n",
       "    </tr>\n",
       "  </thead>\n",
       "  <tbody>\n",
       "    <tr>\n",
       "      <th>0</th>\n",
       "      <td>False</td>\n",
       "      <td>NaN</td>\n",
       "      <td>0</td>\n",
       "      <td>[{'id': 18, 'name': 'Drama'}, {'id': 80, 'name...</td>\n",
       "      <td>NaN</td>\n",
       "      <td>2</td>\n",
       "      <td>tt0094675</td>\n",
       "      <td>fi</td>\n",
       "      <td>Ariel</td>\n",
       "      <td>Taisto Kasurinen is a Finnish coal miner whose...</td>\n",
       "      <td>...</td>\n",
       "      <td>1988-10-21</td>\n",
       "      <td>0.0</td>\n",
       "      <td>69.0</td>\n",
       "      <td>[{'iso_639_1': 'fi', 'name': 'suomi'}, {'iso_6...</td>\n",
       "      <td>Released</td>\n",
       "      <td>NaN</td>\n",
       "      <td>Ariel</td>\n",
       "      <td>False</td>\n",
       "      <td>7.1</td>\n",
       "      <td>44.0</td>\n",
       "    </tr>\n",
       "    <tr>\n",
       "      <th>1</th>\n",
       "      <td>False</td>\n",
       "      <td>NaN</td>\n",
       "      <td>0</td>\n",
       "      <td>[{'id': 18, 'name': 'Drama'}, {'id': 35, 'name...</td>\n",
       "      <td>NaN</td>\n",
       "      <td>3</td>\n",
       "      <td>tt0092149</td>\n",
       "      <td>fi</td>\n",
       "      <td>Varjoja paratiisissa</td>\n",
       "      <td>An episode in the life of Nikander, a garbage ...</td>\n",
       "      <td>...</td>\n",
       "      <td>1986-10-16</td>\n",
       "      <td>0.0</td>\n",
       "      <td>76.0</td>\n",
       "      <td>[{'iso_639_1': 'en', 'name': 'English'}, {'iso...</td>\n",
       "      <td>Released</td>\n",
       "      <td>NaN</td>\n",
       "      <td>Shadows in Paradise</td>\n",
       "      <td>False</td>\n",
       "      <td>7.1</td>\n",
       "      <td>35.0</td>\n",
       "    </tr>\n",
       "    <tr>\n",
       "      <th>2</th>\n",
       "      <td>False</td>\n",
       "      <td>NaN</td>\n",
       "      <td>4000000</td>\n",
       "      <td>[{'id': 80, 'name': 'Crime'}, {'id': 35, 'name...</td>\n",
       "      <td>NaN</td>\n",
       "      <td>5</td>\n",
       "      <td>tt0113101</td>\n",
       "      <td>en</td>\n",
       "      <td>Four Rooms</td>\n",
       "      <td>It's Ted the Bellhop's first night on the job....</td>\n",
       "      <td>...</td>\n",
       "      <td>1995-12-09</td>\n",
       "      <td>4300000.0</td>\n",
       "      <td>98.0</td>\n",
       "      <td>[{'iso_639_1': 'en', 'name': 'English'}]</td>\n",
       "      <td>Released</td>\n",
       "      <td>Twelve outrageous guests. Four scandalous requ...</td>\n",
       "      <td>Four Rooms</td>\n",
       "      <td>False</td>\n",
       "      <td>6.5</td>\n",
       "      <td>539.0</td>\n",
       "    </tr>\n",
       "    <tr>\n",
       "      <th>3</th>\n",
       "      <td>False</td>\n",
       "      <td>NaN</td>\n",
       "      <td>0</td>\n",
       "      <td>[{'id': 28, 'name': 'Action'}, {'id': 53, 'nam...</td>\n",
       "      <td>NaN</td>\n",
       "      <td>6</td>\n",
       "      <td>tt0107286</td>\n",
       "      <td>en</td>\n",
       "      <td>Judgment Night</td>\n",
       "      <td>While racing to a boxing match, Frank, Mike, J...</td>\n",
       "      <td>...</td>\n",
       "      <td>1993-10-15</td>\n",
       "      <td>12136938.0</td>\n",
       "      <td>110.0</td>\n",
       "      <td>[{'iso_639_1': 'en', 'name': 'English'}]</td>\n",
       "      <td>Released</td>\n",
       "      <td>Don't move. Don't whisper. Don't even breathe.</td>\n",
       "      <td>Judgment Night</td>\n",
       "      <td>False</td>\n",
       "      <td>6.4</td>\n",
       "      <td>79.0</td>\n",
       "    </tr>\n",
       "    <tr>\n",
       "      <th>4</th>\n",
       "      <td>False</td>\n",
       "      <td>{'id': 10, 'name': 'Star Wars Collection', 'po...</td>\n",
       "      <td>11000000</td>\n",
       "      <td>[{'id': 12, 'name': 'Adventure'}, {'id': 28, '...</td>\n",
       "      <td>http://www.starwars.com/films/star-wars-episod...</td>\n",
       "      <td>11</td>\n",
       "      <td>tt0076759</td>\n",
       "      <td>en</td>\n",
       "      <td>Star Wars</td>\n",
       "      <td>Princess Leia is captured and held hostage by ...</td>\n",
       "      <td>...</td>\n",
       "      <td>1977-05-25</td>\n",
       "      <td>775398007.0</td>\n",
       "      <td>121.0</td>\n",
       "      <td>[{'iso_639_1': 'en', 'name': 'English'}]</td>\n",
       "      <td>Released</td>\n",
       "      <td>A long time ago in a galaxy far, far away...</td>\n",
       "      <td>Star Wars</td>\n",
       "      <td>False</td>\n",
       "      <td>8.1</td>\n",
       "      <td>6778.0</td>\n",
       "    </tr>\n",
       "  </tbody>\n",
       "</table>\n",
       "<p>5 rows × 24 columns</p>\n",
       "</div>"
      ],
      "text/plain": [
       "   adult                              belongs_to_collection    budget  \\\n",
       "0  False                                                NaN         0   \n",
       "1  False                                                NaN         0   \n",
       "2  False                                                NaN   4000000   \n",
       "3  False                                                NaN         0   \n",
       "4  False  {'id': 10, 'name': 'Star Wars Collection', 'po...  11000000   \n",
       "\n",
       "                                              genres  \\\n",
       "0  [{'id': 18, 'name': 'Drama'}, {'id': 80, 'name...   \n",
       "1  [{'id': 18, 'name': 'Drama'}, {'id': 35, 'name...   \n",
       "2  [{'id': 80, 'name': 'Crime'}, {'id': 35, 'name...   \n",
       "3  [{'id': 28, 'name': 'Action'}, {'id': 53, 'nam...   \n",
       "4  [{'id': 12, 'name': 'Adventure'}, {'id': 28, '...   \n",
       "\n",
       "                                            homepage  movie_id    imdb_id  \\\n",
       "0                                                NaN         2  tt0094675   \n",
       "1                                                NaN         3  tt0092149   \n",
       "2                                                NaN         5  tt0113101   \n",
       "3                                                NaN         6  tt0107286   \n",
       "4  http://www.starwars.com/films/star-wars-episod...        11  tt0076759   \n",
       "\n",
       "  original_language                 title  \\\n",
       "0                fi                 Ariel   \n",
       "1                fi  Varjoja paratiisissa   \n",
       "2                en            Four Rooms   \n",
       "3                en        Judgment Night   \n",
       "4                en             Star Wars   \n",
       "\n",
       "                                            keywords  ...  release_date  \\\n",
       "0  Taisto Kasurinen is a Finnish coal miner whose...  ...    1988-10-21   \n",
       "1  An episode in the life of Nikander, a garbage ...  ...    1986-10-16   \n",
       "2  It's Ted the Bellhop's first night on the job....  ...    1995-12-09   \n",
       "3  While racing to a boxing match, Frank, Mike, J...  ...    1993-10-15   \n",
       "4  Princess Leia is captured and held hostage by ...  ...    1977-05-25   \n",
       "\n",
       "       revenue runtime                                   spoken_languages  \\\n",
       "0          0.0    69.0  [{'iso_639_1': 'fi', 'name': 'suomi'}, {'iso_6...   \n",
       "1          0.0    76.0  [{'iso_639_1': 'en', 'name': 'English'}, {'iso...   \n",
       "2    4300000.0    98.0           [{'iso_639_1': 'en', 'name': 'English'}]   \n",
       "3   12136938.0   110.0           [{'iso_639_1': 'en', 'name': 'English'}]   \n",
       "4  775398007.0   121.0           [{'iso_639_1': 'en', 'name': 'English'}]   \n",
       "\n",
       "     status                                            tagline  \\\n",
       "0  Released                                                NaN   \n",
       "1  Released                                                NaN   \n",
       "2  Released  Twelve outrageous guests. Four scandalous requ...   \n",
       "3  Released     Don't move. Don't whisper. Don't even breathe.   \n",
       "4  Released       A long time ago in a galaxy far, far away...   \n",
       "\n",
       "               title.1  video vote_average vote_count  \n",
       "0                Ariel  False          7.1       44.0  \n",
       "1  Shadows in Paradise  False          7.1       35.0  \n",
       "2           Four Rooms  False          6.5      539.0  \n",
       "3       Judgment Night  False          6.4       79.0  \n",
       "4            Star Wars  False          8.1     6778.0  \n",
       "\n",
       "[5 rows x 24 columns]"
      ]
     },
     "execution_count": 28,
     "metadata": {},
     "output_type": "execute_result"
    }
   ],
   "source": [
    "movies_keywords = pd.read_csv('movies_metadata_final.csv')\n",
    "print(movies_keywords.columns)\n",
    "movies_keywords.head()"
   ]
  },
  {
   "cell_type": "code",
   "execution_count": 29,
   "metadata": {},
   "outputs": [
    {
     "data": {
      "text/html": [
       "<div>\n",
       "<style scoped>\n",
       "    .dataframe tbody tr th:only-of-type {\n",
       "        vertical-align: middle;\n",
       "    }\n",
       "\n",
       "    .dataframe tbody tr th {\n",
       "        vertical-align: top;\n",
       "    }\n",
       "\n",
       "    .dataframe thead th {\n",
       "        text-align: right;\n",
       "    }\n",
       "</style>\n",
       "<table border=\"1\" class=\"dataframe\">\n",
       "  <thead>\n",
       "    <tr style=\"text-align: right;\">\n",
       "      <th></th>\n",
       "      <th>title</th>\n",
       "      <th>keywords</th>\n",
       "    </tr>\n",
       "  </thead>\n",
       "  <tbody>\n",
       "    <tr>\n",
       "      <th>0</th>\n",
       "      <td>Ariel</td>\n",
       "      <td>Taisto Kasurinen is a Finnish coal miner whose...</td>\n",
       "    </tr>\n",
       "    <tr>\n",
       "      <th>1</th>\n",
       "      <td>Varjoja paratiisissa</td>\n",
       "      <td>An episode in the life of Nikander, a garbage ...</td>\n",
       "    </tr>\n",
       "    <tr>\n",
       "      <th>2</th>\n",
       "      <td>Four Rooms</td>\n",
       "      <td>It's Ted the Bellhop's first night on the job....</td>\n",
       "    </tr>\n",
       "    <tr>\n",
       "      <th>3</th>\n",
       "      <td>Judgment Night</td>\n",
       "      <td>While racing to a boxing match, Frank, Mike, J...</td>\n",
       "    </tr>\n",
       "    <tr>\n",
       "      <th>4</th>\n",
       "      <td>Star Wars</td>\n",
       "      <td>Princess Leia is captured and held hostage by ...</td>\n",
       "    </tr>\n",
       "  </tbody>\n",
       "</table>\n",
       "</div>"
      ],
      "text/plain": [
       "                  title                                           keywords\n",
       "0                 Ariel  Taisto Kasurinen is a Finnish coal miner whose...\n",
       "1  Varjoja paratiisissa  An episode in the life of Nikander, a garbage ...\n",
       "2            Four Rooms  It's Ted the Bellhop's first night on the job....\n",
       "3        Judgment Night  While racing to a boxing match, Frank, Mike, J...\n",
       "4             Star Wars  Princess Leia is captured and held hostage by ..."
      ]
     },
     "execution_count": 29,
     "metadata": {},
     "output_type": "execute_result"
    }
   ],
   "source": [
    "movies_keywords = movies_keywords[['title', 'keywords']]\n",
    "movies_keywords.head()"
   ]
  },
  {
   "cell_type": "markdown",
   "metadata": {},
   "source": [
    "## convert to numpy arrays"
   ]
  },
  {
   "cell_type": "code",
   "execution_count": 30,
   "metadata": {},
   "outputs": [
    {
     "data": {
      "text/plain": [
       "(45462,\n",
       " (45462, 2),\n",
       " array([\"Taisto Kasurinen is a Finnish coal miner whose father has just committed suicide and who is framed for a crime he did not commit. In jail, he starts to dream about leaving the country and starting a new life. He escapes from prison but things don't go as planned...\",\n",
       "        'An episode in the life of Nikander, a garbage man, involving the death of a co-worker, an affair and much more.',\n",
       "        \"It's Ted the Bellhop's first night on the job...and the hotel's very unusual guests are about to place him in some outrageous predicaments. It seems that this evening's room service is serving up one unbelievable happening after another.\",\n",
       "        ...,\n",
       "        \"In the 1910s, beautiful young Silja loses both parents and ends up working as a maid at wealthier farms around her village. She is courted by a number of bachelors, ranging from simple farmhand Väinö to sophisticated young student Armas whom she meets when working for a charming old professor. However, Silja's health starts to deteriorate, and when the Finnish Civil War breaks up in 1918, she is inadvertently involved in a small incident after which her loyalties are questioned by both the Reds and the Whites.\",\n",
       "        nan,\n",
       "        'Manuel is a young boy who travels from long ago to the present and then to the future.'],\n",
       "       dtype=object))"
      ]
     },
     "execution_count": 30,
     "metadata": {},
     "output_type": "execute_result"
    }
   ],
   "source": [
    "keywords_array = movies_keywords['keywords'].to_numpy()\n",
    "len(keywords_array), movies_keywords.shape, keywords_array"
   ]
  },
  {
   "cell_type": "code",
   "execution_count": 31,
   "metadata": {},
   "outputs": [
    {
     "data": {
      "text/plain": [
       "\"Taisto Kasurinen is a Finnish coal miner whose father has just committed suicide and who is framed for a crime he did not commit. In jail, he starts to dream about leaving the country and starting a new life. He escapes from prison but things don't go as planned...\""
      ]
     },
     "execution_count": 31,
     "metadata": {},
     "output_type": "execute_result"
    }
   ],
   "source": [
    "keywords_array[0]"
   ]
  },
  {
   "cell_type": "markdown",
   "metadata": {},
   "source": [
    "## Split keywords & create word list"
   ]
  },
  {
   "cell_type": "code",
   "execution_count": 32,
   "metadata": {},
   "outputs": [
    {
     "name": "stdout",
     "output_type": "stream",
     "text": [
      "45462 49 21\n"
     ]
    }
   ],
   "source": [
    "words_list = []\n",
    "\n",
    "for keyword in keywords_array:\n",
    "    \n",
    "    splitted_words = str(keyword).lower().split()\n",
    "    \n",
    "    words_list.append(splitted_words)\n",
    "\n",
    "print(len(words_list), len(words_list[0]), len(words_list[1]))"
   ]
  },
  {
   "cell_type": "code",
   "execution_count": 33,
   "metadata": {},
   "outputs": [
    {
     "name": "stdout",
     "output_type": "stream",
     "text": [
      "[['taisto', 'kasurinen', 'is', 'a', 'finnish', 'coal', 'miner', 'whose', 'father', 'has', 'just', 'committed', 'suicide', 'and', 'who', 'is', 'framed', 'for', 'a', 'crime', 'he', 'did', 'not', 'commit.', 'in', 'jail,', 'he', 'starts', 'to', 'dream', 'about', 'leaving', 'the', 'country', 'and', 'starting', 'a', 'new', 'life.', 'he', 'escapes', 'from', 'prison', 'but', 'things', \"don't\", 'go', 'as', 'planned...'], ['an', 'episode', 'in', 'the', 'life', 'of', 'nikander,', 'a', 'garbage', 'man,', 'involving', 'the', 'death', 'of', 'a', 'co-worker,', 'an', 'affair', 'and', 'much', 'more.'], [\"it's\", 'ted', 'the', \"bellhop's\", 'first', 'night', 'on', 'the', 'job...and', 'the', \"hotel's\", 'very', 'unusual', 'guests', 'are', 'about', 'to', 'place', 'him', 'in', 'some', 'outrageous', 'predicaments.', 'it', 'seems', 'that', 'this', \"evening's\", 'room', 'service', 'is', 'serving', 'up', 'one', 'unbelievable', 'happening', 'after', 'another.'], ['while', 'racing', 'to', 'a', 'boxing', 'match,', 'frank,', 'mike,', 'john', 'and', 'rey', 'get', 'more', 'than', 'they', 'bargained', 'for.', 'a', 'wrong', 'turn', 'lands', 'them', 'directly', 'in', 'the', 'path', 'of', 'fallon,', 'a', 'vicious,', 'wise-cracking', 'drug', 'lord.', 'after', 'accidentally', 'witnessing', 'fallon', 'murder', 'a', 'disloyal', 'henchman,', 'the', 'four', 'become', 'his', 'unwilling', 'prey', 'in', 'a', 'savage', 'game', 'of', 'cat', '&amp;', 'mouse', 'as', 'they', 'are', 'mercilessly', 'stalked', 'through', 'the', 'urban', 'jungle', 'in', 'this', 'taut', 'suspense', 'drama'], ['princess', 'leia', 'is', 'captured', 'and', 'held', 'hostage', 'by', 'the', 'evil', 'imperial', 'forces', 'in', 'their', 'effort', 'to', 'take', 'over', 'the', 'galactic', 'empire.', 'venturesome', 'luke', 'skywalker', 'and', 'dashing', 'captain', 'han', 'solo', 'team', 'together', 'with', 'the', 'loveable', 'robot', 'duo', 'r2-d2', 'and', 'c-3po', 'to', 'rescue', 'the', 'beautiful', 'princess', 'and', 'restore', 'peace', 'and', 'justice', 'in', 'the', 'empire.'], ['nemo,', 'an', 'adventurous', 'young', 'clownfish,', 'is', 'unexpectedly', 'taken', 'from', 'his', 'great', 'barrier', 'reef', 'home', 'to', 'a', \"dentist's\", 'office', 'aquarium.', \"it's\", 'up', 'to', 'his', 'worrisome', 'father', 'marlin', 'and', 'a', 'friendly', 'but', 'forgetful', 'fish', 'dory', 'to', 'bring', 'nemo', 'home', '--', 'meeting', 'vegetarian', 'sharks,', 'surfer', 'dude', 'turtles,', 'hypnotic', 'jellyfish,', 'hungry', 'seagulls,', 'and', 'more', 'along', 'the', 'way.'], ['a', 'man', 'with', 'a', 'low', 'iq', 'has', 'accomplished', 'great', 'things', 'in', 'his', 'life', 'and', 'been', 'present', 'during', 'significant', 'historic', 'events', '-', 'in', 'each', 'case,', 'far', 'exceeding', 'what', 'anyone', 'imagined', 'he', 'could', 'do.', 'yet,', 'despite', 'all', 'the', 'things', 'he', 'has', 'attained,', 'his', 'one', 'true', 'love', 'eludes', 'him.', \"'forrest\", \"gump'\", 'is', 'the', 'story', 'of', 'a', 'man', 'who', 'rose', 'above', 'his', 'challenges,', 'and', 'who', 'proved', 'that', 'determination,', 'courage,', 'and', 'love', 'are', 'more', 'important', 'than', 'ability.'], ['lester', 'burnham,', 'a', 'depressed', 'suburban', 'father', 'in', 'a', 'mid-life', 'crisis,', 'decides', 'to', 'turn', 'his', 'hectic', 'life', 'around', 'after', 'developing', 'an', 'infatuation', 'with', 'his', \"daughter's\", 'attractive', 'friend.'], ['newspaper', 'magnate,', 'charles', 'foster', 'kane', 'is', 'taken', 'from', 'his', 'mother', 'as', 'a', 'boy', 'and', 'made', 'the', 'ward', 'of', 'a', 'rich', 'industrialist.', 'as', 'a', 'result,', 'every', 'well-meaning,', 'tyrannical', 'or', 'self-destructive', 'move', 'he', 'makes', 'for', 'the', 'rest', 'of', 'his', 'life', 'appears', 'in', 'some', 'way', 'to', 'be', 'a', 'reaction', 'to', 'that', 'deeply', 'wounding', 'event.'], ['selma,', 'a', 'czech', 'immigrant', 'on', 'the', 'verge', 'of', 'blindness,', 'struggles', 'to', 'make', 'ends', 'meet', 'for', 'herself', 'and', 'her', 'son,', 'who', 'has', 'inherited', 'the', 'same', 'genetic', 'disorder', 'and', 'will', 'suffer', 'the', 'same', 'fate', 'without', 'an', 'expensive', 'operation.', 'when', 'life', 'gets', 'too', 'difficult,', 'selma', 'learns', 'to', 'cope', 'through', 'her', 'love', 'of', 'musicals,', 'escaping', \"life's\", 'troubles', '-', 'even', 'if', 'just', 'for', 'a', 'moment', '-', 'by', 'dreaming', 'up', 'little', 'numbers', 'to', 'the', 'rhythmic', 'beats', 'of', 'her', 'surroundings.']]\n"
     ]
    }
   ],
   "source": [
    "print(words_list[:10])"
   ]
  },
  {
   "cell_type": "markdown",
   "metadata": {},
   "source": [
    "## Create Dictionary, BOW, tfidf model & Similarity Matrix"
   ]
  },
  {
   "cell_type": "code",
   "execution_count": 34,
   "metadata": {},
   "outputs": [
    {
     "name": "stdout",
     "output_type": "stream",
     "text": [
      "MatrixSimilarity<45462 docs, 157066 features>\n"
     ]
    }
   ],
   "source": [
    "from gensim.corpora.dictionary import Dictionary\n",
    "\n",
    "# create a dictionary from words list\n",
    "dictionary = Dictionary(words_list) \n",
    "\n",
    "#create corpus where the corpus is a bag of words for each document\n",
    "corpus = [dictionary.doc2bow(doc) for doc in words_list] \n",
    "\n",
    "from gensim.models.tfidfmodel import TfidfModel\n",
    "#create tfidf model of the corpus\n",
    "tfidf = TfidfModel(corpus) \n",
    "\n",
    "from gensim.similarities import MatrixSimilarity\n",
    "# Create the similarity matrix. This is the most important part where we get the similarities between the movies.\n",
    "sims = MatrixSimilarity(tfidf[corpus], num_features=len(dictionary))\n",
    "print(sims)\n"
   ]
  },
  {
   "cell_type": "markdown",
   "metadata": {},
   "source": [
    "## For an input movie, Run the Model & return Recommended Movies"
   ]
  },
  {
   "cell_type": "code",
   "execution_count": 35,
   "metadata": {},
   "outputs": [],
   "source": [
    "def movie_recommendation(movie_title):\n",
    "    # get the movie row\n",
    "    movie = movies_keywords.loc[movies_keywords.title==movie_title] \n",
    "    \n",
    "    #split the keywords\n",
    "    keywords = movie['keywords'].iloc[0].split() \n",
    "\n",
    "    #set the list of words to query_doc\n",
    "    query_doc = keywords \n",
    "    \n",
    "    # get a bag of words from the query_doc\n",
    "    query_doc_bow = dictionary.doc2bow(query_doc) \n",
    "\n",
    "    #convert the regular bag of words model to a tf-idf model\n",
    "    query_doc_tfidf = tfidf[query_doc_bow] \n",
    "\n",
    "    # get similarity values between input movie and all other movies\n",
    "    similarity_array = sims[query_doc_tfidf] \n",
    "\n",
    "    #Convert to a Series\n",
    "    similarity_series = pd.Series(similarity_array.tolist(), index=movies_keywords.title.values) \n",
    "\n",
    "    #get the most similar movies \n",
    "    similarity_output = similarity_series.sort_values(ascending=False)\n",
    "    return similarity_output"
   ]
  },
  {
   "cell_type": "code",
   "execution_count": 36,
   "metadata": {},
   "outputs": [
    {
     "data": {
      "text/plain": [
       "(pandas.core.series.Series,\n",
       " Four Rooms                   0.907315\n",
       " The Innkeepers               0.141339\n",
       " Enter Nowhere                0.124108\n",
       " Tic Tac                      0.114426\n",
       " Little Miss Broadway         0.099070\n",
       "                                ...   \n",
       " Gamer                        0.000000\n",
       " Elsk meg i morgen            0.000000\n",
       " Lo scapolo                   0.000000\n",
       " El vals de los inútiles      0.000000\n",
       " Tutto tutto niente niente    0.000000\n",
       " Length: 45462, dtype: float64)"
      ]
     },
     "execution_count": 36,
     "metadata": {},
     "output_type": "execute_result"
    }
   ],
   "source": [
    "content_output = movie_recommendation('Four Rooms')\n",
    "type(content_output), content_output"
   ]
  },
  {
   "cell_type": "code",
   "execution_count": 38,
   "metadata": {},
   "outputs": [
    {
     "data": {
      "text/html": [
       "<div>\n",
       "<style scoped>\n",
       "    .dataframe tbody tr th:only-of-type {\n",
       "        vertical-align: middle;\n",
       "    }\n",
       "\n",
       "    .dataframe tbody tr th {\n",
       "        vertical-align: top;\n",
       "    }\n",
       "\n",
       "    .dataframe thead th {\n",
       "        text-align: right;\n",
       "    }\n",
       "</style>\n",
       "<table border=\"1\" class=\"dataframe\">\n",
       "  <thead>\n",
       "    <tr style=\"text-align: right;\">\n",
       "      <th></th>\n",
       "      <th>title</th>\n",
       "      <th>score</th>\n",
       "    </tr>\n",
       "  </thead>\n",
       "  <tbody>\n",
       "    <tr>\n",
       "      <th>0</th>\n",
       "      <td>Four Rooms</td>\n",
       "      <td>0.907315</td>\n",
       "    </tr>\n",
       "    <tr>\n",
       "      <th>1</th>\n",
       "      <td>The Innkeepers</td>\n",
       "      <td>0.141339</td>\n",
       "    </tr>\n",
       "    <tr>\n",
       "      <th>2</th>\n",
       "      <td>Enter Nowhere</td>\n",
       "      <td>0.124108</td>\n",
       "    </tr>\n",
       "    <tr>\n",
       "      <th>3</th>\n",
       "      <td>Tic Tac</td>\n",
       "      <td>0.114426</td>\n",
       "    </tr>\n",
       "    <tr>\n",
       "      <th>4</th>\n",
       "      <td>Little Miss Broadway</td>\n",
       "      <td>0.099070</td>\n",
       "    </tr>\n",
       "  </tbody>\n",
       "</table>\n",
       "</div>"
      ],
      "text/plain": [
       "                  title     score\n",
       "0            Four Rooms  0.907315\n",
       "1        The Innkeepers  0.141339\n",
       "2         Enter Nowhere  0.124108\n",
       "3               Tic Tac  0.114426\n",
       "4  Little Miss Broadway  0.099070"
      ]
     },
     "execution_count": 38,
     "metadata": {},
     "output_type": "execute_result"
    }
   ],
   "source": [
    "content_df = pd.DataFrame(content_output)\n",
    "content_df.reset_index(inplace=True)\n",
    "content_df.columns = ['title', 'score']\n",
    "content_df.head()"
   ]
  },
  {
   "cell_type": "code",
   "execution_count": 39,
   "metadata": {},
   "outputs": [
    {
     "data": {
      "text/plain": [
       "((45462, 3),\n",
       "                   title     score  content_score_normalized\n",
       " 0            Four Rooms  0.907315                  1.000000\n",
       " 1        The Innkeepers  0.141339                  0.155777\n",
       " 2         Enter Nowhere  0.124108                  0.136786\n",
       " 3               Tic Tac  0.114426                  0.126116\n",
       " 4  Little Miss Broadway  0.099070                  0.109191)"
      ]
     },
     "execution_count": 39,
     "metadata": {},
     "output_type": "execute_result"
    }
   ],
   "source": [
    "content_df['content_score_normalized'] = (content_df['score']-min(content_df['score'])) / (max(content_df['score']) - min(content_df['score']))\n",
    "content_df.shape, content_df.head()"
   ]
  },
  {
   "cell_type": "code",
   "execution_count": 40,
   "metadata": {},
   "outputs": [
    {
     "data": {
      "text/html": [
       "<div>\n",
       "<style scoped>\n",
       "    .dataframe tbody tr th:only-of-type {\n",
       "        vertical-align: middle;\n",
       "    }\n",
       "\n",
       "    .dataframe tbody tr th {\n",
       "        vertical-align: top;\n",
       "    }\n",
       "\n",
       "    .dataframe thead th {\n",
       "        text-align: right;\n",
       "    }\n",
       "</style>\n",
       "<table border=\"1\" class=\"dataframe\">\n",
       "  <thead>\n",
       "    <tr style=\"text-align: right;\">\n",
       "      <th></th>\n",
       "      <th>score</th>\n",
       "      <th>content_score_normalized</th>\n",
       "    </tr>\n",
       "  </thead>\n",
       "  <tbody>\n",
       "    <tr>\n",
       "      <th>count</th>\n",
       "      <td>45462.000000</td>\n",
       "      <td>45462.000000</td>\n",
       "    </tr>\n",
       "    <tr>\n",
       "      <th>mean</th>\n",
       "      <td>0.008451</td>\n",
       "      <td>0.009314</td>\n",
       "    </tr>\n",
       "    <tr>\n",
       "      <th>std</th>\n",
       "      <td>0.010153</td>\n",
       "      <td>0.011190</td>\n",
       "    </tr>\n",
       "    <tr>\n",
       "      <th>min</th>\n",
       "      <td>0.000000</td>\n",
       "      <td>0.000000</td>\n",
       "    </tr>\n",
       "    <tr>\n",
       "      <th>25%</th>\n",
       "      <td>0.001806</td>\n",
       "      <td>0.001991</td>\n",
       "    </tr>\n",
       "    <tr>\n",
       "      <th>50%</th>\n",
       "      <td>0.006123</td>\n",
       "      <td>0.006748</td>\n",
       "    </tr>\n",
       "    <tr>\n",
       "      <th>75%</th>\n",
       "      <td>0.011399</td>\n",
       "      <td>0.012563</td>\n",
       "    </tr>\n",
       "    <tr>\n",
       "      <th>max</th>\n",
       "      <td>0.907315</td>\n",
       "      <td>1.000000</td>\n",
       "    </tr>\n",
       "  </tbody>\n",
       "</table>\n",
       "</div>"
      ],
      "text/plain": [
       "              score  content_score_normalized\n",
       "count  45462.000000              45462.000000\n",
       "mean       0.008451                  0.009314\n",
       "std        0.010153                  0.011190\n",
       "min        0.000000                  0.000000\n",
       "25%        0.001806                  0.001991\n",
       "50%        0.006123                  0.006748\n",
       "75%        0.011399                  0.012563\n",
       "max        0.907315                  1.000000"
      ]
     },
     "execution_count": 40,
     "metadata": {},
     "output_type": "execute_result"
    }
   ],
   "source": [
    "content_df.describe()"
   ]
  },
  {
   "cell_type": "markdown",
   "metadata": {},
   "source": [
    "# Hybrid: Combine two Models"
   ]
  },
  {
   "cell_type": "code",
   "execution_count": 41,
   "metadata": {},
   "outputs": [
    {
     "name": "stdout",
     "output_type": "stream",
     "text": [
      "(3626, 6)\n"
     ]
    },
    {
     "data": {
      "text/html": [
       "<div>\n",
       "<style scoped>\n",
       "    .dataframe tbody tr th:only-of-type {\n",
       "        vertical-align: middle;\n",
       "    }\n",
       "\n",
       "    .dataframe tbody tr th {\n",
       "        vertical-align: top;\n",
       "    }\n",
       "\n",
       "    .dataframe thead th {\n",
       "        text-align: right;\n",
       "    }\n",
       "</style>\n",
       "<table border=\"1\" class=\"dataframe\">\n",
       "  <thead>\n",
       "    <tr style=\"text-align: right;\">\n",
       "      <th></th>\n",
       "      <th>movie_id</th>\n",
       "      <th>score_x</th>\n",
       "      <th>title</th>\n",
       "      <th>collaborative_score_normalized</th>\n",
       "      <th>score_y</th>\n",
       "      <th>content_score_normalized</th>\n",
       "    </tr>\n",
       "  </thead>\n",
       "  <tbody>\n",
       "    <tr>\n",
       "      <th>0</th>\n",
       "      <td>5</td>\n",
       "      <td>1.000000</td>\n",
       "      <td>Four Rooms</td>\n",
       "      <td>1.000000</td>\n",
       "      <td>0.907315</td>\n",
       "      <td>1.000000</td>\n",
       "    </tr>\n",
       "    <tr>\n",
       "      <th>1</th>\n",
       "      <td>615</td>\n",
       "      <td>0.525758</td>\n",
       "      <td>The Passion of the Christ</td>\n",
       "      <td>0.525758</td>\n",
       "      <td>0.014243</td>\n",
       "      <td>0.015698</td>\n",
       "    </tr>\n",
       "    <tr>\n",
       "      <th>2</th>\n",
       "      <td>24</td>\n",
       "      <td>0.504869</td>\n",
       "      <td>Kill Bill: Vol. 1</td>\n",
       "      <td>0.504869</td>\n",
       "      <td>0.011371</td>\n",
       "      <td>0.012532</td>\n",
       "    </tr>\n",
       "    <tr>\n",
       "      <th>3</th>\n",
       "      <td>650</td>\n",
       "      <td>0.467446</td>\n",
       "      <td>Boyz n the Hood</td>\n",
       "      <td>0.467446</td>\n",
       "      <td>0.013678</td>\n",
       "      <td>0.015075</td>\n",
       "    </tr>\n",
       "    <tr>\n",
       "      <th>4</th>\n",
       "      <td>644</td>\n",
       "      <td>0.465175</td>\n",
       "      <td>A.I. Artificial Intelligence</td>\n",
       "      <td>0.465175</td>\n",
       "      <td>0.013917</td>\n",
       "      <td>0.015339</td>\n",
       "    </tr>\n",
       "  </tbody>\n",
       "</table>\n",
       "</div>"
      ],
      "text/plain": [
       "   movie_id   score_x                         title  \\\n",
       "0         5  1.000000                    Four Rooms   \n",
       "1       615  0.525758     The Passion of the Christ   \n",
       "2        24  0.504869             Kill Bill: Vol. 1   \n",
       "3       650  0.467446               Boyz n the Hood   \n",
       "4       644  0.465175  A.I. Artificial Intelligence   \n",
       "\n",
       "   collaborative_score_normalized   score_y  content_score_normalized  \n",
       "0                        1.000000  0.907315                  1.000000  \n",
       "1                        0.525758  0.014243                  0.015698  \n",
       "2                        0.504869  0.011371                  0.012532  \n",
       "3                        0.467446  0.013678                  0.015075  \n",
       "4                        0.465175  0.013917                  0.015339  "
      ]
     },
     "execution_count": 41,
     "metadata": {},
     "output_type": "execute_result"
    }
   ],
   "source": [
    "hybrid_output = pd.merge(collab_output, content_df, how='left', on='title')\n",
    "print(hybrid_output.shape)\n",
    "hybrid_output.head()"
   ]
  },
  {
   "cell_type": "code",
   "execution_count": 42,
   "metadata": {},
   "outputs": [
    {
     "name": "stdout",
     "output_type": "stream",
     "text": [
      "(3626, 2)\n"
     ]
    },
    {
     "data": {
      "text/html": [
       "<div>\n",
       "<style scoped>\n",
       "    .dataframe tbody tr th:only-of-type {\n",
       "        vertical-align: middle;\n",
       "    }\n",
       "\n",
       "    .dataframe tbody tr th {\n",
       "        vertical-align: top;\n",
       "    }\n",
       "\n",
       "    .dataframe thead th {\n",
       "        text-align: right;\n",
       "    }\n",
       "</style>\n",
       "<table border=\"1\" class=\"dataframe\">\n",
       "  <thead>\n",
       "    <tr style=\"text-align: right;\">\n",
       "      <th></th>\n",
       "      <th>title</th>\n",
       "      <th>final_score</th>\n",
       "    </tr>\n",
       "  </thead>\n",
       "  <tbody>\n",
       "    <tr>\n",
       "      <th>0</th>\n",
       "      <td>Four Rooms</td>\n",
       "      <td>1.000000</td>\n",
       "    </tr>\n",
       "    <tr>\n",
       "      <th>1</th>\n",
       "      <td>The Passion of the Christ</td>\n",
       "      <td>0.270728</td>\n",
       "    </tr>\n",
       "    <tr>\n",
       "      <th>2</th>\n",
       "      <td>Kill Bill: Vol. 1</td>\n",
       "      <td>0.258701</td>\n",
       "    </tr>\n",
       "    <tr>\n",
       "      <th>3</th>\n",
       "      <td>Boyz n the Hood</td>\n",
       "      <td>0.241261</td>\n",
       "    </tr>\n",
       "    <tr>\n",
       "      <th>4</th>\n",
       "      <td>A.I. Artificial Intelligence</td>\n",
       "      <td>0.240257</td>\n",
       "    </tr>\n",
       "  </tbody>\n",
       "</table>\n",
       "</div>"
      ],
      "text/plain": [
       "                          title  final_score\n",
       "0                    Four Rooms     1.000000\n",
       "1     The Passion of the Christ     0.270728\n",
       "2             Kill Bill: Vol. 1     0.258701\n",
       "3               Boyz n the Hood     0.241261\n",
       "4  A.I. Artificial Intelligence     0.240257"
      ]
     },
     "execution_count": 42,
     "metadata": {},
     "output_type": "execute_result"
    }
   ],
   "source": [
    "hybrid_output['final_score'] = (hybrid_output['collaborative_score_normalized'] + hybrid_output['content_score_normalized'])/2\n",
    "hybrid_output = hybrid_output[['title','final_score']]\n",
    "hybrid_output.sort_values(by='final_score', ascending=False)[:10]\n",
    "print(hybrid_output.shape)\n",
    "hybrid_output.head()"
   ]
  }
 ],
 "metadata": {
  "interpreter": {
   "hash": "26c1a556254b5c5ef99eb3bfd240a6e5b310f043e0026de2ebf355ac6dea0fc7"
  },
  "kernelspec": {
   "display_name": "Python 3.9.1 ('venv': venv)",
   "language": "python",
   "name": "python3"
  },
  "language_info": {
   "codemirror_mode": {
    "name": "ipython",
    "version": 3
   },
   "file_extension": ".py",
   "mimetype": "text/x-python",
   "name": "python",
   "nbconvert_exporter": "python",
   "pygments_lexer": "ipython3",
   "version": "3.9.1"
  }
 },
 "nbformat": 4,
 "nbformat_minor": 4
}
