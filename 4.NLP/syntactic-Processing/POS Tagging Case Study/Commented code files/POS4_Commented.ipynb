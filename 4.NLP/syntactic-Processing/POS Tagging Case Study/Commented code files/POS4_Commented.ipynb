{
  "cells": [
    {
      "cell_type": "markdown",
      "metadata": {
        "id": "npY9MI1yIyK8"
      },
      "source": [
        "## Importing libraries"
      ]
    },
    {
      "cell_type": "code",
      "execution_count": 86,
      "metadata": {
        "id": "xp8j7pqtIyLC"
      },
      "outputs": [],
      "source": [
        "import pandas as pd\n",
        "import numpy as np\n",
        "from tqdm import tqdm"
      ]
    },
    {
      "cell_type": "markdown",
      "metadata": {
        "id": "Xr_U2bl3IyLD"
      },
      "source": [
        "### Read reviews data"
      ]
    },
    {
      "cell_type": "code",
      "execution_count": 87,
      "metadata": {
        "id": "fFKFirMfIyLE"
      },
      "outputs": [],
      "source": [
        "con=open(\"../data/Samsung.txt\",'r', encoding=\"utf-8\")\n",
        "samsung_reviews=con.read()\n",
        "con.close()"
      ]
    },
    {
      "cell_type": "markdown",
      "metadata": {
        "id": "euxL-gvSIyLE"
      },
      "source": [
        "<img src = \"./images/results.png\">"
      ]
    },
    {
      "cell_type": "markdown",
      "metadata": {
        "id": "d_YiSRgnIyLE"
      },
      "source": [
        "<img src = \"./images/keywords.png\">"
      ]
    },
    {
      "cell_type": "markdown",
      "metadata": {
        "id": "kjQbVocSIyLF"
      },
      "source": [
        "### We can use a simple hueristic\n",
        " - Find out what were the most common words that appeared before and after each mention of `product feature`\n",
        " - Use regex pattern to extract this information"
      ]
    },
    {
      "cell_type": "markdown",
      "metadata": {
        "id": "mJ-h6iY9IyLF"
      },
      "source": [
        "The `battery` was ===> Prefix `keyword` Suffix"
      ]
    },
    {
      "cell_type": "markdown",
      "metadata": {
        "id": "Ut-xNj9TIyLG"
      },
      "source": [
        "![image.png](attachment:9b4e9e8f-7d79-4d31-b370-44726e017a96.png)<img src=\"./images/regex.png\">"
      ]
    },
    {
      "cell_type": "code",
      "execution_count": 88,
      "metadata": {
        "id": "9CKpNcqOIyLG"
      },
      "outputs": [
        {
          "name": "stdout",
          "output_type": "stream",
          "text": [
            "<class 'pandas.core.frame.DataFrame'>\n",
            "RangeIndex: 1161192 entries, 0 to 1161191\n",
            "Data columns (total 2 columns):\n",
            " #   Column  Non-Null Count    Dtype \n",
            "---  ------  --------------    ----- \n",
            " 0   word    1161177 non-null  object\n",
            " 1   tag     1161192 non-null  object\n",
            "dtypes: object(2)\n",
            "memory usage: 17.7+ MB\n"
          ]
        }
      ],
      "source": [
        "df = pd.read_csv('../data/tagged_words.csv')\n",
        "df.info()"
      ]
    },
    {
      "cell_type": "code",
      "execution_count": 89,
      "metadata": {
        "id": "NfKD33r3IyLG"
      },
      "outputs": [
        {
          "data": {
            "text/html": [
              "<div>\n",
              "<style scoped>\n",
              "    .dataframe tbody tr th:only-of-type {\n",
              "        vertical-align: middle;\n",
              "    }\n",
              "\n",
              "    .dataframe tbody tr th {\n",
              "        vertical-align: top;\n",
              "    }\n",
              "\n",
              "    .dataframe thead th {\n",
              "        text-align: right;\n",
              "    }\n",
              "</style>\n",
              "<table border=\"1\" class=\"dataframe\">\n",
              "  <thead>\n",
              "    <tr style=\"text-align: right;\">\n",
              "      <th></th>\n",
              "      <th>tag</th>\n",
              "    </tr>\n",
              "    <tr>\n",
              "      <th>tag</th>\n",
              "      <th></th>\n",
              "    </tr>\n",
              "  </thead>\n",
              "  <tbody>\n",
              "    <tr>\n",
              "      <th>NOUN</th>\n",
              "      <td>5</td>\n",
              "    </tr>\n",
              "    <tr>\n",
              "      <th>VERB</th>\n",
              "      <td>347</td>\n",
              "    </tr>\n",
              "  </tbody>\n",
              "</table>\n",
              "</div>"
            ],
            "text/plain": [
              "      tag\n",
              "tag      \n",
              "NOUN    5\n",
              "VERB  347"
            ]
          },
          "execution_count": 89,
          "metadata": {},
          "output_type": "execute_result"
        }
      ],
      "source": [
        "df[df['word']=='saw'].groupby(by=['tag']).agg({'tag':'count'})"
      ]
    },
    {
      "cell_type": "code",
      "execution_count": 90,
      "metadata": {
        "id": "3YUowmHPIyLH"
      },
      "outputs": [
        {
          "name": "stdout",
          "output_type": "stream",
          "text": [
            "('i', 'PRON')\n",
            "('saw', 'VERB')\n",
            "('him', 'PRON')\n",
            "('running', 'VERB')\n",
            "('away', 'ADV')\n"
          ]
        },
        {
          "data": {
            "text/plain": [
              "VERB    347\n",
              "NOUN      5\n",
              "Name: tag, dtype: int64"
            ]
          },
          "execution_count": 90,
          "metadata": {},
          "output_type": "execute_result"
        }
      ],
      "source": [
        "sent = \"I saw him running away\"\n",
        "\n",
        "def get_common_tag(data,word):\n",
        "    if word.lower() in data['word'].unique():\n",
        "        q = f\"word=='{word.lower()}'\"\n",
        "        return word , data.query(q)['tag'].value_counts().head(1).index.tolist()[0]\n",
        "    else:\n",
        "        return f\"{word} not in data\"\n",
        "\n",
        "for word in sent.split(\" \"):\n",
        "    print(get_common_tag(df, word.lower()))\n",
        " \n",
        "df.query(\"word=='saw'\")['tag'].value_counts()"
      ]
    },
    {
      "cell_type": "code",
      "execution_count": 91,
      "metadata": {
        "id": "KlSmNzRZIyLI"
      },
      "outputs": [
        {
          "name": "stdout",
          "output_type": "stream",
          "text": [
            "('he', 'PRON')\n",
            "('wished', 'VERB')\n",
            "('he', 'PRON')\n",
            "('was', 'VERB')\n",
            "('rich', 'ADJ')\n"
          ]
        }
      ],
      "source": [
        "sent= \"He wished he was rich\"\n",
        "for word in sent.split():\n",
        "    print(get_common_tag(df, word.lower()))"
      ]
    },
    {
      "cell_type": "code",
      "execution_count": 92,
      "metadata": {},
      "outputs": [
        {
          "data": {
            "text/html": [
              "<div>\n",
              "<style scoped>\n",
              "    .dataframe tbody tr th:only-of-type {\n",
              "        vertical-align: middle;\n",
              "    }\n",
              "\n",
              "    .dataframe tbody tr th {\n",
              "        vertical-align: top;\n",
              "    }\n",
              "\n",
              "    .dataframe thead th {\n",
              "        text-align: right;\n",
              "    }\n",
              "</style>\n",
              "<table border=\"1\" class=\"dataframe\">\n",
              "  <thead>\n",
              "    <tr style=\"text-align: right;\">\n",
              "      <th></th>\n",
              "      <th>word</th>\n",
              "      <th>tag</th>\n",
              "    </tr>\n",
              "  </thead>\n",
              "  <tbody>\n",
              "    <tr>\n",
              "      <th>0</th>\n",
              "      <td>the</td>\n",
              "      <td>DET</td>\n",
              "    </tr>\n",
              "    <tr>\n",
              "      <th>1</th>\n",
              "      <td>fulton</td>\n",
              "      <td>NOUN</td>\n",
              "    </tr>\n",
              "    <tr>\n",
              "      <th>2</th>\n",
              "      <td>county</td>\n",
              "      <td>NOUN</td>\n",
              "    </tr>\n",
              "    <tr>\n",
              "      <th>3</th>\n",
              "      <td>grand</td>\n",
              "      <td>ADJ</td>\n",
              "    </tr>\n",
              "    <tr>\n",
              "      <th>4</th>\n",
              "      <td>jury</td>\n",
              "      <td>NOUN</td>\n",
              "    </tr>\n",
              "  </tbody>\n",
              "</table>\n",
              "</div>"
            ],
            "text/plain": [
              "     word   tag\n",
              "0     the   DET\n",
              "1  fulton  NOUN\n",
              "2  county  NOUN\n",
              "3   grand   ADJ\n",
              "4    jury  NOUN"
            ]
          },
          "execution_count": 92,
          "metadata": {},
          "output_type": "execute_result"
        }
      ],
      "source": [
        "df.head()"
      ]
    },
    {
      "cell_type": "code",
      "execution_count": 93,
      "metadata": {
        "id": "QVMGhLTDIyLI"
      },
      "outputs": [
        {
          "data": {
            "text/plain": [
              "['NOUN', 'ADJ', 'VERB', 'ADP', 'DET', 'ADV', 'PRON', 'CONJ', 'PRT', 'NUM', 'X']"
            ]
          },
          "execution_count": 93,
          "metadata": {},
          "output_type": "execute_result"
        }
      ],
      "source": [
        "df['tag'].value_counts().index.tolist()"
      ]
    },
    {
      "cell_type": "code",
      "execution_count": 94,
      "metadata": {},
      "outputs": [
        {
          "data": {
            "text/html": [
              "<div>\n",
              "<style scoped>\n",
              "    .dataframe tbody tr th:only-of-type {\n",
              "        vertical-align: middle;\n",
              "    }\n",
              "\n",
              "    .dataframe tbody tr th {\n",
              "        vertical-align: top;\n",
              "    }\n",
              "\n",
              "    .dataframe thead th {\n",
              "        text-align: right;\n",
              "    }\n",
              "</style>\n",
              "<table border=\"1\" class=\"dataframe\">\n",
              "  <thead>\n",
              "    <tr style=\"text-align: right;\">\n",
              "      <th></th>\n",
              "      <th>word</th>\n",
              "      <th>tag</th>\n",
              "      <th>count</th>\n",
              "    </tr>\n",
              "  </thead>\n",
              "  <tbody>\n",
              "    <tr>\n",
              "      <th>0</th>\n",
              "      <td>!</td>\n",
              "      <td>ADJ</td>\n",
              "      <td>147565</td>\n",
              "    </tr>\n",
              "    <tr>\n",
              "      <th>1</th>\n",
              "      <td>$.027</td>\n",
              "      <td>NOUN</td>\n",
              "      <td>2</td>\n",
              "    </tr>\n",
              "    <tr>\n",
              "      <th>2</th>\n",
              "      <td>$.03</td>\n",
              "      <td>NOUN</td>\n",
              "      <td>4</td>\n",
              "    </tr>\n",
              "    <tr>\n",
              "      <th>3</th>\n",
              "      <td>$.054/mbf</td>\n",
              "      <td>NOUN</td>\n",
              "      <td>1</td>\n",
              "    </tr>\n",
              "    <tr>\n",
              "      <th>4</th>\n",
              "      <td>$.07</td>\n",
              "      <td>NOUN</td>\n",
              "      <td>3</td>\n",
              "    </tr>\n",
              "  </tbody>\n",
              "</table>\n",
              "</div>"
            ],
            "text/plain": [
              "        word   tag   count\n",
              "0          !   ADJ  147565\n",
              "1      $.027  NOUN       2\n",
              "2       $.03  NOUN       4\n",
              "3  $.054/mbf  NOUN       1\n",
              "4       $.07  NOUN       3"
            ]
          },
          "execution_count": 94,
          "metadata": {},
          "output_type": "execute_result"
        }
      ],
      "source": [
        "df_summary = df.groupby(by=['word','tag']).agg({'tag':'count'}).rename(columns={'tag':'count'}).reset_index()\n",
        "df_summary.head() # sort_values(by='count', ascending=False)"
      ]
    },
    {
      "cell_type": "code",
      "execution_count": 95,
      "metadata": {
        "id": "f3aAJ83iIyLI"
      },
      "outputs": [
        {
          "data": {
            "text/html": [
              "<div>\n",
              "<style scoped>\n",
              "    .dataframe tbody tr th:only-of-type {\n",
              "        vertical-align: middle;\n",
              "    }\n",
              "\n",
              "    .dataframe tbody tr th {\n",
              "        vertical-align: top;\n",
              "    }\n",
              "\n",
              "    .dataframe thead th {\n",
              "        text-align: right;\n",
              "    }\n",
              "</style>\n",
              "<table border=\"1\" class=\"dataframe\">\n",
              "  <thead>\n",
              "    <tr style=\"text-align: right;\">\n",
              "      <th>tag</th>\n",
              "      <th>ADJ</th>\n",
              "      <th>ADP</th>\n",
              "      <th>ADV</th>\n",
              "      <th>CONJ</th>\n",
              "      <th>DET</th>\n",
              "      <th>NOUN</th>\n",
              "      <th>NUM</th>\n",
              "      <th>PRON</th>\n",
              "      <th>PRT</th>\n",
              "      <th>VERB</th>\n",
              "      <th>X</th>\n",
              "    </tr>\n",
              "    <tr>\n",
              "      <th>word</th>\n",
              "      <th></th>\n",
              "      <th></th>\n",
              "      <th></th>\n",
              "      <th></th>\n",
              "      <th></th>\n",
              "      <th></th>\n",
              "      <th></th>\n",
              "      <th></th>\n",
              "      <th></th>\n",
              "      <th></th>\n",
              "      <th></th>\n",
              "    </tr>\n",
              "  </thead>\n",
              "  <tbody>\n",
              "    <tr>\n",
              "      <th>!</th>\n",
              "      <td>1.0</td>\n",
              "      <td>0.0</td>\n",
              "      <td>0.0</td>\n",
              "      <td>0.0</td>\n",
              "      <td>0.0</td>\n",
              "      <td>0.0</td>\n",
              "      <td>0.0</td>\n",
              "      <td>0.0</td>\n",
              "      <td>0.0</td>\n",
              "      <td>0.0</td>\n",
              "      <td>0.0</td>\n",
              "    </tr>\n",
              "    <tr>\n",
              "      <th>$.027</th>\n",
              "      <td>0.0</td>\n",
              "      <td>0.0</td>\n",
              "      <td>0.0</td>\n",
              "      <td>0.0</td>\n",
              "      <td>0.0</td>\n",
              "      <td>1.0</td>\n",
              "      <td>0.0</td>\n",
              "      <td>0.0</td>\n",
              "      <td>0.0</td>\n",
              "      <td>0.0</td>\n",
              "      <td>0.0</td>\n",
              "    </tr>\n",
              "    <tr>\n",
              "      <th>$.03</th>\n",
              "      <td>0.0</td>\n",
              "      <td>0.0</td>\n",
              "      <td>0.0</td>\n",
              "      <td>0.0</td>\n",
              "      <td>0.0</td>\n",
              "      <td>1.0</td>\n",
              "      <td>0.0</td>\n",
              "      <td>0.0</td>\n",
              "      <td>0.0</td>\n",
              "      <td>0.0</td>\n",
              "      <td>0.0</td>\n",
              "    </tr>\n",
              "    <tr>\n",
              "      <th>$.054/mbf</th>\n",
              "      <td>0.0</td>\n",
              "      <td>0.0</td>\n",
              "      <td>0.0</td>\n",
              "      <td>0.0</td>\n",
              "      <td>0.0</td>\n",
              "      <td>1.0</td>\n",
              "      <td>0.0</td>\n",
              "      <td>0.0</td>\n",
              "      <td>0.0</td>\n",
              "      <td>0.0</td>\n",
              "      <td>0.0</td>\n",
              "    </tr>\n",
              "    <tr>\n",
              "      <th>$.07</th>\n",
              "      <td>0.0</td>\n",
              "      <td>0.0</td>\n",
              "      <td>0.0</td>\n",
              "      <td>0.0</td>\n",
              "      <td>0.0</td>\n",
              "      <td>1.0</td>\n",
              "      <td>0.0</td>\n",
              "      <td>0.0</td>\n",
              "      <td>0.0</td>\n",
              "      <td>0.0</td>\n",
              "      <td>0.0</td>\n",
              "    </tr>\n",
              "    <tr>\n",
              "      <th>...</th>\n",
              "      <td>...</td>\n",
              "      <td>...</td>\n",
              "      <td>...</td>\n",
              "      <td>...</td>\n",
              "      <td>...</td>\n",
              "      <td>...</td>\n",
              "      <td>...</td>\n",
              "      <td>...</td>\n",
              "      <td>...</td>\n",
              "      <td>...</td>\n",
              "      <td>...</td>\n",
              "    </tr>\n",
              "    <tr>\n",
              "      <th>zurcher</th>\n",
              "      <td>0.0</td>\n",
              "      <td>0.0</td>\n",
              "      <td>0.0</td>\n",
              "      <td>0.0</td>\n",
              "      <td>0.0</td>\n",
              "      <td>1.0</td>\n",
              "      <td>0.0</td>\n",
              "      <td>0.0</td>\n",
              "      <td>0.0</td>\n",
              "      <td>0.0</td>\n",
              "      <td>0.0</td>\n",
              "    </tr>\n",
              "    <tr>\n",
              "      <th>zurich</th>\n",
              "      <td>0.0</td>\n",
              "      <td>0.0</td>\n",
              "      <td>0.0</td>\n",
              "      <td>0.0</td>\n",
              "      <td>0.0</td>\n",
              "      <td>1.0</td>\n",
              "      <td>0.0</td>\n",
              "      <td>0.0</td>\n",
              "      <td>0.0</td>\n",
              "      <td>0.0</td>\n",
              "      <td>0.0</td>\n",
              "    </tr>\n",
              "    <tr>\n",
              "      <th>zwei</th>\n",
              "      <td>0.0</td>\n",
              "      <td>0.0</td>\n",
              "      <td>0.0</td>\n",
              "      <td>0.0</td>\n",
              "      <td>0.0</td>\n",
              "      <td>0.0</td>\n",
              "      <td>0.0</td>\n",
              "      <td>0.0</td>\n",
              "      <td>0.0</td>\n",
              "      <td>0.0</td>\n",
              "      <td>1.0</td>\n",
              "    </tr>\n",
              "    <tr>\n",
              "      <th>zworykin</th>\n",
              "      <td>0.0</td>\n",
              "      <td>0.0</td>\n",
              "      <td>0.0</td>\n",
              "      <td>0.0</td>\n",
              "      <td>0.0</td>\n",
              "      <td>1.0</td>\n",
              "      <td>0.0</td>\n",
              "      <td>0.0</td>\n",
              "      <td>0.0</td>\n",
              "      <td>0.0</td>\n",
              "      <td>0.0</td>\n",
              "    </tr>\n",
              "    <tr>\n",
              "      <th>{0,t}</th>\n",
              "      <td>0.0</td>\n",
              "      <td>0.0</td>\n",
              "      <td>0.0</td>\n",
              "      <td>0.0</td>\n",
              "      <td>0.0</td>\n",
              "      <td>1.0</td>\n",
              "      <td>0.0</td>\n",
              "      <td>0.0</td>\n",
              "      <td>0.0</td>\n",
              "      <td>0.0</td>\n",
              "      <td>0.0</td>\n",
              "    </tr>\n",
              "  </tbody>\n",
              "</table>\n",
              "<p>49806 rows × 11 columns</p>\n",
              "</div>"
            ],
            "text/plain": [
              "tag        ADJ  ADP  ADV  CONJ  DET  NOUN  NUM  PRON  PRT  VERB    X\n",
              "word                                                                \n",
              "!          1.0  0.0  0.0   0.0  0.0   0.0  0.0   0.0  0.0   0.0  0.0\n",
              "$.027      0.0  0.0  0.0   0.0  0.0   1.0  0.0   0.0  0.0   0.0  0.0\n",
              "$.03       0.0  0.0  0.0   0.0  0.0   1.0  0.0   0.0  0.0   0.0  0.0\n",
              "$.054/mbf  0.0  0.0  0.0   0.0  0.0   1.0  0.0   0.0  0.0   0.0  0.0\n",
              "$.07       0.0  0.0  0.0   0.0  0.0   1.0  0.0   0.0  0.0   0.0  0.0\n",
              "...        ...  ...  ...   ...  ...   ...  ...   ...  ...   ...  ...\n",
              "zurcher    0.0  0.0  0.0   0.0  0.0   1.0  0.0   0.0  0.0   0.0  0.0\n",
              "zurich     0.0  0.0  0.0   0.0  0.0   1.0  0.0   0.0  0.0   0.0  0.0\n",
              "zwei       0.0  0.0  0.0   0.0  0.0   0.0  0.0   0.0  0.0   0.0  1.0\n",
              "zworykin   0.0  0.0  0.0   0.0  0.0   1.0  0.0   0.0  0.0   0.0  0.0\n",
              "{0,t}      0.0  0.0  0.0   0.0  0.0   1.0  0.0   0.0  0.0   0.0  0.0\n",
              "\n",
              "[49806 rows x 11 columns]"
            ]
          },
          "execution_count": 95,
          "metadata": {},
          "output_type": "execute_result"
        }
      ],
      "source": [
        "df_word_tag = pd.pivot_table(data=df_summary, index='word', columns='tag', values='count', aggfunc='count').fillna(0)\n",
        "df_word_tag"
      ]
    },
    {
      "cell_type": "code",
      "execution_count": 96,
      "metadata": {},
      "outputs": [
        {
          "data": {
            "text/html": [
              "<div>\n",
              "<style scoped>\n",
              "    .dataframe tbody tr th:only-of-type {\n",
              "        vertical-align: middle;\n",
              "    }\n",
              "\n",
              "    .dataframe tbody tr th {\n",
              "        vertical-align: top;\n",
              "    }\n",
              "\n",
              "    .dataframe thead th {\n",
              "        text-align: right;\n",
              "    }\n",
              "</style>\n",
              "<table border=\"1\" class=\"dataframe\">\n",
              "  <thead>\n",
              "    <tr style=\"text-align: right;\">\n",
              "      <th>tag</th>\n",
              "      <th>ADJ</th>\n",
              "      <th>ADP</th>\n",
              "      <th>ADV</th>\n",
              "      <th>CONJ</th>\n",
              "      <th>DET</th>\n",
              "      <th>NOUN</th>\n",
              "      <th>NUM</th>\n",
              "      <th>PRON</th>\n",
              "      <th>PRT</th>\n",
              "      <th>VERB</th>\n",
              "      <th>X</th>\n",
              "    </tr>\n",
              "    <tr>\n",
              "      <th>word</th>\n",
              "      <th></th>\n",
              "      <th></th>\n",
              "      <th></th>\n",
              "      <th></th>\n",
              "      <th></th>\n",
              "      <th></th>\n",
              "      <th></th>\n",
              "      <th></th>\n",
              "      <th></th>\n",
              "      <th></th>\n",
              "      <th></th>\n",
              "    </tr>\n",
              "  </thead>\n",
              "  <tbody>\n",
              "    <tr>\n",
              "      <th>!</th>\n",
              "      <td>0.000124</td>\n",
              "      <td>0.0</td>\n",
              "      <td>0.0</td>\n",
              "      <td>0.0</td>\n",
              "      <td>0.0</td>\n",
              "      <td>0.000000</td>\n",
              "      <td>0.0</td>\n",
              "      <td>0.0</td>\n",
              "      <td>0.0</td>\n",
              "      <td>0.0</td>\n",
              "      <td>0.000000</td>\n",
              "    </tr>\n",
              "    <tr>\n",
              "      <th>$.027</th>\n",
              "      <td>0.000000</td>\n",
              "      <td>0.0</td>\n",
              "      <td>0.0</td>\n",
              "      <td>0.0</td>\n",
              "      <td>0.0</td>\n",
              "      <td>0.000033</td>\n",
              "      <td>0.0</td>\n",
              "      <td>0.0</td>\n",
              "      <td>0.0</td>\n",
              "      <td>0.0</td>\n",
              "      <td>0.000000</td>\n",
              "    </tr>\n",
              "    <tr>\n",
              "      <th>$.03</th>\n",
              "      <td>0.000000</td>\n",
              "      <td>0.0</td>\n",
              "      <td>0.0</td>\n",
              "      <td>0.0</td>\n",
              "      <td>0.0</td>\n",
              "      <td>0.000033</td>\n",
              "      <td>0.0</td>\n",
              "      <td>0.0</td>\n",
              "      <td>0.0</td>\n",
              "      <td>0.0</td>\n",
              "      <td>0.000000</td>\n",
              "    </tr>\n",
              "    <tr>\n",
              "      <th>$.054/mbf</th>\n",
              "      <td>0.000000</td>\n",
              "      <td>0.0</td>\n",
              "      <td>0.0</td>\n",
              "      <td>0.0</td>\n",
              "      <td>0.0</td>\n",
              "      <td>0.000033</td>\n",
              "      <td>0.0</td>\n",
              "      <td>0.0</td>\n",
              "      <td>0.0</td>\n",
              "      <td>0.0</td>\n",
              "      <td>0.000000</td>\n",
              "    </tr>\n",
              "    <tr>\n",
              "      <th>$.07</th>\n",
              "      <td>0.000000</td>\n",
              "      <td>0.0</td>\n",
              "      <td>0.0</td>\n",
              "      <td>0.0</td>\n",
              "      <td>0.0</td>\n",
              "      <td>0.000033</td>\n",
              "      <td>0.0</td>\n",
              "      <td>0.0</td>\n",
              "      <td>0.0</td>\n",
              "      <td>0.0</td>\n",
              "      <td>0.000000</td>\n",
              "    </tr>\n",
              "    <tr>\n",
              "      <th>...</th>\n",
              "      <td>...</td>\n",
              "      <td>...</td>\n",
              "      <td>...</td>\n",
              "      <td>...</td>\n",
              "      <td>...</td>\n",
              "      <td>...</td>\n",
              "      <td>...</td>\n",
              "      <td>...</td>\n",
              "      <td>...</td>\n",
              "      <td>...</td>\n",
              "      <td>...</td>\n",
              "    </tr>\n",
              "    <tr>\n",
              "      <th>zurcher</th>\n",
              "      <td>0.000000</td>\n",
              "      <td>0.0</td>\n",
              "      <td>0.0</td>\n",
              "      <td>0.0</td>\n",
              "      <td>0.0</td>\n",
              "      <td>0.000033</td>\n",
              "      <td>0.0</td>\n",
              "      <td>0.0</td>\n",
              "      <td>0.0</td>\n",
              "      <td>0.0</td>\n",
              "      <td>0.000000</td>\n",
              "    </tr>\n",
              "    <tr>\n",
              "      <th>zurich</th>\n",
              "      <td>0.000000</td>\n",
              "      <td>0.0</td>\n",
              "      <td>0.0</td>\n",
              "      <td>0.0</td>\n",
              "      <td>0.0</td>\n",
              "      <td>0.000033</td>\n",
              "      <td>0.0</td>\n",
              "      <td>0.0</td>\n",
              "      <td>0.0</td>\n",
              "      <td>0.0</td>\n",
              "      <td>0.000000</td>\n",
              "    </tr>\n",
              "    <tr>\n",
              "      <th>zwei</th>\n",
              "      <td>0.000000</td>\n",
              "      <td>0.0</td>\n",
              "      <td>0.0</td>\n",
              "      <td>0.0</td>\n",
              "      <td>0.0</td>\n",
              "      <td>0.000000</td>\n",
              "      <td>0.0</td>\n",
              "      <td>0.0</td>\n",
              "      <td>0.0</td>\n",
              "      <td>0.0</td>\n",
              "      <td>0.001192</td>\n",
              "    </tr>\n",
              "    <tr>\n",
              "      <th>zworykin</th>\n",
              "      <td>0.000000</td>\n",
              "      <td>0.0</td>\n",
              "      <td>0.0</td>\n",
              "      <td>0.0</td>\n",
              "      <td>0.0</td>\n",
              "      <td>0.000033</td>\n",
              "      <td>0.0</td>\n",
              "      <td>0.0</td>\n",
              "      <td>0.0</td>\n",
              "      <td>0.0</td>\n",
              "      <td>0.000000</td>\n",
              "    </tr>\n",
              "    <tr>\n",
              "      <th>{0,t}</th>\n",
              "      <td>0.000000</td>\n",
              "      <td>0.0</td>\n",
              "      <td>0.0</td>\n",
              "      <td>0.0</td>\n",
              "      <td>0.0</td>\n",
              "      <td>0.000033</td>\n",
              "      <td>0.0</td>\n",
              "      <td>0.0</td>\n",
              "      <td>0.0</td>\n",
              "      <td>0.0</td>\n",
              "      <td>0.000000</td>\n",
              "    </tr>\n",
              "  </tbody>\n",
              "</table>\n",
              "<p>49806 rows × 11 columns</p>\n",
              "</div>"
            ],
            "text/plain": [
              "tag             ADJ  ADP  ADV  CONJ  DET      NOUN  NUM  PRON  PRT  VERB  \\\n",
              "word                                                                       \n",
              "!          0.000124  0.0  0.0   0.0  0.0  0.000000  0.0   0.0  0.0   0.0   \n",
              "$.027      0.000000  0.0  0.0   0.0  0.0  0.000033  0.0   0.0  0.0   0.0   \n",
              "$.03       0.000000  0.0  0.0   0.0  0.0  0.000033  0.0   0.0  0.0   0.0   \n",
              "$.054/mbf  0.000000  0.0  0.0   0.0  0.0  0.000033  0.0   0.0  0.0   0.0   \n",
              "$.07       0.000000  0.0  0.0   0.0  0.0  0.000033  0.0   0.0  0.0   0.0   \n",
              "...             ...  ...  ...   ...  ...       ...  ...   ...  ...   ...   \n",
              "zurcher    0.000000  0.0  0.0   0.0  0.0  0.000033  0.0   0.0  0.0   0.0   \n",
              "zurich     0.000000  0.0  0.0   0.0  0.0  0.000033  0.0   0.0  0.0   0.0   \n",
              "zwei       0.000000  0.0  0.0   0.0  0.0  0.000000  0.0   0.0  0.0   0.0   \n",
              "zworykin   0.000000  0.0  0.0   0.0  0.0  0.000033  0.0   0.0  0.0   0.0   \n",
              "{0,t}      0.000000  0.0  0.0   0.0  0.0  0.000033  0.0   0.0  0.0   0.0   \n",
              "\n",
              "tag               X  \n",
              "word                 \n",
              "!          0.000000  \n",
              "$.027      0.000000  \n",
              "$.03       0.000000  \n",
              "$.054/mbf  0.000000  \n",
              "$.07       0.000000  \n",
              "...             ...  \n",
              "zurcher    0.000000  \n",
              "zurich     0.000000  \n",
              "zwei       0.001192  \n",
              "zworykin   0.000000  \n",
              "{0,t}      0.000000  \n",
              "\n",
              "[49806 rows x 11 columns]"
            ]
          },
          "execution_count": 96,
          "metadata": {},
          "output_type": "execute_result"
        }
      ],
      "source": [
        "for col in df_word_tag.columns:\n",
        "    df_word_tag[col] = (df_word_tag[col]/df_word_tag[col].sum())\n",
        "\n",
        "df_word_tag"
      ]
    },
    {
      "cell_type": "code",
      "execution_count": 97,
      "metadata": {},
      "outputs": [
        {
          "name": "stdout",
          "output_type": "stream",
          "text": [
            "ADJ 0.9999999999999999\n",
            "ADP 1.0\n",
            "ADV 1.0\n",
            "CONJ 1.0\n",
            "DET 0.9999999999999999\n",
            "NOUN 0.9999999999999999\n",
            "NUM 1.0\n",
            "PRON 1.0\n",
            "PRT 0.9999999999999999\n",
            "VERB 1.0\n",
            "X 1.0\n"
          ]
        }
      ],
      "source": [
        "for col in df_word_tag.columns:\n",
        "    print(col, df_word_tag[col].sum())"
      ]
    },
    {
      "cell_type": "code",
      "execution_count": 98,
      "metadata": {},
      "outputs": [
        {
          "data": {
            "text/plain": [
              "tag\n",
              "ADJ     0.000000\n",
              "ADP     0.000000\n",
              "ADV     0.000000\n",
              "CONJ    0.000000\n",
              "DET     0.017544\n",
              "NOUN    0.000000\n",
              "NUM     0.000000\n",
              "PRON    0.015385\n",
              "PRT     0.000000\n",
              "VERB    0.000000\n",
              "X       0.001192\n",
              "Name: his, dtype: float64"
            ]
          },
          "execution_count": 98,
          "metadata": {},
          "output_type": "execute_result"
        }
      ],
      "source": [
        "df_word_tag.loc[\"his\", :] #df_word_tag['word']=='his']"
      ]
    },
    {
      "cell_type": "code",
      "execution_count": 99,
      "metadata": {},
      "outputs": [
        {
          "data": {
            "text/html": [
              "<div>\n",
              "<style scoped>\n",
              "    .dataframe tbody tr th:only-of-type {\n",
              "        vertical-align: middle;\n",
              "    }\n",
              "\n",
              "    .dataframe tbody tr th {\n",
              "        vertical-align: top;\n",
              "    }\n",
              "\n",
              "    .dataframe thead th {\n",
              "        text-align: right;\n",
              "    }\n",
              "</style>\n",
              "<table border=\"1\" class=\"dataframe\">\n",
              "  <thead>\n",
              "    <tr style=\"text-align: right;\">\n",
              "      <th></th>\n",
              "      <th>word</th>\n",
              "      <th>tag</th>\n",
              "    </tr>\n",
              "  </thead>\n",
              "  <tbody>\n",
              "    <tr>\n",
              "      <th>776</th>\n",
              "      <td>his</td>\n",
              "      <td>DET</td>\n",
              "    </tr>\n",
              "    <tr>\n",
              "      <th>789</th>\n",
              "      <td>his</td>\n",
              "      <td>DET</td>\n",
              "    </tr>\n",
              "    <tr>\n",
              "      <th>850</th>\n",
              "      <td>his</td>\n",
              "      <td>DET</td>\n",
              "    </tr>\n",
              "    <tr>\n",
              "      <th>857</th>\n",
              "      <td>his</td>\n",
              "      <td>DET</td>\n",
              "    </tr>\n",
              "    <tr>\n",
              "      <th>932</th>\n",
              "      <td>his</td>\n",
              "      <td>DET</td>\n",
              "    </tr>\n",
              "    <tr>\n",
              "      <th>...</th>\n",
              "      <td>...</td>\n",
              "      <td>...</td>\n",
              "    </tr>\n",
              "    <tr>\n",
              "      <th>1160771</th>\n",
              "      <td>his</td>\n",
              "      <td>DET</td>\n",
              "    </tr>\n",
              "    <tr>\n",
              "      <th>1160804</th>\n",
              "      <td>his</td>\n",
              "      <td>DET</td>\n",
              "    </tr>\n",
              "    <tr>\n",
              "      <th>1160837</th>\n",
              "      <td>his</td>\n",
              "      <td>DET</td>\n",
              "    </tr>\n",
              "    <tr>\n",
              "      <th>1160896</th>\n",
              "      <td>his</td>\n",
              "      <td>DET</td>\n",
              "    </tr>\n",
              "    <tr>\n",
              "      <th>1160912</th>\n",
              "      <td>his</td>\n",
              "      <td>DET</td>\n",
              "    </tr>\n",
              "  </tbody>\n",
              "</table>\n",
              "<p>6996 rows × 2 columns</p>\n",
              "</div>"
            ],
            "text/plain": [
              "        word  tag\n",
              "776      his  DET\n",
              "789      his  DET\n",
              "850      his  DET\n",
              "857      his  DET\n",
              "932      his  DET\n",
              "...      ...  ...\n",
              "1160771  his  DET\n",
              "1160804  his  DET\n",
              "1160837  his  DET\n",
              "1160896  his  DET\n",
              "1160912  his  DET\n",
              "\n",
              "[6996 rows x 2 columns]"
            ]
          },
          "execution_count": 99,
          "metadata": {},
          "output_type": "execute_result"
        }
      ],
      "source": [
        "df[df['word']=='his']"
      ]
    },
    {
      "cell_type": "code",
      "execution_count": 112,
      "metadata": {},
      "outputs": [
        {
          "data": {
            "text/plain": [
              "(1161192, 2)"
            ]
          },
          "execution_count": 112,
          "metadata": {},
          "output_type": "execute_result"
        }
      ],
      "source": [
        "df.shape"
      ]
    },
    {
      "cell_type": "code",
      "execution_count": 116,
      "metadata": {},
      "outputs": [
        {
          "data": {
            "text/plain": [
              "49334"
            ]
          },
          "execution_count": 116,
          "metadata": {},
          "output_type": "execute_result"
        }
      ],
      "source": [
        "df[df['tag']=='PRON']['tag'].count()"
      ]
    },
    {
      "cell_type": "code",
      "execution_count": 114,
      "metadata": {},
      "outputs": [
        {
          "data": {
            "text/plain": [
              "37"
            ]
          },
          "execution_count": 114,
          "metadata": {},
          "output_type": "execute_result"
        }
      ],
      "source": [
        "df[(df['word']=='his') & (df['tag']=='PRON')]['tag'].count()"
      ]
    },
    {
      "cell_type": "code",
      "execution_count": 123,
      "metadata": {},
      "outputs": [
        {
          "data": {
            "text/plain": [
              "(0.0007499898650018244, 0.001)"
            ]
          },
          "execution_count": 123,
          "metadata": {},
          "output_type": "execute_result"
        }
      ],
      "source": [
        "37/49334, round(37/49334, 3)"
      ]
    },
    {
      "cell_type": "code",
      "execution_count": 124,
      "metadata": {},
      "outputs": [
        {
          "name": "stdout",
          "output_type": "stream",
          "text": [
            "tag\n",
            "ADJ     0.000000\n",
            "ADP     0.000000\n",
            "ADV     0.000000\n",
            "CONJ    0.000000\n",
            "DET     0.005991\n",
            "NOUN    0.000000\n",
            "NUM     0.000000\n",
            "PRON    0.000032\n",
            "PRT     0.000000\n",
            "VERB    0.000000\n",
            "X       0.000002\n",
            "Name: his, dtype: float64\n"
          ]
        },
        {
          "data": {
            "text/plain": [
              "(pandas.core.frame.DataFrame,\n",
              " (49806, 11),\n",
              " Index(['!', '$.027', '$.03', '$.054/mbf', '$.07', '$.07/cwt', '$.076', '$.09',\n",
              "        '$.10-a-minute', '$.105',\n",
              "        ...\n",
              "        'zorrillas', 'zounds', 'zu', 'zubkovskaya', 'zur', 'zurcher', 'zurich',\n",
              "        'zwei', 'zworykin', '{0,t}'],\n",
              "       dtype='object', name='word', length=49806),\n",
              " tag             ADJ  ADP  ADV  CONJ  DET          NOUN  NUM  PRON  PRT  VERB  \\\n",
              " word                                                                           \n",
              " !          0.127082  0.0  0.0   0.0  0.0  0.000000e+00  0.0   0.0  0.0   0.0   \n",
              " $.027      0.000000  0.0  0.0   0.0  0.0  1.722390e-06  0.0   0.0  0.0   0.0   \n",
              " $.03       0.000000  0.0  0.0   0.0  0.0  3.444781e-06  0.0   0.0  0.0   0.0   \n",
              " $.054/mbf  0.000000  0.0  0.0   0.0  0.0  8.611951e-07  0.0   0.0  0.0   0.0   \n",
              " $.07       0.000000  0.0  0.0   0.0  0.0  2.583585e-06  0.0   0.0  0.0   0.0   \n",
              " ...             ...  ...  ...   ...  ...           ...  ...   ...  ...   ...   \n",
              " zurcher    0.000000  0.0  0.0   0.0  0.0  1.722390e-06  0.0   0.0  0.0   0.0   \n",
              " zurich     0.000000  0.0  0.0   0.0  0.0  1.722390e-06  0.0   0.0  0.0   0.0   \n",
              " zwei       0.000000  0.0  0.0   0.0  0.0  0.000000e+00  0.0   0.0  0.0   0.0   \n",
              " zworykin   0.000000  0.0  0.0   0.0  0.0  1.722390e-06  0.0   0.0  0.0   0.0   \n",
              " {0,t}      0.000000  0.0  0.0   0.0  0.0  8.611951e-07  0.0   0.0  0.0   0.0   \n",
              " \n",
              " tag                   X  \n",
              " word                     \n",
              " !          0.000000e+00  \n",
              " $.027      0.000000e+00  \n",
              " $.03       0.000000e+00  \n",
              " $.054/mbf  0.000000e+00  \n",
              " $.07       0.000000e+00  \n",
              " ...                 ...  \n",
              " zurcher    0.000000e+00  \n",
              " zurich     0.000000e+00  \n",
              " zwei       8.611951e-07  \n",
              " zworykin   0.000000e+00  \n",
              " {0,t}      0.000000e+00  \n",
              " \n",
              " [49806 rows x 11 columns])"
            ]
          },
          "execution_count": 124,
          "metadata": {},
          "output_type": "execute_result"
        }
      ],
      "source": [
        "df_ = pd.crosstab(df['word'], df['tag'], normalize=True)\n",
        "'''for col in df_.columns:\n",
        "    df_[col] = (df_[col]/df_[col].sum())'''\n",
        "print(df_.loc['his', :])\n",
        "type(df_), df_.shape, df_.index, df_\n"
      ]
    },
    {
      "cell_type": "code",
      "execution_count": 125,
      "metadata": {},
      "outputs": [
        {
          "name": "stdout",
          "output_type": "stream",
          "text": [
            "tag\n",
            "ADJ     0.000000\n",
            "ADP     0.000000\n",
            "ADV     0.000000\n",
            "CONJ    0.000000\n",
            "DET     0.050774\n",
            "NOUN    0.000000\n",
            "NUM     0.000000\n",
            "PRON    0.000750\n",
            "PRT     0.000000\n",
            "VERB    0.000000\n",
            "X       0.001443\n",
            "Name: his, dtype: float64\n"
          ]
        }
      ],
      "source": [
        "df_ = pd.crosstab(df['word'], df['tag']) \n",
        "for col in df_.columns:\n",
        "    df_[col] = (df_[col]/df_[col].sum())\n",
        "print(df_.loc['his', :])"
      ]
    },
    {
      "cell_type": "code",
      "execution_count": 129,
      "metadata": {},
      "outputs": [
        {
          "data": {
            "text/plain": [
              "0.001"
            ]
          },
          "execution_count": 129,
          "metadata": {},
          "output_type": "execute_result"
        }
      ],
      "source": [
        "round(0.000750,3)"
      ]
    },
    {
      "cell_type": "code",
      "execution_count": 130,
      "metadata": {},
      "outputs": [
        {
          "data": {
            "text/plain": [
              "0.001"
            ]
          },
          "execution_count": 130,
          "metadata": {},
          "output_type": "execute_result"
        }
      ],
      "source": [
        "emmission_matrix = pd.crosstab(df['word'],df['tag'],normalize='columns')\n",
        "\n",
        "word = 'his'\n",
        "emmission_matrix.loc[word][emmission_matrix.loc[word]>0].round(3)\n",
        "emmission_matrix['PRON'].loc['his'].round(3)"
      ]
    },
    {
      "cell_type": "code",
      "execution_count": 128,
      "metadata": {},
      "outputs": [
        {
          "data": {
            "text/plain": [
              "tag\n",
              "DET     0.050774\n",
              "PRON    0.000750\n",
              "X       0.001443\n",
              "Name: his, dtype: float64"
            ]
          },
          "execution_count": 128,
          "metadata": {},
          "output_type": "execute_result"
        }
      ],
      "source": [
        "emmission_matrix.loc[word][emmission_matrix.loc[word]>0]"
      ]
    },
    {
      "cell_type": "code",
      "execution_count": 132,
      "metadata": {},
      "outputs": [
        {
          "data": {
            "text/html": [
              "<div>\n",
              "<style scoped>\n",
              "    .dataframe tbody tr th:only-of-type {\n",
              "        vertical-align: middle;\n",
              "    }\n",
              "\n",
              "    .dataframe tbody tr th {\n",
              "        vertical-align: top;\n",
              "    }\n",
              "\n",
              "    .dataframe thead th {\n",
              "        text-align: right;\n",
              "    }\n",
              "</style>\n",
              "<table border=\"1\" class=\"dataframe\">\n",
              "  <thead>\n",
              "    <tr style=\"text-align: right;\">\n",
              "      <th></th>\n",
              "      <th>word</th>\n",
              "      <th>tag</th>\n",
              "    </tr>\n",
              "  </thead>\n",
              "  <tbody>\n",
              "    <tr>\n",
              "      <th>100</th>\n",
              "      <td>allen</td>\n",
              "      <td>NOUN</td>\n",
              "    </tr>\n",
              "    <tr>\n",
              "      <th>101</th>\n",
              "      <td>jr.</td>\n",
              "      <td>NOUN</td>\n",
              "    </tr>\n",
              "    <tr>\n",
              "      <th>102</th>\n",
              "      <td>!</td>\n",
              "      <td>ADJ</td>\n",
              "    </tr>\n",
              "    <tr>\n",
              "      <th>103</th>\n",
              "      <td>!</td>\n",
              "      <td>ADJ</td>\n",
              "    </tr>\n",
              "    <tr>\n",
              "      <th>104</th>\n",
              "      <td>only</td>\n",
              "      <td>ADV</td>\n",
              "    </tr>\n",
              "    <tr>\n",
              "      <th>105</th>\n",
              "      <td>a</td>\n",
              "      <td>DET</td>\n",
              "    </tr>\n",
              "    <tr>\n",
              "      <th>106</th>\n",
              "      <td>relative</td>\n",
              "      <td>ADJ</td>\n",
              "    </tr>\n",
              "    <tr>\n",
              "      <th>107</th>\n",
              "      <td>handful</td>\n",
              "      <td>NOUN</td>\n",
              "    </tr>\n",
              "    <tr>\n",
              "      <th>108</th>\n",
              "      <td>of</td>\n",
              "      <td>ADP</td>\n",
              "    </tr>\n",
              "    <tr>\n",
              "      <th>109</th>\n",
              "      <td>such</td>\n",
              "      <td>ADJ</td>\n",
              "    </tr>\n",
              "  </tbody>\n",
              "</table>\n",
              "</div>"
            ],
            "text/plain": [
              "         word   tag\n",
              "100     allen  NOUN\n",
              "101       jr.  NOUN\n",
              "102         !   ADJ\n",
              "103         !   ADJ\n",
              "104      only   ADV\n",
              "105         a   DET\n",
              "106  relative   ADJ\n",
              "107   handful  NOUN\n",
              "108        of   ADP\n",
              "109      such   ADJ"
            ]
          },
          "execution_count": 132,
          "metadata": {},
          "output_type": "execute_result"
        }
      ],
      "source": [
        "df[100:110]"
      ]
    },
    {
      "cell_type": "markdown",
      "metadata": {
        "id": "NhNY_nmIIyLI"
      },
      "source": [
        "#### Extract all the prefixes and suffixes of `battery`"
      ]
    },
    {
      "cell_type": "code",
      "execution_count": null,
      "metadata": {
        "id": "u9dcEALnIyLJ"
      },
      "outputs": [],
      "source": []
    },
    {
      "cell_type": "code",
      "execution_count": null,
      "metadata": {
        "id": "LXh3QNXBIyLJ"
      },
      "outputs": [],
      "source": []
    },
    {
      "cell_type": "code",
      "execution_count": null,
      "metadata": {
        "id": "o8KOaRWHIyLJ"
      },
      "outputs": [],
      "source": []
    },
    {
      "cell_type": "code",
      "execution_count": null,
      "metadata": {
        "id": "NnH0ufoPIyLK"
      },
      "outputs": [],
      "source": []
    },
    {
      "cell_type": "code",
      "execution_count": null,
      "metadata": {
        "id": "otmFHjwxIyLK"
      },
      "outputs": [],
      "source": []
    },
    {
      "cell_type": "code",
      "execution_count": null,
      "metadata": {
        "id": "7WO2U1VkIyLK"
      },
      "outputs": [],
      "source": []
    },
    {
      "cell_type": "markdown",
      "metadata": {
        "id": "K8-eOehUIyLK"
      },
      "source": [
        "### This doesn't make much sense as these are commonly used words. Let's remove `stopwords` and see what we get\n",
        "\n",
        "<a href = \"https://gist.github.com/sebleier/554280\">Get Stop Words</a>"
      ]
    },
    {
      "cell_type": "code",
      "execution_count": null,
      "metadata": {
        "id": "mfnu7JtWIyLL"
      },
      "outputs": [],
      "source": []
    },
    {
      "cell_type": "code",
      "execution_count": null,
      "metadata": {
        "id": "jb6x_CBKIyLL"
      },
      "outputs": [],
      "source": []
    },
    {
      "cell_type": "code",
      "execution_count": null,
      "metadata": {
        "id": "rr7m8JRaIyLL"
      },
      "outputs": [],
      "source": []
    },
    {
      "cell_type": "code",
      "execution_count": null,
      "metadata": {
        "id": "NVemqXK7IyLL"
      },
      "outputs": [],
      "source": []
    },
    {
      "cell_type": "markdown",
      "metadata": {
        "id": "Nn55qmL3IyLM"
      },
      "source": [
        "### Lets pretty print"
      ]
    },
    {
      "cell_type": "code",
      "execution_count": null,
      "metadata": {
        "id": "-MFkaGYBIyLM"
      },
      "outputs": [],
      "source": []
    },
    {
      "cell_type": "code",
      "execution_count": null,
      "metadata": {
        "id": "1aZAVsDyIyLM"
      },
      "outputs": [],
      "source": []
    },
    {
      "cell_type": "markdown",
      "metadata": {
        "id": "amgt8bWIIyLM"
      },
      "source": [
        "### Lets put all this logic in a function"
      ]
    },
    {
      "cell_type": "code",
      "execution_count": null,
      "metadata": {
        "id": "lboxswARIyLN"
      },
      "outputs": [],
      "source": []
    },
    {
      "cell_type": "code",
      "execution_count": null,
      "metadata": {
        "id": "dOHGwpp6IyLN"
      },
      "outputs": [],
      "source": []
    },
    {
      "cell_type": "code",
      "execution_count": null,
      "metadata": {
        "id": "JdqO0FJFIyLN"
      },
      "outputs": [],
      "source": []
    },
    {
      "cell_type": "markdown",
      "metadata": {
        "id": "IPl2YjseIyLN"
      },
      "source": [
        "## Summary:\n",
        "    - Simple hueristics sometime are very usefull\n",
        "    - Regex can be life saviours\n",
        "    - Don't forget to use simple text processing while trying to solve a non-trival problem"
      ]
    },
    {
      "cell_type": "code",
      "execution_count": null,
      "metadata": {
        "id": "0BQ5J8f2IyLO"
      },
      "outputs": [],
      "source": []
    }
  ],
  "metadata": {
    "colab": {
      "name": "POS4_Commented.ipynb",
      "provenance": []
    },
    "kernelspec": {
      "display_name": "Python 3",
      "language": "python",
      "name": "python3"
    },
    "language_info": {
      "codemirror_mode": {
        "name": "ipython",
        "version": 3
      },
      "file_extension": ".py",
      "mimetype": "text/x-python",
      "name": "python",
      "nbconvert_exporter": "python",
      "pygments_lexer": "ipython3",
      "version": "3.7.9"
    }
  },
  "nbformat": 4,
  "nbformat_minor": 0
}
