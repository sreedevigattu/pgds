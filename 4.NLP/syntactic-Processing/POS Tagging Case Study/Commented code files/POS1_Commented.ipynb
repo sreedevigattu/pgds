{
  "cells": [
    {
      "cell_type": "markdown",
      "metadata": {
        "id": "OKcXwoZHurtB"
      },
      "source": [
        "## Importing libraries"
      ]
    },
    {
      "cell_type": "code",
      "execution_count": 1,
      "metadata": {
        "id": "r5zWwc1_urtR"
      },
      "outputs": [],
      "source": [
        "# Import libraries\n",
        "import pandas as pd\n",
        "import numpy as np\n",
        "import os"
      ]
    },
    {
      "cell_type": "markdown",
      "metadata": {
        "id": "Bd28EuN3urtT"
      },
      "source": [
        "### How do we identify product features?\n",
        "<img src = \"./images/keywords.png\">"
      ]
    },
    {
      "cell_type": "code",
      "execution_count": 2,
      "metadata": {
        "id": "5zP8A4ysurtU"
      },
      "outputs": [],
      "source": [
        "sent1 = \"I loved the screen on this phone.\"\n",
        "sent2 = \"The battery life on this phone is great.\"\n",
        "sent3 = \"The speakers are pathetic.\""
      ]
    },
    {
      "cell_type": "markdown",
      "metadata": {
        "id": "CT_yMlbiurtV"
      },
      "source": [
        "### Lets do a POS parse and see if we can figure out some patterns."
      ]
    },
    {
      "cell_type": "code",
      "execution_count": 3,
      "metadata": {
        "id": "XYXVM2CrurtW"
      },
      "outputs": [],
      "source": [
        "# import Spacy and load model.\n",
        "import spacy\n",
        "nlp = spacy.load(\"en_core_web_sm\")"
      ]
    },
    {
      "cell_type": "code",
      "execution_count": 12,
      "metadata": {
        "id": "kD53XzhEurtX"
      },
      "outputs": [
        {
          "name": "stdout",
          "output_type": "stream",
          "text": [
            "I loved the screen on this phone.\n",
            "I  --  PRON\n",
            "loved  --  VERB\n",
            "the  --  DET\n",
            "screen  --  NOUN\n",
            "on  --  ADP\n",
            "this  --  DET\n",
            "phone  --  NOUN\n",
            ".  --  PUNCT\n",
            "The battery life on this phone is great.\n",
            "The  --  DET\n",
            "battery  --  NOUN\n",
            "life  --  NOUN\n",
            "on  --  ADP\n",
            "this  --  DET\n",
            "phone  --  NOUN\n",
            "is  --  AUX\n",
            "great  --  ADJ\n",
            ".  --  PUNCT\n",
            "The speakers are pathetic.\n",
            "The  --  DET\n",
            "speakers  --  NOUN\n",
            "are  --  AUX\n",
            "pathetic  --  ADJ\n",
            ".  --  PUNCT\n",
            "\n"
          ]
        }
      ],
      "source": [
        "# Print the PoS tag of sent1\n",
        "sent1_doc = nlp(sent1);print(sent1_doc.text); [print(token.text, \" -- \", token.pos_) for token in sent1_doc]\n",
        "sent2_doc = nlp(sent2);print(sent2_doc.text); [print(token.text, \" -- \", token.pos_) for token in sent2_doc]\n",
        "sent3_doc = nlp(sent3);print(sent3_doc.text); [print(token.text, \" -- \", token.pos_) for token in sent3_doc];print()"
      ]
    },
    {
      "cell_type": "markdown",
      "metadata": {
        "id": "EWh298c3urte"
      },
      "source": [
        "#### **Product features such as `screen`, `battery`, `speaker` have a POS tag of NOUN**"
      ]
    },
    {
      "cell_type": "markdown",
      "metadata": {
        "id": "XrtRHVfUurtf"
      },
      "source": [
        "## Summary\n",
        "- Product features such as `screen`, `battery` and `speaker` have a POS tag of Noun\n",
        "- If we can find the frequency count of all the nouns in our data, then by looking at top-n nouns we can find out what product features people are talking about\n",
        "- Check hypothesis on a real world dataset"
      ]
    }
  ],
  "metadata": {
    "colab": {
      "name": "POS1_Commented.ipynb",
      "provenance": []
    },
    "kernelspec": {
      "display_name": "Python 3",
      "language": "python",
      "name": "python3"
    },
    "language_info": {
      "codemirror_mode": {
        "name": "ipython",
        "version": 3
      },
      "file_extension": ".py",
      "mimetype": "text/x-python",
      "name": "python",
      "nbconvert_exporter": "python",
      "pygments_lexer": "ipython3",
      "version": "3.7.9"
    }
  },
  "nbformat": 4,
  "nbformat_minor": 0
}
