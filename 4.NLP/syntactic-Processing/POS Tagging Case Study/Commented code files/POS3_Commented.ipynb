{
  "cells": [
    {
      "cell_type": "markdown",
      "metadata": {
        "id": "vBOfYpV_U84V"
      },
      "source": [
        "## Importing libraries"
      ]
    },
    {
      "cell_type": "code",
      "execution_count": 3,
      "metadata": {
        "id": "ZqugswuAU84a"
      },
      "outputs": [],
      "source": [
        "import pandas as pd\n",
        "import numpy as np\n",
        "import os\n",
        "import spacy \n",
        "from tqdm import tqdm"
      ]
    },
    {
      "cell_type": "markdown",
      "metadata": {
        "id": "7cD099pXU84b"
      },
      "source": [
        "### Read reviews data"
      ]
    },
    {
      "cell_type": "code",
      "execution_count": 4,
      "metadata": {
        "id": "7biN0zEoU84c"
      },
      "outputs": [],
      "source": [
        "con=open(\"../data/Samsung.txt\",'r', encoding=\"utf-8\")\n",
        "samsung_reviews=con.read()\n",
        "con.close()"
      ]
    },
    {
      "cell_type": "code",
      "execution_count": 7,
      "metadata": {},
      "outputs": [
        {
          "data": {
            "text/plain": [
              "(46355,\n",
              " [\"I feel so LUCKY to have found this used (phone to us & not used hard at all), phone on line from someone who upgraded and sold this one. My Son liked his old one that finally fell apart after 2.5+ years and didn't want an upgrade!! Thank you Seller, we really appreciate it & your honesty re: said used phone.I recommend this seller very highly & would but from them again!!\",\n",
              "  'nice phone, nice up grade from my pantach revue. Very clean set up and easy set up. never had an android phone but they are fantastic to say the least. perfect size for surfing and social media. great phone samsung',\n",
              "  'Very pleased',\n",
              "  'It works good but it goes slow sometimes but its a very good phone I love it'])"
            ]
          },
          "execution_count": 7,
          "metadata": {},
          "output_type": "execute_result"
        }
      ],
      "source": [
        "samsung_reviews = samsung_reviews.split(\"\\n\")\n",
        "len(samsung_reviews), samsung_reviews[0:4]"
      ]
    },
    {
      "cell_type": "markdown",
      "metadata": {
        "id": "ZVK2nZJ9U84c"
      },
      "source": [
        "### Can we reduce the time taken?\n",
        "[Pipelines (Spacy)](https://spacy.io/usage/processing-pipelines)\n"
      ]
    },
    {
      "cell_type": "markdown",
      "metadata": {
        "id": "bU_dNtImU84d"
      },
      "source": [
        "<img src='./images/spacy_pipeline.png'>"
      ]
    },
    {
      "cell_type": "code",
      "execution_count": 5,
      "metadata": {
        "id": "XQd_68ZuU84d"
      },
      "outputs": [],
      "source": [
        "# shorten the pipline loading\n",
        "nlp=spacy.load('en_core_web_sm',disable=['parser','ner'])"
      ]
    },
    {
      "cell_type": "code",
      "execution_count": 10,
      "metadata": {
        "id": "grYm28A9U84e"
      },
      "outputs": [
        {
          "name": "stdout",
          "output_type": "stream",
          "text": [
            "1000\n"
          ]
        },
        {
          "name": "stderr",
          "output_type": "stream",
          "text": [
            "100%|██████████| 46355/46355 [02:30<00:00, 307.91it/s]\n"
          ]
        }
      ],
      "source": [
        "from tqdm import tqdm\n",
        "\n",
        "df_all = pd.DataFrame()\n",
        "reviews = samsung_reviews[:1000]\n",
        "print(len(reviews))\n",
        "lemma = []\n",
        "for review in tqdm(samsung_reviews):\n",
        "    review=nlp(review)\n",
        "    for word in review:\n",
        "        if word.pos_ != 'NOUN': continue\n",
        "        #pos.append(word.pos_)\n",
        "        lemma.append(word.lemma_)\n",
        "        #text.append(word.text)\n",
        "        #df = pd.DataFrame({'text':text, 'lemma':lemma, 'pos':pos})\n",
        "        #df_all = pd.concat([df_all, df])\n",
        "\n",
        "#print(df_all.shape)\n",
        "#df_all.head()"
      ]
    },
    {
      "cell_type": "code",
      "execution_count": 11,
      "metadata": {
        "id": "KIqUMEsuU84g"
      },
      "outputs": [
        {
          "name": "stdout",
          "output_type": "stream",
          "text": [
            "265901\n",
            "phone      42961\n",
            "battery     4263\n",
            "product     3894\n",
            "screen      3851\n",
            "time        3819\n",
            "dtype: int64\n"
          ]
        }
      ],
      "source": [
        "lemma_ = pd.Series(data=lemma)\n",
        "print(len(lemma_));print(lemma_.value_counts()[:5])"
      ]
    },
    {
      "cell_type": "code",
      "execution_count": 15,
      "metadata": {
        "id": "WaN7ver8U84h"
      },
      "outputs": [
        {
          "name": "stdout",
          "output_type": "stream",
          "text": [
            "10\n"
          ]
        },
        {
          "name": "stderr",
          "output_type": "stream",
          "text": [
            "100%|██████████| 10/10 [00:00<00:00, 107.70it/s]"
          ]
        },
        {
          "name": "stdout",
          "output_type": "stream",
          "text": [
            "phone 92 15308085513773655218 NOUN NN\n",
            "phone 92 15308085513773655218 NOUN NN\n",
            "line 92 15308085513773655218 NOUN NN\n",
            "one 92 15308085513773655218 NOUN NN\n",
            "one 92 15308085513773655218 NOUN NN\n",
            "year 92 783433942507015291 NOUN NNS\n",
            "upgrade 92 15308085513773655218 NOUN NN\n",
            "honesty 92 15308085513773655218 NOUN NN\n",
            "phone 92 15308085513773655218 NOUN NN\n",
            "seller 92 15308085513773655218 NOUN NN\n",
            "phone 92 15308085513773655218 NOUN NN\n",
            "grade 92 15308085513773655218 NOUN NN\n",
            "pantach 92 15308085513773655218 NOUN NN\n",
            "revue 92 15308085513773655218 NOUN NN\n",
            "phone 92 15308085513773655218 NOUN NN\n",
            "size 92 15308085513773655218 NOUN NN\n",
            "medium 92 783433942507015291 NOUN NNS\n",
            "phone 92 15308085513773655218 NOUN NN\n",
            "samsung 92 15308085513773655218 NOUN NN\n",
            "phone 92 15308085513773655218 NOUN NN\n",
            "phone 92 15308085513773655218 NOUN NN\n",
            "phone 92 15308085513773655218 NOUN NN\n",
            "thing 92 15308085513773655218 NOUN NN\n",
            "volume 92 15308085513773655218 NOUN NN\n",
            "button 92 15308085513773655218 NOUN NN\n",
            "setting 92 783433942507015291 NOUN NNS\n",
            "job 92 15308085513773655218 NOUN NN\n",
            "phone 92 15308085513773655218 NOUN NN\n",
            "thaank 92 783433942507015291 NOUN NNS\n",
            "g 92 15308085513773655218 NOUN NN\n",
            "keyboard 92 15308085513773655218 NOUN NN\n",
            "size 92 15308085513773655218 NOUN NN\n",
            "phone 92 15308085513773655218 NOUN NN\n",
            "function 92 783433942507015291 NOUN NNS\n",
            "phone 92 15308085513773655218 NOUN NN\n",
            "e 92 15308085513773655218 NOUN NN\n",
            "- 92 15308085513773655218 NOUN NN\n",
            "mail 92 15308085513773655218 NOUN NN\n",
            "direction 92 783433942507015291 NOUN NNS\n",
            "text 92 15308085513773655218 NOUN NN\n",
            "messaging 92 15308085513773655218 NOUN NN\n",
            "phone 92 15308085513773655218 NOUN NN\n",
            "cell 92 15308085513773655218 NOUN NN\n",
            "phone 92 783433942507015291 NOUN NNS\n",
            "application 92 783433942507015291 NOUN NNS\n",
            "phone 92 15308085513773655218 NOUN NN\n",
            "run 92 783433942507015291 NOUN NNS\n",
            "time 92 15308085513773655218 NOUN NN\n",
            "time 92 15308085513773655218 NOUN NN\n",
            "camera 92 15308085513773655218 NOUN NN\n",
            "video 92 15308085513773655218 NOUN NN\n",
            "web 92 15308085513773655218 NOUN NN\n",
            "browsing 92 15308085513773655218 NOUN NN\n",
            "battery 92 15308085513773655218 NOUN NN\n",
            "life 92 15308085513773655218 NOUN NN\n",
            "bit 92 15308085513773655218 NOUN NN\n",
            "phone 92 15308085513773655218 NOUN NN\n",
            "product 92 15308085513773655218 NOUN NN\n",
            "day 92 783433942507015291 NOUN NNS\n",
            "blemish 92 15308085513773655218 NOUN NN\n",
            "side 92 15308085513773655218 NOUN NN\n",
            "phone 92 15308085513773655218 NOUN NN\n",
            "product 92 15308085513773655218 NOUN NN\n",
            "guy 92 783433942507015291 NOUN NNS\n",
            "situation 92 15308085513773655218 NOUN NN\n",
            "item 92 15308085513773655218 NOUN NN\n",
            "issue 92 15308085513773655218 NOUN NN\n",
            "phon 92 15308085513773655218 NOUN NN\n",
            "phone 92 15308085513773655218 NOUN NN\n",
            "replacement 92 15308085513773655218 NOUN NN\n",
            "model 92 15308085513773655218 NOUN NN\n",
            "contract 92 15308085513773655218 NOUN NN\n",
            "seller 92 15308085513773655218 NOUN NN\n",
            "confirmation 92 15308085513773655218 NOUN NN\n",
            "delivery 92 15308085513773655218 NOUN NN\n",
            "day 92 783433942507015291 NOUN NNS\n",
            "phone 92 15308085513773655218 NOUN NN\n",
            "hour 92 783433942507015291 NOUN NNS\n",
            "order 92 15308085513773655218 NOUN NN\n",
            "phone 92 15308085513773655218 NOUN NN\n",
            "day 92 15308085513773655218 NOUN NN\n",
            "phone 92 15308085513773655218 NOUN NN\n",
            "datum 92 783433942507015291 NOUN NNS\n",
            "one 92 15308085513773655218 NOUN NN\n",
            "one 92 15308085513773655218 NOUN NN\n",
            "problem 92 783433942507015291 NOUN NNS\n",
            "seller 92 15308085513773655218 NOUN NN\n",
            "phone 92 15308085513773655218 NOUN NN\n",
            "keyboard 92 15308085513773655218 NOUN NN\n",
            "touch 92 15308085513773655218 NOUN NN\n",
            "screen 92 15308085513773655218 NOUN NN\n",
            "phone 92 15308085513773655218 NOUN NN\n",
            "device 92 15308085513773655218 NOUN NN\n",
            "service 92 15308085513773655218 NOUN NN\n",
            "provider 92 15308085513773655218 NOUN NN\n"
          ]
        },
        {
          "name": "stderr",
          "output_type": "stream",
          "text": [
            "\n"
          ]
        }
      ],
      "source": [
        "from tqdm import tqdm\n",
        "\n",
        "df_all = pd.DataFrame()\n",
        "reviews = samsung_reviews[:10]\n",
        "print(len(reviews))\n",
        "for review in tqdm(reviews):\n",
        "    review=nlp(review)\n",
        "    for word in review:\n",
        "        if word.pos_ != 'NOUN': continue\n",
        "        print(word.lemma_, word.pos, word.tag, word.pos_, word.tag_)\n",
        "        #pos.append(word.pos_)\n",
        "        #text.append(word.text)\n",
        "\n",
        "#print(df_all.shape)\n",
        "#df_all.head()"
      ]
    },
    {
      "cell_type": "code",
      "execution_count": null,
      "metadata": {
        "id": "qMmMUUHjU84i"
      },
      "outputs": [],
      "source": []
    },
    {
      "cell_type": "markdown",
      "metadata": {
        "id": "TKKLAcF2U84j"
      },
      "source": [
        "### Lets process all the reviews now and see if time taken is less !!!"
      ]
    },
    {
      "cell_type": "code",
      "execution_count": null,
      "metadata": {
        "id": "DpDKMbiuU84k"
      },
      "outputs": [],
      "source": []
    },
    {
      "cell_type": "markdown",
      "metadata": {
        "id": "xDqdFstUU84k"
      },
      "source": [
        "### Does the hypothesis of nouns capturing `product features` hold?"
      ]
    },
    {
      "cell_type": "code",
      "execution_count": null,
      "metadata": {
        "id": "6QMCZN6lU84k"
      },
      "outputs": [],
      "source": []
    },
    {
      "cell_type": "code",
      "execution_count": null,
      "metadata": {
        "id": "3ePWgP3hU84l"
      },
      "outputs": [],
      "source": []
    },
    {
      "cell_type": "markdown",
      "metadata": {
        "id": "vMKO-5IvU84m"
      },
      "source": [
        "### We now know that people mention `battery`, `product`, `screen` etc. But we still don't know in what context they mention these keywords"
      ]
    },
    {
      "cell_type": "markdown",
      "metadata": {
        "id": "oP4nyL_AU84m"
      },
      "source": [
        "### Summary:\n",
        " - Most frequently used lemmatised forms of noun, inform us about the product features people are talking about in product reviews\n",
        " - In order to process the review data faster spacy allows us to use the idea of enabling parts of model inference pipeline via `spacy.loads()` command and `disable` parameter"
      ]
    }
  ],
  "metadata": {
    "colab": {
      "collapsed_sections": [],
      "name": "POS3_Commented.ipynb",
      "provenance": []
    },
    "kernelspec": {
      "display_name": "Python 3",
      "language": "python",
      "name": "python3"
    },
    "language_info": {
      "codemirror_mode": {
        "name": "ipython",
        "version": 3
      },
      "file_extension": ".py",
      "mimetype": "text/x-python",
      "name": "python",
      "nbconvert_exporter": "python",
      "pygments_lexer": "ipython3",
      "version": "3.7.9"
    }
  },
  "nbformat": 4,
  "nbformat_minor": 0
}
