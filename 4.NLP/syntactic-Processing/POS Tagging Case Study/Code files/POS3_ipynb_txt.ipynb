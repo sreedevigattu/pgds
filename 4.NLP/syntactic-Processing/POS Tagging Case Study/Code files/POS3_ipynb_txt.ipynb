{
  "cells": [
    {
      "cell_type": "markdown",
      "metadata": {
        "id": "jCy6Hw3LjXEz"
      },
      "source": [
        "## Importing libraries"
      ]
    },
    {
      "cell_type": "code",
      "execution_count": 1,
      "metadata": {
        "id": "MBorzfsNjXE0"
      },
      "outputs": [],
      "source": [
        "import pandas as pd\n",
        "import numpy as np\n",
        "import os\n",
        "import spacy \n",
        "from tqdm import tqdm"
      ]
    },
    {
      "cell_type": "markdown",
      "metadata": {
        "id": "gjlVHS9yjXE1"
      },
      "source": [
        "### Read reviews data"
      ]
    },
    {
      "cell_type": "code",
      "execution_count": 2,
      "metadata": {
        "id": "unZvzHyPjXE2"
      },
      "outputs": [],
      "source": [
        "con=open(\"../data/Samsung.txt\",'r', encoding=\"utf-8\")\n",
        "samsung_reviews=con.read()\n",
        "con.close()"
      ]
    },
    {
      "cell_type": "markdown",
      "metadata": {
        "id": "-Xp3V0sijXE4"
      },
      "source": [
        "### Can we reduce the time taken?\n",
        "[Pipelines (Spacy)](https://spacy.io/usage/processing-pipelines)\n"
      ]
    },
    {
      "cell_type": "markdown",
      "metadata": {
        "id": "hcz71QGCjXE5"
      },
      "source": [
        "<img src='./images/spacy_pipeline.png'>"
      ]
    },
    {
      "cell_type": "code",
      "execution_count": 3,
      "metadata": {
        "id": "fStfPPgCjXE6"
      },
      "outputs": [],
      "source": [
        "# shorten the pipline loading\n",
        "nlp=spacy.load('en_core_web_sm',disable=['parser','ner'])"
      ]
    },
    {
      "cell_type": "code",
      "execution_count": 4,
      "metadata": {
        "id": "dx3Ylbe5jXE6",
        "outputId": "2c44d403-1088-4268-f062-98bf412fbab7"
      },
      "outputs": [
        {
          "name": "stderr",
          "output_type": "stream",
          "text": [
            "  1%|          | 12/1000 [00:00<00:08, 112.66it/s]"
          ]
        },
        {
          "name": "stdout",
          "output_type": "stream",
          "text": [
            "<class 'str'> I feel so LUCKY to have found this used \n",
            "<class 'str'> nice phone, nice up grade from my pantac\n",
            "<class 'str'> Very pleased\n",
            "<class 'str'> It works good but it goes slow sometimes\n",
            "<class 'str'> Great phone to replace my lost phone. Th\n",
            "<class 'str'> I originally was using the Samsung S2 Ga\n",
            "<class 'str'> This is a great product it came after tw\n",
            "<class 'str'> These guys are the best! I had a little \n",
            "<class 'str'> Ordered this phone as a replacement for \n",
            "<class 'str'> I was able to get the phone I previously\n",
            "<class 'str'> I brought this phone as a replacement fo\n",
            "<class 'str'> I love the phone. It does everything I n\n",
            "<class 'str'> The battery was old & had been over used\n",
            "<class 'str'> pros-beautiful screen,capable of running\n",
            "<class 'str'> Phone good just a little slow phone old \n",
            "<class 'str'> Phone's speaker little low. Overall very\n",
            "<class 'str'> the phone was great and in good conditio\n",
            "<class 'str'> Phone works great. No problems at all\n",
            "<class 'str'> as described, fast ship!\n",
            "<class 'str'> Perfect in every way.\n",
            "<class 'str'> Just got this phone and it is a great ph\n",
            "<class 'str'> The phone was great but it had gotten ol\n",
            "<class 'str'> This phone came in great condition! Grea\n",
            "<class 'str'> Met all of my expectations. I can't comp\n",
            "<class 'str'> Good\n",
            "<class 'str'> she liked it\n",
            "<class 'str'> GREAT BUY!\n",
            "<class 'str'> My step son loved it. Thanks he had lost\n",
            "<class 'str'> PERFECT\n",
            "<class 'str'> My son loved his new phone.\n",
            "<class 'str'> This phone works very well for Perk TV.\n",
            "<class 'str'> Bought this for my mother, she loves it.\n",
            "<class 'str'> Great lil phone.\n",
            "<class 'str'> Very good!\n"
          ]
        },
        {
          "name": "stderr",
          "output_type": "stream",
          "text": [
            "  5%|▌         | 52/1000 [00:00<00:06, 150.73it/s]"
          ]
        },
        {
          "name": "stdout",
          "output_type": "stream",
          "text": [
            "<class 'str'> good phone when i got it great\n",
            "<class 'str'> It was very good\n",
            "<class 'str'> This phone was like new. It looked like \n",
            "<class 'str'> LOVE IT, IT BIG AND BOLD\n",
            "<class 'str'> Great!!\n",
            "<class 'str'> Great\n",
            "<class 'str'> Love my new phone, lots of feature and t\n",
            "<class 'str'> The case was in good condition very thic\n",
            "<class 'str'> I really like it! It has a lot of featur\n",
            "<class 'str'> The phone is in really good conditions, \n",
            "<class 'str'> it's boring, bring apps, that i can not \n",
            "<class 'str'> So far so good! Arrived on time in fact \n",
            "<class 'str'> Got the phone yesterday, everything work\n",
            "<class 'str'> Price is good and the phone is great con\n",
            "<class 'str'> Love my Galaxy S5 on Verizon. Bought thi\n",
            "<class 'str'> excelente\n",
            "<class 'str'> This phone is a nice phone working very \n",
            "<class 'str'> Excellent\n",
            "<class 'str'> Awesome phone and I took it to overseas \n",
            "<class 'str'> Amazing smartphone, very versatile. Love\n",
            "<class 'str'> I ordered this a day again and it's alre\n",
            "<class 'str'> Excelent!!\n",
            "<class 'str'> nice job Samsung\n",
            "<class 'str'> Enjoy this phone very much.\n",
            "<class 'str'> Excellent phone, I am very happy with th\n",
            "<class 'str'> This phone is AMAZING! I am currently us\n",
            "<class 'str'> Great buy\n",
            "<class 'str'> Very happy customer. Satisfied with this\n",
            "<class 'str'> did buy couple of these for my family an\n",
            "<class 'str'> Horrible with new update. Slow.\n"
          ]
        },
        {
          "name": "stderr",
          "output_type": "stream",
          "text": [
            "  9%|▉         | 88/1000 [00:00<00:05, 164.97it/s]"
          ]
        },
        {
          "name": "stdout",
          "output_type": "stream",
          "text": [
            "<class 'str'> As expected\n",
            "<class 'str'> The AT&T version of the phone is not the\n",
            "<class 'str'> Fast shipping, good phone\n",
            "<class 'str'> minor scratches on the edges but other t\n",
            "<class 'str'> Good phone. First one I got from the ret\n",
            "<class 'str'> The item is as expected deserves the pri\n",
            "<class 'str'> Lovely phone\n",
            "<class 'str'> Just learnt that i am a samsung lover, u\n",
            "<class 'str'> I've used the Galaxy S5 for the last 2 y\n",
            "<class 'str'> My Samsung galaxy s5 arrived early, and \n",
            "<class 'str'> good phone other than couldn't get good \n",
            "<class 'str'> Great phone! but sometime I call someone\n",
            "<class 'str'> is cool! thank you!\n",
            "<class 'str'> Product came in, let's say, original pac\n",
            "<class 'str'> Faster service by the seller and the pho\n",
            "<class 'str'> The product was delivered on time and wa\n",
            "<class 'str'> great phone at good price!\n",
            "<class 'str'> It is great product. I would recommend i\n",
            "<class 'str'> Excellent choice of cellphone.\n",
            "<class 'str'> Great price for a great phone. Even thou\n",
            "<class 'str'> Outstanding phone at a great price!\n",
            "<class 'str'> excelent for this moment\n",
            "<class 'str'> excellent, very good\n",
            "<class 'str'> works fine as it should be\n",
            "<class 'str'> Got my phone fast and in good condition \n",
            "<class 'str'> Is a great phone. Besides, the camera is\n",
            "<class 'str'> Very pleased with phone. It appears that\n",
            "<class 'str'> great phone, only cons: yo can not use t\n",
            "<class 'str'> Great item. It met my expectations.\n",
            "<class 'str'> very good\n",
            "<class 'str'> Good phone,only put sim and ready to use\n",
            "<class 'str'> I ordered the s5 a couple weeks ago afte\n"
          ]
        },
        {
          "name": "stderr",
          "output_type": "stream",
          "text": [
            " 13%|█▎        | 134/1000 [00:00<00:04, 201.34it/s]"
          ]
        },
        {
          "name": "stdout",
          "output_type": "stream",
          "text": [
            "<class 'str'> This is the best phone I've ever had my \n",
            "<class 'str'> Perhaps I should have purchased an inter\n",
            "<class 'str'> Love this phone. Even though it is refur\n",
            "<class 'str'> Great phone\n",
            "<class 'str'> Satisfied\n",
            "<class 'str'> A wonderful phone! This is by far the be\n",
            "<class 'str'> https://www.amazon.com/dp/B00K15KRV6/ref\n",
            "<class 'str'> great phone\n",
            "<class 'str'> No problem. Phone excellent\n",
            "<class 'str'> Very good\n",
            "<class 'str'> I recommend the seller. It is very good!\n",
            "<class 'str'> DELIVERED ON TIME AND THE PHONE IS GREAT\n",
            "<class 'str'> Thank you.\n",
            "<class 'str'> works great\n",
            "<class 'str'> Great phone. Streaming videos, movies, e\n",
            "<class 'str'> Completely satisfied with this phone. No\n",
            "<class 'str'> I have had the phone worked for a week n\n",
            "<class 'str'> THIS DEVICE IOS IN PERFERCT CINTION. AWE\n",
            "<class 'str'> Works, and easily able to upgrade from m\n",
            "<class 'str'> love it\n",
            "<class 'str'> The product is good and new, and am happ\n",
            "<class 'str'> Yes. It exceeded my expectations. Great \n",
            "<class 'str'> I loved this phone defiantly one of my f\n",
            "<class 'str'> 👍🏽\n",
            "<class 'str'> Works well in Canada. Doesn't seem to be\n",
            "<class 'str'> Great company. Great phone.\n",
            "<class 'str'> Phone was purchased for a Consumer Cellu\n",
            "<class 'str'> Great phone great seller.\n",
            "<class 'str'> It was ok...!!!!!\n",
            "<class 'str'> Very happy so far. Excellent battery lif\n",
            "<class 'str'> Love love love!\n",
            "<class 'str'> Phone is new and works great. Just wishe\n",
            "<class 'str'> It is work with movistar Venezuela 4G. V\n",
            "<class 'str'> good\n",
            "<class 'str'> Excellent movile! Very good seller!\n",
            "<class 'str'> Nice\n",
            "<class 'str'> The phone checks out great so far, I lov\n",
            "<class 'str'> Excellent quality and the product is nic\n",
            "<class 'str'> excelente\n",
            "<class 'str'> I love this phone. It is better than the\n",
            "<class 'str'> I recently bought this phone from Amazon\n",
            "<class 'str'> Great phone and good price.\n",
            "<class 'str'> I am absolutely committed to the Android\n",
            "<class 'str'> Great product. I highly recommend it if \n",
            "<class 'str'> I would give 4 stars if I didn't have 2 \n",
            "<class 'str'> I LOVE this phone. I'm still learning th\n",
            "<class 'str'> Awesome phone! Came 100% as described. A\n",
            "<class 'str'> no problems great deal\n"
          ]
        },
        {
          "name": "stderr",
          "output_type": "stream",
          "text": [
            " 18%|█▊        | 181/1000 [00:00<00:03, 214.55it/s]"
          ]
        },
        {
          "name": "stdout",
          "output_type": "stream",
          "text": [
            "<class 'str'> Purchased this phone and it arrived bran\n",
            "<class 'str'> Great phone\n",
            "<class 'str'> Very nice phone. Love Android. PROBLEM: \n",
            "<class 'str'> This is a fantastic phone. It's easy to \n",
            "<class 'str'> Bought it for a friend in Honduras and h\n",
            "<class 'str'> This phone has met many of my expectatio\n",
            "<class 'str'> It had scuffs on the sides of the phone \n",
            "<class 'str'> Nice item, no problems\n",
            "<class 'str'> Very happy with purchase. I have had 4 p\n",
            "<class 'str'> Awesome cellphone quality.To tell you th\n",
            "<class 'str'> works good\n",
            "<class 'str'> Works very well, and looks as promised. \n",
            "<class 'str'> I really like it\n",
            "<class 'str'> Phone works great. Have had no problems \n",
            "<class 'str'> My son really l iked this phone. Make su\n",
            "<class 'str'> This is a really great phone without any\n",
            "<class 'str'> I bought this phone used. Came in perfec\n",
            "<class 'str'> It would be a five star but when my dad \n",
            "<class 'str'> I had an iphone 4 and was hesitant to sw\n",
            "<class 'str'> Works great, screen is clear and bright,\n",
            "<class 'str'> Samsung is the new big thing to me. I ju\n",
            "<class 'str'> in great condition\n",
            "<class 'str'> Great, so far so good\n",
            "<class 'str'> I have not had one single problem with t\n",
            "<class 'str'> So far works great.\n",
            "<class 'str'> Love the phone\n",
            "<class 'str'> Good\n",
            "<class 'str'> As expected. It just came very late. Gre\n",
            "<class 'str'> So happy with my new phone. The packagin\n",
            "<class 'str'> Muy bueno!\n",
            "<class 'str'> my wife loves this\n",
            "<class 'str'> Had it almost a week. No problems. Just \n",
            "<class 'str'> Excelent product, excelent seller.\n",
            "<class 'str'> Everything was perfect!\n",
            "<class 'str'> Love this phone it got even better when \n",
            "<class 'str'> I love this phone. More than expected! I\n",
            "<class 'str'> Excellent phone.I live in Ontario Canada\n",
            "<class 'str'> I have had this phone for around 1-2week\n",
            "<class 'str'> I really enjoy this phone however I admi\n",
            "<class 'str'> Great phone shipped on time, new in orig\n",
            "<class 'str'> bought for hubby and he loves it\n",
            "<class 'str'> excelent product\n",
            "<class 'str'> excellent 100 % responsabilite\n",
            "<class 'str'> I ordered this phone for when I travel b\n",
            "<class 'str'> This is a very nice phone. No scratches \n",
            "<class 'str'> great deal and wonderful quality\n",
            "<class 'str'> needed to get a new SIM card from AT&T b\n",
            "<class 'str'> good product.\n",
            "<class 'str'> IPHONE user for years, Android has come \n"
          ]
        },
        {
          "name": "stderr",
          "output_type": "stream",
          "text": [
            " 23%|██▎       | 233/1000 [00:01<00:03, 232.10it/s]"
          ]
        },
        {
          "name": "stdout",
          "output_type": "stream",
          "text": [
            "<class 'str'> the phone is as described, works well an\n",
            "<class 'str'> LOVE this phone!\n",
            "<class 'str'> Exactly as advertised! Well Done\n",
            "<class 'str'> Better than I expected for a used phone,\n",
            "<class 'str'> I am pleased with the S5. Still learning\n",
            "<class 'str'> Excelent\n",
            "<class 'str'> Happy with the product and customer serv\n",
            "<class 'str'> The phone works great. A simple change o\n",
            "<class 'str'> very satisfied, came on time.\n",
            "<class 'str'> Had to order a replacement due to a defe\n",
            "<class 'str'> The phone is just new and very nice. The\n",
            "<class 'str'> Phone arrived in very good condition, wi\n",
            "<class 'str'> First hand, I don't know because I bough\n",
            "<class 'str'> so far only complaint is difficulty figu\n",
            "<class 'str'> As advertised and functions/ works great\n",
            "<class 'str'> just great\n",
            "<class 'str'> Pros: It's super fast, has a fingerprint\n",
            "<class 'str'> My significant other loves her new GS5. \n",
            "<class 'str'> Fantastic phones but it would be helpful\n",
            "<class 'str'> Excellent. On time delivery, in fact got\n",
            "<class 'str'> Amazing Phones and a great price!!!!\n",
            "<class 'str'> great cellphone\n",
            "<class 'str'> The phone worked fine and was in better \n",
            "<class 'str'> Bought as a birthday present for my husb\n",
            "<class 'str'> Great phone, the company that sold it wa\n",
            "<class 'str'> This was purchased for my wife and it is\n",
            "<class 'str'> I bought this as a gift so I don't have \n",
            "<class 'str'> Awesome phone! My 15 year old received i\n",
            "<class 'str'> Did not receive all the manuals that sho\n",
            "<class 'str'> Got it as a gift for dad and he loves it\n",
            "<class 'str'> excellent\n",
            "<class 'str'> Brand new Samsung Galaxy S5 as listed. P\n",
            "<class 'str'> Great product. Excellent service.\n",
            "<class 'str'> Excellent phone at very good price. You \n",
            "<class 'str'> Great phone, does everything I need and \n",
            "<class 'str'> If you purchase from a reputable vendor \n",
            "<class 'str'> Love it!!!! Shipped in a timely manner j\n",
            "<class 'str'> Phone works great.....I love it.\n",
            "<class 'str'> Exelent!!!...\n",
            "<class 'str'> It arrives perfect as I saw it and looks\n",
            "<class 'str'> Very happy with the phone. Have not foun\n",
            "<class 'str'> Ordered it from amazon and it was brand \n",
            "<class 'str'> Very happy! Good price, fast shipping an\n",
            "<class 'str'> Good replacement for my S4. Works great.\n",
            "<class 'str'> Nice\n",
            "<class 'str'> Phone is good I can't complain I bought \n",
            "<class 'str'> excellent very good recommended\n",
            "<class 'str'> I've spent some time comparing phones, a\n",
            "<class 'str'> Good phone, but is not a new one as at t\n",
            "<class 'str'> Great phone. Having fun exploring and le\n"
          ]
        },
        {
          "name": "stderr",
          "output_type": "stream",
          "text": [
            " 26%|██▌       | 257/1000 [00:01<00:03, 232.80it/s]"
          ]
        },
        {
          "name": "stdout",
          "output_type": "stream",
          "text": [
            "<class 'str'> Excellent!!\n",
            "<class 'str'> So far so good.\n",
            "<class 'str'> Excellent service - received my phone so\n",
            "<class 'str'> Very good\n",
            "<class 'str'> Upgraded to this after completely annihi\n",
            "<class 'str'> Grieta Cellphone\n",
            "<class 'str'> Arrived on time and just as it was descr\n",
            "<class 'str'> Good phone...\n",
            "<class 'str'> Loved it...\n",
            "<class 'str'> exselente\n",
            "<class 'str'> great product works as new\n",
            "<class 'str'> I don't think that the phone came unlock\n",
            "<class 'str'> Great phone. Brand new in the box, this \n",
            "<class 'str'> I replaced a S3 with this phone. The onl\n",
            "<class 'str'> I'm from Argentina, and it work OK.\n",
            "<class 'str'> Met every expectation and exceeded them.\n",
            "<class 'str'> Excellent!!\n",
            "<class 'str'> My daughter is very happy with her new I\n",
            "<class 'str'> Because the charger es bad\n",
            "<class 'str'> Phone arrived quickly and was new as adv\n",
            "<class 'str'> Phone is working perfectly, very good bu\n",
            "<class 'str'> Easily the best phone me, and all of my \n",
            "<class 'str'> A little laggy (even after removing/disa\n",
            "<class 'str'> I had the S4 and i thought it was the be\n",
            "<class 'str'> first smart phone no problems\n",
            "<class 'str'> Works great on straight talk. I've got s\n",
            "<class 'str'> Arrived as promised..Product is as state\n",
            "<class 'str'> BNIB Quick delivery - highly recommend.\n",
            "<class 'str'> If you're shopping for a new Samsung sma\n",
            "<class 'str'> I wanted to buy a \"new\" unlocked phone t\n",
            "<class 'str'> It's a Galaxy S5 so there are plenty of \n",
            "<class 'str'> So far, I'm happy with the Celular. The \n",
            "<class 'str'> I recently ordered this phone in Dec 201\n",
            "<class 'str'> Works fine with T-Mobile. Comes with a b\n",
            "<class 'str'> excellent very good recommended\n",
            "<class 'str'> All good\n",
            "<class 'str'> Everything fine exept the fact that the \n",
            "<class 'str'> Works Great!\n"
          ]
        },
        {
          "name": "stderr",
          "output_type": "stream",
          "text": [
            " 30%|███       | 303/1000 [00:01<00:03, 190.66it/s]"
          ]
        },
        {
          "name": "stdout",
          "output_type": "stream",
          "text": [
            "<class 'str'> Wonderful product it workers for me perf\n",
            "<class 'str'> Great phone and great deal. Using the ph\n",
            "<class 'str'> love this phone would not trade it for a\n",
            "<class 'str'> Item arrived in a timely fashion and wor\n",
            "<class 'str'> Met all my expectations! I luv my phone!\n",
            "<class 'str'> Nice phone, works nicely.\n",
            "<class 'str'> As described\n",
            "<class 'str'> Good.\n",
            "<class 'str'> Excellent quality, prompt delivery, very\n",
            "<class 'str'> Yay! Glad I bought three of these tried \n",
            "<class 'str'> Great price, and in perfect condition.\n",
            "<class 'str'> Kargia\n",
            "<class 'str'> The product as per specification. Though\n",
            "<class 'str'> So far, so good. I hesitate to give five\n",
            "<class 'str'> Nice good deal\n",
            "<class 'str'> This review is for the Galaxy S5 specifi\n",
            "<class 'str'> Works great so far. Had to manually inpu\n",
            "<class 'str'> Phone was brand new. Added to my at&t wi\n",
            "<class 'str'> Good\n",
            "<class 'str'> The phone is OK, but I received fake ear\n",
            "<class 'str'> Always write if it is unlocked by AT&T o\n",
            "<class 'str'> Great machine\n",
            "<class 'str'> very good\n",
            "<class 'str'> Excelente\n",
            "<class 'str'> Excelent!!\n",
            "<class 'str'> It's working good so far\n",
            "<class 'str'> Works great on Net 10 here in PR.\n",
            "<class 'str'> It came promptly and packaged well. The \n",
            "<class 'str'> Love this phone\n",
            "<class 'str'> It is so great. Has a lot of easy ...\n",
            "<class 'str'> I love this samsung galaxy s5 really eve\n",
            "<class 'str'> Great phone great price!\n",
            "<class 'str'> no regret . my first smart phone. the be\n",
            "<class 'str'> I ordered this item from seller Wireless\n",
            "<class 'str'> Works like a champ. This is a gift for m\n",
            "<class 'str'> Thanks my Fiance loves his new phone. He\n"
          ]
        },
        {
          "name": "stderr",
          "output_type": "stream",
          "text": [
            " 36%|███▌      | 356/1000 [00:01<00:02, 225.71it/s]"
          ]
        },
        {
          "name": "stdout",
          "output_type": "stream",
          "text": [
            "<class 'str'> Purchased this item on October 23, 2015.\n",
            "<class 'str'> as described\n",
            "<class 'str'> great\n",
            "<class 'str'> Excelents\n",
            "<class 'str'> This is my first smart phone and althoug\n",
            "<class 'str'> . Item as described\n",
            "<class 'str'> I love it\n",
            "<class 'str'> Is is what I expected. Arrived on time. \n",
            "<class 'str'> Excellent celphone...\n",
            "<class 'str'> Got a refurbished one. Everything works.\n",
            "<class 'str'> Excelent\n",
            "<class 'str'> Excellent\n",
            "<class 'str'> Great phone. Great pics. Fast delivery.\n",
            "<class 'str'> very nice\n",
            "<class 'str'> very good case\n",
            "<class 'str'> Great phone! Charging port has some ware\n",
            "<class 'str'> Excellent phone. ...love it\n",
            "<class 'str'> So far so good but my wife's phone has t\n",
            "<class 'str'> Satisfied with the product\n",
            "<class 'str'> So far this phone is working perfectly. \n",
            "<class 'str'> Was very very nervous about purchasing o\n",
            "<class 'str'> Bueno\n",
            "<class 'str'> Love it.\n",
            "<class 'str'> One of the best purchases I have ever ma\n",
            "<class 'str'> The phone works well with a few minor sc\n",
            "<class 'str'> I like\n",
            "<class 'str'> Love it. Best thing I've bought this yea\n",
            "<class 'str'> It's Perfect!!!\n",
            "<class 'str'> excelente 100% recomendable\n",
            "<class 'str'> Nice phone, a bit more complicated than \n",
            "<class 'str'> Arrived on time and it no scratch at all\n",
            "<class 'str'> I really liked the phone and this was ex\n",
            "<class 'str'> Very happy with my purchase! The price w\n",
            "<class 'str'> Excellent. Thanks wireless Hub for your \n",
            "<class 'str'> All as expected.\n",
            "<class 'str'> Exelente\n",
            "<class 'str'> Perfect all\n",
            "<class 'str'> excellent\n",
            "<class 'str'> Extremely happy with it. Excellent right\n",
            "<class 'str'> Item as dedscribed\n",
            "<class 'str'> Arrived in good condition and is fully f\n",
            "<class 'str'> Great cell phone. Nice camera with great\n",
            "<class 'str'> Love it.\n",
            "<class 'str'> I am very happy with my galaxy s5, the c\n",
            "<class 'str'> Really nice phone. A good compromise bet\n",
            "<class 'str'> First I will say that the S5 is an aweso\n",
            "<class 'str'> I needed a new phone after my Iphone die\n",
            "<class 'str'> All in order\n",
            "<class 'str'> Much faster than my S3 mini and the scre\n"
          ]
        },
        {
          "name": "stderr",
          "output_type": "stream",
          "text": [
            " 38%|███▊      | 380/1000 [00:01<00:02, 220.54it/s]"
          ]
        },
        {
          "name": "stdout",
          "output_type": "stream",
          "text": [
            "<class 'str'> Works perfectly\n",
            "<class 'str'> Its a real samsung s5\n",
            "<class 'str'> Good value, easy to use.\n",
            "<class 'str'> Works fine.\n",
            "<class 'str'> Phone is everything I hoped it would be.\n",
            "<class 'str'> Excellent Option\n",
            "<class 'str'> Truly an awesome phone with lots of grea\n",
            "<class 'str'> This entire transaction met my expectati\n",
            "<class 'str'> Brand new\n",
            "<class 'str'> The seller came through . Succeeded expe\n",
            "<class 'str'> I have been using it, up to this point, \n",
            "<class 'str'> it was exactly the way it was described \n",
            "<class 'str'> I have a Galaxy tablet. It works well wi\n",
            "<class 'str'> great phone, good price. Have had no iss\n",
            "<class 'str'> Damn good phone with a damn good camera.\n",
            "<class 'str'> Excellent product. No problems. Arrived \n",
            "<class 'str'> Perfect brand new unlocked phone.\n",
            "<class 'str'> Great phone no signs of pervious wear!🙌\n",
            "<class 'str'> fine\n",
            "<class 'str'> camera,,,, really crisp pictures, they a\n",
            "<class 'str'> Great phone arrived very quickly\n",
            "<class 'str'> I've never bought a phone from Amazon be\n",
            "<class 'str'> I ordered an ATT unlocked phone but got,\n",
            "<class 'str'> I was forced into getting a smart phone \n",
            "<class 'str'> Although aging, this is still the pentul\n",
            "<class 'str'> Great packaging, awesome phone this was \n",
            "<class 'str'> I ordered an unlocked AT&T 4g LTE Samsun\n",
            "<class 'str'> I've had this less than 1 week so far. I\n",
            "<class 'str'> What can I say, it's a Galaxy! Works as \n",
            "<class 'str'> I love this phone. Moved up from an S3, \n",
            "<class 'str'> Great phone. Somehow I ended up with a d\n",
            "<class 'str'> It was in very good condition the only t\n",
            "<class 'str'> very happy with the smartphone, running \n",
            "<class 'str'> The product was excellent. comes with a \n",
            "<class 'str'> An absolutely gorgeous phone. Upgraded f\n",
            "<class 'str'> A++\n",
            "<class 'str'> The item works very well for me, with 4G\n"
          ]
        },
        {
          "name": "stderr",
          "output_type": "stream",
          "text": [
            " 43%|████▎     | 427/1000 [00:02<00:02, 205.07it/s]"
          ]
        },
        {
          "name": "stdout",
          "output_type": "stream",
          "text": [
            "<class 'str'> Item as described very good seller\n",
            "<class 'str'> works good\n",
            "<class 'str'> attended immediately and resolved the si\n",
            "<class 'str'> Product is working excellent\n",
            "<class 'str'> Love this phone! I use it with the Strai\n",
            "<class 'str'> So far, so good, so satisfied!!!!\n",
            "<class 'str'> Excellent product.\n",
            "<class 'str'> Great phone for the price, Looks like ne\n",
            "<class 'str'> phone was shipped fast... only thing be \n",
            "<class 'str'> works great with my Straight Talk Servic\n",
            "<class 'str'> Bought this unlocked so I could use Stra\n",
            "<class 'str'> I ordered a galaxy 5 unlocked along with\n",
            "<class 'str'> Don't tell the wife. Christmas you know!\n",
            "<class 'str'> yes , nice cell phone good work and spee\n",
            "<class 'str'> Excellent I received the phone on the ex\n",
            "<class 'str'> Great phone. Takes fabulous pictures!\n",
            "<class 'str'> :)\n",
            "<class 'str'> works very well, no trouble\n",
            "<class 'str'> Enjoy\n",
            "<class 'str'> Bought this to replace my Samsung 4... M\n",
            "<class 'str'> Love the S5 just wish I could have gotte\n",
            "<class 'str'> Works great no complaints. Just wish it \n",
            "<class 'str'> Happy so far.\n",
            "<class 'str'> Perfect! Bought for hubby for birthday. \n",
            "<class 'str'> Excellent\n",
            "<class 'str'> Wow, not only was this lowest-price I fo\n",
            "<class 'str'> takes a little getting used to after hav\n",
            "<class 'str'> I would never know this was used and rec\n",
            "<class 'str'> Scratched. Otherwise good condition\n",
            "<class 'str'> Great phone. Great phone. Great phone. I\n",
            "<class 'str'> I love my Samsung S5 I would not trade i\n",
            "<class 'str'> fast and accurate service\n",
            "<class 'str'> Best phone I have ever had so far. My qu\n",
            "<class 'str'> Great experience in regards to shipping \n",
            "<class 'str'> Great camera. Easy to read text. Long ba\n",
            "<class 'str'> Love my new phone. .works very well..sho\n",
            "<class 'str'> Excellent\n",
            "<class 'str'> It came in an original Samsung packaging\n",
            "<class 'str'> Like it..thank you\n",
            "<class 'str'> Christmas present for son, who loved it.\n",
            "<class 'str'> This is an incredible phone. It is like \n",
            "<class 'str'> A very good phone. It was what I expecte\n",
            "<class 'str'> It's awesome I'm enjoying my s5\n",
            "<class 'str'> I was at first skeptical of buying a ref\n",
            "<class 'str'> The S5 was all I expected and more havin\n",
            "<class 'str'> Excellent\n",
            "<class 'str'> My wife loves it\n",
            "<class 'str'> Picture shows and other reviewers said t\n",
            "<class 'str'> Great\n",
            "<class 'str'> Satisfied\n",
            "<class 'str'> A wonderful phone! This is by far the be\n"
          ]
        },
        {
          "name": "stderr",
          "output_type": "stream",
          "text": [
            " 52%|█████▏    | 519/1000 [00:02<00:01, 267.76it/s]"
          ]
        },
        {
          "name": "stdout",
          "output_type": "stream",
          "text": [
            "<class 'str'> https://www.amazon.com/dp/B00K15KRV6/ref\n",
            "<class 'str'> great phone\n",
            "<class 'str'> Amazing\n",
            "<class 'str'> Phone works really great, no lags or bug\n",
            "<class 'str'> One of the best purchases I have ever ma\n",
            "<class 'str'> The phone works well with a few minor sc\n",
            "<class 'str'> I like\n",
            "<class 'str'> Love it. Best thing I've bought this yea\n",
            "<class 'str'> It's Perfect!!!\n",
            "<class 'str'> excelente 100% recomendable\n",
            "<class 'str'> Excellent. Ver good en ad time\n",
            "<class 'str'> Got the phone yesterday, everything work\n",
            "<class 'str'> Price is good and the phone is great con\n",
            "<class 'str'> Love my Galaxy S5 on Verizon. Bought thi\n",
            "<class 'str'> excelente\n",
            "<class 'str'> This phone is a nice phone working very \n",
            "<class 'str'> Excellent\n",
            "<class 'str'> Phone met all my expectations and more +\n",
            "<class 'str'> Arrived on time, the item works perfectl\n",
            "<class 'str'> I love it\n",
            "<class 'str'> Is is what I expected. Arrived on time. \n",
            "<class 'str'> Excellent celphone...\n",
            "<class 'str'> Got a refurbished one. Everything works.\n",
            "<class 'str'> Excelent\n",
            "<class 'str'> Excellent\n",
            "<class 'str'> Great phone. Great pics. Fast delivery.\n",
            "<class 'str'> Nice mobile\n",
            "<class 'str'> Great phone . Some differences from S3 b\n",
            "<class 'str'> I used Samsung phones for a while and ha\n",
            "<class 'str'> thanks everything perfect.\n",
            "<class 'str'> Phone is great, no issues, almost all An\n",
            "<class 'str'> Great product and fast delivery!!\n",
            "<class 'str'> Charger provided was off brand, resultin\n",
            "<class 'str'> Love it. Great Deal\n",
            "<class 'str'> I love the phone!\"it is so cool...it is \n",
            "<class 'str'> STILL loving this phone..I was suspiciou\n",
            "<class 'str'> Bought this as a gift for my mom! very g\n",
            "<class 'str'> Good phone but overheating\n",
            "<class 'str'> I love the phone very much. It came with\n",
            "<class 'str'> i have been using my new phone from June\n",
            "<class 'str'> I don't see any reason why people should\n",
            "<class 'str'> I really like this phone. Nice size and \n",
            "<class 'str'> I love my Samsung S5 I would not trade i\n",
            "<class 'str'> fast and accurate service\n",
            "<class 'str'> Best phone I have ever had so far. My qu\n",
            "<class 'str'> Great experience in regards to shipping \n",
            "<class 'str'> Great camera. Easy to read text. Long ba\n",
            "<class 'str'> Love my new phone. .works very well..sho\n",
            "<class 'str'> Excellent\n",
            "<class 'str'> Yes, it did love it\n",
            "<class 'str'> works good\n",
            "<class 'str'> Works very well, and looks as promised. \n",
            "<class 'str'> I really like it\n",
            "<class 'str'> little scratches on the side but it work\n",
            "<class 'str'> Had problems at first but with the warra\n",
            "<class 'str'> Works great on Net 10 here in PR.\n",
            "<class 'str'> It came promptly and packaged well. The \n",
            "<class 'str'> Love this phone\n",
            "<class 'str'> It is so great. Has a lot of easy ...\n",
            "<class 'str'> I love this samsung galaxy s5 really eve\n",
            "<class 'str'> Great phone great price!\n",
            "<class 'str'> no regret . my first smart phone. the be\n",
            "<class 'str'> I ordered this item from seller Wireless\n",
            "<class 'str'> Wonderfull\n",
            "<class 'str'> Upgraded to this after completely annihi\n",
            "<class 'str'> Grieta Cellphone\n"
          ]
        },
        {
          "name": "stderr",
          "output_type": "stream",
          "text": [
            " 55%|█████▌    | 553/1000 [00:02<00:01, 265.09it/s]"
          ]
        },
        {
          "name": "stdout",
          "output_type": "stream",
          "text": [
            "<class 'str'> Arrived on time and just as it was descr\n",
            "<class 'str'> Good phone...\n",
            "<class 'str'> Loved it...\n",
            "<class 'str'> exselente\n",
            "<class 'str'> Great.\n",
            "<class 'str'> VERY GOOD AND EXCELLENT PRODUCT DELIVERY\n",
            "<class 'str'> EXCELENTE\n",
            "<class 'str'> Excellent quality. They arrived on time.\n",
            "<class 'str'> I can't complain much about it. It does \n",
            "<class 'str'> Phone is nice, I love it.\n",
            "<class 'str'> Good cell I like I recommend it came wit\n",
            "<class 'str'> Even though this phone was used, it look\n",
            "<class 'str'> Very pleased with the phone and the serv\n",
            "<class 'str'> was an awesome phone, although I had to \n",
            "<class 'str'> great device. great seller\n",
            "<class 'str'> I was talked into a Windows Nokia phone \n",
            "<class 'str'> As described\n",
            "<class 'str'> Good.\n",
            "<class 'str'> Excellent quality, prompt delivery, very\n",
            "<class 'str'> Yay! Glad I bought three of these tried \n",
            "<class 'str'> Great price, and in perfect condition.\n",
            "<class 'str'> Kargia\n",
            "<class 'str'> It would be a five star but when my dad \n",
            "<class 'str'> I had an iphone 4 and was hesitant to sw\n",
            "<class 'str'> Works great, screen is clear and bright,\n",
            "<class 'str'> Samsung is the new big thing to me. I ju\n",
            "<class 'str'> in great condition\n",
            "<class 'str'> Said condation was very good and when I \n",
            "<class 'str'> Works great. Has a tiny bit of scratches\n",
            "<class 'str'> Awesome phone\n",
            "<class 'str'> Great phone\n",
            "<class 'str'> Fair price.\n",
            "<class 'str'> I've seen a lot of negative reviews on t\n",
            "<class 'str'> Great phone and got on time\n",
            "<class 'str'> I am super happy that I got the Samsung \n",
            "<class 'str'> Excellent service and product! I am deli\n",
            "<class 'str'> This was purchased for my wife and it is\n",
            "<class 'str'> I bought this as a gift so I don't have \n",
            "<class 'str'> Awesome phone! My 15 year old received i\n",
            "<class 'str'> Did not receive all the manuals that sho\n",
            "<class 'str'> Got it as a gift for dad and he loves it\n",
            "<class 'str'> excellent\n",
            "<class 'str'> Brand new Samsung Galaxy S5 as listed. P\n",
            "<class 'str'> Yes I did!\n",
            "<class 'str'> Great product & wonderful customer servi\n",
            "<class 'str'> Working good\n",
            "<class 'str'> Super phone.\n",
            "<class 'str'> Love this phone! It charges and stays ch\n",
            "<class 'str'> Can't complain twas over expectation\n",
            "<class 'str'> Like it very much\n",
            "<class 'str'> Love it. Just as expected!\n"
          ]
        },
        {
          "name": "stderr",
          "output_type": "stream",
          "text": [
            " 61%|██████    | 608/1000 [00:02<00:01, 237.14it/s]"
          ]
        },
        {
          "name": "stdout",
          "output_type": "stream",
          "text": [
            "<class 'str'> Beautiful phone, works great!\n",
            "<class 'str'> Great picture quality , lots of space to\n",
            "<class 'str'> I bought this phone foe my husband , he \n",
            "<class 'str'> There's nothing that can compare to a ga\n",
            "<class 'str'> Great phone.\n",
            "<class 'str'> Pretty good device, works great on inter\n",
            "<class 'str'> Received wrong phone the first time but \n",
            "<class 'str'> Arrived in good condition and in a timel\n",
            "<class 'str'> very good\n",
            "<class 'str'> This phone was for my grandson, so i don\n",
            "<class 'str'> Everything fit nice and I have not recei\n",
            "<class 'str'> Great phone. However I will upgrade to s\n",
            "<class 'str'> It's Original! Bought this as new. I was\n",
            "<class 'str'> This is my see conditions galaxy. Love t\n",
            "<class 'str'> The product as per specification. Though\n",
            "<class 'str'> So far, so good. I hesitate to give five\n",
            "<class 'str'> Nice good deal\n",
            "<class 'str'> This review is for the Galaxy S5 specifi\n",
            "<class 'str'> Nice phone\n",
            "<class 'str'> Great phone, does everything I need and \n",
            "<class 'str'> If you purchase from a reputable vendor \n",
            "<class 'str'> Love it!!!! Shipped in a timely manner j\n",
            "<class 'str'> Phone works great.....I love it.\n",
            "<class 'str'> Exelent!!!...\n",
            "<class 'str'> It arrives perfect as I saw it and looks\n",
            "<class 'str'> Great phone and just what i wanted. I wo\n",
            "<class 'str'> excelente a-1\n",
            "<class 'str'> I recommend the seller. It is very good!\n",
            "<class 'str'> DELIVERED ON TIME AND THE PHONE IS GREAT\n",
            "<class 'str'> Thank you.\n",
            "<class 'str'> works great\n",
            "<class 'str'> Great phone. Streaming videos, movies, e\n",
            "<class 'str'> Completely satisfied with this phone. No\n",
            "<class 'str'> I have had the phone worked for a week n\n",
            "<class 'str'> I love this phone ,it has so my great ap\n",
            "<class 'str'> Great Phone, wish it had more internal m\n",
            "<class 'str'> Top left corner has a slight gap where i\n",
            "<class 'str'> I love the phone! It came quickly and wa\n",
            "<class 'str'> Great phone! Upgraded from the Galaxy S3\n",
            "<class 'str'> The only thing that i cannot use is the \n",
            "<class 'str'> The only thing to have into account is t\n",
            "<class 'str'> Nice phone, bought it for parents, easy \n"
          ]
        },
        {
          "name": "stderr",
          "output_type": "stream",
          "text": [
            " 66%|██████▌   | 661/1000 [00:03<00:01, 239.09it/s]"
          ]
        },
        {
          "name": "stdout",
          "output_type": "stream",
          "text": [
            "<class 'str'> The product was delivered on time and wa\n",
            "<class 'str'> great phone at good price!\n",
            "<class 'str'> It is great product. I would recommend i\n",
            "<class 'str'> Excellent choice of cellphone.\n",
            "<class 'str'> Great price for a great phone. Even thou\n",
            "<class 'str'> Outstanding phone at a great price!\n",
            "<class 'str'> Is being a month since I bought a galaxy\n",
            "<class 'str'> Thank u very matchI bought s6 active goo\n",
            "<class 'str'> Great phone, large display for size of s\n",
            "<class 'str'> Has all I wanted in a smart phone at a f\n",
            "<class 'str'> NOT OVERLY FAMILIAR WITH VERBAGE.\n",
            "<class 'str'> Love this phone, everything i need\n",
            "<class 'str'> As expected\n",
            "<class 'str'> So far I like the phone very much.\n",
            "<class 'str'> GOOD LOTS TO LEARN\n",
            "<class 'str'> We are still getting used to our phones \n",
            "<class 'str'> Phone price great. Service price expensi\n",
            "<class 'str'> Still learning usage, but seems perfect \n",
            "<class 'str'> The phone is fabulous! With my difficult\n",
            "<class 'str'> Met my expectations except for price...a\n",
            "<class 'str'> Still learning how best to use it, but i\n",
            "<class 'str'> Very easy for seniors who want to ventur\n",
            "<class 'str'> I ordered this phone for my 91 years old\n",
            "<class 'str'> very easy to use\n",
            "<class 'str'> This phone is easy to set up and easy to\n",
            "<class 'str'> Very nice phone. Could be a little easie\n",
            "<class 'str'> Fabulous\n",
            "<class 'str'> I AM VERY NEW TO A SMART PHONE. I AM LEA\n",
            "<class 'str'> THE PHONE WORKS GREAT ,EASY TO USE ,WE A\n",
            "<class 'str'> Nice phone, wide area of coverage and th\n",
            "<class 'str'> Great phone for my needs. I replaced an \n",
            "<class 'str'> nice\n",
            "<class 'str'> This case provides support for the Jitte\n",
            "<class 'str'> This Jitterbug Phone is perfect for our \n",
            "<class 'str'> I love it. The fact that if needed durin\n",
            "<class 'str'> Very easy to use. But monthly charges ar\n",
            "<class 'str'> all that was expected\n",
            "<class 'str'> Fast shipping. Exactly as advertised -- \n",
            "<class 'str'> love it\n",
            "<class 'str'> Best of both worlds for seniors...I love\n",
            "<class 'str'> Great little phone, but touch very sensi\n",
            "<class 'str'> this phone is ok for seniors except it i\n",
            "<class 'str'> Good phone just one thing on it I did no\n",
            "<class 'str'> Excellent value, setup was simple, quick\n",
            "<class 'str'> I'm old! I just don't need, nor want a f\n",
            "<class 'str'> Good basic touch phone without lots of b\n",
            "<class 'str'> This phone is really great! As a \"senior\n",
            "<class 'str'> Made the switch from flip phone, and lov\n",
            "<class 'str'> Easy to use. Comes with instruction manu\n",
            "<class 'str'> Ok for old people... but then it begs th\n",
            "<class 'str'> Mr.oakeshott has written avery clear and\n"
          ]
        },
        {
          "name": "stderr",
          "output_type": "stream",
          "text": [
            " 69%|██████▊   | 686/1000 [00:03<00:01, 223.50it/s]"
          ]
        },
        {
          "name": "stdout",
          "output_type": "stream",
          "text": [
            "<class 'str'> Love this little phone! Play lots of Sol\n",
            "<class 'str'> I think this is a great phone .\n",
            "<class 'str'> This is a great smart phone for those of\n",
            "<class 'str'> This phone is very easy to use. I'm espe\n",
            "<class 'str'> Love It!!!\n",
            "<class 'str'> Love this phone with the added 5star fea\n",
            "<class 'str'> I am no a senior but I need the great ca\n",
            "<class 'str'> Love it. Easy to use!\n",
            "<class 'str'> Easy to use, and great help from the Jit\n",
            "<class 'str'> Got this phone for my husband who is in \n",
            "<class 'str'> Easy to use\n",
            "<class 'str'> It's great--even a senior such as myself\n",
            "<class 'str'> got it for my MIL and she loves it. Easy\n",
            "<class 'str'> It was a gift for a visiting friend and \n",
            "<class 'str'> Admittedly I am what is nowadays conside\n",
            "<class 'str'> Bought this for my elderly mother. With \n",
            "<class 'str'> very good except battery had to be repla\n",
            "<class 'str'> I like it....It does all I need. Since, \n",
            "<class 'str'> My wife loves it. She gave me the Samsun\n",
            "<class 'str'> Great for my husband\n",
            "<class 'str'> This is a good product, at an outstandin\n",
            "<class 'str'> This is a Samsung Galaxy Ace phone,if yo\n",
            "<class 'str'> It's my first Smart Phone. Pretty easy t\n",
            "<class 'str'> Gramma is thrilled! She's quite hard of \n",
            "<class 'str'> For my mother in law, and just right for\n",
            "<class 'str'> My 70 year old Mom loves this! It is not\n",
            "<class 'str'> this phone is great,.very easy to use,it\n",
            "<class 'str'> As expected!\n",
            "<class 'str'> Purchased this for my Mother-in-law who \n",
            "<class 'str'> Great value. I paid $29 for this brand n\n",
            "<class 'str'> still trying to figure it out\n",
            "<class 'str'> I love the size, I the size and it is ea\n",
            "<class 'str'> love it\n",
            "<class 'str'> In service immediately and is most helpf\n",
            "<class 'str'> would buy it again\n",
            "<class 'str'> WORKS GOOD, BUT HAVE TO GET USE TO IT.\n",
            "<class 'str'> Just the smart fone we have been seeking\n",
            "<class 'str'> I gave it to my Mother as a gift. First \n",
            "<class 'str'> good phone good customer service\n",
            "<class 'str'> No comments\n",
            "<class 'str'> don't know how to use it yet\n",
            "<class 'str'> Great little hone- easy to use. Still le\n",
            "<class 'str'> Very good phone.\n",
            "<class 'str'> Love it. Easy to use!\n"
          ]
        },
        {
          "name": "stderr",
          "output_type": "stream",
          "text": [
            " 74%|███████▍  | 740/1000 [00:03<00:01, 243.61it/s]"
          ]
        },
        {
          "name": "stdout",
          "output_type": "stream",
          "text": [
            "<class 'str'> I bought this phone for my mother who li\n",
            "<class 'str'> I dropped mine and broke the screen. The\n",
            "<class 'str'> Great phone for Seniors. Easy to set it \n",
            "<class 'str'> I was very happy with my order I would r\n",
            "<class 'str'> It works excellent for my needs\n",
            "<class 'str'> This phone is nothing but #AWESOME. The \n",
            "<class 'str'> Excellent!! Phone from Samsung. worth of\n",
            "<class 'str'> I liked the version Samsung China has wi\n",
            "<class 'str'> My daughter LOVES her phone! Came dual s\n",
            "<class 'str'> I have had my cel for a few days and it \n",
            "<class 'str'> Best product, amazing phone i'm very hap\n",
            "<class 'str'> Excellent phone for the price.\n",
            "<class 'str'> Very good\n",
            "<class 'str'> Great product - thanks\n",
            "<class 'str'> Excelente..\n",
            "<class 'str'> Delivery was excellent 5 stars for effic\n",
            "<class 'str'> I love the long life battery. Limited in\n",
            "<class 'str'> Just a time!!!\n",
            "<class 'str'> Excellent\n",
            "<class 'str'> Works perfect.\n",
            "<class 'str'> I'm happy with my product thanks\n",
            "<class 'str'> This is a Samsung, remember? Works as ad\n",
            "<class 'str'> Simple and does the functions I paid for\n",
            "<class 'str'> Pleased with purchase. Need to get the c\n",
            "<class 'str'> The product did not bring headphones to \n",
            "<class 'str'> Is this phone lightning fast? No. It's a\n",
            "<class 'str'> excelente\n",
            "<class 'str'> work very well,\n",
            "<class 'str'> Small but powerfull.\n",
            "<class 'str'> great 3.5 inch phone, and you can use sa\n",
            "<class 'str'> EXCELENTE!!\n",
            "<class 'str'> Yes, it is very small, but that is why I\n",
            "<class 'str'> I received the order on Schedule . But a\n",
            "<class 'str'> very nice and cute phone, i loved it! th\n",
            "<class 'str'> The phone is nice but for the screen siz\n",
            "<class 'str'> EXCELENTE!\n",
            "<class 'str'> nice\n",
            "<class 'str'> EXCLNETE\n",
            "<class 'str'> I'm new with Samsung or Android, I was a\n",
            "<class 'str'> Excellent\n",
            "<class 'str'> ok\n",
            "<class 'str'> Excelente\n",
            "<class 'str'> ¡Excelente!\n",
            "<class 'str'> i love\n",
            "<class 'str'> Good though the actual size is smaller t\n",
            "<class 'str'> I order this phone for my mother who nee\n",
            "<class 'str'> For people like me who`s not really addi\n",
            "<class 'str'> Small and pretty.\n",
            "<class 'str'> It's quite good and useful to have it on\n",
            "<class 'str'> The phone is slender and compact but has\n",
            "<class 'str'> An easy to use basic phone that works on\n",
            "<class 'str'> This is simply what I needed as a cellph\n",
            "<class 'str'> At time of purchase it was not unlocked!\n",
            "<class 'str'> Great Product\n",
            "<class 'str'> Received Samsung phone quickly and it wa\n",
            "<class 'str'> Small and very light, simple, when just \n"
          ]
        },
        {
          "name": "stderr",
          "output_type": "stream",
          "text": [
            " 80%|███████▉  | 798/1000 [00:03<00:00, 232.96it/s]"
          ]
        },
        {
          "name": "stdout",
          "output_type": "stream",
          "text": [
            "<class 'str'> Nice phone, basic options, no Bluetooth!\n",
            "<class 'str'> I needed a cheap, unlocked phone to take\n",
            "<class 'str'> Excellent phone! Everything was new and \n",
            "<class 'str'> Very good simple phone.. I recommend thi\n",
            "<class 'str'> good product\n",
            "<class 'str'> Vey very Good Phone\n",
            "<class 'str'> My Mom is travelling overseas and needs \n",
            "<class 'str'> Well, I had to leave my smartphone at ho\n",
            "<class 'str'> I would say its a nice good looking phon\n",
            "<class 'str'> Nice little phone. Inserted Family Mobil\n",
            "<class 'str'> The phone is slender and compact but has\n",
            "<class 'str'> An easy to use basic phone that works on\n",
            "<class 'str'> This is a simple phone to talk and text.\n",
            "<class 'str'> Phone is good if you just need a phone w\n",
            "<class 'str'> Bought this for my 66 year-old mother wh\n",
            "<class 'str'> All I was looking for was an unlocked ph\n",
            "<class 'str'> Easy to activate, easy to use simple fli\n",
            "<class 'str'> Got the phoen it works well, the keys ar\n",
            "<class 'str'> Very happy with the condition of the pho\n",
            "<class 'str'> the phone is as described, excellent con\n",
            "<class 'str'> the phone was just as described. it is a\n",
            "<class 'str'> This is a good camera! The sound and pic\n",
            "<class 'str'> Bought this phone a couple years ago and\n",
            "<class 'str'> Very good\n",
            "<class 'str'> Still worki\n",
            "<class 'str'> A wonderfully simple phone for anyone wh\n",
            "<class 'str'> The phone works very well. It does not h\n",
            "<class 'str'> This is almost perfect. It gets great re\n",
            "<class 'str'> Love the fact that I can swap sim cards \n",
            "<class 'str'> Husband Love's This Phone Can Not Get Hi\n",
            "<class 'str'> It was perfect! just what i had been loo\n",
            "<class 'str'> This is my 3rd phone with this model so \n",
            "<class 'str'> I had this phone before unfortunately it\n",
            "<class 'str'> This is for my husband and he doesn't li\n",
            "<class 'str'> I love this Phone and I use my own Ringt\n",
            "<class 'str'> Great phone my Mom loves it fast shippin\n",
            "<class 'str'> I really like this phone seems like it i\n",
            "<class 'str'> I replaced a prior A777 phone that had K\n",
            "<class 'str'> I ordered this phone because it was just\n"
          ]
        },
        {
          "name": "stderr",
          "output_type": "stream",
          "text": [
            " 82%|████████▏ | 823/1000 [00:03<00:00, 220.71it/s]"
          ]
        },
        {
          "name": "stdout",
          "output_type": "stream",
          "text": [
            "<class 'str'> Phone delivered fast in new box. Comes w\n",
            "<class 'str'> I've had this model phone for 3.5 yrs,fi\n",
            "<class 'str'> I originally bought a Samsung Galaxy 2 f\n",
            "<class 'str'> Great replacement for a broken phone.\n",
            "<class 'str'> My mom loves this phone. It has large nu\n",
            "<class 'str'> good phone\n",
            "<class 'str'> Thanks for carrying great little functio\n",
            "<class 'str'> Love it\n",
            "<class 'str'> perfect little NON smart phone\n",
            "<class 'str'> works great\n",
            "<class 'str'> A very good, basic phone. Perfect for se\n",
            "<class 'str'> very nice\n",
            "<class 'str'> That was an excellent job and the phone \n",
            "<class 'str'> works great no problem went straight on \n",
            "<class 'str'> Bought this for hubby because he just ne\n",
            "<class 'str'> So much easier to use than my previous s\n",
            "<class 'str'> The phone works well for me. I had no pr\n",
            "<class 'str'> My old phone died and I did not want to \n",
            "<class 'str'> This phone works very well it replaces m\n",
            "<class 'str'> I've always wanted a touchscreen cell ph\n",
            "<class 'str'> For my purposes, the Samsung A887 Solsti\n",
            "<class 'str'> excellent the phone is the same as the f\n",
            "<class 'str'> Bought it for my wife and was so glad to\n",
            "<class 'str'> Great product! The phone was listed in g\n",
            "<class 'str'> I had had an Alias (gold) several years \n",
            "<class 'str'> The item arrived in excellent condition \n",
            "<class 'str'> The phone came in just 4 days and was we\n",
            "<class 'str'> The more that my husband uses this phone\n",
            "<class 'str'> excelente\n",
            "<class 'str'> I like this phoneI like this phone to on\n",
            "<class 'str'> I enjoyed this phone years ago and tried\n",
            "<class 'str'> This is one of my favorite phones that I\n",
            "<class 'str'> excelente\n",
            "<class 'str'> I like this phoneI like this phone to on\n"
          ]
        },
        {
          "name": "stderr",
          "output_type": "stream",
          "text": [
            " 87%|████████▋ | 867/1000 [00:04<00:00, 191.05it/s]"
          ]
        },
        {
          "name": "stdout",
          "output_type": "stream",
          "text": [
            "<class 'str'> I enjoyed this phone years ago and tried\n",
            "<class 'str'> excelent phone\n",
            "<class 'str'> This phone is everything I wanted. I put\n",
            "<class 'str'> Excellent\n",
            "<class 'str'> Really Nice Phone For The Price... Graph\n",
            "<class 'str'> Good\n",
            "<class 'str'> great windows phone, runs 8.1 no issues \n",
            "<class 'str'> Phone worked great from October -2014 to\n",
            "<class 'str'> I love it!\n",
            "<class 'str'> good smartphone and it's on windows 8 sy\n",
            "<class 'str'> value of money love it.its include all f\n",
            "<class 'str'> I know this phone came out over a year a\n",
            "<class 'str'> I love the phone. Great size and weight.\n",
            "<class 'str'> Product as described. Awesome to have a \n",
            "<class 'str'> Great phone at a great price. Using it o\n",
            "<class 'str'> Great phone at a very reasonable cost. S\n",
            "<class 'str'> Great phone! Purchased two additional ph\n",
            "<class 'str'> Great buy for a really good phone. Stron\n",
            "<class 'str'> like the looks like new and it is runnin\n",
            "<class 'str'> This phone works perfectly. I can't wait\n",
            "<class 'str'> Works as expected and used as intended.\n",
            "<class 'str'> Excellent for this price.\n",
            "<class 'str'> Ordered this to replace a broken iPhone \n",
            "<class 'str'> Very good phone\n",
            "<class 'str'> Excellent smartphone 100% recommended\n",
            "<class 'str'> very good completely satisfied with the \n",
            "<class 'str'> I love my new phone! I bought it with sl\n",
            "<class 'str'> Great phone for an older model. When I i\n",
            "<class 'str'> Great device foe a greate price. The win\n",
            "<class 'str'> AWESOME PHONE.After going through a long\n",
            "<class 'str'> This phone is totally bangin and it work\n",
            "<class 'str'> I like it.\n",
            "<class 'str'> works awesome with my service provider\n",
            "<class 'str'> Awesome phone. I know it says unlocked i\n",
            "<class 'str'> Work amazing\n",
            "<class 'str'> great phone and good price\n",
            "<class 'str'> Love this phone. I wish this phone quali\n",
            "<class 'str'> I like my phone, it is not complicated.\n",
            "<class 'str'> This was a present for one of my sons an\n",
            "<class 'str'> Good phone and easy to set up\n",
            "<class 'str'> I am satisfied with this device, it work\n",
            "<class 'str'> All I can say is bargain,great phone,lov\n"
          ]
        },
        {
          "name": "stderr",
          "output_type": "stream",
          "text": [
            " 89%|████████▉ | 892/1000 [00:04<00:00, 204.46it/s]"
          ]
        },
        {
          "name": "stdout",
          "output_type": "stream",
          "text": [
            "<class 'str'> Loved this phone until the day it felt a\n",
            "<class 'str'> I liked so much. The produc arrived in p\n",
            "<class 'str'> Great !!!\n",
            "<class 'str'> very excellent charm me\n",
            "<class 'str'> everything perfect excellent product rec\n",
            "<class 'str'> I've had an iPhone and a few Android pho\n",
            "<class 'str'> Its beyond my expectations\n",
            "<class 'str'> Nice phone and great price\n",
            "<class 'str'> wonderful product. works exactly as desc\n",
            "<class 'str'> Used this phone for quite some time befo\n",
            "<class 'str'> This is the only phone that will resist \n",
            "<class 'str'> I needed a basic phone for my elderly fa\n",
            "<class 'str'> I had this phone before, and it was grea\n",
            "<class 'str'> sucks as a phone but sure was fun dropin\n",
            "<class 'str'> The phone works great with my T-Mobile c\n",
            "<class 'str'> this phone is great...sleek design,nice \n",
            "<class 'str'> This is the perfect phone for my husband\n",
            "<class 'str'> First of all, this phone isn't for every\n",
            "<class 'str'> Always reliable. Never expensive. I've u\n",
            "<class 'str'> High recomended... I got a friend that w\n",
            "<class 'str'> i had to replace my husband's destroyed \n",
            "<class 'str'> This phone survived a 50 minute laundry \n",
            "<class 'str'> It is just as I ordered, waterproof, sho\n",
            "<class 'str'> Got this phone 3 years ago and loved it \n",
            "<class 'str'> I would definitely recommend this phone \n",
            "<class 'str'> My wife went through 3 phones in one yea\n",
            "<class 'str'> My husband is a plumber and he has broke\n",
            "<class 'str'> I got this b/c I drive a Jeep and am jus\n",
            "<class 'str'> Great for outdoor enthusiasts and those \n",
            "<class 'str'> So far this phone is great. Long battery\n",
            "<class 'str'> God knows I'm accident prone,I've droppe\n",
            "<class 'str'> I bought mine because of recommendation \n",
            "<class 'str'> I have bought this phone cause when i wa\n"
          ]
        },
        {
          "name": "stderr",
          "output_type": "stream",
          "text": [
            " 91%|█████████▏| 913/1000 [00:04<00:00, 166.52it/s]"
          ]
        },
        {
          "name": "stdout",
          "output_type": "stream",
          "text": [
            "<class 'str'> I have noticed some mildly bad reviews f\n",
            "<class 'str'> I got this phone for my husband who like\n",
            "<class 'str'> Phone is basic but I needed the rugged a\n",
            "<class 'str'> I bought this as a travel phone. The rad\n",
            "<class 'str'> Teléfono totalmente recomendado, lo únic\n",
            "<class 'str'> this is a simple phone that works well. \n",
            "<class 'str'> What comes in the box:BatteryAC adapterP\n",
            "<class 'str'> Pros:1) This is a solid phone which can \n",
            "<class 'str'> This is a phone for those who are rough \n",
            "<class 'str'> I had ordered this phone from Amazon dir\n",
            "<class 'str'> I bought this for a 2 month trip to Cost\n",
            "<class 'str'> Got this phone two months ago and it is \n",
            "<class 'str'> I don't like touchscreen phones so much,\n",
            "<class 'str'> the features of the phone exceeded my ex\n",
            "<class 'str'> great finish, fairly adult looking (not \n"
          ]
        },
        {
          "name": "stderr",
          "output_type": "stream",
          "text": [
            " 95%|█████████▍| 947/1000 [00:04<00:00, 135.01it/s]"
          ]
        },
        {
          "name": "stdout",
          "output_type": "stream",
          "text": [
            "<class 'str'> I use this phone for kayaking and paddle\n",
            "<class 'str'> I am a swimmer, and I spend tons of time\n",
            "<class 'str'> Amazon was great in the shipping. We got\n",
            "<class 'str'> Havnt been able to drown it yet, easy to\n",
            "<class 'str'> Very strong design, ideal for teens who \n",
            "<class 'str'> I bought this phone for my cell-phone ha\n",
            "<class 'str'> Got it a a gift for a dad, and he was th\n",
            "<class 'str'> Extremely tough little phone. I love it\n",
            "<class 'str'> Good for active people.\n",
            "<class 'str'> Very good!!!\n",
            "<class 'str'> I bought the phone as a gift and the per\n",
            "<class 'str'> Liked it- still getting used to it.\n",
            "<class 'str'> I'm into construction and this is one st\n",
            "<class 'str'> This phone was a very good buy. I replac\n",
            "<class 'str'> I returned it because it was too small f\n",
            "<class 'str'> I bought this phone for use in the UK wh\n",
            "<class 'str'> This phone can resist a nuclear attack. \n",
            "<class 'str'> I bought this as a second local phone fo\n",
            "<class 'str'> I'd read multiple reviews with people ha\n",
            "<class 'str'> Samsung B2100 Unlocked Quad-Band Phone, \n",
            "<class 'str'> The phone is rugged with lots of nice fe\n",
            "<class 'str'> Very nice phone. I'm a Broadcast Enginee\n",
            "<class 'str'> The perfect phone to have on a rugged ca\n",
            "<class 'str'> Durable phones not my first purchase the\n",
            "<class 'str'> The product is as announced on the Amazo\n",
            "<class 'str'> Very pleased with the phone. Simple to u\n",
            "<class 'str'> ESPECTACULAR\n",
            "<class 'str'> exec\n",
            "<class 'str'> Very durable, so reliable\n",
            "<class 'str'> works great nice to have a flash light a\n",
            "<class 'str'> Great, well-built rugged little phone. P\n"
          ]
        },
        {
          "name": "stderr",
          "output_type": "stream",
          "text": [
            " 96%|█████████▌| 962/1000 [00:04<00:00, 135.32it/s]"
          ]
        },
        {
          "name": "stdout",
          "output_type": "stream",
          "text": [
            "<class 'str'> It come with useful apps, can get wet an\n",
            "<class 'str'> I have had this phone for a little over \n",
            "<class 'str'> I only use my cell phone for phone calls\n",
            "<class 'str'> Except for the keypad being a tad hard t\n",
            "<class 'str'> I am happy with the durability of the ph\n",
            "<class 'str'> Pros of the Samsung B2100:1. Waterproof:\n",
            "<class 'str'> Arrived a day earlier than promised, pai\n",
            "<class 'str'> Perfect rugged phone. Bulletproof. Long \n",
            "<class 'str'> good one\n",
            "<class 'str'> great product\n",
            "<class 'str'> Had this a while, still going well and k\n",
            "<class 'str'> Best waterproof unlocked phone.\n",
            "<class 'str'> Here we are five years after I bought th\n",
            "<class 'str'> excelente\n",
            "<class 'str'> very satisfied with thisproduct\n",
            "<class 'str'> It is a pretty basic phone.The things I \n",
            "<class 'str'> Used this phone for quite some time befo\n",
            "<class 'str'> This is the only phone that will resist \n",
            "<class 'str'> I needed a basic phone for my elderly fa\n"
          ]
        },
        {
          "name": "stderr",
          "output_type": "stream",
          "text": [
            "100%|██████████| 1000/1000 [00:05<00:00, 199.82it/s]"
          ]
        },
        {
          "name": "stdout",
          "output_type": "stream",
          "text": [
            "<class 'str'> I had this phone before, and it was grea\n",
            "<class 'str'> sucks as a phone but sure was fun dropin\n",
            "<class 'str'> High recomended... I got a friend that w\n",
            "<class 'str'> i had to replace my husband's destroyed \n",
            "<class 'str'> This phone survived a 50 minute laundry \n",
            "<class 'str'> It is just as I ordered, waterproof, sho\n",
            "<class 'str'> Got this phone 3 years ago and loved it \n",
            "<class 'str'> I would definitely recommend this phone \n",
            "<class 'str'> My wife went through 3 phones in one yea\n",
            "<class 'str'> My husband is a plumber and he has broke\n",
            "<class 'str'> I got this b/c I drive a Jeep and am jus\n",
            "<class 'str'> Great for outdoor enthusiasts and those \n",
            "<class 'str'> spot on\n",
            "<class 'str'> RELIABLE PROTECTION FROM WATER DAMAGE - \n",
            "<class 'str'> just like i espect\n",
            "<class 'str'> Good phone but unable to find a matching\n",
            "<class 'str'> Great travel phone for abroad, almost bu\n",
            "<class 'str'> This is the fifth one I've bought, for t\n",
            "<class 'str'> Very durable phone, only problem was not\n",
            "<class 'str'> I'm into construction and this is one st\n",
            "<class 'str'> This phone was as advertised. I just plu\n",
            "<class 'str'> Achieves the objectives of its design. T\n",
            "<class 'str'> It is a great phone. the sound quality i\n"
          ]
        },
        {
          "name": "stderr",
          "output_type": "stream",
          "text": [
            "\n"
          ]
        }
      ],
      "source": [
        "nouns = []\n",
        "for review in tqdm(samsung_reviews.split(\"\\n\")[0:1000]):\n",
        "    print(type(review), review[:40])\n",
        "    doc = nlp(review)\n",
        "    for tok in doc:\n",
        "        if tok.pos_==\"NOUN\":\n",
        "            nouns.append(tok.lemma_.lower())"
      ]
    },
    {
      "cell_type": "code",
      "execution_count": null,
      "metadata": {
        "id": "2KmwyyX-jXE8"
      },
      "outputs": [],
      "source": [
        "len(samsung_reviews.split(\"\\n\"))"
      ]
    },
    {
      "cell_type": "code",
      "execution_count": null,
      "metadata": {
        "id": "XUf8-pG1jXE9",
        "outputId": "288bda64-52b2-48dc-ce1d-bcecf596c39f"
      },
      "outputs": [],
      "source": [
        "(46355/1000)*6"
      ]
    },
    {
      "cell_type": "code",
      "execution_count": null,
      "metadata": {
        "id": "nX83oQevjXE9",
        "outputId": "095ef791-0bd5-4310-dc03-00fba9af3a33"
      },
      "outputs": [],
      "source": [
        "278/60"
      ]
    },
    {
      "cell_type": "markdown",
      "metadata": {
        "id": "-qZDcM2njXE-"
      },
      "source": [
        "### Lets process all the reviews now and see if time taken is less !!!"
      ]
    },
    {
      "cell_type": "code",
      "execution_count": null,
      "metadata": {
        "id": "KiftxQmcjXE-",
        "outputId": "1f035757-c703-4fd5-fc25-14b99efeca8f"
      },
      "outputs": [],
      "source": [
        "nouns = []\n",
        "for review in tqdm(samsung_reviews.split(\"\\n\")):\n",
        "    doc = nlp(review)\n",
        "    for tok in doc:\n",
        "        if tok.pos_==\"NOUN\":\n",
        "            nouns.append(tok.lemma_.lower())"
      ]
    },
    {
      "cell_type": "markdown",
      "metadata": {
        "id": "4tDq-KDOjXE_"
      },
      "source": [
        "### Does the hypothesis of nouns capturing `product features` hold?"
      ]
    },
    {
      "cell_type": "code",
      "execution_count": null,
      "metadata": {
        "id": "f_9BsBMvjXFA",
        "outputId": "04060afd-fb64-4c84-e55f-eaba0cc85446"
      },
      "outputs": [],
      "source": [
        "nouns=pd.Series(nouns)\n",
        "nouns.value_counts().head(5)"
      ]
    },
    {
      "cell_type": "code",
      "execution_count": null,
      "metadata": {
        "id": "7g33CJOXjXFA",
        "outputId": "525c082f-6d7e-4755-997f-13d2b8cddfb9"
      },
      "outputs": [],
      "source": [
        "nouns.value_counts().head(10)"
      ]
    },
    {
      "cell_type": "markdown",
      "metadata": {
        "id": "qlp6FvUMjXFB"
      },
      "source": [
        "### We now know that people mention `battery`, `product`, `screen` etc. But we still don't know in what context they mention these keywords"
      ]
    },
    {
      "cell_type": "markdown",
      "metadata": {
        "id": "zurzvf_tjXFB"
      },
      "source": [
        "### Summary:\n",
        " - Most frequently used lemmatised forms of noun, inform us about the product features people are talking about in product reviews\n",
        " - In order to process the review data faster spacy allows us to use the idea of enabling parts of model inference pipeline via `spacy.loads()` command and `disable` parameter"
      ]
    },
    {
      "cell_type": "code",
      "execution_count": null,
      "metadata": {
        "id": "qmCWc_9vjXFC"
      },
      "outputs": [],
      "source": []
    }
  ],
  "metadata": {
    "colab": {
      "name": "POS3.ipynb.txt",
      "provenance": []
    },
    "kernelspec": {
      "display_name": "Python 3",
      "language": "python",
      "name": "python3"
    },
    "language_info": {
      "codemirror_mode": {
        "name": "ipython",
        "version": 3
      },
      "file_extension": ".py",
      "mimetype": "text/x-python",
      "name": "python",
      "nbconvert_exporter": "python",
      "pygments_lexer": "ipython3",
      "version": "3.7.9"
    }
  },
  "nbformat": 4,
  "nbformat_minor": 0
}
