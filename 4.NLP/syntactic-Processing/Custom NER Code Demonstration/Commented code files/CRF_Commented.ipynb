{
  "cells": [
    {
      "cell_type": "markdown",
      "metadata": {
        "id": "FuJZ8hS1Gdp0"
      },
      "source": [
        "For this demo, we will use the [MIT Restaurant Corpus](https://groups.csail.mit.edu/sls/downloads/restaurant/) -- a dataset of transcriptions of spoken utterances about restaurants.\n",
        "\n",
        "The dataset has following entity types:\n",
        "\n",
        "* 'B-Rating'\n",
        "* 'I-Rating',\n",
        "* 'B-Amenity',\n",
        "* 'I-Amenity',\n",
        "* 'B-Location',\n",
        "* 'I-Location',\n",
        "* 'B-Restaurant_Name',\n",
        "* 'I-Restaurant_Name',\n",
        "* 'B-Price',\n",
        "* 'B-Hours',\n",
        "* 'I-Hours',\n",
        "* 'B-Dish',\n",
        "* 'I-Dish',\n",
        "* 'B-Cuisine',\n",
        "* 'I-Price',\n",
        "* 'I-Cuisine'\n",
        "\n",
        "Let us load the dataset and see what are we working with."
      ]
    },
    {
      "cell_type": "code",
      "execution_count": 292,
      "metadata": {
        "id": "Q0FynEFzDrvb"
      },
      "outputs": [],
      "source": [
        "with open('../data/sent_train', 'r') as train_sent_file:\n",
        "  train_sentences = train_sent_file.readlines()\n",
        "\n",
        "with open('../data/label_train', 'r') as train_labels_file:\n",
        "  train_labels = train_labels_file.readlines()\n",
        "\n",
        "with open('../data/sent_test', 'r') as test_sent_file:\n",
        "  test_sentences = test_sent_file.readlines()\n",
        "\n",
        "with open('../data/label_test', 'r') as test_labels_file:\n",
        "  test_labels = test_labels_file.readlines()\n"
      ]
    },
    {
      "cell_type": "markdown",
      "metadata": {
        "id": "5WkhbGrdGffs"
      },
      "source": [
        "Let us see some example data points."
      ]
    },
    {
      "cell_type": "code",
      "execution_count": 293,
      "metadata": {
        "id": "FVNI3boSFgQ1"
      },
      "outputs": [
        {
          "name": "stdout",
          "output_type": "stream",
          "text": [
            "any good ice cream parlors around \n",
            "\n",
            "O B-Rating B-Cuisine I-Cuisine I-Cuisine B-Location \n",
            "\n"
          ]
        }
      ],
      "source": [
        "# Print the 6th sentence in the test set i.e. index value 5.\n",
        "print(test_sentences[5])\n",
        "\n",
        "# Print the labels of this sentence\n",
        "print(test_labels[5])"
      ]
    },
    {
      "cell_type": "markdown",
      "metadata": {
        "id": "dQSnhug230dr"
      },
      "source": [
        "#Defining Features for Custom NER"
      ]
    },
    {
      "cell_type": "markdown",
      "metadata": {
        "id": "jMwc9lv_3mrW"
      },
      "source": [
        "First, let us install the required modules."
      ]
    },
    {
      "cell_type": "code",
      "execution_count": 294,
      "metadata": {
        "id": "i9KFfDxN3mWu"
      },
      "outputs": [
        {
          "name": "stdout",
          "output_type": "stream",
          "text": [
            "Requirement already satisfied: pycrf in /Users/sreedevigattu/sree/PGDS/MachineLearning/venv/lib/python3.7/site-packages (0.0.1)\n",
            "\u001b[33mWARNING: You are using pip version 20.1.1; however, version 22.0.3 is available.\n",
            "You should consider upgrading via the '/Users/sreedevigattu/sree/PGDS/MachineLearning/venv/bin/python3 -m pip install --upgrade pip' command.\u001b[0m\n",
            "Requirement already satisfied: sklearn-crfsuite in /Users/sreedevigattu/sree/PGDS/MachineLearning/venv/lib/python3.7/site-packages (0.3.6)\n",
            "Requirement already satisfied: tqdm>=2.0 in /Users/sreedevigattu/sree/PGDS/MachineLearning/venv/lib/python3.7/site-packages (from sklearn-crfsuite) (4.62.3)\n",
            "Requirement already satisfied: tabulate in /Users/sreedevigattu/sree/PGDS/MachineLearning/venv/lib/python3.7/site-packages (from sklearn-crfsuite) (0.8.9)\n",
            "Requirement already satisfied: six in /Users/sreedevigattu/sree/PGDS/MachineLearning/venv/lib/python3.7/site-packages (from sklearn-crfsuite) (1.16.0)\n",
            "Requirement already satisfied: python-crfsuite>=0.8.3 in /Users/sreedevigattu/sree/PGDS/MachineLearning/venv/lib/python3.7/site-packages (from sklearn-crfsuite) (0.9.7)\n",
            "\u001b[33mWARNING: You are using pip version 20.1.1; however, version 22.0.3 is available.\n",
            "You should consider upgrading via the '/Users/sreedevigattu/sree/PGDS/MachineLearning/venv/bin/python3 -m pip install --upgrade pip' command.\u001b[0m\n"
          ]
        }
      ],
      "source": [
        "# Install pycrf and crfsuit packages using pip command\n",
        "!pip install pycrf\n",
        "!pip install sklearn-crfsuite"
      ]
    },
    {
      "cell_type": "markdown",
      "metadata": {
        "id": "4Hv6kAL9TMpf"
      },
      "source": [
        "\n",
        "\n",
        "We will now start with computing features for our input sequences."
      ]
    },
    {
      "cell_type": "markdown",
      "metadata": {
        "id": "HqvJ-tAz0MzR"
      },
      "source": [
        "We have defined the following features for CRF model building:\n",
        "\n",
        "- f1 = input word is in lower case; \n",
        "- f2 = last 3 characters of word;\n",
        "- f3 = last 2 characers of word;\n",
        "- f4 = 1; if the word is in uppercase, 0 otherwise;\n",
        "- f5 = 1; if word is a number; otherwise, 0 \n",
        "- f6= 1; if the word starts with a capital letter; otherwise, 0\n"
      ]
    },
    {
      "cell_type": "code",
      "execution_count": 295,
      "metadata": {
        "id": "3YVm3JTkFiaM"
      },
      "outputs": [],
      "source": [
        "#Define a function to get the above defined features for a word.\n",
        "def getFeaturesForAWord(sentence, pos):\n",
        "    word = sentence[pos]\n",
        "    features = {\n",
        "        'word.lower' : word.lower(), \n",
        "        'word[-3:]' : word[-3:],\n",
        "        'word[-2:]' : word[-2:],   \n",
        "        'word.isupper' : word.isupper(),\n",
        "        'word.isidigt' : word.isdigit(),\n",
        "        'words.startsWithCapital' : word[0].isupper()}\n",
        "\n",
        "    if pos > 0:\n",
        "        prev_word = sentence[pos-1]\n",
        "        features.update({\n",
        "            'prev_words.lower' : prev_word.lower(),\n",
        "            'prev_words.isupper' : prev_word.isupper(),\n",
        "            'prev_words.isdigit' : prev_word.isdigit(), \n",
        "            'prev_words.startsWithCapital' : word[0].isupper()})\n",
        "    else:\n",
        "        features.update({'BEG' : True})\n",
        "\n",
        "    return features"
      ]
    },
    {
      "cell_type": "markdown",
      "metadata": {
        "id": "FAS3xt0u-r89"
      },
      "source": [
        "#Computing Features "
      ]
    },
    {
      "cell_type": "markdown",
      "metadata": {
        "id": "wQ_ByE1ladpo"
      },
      "source": [
        "Define a function to get features for a sentence using the already defined 'getFeaturesForOneWord' function"
      ]
    },
    {
      "cell_type": "code",
      "execution_count": 296,
      "metadata": {
        "id": "KPrh_4F9RCgb"
      },
      "outputs": [],
      "source": [
        "# Define a function to get features for a sentence \n",
        "# using the 'getFeaturesForOneWord' function.\n",
        "def getFeaturesForASentence(sentence):\n",
        "    sentence_words = sentence.split()\n",
        "    return [getFeaturesForAWord(sentence_words, pos) for pos in range(len(sentence_words))]"
      ]
    },
    {
      "cell_type": "markdown",
      "metadata": {
        "id": "PZwEnrYraqi7"
      },
      "source": [
        "Define function to get the labels for a sentence."
      ]
    },
    {
      "cell_type": "code",
      "execution_count": 297,
      "metadata": {
        "id": "N7Tt2NncirYD"
      },
      "outputs": [],
      "source": [
        "# Define a function to get the labels for a sentence.\n",
        "def getLabeslInListForASentence(labels):\n",
        "    return labels.split()"
      ]
    },
    {
      "cell_type": "markdown",
      "metadata": {
        "id": "ZHCv5BWRTQb9"
      },
      "source": [
        "Example features for a sentence\n"
      ]
    },
    {
      "cell_type": "code",
      "execution_count": 298,
      "metadata": {
        "id": "1RzuYcYgSc_x"
      },
      "outputs": [
        {
          "name": "stdout",
          "output_type": "stream",
          "text": [
            "a place that serves soft serve ice cream \n",
            "\n",
            "[{'word.lower': 'a', 'word[-3:]': 'a', 'word[-2:]': 'a', 'word.isupper': False, 'word.isidigt': False, 'words.startsWithCapital': False, 'BEG': True}, {'word.lower': 'place', 'word[-3:]': 'ace', 'word[-2:]': 'ce', 'word.isupper': False, 'word.isidigt': False, 'words.startsWithCapital': False, 'prev_words.lower': 'a', 'prev_words.isupper': False, 'prev_words.isdigit': False, 'prev_words.startsWithCapital': False}, {'word.lower': 'that', 'word[-3:]': 'hat', 'word[-2:]': 'at', 'word.isupper': False, 'word.isidigt': False, 'words.startsWithCapital': False, 'prev_words.lower': 'place', 'prev_words.isupper': False, 'prev_words.isdigit': False, 'prev_words.startsWithCapital': False}, {'word.lower': 'serves', 'word[-3:]': 'ves', 'word[-2:]': 'es', 'word.isupper': False, 'word.isidigt': False, 'words.startsWithCapital': False, 'prev_words.lower': 'that', 'prev_words.isupper': False, 'prev_words.isdigit': False, 'prev_words.startsWithCapital': False}, {'word.lower': 'soft', 'word[-3:]': 'oft', 'word[-2:]': 'ft', 'word.isupper': False, 'word.isidigt': False, 'words.startsWithCapital': False, 'prev_words.lower': 'serves', 'prev_words.isupper': False, 'prev_words.isdigit': False, 'prev_words.startsWithCapital': False}, {'word.lower': 'serve', 'word[-3:]': 'rve', 'word[-2:]': 've', 'word.isupper': False, 'word.isidigt': False, 'words.startsWithCapital': False, 'prev_words.lower': 'soft', 'prev_words.isupper': False, 'prev_words.isdigit': False, 'prev_words.startsWithCapital': False}, {'word.lower': 'ice', 'word[-3:]': 'ice', 'word[-2:]': 'ce', 'word.isupper': False, 'word.isidigt': False, 'words.startsWithCapital': False, 'prev_words.lower': 'serve', 'prev_words.isupper': False, 'prev_words.isdigit': False, 'prev_words.startsWithCapital': False}, {'word.lower': 'cream', 'word[-3:]': 'eam', 'word[-2:]': 'am', 'word.isupper': False, 'word.isidigt': False, 'words.startsWithCapital': False, 'prev_words.lower': 'ice', 'prev_words.isupper': False, 'prev_words.isdigit': False, 'prev_words.startsWithCapital': False}]\n"
          ]
        }
      ],
      "source": [
        "# Apply function 'getFeaturesForOneSentence' to get features on a single sentence which is at index value 5 in train_sentences\n",
        "test = train_sentences[5]\n",
        "print(test)\n",
        "\n",
        "features = getFeaturesForASentence(test)\n",
        "print(features)\n"
      ]
    },
    {
      "cell_type": "markdown",
      "metadata": {
        "id": "kf6NcY2YdPW2"
      },
      "source": [
        "Get the features for sentences of X_train and X_test and get the labels of Y_train and Y_test data."
      ]
    },
    {
      "cell_type": "code",
      "execution_count": 299,
      "metadata": {
        "id": "G0hQZN9TSjMb"
      },
      "outputs": [],
      "source": [
        "type(train_sentences), len(train_sentences)\n",
        "X_train = [getFeaturesForASentence(sentence) for sentence in train_sentences]\n",
        "Y_train = [getLabeslInListForASentence(labels) for labels in train_labels]\n",
        "\n",
        "X_test = [getFeaturesForASentence(sentence) for sentence in test_sentences]\n",
        "Y_test = [getLabeslInListForASentence(labels) for labels in test_labels]\n",
        "    "
      ]
    },
    {
      "cell_type": "code",
      "execution_count": 300,
      "metadata": {},
      "outputs": [
        {
          "name": "stdout",
          "output_type": "stream",
          "text": [
            "[{'word.lower': '2', 'word[-3:]': '2', 'word[-2:]': '2', 'word.isupper': False, 'word.isidigt': True, 'words.startsWithCapital': False, 'BEG': True}, {'word.lower': 'start', 'word[-3:]': 'art', 'word[-2:]': 'rt', 'word.isupper': False, 'word.isidigt': False, 'words.startsWithCapital': False, 'prev_words.lower': '2', 'prev_words.isupper': False, 'prev_words.isdigit': True, 'prev_words.startsWithCapital': False}, {'word.lower': 'restaurants', 'word[-3:]': 'nts', 'word[-2:]': 'ts', 'word.isupper': False, 'word.isidigt': False, 'words.startsWithCapital': False, 'prev_words.lower': 'start', 'prev_words.isupper': False, 'prev_words.isdigit': False, 'prev_words.startsWithCapital': False}, {'word.lower': 'with', 'word[-3:]': 'ith', 'word[-2:]': 'th', 'word.isupper': False, 'word.isidigt': False, 'words.startsWithCapital': False, 'prev_words.lower': 'restaurants', 'prev_words.isupper': False, 'prev_words.isdigit': False, 'prev_words.startsWithCapital': False}, {'word.lower': 'inside', 'word[-3:]': 'ide', 'word[-2:]': 'de', 'word.isupper': False, 'word.isidigt': False, 'words.startsWithCapital': False, 'prev_words.lower': 'with', 'prev_words.isupper': False, 'prev_words.isdigit': False, 'prev_words.startsWithCapital': False}, {'word.lower': 'dining', 'word[-3:]': 'ing', 'word[-2:]': 'ng', 'word.isupper': False, 'word.isidigt': False, 'words.startsWithCapital': False, 'prev_words.lower': 'inside', 'prev_words.isupper': False, 'prev_words.isdigit': False, 'prev_words.startsWithCapital': False}]\n",
            "\n",
            "['B-Rating', 'I-Rating', 'O', 'O', 'B-Amenity', 'I-Amenity']\n"
          ]
        }
      ],
      "source": [
        "print(X_train[0]);print();print(Y_train[0])"
      ]
    },
    {
      "cell_type": "code",
      "execution_count": 301,
      "metadata": {},
      "outputs": [
        {
          "data": {
            "text/plain": [
              "([{'word.lower': 'a',\n",
              "   'word[-3:]': 'a',\n",
              "   'word[-2:]': 'a',\n",
              "   'word.isupper': False,\n",
              "   'word.isidigt': False,\n",
              "   'words.startsWithCapital': False,\n",
              "   'BEG': True},\n",
              "  {'word.lower': 'four',\n",
              "   'word[-3:]': 'our',\n",
              "   'word[-2:]': 'ur',\n",
              "   'word.isupper': False,\n",
              "   'word.isidigt': False,\n",
              "   'words.startsWithCapital': False,\n",
              "   'prev_words.lower': 'a',\n",
              "   'prev_words.isupper': False,\n",
              "   'prev_words.isdigit': False,\n",
              "   'prev_words.startsWithCapital': False},\n",
              "  {'word.lower': 'star',\n",
              "   'word[-3:]': 'tar',\n",
              "   'word[-2:]': 'ar',\n",
              "   'word.isupper': False,\n",
              "   'word.isidigt': False,\n",
              "   'words.startsWithCapital': False,\n",
              "   'prev_words.lower': 'four',\n",
              "   'prev_words.isupper': False,\n",
              "   'prev_words.isdigit': False,\n",
              "   'prev_words.startsWithCapital': False},\n",
              "  {'word.lower': 'restaurant',\n",
              "   'word[-3:]': 'ant',\n",
              "   'word[-2:]': 'nt',\n",
              "   'word.isupper': False,\n",
              "   'word.isidigt': False,\n",
              "   'words.startsWithCapital': False,\n",
              "   'prev_words.lower': 'star',\n",
              "   'prev_words.isupper': False,\n",
              "   'prev_words.isdigit': False,\n",
              "   'prev_words.startsWithCapital': False},\n",
              "  {'word.lower': 'with',\n",
              "   'word[-3:]': 'ith',\n",
              "   'word[-2:]': 'th',\n",
              "   'word.isupper': False,\n",
              "   'word.isidigt': False,\n",
              "   'words.startsWithCapital': False,\n",
              "   'prev_words.lower': 'restaurant',\n",
              "   'prev_words.isupper': False,\n",
              "   'prev_words.isdigit': False,\n",
              "   'prev_words.startsWithCapital': False},\n",
              "  {'word.lower': 'a',\n",
              "   'word[-3:]': 'a',\n",
              "   'word[-2:]': 'a',\n",
              "   'word.isupper': False,\n",
              "   'word.isidigt': False,\n",
              "   'words.startsWithCapital': False,\n",
              "   'prev_words.lower': 'with',\n",
              "   'prev_words.isupper': False,\n",
              "   'prev_words.isdigit': False,\n",
              "   'prev_words.startsWithCapital': False},\n",
              "  {'word.lower': 'bar',\n",
              "   'word[-3:]': 'bar',\n",
              "   'word[-2:]': 'ar',\n",
              "   'word.isupper': False,\n",
              "   'word.isidigt': False,\n",
              "   'words.startsWithCapital': False,\n",
              "   'prev_words.lower': 'a',\n",
              "   'prev_words.isupper': False,\n",
              "   'prev_words.isdigit': False,\n",
              "   'prev_words.startsWithCapital': False}],\n",
              " ['O', 'B-Rating', 'I-Rating', 'O', 'B-Location', 'I-Location', 'B-Amenity'])"
            ]
          },
          "execution_count": 301,
          "metadata": {},
          "output_type": "execute_result"
        }
      ],
      "source": [
        "X_test[0], Y_test[0]"
      ]
    },
    {
      "cell_type": "code",
      "execution_count": 302,
      "metadata": {},
      "outputs": [
        {
          "data": {
            "text/plain": [
              "list"
            ]
          },
          "execution_count": 302,
          "metadata": {},
          "output_type": "execute_result"
        }
      ],
      "source": [
        "type(X_train)"
      ]
    },
    {
      "cell_type": "markdown",
      "metadata": {
        "id": "i4upm9ar-iKc"
      },
      "source": [
        "#CRF Model Training\n",
        "\n",
        " Now we have all the information we need to train our CRF. Let us see how we can do that."
      ]
    },
    {
      "cell_type": "code",
      "execution_count": 303,
      "metadata": {
        "id": "Kwm-aTb7hftp"
      },
      "outputs": [],
      "source": [
        "import sklearn_crfsuite\n",
        "\n",
        "from sklearn_crfsuite import metrics"
      ]
    },
    {
      "cell_type": "code",
      "execution_count": 304,
      "metadata": {},
      "outputs": [
        {
          "data": {
            "text/plain": [
              "(list, list)"
            ]
          },
          "execution_count": 304,
          "metadata": {},
          "output_type": "execute_result"
        }
      ],
      "source": [
        "type(X_train), type(Y_train)"
      ]
    },
    {
      "cell_type": "markdown",
      "metadata": {
        "id": "EudVs1-uPHFs"
      },
      "source": [
        "We create a CRF object and passtraining data to it. The model then \"trains\" and learns the weights for feature functions."
      ]
    },
    {
      "cell_type": "code",
      "execution_count": 305,
      "metadata": {
        "id": "XuKjdgGwhM_e"
      },
      "outputs": [],
      "source": [
        "# Build the CRF model.\n",
        "crf = sklearn_crfsuite.CRF(max_iterations=100)\n",
        "try:\n",
        "    crf.fit(X_train, Y_train)\n",
        "except AttributeError:\n",
        "    pass"
      ]
    },
    {
      "cell_type": "code",
      "execution_count": 306,
      "metadata": {},
      "outputs": [
        {
          "data": {
            "text/plain": [
              "['B-Rating',\n",
              " 'I-Rating',\n",
              " 'B-Amenity',\n",
              " 'I-Amenity',\n",
              " 'B-Location',\n",
              " 'I-Location',\n",
              " 'B-Restaurant_Name',\n",
              " 'I-Restaurant_Name',\n",
              " 'B-Price',\n",
              " 'B-Hours',\n",
              " 'I-Hours',\n",
              " 'B-Dish',\n",
              " 'I-Dish',\n",
              " 'B-Cuisine',\n",
              " 'I-Price',\n",
              " 'I-Cuisine']"
            ]
          },
          "execution_count": 306,
          "metadata": {},
          "output_type": "execute_result"
        }
      ],
      "source": [
        "labels = list(crf.classes_)\n",
        "labels.remove('O')\n",
        "labels"
      ]
    },
    {
      "cell_type": "markdown",
      "metadata": {
        "id": "13ziiBZecMUJ"
      },
      "source": [
        "#Model Testing and Evaluation \n",
        "The model is trained, let us now see how good it performs on the test data."
      ]
    },
    {
      "cell_type": "code",
      "execution_count": 307,
      "metadata": {
        "id": "E75RH6VujmAs"
      },
      "outputs": [
        {
          "data": {
            "text/plain": [
              "0.7918269093318624"
            ]
          },
          "execution_count": 307,
          "metadata": {},
          "output_type": "execute_result"
        }
      ],
      "source": [
        "# Calculate the f1 score using the test data\n",
        "Y_pred = crf.predict(X_test)\n",
        "metrics.flat_f1_score(Y_test, Y_pred, average='weighted', labels=labels)"
      ]
    },
    {
      "cell_type": "code",
      "execution_count": 308,
      "metadata": {},
      "outputs": [
        {
          "name": "stdout",
          "output_type": "stream",
          "text": [
            "                   precision    recall  f1-score   support\n",
            "\n",
            "        B-Amenity      0.778     0.692     0.733       533\n",
            "        I-Amenity      0.699     0.744     0.721       524\n",
            "        B-Cuisine      0.860     0.821     0.840       532\n",
            "        I-Cuisine      0.752     0.630     0.685       135\n",
            "           B-Dish      0.792     0.726     0.757       288\n",
            "           I-Dish      0.618     0.669     0.643       121\n",
            "          B-Hours      0.741     0.675     0.706       212\n",
            "          I-Hours      0.851     0.888     0.869       295\n",
            "       B-Location      0.872     0.846     0.859       812\n",
            "       I-Location      0.800     0.850     0.825       788\n",
            "          B-Price      0.836     0.743     0.786       171\n",
            "          I-Price      0.652     0.652     0.652        66\n",
            "         B-Rating      0.802     0.826     0.814       201\n",
            "         I-Rating      0.861     0.696     0.770       125\n",
            "B-Restaurant_Name      0.881     0.794     0.835       402\n",
            "I-Restaurant_Name      0.809     0.735     0.770       392\n",
            "\n",
            "        micro avg      0.805     0.780     0.792      5597\n",
            "        macro avg      0.788     0.749     0.767      5597\n",
            "     weighted avg      0.807     0.780     0.792      5597\n",
            "\n"
          ]
        },
        {
          "name": "stderr",
          "output_type": "stream",
          "text": [
            "/Users/sreedevigattu/sree/PGDS/MachineLearning/venv/lib/python3.7/site-packages/sklearn/utils/validation.py:72: FutureWarning: Pass labels=['B-Amenity', 'I-Amenity', 'B-Cuisine', 'I-Cuisine', 'B-Dish', 'I-Dish', 'B-Hours', 'I-Hours', 'B-Location', 'I-Location', 'B-Price', 'I-Price', 'B-Rating', 'I-Rating', 'B-Restaurant_Name', 'I-Restaurant_Name'] as keyword args. From version 1.0 (renaming of 0.25) passing these as positional arguments will result in an error\n",
            "  \"will result in an error\", FutureWarning)\n"
          ]
        }
      ],
      "source": [
        "# group B and I results\n",
        "sorted_labels = sorted(\n",
        "    labels,\n",
        "    key=lambda name: (name[1:], name[0])\n",
        ")\n",
        "print(metrics.flat_classification_report(\n",
        "    Y_test, Y_pred, labels=sorted_labels, digits=3\n",
        "))"
      ]
    },
    {
      "cell_type": "code",
      "execution_count": 309,
      "metadata": {
        "id": "S8sfl1j-k3jw"
      },
      "outputs": [
        {
          "name": "stdout",
          "output_type": "stream",
          "text": [
            "any restaurants open right now \n",
            "\n",
            "Original ['O', 'O', 'B-Hours', 'I-Hours', 'I-Hours']\n",
            "Predicted ['O', 'O', 'B-Hours', 'I-Hours', 'I-Hours']\n"
          ]
        }
      ],
      "source": [
        "# Print the orginal labels and predicted labels for the sentence  in test data, which is at index value 10.\n",
        "id =12\n",
        "print(test_sentences[id])\n",
        "print(\"Original\", Y_test[id])\n",
        "print(\"Predicted\", Y_pred[id])"
      ]
    },
    {
      "cell_type": "markdown",
      "metadata": {
        "id": "IxSGnW9bFrxV"
      },
      "source": [
        "#Transitions Learned by CRF"
      ]
    },
    {
      "cell_type": "code",
      "execution_count": 310,
      "metadata": {
        "id": "AoaKikLDRunC"
      },
      "outputs": [],
      "source": [
        "from util import print_top_likely_transitions\n",
        "from util import print_top_unlikely_transitions"
      ]
    },
    {
      "cell_type": "code",
      "execution_count": 311,
      "metadata": {
        "id": "4zU4ZHyUSymU"
      },
      "outputs": [
        {
          "name": "stdout",
          "output_type": "stream",
          "text": [
            "B-Amenity -> I-Amenity 6.688133\n",
            "B-Restaurant_Name -> I-Restaurant_Name 6.598282\n",
            "B-Location -> I-Location 6.313856\n",
            "B-Dish -> I-Dish  5.968869\n",
            "B-Hours -> I-Hours 5.876036\n",
            "I-Restaurant_Name -> I-Restaurant_Name 5.753196\n",
            "B-Cuisine -> I-Cuisine 5.654875\n",
            "B-Rating -> I-Rating 5.600620\n",
            "I-Amenity -> I-Amenity 5.540266\n",
            "I-Location -> I-Location 5.518915\n"
          ]
        }
      ],
      "source": [
        "print_top_likely_transitions(crf.transition_features_)"
      ]
    },
    {
      "cell_type": "markdown",
      "metadata": {},
      "source": [
        "### Graded Questions"
      ]
    },
    {
      "cell_type": "code",
      "execution_count": 312,
      "metadata": {
        "id": "3X1oXlQ3IMlZ"
      },
      "outputs": [
        {
          "data": {
            "text/plain": [
              "187"
            ]
          },
          "execution_count": 312,
          "metadata": {},
          "output_type": "execute_result"
        }
      ],
      "source": [
        "with open('../data/data.txt', 'r') as input_file:\n",
        "    content = input_file.readlines()\n",
        "\n",
        "sentences = content[0].split('.'); len(sentences)"
      ]
    },
    {
      "cell_type": "code",
      "execution_count": 313,
      "metadata": {},
      "outputs": [],
      "source": [
        "import spacy # import spacy module\n",
        "model = spacy.load(\"en_core_web_sm\") #load pre-trained model"
      ]
    },
    {
      "cell_type": "code",
      "execution_count": 314,
      "metadata": {},
      "outputs": [],
      "source": [
        "processed_docs = []\n",
        "for sentence in sentences:\n",
        "    processed_docs.append(model(sentence))"
      ]
    },
    {
      "cell_type": "code",
      "execution_count": 315,
      "metadata": {},
      "outputs": [
        {
          "name": "stdout",
          "output_type": "stream",
          "text": [
            " When the company had started the price of its stock was $10, which you can consider as the base price\n",
            "   ---  SPACE  ---  _SP\n",
            "When  ---  SCONJ  ---  WRB\n",
            "the  ---  DET  ---  DT\n",
            "company  ---  NOUN  ---  NN\n",
            "had  ---  AUX  ---  VBD\n",
            "started  ---  VERB  ---  VBN\n",
            "the  ---  DET  ---  DT\n",
            "price  ---  NOUN  ---  NN\n",
            "of  ---  ADP  ---  IN\n",
            "its  ---  PRON  ---  PRP$\n",
            "stock  ---  NOUN  ---  NN\n",
            "was  ---  AUX  ---  VBD\n",
            "$  ---  SYM  ---  $\n",
            "10  ---  NUM  ---  CD\n",
            ",  ---  PUNCT  ---  ,\n",
            "which  ---  PRON  ---  WDT\n",
            "you  ---  PRON  ---  PRP\n",
            "can  ---  AUX  ---  MD\n",
            "consider  ---  VERB  ---  VB\n",
            "as  ---  ADP  ---  IN\n",
            "the  ---  DET  ---  DT\n",
            "base  ---  NOUN  ---  NN\n",
            "price  ---  NOUN  ---  NN\n",
            "\n",
            "10  ---  MONEY\n"
          ]
        },
        {
          "data": {
            "text/plain": [
              "[None]"
            ]
          },
          "execution_count": 315,
          "metadata": {},
          "output_type": "execute_result"
        }
      ],
      "source": [
        "print(sentences[2]);processed_doc = processed_docs[2]\n",
        "\n",
        "[ print(word.text, ' --- ', word.pos_, ' --- ', word.tag_) for word in processed_doc ];print()\n",
        "[ print(ent.text, ' --- ', ent.label_) for ent in processed_doc.ents ]"
      ]
    },
    {
      "cell_type": "code",
      "execution_count": 316,
      "metadata": {},
      "outputs": [
        {
          "data": {
            "text/plain": [
              "\"The stock price of a certain company was $100 a year ago, once this company came into boom phase then it's stock price rise to $200\""
            ]
          },
          "execution_count": 316,
          "metadata": {},
          "output_type": "execute_result"
        }
      ],
      "source": [
        "sentences[0]"
      ]
    },
    {
      "cell_type": "code",
      "execution_count": 317,
      "metadata": {},
      "outputs": [
        {
          "name": "stdout",
          "output_type": "stream",
          "text": [
            "a year ago\n",
            "a year ago\n",
            "a year ago\n",
            "a year ago\n",
            "a year ago\n",
            "a year ago\n",
            "a year ago\n",
            "a year ago\n",
            "a year ago\n",
            "a year ago\n",
            "a year ago\n",
            "a year ago\n",
            "a year ago\n",
            "a year ago\n",
            "a year ago\n",
            "a year ago\n",
            "a year ago\n",
            "a year ago\n",
            "a year ago\n",
            "a year ago\n",
            "a year ago\n",
            "a year ago\n",
            "a year ago\n",
            "a year ago\n",
            "a year ago\n",
            "a year ago\n",
            "a year ago\n",
            "a year ago\n",
            "a year ago\n",
            "a year ago\n",
            "a year ago\n",
            "a year ago\n",
            "a year ago\n",
            "a year ago\n",
            "a year ago\n",
            "a year ago\n",
            "a year ago\n",
            "a year ago\n",
            "a year ago\n",
            "a year ago\n",
            "a year ago\n",
            "a year ago\n",
            "a year ago\n",
            "a year ago\n",
            "a year ago\n",
            "a year ago\n",
            "a year ago\n",
            "a year ago\n",
            "a year ago\n",
            "a year ago\n",
            "a year ago\n",
            "a year ago\n",
            "a year ago\n",
            "a year ago\n",
            "a year ago\n",
            "a year ago\n",
            "a year ago\n",
            "a year ago\n",
            "a year ago\n",
            "a year ago\n",
            "a year ago\n",
            "a year ago\n",
            "248 23128 average 93.25806451612904\n"
          ]
        }
      ],
      "source": [
        "count = 0\n",
        "price = 0\n",
        "#print(len(sentences))\n",
        "for sentence in sentences:\n",
        "    processed_doc = model(sentence)\n",
        "    #print(count, end=' - ')\n",
        "    for ent in processed_doc.ents:\n",
        "        if ent.label_ == \"MONEY\":\n",
        "            count += 1\n",
        "            price += int(ent.text)\n",
        "            #print(ent.text,end=' - ')\n",
        "        if ent.label_ == \"DATE\":\n",
        "            print(ent.text)\n",
        "    #print()\n",
        "\n",
        "print(count, price, \"average\", price/count)"
      ]
    },
    {
      "cell_type": "code",
      "execution_count": 318,
      "metadata": {},
      "outputs": [
        {
          "data": {
            "text/plain": [
              "(7, 7)"
            ]
          },
          "execution_count": 318,
          "metadata": {},
          "output_type": "execute_result"
        }
      ],
      "source": [
        "X_train = [ \"Bella is not giving money\", \n",
        "            \"Tony is teaching NLP to Chris\", \n",
        "            \"Joe should focus to his job\", \n",
        "            \"Peter is trained by Adele\", \n",
        "            \"Temperature is maintained by AC\", \n",
        "            \"He is playing the Cricket\", \n",
        "            \"Guitar has been played by him\"]\n",
        "\n",
        "# ‘P’, ‘A’ and ‘E’ stand for Person, Activity and Entity\n",
        "Y_train = [ \"P O O A E\",  # ‘Bella (P) is not giving (A) money (E)’\n",
        "            \"P O A E O P\", #‘Tony (P) is teaching (A) NLP (E) to Chris (P)’\n",
        "            \"P O A O O E\", #‘Joe (P) should focus (A) to his job (E)’\n",
        "            \"P O A O P\", #‘Peter (P) is trained (A) by Adele (P)’\n",
        "            \"E O A O E\", #‘Temperature (E) is maintained (A) by AC (E)’\n",
        "            \"O O A O E\", #‘He is playing (A) the Cricket (E)’\n",
        "            \"E O O A O V\" #‘Guitar (E) has been played (A) by him(V)’\n",
        "]\n",
        "len(X_train), len(Y_train)"
      ]
    },
    {
      "cell_type": "code",
      "execution_count": 319,
      "metadata": {},
      "outputs": [
        {
          "name": "stdout",
          "output_type": "stream",
          "text": [
            "Bella is not giving money\n",
            "['P', 'O', 'O', 'A', 'E']\n",
            "<class 'spacy.tokens.doc.Doc'>\n",
            "<class 'spacy.tokens.doc.Doc'>\n",
            "['P', 'O', 'O', 'A', 'E']\n"
          ]
        },
        {
          "data": {
            "text/html": [
              "<span class=\"tex2jax_ignore\"><svg xmlns=\"http://www.w3.org/2000/svg\" xmlns:xlink=\"http://www.w3.org/1999/xlink\" xml:lang=\"en\" id=\"c8048cf2cdf14b28a40ffd28819af4b8-0\" class=\"displacy\" width=\"925\" height=\"399.5\" direction=\"ltr\" style=\"max-width: none; height: 399.5px; color: #000000; background: #ffffff; font-family: Arial; direction: ltr\">\n",
              "<text class=\"displacy-token\" fill=\"currentColor\" text-anchor=\"middle\" y=\"309.5\">\n",
              "    <tspan class=\"displacy-word\" fill=\"currentColor\" x=\"50\">Bella</tspan>\n",
              "    <tspan class=\"displacy-tag\" dy=\"2em\" fill=\"currentColor\" x=\"50\">PROPN</tspan>\n",
              "</text>\n",
              "\n",
              "<text class=\"displacy-token\" fill=\"currentColor\" text-anchor=\"middle\" y=\"309.5\">\n",
              "    <tspan class=\"displacy-word\" fill=\"currentColor\" x=\"225\">is</tspan>\n",
              "    <tspan class=\"displacy-tag\" dy=\"2em\" fill=\"currentColor\" x=\"225\">AUX</tspan>\n",
              "</text>\n",
              "\n",
              "<text class=\"displacy-token\" fill=\"currentColor\" text-anchor=\"middle\" y=\"309.5\">\n",
              "    <tspan class=\"displacy-word\" fill=\"currentColor\" x=\"400\">not</tspan>\n",
              "    <tspan class=\"displacy-tag\" dy=\"2em\" fill=\"currentColor\" x=\"400\">PART</tspan>\n",
              "</text>\n",
              "\n",
              "<text class=\"displacy-token\" fill=\"currentColor\" text-anchor=\"middle\" y=\"309.5\">\n",
              "    <tspan class=\"displacy-word\" fill=\"currentColor\" x=\"575\">giving</tspan>\n",
              "    <tspan class=\"displacy-tag\" dy=\"2em\" fill=\"currentColor\" x=\"575\">VERB</tspan>\n",
              "</text>\n",
              "\n",
              "<text class=\"displacy-token\" fill=\"currentColor\" text-anchor=\"middle\" y=\"309.5\">\n",
              "    <tspan class=\"displacy-word\" fill=\"currentColor\" x=\"750\">money</tspan>\n",
              "    <tspan class=\"displacy-tag\" dy=\"2em\" fill=\"currentColor\" x=\"750\">NOUN</tspan>\n",
              "</text>\n",
              "\n",
              "<g class=\"displacy-arrow\">\n",
              "    <path class=\"displacy-arc\" id=\"arrow-c8048cf2cdf14b28a40ffd28819af4b8-0-0\" stroke-width=\"2px\" d=\"M70,264.5 C70,2.0 575.0,2.0 575.0,264.5\" fill=\"none\" stroke=\"currentColor\"/>\n",
              "    <text dy=\"1.25em\" style=\"font-size: 0.8em; letter-spacing: 1px\">\n",
              "        <textPath xlink:href=\"#arrow-c8048cf2cdf14b28a40ffd28819af4b8-0-0\" class=\"displacy-label\" startOffset=\"50%\" side=\"left\" fill=\"currentColor\" text-anchor=\"middle\">nsubj</textPath>\n",
              "    </text>\n",
              "    <path class=\"displacy-arrowhead\" d=\"M70,266.5 L62,254.5 78,254.5\" fill=\"currentColor\"/>\n",
              "</g>\n",
              "\n",
              "<g class=\"displacy-arrow\">\n",
              "    <path class=\"displacy-arc\" id=\"arrow-c8048cf2cdf14b28a40ffd28819af4b8-0-1\" stroke-width=\"2px\" d=\"M245,264.5 C245,89.5 570.0,89.5 570.0,264.5\" fill=\"none\" stroke=\"currentColor\"/>\n",
              "    <text dy=\"1.25em\" style=\"font-size: 0.8em; letter-spacing: 1px\">\n",
              "        <textPath xlink:href=\"#arrow-c8048cf2cdf14b28a40ffd28819af4b8-0-1\" class=\"displacy-label\" startOffset=\"50%\" side=\"left\" fill=\"currentColor\" text-anchor=\"middle\">aux</textPath>\n",
              "    </text>\n",
              "    <path class=\"displacy-arrowhead\" d=\"M245,266.5 L237,254.5 253,254.5\" fill=\"currentColor\"/>\n",
              "</g>\n",
              "\n",
              "<g class=\"displacy-arrow\">\n",
              "    <path class=\"displacy-arc\" id=\"arrow-c8048cf2cdf14b28a40ffd28819af4b8-0-2\" stroke-width=\"2px\" d=\"M420,264.5 C420,177.0 565.0,177.0 565.0,264.5\" fill=\"none\" stroke=\"currentColor\"/>\n",
              "    <text dy=\"1.25em\" style=\"font-size: 0.8em; letter-spacing: 1px\">\n",
              "        <textPath xlink:href=\"#arrow-c8048cf2cdf14b28a40ffd28819af4b8-0-2\" class=\"displacy-label\" startOffset=\"50%\" side=\"left\" fill=\"currentColor\" text-anchor=\"middle\">neg</textPath>\n",
              "    </text>\n",
              "    <path class=\"displacy-arrowhead\" d=\"M420,266.5 L412,254.5 428,254.5\" fill=\"currentColor\"/>\n",
              "</g>\n",
              "\n",
              "<g class=\"displacy-arrow\">\n",
              "    <path class=\"displacy-arc\" id=\"arrow-c8048cf2cdf14b28a40ffd28819af4b8-0-3\" stroke-width=\"2px\" d=\"M595,264.5 C595,177.0 740.0,177.0 740.0,264.5\" fill=\"none\" stroke=\"currentColor\"/>\n",
              "    <text dy=\"1.25em\" style=\"font-size: 0.8em; letter-spacing: 1px\">\n",
              "        <textPath xlink:href=\"#arrow-c8048cf2cdf14b28a40ffd28819af4b8-0-3\" class=\"displacy-label\" startOffset=\"50%\" side=\"left\" fill=\"currentColor\" text-anchor=\"middle\">dobj</textPath>\n",
              "    </text>\n",
              "    <path class=\"displacy-arrowhead\" d=\"M740.0,266.5 L748.0,254.5 732.0,254.5\" fill=\"currentColor\"/>\n",
              "</g>\n",
              "</svg></span>"
            ],
            "text/plain": [
              "<IPython.core.display.HTML object>"
            ]
          },
          "metadata": {},
          "output_type": "display_data"
        }
      ],
      "source": [
        "from spacy import displacy\n",
        "from spacy.matcher import Matcher\n",
        "nlp = spacy.load(\"en_core_web_sm\")\n",
        "\n",
        "import pandas as pd\n",
        "\n",
        "def getXXX(sent, labels):\n",
        "    print(sent);print(labels)\n",
        "    doc = nlp(sent);print(type(doc))\n",
        "    processed_doc = model(sent);print(type(processed_doc))\n",
        "    word_ents = {}\n",
        "    for ent in processed_doc.ents:\n",
        "        word_ents[ent.text] = ent.label_\n",
        "    '''for word in doc:\n",
        "        print(word, len(list(word.children)))'''\n",
        "    # {list(word.children)[0].dep_ if len(list(word.children)) >0 else ''} \n",
        "    word = [];pos =[];tag = [];ner = [];dep = [];label = []\n",
        "    for i in range(len(processed_doc)):\n",
        "        token = processed_doc[i]\n",
        "\n",
        "        word.append(token.text)\n",
        "        pos.append(token.pos_)\n",
        "        tag.append(token.tag_)\n",
        "        ner.append(word_ents[token.text] if token.text in word_ents.keys() else \"\")\n",
        "        dep.append(token.dep_)\n",
        "        label.append(labels[i])\n",
        " \n",
        "        #print(f\"{token.text:15} - {token.pos_:6} - {token.tag_:4} - {token.dep_:5} - {len(list(token.children))} - {word_ents[token.text] if token.text in word_ents.keys() else ''}\")\n",
        "    \n",
        "    print(labels)\n",
        "    df = pd.DataFrame(data={'words':word, 'pos': pos, 'tag': tag, 'ner': ner, 'dep': dep, 'labels': label})\n",
        "    #print(df)    \n",
        "    displacy.render(processed_doc, style=\"dep\")\n",
        "    return df\n",
        "\n",
        "for c in range(len(X_train)):\n",
        "    sent = X_train[c]\n",
        "    labels = Y_train[c].split(' ')\n",
        "    df = getXXX(sent, labels)\n",
        "    break"
      ]
    },
    {
      "cell_type": "code",
      "execution_count": 320,
      "metadata": {},
      "outputs": [
        {
          "name": "stdout",
          "output_type": "stream",
          "text": [
            "Harry is not gardening as it is raining\n",
            "['P', 'O', 'O', 'A', 'O', 'O', 'O', 'A']\n",
            "<class 'spacy.tokens.doc.Doc'>\n",
            "<class 'spacy.tokens.doc.Doc'>\n",
            "['P', 'O', 'O', 'A', 'O', 'O', 'O', 'A']\n"
          ]
        },
        {
          "data": {
            "text/html": [
              "<span class=\"tex2jax_ignore\"><svg xmlns=\"http://www.w3.org/2000/svg\" xmlns:xlink=\"http://www.w3.org/1999/xlink\" xml:lang=\"en\" id=\"9093152f8675431aa06d122ebea8decf-0\" class=\"displacy\" width=\"1450\" height=\"487.0\" direction=\"ltr\" style=\"max-width: none; height: 487.0px; color: #000000; background: #ffffff; font-family: Arial; direction: ltr\">\n",
              "<text class=\"displacy-token\" fill=\"currentColor\" text-anchor=\"middle\" y=\"397.0\">\n",
              "    <tspan class=\"displacy-word\" fill=\"currentColor\" x=\"50\">Harry</tspan>\n",
              "    <tspan class=\"displacy-tag\" dy=\"2em\" fill=\"currentColor\" x=\"50\">PROPN</tspan>\n",
              "</text>\n",
              "\n",
              "<text class=\"displacy-token\" fill=\"currentColor\" text-anchor=\"middle\" y=\"397.0\">\n",
              "    <tspan class=\"displacy-word\" fill=\"currentColor\" x=\"225\">is</tspan>\n",
              "    <tspan class=\"displacy-tag\" dy=\"2em\" fill=\"currentColor\" x=\"225\">AUX</tspan>\n",
              "</text>\n",
              "\n",
              "<text class=\"displacy-token\" fill=\"currentColor\" text-anchor=\"middle\" y=\"397.0\">\n",
              "    <tspan class=\"displacy-word\" fill=\"currentColor\" x=\"400\">not</tspan>\n",
              "    <tspan class=\"displacy-tag\" dy=\"2em\" fill=\"currentColor\" x=\"400\">PART</tspan>\n",
              "</text>\n",
              "\n",
              "<text class=\"displacy-token\" fill=\"currentColor\" text-anchor=\"middle\" y=\"397.0\">\n",
              "    <tspan class=\"displacy-word\" fill=\"currentColor\" x=\"575\">gardening</tspan>\n",
              "    <tspan class=\"displacy-tag\" dy=\"2em\" fill=\"currentColor\" x=\"575\">VERB</tspan>\n",
              "</text>\n",
              "\n",
              "<text class=\"displacy-token\" fill=\"currentColor\" text-anchor=\"middle\" y=\"397.0\">\n",
              "    <tspan class=\"displacy-word\" fill=\"currentColor\" x=\"750\">as</tspan>\n",
              "    <tspan class=\"displacy-tag\" dy=\"2em\" fill=\"currentColor\" x=\"750\">SCONJ</tspan>\n",
              "</text>\n",
              "\n",
              "<text class=\"displacy-token\" fill=\"currentColor\" text-anchor=\"middle\" y=\"397.0\">\n",
              "    <tspan class=\"displacy-word\" fill=\"currentColor\" x=\"925\">it</tspan>\n",
              "    <tspan class=\"displacy-tag\" dy=\"2em\" fill=\"currentColor\" x=\"925\">PRON</tspan>\n",
              "</text>\n",
              "\n",
              "<text class=\"displacy-token\" fill=\"currentColor\" text-anchor=\"middle\" y=\"397.0\">\n",
              "    <tspan class=\"displacy-word\" fill=\"currentColor\" x=\"1100\">is</tspan>\n",
              "    <tspan class=\"displacy-tag\" dy=\"2em\" fill=\"currentColor\" x=\"1100\">AUX</tspan>\n",
              "</text>\n",
              "\n",
              "<text class=\"displacy-token\" fill=\"currentColor\" text-anchor=\"middle\" y=\"397.0\">\n",
              "    <tspan class=\"displacy-word\" fill=\"currentColor\" x=\"1275\">raining</tspan>\n",
              "    <tspan class=\"displacy-tag\" dy=\"2em\" fill=\"currentColor\" x=\"1275\">VERB</tspan>\n",
              "</text>\n",
              "\n",
              "<g class=\"displacy-arrow\">\n",
              "    <path class=\"displacy-arc\" id=\"arrow-9093152f8675431aa06d122ebea8decf-0-0\" stroke-width=\"2px\" d=\"M70,352.0 C70,264.5 210.0,264.5 210.0,352.0\" fill=\"none\" stroke=\"currentColor\"/>\n",
              "    <text dy=\"1.25em\" style=\"font-size: 0.8em; letter-spacing: 1px\">\n",
              "        <textPath xlink:href=\"#arrow-9093152f8675431aa06d122ebea8decf-0-0\" class=\"displacy-label\" startOffset=\"50%\" side=\"left\" fill=\"currentColor\" text-anchor=\"middle\">nsubj</textPath>\n",
              "    </text>\n",
              "    <path class=\"displacy-arrowhead\" d=\"M70,354.0 L62,342.0 78,342.0\" fill=\"currentColor\"/>\n",
              "</g>\n",
              "\n",
              "<g class=\"displacy-arrow\">\n",
              "    <path class=\"displacy-arc\" id=\"arrow-9093152f8675431aa06d122ebea8decf-0-1\" stroke-width=\"2px\" d=\"M245,352.0 C245,264.5 385.0,264.5 385.0,352.0\" fill=\"none\" stroke=\"currentColor\"/>\n",
              "    <text dy=\"1.25em\" style=\"font-size: 0.8em; letter-spacing: 1px\">\n",
              "        <textPath xlink:href=\"#arrow-9093152f8675431aa06d122ebea8decf-0-1\" class=\"displacy-label\" startOffset=\"50%\" side=\"left\" fill=\"currentColor\" text-anchor=\"middle\">neg</textPath>\n",
              "    </text>\n",
              "    <path class=\"displacy-arrowhead\" d=\"M385.0,354.0 L393.0,342.0 377.0,342.0\" fill=\"currentColor\"/>\n",
              "</g>\n",
              "\n",
              "<g class=\"displacy-arrow\">\n",
              "    <path class=\"displacy-arc\" id=\"arrow-9093152f8675431aa06d122ebea8decf-0-2\" stroke-width=\"2px\" d=\"M245,352.0 C245,177.0 565.0,177.0 565.0,352.0\" fill=\"none\" stroke=\"currentColor\"/>\n",
              "    <text dy=\"1.25em\" style=\"font-size: 0.8em; letter-spacing: 1px\">\n",
              "        <textPath xlink:href=\"#arrow-9093152f8675431aa06d122ebea8decf-0-2\" class=\"displacy-label\" startOffset=\"50%\" side=\"left\" fill=\"currentColor\" text-anchor=\"middle\">acomp</textPath>\n",
              "    </text>\n",
              "    <path class=\"displacy-arrowhead\" d=\"M565.0,354.0 L573.0,342.0 557.0,342.0\" fill=\"currentColor\"/>\n",
              "</g>\n",
              "\n",
              "<g class=\"displacy-arrow\">\n",
              "    <path class=\"displacy-arc\" id=\"arrow-9093152f8675431aa06d122ebea8decf-0-3\" stroke-width=\"2px\" d=\"M770,352.0 C770,89.5 1270.0,89.5 1270.0,352.0\" fill=\"none\" stroke=\"currentColor\"/>\n",
              "    <text dy=\"1.25em\" style=\"font-size: 0.8em; letter-spacing: 1px\">\n",
              "        <textPath xlink:href=\"#arrow-9093152f8675431aa06d122ebea8decf-0-3\" class=\"displacy-label\" startOffset=\"50%\" side=\"left\" fill=\"currentColor\" text-anchor=\"middle\">mark</textPath>\n",
              "    </text>\n",
              "    <path class=\"displacy-arrowhead\" d=\"M770,354.0 L762,342.0 778,342.0\" fill=\"currentColor\"/>\n",
              "</g>\n",
              "\n",
              "<g class=\"displacy-arrow\">\n",
              "    <path class=\"displacy-arc\" id=\"arrow-9093152f8675431aa06d122ebea8decf-0-4\" stroke-width=\"2px\" d=\"M945,352.0 C945,177.0 1265.0,177.0 1265.0,352.0\" fill=\"none\" stroke=\"currentColor\"/>\n",
              "    <text dy=\"1.25em\" style=\"font-size: 0.8em; letter-spacing: 1px\">\n",
              "        <textPath xlink:href=\"#arrow-9093152f8675431aa06d122ebea8decf-0-4\" class=\"displacy-label\" startOffset=\"50%\" side=\"left\" fill=\"currentColor\" text-anchor=\"middle\">nsubj</textPath>\n",
              "    </text>\n",
              "    <path class=\"displacy-arrowhead\" d=\"M945,354.0 L937,342.0 953,342.0\" fill=\"currentColor\"/>\n",
              "</g>\n",
              "\n",
              "<g class=\"displacy-arrow\">\n",
              "    <path class=\"displacy-arc\" id=\"arrow-9093152f8675431aa06d122ebea8decf-0-5\" stroke-width=\"2px\" d=\"M1120,352.0 C1120,264.5 1260.0,264.5 1260.0,352.0\" fill=\"none\" stroke=\"currentColor\"/>\n",
              "    <text dy=\"1.25em\" style=\"font-size: 0.8em; letter-spacing: 1px\">\n",
              "        <textPath xlink:href=\"#arrow-9093152f8675431aa06d122ebea8decf-0-5\" class=\"displacy-label\" startOffset=\"50%\" side=\"left\" fill=\"currentColor\" text-anchor=\"middle\">aux</textPath>\n",
              "    </text>\n",
              "    <path class=\"displacy-arrowhead\" d=\"M1120,354.0 L1112,342.0 1128,342.0\" fill=\"currentColor\"/>\n",
              "</g>\n",
              "\n",
              "<g class=\"displacy-arrow\">\n",
              "    <path class=\"displacy-arc\" id=\"arrow-9093152f8675431aa06d122ebea8decf-0-6\" stroke-width=\"2px\" d=\"M245,352.0 C245,2.0 1275.0,2.0 1275.0,352.0\" fill=\"none\" stroke=\"currentColor\"/>\n",
              "    <text dy=\"1.25em\" style=\"font-size: 0.8em; letter-spacing: 1px\">\n",
              "        <textPath xlink:href=\"#arrow-9093152f8675431aa06d122ebea8decf-0-6\" class=\"displacy-label\" startOffset=\"50%\" side=\"left\" fill=\"currentColor\" text-anchor=\"middle\">advcl</textPath>\n",
              "    </text>\n",
              "    <path class=\"displacy-arrowhead\" d=\"M1275.0,354.0 L1283.0,342.0 1267.0,342.0\" fill=\"currentColor\"/>\n",
              "</g>\n",
              "</svg></span>"
            ],
            "text/plain": [
              "<IPython.core.display.HTML object>"
            ]
          },
          "metadata": {},
          "output_type": "display_data"
        },
        {
          "data": {
            "text/html": [
              "<div>\n",
              "<style scoped>\n",
              "    .dataframe tbody tr th:only-of-type {\n",
              "        vertical-align: middle;\n",
              "    }\n",
              "\n",
              "    .dataframe tbody tr th {\n",
              "        vertical-align: top;\n",
              "    }\n",
              "\n",
              "    .dataframe thead th {\n",
              "        text-align: right;\n",
              "    }\n",
              "</style>\n",
              "<table border=\"1\" class=\"dataframe\">\n",
              "  <thead>\n",
              "    <tr style=\"text-align: right;\">\n",
              "      <th></th>\n",
              "      <th>words</th>\n",
              "      <th>pos</th>\n",
              "      <th>tag</th>\n",
              "      <th>ner</th>\n",
              "      <th>dep</th>\n",
              "      <th>labels</th>\n",
              "    </tr>\n",
              "  </thead>\n",
              "  <tbody>\n",
              "    <tr>\n",
              "      <th>0</th>\n",
              "      <td>Harry</td>\n",
              "      <td>PROPN</td>\n",
              "      <td>NNP</td>\n",
              "      <td>PERSON</td>\n",
              "      <td>nsubj</td>\n",
              "      <td>P</td>\n",
              "    </tr>\n",
              "    <tr>\n",
              "      <th>1</th>\n",
              "      <td>is</td>\n",
              "      <td>AUX</td>\n",
              "      <td>VBZ</td>\n",
              "      <td></td>\n",
              "      <td>ROOT</td>\n",
              "      <td>O</td>\n",
              "    </tr>\n",
              "    <tr>\n",
              "      <th>2</th>\n",
              "      <td>not</td>\n",
              "      <td>PART</td>\n",
              "      <td>RB</td>\n",
              "      <td></td>\n",
              "      <td>neg</td>\n",
              "      <td>O</td>\n",
              "    </tr>\n",
              "    <tr>\n",
              "      <th>3</th>\n",
              "      <td>gardening</td>\n",
              "      <td>VERB</td>\n",
              "      <td>VBG</td>\n",
              "      <td></td>\n",
              "      <td>acomp</td>\n",
              "      <td>A</td>\n",
              "    </tr>\n",
              "    <tr>\n",
              "      <th>4</th>\n",
              "      <td>as</td>\n",
              "      <td>SCONJ</td>\n",
              "      <td>IN</td>\n",
              "      <td></td>\n",
              "      <td>mark</td>\n",
              "      <td>O</td>\n",
              "    </tr>\n",
              "    <tr>\n",
              "      <th>5</th>\n",
              "      <td>it</td>\n",
              "      <td>PRON</td>\n",
              "      <td>PRP</td>\n",
              "      <td></td>\n",
              "      <td>nsubj</td>\n",
              "      <td>O</td>\n",
              "    </tr>\n",
              "    <tr>\n",
              "      <th>6</th>\n",
              "      <td>is</td>\n",
              "      <td>AUX</td>\n",
              "      <td>VBZ</td>\n",
              "      <td></td>\n",
              "      <td>aux</td>\n",
              "      <td>O</td>\n",
              "    </tr>\n",
              "    <tr>\n",
              "      <th>7</th>\n",
              "      <td>raining</td>\n",
              "      <td>VERB</td>\n",
              "      <td>VBG</td>\n",
              "      <td></td>\n",
              "      <td>advcl</td>\n",
              "      <td>A</td>\n",
              "    </tr>\n",
              "  </tbody>\n",
              "</table>\n",
              "</div>"
            ],
            "text/plain": [
              "       words    pos  tag     ner    dep labels\n",
              "0      Harry  PROPN  NNP  PERSON  nsubj      P\n",
              "1         is    AUX  VBZ           ROOT      O\n",
              "2        not   PART   RB            neg      O\n",
              "3  gardening   VERB  VBG          acomp      A\n",
              "4         as  SCONJ   IN           mark      O\n",
              "5         it   PRON  PRP          nsubj      O\n",
              "6         is    AUX  VBZ            aux      O\n",
              "7    raining   VERB  VBG          advcl      A"
            ]
          },
          "execution_count": 320,
          "metadata": {},
          "output_type": "execute_result"
        }
      ],
      "source": [
        "getXXX('Harry is not gardening as it is raining', \"P O O A O O O A\".split(' '))"
      ]
    },
    {
      "cell_type": "code",
      "execution_count": 321,
      "metadata": {},
      "outputs": [
        {
          "name": "stdout",
          "output_type": "stream",
          "text": [
            "Harry nsubj ; is ROOT ; not neg ; gardening acomp ; as mark ; it nsubj ; is aux ; raining advcl ; "
          ]
        },
        {
          "data": {
            "text/html": [
              "<span class=\"tex2jax_ignore\"><svg xmlns=\"http://www.w3.org/2000/svg\" xmlns:xlink=\"http://www.w3.org/1999/xlink\" xml:lang=\"en\" id=\"7955a77a8a7141deb922b1b934b0e735-0\" class=\"displacy\" width=\"1450\" height=\"487.0\" direction=\"ltr\" style=\"max-width: none; height: 487.0px; color: #000000; background: #ffffff; font-family: Arial; direction: ltr\">\n",
              "<text class=\"displacy-token\" fill=\"currentColor\" text-anchor=\"middle\" y=\"397.0\">\n",
              "    <tspan class=\"displacy-word\" fill=\"currentColor\" x=\"50\">Harry</tspan>\n",
              "    <tspan class=\"displacy-tag\" dy=\"2em\" fill=\"currentColor\" x=\"50\">PROPN</tspan>\n",
              "</text>\n",
              "\n",
              "<text class=\"displacy-token\" fill=\"currentColor\" text-anchor=\"middle\" y=\"397.0\">\n",
              "    <tspan class=\"displacy-word\" fill=\"currentColor\" x=\"225\">is</tspan>\n",
              "    <tspan class=\"displacy-tag\" dy=\"2em\" fill=\"currentColor\" x=\"225\">AUX</tspan>\n",
              "</text>\n",
              "\n",
              "<text class=\"displacy-token\" fill=\"currentColor\" text-anchor=\"middle\" y=\"397.0\">\n",
              "    <tspan class=\"displacy-word\" fill=\"currentColor\" x=\"400\">not</tspan>\n",
              "    <tspan class=\"displacy-tag\" dy=\"2em\" fill=\"currentColor\" x=\"400\">PART</tspan>\n",
              "</text>\n",
              "\n",
              "<text class=\"displacy-token\" fill=\"currentColor\" text-anchor=\"middle\" y=\"397.0\">\n",
              "    <tspan class=\"displacy-word\" fill=\"currentColor\" x=\"575\">gardening</tspan>\n",
              "    <tspan class=\"displacy-tag\" dy=\"2em\" fill=\"currentColor\" x=\"575\">VERB</tspan>\n",
              "</text>\n",
              "\n",
              "<text class=\"displacy-token\" fill=\"currentColor\" text-anchor=\"middle\" y=\"397.0\">\n",
              "    <tspan class=\"displacy-word\" fill=\"currentColor\" x=\"750\">as</tspan>\n",
              "    <tspan class=\"displacy-tag\" dy=\"2em\" fill=\"currentColor\" x=\"750\">SCONJ</tspan>\n",
              "</text>\n",
              "\n",
              "<text class=\"displacy-token\" fill=\"currentColor\" text-anchor=\"middle\" y=\"397.0\">\n",
              "    <tspan class=\"displacy-word\" fill=\"currentColor\" x=\"925\">it</tspan>\n",
              "    <tspan class=\"displacy-tag\" dy=\"2em\" fill=\"currentColor\" x=\"925\">PRON</tspan>\n",
              "</text>\n",
              "\n",
              "<text class=\"displacy-token\" fill=\"currentColor\" text-anchor=\"middle\" y=\"397.0\">\n",
              "    <tspan class=\"displacy-word\" fill=\"currentColor\" x=\"1100\">is</tspan>\n",
              "    <tspan class=\"displacy-tag\" dy=\"2em\" fill=\"currentColor\" x=\"1100\">AUX</tspan>\n",
              "</text>\n",
              "\n",
              "<text class=\"displacy-token\" fill=\"currentColor\" text-anchor=\"middle\" y=\"397.0\">\n",
              "    <tspan class=\"displacy-word\" fill=\"currentColor\" x=\"1275\">raining</tspan>\n",
              "    <tspan class=\"displacy-tag\" dy=\"2em\" fill=\"currentColor\" x=\"1275\">VERB</tspan>\n",
              "</text>\n",
              "\n",
              "<g class=\"displacy-arrow\">\n",
              "    <path class=\"displacy-arc\" id=\"arrow-7955a77a8a7141deb922b1b934b0e735-0-0\" stroke-width=\"2px\" d=\"M70,352.0 C70,264.5 210.0,264.5 210.0,352.0\" fill=\"none\" stroke=\"currentColor\"/>\n",
              "    <text dy=\"1.25em\" style=\"font-size: 0.8em; letter-spacing: 1px\">\n",
              "        <textPath xlink:href=\"#arrow-7955a77a8a7141deb922b1b934b0e735-0-0\" class=\"displacy-label\" startOffset=\"50%\" side=\"left\" fill=\"currentColor\" text-anchor=\"middle\">nsubj</textPath>\n",
              "    </text>\n",
              "    <path class=\"displacy-arrowhead\" d=\"M70,354.0 L62,342.0 78,342.0\" fill=\"currentColor\"/>\n",
              "</g>\n",
              "\n",
              "<g class=\"displacy-arrow\">\n",
              "    <path class=\"displacy-arc\" id=\"arrow-7955a77a8a7141deb922b1b934b0e735-0-1\" stroke-width=\"2px\" d=\"M245,352.0 C245,264.5 385.0,264.5 385.0,352.0\" fill=\"none\" stroke=\"currentColor\"/>\n",
              "    <text dy=\"1.25em\" style=\"font-size: 0.8em; letter-spacing: 1px\">\n",
              "        <textPath xlink:href=\"#arrow-7955a77a8a7141deb922b1b934b0e735-0-1\" class=\"displacy-label\" startOffset=\"50%\" side=\"left\" fill=\"currentColor\" text-anchor=\"middle\">neg</textPath>\n",
              "    </text>\n",
              "    <path class=\"displacy-arrowhead\" d=\"M385.0,354.0 L393.0,342.0 377.0,342.0\" fill=\"currentColor\"/>\n",
              "</g>\n",
              "\n",
              "<g class=\"displacy-arrow\">\n",
              "    <path class=\"displacy-arc\" id=\"arrow-7955a77a8a7141deb922b1b934b0e735-0-2\" stroke-width=\"2px\" d=\"M245,352.0 C245,177.0 565.0,177.0 565.0,352.0\" fill=\"none\" stroke=\"currentColor\"/>\n",
              "    <text dy=\"1.25em\" style=\"font-size: 0.8em; letter-spacing: 1px\">\n",
              "        <textPath xlink:href=\"#arrow-7955a77a8a7141deb922b1b934b0e735-0-2\" class=\"displacy-label\" startOffset=\"50%\" side=\"left\" fill=\"currentColor\" text-anchor=\"middle\">acomp</textPath>\n",
              "    </text>\n",
              "    <path class=\"displacy-arrowhead\" d=\"M565.0,354.0 L573.0,342.0 557.0,342.0\" fill=\"currentColor\"/>\n",
              "</g>\n",
              "\n",
              "<g class=\"displacy-arrow\">\n",
              "    <path class=\"displacy-arc\" id=\"arrow-7955a77a8a7141deb922b1b934b0e735-0-3\" stroke-width=\"2px\" d=\"M770,352.0 C770,89.5 1270.0,89.5 1270.0,352.0\" fill=\"none\" stroke=\"currentColor\"/>\n",
              "    <text dy=\"1.25em\" style=\"font-size: 0.8em; letter-spacing: 1px\">\n",
              "        <textPath xlink:href=\"#arrow-7955a77a8a7141deb922b1b934b0e735-0-3\" class=\"displacy-label\" startOffset=\"50%\" side=\"left\" fill=\"currentColor\" text-anchor=\"middle\">mark</textPath>\n",
              "    </text>\n",
              "    <path class=\"displacy-arrowhead\" d=\"M770,354.0 L762,342.0 778,342.0\" fill=\"currentColor\"/>\n",
              "</g>\n",
              "\n",
              "<g class=\"displacy-arrow\">\n",
              "    <path class=\"displacy-arc\" id=\"arrow-7955a77a8a7141deb922b1b934b0e735-0-4\" stroke-width=\"2px\" d=\"M945,352.0 C945,177.0 1265.0,177.0 1265.0,352.0\" fill=\"none\" stroke=\"currentColor\"/>\n",
              "    <text dy=\"1.25em\" style=\"font-size: 0.8em; letter-spacing: 1px\">\n",
              "        <textPath xlink:href=\"#arrow-7955a77a8a7141deb922b1b934b0e735-0-4\" class=\"displacy-label\" startOffset=\"50%\" side=\"left\" fill=\"currentColor\" text-anchor=\"middle\">nsubj</textPath>\n",
              "    </text>\n",
              "    <path class=\"displacy-arrowhead\" d=\"M945,354.0 L937,342.0 953,342.0\" fill=\"currentColor\"/>\n",
              "</g>\n",
              "\n",
              "<g class=\"displacy-arrow\">\n",
              "    <path class=\"displacy-arc\" id=\"arrow-7955a77a8a7141deb922b1b934b0e735-0-5\" stroke-width=\"2px\" d=\"M1120,352.0 C1120,264.5 1260.0,264.5 1260.0,352.0\" fill=\"none\" stroke=\"currentColor\"/>\n",
              "    <text dy=\"1.25em\" style=\"font-size: 0.8em; letter-spacing: 1px\">\n",
              "        <textPath xlink:href=\"#arrow-7955a77a8a7141deb922b1b934b0e735-0-5\" class=\"displacy-label\" startOffset=\"50%\" side=\"left\" fill=\"currentColor\" text-anchor=\"middle\">aux</textPath>\n",
              "    </text>\n",
              "    <path class=\"displacy-arrowhead\" d=\"M1120,354.0 L1112,342.0 1128,342.0\" fill=\"currentColor\"/>\n",
              "</g>\n",
              "\n",
              "<g class=\"displacy-arrow\">\n",
              "    <path class=\"displacy-arc\" id=\"arrow-7955a77a8a7141deb922b1b934b0e735-0-6\" stroke-width=\"2px\" d=\"M245,352.0 C245,2.0 1275.0,2.0 1275.0,352.0\" fill=\"none\" stroke=\"currentColor\"/>\n",
              "    <text dy=\"1.25em\" style=\"font-size: 0.8em; letter-spacing: 1px\">\n",
              "        <textPath xlink:href=\"#arrow-7955a77a8a7141deb922b1b934b0e735-0-6\" class=\"displacy-label\" startOffset=\"50%\" side=\"left\" fill=\"currentColor\" text-anchor=\"middle\">advcl</textPath>\n",
              "    </text>\n",
              "    <path class=\"displacy-arrowhead\" d=\"M1275.0,354.0 L1283.0,342.0 1267.0,342.0\" fill=\"currentColor\"/>\n",
              "</g>\n",
              "</svg></span>"
            ],
            "text/plain": [
              "<IPython.core.display.HTML object>"
            ]
          },
          "metadata": {},
          "output_type": "display_data"
        }
      ],
      "source": [
        "doc = nlp(\"Harry is not gardening as it is raining\")\n",
        "for tok in doc:\n",
        "    print(tok.text,tok.dep_,end=' ; ')\n",
        "\n",
        "displacy.render(doc, style=\"dep\", jupyter = True)"
      ]
    },
    {
      "cell_type": "code",
      "execution_count": 322,
      "metadata": {},
      "outputs": [
        {
          "name": "stdout",
          "output_type": "stream",
          "text": [
            "Forest <class 'spacy.tokens.doc.Doc'>\n"
          ]
        }
      ],
      "source": [
        "processed_doc = model('Forest');print(processed_doc, type(processed_doc))\n",
        "for ent in processed_doc.ents:\n",
        "    print(ent.text, ent.label_)"
      ]
    },
    {
      "cell_type": "code",
      "execution_count": 323,
      "metadata": {},
      "outputs": [
        {
          "data": {
            "text/plain": [
              "\"doc = nlp(passive[7])\\ndisplacy.render(doc, style='dep')\""
            ]
          },
          "execution_count": 323,
          "metadata": {},
          "output_type": "execute_result"
        }
      ],
      "source": [
        "'''doc = nlp(passive[7])\n",
        "displacy.render(doc, style='dep')'''"
      ]
    },
    {
      "cell_type": "code",
      "execution_count": 324,
      "metadata": {},
      "outputs": [
        {
          "name": "stdout",
          "output_type": "stream",
          "text": [
            "Bella  ---  PROPN  ---  NNP\n",
            "is  ---  AUX  ---  VBZ\n",
            "not  ---  PART  ---  RB\n",
            "giving  ---  VERB  ---  VBG\n",
            "money  ---  NOUN  ---  NN\n",
            "\n",
            "Bella PERSON\n"
          ]
        }
      ],
      "source": [
        "processed_doc = model(X_train[0])\n",
        "[ print(word.text, ' --- ', word.pos_, ' --- ', word.tag_) for word in processed_doc];print()\n",
        "for ent in processed_doc.ents:\n",
        "    print(ent.text, ent.label_)"
      ]
    },
    {
      "cell_type": "code",
      "execution_count": 325,
      "metadata": {},
      "outputs": [
        {
          "data": {
            "text/plain": [
              "'F1(X, xi, xi-1, i) = 1 if xi starts with a capital letter; otherwise, 0. \\nF2(X, xi, xi-1, i) = 1 if xi is the parent of the ‘nsubj’ and ‘nusubjpass’ dependency tagged words AND the corresponding children words should have the NER tag of ‘E’ and ‘P’; otherwise, 0.\\nF3(X, xi, xi-1, i) = 1, if xi is the parent of the ‘dobj’ dependency tagged words AND the corresponding children words should have the NER tag of ‘E’ and ‘P’; otherwise, 0.'"
            ]
          },
          "execution_count": 325,
          "metadata": {},
          "output_type": "execute_result"
        }
      ],
      "source": [
        "'''F1(X, xi, xi-1, i) = 1 if xi starts with a capital letter; otherwise, 0. \n",
        "F2(X, xi, xi-1, i) = 1 if xi is the parent of the ‘nsubj’ and ‘nusubjpass’ dependency tagged words AND the corresponding children words should have the NER tag of ‘E’ and ‘P’; otherwise, 0.\n",
        "F3(X, xi, xi-1, i) = 1, if xi is the parent of the ‘dobj’ dependency tagged words AND the corresponding children words should have the NER tag of ‘E’ and ‘P’; otherwise, 0.'''"
      ]
    },
    {
      "cell_type": "code",
      "execution_count": 326,
      "metadata": {},
      "outputs": [],
      "source": [
        "#Define a function to get the above defined features for a word.\n",
        "def getFeaturesForAWord(sentence, pos):\n",
        "    word = sentence[pos]\n",
        "    features = [\n",
        "        f'words.startsWithCapital={word[0].isupper()}',\n",
        "        \n",
        "        f'={word.lower()}', \n",
        "        f'word[-3:]={word[-3:]}',\n",
        "        f'word[-2:]={word[-2:]}',   \n",
        "        f'word.isupper={word.isupper()}',\n",
        "        f'word.isidigt={word.isdigit()}',\n",
        "        \n",
        "    ]\n",
        "\n",
        "    if pos > 0:\n",
        "        prev_word = sentence[pos-1]\n",
        "        features.extend([\n",
        "            f'prev_words.lower={prev_word.lower()}',\n",
        "            f'prev_words.isupper()={prev_word.isupper()}',\n",
        "            f'prev_words.isdigit()={prev_word.isdigit()}', \n",
        "            f'prev_words.startsWithCapital={word[0].isupper()}'])\n",
        "    else:\n",
        "        features.append('BEG')\n",
        "\n",
        "    return features\n",
        "\n",
        "# Define a function to get features for a sentence \n",
        "# using the 'getFeaturesForOneWord' function.\n",
        "def getFeaturesForASentence(sentence):\n",
        "    sentence_words = sentence.split()\n",
        "    return [getFeaturesForAWord(sentence_words, pos) for pos in range(len(sentence_words))]"
      ]
    },
    {
      "cell_type": "code",
      "execution_count": 327,
      "metadata": {},
      "outputs": [
        {
          "ename": "ValueError",
          "evalue": "The numbers of items and labels differ: |x| = 25, |y| = 9",
          "output_type": "error",
          "traceback": [
            "\u001b[0;31m---------------------------------------------------------------------------\u001b[0m",
            "\u001b[0;31mValueError\u001b[0m                                Traceback (most recent call last)",
            "\u001b[0;32m/var/folders/6d/t1t1r89n1q95d2ztv2qstyb40000gr/T/ipykernel_3464/3776990797.py\u001b[0m in \u001b[0;36m<module>\u001b[0;34m\u001b[0m\n\u001b[1;32m      2\u001b[0m \u001b[0mcrf\u001b[0m \u001b[0;34m=\u001b[0m \u001b[0msklearn_crfsuite\u001b[0m\u001b[0;34m.\u001b[0m\u001b[0mCRF\u001b[0m\u001b[0;34m(\u001b[0m\u001b[0mmax_iterations\u001b[0m\u001b[0;34m=\u001b[0m\u001b[0;36m100\u001b[0m\u001b[0;34m)\u001b[0m\u001b[0;34m\u001b[0m\u001b[0;34m\u001b[0m\u001b[0m\n\u001b[1;32m      3\u001b[0m \u001b[0;32mtry\u001b[0m\u001b[0;34m:\u001b[0m\u001b[0;34m\u001b[0m\u001b[0;34m\u001b[0m\u001b[0m\n\u001b[0;32m----> 4\u001b[0;31m     \u001b[0mcrf\u001b[0m\u001b[0;34m.\u001b[0m\u001b[0mfit\u001b[0m\u001b[0;34m(\u001b[0m\u001b[0mX_train\u001b[0m\u001b[0;34m,\u001b[0m \u001b[0mY_train\u001b[0m\u001b[0;34m)\u001b[0m\u001b[0;34m\u001b[0m\u001b[0;34m\u001b[0m\u001b[0m\n\u001b[0m\u001b[1;32m      5\u001b[0m \u001b[0;32mexcept\u001b[0m \u001b[0mAttributeError\u001b[0m\u001b[0;34m:\u001b[0m\u001b[0;34m\u001b[0m\u001b[0;34m\u001b[0m\u001b[0m\n\u001b[1;32m      6\u001b[0m     \u001b[0;32mpass\u001b[0m\u001b[0;34m\u001b[0m\u001b[0;34m\u001b[0m\u001b[0m\n",
            "\u001b[0;32m~/sree/PGDS/MachineLearning/venv/lib/python3.7/site-packages/sklearn_crfsuite/estimator.py\u001b[0m in \u001b[0;36mfit\u001b[0;34m(self, X, y, X_dev, y_dev)\u001b[0m\n\u001b[1;32m    312\u001b[0m \u001b[0;34m\u001b[0m\u001b[0m\n\u001b[1;32m    313\u001b[0m         \u001b[0;32mfor\u001b[0m \u001b[0mxseq\u001b[0m\u001b[0;34m,\u001b[0m \u001b[0myseq\u001b[0m \u001b[0;32min\u001b[0m \u001b[0mtrain_data\u001b[0m\u001b[0;34m:\u001b[0m\u001b[0;34m\u001b[0m\u001b[0;34m\u001b[0m\u001b[0m\n\u001b[0;32m--> 314\u001b[0;31m             \u001b[0mtrainer\u001b[0m\u001b[0;34m.\u001b[0m\u001b[0mappend\u001b[0m\u001b[0;34m(\u001b[0m\u001b[0mxseq\u001b[0m\u001b[0;34m,\u001b[0m \u001b[0myseq\u001b[0m\u001b[0;34m)\u001b[0m\u001b[0;34m\u001b[0m\u001b[0;34m\u001b[0m\u001b[0m\n\u001b[0m\u001b[1;32m    315\u001b[0m \u001b[0;34m\u001b[0m\u001b[0m\n\u001b[1;32m    316\u001b[0m         \u001b[0;32mif\u001b[0m \u001b[0mself\u001b[0m\u001b[0;34m.\u001b[0m\u001b[0mverbose\u001b[0m\u001b[0;34m:\u001b[0m\u001b[0;34m\u001b[0m\u001b[0;34m\u001b[0m\u001b[0m\n",
            "\u001b[0;32mpycrfsuite/_pycrfsuite.pyx\u001b[0m in \u001b[0;36mpycrfsuite._pycrfsuite.BaseTrainer.append\u001b[0;34m()\u001b[0m\n",
            "\u001b[0;31mValueError\u001b[0m: The numbers of items and labels differ: |x| = 25, |y| = 9"
          ]
        }
      ],
      "source": [
        "# Build the CRF model.\n",
        "crf = sklearn_crfsuite.CRF(max_iterations=100)\n",
        "try:\n",
        "    crf.fit(X_train, Y_train)\n",
        "except AttributeError:\n",
        "    pass\n",
        "\n",
        "Y_pred = crf.predict(X_test)\n",
        "metrics.flat_f1_score(Y_test, Y_pred, average='weighted')\n",
        "\n",
        "id =12\n",
        "print(test_sentences[id])\n",
        "print(\"Original\", Y_test[id])\n",
        "print(\"Predicted\", Y_pred[id])\n",
        "\n",
        "print_top_likely_transitions(crf.transition_features_)\n",
        "print_top_unlikely_transitions(crf.transition_features_)"
      ]
    }
  ],
  "metadata": {
    "colab": {
      "collapsed_sections": [],
      "name": "CRF_Commented.ipynb",
      "provenance": []
    },
    "kernelspec": {
      "display_name": "Python 3",
      "name": "python3"
    },
    "language_info": {
      "codemirror_mode": {
        "name": "ipython",
        "version": 3
      },
      "file_extension": ".py",
      "mimetype": "text/x-python",
      "name": "python",
      "nbconvert_exporter": "python",
      "pygments_lexer": "ipython3",
      "version": "3.7.9"
    }
  },
  "nbformat": 4,
  "nbformat_minor": 0
}
