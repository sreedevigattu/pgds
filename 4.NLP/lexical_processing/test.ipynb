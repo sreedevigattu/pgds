{
 "cells": [
  {
   "cell_type": "code",
   "execution_count": 2,
   "metadata": {},
   "outputs": [],
   "source": [
    "import spacy\n",
    "nlp = spacy.load(\"en_core_web_sm\")"
   ]
  },
  {
   "cell_type": "code",
   "execution_count": 22,
   "metadata": {},
   "outputs": [],
   "source": [
    "def getPOSTags(text):\n",
    "    processed_text = nlp(text)\n",
    "    for word in processed_text:\n",
    "        print(word.text, word.pos_, word.tag_)\n",
    "\n",
    "def getPOSTagsEx(text):\n",
    "    processed_text = nlp(text)\n",
    "    for word in processed_text:\n",
    "        print(word.text, word.pos_, word.tag_, type(word.children))"
   ]
  },
  {
   "cell_type": "code",
   "execution_count": 17,
   "metadata": {},
   "outputs": [
    {
     "name": "stdout",
     "output_type": "stream",
     "text": [
      "The DET DT\n",
      "bandage NOUN NN\n",
      "was AUX VBD\n",
      "wound VERB VBN\n",
      "around ADP IN\n",
      "the DET DT\n",
      "wound NOUN NN\n",
      ". PUNCT .\n"
     ]
    }
   ],
   "source": [
    "getPOSTags(\"The bandage was wound around the wound.\")\n"
   ]
  },
  {
   "cell_type": "code",
   "execution_count": 18,
   "metadata": {},
   "outputs": [
    {
     "name": "stdout",
     "output_type": "stream",
     "text": [
      "Apple PROPN NNP\n",
      "is AUX VBZ\n",
      "looking VERB VBG\n",
      "at ADP IN\n",
      "buying VERB VBG\n",
      "UK PROPN NNP\n",
      "- PUNCT HYPH\n",
      "based VERB VBN\n",
      "start NOUN NN\n",
      "- PUNCT HYPH\n",
      "up NOUN NN\n",
      "for ADP IN\n",
      "$ SYM $\n",
      "1 NUM CD\n",
      "billion NUM CD\n",
      ". PUNCT .\n"
     ]
    }
   ],
   "source": [
    "getPOSTags('Apple is looking at buying UK-based start-up for $1 billion.')"
   ]
  },
  {
   "cell_type": "code",
   "execution_count": 20,
   "metadata": {},
   "outputs": [
    {
     "name": "stdout",
     "output_type": "stream",
     "text": [
      "UpGrad PROPN NNP\n",
      "is AUX VBZ\n",
      "teaching VERB VBG\n",
      "Data PROPN NNP\n",
      "Science PROPN NNP\n",
      "courses NOUN NNS\n",
      "to ADP IN\n",
      "the DET DT\n",
      "working VERB VBG\n",
      "professionals NOUN NNS\n",
      ". PUNCT .\n"
     ]
    }
   ],
   "source": [
    "getPOSTags(\"UpGrad is teaching Data Science courses to the working professionals.\")"
   ]
  },
  {
   "cell_type": "code",
   "execution_count": 21,
   "metadata": {},
   "outputs": [
    {
     "name": "stdout",
     "output_type": "stream",
     "text": [
      "UpGrad PROPN NNP\n",
      "is AUX VBZ\n",
      "teaching VERB VBG\n",
      "Data PROPN NNP\n",
      "Science PROPN NNP\n",
      "courses NOUN NNS\n",
      "to ADP IN\n",
      "the DET DT\n",
      "working VERB VBG\n",
      "professionals NOUN NNS\n",
      ". PUNCT .\n"
     ]
    }
   ],
   "source": [
    "getPOSTags(\"UpGrad is teaching Data Science courses to the working professionals.\")"
   ]
  },
  {
   "cell_type": "code",
   "execution_count": 33,
   "metadata": {},
   "outputs": [
    {
     "name": "stdout",
     "output_type": "stream",
     "text": [
      "It PRON PRP nsubj 0 []\n",
      "was AUX VBD ROOT 4 [It, best, and, was]\n",
      "the DET DT det 0 []\n",
      "best ADJ JJS attr 2 [the, of]\n",
      "of ADP IN prep 1 [times]\n",
      "times NOUN NNS pobj 0 []\n",
      "and CCONJ CC cc 0 []\n",
      "it PRON PRP nsubj 0 []\n",
      "was AUX VBD conj 3 [it, worst, .]\n",
      "the DET DT det 0 []\n",
      "worst ADJ JJS attr 2 [the, of]\n",
      "of ADP IN prep 1 [times]\n",
      "times NOUN NNS pobj 0 []\n",
      ". PUNCT . punct 0 []\n"
     ]
    }
   ],
   "source": [
    "def getPOSTagsEx(text):\n",
    "    processed_text = nlp(text)\n",
    "    for word in processed_text:\n",
    "        print(word.text, word.pos_, word.tag_, word.dep_, len(list(word.children)), list(word.children))\n",
    "\n",
    "getPOSTagsEx(\"It was the best of times and it was the worst of times.\")"
   ]
  },
  {
   "cell_type": "code",
   "execution_count": 34,
   "metadata": {},
   "outputs": [
    {
     "name": "stdout",
     "output_type": "stream",
     "text": [
      "Dole PROPN NNP nsubjpass 0 []\n",
      "was AUX VBD auxpass 0 []\n",
      "defeated VERB VBN ROOT 3 [Dole, was, by]\n",
      "by ADP IN agent 1 [Clinton]\n",
      "Clinton PROPN NNP pobj 0 []\n"
     ]
    }
   ],
   "source": [
    "getPOSTagsEx(\"Dole was defeated by Clinton\")"
   ]
  },
  {
   "cell_type": "code",
   "execution_count": 31,
   "metadata": {},
   "outputs": [
    {
     "data": {
      "text/html": [
       "<span class=\"tex2jax_ignore\"><svg xmlns=\"http://www.w3.org/2000/svg\" xmlns:xlink=\"http://www.w3.org/1999/xlink\" xml:lang=\"en\" id=\"c5315310a13f469ebe56776193e6d4ed-0\" class=\"displacy\" width=\"925\" height=\"312.0\" direction=\"ltr\" style=\"max-width: none; height: 312.0px; color: #000000; background: #ffffff; font-family: Arial; direction: ltr\">\n",
       "<text class=\"displacy-token\" fill=\"currentColor\" text-anchor=\"middle\" y=\"222.0\">\n",
       "    <tspan class=\"displacy-word\" fill=\"currentColor\" x=\"50\">Dole</tspan>\n",
       "    <tspan class=\"displacy-tag\" dy=\"2em\" fill=\"currentColor\" x=\"50\">PROPN</tspan>\n",
       "</text>\n",
       "\n",
       "<text class=\"displacy-token\" fill=\"currentColor\" text-anchor=\"middle\" y=\"222.0\">\n",
       "    <tspan class=\"displacy-word\" fill=\"currentColor\" x=\"225\">was</tspan>\n",
       "    <tspan class=\"displacy-tag\" dy=\"2em\" fill=\"currentColor\" x=\"225\">AUX</tspan>\n",
       "</text>\n",
       "\n",
       "<text class=\"displacy-token\" fill=\"currentColor\" text-anchor=\"middle\" y=\"222.0\">\n",
       "    <tspan class=\"displacy-word\" fill=\"currentColor\" x=\"400\">defeated</tspan>\n",
       "    <tspan class=\"displacy-tag\" dy=\"2em\" fill=\"currentColor\" x=\"400\">VERB</tspan>\n",
       "</text>\n",
       "\n",
       "<text class=\"displacy-token\" fill=\"currentColor\" text-anchor=\"middle\" y=\"222.0\">\n",
       "    <tspan class=\"displacy-word\" fill=\"currentColor\" x=\"575\">by</tspan>\n",
       "    <tspan class=\"displacy-tag\" dy=\"2em\" fill=\"currentColor\" x=\"575\">ADP</tspan>\n",
       "</text>\n",
       "\n",
       "<text class=\"displacy-token\" fill=\"currentColor\" text-anchor=\"middle\" y=\"222.0\">\n",
       "    <tspan class=\"displacy-word\" fill=\"currentColor\" x=\"750\">Clinton</tspan>\n",
       "    <tspan class=\"displacy-tag\" dy=\"2em\" fill=\"currentColor\" x=\"750\">PROPN</tspan>\n",
       "</text>\n",
       "\n",
       "<g class=\"displacy-arrow\">\n",
       "    <path class=\"displacy-arc\" id=\"arrow-c5315310a13f469ebe56776193e6d4ed-0-0\" stroke-width=\"2px\" d=\"M70,177.0 C70,2.0 400.0,2.0 400.0,177.0\" fill=\"none\" stroke=\"currentColor\"/>\n",
       "    <text dy=\"1.25em\" style=\"font-size: 0.8em; letter-spacing: 1px\">\n",
       "        <textPath xlink:href=\"#arrow-c5315310a13f469ebe56776193e6d4ed-0-0\" class=\"displacy-label\" startOffset=\"50%\" side=\"left\" fill=\"currentColor\" text-anchor=\"middle\">nsubjpass</textPath>\n",
       "    </text>\n",
       "    <path class=\"displacy-arrowhead\" d=\"M70,179.0 L62,167.0 78,167.0\" fill=\"currentColor\"/>\n",
       "</g>\n",
       "\n",
       "<g class=\"displacy-arrow\">\n",
       "    <path class=\"displacy-arc\" id=\"arrow-c5315310a13f469ebe56776193e6d4ed-0-1\" stroke-width=\"2px\" d=\"M245,177.0 C245,89.5 395.0,89.5 395.0,177.0\" fill=\"none\" stroke=\"currentColor\"/>\n",
       "    <text dy=\"1.25em\" style=\"font-size: 0.8em; letter-spacing: 1px\">\n",
       "        <textPath xlink:href=\"#arrow-c5315310a13f469ebe56776193e6d4ed-0-1\" class=\"displacy-label\" startOffset=\"50%\" side=\"left\" fill=\"currentColor\" text-anchor=\"middle\">auxpass</textPath>\n",
       "    </text>\n",
       "    <path class=\"displacy-arrowhead\" d=\"M245,179.0 L237,167.0 253,167.0\" fill=\"currentColor\"/>\n",
       "</g>\n",
       "\n",
       "<g class=\"displacy-arrow\">\n",
       "    <path class=\"displacy-arc\" id=\"arrow-c5315310a13f469ebe56776193e6d4ed-0-2\" stroke-width=\"2px\" d=\"M420,177.0 C420,89.5 570.0,89.5 570.0,177.0\" fill=\"none\" stroke=\"currentColor\"/>\n",
       "    <text dy=\"1.25em\" style=\"font-size: 0.8em; letter-spacing: 1px\">\n",
       "        <textPath xlink:href=\"#arrow-c5315310a13f469ebe56776193e6d4ed-0-2\" class=\"displacy-label\" startOffset=\"50%\" side=\"left\" fill=\"currentColor\" text-anchor=\"middle\">agent</textPath>\n",
       "    </text>\n",
       "    <path class=\"displacy-arrowhead\" d=\"M570.0,179.0 L578.0,167.0 562.0,167.0\" fill=\"currentColor\"/>\n",
       "</g>\n",
       "\n",
       "<g class=\"displacy-arrow\">\n",
       "    <path class=\"displacy-arc\" id=\"arrow-c5315310a13f469ebe56776193e6d4ed-0-3\" stroke-width=\"2px\" d=\"M595,177.0 C595,89.5 745.0,89.5 745.0,177.0\" fill=\"none\" stroke=\"currentColor\"/>\n",
       "    <text dy=\"1.25em\" style=\"font-size: 0.8em; letter-spacing: 1px\">\n",
       "        <textPath xlink:href=\"#arrow-c5315310a13f469ebe56776193e6d4ed-0-3\" class=\"displacy-label\" startOffset=\"50%\" side=\"left\" fill=\"currentColor\" text-anchor=\"middle\">pobj</textPath>\n",
       "    </text>\n",
       "    <path class=\"displacy-arrowhead\" d=\"M745.0,179.0 L753.0,167.0 737.0,167.0\" fill=\"currentColor\"/>\n",
       "</g>\n",
       "</svg></span>"
      ],
      "text/plain": [
       "<IPython.core.display.HTML object>"
      ]
     },
     "metadata": {},
     "output_type": "display_data"
    }
   ],
   "source": [
    "from spacy import displacy\n",
    "sent = \"Dole was defeated by Clinton\"\n",
    "doc = nlp(sent)\n",
    "displacy.render(doc, style=\"dep\")"
   ]
  },
  {
   "cell_type": "code",
   "execution_count": 14,
   "metadata": {},
   "outputs": [
    {
     "name": "stdout",
     "output_type": "stream",
     "text": [
      "TXT: The rain in Spain\n",
      "\n",
      "No match\n",
      "\n",
      "YES! We have a match!\n",
      "<re.Match object; span=(12, 17), match='Spain'>\n",
      "----------------------------------------------------------------------------------------------------------------------------------------------------------------\n",
      "TXT: The rain in Spain The rain in Spain\n",
      "\n",
      "No match\n",
      "\n",
      "YES! We have a match!\n",
      "<re.Match object; span=(12, 17), match='Spain'>\n",
      "----------------------------------------------------------------------------------------------------------------------------------------------------------------\n"
     ]
    }
   ],
   "source": [
    "import re\n",
    "\n",
    "#Check if the string starts with \"The\" and ends with \"Spain\":\n",
    "\n",
    "txt_list = [\"The rain in Spain\", \"The rain in Spain The rain in Spain\"] \n",
    "REG = \"Spain\" #\"^The.*Spain$\"\n",
    "\n",
    "for txt in txt_list:\n",
    "    print(\"TXT:\", txt);print()\n",
    "\n",
    "    m = re.match(REG, txt)\n",
    "    if m:\n",
    "        print(\"YES! We have a match!\");print(m, m.start(), m.end(), m.string)\n",
    "    else:\n",
    "     print(\"No match\")\n",
    "\n",
    "    print()\n",
    "    s = re.search(REG, txt)\n",
    "    if s:\n",
    "        print(\"YES! We have a match!\");print(s)\n",
    "    else:\n",
    "        print(\"No match\")\n",
    "    print(\"----\"*40)"
   ]
  },
  {
   "cell_type": "markdown",
   "metadata": {},
   "source": [
    "Match a binary number that starts with 101 and followed by zero or more number of zeroes.\n",
    "\n",
    "Sample positive cases (pattern should match all of these):\n",
    "1010, 10100, 101000, 101\n",
    "\n",
    "Sample negative cases (shouldn’t match any of these):\n",
    "10, 100, 1"
   ]
  },
  {
   "cell_type": "code",
   "execution_count": 16,
   "metadata": {},
   "outputs": [
    {
     "name": "stdout",
     "output_type": "stream",
     "text": [
      "+ve\n",
      "+ve\n",
      "+ve\n",
      "+ve\n"
     ]
    }
   ],
   "source": [
    "REG = '1010*'\n",
    "\n",
    "for num in ['1010', '10100', '101000', '101', '10', '100', '1']:\n",
    "    result = re.search(num, REG)\n",
    "    if result: print(\"+ve\")"
   ]
  },
  {
   "cell_type": "markdown",
   "metadata": {},
   "source": [
    "Krishna had said in the video that the pattern ‘ab+’ will not match the string ‘ac’. Try it for yourself by running the following piece of code and see if the re.search() function finds a match or not.\n",
    "\n",
    "You can also play around with the '+' quantifier by using it to match different types of strings. Finally, reset the code by reloading this page before submitting."
   ]
  },
  {
   "cell_type": "code",
   "execution_count": 20,
   "metadata": {},
   "outputs": [],
   "source": [
    "REG = 'ab+.*'\n",
    "TXT = 'ac'\n",
    "\n",
    "result = re.search(REG, TXT)\n",
    "if result: print(\"+ve\")"
   ]
  },
  {
   "cell_type": "markdown",
   "metadata": {},
   "source": [
    "Write a regular expression to match a term that has three or more ‘0’s followed by one or more ‘1’s\n",
    "\n",
    "Sample positive matches (should match all of these):\n",
    "0001\n",
    "000001111\n",
    "000011\n",
    "\n",
    "Negative positive matches (shouldn't match either of these):\n",
    "00111\n",
    "000\n",
    "00\n",
    "111"
   ]
  },
  {
   "cell_type": "code",
   "execution_count": 25,
   "metadata": {},
   "outputs": [
    {
     "name": "stdout",
     "output_type": "stream",
     "text": [
      "+ve\n",
      "+ve\n",
      "+ve\n"
     ]
    }
   ],
   "source": [
    "REG = '0{3,}1+'\n",
    "\n",
    "for num in ['0001', '000001111', '000011', '00111', '000', '00', '111']:\n",
    "    result = re.search(REG, num)\n",
    "    if result: print(\"+ve\")"
   ]
  },
  {
   "cell_type": "markdown",
   "metadata": {},
   "source": [
    "Write a regular expression which matches a string where '23' occurs one or more times followed by occurrence of '78' one or more times\n",
    "\n",
    "Sample positive matches (should match all of these):\n",
    "'2378', '23237878', '232323237878'\n",
    "\n",
    "Sample negative matches (shouldn't match either of these):\n",
    "'23', '78', '23378', '223378', '22337788'"
   ]
  },
  {
   "cell_type": "code",
   "execution_count": 27,
   "metadata": {},
   "outputs": [
    {
     "name": "stdout",
     "output_type": "stream",
     "text": [
      "2378\n",
      "23237878\n",
      "232323237878\n"
     ]
    }
   ],
   "source": [
    "REG = '(23)+(78)+'\n",
    "for txt in ['2378', '23237878', '232323237878', '23', '78', '23378', '223378', '22337788']:\n",
    "    if re.search(REG, txt): print(txt)"
   ]
  },
  {
   "cell_type": "markdown",
   "metadata": {},
   "source": [
    "Write a regular expression that matches the following strings: \n",
    "'Basketball', 'Baseball', 'Volleyball', 'Softball', 'Football'"
   ]
  },
  {
   "cell_type": "code",
   "execution_count": 30,
   "metadata": {},
   "outputs": [
    {
     "name": "stdout",
     "output_type": "stream",
     "text": [
      "Basketball\n",
      "Baseball\n",
      "Volleyball\n",
      "Softball\n",
      "Football\n"
     ]
    }
   ],
   "source": [
    "REG = '.+(ball)'\n",
    "for txt in ['Basketball', 'Baseball', 'Volleyball', 'Softball', 'Football']:\n",
    "    if re.search(REG, txt): print(txt)"
   ]
  },
  {
   "cell_type": "markdown",
   "metadata": {},
   "source": [
    "Write a regular expression that returns True when passed a multiplication equation. \n",
    "\n",
    "For any other equation, it should return False. In other words, it should return True if there an asterisk - ‘*’ - present in the equation.\n",
    "- Sample positive cases (should match all of these):'3a\\*4b', '3\\*2', '4\\*5\\*6=120'\n",
    "- Sample negative cases (shouldn't match either of these):'5+3=8', '3%2=1'"
   ]
  },
  {
   "cell_type": "code",
   "execution_count": 33,
   "metadata": {},
   "outputs": [
    {
     "name": "stdout",
     "output_type": "stream",
     "text": [
      "3a*4b\n",
      "3*2\n",
      "4*5*6=120\n",
      "3a*4b\n",
      "3*2\n",
      "4*5*6=120\n"
     ]
    }
   ],
   "source": [
    "REG = '\\*'\n",
    "for txt in ['3a*4b', '3*2', '4*5*6=120', '5+3=8', '3%2=1']:\n",
    "    result = re.search(REG, txt)\n",
    "    if result: print(txt)\n",
    "\n",
    "pattern = re.compile(REG)\n",
    "for txt in ['3a*4b', '3*2', '4*5*6=120', '5+3=8', '3%2=1']:\n",
    "    result = pattern.search(txt)\n",
    "    if result: print(txt)"
   ]
  },
  {
   "cell_type": "markdown",
   "metadata": {},
   "source": [
    "Write a pattern that matches all the dictionary words that start with ‘A’\n",
    "\n",
    "Positive matches (should match all of these):\n",
    "'Avenger', 'Acute', 'Altruism'\n",
    "\n",
    "Negative match (shouldn’t match any of these):\n",
    "'Bribe', '10', 'Zenith'"
   ]
  },
  {
   "cell_type": "code",
   "execution_count": 34,
   "metadata": {},
   "outputs": [
    {
     "name": "stdout",
     "output_type": "stream",
     "text": [
      "Avenger\n",
      "Acute\n",
      "Altruism\n"
     ]
    }
   ],
   "source": [
    "REG = '^A.+'\n",
    "pattern = re.compile(REG)\n",
    "for txt in ['Avenger', 'Acute', 'Altruism','Bribe', '10', 'Zenith']:\n",
    "    if pattern.search(txt): print(txt)"
   ]
  },
  {
   "cell_type": "markdown",
   "metadata": {},
   "source": [
    "Write a pattern which matches a word that ends with ‘ing’. Words such as ‘playing’, ‘growing’, ‘raining’, etc. should match while words that don’t have ‘ing’ at the end shouldn’t match."
   ]
  },
  {
   "cell_type": "code",
   "execution_count": 35,
   "metadata": {},
   "outputs": [
    {
     "name": "stdout",
     "output_type": "stream",
     "text": [
      "playing\n",
      "Growing\n",
      "singing\n"
     ]
    }
   ],
   "source": [
    "REG = '.+(ing)$'\n",
    "pattern = re.compile(REG)\n",
    "for txt in ['playing','Growing','singing','talk', 'movin']:\n",
    "    if pattern.search(txt): print(txt)"
   ]
  },
  {
   "cell_type": "markdown",
   "metadata": {},
   "source": [
    "Write a regular expression that matches any string that starts with one or more ‘1’s, followed by three or more ‘0’s, followed by any number of ones (zero or more), followed by ‘0’s (from one to seven), and then ends with either two or three ‘1’s."
   ]
  },
  {
   "cell_type": "code",
   "execution_count": 36,
   "metadata": {},
   "outputs": [
    {
     "name": "stdout",
     "output_type": "stream",
     "text": [
      "11000011000111\n"
     ]
    }
   ],
   "source": [
    "REG = '^1+0{3,}1*0{1,7}1{2,3}$'\n",
    "pattern = re.compile(REG)\n",
    "for txt in ['11000011000111', '00001100011111']:\n",
    "    if pattern.search(txt): print(txt)"
   ]
  },
  {
   "cell_type": "markdown",
   "metadata": {},
   "source": [
    "Write a regular expression to match password that has length between three and fifteen characters.\n",
    "\n",
    "\n",
    "Sample positive match:\n",
    "\n",
    "'Amandeep', 'Krishna'\n",
    "\n",
    "\n",
    "Sample negative match:\n",
    "\n",
    "'Balasubrahmanyam'"
   ]
  },
  {
   "cell_type": "code",
   "execution_count": 44,
   "metadata": {},
   "outputs": [
    {
     "name": "stdout",
     "output_type": "stream",
     "text": [
      "Amandeep\n",
      "Krishna\n",
      "Balasubrahmanyam\n"
     ]
    }
   ],
   "source": [
    "REG = '.{3,15}'#'^\\w{3,15}$'\n",
    "for txt in ['Amandeep', 'Krishna', 'Balasubrahmanyam']:\n",
    "    if re.search(REG, txt): print(txt)"
   ]
  },
  {
   "cell_type": "markdown",
   "metadata": {},
   "source": [
    "Write a regular expression with the help of meta-sequences that matches usernames of the users of a database. The username starts with alphabets of length one to ten characters long and then followed by a number of length 4.\n",
    "\n",
    "Sample positive matches: 'sam2340', 'irfann2590' \n",
    "\n",
    "Sample negative matches:\n",
    "'8730' , 'bobby9073834' , 'sameer728', 'radhagopalaswamy7890' "
   ]
  },
  {
   "cell_type": "code",
   "execution_count": 57,
   "metadata": {},
   "outputs": [
    {
     "name": "stdout",
     "output_type": "stream",
     "text": [
      "sam2340\n",
      "irfann2590\n"
     ]
    }
   ],
   "source": [
    "REG = '^[a-z]{1,10}\\d{4}$'\n",
    "for txt in ['sam2340', 'irfann2590','8730' , 'bobby9073834' , 'sameer728', 'radhagopalaswamy7890' ]:\n",
    "    if re.search(REG, txt): print(txt)"
   ]
  },
  {
   "cell_type": "code",
   "execution_count": 67,
   "metadata": {},
   "outputs": [
    {
     "name": "stdout",
     "output_type": "stream",
     "text": [
      "<html>\n"
     ]
    }
   ],
   "source": [
    "REG = '<.+?>' #'<[a-z]+?>' '<{1}.+?>{1}'\n",
    "txt = '<html><head><title> My amazing webpage </title></head><body> Welcome to my webpage! </body></html>'\n",
    "result = re.search(REG, txt)\n",
    "print(result.group())"
   ]
  },
  {
   "cell_type": "markdown",
   "metadata": {},
   "source": [
    "You are given the following string: \n",
    "\n",
    "“You can reach us at 07400029954 or 02261562153 ”\n",
    " \n",
    "Substitute all the 11-digit phone numbers present in the above string with “####”. "
   ]
  },
  {
   "cell_type": "code",
   "execution_count": 69,
   "metadata": {},
   "outputs": [
    {
     "name": "stdout",
     "output_type": "stream",
     "text": [
      "You can reach us at #### or #### \n"
     ]
    }
   ],
   "source": [
    "REG = '\\d{11}'\n",
    "TXT = \"You can reach us at 07400029954 or 02261562153 \"\n",
    "print(re.sub(REG, '####', TXT))"
   ]
  },
  {
   "cell_type": "markdown",
   "metadata": {},
   "source": [
    "Write a regular expression such that it replaces the first letter of any given string with ‘$’. \n",
    "\n",
    "For example, the string ‘Building careers of tomorrow’ should be replaced by “$uilding careers of tomorrow”."
   ]
  },
  {
   "cell_type": "code",
   "execution_count": 71,
   "metadata": {},
   "outputs": [
    {
     "name": "stdout",
     "output_type": "stream",
     "text": [
      "$uilding careers of tomorrow\n"
     ]
    }
   ],
   "source": [
    "REG = '^.'\n",
    "TXT = \"Building careers of tomorrow\"\n",
    "print(re.sub(REG, '$', TXT))"
   ]
  },
  {
   "cell_type": "markdown",
   "metadata": {},
   "source": [
    "Write a regular expression to extract all the words from a given sentence. Then use the re.finditer() function and store all the matched words that are of length more than or equal to 5 letters in a separate list called result.\n",
    "\n",
    "Sample input:\n",
    "\"Do not compare apples with oranges. Compare apples with apples\""
   ]
  },
  {
   "cell_type": "code",
   "execution_count": 75,
   "metadata": {},
   "outputs": [
    {
     "data": {
      "text/plain": [
       "[' compare', ' apples', ' oranges', ' Compare', ' apples', ' apples']"
      ]
     },
     "execution_count": 75,
     "metadata": {},
     "output_type": "execute_result"
    }
   ],
   "source": [
    "TXT = \"Do not compare apples with oranges. Compare apples with apples\"\n",
    "REG = '\\s[\\w]{5,}'\n",
    "result = re.findall(REG, TXT)\n",
    "result"
   ]
  },
  {
   "cell_type": "code",
   "execution_count": 79,
   "metadata": {},
   "outputs": [
    {
     "name": "stdout",
     "output_type": "stream",
     "text": [
      " compare\n",
      " apples\n",
      " oranges\n",
      " Compare\n",
      " apples\n",
      " apples\n"
     ]
    }
   ],
   "source": [
    "[print(i.group()) for i in list(re.finditer(REG, TXT))];"
   ]
  },
  {
   "cell_type": "markdown",
   "metadata": {},
   "source": [
    "Write a regular expression to extract all the words that contain ‘ing’ using the re.findall() function. Store the matches in the variable ‘results’ and print its length.\n",
    "\n",
    "Sample input: \"Playing outdoor games when its raining outside is always fun!\""
   ]
  },
  {
   "cell_type": "code",
   "execution_count": 96,
   "metadata": {},
   "outputs": [
    {
     "data": {
      "text/plain": [
       "['ing', 'ing']"
      ]
     },
     "execution_count": 96,
     "metadata": {},
     "output_type": "execute_result"
    }
   ],
   "source": [
    "TXT = \"Playing outdoor games when its raining outside is always fun!\"\n",
    "REG = '\\w+(ing)'#'\\s*[a-zA-Z]+(ing)'\n",
    "result = re.findall(REG, TXT)\n",
    "result"
   ]
  },
  {
   "cell_type": "markdown",
   "metadata": {},
   "source": [
    "You have a string which contains a data in the format DD-MM-YYYY. Write a regular expression to extract the date from the string.\n",
    "\n",
    "Sample input:\n",
    "\"Today’s date is 18-05-2018.\"\n",
    "\n",
    "Sample output:\n",
    "18-05-2018"
   ]
  },
  {
   "cell_type": "code",
   "execution_count": 101,
   "metadata": {},
   "outputs": [
    {
     "name": "stdout",
     "output_type": "stream",
     "text": [
      "18 05\n"
     ]
    }
   ],
   "source": [
    "TXT = \"Today’s date is 18-05-2018.\"\n",
    "REG = \"(\\d{2})-(\\d{2})-(\\d{4})\"\n",
    "result = re.search(REG, TXT)\n",
    "print(result.groups()[0], result.groups()[1])"
   ]
  },
  {
   "cell_type": "markdown",
   "metadata": {},
   "source": [
    "Write a regular expression to extract the domain name from an email address. The format of the email is simple - the part before the ‘@’ symbol contains alphabets, numbers and underscores. The part after the ‘@’ symbol contains only alphabets followed by a dot followed by ‘com’ \n",
    " \n",
    "Sample input: \n",
    "user_name_123@gmail.com \n",
    " \n",
    "Expected output: \n",
    "gmail.com"
   ]
  },
  {
   "cell_type": "code",
   "execution_count": 103,
   "metadata": {},
   "outputs": [
    {
     "name": "stdout",
     "output_type": "stream",
     "text": [
      "user_name_123 gmail.com\n"
     ]
    }
   ],
   "source": [
    "TXT = \"user_name_123@gmail.com\"\n",
    "REG = \"([\\w\\d_]+)@([\\w\\.]+)\"\n",
    "result = re.search(REG, TXT)\n",
    "print(result.groups()[0], result.groups()[1])"
   ]
  }
 ],
 "metadata": {
  "interpreter": {
   "hash": "8550a287e8c07f108da4527f3e46894028b32e72a651cacc8b64d5a05a68c294"
  },
  "kernelspec": {
   "display_name": "Python 3.7.9 ('venv': venv)",
   "language": "python",
   "name": "python3"
  },
  "language_info": {
   "codemirror_mode": {
    "name": "ipython",
    "version": 3
   },
   "file_extension": ".py",
   "mimetype": "text/x-python",
   "name": "python",
   "nbconvert_exporter": "python",
   "pygments_lexer": "ipython3",
   "version": "3.7.9"
  },
  "orig_nbformat": 4
 },
 "nbformat": 4,
 "nbformat_minor": 2
}
