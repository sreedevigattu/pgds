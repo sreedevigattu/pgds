{
 "cells": [
  {
   "cell_type": "code",
   "execution_count": 1,
   "metadata": {
    "collapsed": true
   },
   "outputs": [],
   "source": [
    "import re\n",
    "from collections import Counter"
   ]
  },
  {
   "cell_type": "code",
   "execution_count": 2,
   "metadata": {
    "collapsed": true
   },
   "outputs": [],
   "source": [
    "# function to tokenise words\n",
    "def words(document):\n",
    "    \"Convert text to lower case and tokenise the document\"\n",
    "    return re.findall(r'\\w+', document.lower())"
   ]
  },
  {
   "cell_type": "code",
   "execution_count": 3,
   "metadata": {
    "collapsed": true
   },
   "outputs": [],
   "source": [
    "# create a frequency table of all the words of the document\n",
    "all_words = Counter(words(open('big.txt').read()))"
   ]
  },
  {
   "cell_type": "code",
   "execution_count": 4,
   "metadata": {},
   "outputs": [
    {
     "data": {
      "text/plain": [
       "135"
      ]
     },
     "execution_count": 4,
     "metadata": {},
     "output_type": "execute_result"
    }
   ],
   "source": [
    "# check frequency of a random word, say, 'chair'\n",
    "all_words['chair']"
   ]
  },
  {
   "cell_type": "code",
   "execution_count": 5,
   "metadata": {},
   "outputs": [
    {
     "data": {
      "text/plain": [
       "[('the', 79809),\n",
       " ('of', 40024),\n",
       " ('and', 38312),\n",
       " ('to', 28765),\n",
       " ('in', 22023),\n",
       " ('a', 21124),\n",
       " ('that', 12512),\n",
       " ('he', 12401),\n",
       " ('was', 11410),\n",
       " ('it', 10681)]"
      ]
     },
     "execution_count": 5,
     "metadata": {},
     "output_type": "execute_result"
    }
   ],
   "source": [
    "# look at top 10 frequent words\n",
    "all_words.most_common(10)"
   ]
  },
  {
   "cell_type": "code",
   "execution_count": 6,
   "metadata": {
    "collapsed": true
   },
   "outputs": [],
   "source": [
    "def edits_one(word):\n",
    "    \"Create all edits that are one edit away from `word`.\"\n",
    "    alphabets    = 'abcdefghijklmnopqrstuvwxyz'\n",
    "    splits     = [(word[:i], word[i:])                   for i in range(len(word) + 1)]\n",
    "    deletes    = [left + right[1:]                       for left, right in splits if right]\n",
    "    inserts    = [left + c + right                       for left, right in splits for c in alphabets]\n",
    "    replaces   = [left + c + right[1:]                   for left, right in splits if right for c in alphabets]\n",
    "    transposes = [left + right[1] + right[0] + right[2:] for left, right in splits if len(right)>1]\n",
    "    return set(deletes + inserts + replaces + transposes)"
   ]
  },
  {
   "cell_type": "code",
   "execution_count": 7,
   "metadata": {
    "collapsed": true
   },
   "outputs": [],
   "source": [
    "def edits_two(word):\n",
    "    \"Create all edits that are two edits away from `word`.\"\n",
    "    return (e2 for e1 in edits_one(word) for e2 in edits_one(e1))"
   ]
  },
  {
   "cell_type": "code",
   "execution_count": 8,
   "metadata": {
    "collapsed": true
   },
   "outputs": [],
   "source": [
    "def known(words):\n",
    "    \"The subset of `words` that appear in the `all_words`.\"\n",
    "    return set(word for word in words if word in all_words)"
   ]
  },
  {
   "cell_type": "code",
   "execution_count": 9,
   "metadata": {
    "collapsed": true
   },
   "outputs": [],
   "source": [
    "def possible_corrections(word):\n",
    "    \"Generate possible spelling corrections for word.\"\n",
    "    return (known([word]) or known(edits_one(word)) or known(edits_two(word)) or [word])"
   ]
  },
  {
   "cell_type": "code",
   "execution_count": 10,
   "metadata": {
    "collapsed": true
   },
   "outputs": [],
   "source": [
    "def prob(word, N=sum(all_words.values())): \n",
    "    \"Probability of `word`: Number of appearances of 'word' / total number of tokens\"\n",
    "    return all_words[word] / N"
   ]
  },
  {
   "cell_type": "code",
   "execution_count": 11,
   "metadata": {},
   "outputs": [
    {
     "name": "stdout",
     "output_type": "stream",
     "text": [
      "336\n",
      "{'monnzy', 'money', 'mhonney', 'monnewy', 'wonney', 'eonney', 'motney', 'monnry', 'monnezy', 'monneya', 'mbonney', 'monnly', 'mononey', 'monnen', 'monneym', 'monnemy', 'mrnney', 'cmonney', 'fonney', 'monncey', 'lmonney', 'monneyh', 'moneey', 'monbey', 'monned', 'omnney', 'monneky', 'morney', 'mxnney', 'monnay', 'monneyc', 'monuey', 'monyney', 'pmonney', 'monnoy', 'monpey', 'donney', 'monneyj', 'mondey', 'mponney', 'qmonney', 'emonney', 'mfnney', 'fmonney', 'monnaey', 'mlnney', 'monnevy', 'aonney', 'lonney', 'mhnney', 'monneo', 'monnez', 'monjey', 'movnney', 'monneyv', 'monneny', 'conney', 'monneyg', 'moinney', 'monuney', 'monsey', 'monnesy', 'monneyo', 'molney', 'monnby', 'msonney', 'moqney', 'mowney', 'mnonney', 'monneq', 'monney', 'monnet', 'mtnney', 'tonney', 'monjney', 'mgnney', 'monhney', 'monpney', 'mnney', 'monnmy', 'monneey', 'menney', 'monneby', 'monnety', 'monxey', 'hmonney', 'jonney', 'mwonney', 'monneyw', 'monnedy', 'konney', 'monkey', 'monzey', 'onney', 'monneyx', 'monnvey', 'moniney', 'monnky', 'moonney', 'monzney', 'monncy', 'mcnney', 'monnew', 'moynney', 'mvonney', 'smonney', 'mbnney', 'monnty', 'monnhy', 'mokney', 'monwney', 'mounney', 'monnqy', 'monneyk', 'mouney', 'montney', 'moncney', 'mlonney', 'monnehy', 'monneuy', 'monlney', 'monqney', 'molnney', 'mongney', 'monnecy', 'monnejy', 'monnxy', 'mzonney', 'monneye', 'mognney', 'momnney', 'mnnney', 'moxnney', 'monneqy', 'ronney', 'mwnney', 'mosney', 'modney', 'moqnney', 'monnjey', 'monoey', 'omonney', 'mofney', 'monneyb', 'xonney', 'moeney', 'monnhey', 'mofnney', 'moniey', 'monnqey', 'moneny', 'moyney', 'monnmey', 'monmey', 'moxney', 'jmonney', 'moenney', 'monnuy', 'muonney', 'momney', 'mopney', 'ionney', 'monneyd', 'monneyl', 'monndy', 'monnpy', 'monndey', 'monnem', 'monnev', 'gmonney', 'vonney', 'monnxey', 'mobnney', 'monneyz', 'nmonney', 'monnei', 'monnegy', 'monnepy', 'modnney', 'mohnney', 'mjnney', 'moznney', 'moaney', 'monnej', 'ponney', 'monnwy', 'qonney', 'monneh', 'monxney', 'monyey', 'monngy', 'mynney', 'moknney', 'mfonney', 'monneiy', 'monvey', 'mqnney', 'monner', 'monniy', 'mongey', 'mopnney', 'zmonney', 'monneyu', 'wmonney', 'mnoney', 'monnvy', 'mmnney', 'monnley', 'moiney', 'mqonney', 'monneys', 'imonney', 'monnzey', 'msnney', 'monnwey', 'monnex', 'monrney', 'monngey', 'mxonney', 'monnexy', 'mozney', 'meonney', 'monneyy', 'monneyi', 'mpnney', 'monwey', 'monnuey', 'mronney', 'xmonney', 'monneyn', 'mogney', 'mocnney', 'moanney', 'monnrey', 'monnef', 'mknney', 'monnoey', 'monneyr', 'monneyt', 'monley', 'maonney', 'bmonney', 'gonney', 'monnsy', 'monnep', 'monneyq', 'mooney', 'monne', 'mjonney', 'monniey', 'mownney', 'monfey', 'monntey', 'monneu', 'motnney', 'mdnney', 'mojnney', 'monkney', 'monnjy', 'monnes', 'moneney', 'monneoy', 'monnel', 'mosnney', 'myonney', 'yonney', 'monnec', 'monnee', 'monnbey', 'monnye', 'bonney', 'dmonney', 'mdonney', 'monnely', 'monnea', 'monneay', 'munney', 'monnsey', 'nonney', 'monrey', 'monqey', 'manney', 'mconney', 'mionney', 'monnfy', 'mznney', 'monneyf', 'zonney', 'mgonney', 'monnpey', 'mojney', 'kmonney', 'monnyey', 'oonney', 'vmonney', 'monneyp', 'monny', 'movney', 'monnny', 'monhey', 'honney', 'mornney', 'montey', 'monnney', 'mkonney', 'monneg', 'monfney', 'mmonney', 'tmonney', 'sonney', 'umonney', 'amonney', 'monnery', 'monaney', 'uonney', 'monvney', 'monnek', 'monmney', 'monneb', 'ymonney', 'monsney', 'moncey', 'mvnney', 'mocney', 'monnefy', 'minney', 'monbney', 'mtonney', 'monaey', 'mobney', 'rmonney', 'mondney', 'monnfey', 'monnyy', 'mohney', 'monnkey'}\n"
     ]
    }
   ],
   "source": [
    "print(len(set(edits_one(\"monney\"))))\n",
    "print(edits_one(\"monney\"))"
   ]
  },
  {
   "cell_type": "code",
   "execution_count": 20,
   "metadata": {},
   "outputs": [
    {
     "name": "stdout",
     "output_type": "stream",
     "text": [
      "{'monkey', 'money'}\n"
     ]
    }
   ],
   "source": [
    "print(known(edits_one(\"monney\")))"
   ]
  },
  {
   "cell_type": "code",
   "execution_count": 21,
   "metadata": {},
   "outputs": [
    {
     "name": "stdout",
     "output_type": "stream",
     "text": [
      "51013\n",
      "{'monkey', 'money'}\n"
     ]
    }
   ],
   "source": [
    "# Let's look at words that are two edits away\n",
    "print(len(set(edits_two(\"monney\"))))\n",
    "print(known(edits_one(\"monney\")))"
   ]
  },
  {
   "cell_type": "code",
   "execution_count": 22,
   "metadata": {},
   "outputs": [
    {
     "name": "stdout",
     "output_type": "stream",
     "text": [
      "{'monkey', 'money'}\n"
     ]
    }
   ],
   "source": [
    "# Let's look at possible corrections of a word\n",
    "print(possible_corrections(\"monney\"))"
   ]
  },
  {
   "cell_type": "code",
   "execution_count": 23,
   "metadata": {},
   "outputs": [
    {
     "name": "stdout",
     "output_type": "stream",
     "text": [
      "0.0002922233626303688\n",
      "5.378344097491451e-06\n"
     ]
    }
   ],
   "source": [
    "# Let's look at probability of a word\n",
    "print(prob(\"money\"))\n",
    "print(prob(\"monkey\"))"
   ]
  },
  {
   "cell_type": "code",
   "execution_count": 24,
   "metadata": {},
   "outputs": [],
   "source": [
    "def spell_check(word):\n",
    "    \"Print the most probable spelling correction for `word` out of all the `possible_corrections`\"\n",
    "    correct_word = max(possible_corrections(word), key=prob)\n",
    "    if correct_word != word:\n",
    "        return \"Did you mean \" + correct_word + \"?\"\n",
    "    else:\n",
    "        return \"Correct spelling.\""
   ]
  },
  {
   "cell_type": "code",
   "execution_count": 25,
   "metadata": {},
   "outputs": [
    {
     "name": "stdout",
     "output_type": "stream",
     "text": [
      "Did you mean money?\n"
     ]
    }
   ],
   "source": [
    "# test spell check\n",
    "print(spell_check(\"monney\"))"
   ]
  },
  {
   "cell_type": "markdown",
   "metadata": {},
   "source": [
    "### Exercise"
   ]
  },
  {
   "cell_type": "code",
   "execution_count": null,
   "metadata": {},
   "outputs": [],
   "source": [
    "print(len(edits_one('emfasize')), len(set((edits_two('emfasize')))))\n",
    "possible_corrections('emfasize')"
   ]
  },
  {
   "cell_type": "code",
   "execution_count": null,
   "metadata": {},
   "outputs": [],
   "source": []
  }
 ],
 "metadata": {
  "kernelspec": {
   "display_name": "Python 3",
   "language": "python",
   "name": "python3"
  },
  "language_info": {
   "codemirror_mode": {
    "name": "ipython",
    "version": 3
   },
   "file_extension": ".py",
   "mimetype": "text/x-python",
   "name": "python",
   "nbconvert_exporter": "python",
   "pygments_lexer": "ipython3",
   "version": "3.7.9"
  }
 },
 "nbformat": 4,
 "nbformat_minor": 2
}
