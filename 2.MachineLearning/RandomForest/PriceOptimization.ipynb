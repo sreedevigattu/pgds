{
 "cells": [
  {
   "cell_type": "code",
   "execution_count": 1,
   "metadata": {},
   "outputs": [],
   "source": [
    "import pandas as pd"
   ]
  },
  {
   "cell_type": "code",
   "execution_count": 9,
   "metadata": {},
   "outputs": [
    {
     "name": "stdout",
     "output_type": "stream",
     "text": [
      "<class 'pandas.core.frame.DataFrame'>\n",
      "RangeIndex: 29999 entries, 0 to 29998\n",
      "Data columns (total 8 columns):\n",
      " #   Column             Non-Null Count  Dtype  \n",
      "---  ------             --------------  -----  \n",
      " 0   train_id           29999 non-null  int64  \n",
      " 1   name               29999 non-null  object \n",
      " 2   item_condition_id  29999 non-null  int64  \n",
      " 3   category_name      29854 non-null  object \n",
      " 4   brand_name         17123 non-null  object \n",
      " 5   price              29999 non-null  float64\n",
      " 6   shipping           29999 non-null  int64  \n",
      " 7   item_description   29999 non-null  object \n",
      "dtypes: float64(1), int64(3), object(4)\n",
      "memory usage: 1.8+ MB\n",
      "None\n"
     ]
    }
   ],
   "source": [
    "df_train = pd.read_csv(\"data/train.tsv\",sep='\\t')\n",
    "print(df_train.info())\n"
   ]
  },
  {
   "cell_type": "code",
   "execution_count": 10,
   "metadata": {},
   "outputs": [
    {
     "name": "stdout",
     "output_type": "stream",
     "text": [
      "<class 'pandas.core.frame.DataFrame'>\n",
      "RangeIndex: 29999 entries, 0 to 29998\n",
      "Data columns (total 7 columns):\n",
      " #   Column             Non-Null Count  Dtype \n",
      "---  ------             --------------  ----- \n",
      " 0   test_id            29999 non-null  int64 \n",
      " 1   name               29999 non-null  object\n",
      " 2   item_condition_id  29999 non-null  int64 \n",
      " 3   category_name      29855 non-null  object\n",
      " 4   brand_name         17150 non-null  object\n",
      " 5   shipping           29999 non-null  int64 \n",
      " 6   item_description   29999 non-null  object\n",
      "dtypes: int64(3), object(4)\n",
      "memory usage: 1.6+ MB\n",
      "None\n"
     ]
    }
   ],
   "source": [
    "df_test = pd.read_csv(\"data/test.tsv\",sep='\\t')\n",
    "print(df_test.info())"
   ]
  }
 ],
 "metadata": {
  "interpreter": {
   "hash": "8550a287e8c07f108da4527f3e46894028b32e72a651cacc8b64d5a05a68c294"
  },
  "kernelspec": {
   "display_name": "Python 3.7.9 64-bit ('venv': venv)",
   "name": "python3"
  },
  "language_info": {
   "codemirror_mode": {
    "name": "ipython",
    "version": 3
   },
   "file_extension": ".py",
   "mimetype": "text/x-python",
   "name": "python",
   "nbconvert_exporter": "python",
   "pygments_lexer": "ipython3",
   "version": "3.7.9"
  },
  "orig_nbformat": 4
 },
 "nbformat": 4,
 "nbformat_minor": 2
}
