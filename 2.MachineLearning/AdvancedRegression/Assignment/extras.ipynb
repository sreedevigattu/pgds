{
 "cells": [
  {
   "cell_type": "code",
   "execution_count": null,
   "metadata": {},
   "outputs": [],
   "source": [
    "# Get columns with missing data > 40% and drop these\n",
    "df_missing = getColsWithMissingData(df)\n",
    "cols_missing_gt40 = df_missing[df_missing > 40].index.tolist()\n",
    "print(f\"Dropping columns: {len(cols_missing_gt40)} {cols_missing_gt40}\")\n",
    "print(f\"Before dropping: {df.shape}\")\n",
    "df.drop(columns=cols_missing_gt40, inplace=True)\n",
    "print(f\"After dropping: {df.shape}\")\n",
    "listColumsWithMissingData(df)\n",
    "\n",
    "# Delete rows with 5% and 2% missing data\n",
    "COLS_BSMT = ['BsmtQual','BsmtCond','BsmtFinType1','BsmtFinType2','BsmtExposure']\n",
    "for col in COLS_BSMT: print(f\"{col} : {df[col].isnull().sum()}\", end=' ')\n",
    "print()\n",
    "INDEX_BSMT = (set(df[df[COLS_BSMT].isnull().all(1)].index.tolist()).union(set(df[df['BsmtFinType1'].isnull()].index.tolist()), set(df[df['BsmtFinType2'].isnull()].index.tolist()), \n",
    "                        set(df[df['BsmtExposure'].isnull()].index.tolist()), set(df[df['BsmtQual'].isnull()].index.tolist()), \n",
    "                        set(df[df['BsmtCond'].isnull()].index.tolist())))\n",
    "print(\"INDEX_BSMT\", len(INDEX_BSMT))#, INDEX_BSMT)\n",
    "df.drop(index=INDEX_BSMT, inplace=True)\n",
    "\n",
    "COLS_GARAGE = ['GarageYrBlt','GarageCond','GarageFinish','GarageQual']\n",
    "for col in COLS_GARAGE: print(f\"{col} : {df[col].isnull().sum()}\", end=' ')\n",
    "print()\n",
    "INDEX_GARAGE = (set(df[df[COLS_GARAGE].isnull().all(1)].index.tolist()).union(set(df[df['GarageYrBlt'].isnull()].index.tolist()), set(df[df['GarageCond'].isnull()].index.tolist()), \n",
    "                        set(df[df['GarageFinish'].isnull()].index.tolist()), set(df[df['GarageQual'].isnull()].index.tolist())))\n",
    "print(\"INDEX_GARAGE\", len(INDEX_GARAGE))#, INDEX_GARAGE)\n",
    "df.drop(index=INDEX_GARAGE, inplace=True)"
   ]
  }
 ],
 "metadata": {
  "language_info": {
   "name": "python"
  },
  "orig_nbformat": 4
 },
 "nbformat": 4,
 "nbformat_minor": 2
}
