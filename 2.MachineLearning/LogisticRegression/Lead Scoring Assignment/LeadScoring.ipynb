{
 "cells": [
  {
   "cell_type": "markdown",
   "source": [
    "# Lead Scoring Case Study"
   ],
   "metadata": {}
  },
  {
   "cell_type": "markdown",
   "source": [
    "- Understand the valrous columns\n",
    "- Missing value imputation\n",
    "- check data imbalance\n",
    "- Outlier treatment\n",
    "- Dummy variable creation \n",
    "- Test train split\n",
    "- Standardisation\n",
    "- Build model\n",
    "- Feature elimination\n",
    "- Model evaluation\n",
    "\n",
    "- Attach a lead score for each row\n",
    "- Find a cut off for hot-lead"
   ],
   "metadata": {}
  },
  {
   "cell_type": "markdown",
   "source": [
    "## Functions"
   ],
   "metadata": {}
  },
  {
   "cell_type": "code",
   "execution_count": 9,
   "source": [
    "import pandas as pd\n",
    "\n",
    "import matplotlib.pyplot as plt"
   ],
   "outputs": [],
   "metadata": {}
  },
  {
   "cell_type": "code",
   "execution_count": 10,
   "source": [
    "def getNullColumns(df):\n",
    "    print(df[df.columns[df.isnull().any()]].isnull().sum())"
   ],
   "outputs": [],
   "metadata": {}
  },
  {
   "cell_type": "markdown",
   "source": [
    "for col in df[df.columns[df.isnull().any()]].isnull()"
   ],
   "metadata": {}
  },
  {
   "cell_type": "code",
   "execution_count": 11,
   "source": [
    "##getNullColumns(df)"
   ],
   "outputs": [],
   "metadata": {}
  },
  {
   "cell_type": "markdown",
   "source": [
    "## Read data set"
   ],
   "metadata": {}
  },
  {
   "cell_type": "code",
   "execution_count": 12,
   "source": [
    "df = pd.read_csv(\"Leads.csv\")\n",
    "df.info()"
   ],
   "outputs": [
    {
     "output_type": "stream",
     "name": "stdout",
     "text": [
      "<class 'pandas.core.frame.DataFrame'>\n",
      "RangeIndex: 9240 entries, 0 to 9239\n",
      "Data columns (total 37 columns):\n",
      " #   Column                                         Non-Null Count  Dtype  \n",
      "---  ------                                         --------------  -----  \n",
      " 0   Prospect ID                                    9240 non-null   object \n",
      " 1   Lead Number                                    9240 non-null   int64  \n",
      " 2   Lead Origin                                    9240 non-null   object \n",
      " 3   Lead Source                                    9204 non-null   object \n",
      " 4   Do Not Email                                   9240 non-null   object \n",
      " 5   Do Not Call                                    9240 non-null   object \n",
      " 6   Converted                                      9240 non-null   int64  \n",
      " 7   TotalVisits                                    9103 non-null   float64\n",
      " 8   Total Time Spent on Website                    9240 non-null   int64  \n",
      " 9   Page Views Per Visit                           9103 non-null   float64\n",
      " 10  Last Activity                                  9137 non-null   object \n",
      " 11  Country                                        6779 non-null   object \n",
      " 12  Specialization                                 7802 non-null   object \n",
      " 13  How did you hear about X Education             7033 non-null   object \n",
      " 14  What is your current occupation                6550 non-null   object \n",
      " 15  What matters most to you in choosing a course  6531 non-null   object \n",
      " 16  Search                                         9240 non-null   object \n",
      " 17  Magazine                                       9240 non-null   object \n",
      " 18  Newspaper Article                              9240 non-null   object \n",
      " 19  X Education Forums                             9240 non-null   object \n",
      " 20  Newspaper                                      9240 non-null   object \n",
      " 21  Digital Advertisement                          9240 non-null   object \n",
      " 22  Through Recommendations                        9240 non-null   object \n",
      " 23  Receive More Updates About Our Courses         9240 non-null   object \n",
      " 24  Tags                                           5887 non-null   object \n",
      " 25  Lead Quality                                   4473 non-null   object \n",
      " 26  Update me on Supply Chain Content              9240 non-null   object \n",
      " 27  Get updates on DM Content                      9240 non-null   object \n",
      " 28  Lead Profile                                   6531 non-null   object \n",
      " 29  City                                           7820 non-null   object \n",
      " 30  Asymmetrique Activity Index                    5022 non-null   object \n",
      " 31  Asymmetrique Profile Index                     5022 non-null   object \n",
      " 32  Asymmetrique Activity Score                    5022 non-null   float64\n",
      " 33  Asymmetrique Profile Score                     5022 non-null   float64\n",
      " 34  I agree to pay the amount through cheque       9240 non-null   object \n",
      " 35  A free copy of Mastering The Interview         9240 non-null   object \n",
      " 36  Last Notable Activity                          9240 non-null   object \n",
      "dtypes: float64(4), int64(3), object(30)\n",
      "memory usage: 2.6+ MB\n"
     ]
    }
   ],
   "metadata": {}
  },
  {
   "cell_type": "code",
   "execution_count": 13,
   "source": [
    "# TODO: Grooup, Reorder, Rename columns\n",
    "COLS_ID = ['Prospect ID']\n",
    "COLS_LOC = ['Country','City']\n",
    "COLS_PROF = ['Specialization', 'What is your current occupation', 'Specialization', 'What matters most to you in choosing a course']\n",
    "COLS_AD = ['How did you hear about X Education', 'Search', 'Magazine', 'Newspaper Article', 'X Education Forums', 'Newspaper', 'Digital Advertisement', 'Through Recommendations']\n",
    "COLS_PREF = ['Do Not Email', 'Do Not Call','Receive More Updates About Our Courses', 'Update me on Supply Chain Content', 'Get updates on DM Content',\n",
    "                 'A free copy of Mastering The Interview','I agree to pay the amount through cheque']\n",
    "\n",
    "COS_ACTIVTIY = ['TotalVisits', 'Page Views Per Visit', 'Total Time Spent on Website','Last Activity', 'Last Notable Activity']\n",
    "\n",
    "COLS_LEAD = ['Lead Number', 'Lead Origin', 'Lead Source','Lead Quality',  'Lead Profile', 'Tags']\n",
    "COLS_ASYM = ['Asymmetrique Activity Index', 'Asymmetrique Profile Index', 'Asymmetrique Activity Score', 'Asymmetrique Profile Score']\n",
    "\n",
    "COLS_TARGET = ['Converted']"
   ],
   "outputs": [],
   "metadata": {}
  },
  {
   "cell_type": "code",
   "execution_count": 14,
   "source": [
    "def colDetails(cols, label):\n",
    "    print(f\"\\n{label}: {len(cols)} {cols}\")\n",
    "\n",
    "def colInfo(df, columns):\n",
    "    for col in columns:\n",
    "        if df[col].dtype == object:\n",
    "            if df[col].isnull().sum() > 0:\n",
    "                values = df[col].unique().tolist()\n",
    "            else:\n",
    "                values = sorted(df[col].unique().tolist())\n",
    "            print(f\"{col}: {len(values)} : {values}\")\n",
    "        else:\n",
    "            #print(f\"{col}: {df[col].describe()}\")\n",
    "            # TODO: mean, min, 25, 50, 75, max\n",
    "            print(f\"{col}: {df[col].mean():.0f} {df[col].quantile([0, .25, .50, .75, 1 ]).values.tolist()} \")\n",
    "\n",
    "    df[columns][:5]"
   ],
   "outputs": [],
   "metadata": {}
  },
  {
   "cell_type": "code",
   "execution_count": 15,
   "source": [
    "COLUMNS = df.columns.tolist(); colDetails(COLUMNS, \"COLUMNS\")\n",
    "\n",
    "COLUMNS_CAT = df.select_dtypes(include=['object']).columns; \n",
    "COLUMNS_CAT = list(set(COLUMNS_CAT) - set(['Prospect ID']))\n",
    "colDetails(COLUMNS_CAT, \"COLUMNS_CAT\")\n",
    "\n",
    "COLUMNS_NULL = df[df.columns[df.isnull().any()]].columns.tolist(); colDetails(COLUMNS_NULL, \"COLUMNS_NULL\")"
   ],
   "outputs": [
    {
     "output_type": "stream",
     "name": "stdout",
     "text": [
      "\n",
      "COLUMNS: 37 ['Prospect ID', 'Lead Number', 'Lead Origin', 'Lead Source', 'Do Not Email', 'Do Not Call', 'Converted', 'TotalVisits', 'Total Time Spent on Website', 'Page Views Per Visit', 'Last Activity', 'Country', 'Specialization', 'How did you hear about X Education', 'What is your current occupation', 'What matters most to you in choosing a course', 'Search', 'Magazine', 'Newspaper Article', 'X Education Forums', 'Newspaper', 'Digital Advertisement', 'Through Recommendations', 'Receive More Updates About Our Courses', 'Tags', 'Lead Quality', 'Update me on Supply Chain Content', 'Get updates on DM Content', 'Lead Profile', 'City', 'Asymmetrique Activity Index', 'Asymmetrique Profile Index', 'Asymmetrique Activity Score', 'Asymmetrique Profile Score', 'I agree to pay the amount through cheque', 'A free copy of Mastering The Interview', 'Last Notable Activity']\n",
      "\n",
      "COLUMNS_CAT: 29 ['City', 'X Education Forums', 'What is your current occupation', 'What matters most to you in choosing a course', 'Tags', 'I agree to pay the amount through cheque', 'Country', 'Lead Quality', 'Last Notable Activity', 'Magazine', 'Do Not Email', 'Newspaper Article', 'Receive More Updates About Our Courses', 'Asymmetrique Profile Index', 'Lead Source', 'Do Not Call', 'Lead Origin', 'A free copy of Mastering The Interview', 'Specialization', 'Digital Advertisement', 'How did you hear about X Education', 'Update me on Supply Chain Content', 'Newspaper', 'Through Recommendations', 'Search', 'Get updates on DM Content', 'Asymmetrique Activity Index', 'Last Activity', 'Lead Profile']\n",
      "\n",
      "COLUMNS_NULL: 17 ['Lead Source', 'TotalVisits', 'Page Views Per Visit', 'Last Activity', 'Country', 'Specialization', 'How did you hear about X Education', 'What is your current occupation', 'What matters most to you in choosing a course', 'Tags', 'Lead Quality', 'Lead Profile', 'City', 'Asymmetrique Activity Index', 'Asymmetrique Profile Index', 'Asymmetrique Activity Score', 'Asymmetrique Profile Score']\n"
     ]
    }
   ],
   "metadata": {}
  },
  {
   "cell_type": "markdown",
   "source": [
    "### IDs\n",
    "Identifiers of customer and lead\n",
    "- Drop them for the model building"
   ],
   "metadata": {}
  },
  {
   "cell_type": "code",
   "execution_count": 16,
   "source": [
    "df[COLS_ID ][:5]"
   ],
   "outputs": [
    {
     "output_type": "execute_result",
     "data": {
      "text/html": [
       "<div>\n",
       "<style scoped>\n",
       "    .dataframe tbody tr th:only-of-type {\n",
       "        vertical-align: middle;\n",
       "    }\n",
       "\n",
       "    .dataframe tbody tr th {\n",
       "        vertical-align: top;\n",
       "    }\n",
       "\n",
       "    .dataframe thead th {\n",
       "        text-align: right;\n",
       "    }\n",
       "</style>\n",
       "<table border=\"1\" class=\"dataframe\">\n",
       "  <thead>\n",
       "    <tr style=\"text-align: right;\">\n",
       "      <th></th>\n",
       "      <th>Prospect ID</th>\n",
       "    </tr>\n",
       "  </thead>\n",
       "  <tbody>\n",
       "    <tr>\n",
       "      <th>0</th>\n",
       "      <td>7927b2df-8bba-4d29-b9a2-b6e0beafe620</td>\n",
       "    </tr>\n",
       "    <tr>\n",
       "      <th>1</th>\n",
       "      <td>2a272436-5132-4136-86fa-dcc88c88f482</td>\n",
       "    </tr>\n",
       "    <tr>\n",
       "      <th>2</th>\n",
       "      <td>8cc8c611-a219-4f35-ad23-fdfd2656bd8a</td>\n",
       "    </tr>\n",
       "    <tr>\n",
       "      <th>3</th>\n",
       "      <td>0cc2df48-7cf4-4e39-9de9-19797f9b38cc</td>\n",
       "    </tr>\n",
       "    <tr>\n",
       "      <th>4</th>\n",
       "      <td>3256f628-e534-4826-9d63-4a8b88782852</td>\n",
       "    </tr>\n",
       "  </tbody>\n",
       "</table>\n",
       "</div>"
      ],
      "text/plain": [
       "                            Prospect ID\n",
       "0  7927b2df-8bba-4d29-b9a2-b6e0beafe620\n",
       "1  2a272436-5132-4136-86fa-dcc88c88f482\n",
       "2  8cc8c611-a219-4f35-ad23-fdfd2656bd8a\n",
       "3  0cc2df48-7cf4-4e39-9de9-19797f9b38cc\n",
       "4  3256f628-e534-4826-9d63-4a8b88782852"
      ]
     },
     "metadata": {},
     "execution_count": 16
    }
   ],
   "metadata": {}
  },
  {
   "cell_type": "code",
   "execution_count": 17,
   "source": [
    "print(df['Prospect ID'].unique().shape[0], df['Lead Number'].unique().shape[0])"
   ],
   "outputs": [
    {
     "output_type": "stream",
     "name": "stdout",
     "text": [
      "9240 9240\n"
     ]
    }
   ],
   "metadata": {}
  },
  {
   "cell_type": "markdown",
   "source": [
    "### LOC"
   ],
   "metadata": {}
  },
  {
   "cell_type": "code",
   "execution_count": 18,
   "source": [
    "df[COLS_LOC]"
   ],
   "outputs": [
    {
     "output_type": "execute_result",
     "data": {
      "text/html": [
       "<div>\n",
       "<style scoped>\n",
       "    .dataframe tbody tr th:only-of-type {\n",
       "        vertical-align: middle;\n",
       "    }\n",
       "\n",
       "    .dataframe tbody tr th {\n",
       "        vertical-align: top;\n",
       "    }\n",
       "\n",
       "    .dataframe thead th {\n",
       "        text-align: right;\n",
       "    }\n",
       "</style>\n",
       "<table border=\"1\" class=\"dataframe\">\n",
       "  <thead>\n",
       "    <tr style=\"text-align: right;\">\n",
       "      <th></th>\n",
       "      <th>Country</th>\n",
       "      <th>City</th>\n",
       "    </tr>\n",
       "  </thead>\n",
       "  <tbody>\n",
       "    <tr>\n",
       "      <th>0</th>\n",
       "      <td>NaN</td>\n",
       "      <td>Select</td>\n",
       "    </tr>\n",
       "    <tr>\n",
       "      <th>1</th>\n",
       "      <td>India</td>\n",
       "      <td>Select</td>\n",
       "    </tr>\n",
       "    <tr>\n",
       "      <th>2</th>\n",
       "      <td>India</td>\n",
       "      <td>Mumbai</td>\n",
       "    </tr>\n",
       "    <tr>\n",
       "      <th>3</th>\n",
       "      <td>India</td>\n",
       "      <td>Mumbai</td>\n",
       "    </tr>\n",
       "    <tr>\n",
       "      <th>4</th>\n",
       "      <td>India</td>\n",
       "      <td>Mumbai</td>\n",
       "    </tr>\n",
       "    <tr>\n",
       "      <th>...</th>\n",
       "      <td>...</td>\n",
       "      <td>...</td>\n",
       "    </tr>\n",
       "    <tr>\n",
       "      <th>9235</th>\n",
       "      <td>Saudi Arabia</td>\n",
       "      <td>Mumbai</td>\n",
       "    </tr>\n",
       "    <tr>\n",
       "      <th>9236</th>\n",
       "      <td>India</td>\n",
       "      <td>Mumbai</td>\n",
       "    </tr>\n",
       "    <tr>\n",
       "      <th>9237</th>\n",
       "      <td>India</td>\n",
       "      <td>Mumbai</td>\n",
       "    </tr>\n",
       "    <tr>\n",
       "      <th>9238</th>\n",
       "      <td>India</td>\n",
       "      <td>Other Metro Cities</td>\n",
       "    </tr>\n",
       "    <tr>\n",
       "      <th>9239</th>\n",
       "      <td>Bangladesh</td>\n",
       "      <td>Other Cities</td>\n",
       "    </tr>\n",
       "  </tbody>\n",
       "</table>\n",
       "<p>9240 rows × 2 columns</p>\n",
       "</div>"
      ],
      "text/plain": [
       "           Country                City\n",
       "0              NaN              Select\n",
       "1            India              Select\n",
       "2            India              Mumbai\n",
       "3            India              Mumbai\n",
       "4            India              Mumbai\n",
       "...            ...                 ...\n",
       "9235  Saudi Arabia              Mumbai\n",
       "9236         India              Mumbai\n",
       "9237         India              Mumbai\n",
       "9238         India  Other Metro Cities\n",
       "9239    Bangladesh        Other Cities\n",
       "\n",
       "[9240 rows x 2 columns]"
      ]
     },
     "metadata": {},
     "execution_count": 18
    }
   ],
   "metadata": {}
  },
  {
   "cell_type": "markdown",
   "source": [
    "### PROF"
   ],
   "metadata": {}
  },
  {
   "cell_type": "code",
   "execution_count": 19,
   "source": [
    "colInfo(df, COLS_AD)"
   ],
   "outputs": [
    {
     "output_type": "stream",
     "name": "stdout",
     "text": [
      "How did you hear about X Education: 11 : ['Select', 'Word Of Mouth', 'Other', nan, 'Online Search', 'Multiple Sources', 'Advertisements', 'Student of SomeSchool', 'Email', 'Social Media', 'SMS']\n",
      "Search: 2 : ['No', 'Yes']\n",
      "Magazine: 1 : ['No']\n",
      "Newspaper Article: 2 : ['No', 'Yes']\n",
      "X Education Forums: 2 : ['No', 'Yes']\n",
      "Newspaper: 2 : ['No', 'Yes']\n",
      "Digital Advertisement: 2 : ['No', 'Yes']\n",
      "Through Recommendations: 2 : ['No', 'Yes']\n"
     ]
    }
   ],
   "metadata": {}
  },
  {
   "cell_type": "code",
   "execution_count": 20,
   "source": [
    "df[COLS_PROF]"
   ],
   "outputs": [
    {
     "output_type": "execute_result",
     "data": {
      "text/html": [
       "<div>\n",
       "<style scoped>\n",
       "    .dataframe tbody tr th:only-of-type {\n",
       "        vertical-align: middle;\n",
       "    }\n",
       "\n",
       "    .dataframe tbody tr th {\n",
       "        vertical-align: top;\n",
       "    }\n",
       "\n",
       "    .dataframe thead th {\n",
       "        text-align: right;\n",
       "    }\n",
       "</style>\n",
       "<table border=\"1\" class=\"dataframe\">\n",
       "  <thead>\n",
       "    <tr style=\"text-align: right;\">\n",
       "      <th></th>\n",
       "      <th>Specialization</th>\n",
       "      <th>What is your current occupation</th>\n",
       "      <th>Specialization</th>\n",
       "      <th>What matters most to you in choosing a course</th>\n",
       "    </tr>\n",
       "  </thead>\n",
       "  <tbody>\n",
       "    <tr>\n",
       "      <th>0</th>\n",
       "      <td>Select</td>\n",
       "      <td>Unemployed</td>\n",
       "      <td>Select</td>\n",
       "      <td>Better Career Prospects</td>\n",
       "    </tr>\n",
       "    <tr>\n",
       "      <th>1</th>\n",
       "      <td>Select</td>\n",
       "      <td>Unemployed</td>\n",
       "      <td>Select</td>\n",
       "      <td>Better Career Prospects</td>\n",
       "    </tr>\n",
       "    <tr>\n",
       "      <th>2</th>\n",
       "      <td>Business Administration</td>\n",
       "      <td>Student</td>\n",
       "      <td>Business Administration</td>\n",
       "      <td>Better Career Prospects</td>\n",
       "    </tr>\n",
       "    <tr>\n",
       "      <th>3</th>\n",
       "      <td>Media and Advertising</td>\n",
       "      <td>Unemployed</td>\n",
       "      <td>Media and Advertising</td>\n",
       "      <td>Better Career Prospects</td>\n",
       "    </tr>\n",
       "    <tr>\n",
       "      <th>4</th>\n",
       "      <td>Select</td>\n",
       "      <td>Unemployed</td>\n",
       "      <td>Select</td>\n",
       "      <td>Better Career Prospects</td>\n",
       "    </tr>\n",
       "    <tr>\n",
       "      <th>...</th>\n",
       "      <td>...</td>\n",
       "      <td>...</td>\n",
       "      <td>...</td>\n",
       "      <td>...</td>\n",
       "    </tr>\n",
       "    <tr>\n",
       "      <th>9235</th>\n",
       "      <td>IT Projects Management</td>\n",
       "      <td>Unemployed</td>\n",
       "      <td>IT Projects Management</td>\n",
       "      <td>Better Career Prospects</td>\n",
       "    </tr>\n",
       "    <tr>\n",
       "      <th>9236</th>\n",
       "      <td>Media and Advertising</td>\n",
       "      <td>Unemployed</td>\n",
       "      <td>Media and Advertising</td>\n",
       "      <td>Better Career Prospects</td>\n",
       "    </tr>\n",
       "    <tr>\n",
       "      <th>9237</th>\n",
       "      <td>Business Administration</td>\n",
       "      <td>Unemployed</td>\n",
       "      <td>Business Administration</td>\n",
       "      <td>Better Career Prospects</td>\n",
       "    </tr>\n",
       "    <tr>\n",
       "      <th>9238</th>\n",
       "      <td>Human Resource Management</td>\n",
       "      <td>NaN</td>\n",
       "      <td>Human Resource Management</td>\n",
       "      <td>NaN</td>\n",
       "    </tr>\n",
       "    <tr>\n",
       "      <th>9239</th>\n",
       "      <td>Supply Chain Management</td>\n",
       "      <td>Unemployed</td>\n",
       "      <td>Supply Chain Management</td>\n",
       "      <td>Better Career Prospects</td>\n",
       "    </tr>\n",
       "  </tbody>\n",
       "</table>\n",
       "<p>9240 rows × 4 columns</p>\n",
       "</div>"
      ],
      "text/plain": [
       "                 Specialization What is your current occupation  \\\n",
       "0                        Select                      Unemployed   \n",
       "1                        Select                      Unemployed   \n",
       "2       Business Administration                         Student   \n",
       "3         Media and Advertising                      Unemployed   \n",
       "4                        Select                      Unemployed   \n",
       "...                         ...                             ...   \n",
       "9235     IT Projects Management                      Unemployed   \n",
       "9236      Media and Advertising                      Unemployed   \n",
       "9237    Business Administration                      Unemployed   \n",
       "9238  Human Resource Management                             NaN   \n",
       "9239    Supply Chain Management                      Unemployed   \n",
       "\n",
       "                 Specialization What matters most to you in choosing a course  \n",
       "0                        Select                       Better Career Prospects  \n",
       "1                        Select                       Better Career Prospects  \n",
       "2       Business Administration                       Better Career Prospects  \n",
       "3         Media and Advertising                       Better Career Prospects  \n",
       "4                        Select                       Better Career Prospects  \n",
       "...                         ...                                           ...  \n",
       "9235     IT Projects Management                       Better Career Prospects  \n",
       "9236      Media and Advertising                       Better Career Prospects  \n",
       "9237    Business Administration                       Better Career Prospects  \n",
       "9238  Human Resource Management                                           NaN  \n",
       "9239    Supply Chain Management                       Better Career Prospects  \n",
       "\n",
       "[9240 rows x 4 columns]"
      ]
     },
     "metadata": {},
     "execution_count": 20
    }
   ],
   "metadata": {}
  },
  {
   "cell_type": "markdown",
   "source": [
    "### AD"
   ],
   "metadata": {}
  },
  {
   "cell_type": "code",
   "execution_count": 21,
   "source": [
    "colInfo(df, COLS_AD)"
   ],
   "outputs": [
    {
     "output_type": "stream",
     "name": "stdout",
     "text": [
      "How did you hear about X Education: 11 : ['Select', 'Word Of Mouth', 'Other', nan, 'Online Search', 'Multiple Sources', 'Advertisements', 'Student of SomeSchool', 'Email', 'Social Media', 'SMS']\n",
      "Search: 2 : ['No', 'Yes']\n",
      "Magazine: 1 : ['No']\n",
      "Newspaper Article: 2 : ['No', 'Yes']\n",
      "X Education Forums: 2 : ['No', 'Yes']\n",
      "Newspaper: 2 : ['No', 'Yes']\n",
      "Digital Advertisement: 2 : ['No', 'Yes']\n",
      "Through Recommendations: 2 : ['No', 'Yes']\n"
     ]
    }
   ],
   "metadata": {}
  },
  {
   "cell_type": "markdown",
   "source": [
    "### COLUMNS_PREF\n",
    "Preferences of the lead"
   ],
   "metadata": {}
  },
  {
   "cell_type": "code",
   "execution_count": 22,
   "source": [
    "colInfo(df, COLS_PREF)"
   ],
   "outputs": [
    {
     "output_type": "stream",
     "name": "stdout",
     "text": [
      "Do Not Email: 2 : ['No', 'Yes']\n",
      "Do Not Call: 2 : ['No', 'Yes']\n",
      "Receive More Updates About Our Courses: 1 : ['No']\n",
      "Update me on Supply Chain Content: 1 : ['No']\n",
      "Get updates on DM Content: 1 : ['No']\n",
      "A free copy of Mastering The Interview: 2 : ['No', 'Yes']\n",
      "I agree to pay the amount through cheque: 1 : ['No']\n"
     ]
    }
   ],
   "metadata": {}
  },
  {
   "cell_type": "code",
   "execution_count": 23,
   "source": [
    "print(\"Do Not Email = No\\n\", df[df['Do Not Email']=='No']['Converted'].value_counts())\n",
    "print(\"Do Not Email = Yes\\n\", df[df['Do Not Email']=='Yes']['Converted'].value_counts())"
   ],
   "outputs": [
    {
     "output_type": "stream",
     "name": "stdout",
     "text": [
      "Do Not Email = No\n",
      " 0    5063\n",
      "1    3443\n",
      "Name: Converted, dtype: int64\n",
      "Do Not Email = Yes\n",
      " 0    616\n",
      "1    118\n",
      "Name: Converted, dtype: int64\n"
     ]
    }
   ],
   "metadata": {}
  },
  {
   "cell_type": "code",
   "execution_count": 24,
   "source": [
    "print(\"Do Not Call = No\\n\", df[df['Do Not Call']=='No']['Converted'].value_counts())\n",
    "print(\"Do Not Call = Yes\\n\", df[df['Do Not Call']=='Yes']['Converted'].value_counts())"
   ],
   "outputs": [
    {
     "output_type": "stream",
     "name": "stdout",
     "text": [
      "Do Not Call = No\n",
      " 0    5679\n",
      "1    3559\n",
      "Name: Converted, dtype: int64\n",
      "Do Not Call = Yes\n",
      " 1    2\n",
      "Name: Converted, dtype: int64\n"
     ]
    }
   ],
   "metadata": {}
  },
  {
   "cell_type": "code",
   "execution_count": 25,
   "source": [
    "df[df['Do Not Email']=='Yes']['Converted']"
   ],
   "outputs": [
    {
     "output_type": "execute_result",
     "data": {
      "text/plain": [
       "14      0\n",
       "41      0\n",
       "72      0\n",
       "127     0\n",
       "128     0\n",
       "       ..\n",
       "9216    0\n",
       "9218    0\n",
       "9225    0\n",
       "9235    1\n",
       "9237    0\n",
       "Name: Converted, Length: 734, dtype: int64"
      ]
     },
     "metadata": {},
     "execution_count": 25
    }
   ],
   "metadata": {}
  },
  {
   "cell_type": "markdown",
   "source": [
    "### OTHERS"
   ],
   "metadata": {}
  },
  {
   "cell_type": "markdown",
   "source": [
    "### ACTIVITY\n",
    "Activity of the lead - Indicator of candidate's interest.\n",
    "- Visits, Time spent: Higher the value, higher is the interest\n",
    "- Last Activity & Last Notable Activity share the same values except 'Converted to Lead' of Last Activity\n",
    "- Visits to the site and time spent on the website"
   ],
   "metadata": {}
  },
  {
   "cell_type": "code",
   "execution_count": 26,
   "source": [
    "colInfo(df, COS_ACTIVTIY)"
   ],
   "outputs": [
    {
     "output_type": "stream",
     "name": "stdout",
     "text": [
      "TotalVisits: 3 [0.0, 1.0, 3.0, 5.0, 251.0] \n",
      "Page Views Per Visit: 2 [0.0, 1.0, 2.0, 3.0, 55.0] \n",
      "Total Time Spent on Website: 488 [0.0, 12.0, 248.0, 936.0, 2272.0] \n",
      "Last Activity: 18 : ['Page Visited on Website', 'Email Opened', 'Unreachable', 'Converted to Lead', 'Olark Chat Conversation', 'Email Bounced', 'Email Link Clicked', 'Form Submitted on Website', 'Unsubscribed', 'Had a Phone Conversation', 'View in browser link Clicked', nan, 'Approached upfront', 'SMS Sent', 'Visited Booth in Tradeshow', 'Resubscribed to emails', 'Email Received', 'Email Marked Spam']\n",
      "Last Notable Activity: 16 : ['Approached upfront', 'Email Bounced', 'Email Link Clicked', 'Email Marked Spam', 'Email Opened', 'Email Received', 'Form Submitted on Website', 'Had a Phone Conversation', 'Modified', 'Olark Chat Conversation', 'Page Visited on Website', 'Resubscribed to emails', 'SMS Sent', 'Unreachable', 'Unsubscribed', 'View in browser link Clicked']\n"
     ]
    }
   ],
   "metadata": {}
  },
  {
   "cell_type": "code",
   "execution_count": 44,
   "source": [
    "plt.figure(figsize=(20, 6), dpi=80)\n",
    "ax = plt.subplot(1, 2, 1); \n",
    "df[df['Converted']==1].groupby('Last Activity').agg({'Last Activity':'count'}). \\\n",
    "        rename(columns={'Last Activity':'count'}).sort_values(by='count', ascending=False).plot.bar(ax=ax)#, ax=ax)\n",
    "ax.set_title(f\"Converted==1\")\n",
    "\n",
    "ax = plt.subplot(1, 2, 2); \n",
    "df[df['Converted']==0].groupby('Last Activity').agg({'Last Activity':'count'}). \\\n",
    "        rename(columns={'Last Activity':'count'}).sort_values(by='count', ascending=False).plot.bar(ax=ax)#, ax=ax)\n",
    "ax.set_title(f\"Converted==0\")"
   ],
   "outputs": [
    {
     "output_type": "execute_result",
     "data": {
      "text/plain": [
       "Text(0.5, 1.0, 'Converted==0')"
      ]
     },
     "metadata": {},
     "execution_count": 44
    },
    {
     "output_type": "display_data",
     "data": {
      "image/png": "[encoded data removed]",
      "text/plain": [
       "<Figure size 1600x480 with 2 Axes>"
      ]
     },
     "metadata": {
      "needs_background": "light"
     }
    }
   ],
   "metadata": {}
  },
  {
   "cell_type": "code",
   "execution_count": null,
   "source": [
    "plt.figure(figsize=(20, 4), dpi=80)\n",
    "ax = plt.subplot(2, 3, 1); df.boxplot(column='TotalVisits', by='Converted', ax=ax)\n",
    "ax = plt.subplot(2, 3, 2); df.boxplot(column='Page Views Per Visit', by='Converted', ax=ax)\n",
    "ax = plt.subplot(2, 3, 3); df.boxplot(column='Total Time Spent on Website', by='Converted', ax=ax)\n",
    "\n",
    "#ax = plt.subplot(2, 3, 4); df.plot.bar(x='Last Activity', by='Converted', ax=ax)\n",
    "#ax = plt.subplot(2, 3, 5); df.plot.bar(x='Last Notable Activity', by='Converted', ax=ax)\n",
    "#ax = plt.subplot(2, 3, 6); df.plot.bar(column='Total Time Spent on Website', by='Converted', ax=ax)"
   ],
   "outputs": [],
   "metadata": {}
  },
  {
   "cell_type": "markdown",
   "source": [
    "### Asymmetric Index and Score"
   ],
   "metadata": {}
  },
  {
   "cell_type": "code",
   "execution_count": null,
   "source": [
    "colInfo(df, COLS_ASYM)"
   ],
   "outputs": [],
   "metadata": {}
  },
  {
   "cell_type": "markdown",
   "source": [
    "### LEAD\n",
    "Lead related data - Where was the customer identified as a lead? Source, quality and level/profile of the lead\n"
   ],
   "metadata": {}
  },
  {
   "cell_type": "code",
   "execution_count": null,
   "source": [
    "colInfo(df, COLS_LEAD)"
   ],
   "outputs": [],
   "metadata": {}
  },
  {
   "cell_type": "code",
   "execution_count": null,
   "source": [
    "df[df['Converted']==1][COLS_LEAD + ['Lead Number']]"
   ],
   "outputs": [],
   "metadata": {}
  },
  {
   "cell_type": "markdown",
   "source": [
    "### How are customers who are converted to paid customers?\n",
    "What are the characteristics of the customers who are converted and not converted?"
   ],
   "metadata": {}
  },
  {
   "cell_type": "code",
   "execution_count": null,
   "source": [
    "TOTAL = df.shape[0]\n",
    "print(TOTAL)\n",
    "\n",
    "for value in df['Converted'].value_counts().index:\n",
    "    count = df['Converted'].value_counts()[value]\n",
    "    print(f\"{value:2}: {count} : {100 * count/TOTAL:6.2f}% \", end='')\n",
    "    print()\n"
   ],
   "outputs": [],
   "metadata": {}
  },
  {
   "cell_type": "code",
   "execution_count": null,
   "source": [
    "df[df['Converted']==1][COLS_ASYM]"
   ],
   "outputs": [],
   "metadata": {}
  },
  {
   "cell_type": "code",
   "execution_count": null,
   "source": [
    "df[COLUMNS_ASYM].plot.box(by='Converted', figsize = (10, 6));plt.show()"
   ],
   "outputs": [],
   "metadata": {}
  },
  {
   "cell_type": "code",
   "execution_count": null,
   "source": [
    "plt.figure(figsize=(20, 6), dpi=80)\n",
    "\n",
    "ax = plt.subplot(1, 2, 1); df.boxplot(column='Asymmetrique Activity Score', by='Converted', ax=ax)\n",
    "ax=plt.subplot(1, 2, 2); df.boxplot(column='Asymmetrique Profile Score', by='Converted', ax=ax)"
   ],
   "outputs": [],
   "metadata": {}
  },
  {
   "cell_type": "markdown",
   "source": [
    "## MISSING VALUES"
   ],
   "metadata": {}
  },
  {
   "cell_type": "code",
   "execution_count": null,
   "source": [
    "df[df.columns[df.isnull().any()]].info()"
   ],
   "outputs": [],
   "metadata": {}
  },
  {
   "cell_type": "code",
   "execution_count": null,
   "source": [
    "import missingno as msno\n",
    "msno.matrix(df)"
   ],
   "outputs": [],
   "metadata": {}
  },
  {
   "cell_type": "code",
   "execution_count": null,
   "source": [
    "msno.bar(df)"
   ],
   "outputs": [],
   "metadata": {}
  },
  {
   "cell_type": "code",
   "execution_count": null,
   "source": [
    "TOTAL = df.shape[0]\n",
    "print(TOTAL)\n",
    "for col in COLUMNS_NULL:\n",
    "    print(f\"{col:50}: {df[col].dtype.name:8}: {df[col].isnull().sum():6d} : {100 * df[col].isnull().sum()/TOTAL:6.2f}% \", end='')\n",
    "    #if df[col].dtype == 'object':\n",
    "    #    print(f\"{df[col].value_counts().index.tolist()}\",end='')\n",
    "    print()\n"
   ],
   "outputs": [],
   "metadata": {}
  },
  {
   "cell_type": "code",
   "execution_count": null,
   "source": [
    "df['Search'].value_counts()"
   ],
   "outputs": [],
   "metadata": {}
  },
  {
   "cell_type": "code",
   "execution_count": null,
   "source": [
    "df['Newspaper'].value_counts()"
   ],
   "outputs": [],
   "metadata": {}
  },
  {
   "cell_type": "code",
   "execution_count": null,
   "source": [
    "COLUMNS_LEAD = ['Lead Origin', 'Lead Source', 'Lead Quality']\n",
    "df[COLUMNS_LEAD]"
   ],
   "outputs": [],
   "metadata": {}
  },
  {
   "cell_type": "code",
   "execution_count": null,
   "source": [
    "COLUMNS_ADS = ['Search', 'Magazine', 'Newspaper Article', 'X Education Forums', 'Newspaper', 'Digital Advertisement']\n",
    "df[df[COLUMNS_ADS].isin(['Yes']).any(axis=1)][COLUMNS_ADS]"
   ],
   "outputs": [],
   "metadata": {}
  },
  {
   "cell_type": "code",
   "execution_count": null,
   "source": [
    "df['Asymmetrique Activity Index'].value_counts()"
   ],
   "outputs": [],
   "metadata": {}
  },
  {
   "cell_type": "code",
   "execution_count": null,
   "source": [
    "df['Asymmetrique Activity Score'].value_counts()"
   ],
   "outputs": [],
   "metadata": {}
  },
  {
   "cell_type": "code",
   "execution_count": null,
   "source": [
    "df[df['Asymmetrique Activity Index'].isnull()][['Lead Source', 'Lead Quality', 'Lead Profile', 'Asymmetrique Activity Index', 'Asymmetrique Activity Score','Asymmetrique Profile Index','Asymmetrique Profile Score']]"
   ],
   "outputs": [],
   "metadata": {}
  },
  {
   "cell_type": "code",
   "execution_count": null,
   "source": [
    "df['Lead Quality'].value_counts()"
   ],
   "outputs": [],
   "metadata": {}
  },
  {
   "cell_type": "code",
   "execution_count": null,
   "source": [
    "df[df['Specialization']=='Select'].shape[0]"
   ],
   "outputs": [],
   "metadata": {}
  },
  {
   "cell_type": "code",
   "execution_count": null,
   "source": [
    "for col in COLUMNS:\n",
    "    nan = df[col].isnull().sum()\n",
    "    select = df[df[col]=='Select'].shape[0]\n",
    "    if nan > 0 or select > 0:\n",
    "        print(f\"{col:50}: {nan:6d} : {100 * nan/TOTAL:6.2f}% : {select:4d} : {100 * select/TOTAL:6.2f}% : {df[col].dtype}\", end='')\n",
    "        #if df[col].dtype == 'object':\n",
    "        #    print(f\"{df[col].value_counts().index.tolist()}\",end='')\n",
    "        print()"
   ],
   "outputs": [],
   "metadata": {}
  },
  {
   "cell_type": "code",
   "execution_count": null,
   "source": [
    "print(df.shape[0])\n",
    "for col in ['Lead Source', 'TotalVisits', 'Page Views Per Visit', 'Last Activity']:\n",
    "    df.drop(df[df[col].isnull()].index, inplace=True)\n",
    "print(df.shape[0])"
   ],
   "outputs": [],
   "metadata": {}
  },
  {
   "cell_type": "code",
   "execution_count": null,
   "source": [
    "for col in COLUMNS:\n",
    "    nan = df[col].isnull().sum()\n",
    "    select = df[df[col]=='Select'].shape[0]\n",
    "    if nan > 0 or select > 0:\n",
    "        print(f\"{col:50}: {nan:6d} : {100 * nan/TOTAL:6.2f}% : {select:4d} : {100 * select/TOTAL:6.2f}% : {df[col].dtype}\", end='')\n",
    "        #if df[col].dtype == 'object':\n",
    "        #    print(f\"{df[col].value_counts().index.tolist()}\",end='')\n",
    "        print()"
   ],
   "outputs": [],
   "metadata": {}
  },
  {
   "cell_type": "code",
   "execution_count": null,
   "source": [
    "df['Country'].value_counts()\n",
    "# Impute null values to unknown?"
   ],
   "outputs": [],
   "metadata": {}
  },
  {
   "cell_type": "code",
   "execution_count": null,
   "source": [
    "df['City'].value_counts()"
   ],
   "outputs": [],
   "metadata": {}
  },
  {
   "cell_type": "code",
   "execution_count": null,
   "source": [
    "df['Lead Profile'].value_counts()\n",
    "# Impute it to Other Leads?"
   ],
   "outputs": [],
   "metadata": {}
  },
  {
   "cell_type": "code",
   "execution_count": null,
   "source": [
    "df['Lead Quality'].value_counts()\n",
    "# Impute it to 'Not Sure'??"
   ],
   "outputs": [],
   "metadata": {}
  },
  {
   "cell_type": "code",
   "execution_count": null,
   "source": [
    "df['Tags'].value_counts()"
   ],
   "outputs": [],
   "metadata": {}
  },
  {
   "cell_type": "code",
   "execution_count": null,
   "source": [
    "df['What matters most to you in choosing a course'].value_counts()\n",
    "# TODO: Impute this with 'Other'?"
   ],
   "outputs": [],
   "metadata": {}
  },
  {
   "cell_type": "code",
   "execution_count": null,
   "source": [
    "df['What is your current occupation'].value_counts()\n",
    "# TODO: Impute this with 'Other'?"
   ],
   "outputs": [],
   "metadata": {}
  },
  {
   "cell_type": "code",
   "execution_count": null,
   "source": [
    "df['How did you hear about X Education'].value_counts()\n",
    "# TODO: Impute this with 'Other'?"
   ],
   "outputs": [],
   "metadata": {}
  },
  {
   "cell_type": "code",
   "execution_count": null,
   "source": [
    "df['Prospect ID'].unique().shape[0]\n",
    "# This can be dropped fro the model"
   ],
   "outputs": [],
   "metadata": {}
  },
  {
   "cell_type": "code",
   "execution_count": null,
   "source": [
    "df['Lead Number'].unique().shape[0]\n",
    "# This can be dropped fro the model"
   ],
   "outputs": [],
   "metadata": {}
  },
  {
   "cell_type": "code",
   "execution_count": null,
   "source": [
    "df['Specialization'].value_counts()\n",
    "# TODO: Impute this with ??"
   ],
   "outputs": [],
   "metadata": {}
  },
  {
   "cell_type": "code",
   "execution_count": null,
   "source": [
    "df[(df['Country'].isnull()) & (~df['City'].isnull()) & (df['City']!='Select')][['City']].value_counts()"
   ],
   "outputs": [],
   "metadata": {}
  },
  {
   "cell_type": "code",
   "execution_count": null,
   "source": [
    "import seaborn as sns\n",
    "\n",
    "sns.heatmap(df.corr())"
   ],
   "outputs": [],
   "metadata": {}
  },
  {
   "cell_type": "code",
   "execution_count": null,
   "source": [
    "sns.pairplot(data=df)"
   ],
   "outputs": [],
   "metadata": {}
  },
  {
   "cell_type": "code",
   "execution_count": null,
   "source": [
    "df.plot.bar(x='Country')"
   ],
   "outputs": [],
   "metadata": {}
  }
 ],
 "metadata": {
  "orig_nbformat": 4,
  "language_info": {
   "name": "python",
   "version": "3.7.9",
   "mimetype": "text/x-python",
   "codemirror_mode": {
    "name": "ipython",
    "version": 3
   },
   "pygments_lexer": "ipython3",
   "nbconvert_exporter": "python",
   "file_extension": ".py"
  },
  "kernelspec": {
   "name": "python3",
   "display_name": "Python 3.7.9 64-bit ('venv': venv)"
  },
  "interpreter": {
   "hash": "463f37f76014c32d3df853a5b5c126f8251977df1642d173ac15ea7b0c7e9d84"
  }
 },
 "nbformat": 4,
 "nbformat_minor": 2
}