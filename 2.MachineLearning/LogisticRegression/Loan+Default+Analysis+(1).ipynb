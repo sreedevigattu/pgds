{
 "cells": [
  {
   "cell_type": "markdown",
   "source": [
    "# <b> Problem Statement </b>\n",
    "\n",
    "\n",
    "You work as a Business Analytics Consultant at the Bank of Corporate.The bank was witnessing slower than usual growth in its book of business for the most recent quarter in 2018. The bank provides financial services/products such as savings accounts, current accounts, debit cards, etc. to its customer. The data suggested that it was the home loan business of the bank that was hit by a major loss. Now, loans are the core business of banks. The main profit comes directly from the loan’s interest. The head of the Home Loan business asked the heads of the Sales, Operations, Risk and Analytics teams to investigate and identify the root causes for the slowing growth and solve the problem. A business like selling Home Loans can grow or shrink based on several factors like demand or supply side. Some of the reasons are:\n",
    "\n",
    "- <b> Demand Side: </b> Are interest rates high?\n",
    "- <b> Demand Side: </b> Are there any macro economic reasons, such as recession or low salary growth or inflation?\n",
    "- <b> Supply Side: </b> Are new and attractive housing projects not available in the markets being served?\n",
    "- <b> Supply Side: </b> Have real estate prices shot up making homes unaffordable, relatively speaking?\n",
    "- <b> Competitor Side: </b> Are we losing customers to our competition? Is our competition also facing lower growth?\n",
    "\n",
    "\n",
    "\n",
    "The team found out that the credit risk was in abnormal standards and the default loan rates were high. So what do you mean by default loans and credit risk?\n",
    "\n",
    "<b> Deafult loans : </b> <br>\n",
    "Default is the failure to repay a loan according to the terms agreed to in the promissory note. For most federal student loans, you will default if you have not made a payment in more than 270 days.\n",
    "\n",
    "<b> Credit risk : </b> <br>\n",
    "It is understood simply as the risk a bank takes while lending out money to borrowers. They might default and fail to repay the dues in time and these results in losses to the bank. \n",
    "\n",
    "## <b> So, what do banks do then? </b> <br>\n",
    "They need to manage their credit risks. The goal of credit risk management in banks is to maintain credit risk exposure within proper and acceptable parameters. It is the practice of mitigating losses by understanding the adequacy of a bank’s capital and loan loss reserves at any given time. For this, banks not only need to manage the entire portfolio but also individual credits.\n",
    "\n",
    "## <b> Measures taken </b> <br>\n",
    "So in 2019, the bank came up with a project to build a \"Credit risk estimate model\" for its home loan branch.The loan should be granted after an intensive process of verification and validation. The dataset (provided below) contains the information about all the customers who were contacted during this year and were provided loans based on various parameters. The \"Credit risk estimate model\" need to be cost-efficient so that the bank not only decreases their credit risk but also increase the total profit.\n",
    "\n",
    "\n",
    "## <b> Business objective </b> <br>\n",
    "\n",
    "Your aim is to build the \"Credit risk estimate model\" to classify new loans availed as \"Low Risk\", \"High Risk\" and \"Medium Risk\". This will help the bank to sanction loans to \"Low Risk\" customers, following up with the latest information/data for the \"Medium Risk\" customers and reject the loan approval for \"High Risk\" customers."
   ],
   "metadata": {}
  },
  {
   "cell_type": "markdown",
   "source": [
    "## <b> Read the dataset"
   ],
   "metadata": {}
  },
  {
   "cell_type": "code",
   "execution_count": 54,
   "source": [
    "#Import the libraries\n",
    "import pandas as pd\n",
    "import numpy as np\n",
    "\n",
    "#Load the loan dataset\n",
    "df = pd.read_csv(\"../data/loan2.csv\")\n",
    "\n",
    "#Details of the dataset\n",
    "df.info()"
   ],
   "outputs": [
    {
     "output_type": "stream",
     "name": "stdout",
     "text": [
      "<class 'pandas.core.frame.DataFrame'>\n",
      "RangeIndex: 38642 entries, 0 to 38641\n",
      "Data columns (total 8 columns):\n",
      " #   Column       Non-Null Count  Dtype  \n",
      "---  ------       --------------  -----  \n",
      " 0   id           38642 non-null  int64  \n",
      " 1   loan_amnt    38642 non-null  int64  \n",
      " 2   funded_amnt  38642 non-null  int64  \n",
      " 3   int_rate     38642 non-null  float64\n",
      " 4   installment  38642 non-null  float64\n",
      " 5   emp_length   38642 non-null  int64  \n",
      " 6   annual_inc   38642 non-null  float64\n",
      " 7   loan_status  38642 non-null  object \n",
      "dtypes: float64(3), int64(4), object(1)\n",
      "memory usage: 2.4+ MB\n"
     ]
    }
   ],
   "metadata": {}
  },
  {
   "cell_type": "markdown",
   "source": [
    "The dataset has the following columns: </b>\n",
    "\n",
    "<b> id : </b>Transaction ID use to identify each transaction uniquely <br>\n",
    "<b> loan_amnt : </b> Loan amount that was requested by the customer <br>\n",
    "<b> funded_amnt : </b>Amount that was sanctioned by the bank <br>\n",
    "<b> int_rate : </b> Interest rate offered on the loan amount <br>\n",
    "<b> installment : </b>Amount of money paid during each installment <br>\n",
    "<b> emp_length :  </b> Work experience (employment length of the customer)  <br>\n",
    "<b> annual_inc : </b>What is the annual income of the customer<br>\n",
    "<b> loan_status : </b> Classified as whether it is \"High Risk\", \"Low Risk\" and \"Medium Risk\" <br>"
   ],
   "metadata": {}
  },
  {
   "cell_type": "code",
   "execution_count": 55,
   "source": [
    "#Check the details of the dataset\n",
    "df.head()"
   ],
   "outputs": [
    {
     "output_type": "execute_result",
     "data": {
      "text/html": [
       "<div>\n",
       "<style scoped>\n",
       "    .dataframe tbody tr th:only-of-type {\n",
       "        vertical-align: middle;\n",
       "    }\n",
       "\n",
       "    .dataframe tbody tr th {\n",
       "        vertical-align: top;\n",
       "    }\n",
       "\n",
       "    .dataframe thead th {\n",
       "        text-align: right;\n",
       "    }\n",
       "</style>\n",
       "<table border=\"1\" class=\"dataframe\">\n",
       "  <thead>\n",
       "    <tr style=\"text-align: right;\">\n",
       "      <th></th>\n",
       "      <th>id</th>\n",
       "      <th>loan_amnt</th>\n",
       "      <th>funded_amnt</th>\n",
       "      <th>int_rate</th>\n",
       "      <th>installment</th>\n",
       "      <th>emp_length</th>\n",
       "      <th>annual_inc</th>\n",
       "      <th>loan_status</th>\n",
       "    </tr>\n",
       "  </thead>\n",
       "  <tbody>\n",
       "    <tr>\n",
       "      <th>0</th>\n",
       "      <td>1077501</td>\n",
       "      <td>5000</td>\n",
       "      <td>5000</td>\n",
       "      <td>10.65</td>\n",
       "      <td>162.87</td>\n",
       "      <td>10</td>\n",
       "      <td>24000.0</td>\n",
       "      <td>Low Risk</td>\n",
       "    </tr>\n",
       "    <tr>\n",
       "      <th>1</th>\n",
       "      <td>1077430</td>\n",
       "      <td>2500</td>\n",
       "      <td>2500</td>\n",
       "      <td>15.27</td>\n",
       "      <td>59.83</td>\n",
       "      <td>1</td>\n",
       "      <td>30000.0</td>\n",
       "      <td>High Risk</td>\n",
       "    </tr>\n",
       "    <tr>\n",
       "      <th>2</th>\n",
       "      <td>1077175</td>\n",
       "      <td>2400</td>\n",
       "      <td>2400</td>\n",
       "      <td>15.96</td>\n",
       "      <td>84.33</td>\n",
       "      <td>10</td>\n",
       "      <td>12252.0</td>\n",
       "      <td>Low Risk</td>\n",
       "    </tr>\n",
       "    <tr>\n",
       "      <th>3</th>\n",
       "      <td>1076863</td>\n",
       "      <td>10000</td>\n",
       "      <td>10000</td>\n",
       "      <td>13.49</td>\n",
       "      <td>339.31</td>\n",
       "      <td>10</td>\n",
       "      <td>49200.0</td>\n",
       "      <td>Low Risk</td>\n",
       "    </tr>\n",
       "    <tr>\n",
       "      <th>4</th>\n",
       "      <td>1075358</td>\n",
       "      <td>3000</td>\n",
       "      <td>3000</td>\n",
       "      <td>12.69</td>\n",
       "      <td>67.79</td>\n",
       "      <td>1</td>\n",
       "      <td>80000.0</td>\n",
       "      <td>Medium Risk</td>\n",
       "    </tr>\n",
       "  </tbody>\n",
       "</table>\n",
       "</div>"
      ],
      "text/plain": [
       "        id  loan_amnt  funded_amnt  int_rate  installment  emp_length  \\\n",
       "0  1077501       5000         5000     10.65       162.87          10   \n",
       "1  1077430       2500         2500     15.27        59.83           1   \n",
       "2  1077175       2400         2400     15.96        84.33          10   \n",
       "3  1076863      10000        10000     13.49       339.31          10   \n",
       "4  1075358       3000         3000     12.69        67.79           1   \n",
       "\n",
       "   annual_inc  loan_status  \n",
       "0     24000.0     Low Risk  \n",
       "1     30000.0    High Risk  \n",
       "2     12252.0     Low Risk  \n",
       "3     49200.0     Low Risk  \n",
       "4     80000.0  Medium Risk  "
      ]
     },
     "metadata": {},
     "execution_count": 55
    }
   ],
   "metadata": {}
  },
  {
   "cell_type": "code",
   "execution_count": 56,
   "source": [
    "# Distribution of the target variable\n",
    "df['loan_status'].value_counts()"
   ],
   "outputs": [
    {
     "output_type": "execute_result",
     "data": {
      "text/plain": [
       "Low Risk       32145\n",
       "High Risk       5399\n",
       "Medium Risk     1098\n",
       "Name: loan_status, dtype: int64"
      ]
     },
     "metadata": {},
     "execution_count": 56
    }
   ],
   "metadata": {}
  },
  {
   "cell_type": "markdown",
   "source": [
    "## <b> Data Cleaning </b>"
   ],
   "metadata": {}
  },
  {
   "cell_type": "code",
   "execution_count": 57,
   "source": [
    "#Check for null values\n",
    "df.isnull().sum()"
   ],
   "outputs": [
    {
     "output_type": "execute_result",
     "data": {
      "text/plain": [
       "id             0\n",
       "loan_amnt      0\n",
       "funded_amnt    0\n",
       "int_rate       0\n",
       "installment    0\n",
       "emp_length     0\n",
       "annual_inc     0\n",
       "loan_status    0\n",
       "dtype: int64"
      ]
     },
     "metadata": {},
     "execution_count": 57
    }
   ],
   "metadata": {}
  },
  {
   "cell_type": "code",
   "execution_count": 58,
   "source": [
    "#Check for duplicate values\n",
    "df.duplicated().sum()"
   ],
   "outputs": [
    {
     "output_type": "execute_result",
     "data": {
      "text/plain": [
       "0"
      ]
     },
     "metadata": {},
     "execution_count": 58
    }
   ],
   "metadata": {}
  },
  {
   "cell_type": "markdown",
   "source": [
    "## <b> Feature Creation </b>\n",
    "<b> funded_amnt: </b> Percentage of amount sanctioned compared to the total loan amount. Higher the value, it states that the bank is positive in lending the loan to the customer. <br>\n",
    "<b> incToloan_perc: </b> Percentage of annual income when compared to the loan amount. Higher the value it states that the customer is more likely to pay back without defaulting."
   ],
   "metadata": {}
  },
  {
   "cell_type": "code",
   "execution_count": 59,
   "source": [
    "# Adding new variables  \n",
    "# fund_perc variable represents the ratio of funded amount wrt loan amount\n",
    "df['fund_perc'] = df['funded_amnt']/df['loan_amnt']\n",
    "\n",
    "#incToloan_perc variable represent the ratio of annula income wrt loan amount\n",
    "df['incToloan_perc'] = df['annual_inc']/df['loan_amnt']"
   ],
   "outputs": [],
   "metadata": {}
  },
  {
   "cell_type": "code",
   "execution_count": 60,
   "source": [
    "# Understanding distribution of all the numerical variables in dataset\n",
    "df.describe().round(2).transpose()"
   ],
   "outputs": [
    {
     "output_type": "execute_result",
     "data": {
      "text/html": [
       "<div>\n",
       "<style scoped>\n",
       "    .dataframe tbody tr th:only-of-type {\n",
       "        vertical-align: middle;\n",
       "    }\n",
       "\n",
       "    .dataframe tbody tr th {\n",
       "        vertical-align: top;\n",
       "    }\n",
       "\n",
       "    .dataframe thead th {\n",
       "        text-align: right;\n",
       "    }\n",
       "</style>\n",
       "<table border=\"1\" class=\"dataframe\">\n",
       "  <thead>\n",
       "    <tr style=\"text-align: right;\">\n",
       "      <th></th>\n",
       "      <th>count</th>\n",
       "      <th>mean</th>\n",
       "      <th>std</th>\n",
       "      <th>min</th>\n",
       "      <th>25%</th>\n",
       "      <th>50%</th>\n",
       "      <th>75%</th>\n",
       "      <th>max</th>\n",
       "    </tr>\n",
       "  </thead>\n",
       "  <tbody>\n",
       "    <tr>\n",
       "      <th>id</th>\n",
       "      <td>38642.0</td>\n",
       "      <td>681040.36</td>\n",
       "      <td>211304.55</td>\n",
       "      <td>54734.00</td>\n",
       "      <td>513435.00</td>\n",
       "      <td>662770.50</td>\n",
       "      <td>836491.25</td>\n",
       "      <td>1077501.00</td>\n",
       "    </tr>\n",
       "    <tr>\n",
       "      <th>loan_amnt</th>\n",
       "      <td>38642.0</td>\n",
       "      <td>11291.62</td>\n",
       "      <td>7462.14</td>\n",
       "      <td>500.00</td>\n",
       "      <td>5500.00</td>\n",
       "      <td>10000.00</td>\n",
       "      <td>15000.00</td>\n",
       "      <td>35000.00</td>\n",
       "    </tr>\n",
       "    <tr>\n",
       "      <th>funded_amnt</th>\n",
       "      <td>38642.0</td>\n",
       "      <td>11017.10</td>\n",
       "      <td>7193.04</td>\n",
       "      <td>500.00</td>\n",
       "      <td>5500.00</td>\n",
       "      <td>9950.00</td>\n",
       "      <td>15000.00</td>\n",
       "      <td>35000.00</td>\n",
       "    </tr>\n",
       "    <tr>\n",
       "      <th>int_rate</th>\n",
       "      <td>38642.0</td>\n",
       "      <td>12.05</td>\n",
       "      <td>3.72</td>\n",
       "      <td>5.42</td>\n",
       "      <td>9.32</td>\n",
       "      <td>11.86</td>\n",
       "      <td>14.59</td>\n",
       "      <td>24.59</td>\n",
       "    </tr>\n",
       "    <tr>\n",
       "      <th>installment</th>\n",
       "      <td>38642.0</td>\n",
       "      <td>326.76</td>\n",
       "      <td>209.14</td>\n",
       "      <td>15.69</td>\n",
       "      <td>168.44</td>\n",
       "      <td>282.83</td>\n",
       "      <td>434.40</td>\n",
       "      <td>1305.19</td>\n",
       "    </tr>\n",
       "    <tr>\n",
       "      <th>emp_length</th>\n",
       "      <td>38642.0</td>\n",
       "      <td>5.09</td>\n",
       "      <td>3.41</td>\n",
       "      <td>1.00</td>\n",
       "      <td>2.00</td>\n",
       "      <td>4.00</td>\n",
       "      <td>9.00</td>\n",
       "      <td>10.00</td>\n",
       "    </tr>\n",
       "    <tr>\n",
       "      <th>annual_inc</th>\n",
       "      <td>38642.0</td>\n",
       "      <td>69608.28</td>\n",
       "      <td>64253.20</td>\n",
       "      <td>4000.00</td>\n",
       "      <td>41400.00</td>\n",
       "      <td>60000.00</td>\n",
       "      <td>83199.99</td>\n",
       "      <td>6000000.00</td>\n",
       "    </tr>\n",
       "    <tr>\n",
       "      <th>fund_perc</th>\n",
       "      <td>38642.0</td>\n",
       "      <td>0.99</td>\n",
       "      <td>0.07</td>\n",
       "      <td>0.10</td>\n",
       "      <td>1.00</td>\n",
       "      <td>1.00</td>\n",
       "      <td>1.00</td>\n",
       "      <td>1.00</td>\n",
       "    </tr>\n",
       "    <tr>\n",
       "      <th>incToloan_perc</th>\n",
       "      <td>38642.0</td>\n",
       "      <td>8.92</td>\n",
       "      <td>13.85</td>\n",
       "      <td>1.20</td>\n",
       "      <td>4.00</td>\n",
       "      <td>6.07</td>\n",
       "      <td>10.02</td>\n",
       "      <td>1266.67</td>\n",
       "    </tr>\n",
       "  </tbody>\n",
       "</table>\n",
       "</div>"
      ],
      "text/plain": [
       "                  count       mean        std       min        25%        50%  \\\n",
       "id              38642.0  681040.36  211304.55  54734.00  513435.00  662770.50   \n",
       "loan_amnt       38642.0   11291.62    7462.14    500.00    5500.00   10000.00   \n",
       "funded_amnt     38642.0   11017.10    7193.04    500.00    5500.00    9950.00   \n",
       "int_rate        38642.0      12.05       3.72      5.42       9.32      11.86   \n",
       "installment     38642.0     326.76     209.14     15.69     168.44     282.83   \n",
       "emp_length      38642.0       5.09       3.41      1.00       2.00       4.00   \n",
       "annual_inc      38642.0   69608.28   64253.20   4000.00   41400.00   60000.00   \n",
       "fund_perc       38642.0       0.99       0.07      0.10       1.00       1.00   \n",
       "incToloan_perc  38642.0       8.92      13.85      1.20       4.00       6.07   \n",
       "\n",
       "                      75%         max  \n",
       "id              836491.25  1077501.00  \n",
       "loan_amnt        15000.00    35000.00  \n",
       "funded_amnt      15000.00    35000.00  \n",
       "int_rate            14.59       24.59  \n",
       "installment        434.40     1305.19  \n",
       "emp_length           9.00       10.00  \n",
       "annual_inc       83199.99  6000000.00  \n",
       "fund_perc            1.00        1.00  \n",
       "incToloan_perc      10.02     1266.67  "
      ]
     },
     "metadata": {},
     "execution_count": 60
    }
   ],
   "metadata": {}
  },
  {
   "cell_type": "code",
   "execution_count": 61,
   "source": [
    "#column names\n",
    "df.columns"
   ],
   "outputs": [
    {
     "output_type": "execute_result",
     "data": {
      "text/plain": [
       "Index(['id', 'loan_amnt', 'funded_amnt', 'int_rate', 'installment',\n",
       "       'emp_length', 'annual_inc', 'loan_status', 'fund_perc',\n",
       "       'incToloan_perc'],\n",
       "      dtype='object')"
      ]
     },
     "metadata": {},
     "execution_count": 61
    }
   ],
   "metadata": {}
  },
  {
   "cell_type": "markdown",
   "source": [
    "## <b> Train-Test Split"
   ],
   "metadata": {}
  },
  {
   "cell_type": "code",
   "execution_count": 62,
   "source": [
    "# choosing all the numerical variables as independent variables (classifier can only take numerical input)\n",
    "# dropping two variable funded_amnt as we have created new variable transformation based on it \n",
    "X = df.select_dtypes(np.number).drop(['id','funded_amnt'], axis=1)\n",
    "\n",
    "#Dependent variable representing status of the loan\n",
    "y = df['loan_status']\n",
    "\n",
    "#splitting the dataset in train and test datasets using a split ratio of 70:30\n",
    "from sklearn.model_selection import train_test_split\n",
    "X_train, X_test, y_train, y_test = train_test_split(X, y, test_size=30, random_state=10)\n",
    "\n",
    "# standardizing all the variables using standard scaler\n",
    "from sklearn.preprocessing import StandardScaler\n",
    "scaler = StandardScaler()\n",
    "X_train_scaled = scaler.fit_transform(X_train)\n",
    "X_test_scaled = scaler.transform(X_test)\n"
   ],
   "outputs": [],
   "metadata": {}
  },
  {
   "cell_type": "markdown",
   "source": [
    "## <b> Model Building"
   ],
   "metadata": {}
  },
  {
   "cell_type": "code",
   "execution_count": 63,
   "source": [
    "from sklearn.linear_model import LogisticRegression \n",
    "from sklearn.multiclass import OneVsRestClassifier, OneVsOneClassifier\n",
    "from sklearn.svm import SVC\n",
    "from sklearn.metrics import accuracy_score, classification_report\n",
    "from sklearn.model_selection import train_test_split\n",
    "import warnings"
   ],
   "outputs": [],
   "metadata": {}
  },
  {
   "cell_type": "code",
   "execution_count": 64,
   "source": [
    "\n",
    "# Building a classification model using one vs rest method\n",
    "LR = LogisticRegression()\n",
    "oneVsRest = OneVsRestClassifier(LR)\n",
    "\n",
    "# Fitting the model with training data\n",
    "oneVsRest.fit(X_train_scaled, y_train)"
   ],
   "outputs": [
    {
     "output_type": "execute_result",
     "data": {
      "text/plain": [
       "OneVsRestClassifier(estimator=LogisticRegression())"
      ]
     },
     "metadata": {},
     "execution_count": 64
    }
   ],
   "metadata": {}
  },
  {
   "cell_type": "markdown",
   "source": [
    "## <b>Step 3 : </b>\n",
    "<b> Model Prediction </b>"
   ],
   "metadata": {}
  },
  {
   "cell_type": "code",
   "execution_count": 65,
   "source": [
    "# Making a prediction on the test set\n",
    "prediction_oneVsRest = oneVsRest.predict(X_test_scaled)\n",
    "   \n",
    "# Evaluating the model\n",
    "print(f\"Test set accuracy : {accuracy_score(y_test, prediction_oneVsRest)*100}%\\n\\n\")\n",
    "print(f\"Classification report: \\n\\n {classification_report(y_test, prediction_oneVsRest)}\")"
   ],
   "outputs": [
    {
     "output_type": "stream",
     "name": "stdout",
     "text": [
      "Test set accuracy : 83.33333333333334%\n",
      "\n",
      "\n",
      "Classification report: \n",
      "\n",
      "               precision    recall  f1-score   support\n",
      "\n",
      "   High Risk       0.00      0.00      0.00         4\n",
      "    Low Risk       0.83      1.00      0.91        25\n",
      " Medium Risk       0.00      0.00      0.00         1\n",
      "\n",
      "    accuracy                           0.83        30\n",
      "   macro avg       0.28      0.33      0.30        30\n",
      "weighted avg       0.69      0.83      0.76        30\n",
      "\n"
     ]
    },
    {
     "output_type": "stream",
     "name": "stderr",
     "text": [
      "/Users/sreedevigattu/sree/PGDS/MachineLearning/venv/lib/python3.7/site-packages/sklearn/metrics/_classification.py:1248: UndefinedMetricWarning: Precision and F-score are ill-defined and being set to 0.0 in labels with no predicted samples. Use `zero_division` parameter to control this behavior.\n",
      "  _warn_prf(average, modifier, msg_start, len(result))\n",
      "/Users/sreedevigattu/sree/PGDS/MachineLearning/venv/lib/python3.7/site-packages/sklearn/metrics/_classification.py:1248: UndefinedMetricWarning: Precision and F-score are ill-defined and being set to 0.0 in labels with no predicted samples. Use `zero_division` parameter to control this behavior.\n",
      "  _warn_prf(average, modifier, msg_start, len(result))\n",
      "/Users/sreedevigattu/sree/PGDS/MachineLearning/venv/lib/python3.7/site-packages/sklearn/metrics/_classification.py:1248: UndefinedMetricWarning: Precision and F-score are ill-defined and being set to 0.0 in labels with no predicted samples. Use `zero_division` parameter to control this behavior.\n",
      "  _warn_prf(average, modifier, msg_start, len(result))\n"
     ]
    }
   ],
   "metadata": {}
  },
  {
   "cell_type": "markdown",
   "source": [
    "<b> Accuracy : </b> Accuracy is the most intuitive performance measure and it is simply a ratio of correctly predicted observation to the total observations.The formula is given as: <br>\n",
    "<b> *Accuracy = True Positives + True Negatives/True Positives+False Positives+False Negatives+True Positives* </b> <br> <br>\n",
    "<b> Precision : </b> The quality of being exact and refers to how close two or more measurements are to each other, regardless of whether those measurements are accurate or not. The formula is : <br>\n",
    "<b> *Precision = True Positives / (True Positives + False Positives)* </b> <br> <br>\n",
    "<b> Recall : </b> It is calculated as the number of true positives divided by the total number of true positives and false negatives. The result is a value between 0.0 for no recall and 1.0 for full or perfect recall. The formula is : <br>\n",
    "<b> *Recall = True Positives / (True Positives + False Negatives)* </b> <br> <br>\n",
    "<b> F1 score : </b> F1 Score is the weighted average of Precision and Recall. Therefore, this score takes both false positives and false negatives into account.The highest possible value of an F-score is 1.0, indicating perfect precision and recall, and the lowest possible value is 0, if either the precision or the recall is zero. The formula is : <br>\n",
    "<b> *F1 score = 2\\*((precision\\*recall)/(precision+recall))* </b> <br> <br>"
   ],
   "metadata": {}
  },
  {
   "cell_type": "markdown",
   "source": [
    "## <b>Analysing the probabilties and classification values </b>"
   ],
   "metadata": {}
  },
  {
   "cell_type": "code",
   "execution_count": 66,
   "source": [
    "# Adding followig variables to the test dataset\n",
    "\n",
    "#Scaled feature array\n",
    "X_test['Scaled_features'] = X_test_scaled.tolist()\n",
    "\n",
    "#Actual target variable\n",
    "X_test['Actual'] = y_test\n",
    "\n",
    "#OnevsRest target prediction\n",
    "X_test['prediction_oneVsRest'] = prediction_oneVsRest\n",
    "\n",
    "#OnevsRest probability prediction\n",
    "X_test['prob_pred_oneVsRest'] = oneVsRest.predict_proba(X_test_scaled).tolist()\n",
    "\n",
    "#OnevsRest individual class prediction probabilities\n",
    "X_test['prob_pred_oneVsRest_highRisk'] = oneVsRest.predict_proba(X_test_scaled)[:,0].tolist()\n",
    "X_test['prob_pred_oneVsRest_lowRisk'] = oneVsRest.predict_proba(X_test_scaled)[:,1].tolist()\n",
    "X_test['prob_pred_oneVsRest_mediumRisk'] = oneVsRest.predict_proba(X_test_scaled)[:,2].tolist()\n",
    "\n",
    "X_test.head()"
   ],
   "outputs": [
    {
     "output_type": "stream",
     "name": "stderr",
     "text": [
      "/Users/sreedevigattu/sree/PGDS/MachineLearning/venv/lib/python3.7/site-packages/ipykernel_launcher.py:4: SettingWithCopyWarning: \n",
      "A value is trying to be set on a copy of a slice from a DataFrame.\n",
      "Try using .loc[row_indexer,col_indexer] = value instead\n",
      "\n",
      "See the caveats in the documentation: https://pandas.pydata.org/pandas-docs/stable/user_guide/indexing.html#returning-a-view-versus-a-copy\n",
      "  after removing the cwd from sys.path.\n",
      "/Users/sreedevigattu/sree/PGDS/MachineLearning/venv/lib/python3.7/site-packages/ipykernel_launcher.py:7: SettingWithCopyWarning: \n",
      "A value is trying to be set on a copy of a slice from a DataFrame.\n",
      "Try using .loc[row_indexer,col_indexer] = value instead\n",
      "\n",
      "See the caveats in the documentation: https://pandas.pydata.org/pandas-docs/stable/user_guide/indexing.html#returning-a-view-versus-a-copy\n",
      "  import sys\n",
      "/Users/sreedevigattu/sree/PGDS/MachineLearning/venv/lib/python3.7/site-packages/ipykernel_launcher.py:10: SettingWithCopyWarning: \n",
      "A value is trying to be set on a copy of a slice from a DataFrame.\n",
      "Try using .loc[row_indexer,col_indexer] = value instead\n",
      "\n",
      "See the caveats in the documentation: https://pandas.pydata.org/pandas-docs/stable/user_guide/indexing.html#returning-a-view-versus-a-copy\n",
      "  # Remove the CWD from sys.path while we load stuff.\n",
      "/Users/sreedevigattu/sree/PGDS/MachineLearning/venv/lib/python3.7/site-packages/ipykernel_launcher.py:13: SettingWithCopyWarning: \n",
      "A value is trying to be set on a copy of a slice from a DataFrame.\n",
      "Try using .loc[row_indexer,col_indexer] = value instead\n",
      "\n",
      "See the caveats in the documentation: https://pandas.pydata.org/pandas-docs/stable/user_guide/indexing.html#returning-a-view-versus-a-copy\n",
      "  del sys.path[0]\n",
      "/Users/sreedevigattu/sree/PGDS/MachineLearning/venv/lib/python3.7/site-packages/ipykernel_launcher.py:16: SettingWithCopyWarning: \n",
      "A value is trying to be set on a copy of a slice from a DataFrame.\n",
      "Try using .loc[row_indexer,col_indexer] = value instead\n",
      "\n",
      "See the caveats in the documentation: https://pandas.pydata.org/pandas-docs/stable/user_guide/indexing.html#returning-a-view-versus-a-copy\n",
      "  app.launch_new_instance()\n",
      "/Users/sreedevigattu/sree/PGDS/MachineLearning/venv/lib/python3.7/site-packages/ipykernel_launcher.py:17: SettingWithCopyWarning: \n",
      "A value is trying to be set on a copy of a slice from a DataFrame.\n",
      "Try using .loc[row_indexer,col_indexer] = value instead\n",
      "\n",
      "See the caveats in the documentation: https://pandas.pydata.org/pandas-docs/stable/user_guide/indexing.html#returning-a-view-versus-a-copy\n",
      "/Users/sreedevigattu/sree/PGDS/MachineLearning/venv/lib/python3.7/site-packages/ipykernel_launcher.py:18: SettingWithCopyWarning: \n",
      "A value is trying to be set on a copy of a slice from a DataFrame.\n",
      "Try using .loc[row_indexer,col_indexer] = value instead\n",
      "\n",
      "See the caveats in the documentation: https://pandas.pydata.org/pandas-docs/stable/user_guide/indexing.html#returning-a-view-versus-a-copy\n"
     ]
    },
    {
     "output_type": "execute_result",
     "data": {
      "text/html": [
       "<div>\n",
       "<style scoped>\n",
       "    .dataframe tbody tr th:only-of-type {\n",
       "        vertical-align: middle;\n",
       "    }\n",
       "\n",
       "    .dataframe tbody tr th {\n",
       "        vertical-align: top;\n",
       "    }\n",
       "\n",
       "    .dataframe thead th {\n",
       "        text-align: right;\n",
       "    }\n",
       "</style>\n",
       "<table border=\"1\" class=\"dataframe\">\n",
       "  <thead>\n",
       "    <tr style=\"text-align: right;\">\n",
       "      <th></th>\n",
       "      <th>loan_amnt</th>\n",
       "      <th>int_rate</th>\n",
       "      <th>installment</th>\n",
       "      <th>emp_length</th>\n",
       "      <th>annual_inc</th>\n",
       "      <th>fund_perc</th>\n",
       "      <th>incToloan_perc</th>\n",
       "      <th>Scaled_features</th>\n",
       "      <th>Actual</th>\n",
       "      <th>prediction_oneVsRest</th>\n",
       "      <th>prob_pred_oneVsRest</th>\n",
       "      <th>prob_pred_oneVsRest_highRisk</th>\n",
       "      <th>prob_pred_oneVsRest_lowRisk</th>\n",
       "      <th>prob_pred_oneVsRest_mediumRisk</th>\n",
       "    </tr>\n",
       "  </thead>\n",
       "  <tbody>\n",
       "    <tr>\n",
       "      <th>17614</th>\n",
       "      <td>25000</td>\n",
       "      <td>16.77</td>\n",
       "      <td>888.46</td>\n",
       "      <td>1</td>\n",
       "      <td>104000.0</td>\n",
       "      <td>1.0</td>\n",
       "      <td>4.160000</td>\n",
       "      <td>[1.8370160009053087, 1.2694953930271917, 2.685...</td>\n",
       "      <td>Low Risk</td>\n",
       "      <td>Low Risk</td>\n",
       "      <td>[0.13572498246427991, 0.8642090689206677, 6.59...</td>\n",
       "      <td>0.135725</td>\n",
       "      <td>0.864209</td>\n",
       "      <td>0.000066</td>\n",
       "    </tr>\n",
       "    <tr>\n",
       "      <th>3728</th>\n",
       "      <td>3600</td>\n",
       "      <td>7.51</td>\n",
       "      <td>112.00</td>\n",
       "      <td>2</td>\n",
       "      <td>31800.0</td>\n",
       "      <td>1.0</td>\n",
       "      <td>8.833333</td>\n",
       "      <td>[-1.0306474635995284, -1.2222166661825382, -1....</td>\n",
       "      <td>Low Risk</td>\n",
       "      <td>Low Risk</td>\n",
       "      <td>[0.07644510149725968, 0.9200895460912942, 0.00...</td>\n",
       "      <td>0.076445</td>\n",
       "      <td>0.920090</td>\n",
       "      <td>0.003465</td>\n",
       "    </tr>\n",
       "    <tr>\n",
       "      <th>37880</th>\n",
       "      <td>9000</td>\n",
       "      <td>11.97</td>\n",
       "      <td>298.80</td>\n",
       "      <td>2</td>\n",
       "      <td>57500.0</td>\n",
       "      <td>1.0</td>\n",
       "      <td>6.388889</td>\n",
       "      <td>[-0.3070314491917658, -0.022104810450853763, -...</td>\n",
       "      <td>Low Risk</td>\n",
       "      <td>Low Risk</td>\n",
       "      <td>[0.11841953587921925, 0.878438228076339, 0.003...</td>\n",
       "      <td>0.118420</td>\n",
       "      <td>0.878438</td>\n",
       "      <td>0.003142</td>\n",
       "    </tr>\n",
       "    <tr>\n",
       "      <th>33951</th>\n",
       "      <td>17000</td>\n",
       "      <td>12.18</td>\n",
       "      <td>566.10</td>\n",
       "      <td>10</td>\n",
       "      <td>63504.0</td>\n",
       "      <td>1.0</td>\n",
       "      <td>3.735529</td>\n",
       "      <td>[0.7649922758567714, 0.03440269845131049, 1.14...</td>\n",
       "      <td>High Risk</td>\n",
       "      <td>Low Risk</td>\n",
       "      <td>[0.1216327375677756, 0.8775370992853335, 0.000...</td>\n",
       "      <td>0.121633</td>\n",
       "      <td>0.877537</td>\n",
       "      <td>0.000830</td>\n",
       "    </tr>\n",
       "    <tr>\n",
       "      <th>982</th>\n",
       "      <td>5500</td>\n",
       "      <td>14.27</td>\n",
       "      <td>188.70</td>\n",
       "      <td>5</td>\n",
       "      <td>24000.0</td>\n",
       "      <td>1.0</td>\n",
       "      <td>4.363636</td>\n",
       "      <td>[-0.7760418289005008, 0.5967869537157096, -0.6...</td>\n",
       "      <td>Low Risk</td>\n",
       "      <td>Low Risk</td>\n",
       "      <td>[0.19962021873041713, 0.7876522082236527, 0.01...</td>\n",
       "      <td>0.199620</td>\n",
       "      <td>0.787652</td>\n",
       "      <td>0.012728</td>\n",
       "    </tr>\n",
       "  </tbody>\n",
       "</table>\n",
       "</div>"
      ],
      "text/plain": [
       "       loan_amnt  int_rate  installment  emp_length  annual_inc  fund_perc  \\\n",
       "17614      25000     16.77       888.46           1    104000.0        1.0   \n",
       "3728        3600      7.51       112.00           2     31800.0        1.0   \n",
       "37880       9000     11.97       298.80           2     57500.0        1.0   \n",
       "33951      17000     12.18       566.10          10     63504.0        1.0   \n",
       "982         5500     14.27       188.70           5     24000.0        1.0   \n",
       "\n",
       "       incToloan_perc                                    Scaled_features  \\\n",
       "17614        4.160000  [1.8370160009053087, 1.2694953930271917, 2.685...   \n",
       "3728         8.833333  [-1.0306474635995284, -1.2222166661825382, -1....   \n",
       "37880        6.388889  [-0.3070314491917658, -0.022104810450853763, -...   \n",
       "33951        3.735529  [0.7649922758567714, 0.03440269845131049, 1.14...   \n",
       "982          4.363636  [-0.7760418289005008, 0.5967869537157096, -0.6...   \n",
       "\n",
       "          Actual prediction_oneVsRest  \\\n",
       "17614   Low Risk             Low Risk   \n",
       "3728    Low Risk             Low Risk   \n",
       "37880   Low Risk             Low Risk   \n",
       "33951  High Risk             Low Risk   \n",
       "982     Low Risk             Low Risk   \n",
       "\n",
       "                                     prob_pred_oneVsRest  \\\n",
       "17614  [0.13572498246427991, 0.8642090689206677, 6.59...   \n",
       "3728   [0.07644510149725968, 0.9200895460912942, 0.00...   \n",
       "37880  [0.11841953587921925, 0.878438228076339, 0.003...   \n",
       "33951  [0.1216327375677756, 0.8775370992853335, 0.000...   \n",
       "982    [0.19962021873041713, 0.7876522082236527, 0.01...   \n",
       "\n",
       "       prob_pred_oneVsRest_highRisk  prob_pred_oneVsRest_lowRisk  \\\n",
       "17614                      0.135725                     0.864209   \n",
       "3728                       0.076445                     0.920090   \n",
       "37880                      0.118420                     0.878438   \n",
       "33951                      0.121633                     0.877537   \n",
       "982                        0.199620                     0.787652   \n",
       "\n",
       "       prob_pred_oneVsRest_mediumRisk  \n",
       "17614                        0.000066  \n",
       "3728                         0.003465  \n",
       "37880                        0.003142  \n",
       "33951                        0.000830  \n",
       "982                          0.012728  "
      ]
     },
     "metadata": {},
     "execution_count": 66
    }
   ],
   "metadata": {
    "scrolled": false
   }
  },
  {
   "cell_type": "markdown",
   "source": [
    "## <b>Display the coefficient and intercept values for each Logistic Regression model </b>"
   ],
   "metadata": {}
  },
  {
   "cell_type": "code",
   "execution_count": 67,
   "source": [
    "# Classes for which individual models are created\n",
    "print(oneVsRest.classes_)\n",
    "\n",
    "#Coefficient matrix for all the models created\n",
    "print(oneVsRest.coef_.shape)\n",
    "\n",
    "#Intercept values for all the models created\n",
    "print(\"\\n Intercept Values\")\n",
    "print(oneVsRest.intercept_)\n",
    "\n",
    "#Coefficient values for all the models created\n",
    "print(\"\\n Coefficient values\")\n",
    "Coeff_array = oneVsRest.coef_\n",
    "print(Coeff_array)"
   ],
   "outputs": [
    {
     "output_type": "stream",
     "name": "stdout",
     "text": [
      "['High Risk' 'Low Risk' 'Medium Risk']\n",
      "(3, 7)\n",
      "\n",
      " Intercept Values\n",
      "[[-1.96532324]\n",
      " [ 1.79858623]\n",
      " [-5.16266085]]\n",
      "\n",
      " Coefficient values\n",
      "[[ 0.40074855  0.57450034 -0.40606121  0.04898165 -0.356952    0.03009393\n",
      "  -0.04645165]\n",
      " [-1.15154635 -0.62512408  1.13150054 -0.07120236  0.27887282 -0.2076321\n",
      "   0.10740671]\n",
      " [ 5.0510304   0.99757143 -5.7033346   0.15929608  0.11869475  1.37161869\n",
      "  -0.53510853]]\n"
     ]
    },
    {
     "output_type": "stream",
     "name": "stderr",
     "text": [
      "/Users/sreedevigattu/sree/PGDS/MachineLearning/venv/lib/python3.7/site-packages/sklearn/utils/deprecation.py:101: FutureWarning: Attribute coef_ was deprecated in version 0.24 and will be removed in 1.1 (renaming of 0.26). If you observe this warning while using RFE or SelectFromModel, use the importance_getter parameter instead.\n",
      "  warnings.warn(msg, category=FutureWarning)\n",
      "/Users/sreedevigattu/sree/PGDS/MachineLearning/venv/lib/python3.7/site-packages/sklearn/utils/deprecation.py:101: FutureWarning: Attribute intercept_ was deprecated in version 0.24 and will be removed in 1.1 (renaming of 0.26). If you observe this warning while using RFE or SelectFromModel, use the importance_getter parameter instead.\n",
      "  warnings.warn(msg, category=FutureWarning)\n"
     ]
    }
   ],
   "metadata": {}
  },
  {
   "cell_type": "markdown",
   "source": [
    "## <b>Analyse probability values for one test sample</b>"
   ],
   "metadata": {}
  },
  {
   "cell_type": "code",
   "execution_count": 68,
   "source": [
    "print(X_test.iloc[0]['prob_pred_oneVsRest'])"
   ],
   "outputs": [
    {
     "output_type": "stream",
     "name": "stdout",
     "text": [
      "[0.13572498246427991, 0.8642090689206677, 6.594861505229697e-05]\n"
     ]
    }
   ],
   "metadata": {}
  },
  {
   "cell_type": "markdown",
   "source": [
    "## <b>Understand the mathematics and calculations inside the Model </b>"
   ],
   "metadata": {}
  },
  {
   "cell_type": "code",
   "execution_count": 69,
   "source": [
    "#Below example demonstrate the calculation of prediction probability for a observation in the dataset\n",
    "#The demonstartion uses coefficient values of each model for the calculation\n",
    "\n",
    "# Choose the first observation\n",
    "arr = X_test.iloc[0]['Scaled_features']\n",
    "\n",
    "# Class calculates the log of odds value for a given class\n",
    "def y(class_cat, input_arr):\n",
    "    val = 0\n",
    "    for i in range(7):\n",
    "        val += Coeff_array[class_cat - 1][i]*input_arr[i]\n",
    "\n",
    "    return val\n",
    "\n",
    "# Calculates the probability values given the log of odds\n",
    "def z(a):\n",
    "    return (1/(1+np.exp(-a)))\n",
    "\n",
    "#Non-normalized probability of all the classes\n",
    "z_non_norm = z(sum(oneVsRest.intercept_[0], y(1,arr))),  z(sum(oneVsRest.intercept_[1], y(2,arr))),  z(sum(oneVsRest.intercept_[2], y(3,arr)))\n",
    "\n",
    "#Normalized probability of all the classes\n",
    "z_norm = z_non_norm/sum(z_non_norm)\n",
    "\n",
    "print(z_non_norm)\n",
    "print(z_norm)\n"
   ],
   "outputs": [
    {
     "output_type": "stream",
     "name": "stdout",
     "text": [
      "(0.13966767227435964, 0.889313572365409, 6.786436355956968e-05)\n",
      "[1.35724982e-01 8.64209069e-01 6.59486151e-05]\n"
     ]
    }
   ],
   "metadata": {}
  },
  {
   "cell_type": "markdown",
   "source": [
    "## <b> Building Logistic Regression Model and using it in One vs One Classifier </b>"
   ],
   "metadata": {}
  },
  {
   "cell_type": "code",
   "execution_count": 70,
   "source": [
    "#Classification using OnevsOne method\n",
    "LR1 = LogisticRegression()\n",
    "OneVsOne = OneVsOneClassifier(LR1)\n",
    "\n",
    "# Fitting the model with training data\n",
    "OneVsOne.fit(X_train_scaled, y_train)\n",
    "   \n",
    "# Making a prediction on the test set\n",
    "prediction_oneVsOne = OneVsOne.predict(X_test_scaled)"
   ],
   "outputs": [],
   "metadata": {}
  },
  {
   "cell_type": "markdown",
   "source": [
    "## <b> Model Prediction </b>"
   ],
   "metadata": {}
  },
  {
   "cell_type": "code",
   "execution_count": 71,
   "source": [
    "# Evaluating the model\n",
    "print(f\"Test set accuracy : {accuracy_score(y_test, prediction_oneVsOne)*100}%\\n\\n\")\n",
    "print(f\"Classification report: \\n\\n {classification_report(y_test, prediction_oneVsOne)}\")"
   ],
   "outputs": [
    {
     "output_type": "stream",
     "name": "stdout",
     "text": [
      "Test set accuracy : 83.33333333333334%\n",
      "\n",
      "\n",
      "Classification report: \n",
      "\n",
      "               precision    recall  f1-score   support\n",
      "\n",
      "   High Risk       0.00      0.00      0.00         4\n",
      "    Low Risk       0.83      1.00      0.91        25\n",
      " Medium Risk       0.00      0.00      0.00         1\n",
      "\n",
      "    accuracy                           0.83        30\n",
      "   macro avg       0.28      0.33      0.30        30\n",
      "weighted avg       0.69      0.83      0.76        30\n",
      "\n"
     ]
    },
    {
     "output_type": "stream",
     "name": "stderr",
     "text": [
      "/Users/sreedevigattu/sree/PGDS/MachineLearning/venv/lib/python3.7/site-packages/sklearn/metrics/_classification.py:1248: UndefinedMetricWarning: Precision and F-score are ill-defined and being set to 0.0 in labels with no predicted samples. Use `zero_division` parameter to control this behavior.\n",
      "  _warn_prf(average, modifier, msg_start, len(result))\n",
      "/Users/sreedevigattu/sree/PGDS/MachineLearning/venv/lib/python3.7/site-packages/sklearn/metrics/_classification.py:1248: UndefinedMetricWarning: Precision and F-score are ill-defined and being set to 0.0 in labels with no predicted samples. Use `zero_division` parameter to control this behavior.\n",
      "  _warn_prf(average, modifier, msg_start, len(result))\n",
      "/Users/sreedevigattu/sree/PGDS/MachineLearning/venv/lib/python3.7/site-packages/sklearn/metrics/_classification.py:1248: UndefinedMetricWarning: Precision and F-score are ill-defined and being set to 0.0 in labels with no predicted samples. Use `zero_division` parameter to control this behavior.\n",
      "  _warn_prf(average, modifier, msg_start, len(result))\n"
     ]
    }
   ],
   "metadata": {}
  },
  {
   "cell_type": "markdown",
   "source": [
    "## <b>Analysing the probabilties and classification values </b>"
   ],
   "metadata": {}
  },
  {
   "cell_type": "code",
   "execution_count": 72,
   "source": [
    "# Adding followig variables to the test dataset\n",
    "\n",
    "#OnevsOne target prediction\n",
    "X_test['prediction_oneVsOne'] = prediction_oneVsOne\n",
    "X_test.head()"
   ],
   "outputs": [
    {
     "output_type": "stream",
     "name": "stderr",
     "text": [
      "/Users/sreedevigattu/sree/PGDS/MachineLearning/venv/lib/python3.7/site-packages/ipykernel_launcher.py:4: SettingWithCopyWarning: \n",
      "A value is trying to be set on a copy of a slice from a DataFrame.\n",
      "Try using .loc[row_indexer,col_indexer] = value instead\n",
      "\n",
      "See the caveats in the documentation: https://pandas.pydata.org/pandas-docs/stable/user_guide/indexing.html#returning-a-view-versus-a-copy\n",
      "  after removing the cwd from sys.path.\n"
     ]
    },
    {
     "output_type": "execute_result",
     "data": {
      "text/html": [
       "<div>\n",
       "<style scoped>\n",
       "    .dataframe tbody tr th:only-of-type {\n",
       "        vertical-align: middle;\n",
       "    }\n",
       "\n",
       "    .dataframe tbody tr th {\n",
       "        vertical-align: top;\n",
       "    }\n",
       "\n",
       "    .dataframe thead th {\n",
       "        text-align: right;\n",
       "    }\n",
       "</style>\n",
       "<table border=\"1\" class=\"dataframe\">\n",
       "  <thead>\n",
       "    <tr style=\"text-align: right;\">\n",
       "      <th></th>\n",
       "      <th>loan_amnt</th>\n",
       "      <th>int_rate</th>\n",
       "      <th>installment</th>\n",
       "      <th>emp_length</th>\n",
       "      <th>annual_inc</th>\n",
       "      <th>fund_perc</th>\n",
       "      <th>incToloan_perc</th>\n",
       "      <th>Scaled_features</th>\n",
       "      <th>Actual</th>\n",
       "      <th>prediction_oneVsRest</th>\n",
       "      <th>prob_pred_oneVsRest</th>\n",
       "      <th>prob_pred_oneVsRest_highRisk</th>\n",
       "      <th>prob_pred_oneVsRest_lowRisk</th>\n",
       "      <th>prob_pred_oneVsRest_mediumRisk</th>\n",
       "      <th>prediction_oneVsOne</th>\n",
       "    </tr>\n",
       "  </thead>\n",
       "  <tbody>\n",
       "    <tr>\n",
       "      <th>17614</th>\n",
       "      <td>25000</td>\n",
       "      <td>16.77</td>\n",
       "      <td>888.46</td>\n",
       "      <td>1</td>\n",
       "      <td>104000.0</td>\n",
       "      <td>1.0</td>\n",
       "      <td>4.160000</td>\n",
       "      <td>[1.8370160009053087, 1.2694953930271917, 2.685...</td>\n",
       "      <td>Low Risk</td>\n",
       "      <td>Low Risk</td>\n",
       "      <td>[0.13572498246427991, 0.8642090689206677, 6.59...</td>\n",
       "      <td>0.135725</td>\n",
       "      <td>0.864209</td>\n",
       "      <td>0.000066</td>\n",
       "      <td>Low Risk</td>\n",
       "    </tr>\n",
       "    <tr>\n",
       "      <th>3728</th>\n",
       "      <td>3600</td>\n",
       "      <td>7.51</td>\n",
       "      <td>112.00</td>\n",
       "      <td>2</td>\n",
       "      <td>31800.0</td>\n",
       "      <td>1.0</td>\n",
       "      <td>8.833333</td>\n",
       "      <td>[-1.0306474635995284, -1.2222166661825382, -1....</td>\n",
       "      <td>Low Risk</td>\n",
       "      <td>Low Risk</td>\n",
       "      <td>[0.07644510149725968, 0.9200895460912942, 0.00...</td>\n",
       "      <td>0.076445</td>\n",
       "      <td>0.920090</td>\n",
       "      <td>0.003465</td>\n",
       "      <td>Low Risk</td>\n",
       "    </tr>\n",
       "    <tr>\n",
       "      <th>37880</th>\n",
       "      <td>9000</td>\n",
       "      <td>11.97</td>\n",
       "      <td>298.80</td>\n",
       "      <td>2</td>\n",
       "      <td>57500.0</td>\n",
       "      <td>1.0</td>\n",
       "      <td>6.388889</td>\n",
       "      <td>[-0.3070314491917658, -0.022104810450853763, -...</td>\n",
       "      <td>Low Risk</td>\n",
       "      <td>Low Risk</td>\n",
       "      <td>[0.11841953587921925, 0.878438228076339, 0.003...</td>\n",
       "      <td>0.118420</td>\n",
       "      <td>0.878438</td>\n",
       "      <td>0.003142</td>\n",
       "      <td>Low Risk</td>\n",
       "    </tr>\n",
       "    <tr>\n",
       "      <th>33951</th>\n",
       "      <td>17000</td>\n",
       "      <td>12.18</td>\n",
       "      <td>566.10</td>\n",
       "      <td>10</td>\n",
       "      <td>63504.0</td>\n",
       "      <td>1.0</td>\n",
       "      <td>3.735529</td>\n",
       "      <td>[0.7649922758567714, 0.03440269845131049, 1.14...</td>\n",
       "      <td>High Risk</td>\n",
       "      <td>Low Risk</td>\n",
       "      <td>[0.1216327375677756, 0.8775370992853335, 0.000...</td>\n",
       "      <td>0.121633</td>\n",
       "      <td>0.877537</td>\n",
       "      <td>0.000830</td>\n",
       "      <td>Low Risk</td>\n",
       "    </tr>\n",
       "    <tr>\n",
       "      <th>982</th>\n",
       "      <td>5500</td>\n",
       "      <td>14.27</td>\n",
       "      <td>188.70</td>\n",
       "      <td>5</td>\n",
       "      <td>24000.0</td>\n",
       "      <td>1.0</td>\n",
       "      <td>4.363636</td>\n",
       "      <td>[-0.7760418289005008, 0.5967869537157096, -0.6...</td>\n",
       "      <td>Low Risk</td>\n",
       "      <td>Low Risk</td>\n",
       "      <td>[0.19962021873041713, 0.7876522082236527, 0.01...</td>\n",
       "      <td>0.199620</td>\n",
       "      <td>0.787652</td>\n",
       "      <td>0.012728</td>\n",
       "      <td>Low Risk</td>\n",
       "    </tr>\n",
       "  </tbody>\n",
       "</table>\n",
       "</div>"
      ],
      "text/plain": [
       "       loan_amnt  int_rate  installment  emp_length  annual_inc  fund_perc  \\\n",
       "17614      25000     16.77       888.46           1    104000.0        1.0   \n",
       "3728        3600      7.51       112.00           2     31800.0        1.0   \n",
       "37880       9000     11.97       298.80           2     57500.0        1.0   \n",
       "33951      17000     12.18       566.10          10     63504.0        1.0   \n",
       "982         5500     14.27       188.70           5     24000.0        1.0   \n",
       "\n",
       "       incToloan_perc                                    Scaled_features  \\\n",
       "17614        4.160000  [1.8370160009053087, 1.2694953930271917, 2.685...   \n",
       "3728         8.833333  [-1.0306474635995284, -1.2222166661825382, -1....   \n",
       "37880        6.388889  [-0.3070314491917658, -0.022104810450853763, -...   \n",
       "33951        3.735529  [0.7649922758567714, 0.03440269845131049, 1.14...   \n",
       "982          4.363636  [-0.7760418289005008, 0.5967869537157096, -0.6...   \n",
       "\n",
       "          Actual prediction_oneVsRest  \\\n",
       "17614   Low Risk             Low Risk   \n",
       "3728    Low Risk             Low Risk   \n",
       "37880   Low Risk             Low Risk   \n",
       "33951  High Risk             Low Risk   \n",
       "982     Low Risk             Low Risk   \n",
       "\n",
       "                                     prob_pred_oneVsRest  \\\n",
       "17614  [0.13572498246427991, 0.8642090689206677, 6.59...   \n",
       "3728   [0.07644510149725968, 0.9200895460912942, 0.00...   \n",
       "37880  [0.11841953587921925, 0.878438228076339, 0.003...   \n",
       "33951  [0.1216327375677756, 0.8775370992853335, 0.000...   \n",
       "982    [0.19962021873041713, 0.7876522082236527, 0.01...   \n",
       "\n",
       "       prob_pred_oneVsRest_highRisk  prob_pred_oneVsRest_lowRisk  \\\n",
       "17614                      0.135725                     0.864209   \n",
       "3728                       0.076445                     0.920090   \n",
       "37880                      0.118420                     0.878438   \n",
       "33951                      0.121633                     0.877537   \n",
       "982                        0.199620                     0.787652   \n",
       "\n",
       "       prob_pred_oneVsRest_mediumRisk prediction_oneVsOne  \n",
       "17614                        0.000066            Low Risk  \n",
       "3728                         0.003465            Low Risk  \n",
       "37880                        0.003142            Low Risk  \n",
       "33951                        0.000830            Low Risk  \n",
       "982                          0.012728            Low Risk  "
      ]
     },
     "metadata": {},
     "execution_count": 72
    }
   ],
   "metadata": {}
  },
  {
   "cell_type": "markdown",
   "source": [
    "## <b>Display the parameters and coefficients for each Logistic Regression model </b>"
   ],
   "metadata": {}
  },
  {
   "cell_type": "code",
   "execution_count": 73,
   "source": [
    "#OneVsOne.classes_\n",
    "OneVsOne.classes_"
   ],
   "outputs": [
    {
     "output_type": "execute_result",
     "data": {
      "text/plain": [
       "array(['High Risk', 'Low Risk', 'Medium Risk'], dtype=object)"
      ]
     },
     "metadata": {},
     "execution_count": 73
    }
   ],
   "metadata": {}
  },
  {
   "cell_type": "code",
   "execution_count": 74,
   "source": [
    "OneVsOne.estimators_"
   ],
   "outputs": [
    {
     "output_type": "execute_result",
     "data": {
      "text/plain": [
       "(LogisticRegression(), LogisticRegression(), LogisticRegression())"
      ]
     },
     "metadata": {},
     "execution_count": 74
    }
   ],
   "metadata": {}
  },
  {
   "cell_type": "code",
   "execution_count": null,
   "source": [],
   "outputs": [],
   "metadata": {}
  }
 ],
 "metadata": {
  "kernelspec": {
   "name": "python3",
   "display_name": "Python 3.7.9 64-bit ('venv': venv)"
  },
  "language_info": {
   "codemirror_mode": {
    "name": "ipython",
    "version": 3
   },
   "file_extension": ".py",
   "mimetype": "text/x-python",
   "name": "python",
   "nbconvert_exporter": "python",
   "pygments_lexer": "ipython3",
   "version": "3.7.9"
  },
  "interpreter": {
   "hash": "463f37f76014c32d3df853a5b5c126f8251977df1642d173ac15ea7b0c7e9d84"
  }
 },
 "nbformat": 4,
 "nbformat_minor": 4
}