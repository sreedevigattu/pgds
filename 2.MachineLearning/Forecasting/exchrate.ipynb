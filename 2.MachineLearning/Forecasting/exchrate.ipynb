{
 "cells": [
  {
   "cell_type": "code",
   "execution_count": 12,
   "metadata": {},
   "outputs": [],
   "source": [
    "import pandas as pd \n",
    "import numpy as np \n",
    "import matplotlib.pyplot as plt\n",
    "%matplotlib inline\n",
    "\n",
    "import warnings\n",
    "warnings.filterwarnings(\"ignore\")"
   ]
  },
  {
   "cell_type": "code",
   "execution_count": 13,
   "metadata": {},
   "outputs": [
    {
     "name": "stdout",
     "output_type": "stream",
     "text": [
      "<class 'pandas.core.frame.DataFrame'>\n",
      "RangeIndex: 304 entries, 0 to 303\n",
      "Data columns (total 2 columns):\n",
      " #   Column             Non-Null Count  Dtype  \n",
      "---  ------             --------------  -----  \n",
      " 0   Month              304 non-null    int64  \n",
      " 1   Exchange Rate TWI  304 non-null    float64\n",
      "dtypes: float64(1), int64(1)\n",
      "memory usage: 4.9 KB\n"
     ]
    }
   ],
   "source": [
    "df = pd.read_csv(\"data/exchange-rate-twi.csv\")\n",
    "df.info()"
   ]
  },
  {
   "cell_type": "code",
   "execution_count": 14,
   "metadata": {},
   "outputs": [
    {
     "data": {
      "text/plain": [
       "Month                0\n",
       "Exchange Rate TWI    0\n",
       "dtype: int64"
      ]
     },
     "execution_count": 14,
     "metadata": {},
     "output_type": "execute_result"
    }
   ],
   "source": [
    "df.isnull().sum()"
   ]
  },
  {
   "cell_type": "code",
   "execution_count": 15,
   "metadata": {},
   "outputs": [
    {
     "data": {
      "text/plain": [
       "<AxesSubplot:xlabel='Month'>"
      ]
     },
     "execution_count": 15,
     "metadata": {},
     "output_type": "execute_result"
    },
    {
     "data": {
      "image/png": "[encoded data removed]",
      "text/plain": [
       "<Figure size 432x288 with 1 Axes>"
      ]
     },
     "metadata": {
      "needs_background": "light"
     },
     "output_type": "display_data"
    }
   ],
   "source": [
    "COL_EXCH = 'Exchange Rate TWI'\n",
    "df.plot.line(x='Month', y='Exchange Rate TWI')"
   ]
  },
  {
   "cell_type": "code",
   "execution_count": 16,
   "metadata": {},
   "outputs": [
    {
     "name": "stdout",
     "output_type": "stream",
     "text": [
      "212 92 92\n"
     ]
    }
   ],
   "source": [
    "TRAIN = 212; TEST = df.shape[0] - TRAIN\n",
    "df_train, df_test = df[:TRAIN], df[TRAIN:]\n",
    "df_train, df_test = df[:TRAIN], df[TRAIN:]\n",
    "y_actual = df_test[COL_EXCH]\n",
    "print(df_train.shape[0],df_test.shape[0], y_actual.shape[0] )"
   ]
  },
  {
   "cell_type": "code",
   "execution_count": 17,
   "metadata": {},
   "outputs": [],
   "source": [
    "df_forecast = pd.DataFrame()"
   ]
  },
  {
   "cell_type": "code",
   "execution_count": 18,
   "metadata": {},
   "outputs": [],
   "source": [
    "from sklearn.metrics import mean_squared_error\n",
    "\n",
    "df_summary = pd.DataFrame(columns=['Method', 'RMSE', 'MAPE'])\n",
    "def calErrors(method, y_actual, y_pred):\n",
    "    global df_summary\n",
    "    n = y_actual.shape[0]\n",
    "    #print(n, y_actual[:4], y_pred[:4])\n",
    "    rmse = np.sqrt(mean_squared_error(y_actual, y_pred)).round(2)\n",
    "    mape = (100*((abs(y_actual-y_pred)/y_actual).sum())/n).round(2)\n",
    "    df_summary = pd.concat([df_summary, pd.DataFrame(data={'Method': [method], 'RMSE':[rmse], 'MAPE':[mape]})])\n",
    "    print(\"rmse\", rmse, \"mape\", mape)\n",
    "    return mape\n",
    "\n",
    "def plotForecast(method):\n",
    "    ax=plt.subplot(1,1,1)\n",
    "    df.plot.line(x='Month', y=COL_EXCH, ax=ax)\n",
    "    df_forecast.plot.line(y=method, ax=ax)"
   ]
  },
  {
   "cell_type": "code",
   "execution_count": 19,
   "metadata": {},
   "outputs": [
    {
     "name": "stdout",
     "output_type": "stream",
     "text": [
      "rmse 5.98 mape 8.41\n"
     ]
    },
    {
     "data": {
      "text/html": [
       "<div>\n",
       "<style scoped>\n",
       "    .dataframe tbody tr th:only-of-type {\n",
       "        vertical-align: middle;\n",
       "    }\n",
       "\n",
       "    .dataframe tbody tr th {\n",
       "        vertical-align: top;\n",
       "    }\n",
       "\n",
       "    .dataframe thead th {\n",
       "        text-align: right;\n",
       "    }\n",
       "</style>\n",
       "<table border=\"1\" class=\"dataframe\">\n",
       "  <thead>\n",
       "    <tr style=\"text-align: right;\">\n",
       "      <th></th>\n",
       "      <th>Naive</th>\n",
       "    </tr>\n",
       "  </thead>\n",
       "  <tbody>\n",
       "    <tr>\n",
       "      <th>212</th>\n",
       "      <td>52.0</td>\n",
       "    </tr>\n",
       "    <tr>\n",
       "      <th>213</th>\n",
       "      <td>52.0</td>\n",
       "    </tr>\n",
       "    <tr>\n",
       "      <th>214</th>\n",
       "      <td>52.0</td>\n",
       "    </tr>\n",
       "    <tr>\n",
       "      <th>215</th>\n",
       "      <td>52.0</td>\n",
       "    </tr>\n",
       "    <tr>\n",
       "      <th>216</th>\n",
       "      <td>52.0</td>\n",
       "    </tr>\n",
       "  </tbody>\n",
       "</table>\n",
       "</div>"
      ],
      "text/plain": [
       "     Naive\n",
       "212   52.0\n",
       "213   52.0\n",
       "214   52.0\n",
       "215   52.0\n",
       "216   52.0"
      ]
     },
     "execution_count": 19,
     "metadata": {},
     "output_type": "execute_result"
    },
    {
     "data": {
      "image/png": "[encoded data removed]",
      "text/plain": [
       "<Figure size 432x288 with 1 Axes>"
      ]
     },
     "metadata": {
      "needs_background": "light"
     },
     "output_type": "display_data"
    }
   ],
   "source": [
    "# Naive method\n",
    "y_pred = df_test[COL_EXCH].copy(deep=True)\n",
    "y_pred[:] = df_train.loc[TRAIN-1, COL_EXCH]; df_forecast['Naive'] = y_pred\n",
    "calErrors('Naive', y_actual, y_pred)\n",
    "plotForecast('Naive')\n",
    "df_forecast.head()"
   ]
  },
  {
   "cell_type": "code",
   "execution_count": 20,
   "metadata": {},
   "outputs": [
    {
     "name": "stdout",
     "output_type": "stream",
     "text": [
      "rmse 32.42 mape 58.13\n"
     ]
    },
    {
     "data": {
      "text/html": [
       "<div>\n",
       "<style scoped>\n",
       "    .dataframe tbody tr th:only-of-type {\n",
       "        vertical-align: middle;\n",
       "    }\n",
       "\n",
       "    .dataframe tbody tr th {\n",
       "        vertical-align: top;\n",
       "    }\n",
       "\n",
       "    .dataframe thead th {\n",
       "        text-align: right;\n",
       "    }\n",
       "</style>\n",
       "<table border=\"1\" class=\"dataframe\">\n",
       "  <thead>\n",
       "    <tr style=\"text-align: right;\">\n",
       "      <th></th>\n",
       "      <th>Naive</th>\n",
       "      <th>SA</th>\n",
       "    </tr>\n",
       "  </thead>\n",
       "  <tbody>\n",
       "    <tr>\n",
       "      <th>212</th>\n",
       "      <td>52.0</td>\n",
       "      <td>88.33</td>\n",
       "    </tr>\n",
       "    <tr>\n",
       "      <th>213</th>\n",
       "      <td>52.0</td>\n",
       "      <td>88.33</td>\n",
       "    </tr>\n",
       "    <tr>\n",
       "      <th>214</th>\n",
       "      <td>52.0</td>\n",
       "      <td>88.33</td>\n",
       "    </tr>\n",
       "    <tr>\n",
       "      <th>215</th>\n",
       "      <td>52.0</td>\n",
       "      <td>88.33</td>\n",
       "    </tr>\n",
       "    <tr>\n",
       "      <th>216</th>\n",
       "      <td>52.0</td>\n",
       "      <td>88.33</td>\n",
       "    </tr>\n",
       "  </tbody>\n",
       "</table>\n",
       "</div>"
      ],
      "text/plain": [
       "     Naive     SA\n",
       "212   52.0  88.33\n",
       "213   52.0  88.33\n",
       "214   52.0  88.33\n",
       "215   52.0  88.33\n",
       "216   52.0  88.33"
      ]
     },
     "execution_count": 20,
     "metadata": {},
     "output_type": "execute_result"
    },
    {
     "data": {
      "image/png": "[encoded data removed]",
      "text/plain": [
       "<Figure size 432x288 with 1 Axes>"
      ]
     },
     "metadata": {
      "needs_background": "light"
     },
     "output_type": "display_data"
    }
   ],
   "source": [
    "# Simple Average Method\n",
    "y_pred = df_test[COL_EXCH].copy(deep=True)\n",
    "y_pred[:] = df_train[COL_EXCH].mean().round(2); df_forecast['SA'] = y_pred\n",
    "calErrors('Simple Average', y_actual, y_pred)\n",
    "plotForecast('SA')\n",
    "df_forecast.head()"
   ]
  },
  {
   "cell_type": "code",
   "execution_count": 21,
   "metadata": {},
   "outputs": [
    {
     "data": {
      "text/plain": [
       "0        NaN\n",
       "1        NaN\n",
       "2        NaN\n",
       "3        NaN\n",
       "4        NaN\n",
       "       ...  \n",
       "207    54.58\n",
       "208    54.93\n",
       "209    54.74\n",
       "210    54.58\n",
       "211    54.32\n",
       "Name: Exchange Rate TWI, Length: 212, dtype: float64"
      ]
     },
     "execution_count": 21,
     "metadata": {},
     "output_type": "execute_result"
    }
   ],
   "source": [
    "df_train[COL_EXCH].rolling(12).mean().round(2)"
   ]
  },
  {
   "cell_type": "code",
   "execution_count": 22,
   "metadata": {},
   "outputs": [
    {
     "name": "stdout",
     "output_type": "stream",
     "text": [
      "rmse 4.66 mape 6.96\n"
     ]
    },
    {
     "data": {
      "text/html": [
       "<div>\n",
       "<style scoped>\n",
       "    .dataframe tbody tr th:only-of-type {\n",
       "        vertical-align: middle;\n",
       "    }\n",
       "\n",
       "    .dataframe tbody tr th {\n",
       "        vertical-align: top;\n",
       "    }\n",
       "\n",
       "    .dataframe thead th {\n",
       "        text-align: right;\n",
       "    }\n",
       "</style>\n",
       "<table border=\"1\" class=\"dataframe\">\n",
       "  <thead>\n",
       "    <tr style=\"text-align: right;\">\n",
       "      <th></th>\n",
       "      <th>Naive</th>\n",
       "      <th>SA</th>\n",
       "      <th>SMA-12</th>\n",
       "    </tr>\n",
       "  </thead>\n",
       "  <tbody>\n",
       "    <tr>\n",
       "      <th>212</th>\n",
       "      <td>52.0</td>\n",
       "      <td>88.33</td>\n",
       "      <td>54.32</td>\n",
       "    </tr>\n",
       "    <tr>\n",
       "      <th>213</th>\n",
       "      <td>52.0</td>\n",
       "      <td>88.33</td>\n",
       "      <td>54.32</td>\n",
       "    </tr>\n",
       "    <tr>\n",
       "      <th>214</th>\n",
       "      <td>52.0</td>\n",
       "      <td>88.33</td>\n",
       "      <td>54.32</td>\n",
       "    </tr>\n",
       "    <tr>\n",
       "      <th>215</th>\n",
       "      <td>52.0</td>\n",
       "      <td>88.33</td>\n",
       "      <td>54.32</td>\n",
       "    </tr>\n",
       "    <tr>\n",
       "      <th>216</th>\n",
       "      <td>52.0</td>\n",
       "      <td>88.33</td>\n",
       "      <td>54.32</td>\n",
       "    </tr>\n",
       "  </tbody>\n",
       "</table>\n",
       "</div>"
      ],
      "text/plain": [
       "     Naive     SA  SMA-12\n",
       "212   52.0  88.33   54.32\n",
       "213   52.0  88.33   54.32\n",
       "214   52.0  88.33   54.32\n",
       "215   52.0  88.33   54.32\n",
       "216   52.0  88.33   54.32"
      ]
     },
     "execution_count": 22,
     "metadata": {},
     "output_type": "execute_result"
    },
    {
     "data": {
      "image/png": "[encoded data removed]",
      "text/plain": [
       "<Figure size 432x288 with 1 Axes>"
      ]
     },
     "metadata": {
      "needs_background": "light"
     },
     "output_type": "display_data"
    }
   ],
   "source": [
    "# Simple Moving Average - Window -12\n",
    "y_pred = df_test[COL_EXCH].copy(deep=True)\n",
    "y_pred[:] = df_train[COL_EXCH].rolling(12).mean().round(2)[TRAIN-1]; df_forecast['SMA-12'] = y_pred\n",
    "calErrors('Simple Moving Average - 12', y_actual, y_pred)\n",
    "plotForecast('SMA-12')\n",
    "df_forecast.head()"
   ]
  },
  {
   "cell_type": "code",
   "execution_count": 23,
   "metadata": {},
   "outputs": [
    {
     "name": "stdout",
     "output_type": "stream",
     "text": [
      "rmse 4.9 mape 7.13\n"
     ]
    },
    {
     "data": {
      "text/html": [
       "<div>\n",
       "<style scoped>\n",
       "    .dataframe tbody tr th:only-of-type {\n",
       "        vertical-align: middle;\n",
       "    }\n",
       "\n",
       "    .dataframe tbody tr th {\n",
       "        vertical-align: top;\n",
       "    }\n",
       "\n",
       "    .dataframe thead th {\n",
       "        text-align: right;\n",
       "    }\n",
       "</style>\n",
       "<table border=\"1\" class=\"dataframe\">\n",
       "  <thead>\n",
       "    <tr style=\"text-align: right;\">\n",
       "      <th></th>\n",
       "      <th>Naive</th>\n",
       "      <th>SA</th>\n",
       "      <th>SMA-12</th>\n",
       "      <th>SMA-6</th>\n",
       "    </tr>\n",
       "  </thead>\n",
       "  <tbody>\n",
       "    <tr>\n",
       "      <th>212</th>\n",
       "      <td>52.0</td>\n",
       "      <td>88.33</td>\n",
       "      <td>54.32</td>\n",
       "      <td>53.78</td>\n",
       "    </tr>\n",
       "    <tr>\n",
       "      <th>213</th>\n",
       "      <td>52.0</td>\n",
       "      <td>88.33</td>\n",
       "      <td>54.32</td>\n",
       "      <td>53.78</td>\n",
       "    </tr>\n",
       "    <tr>\n",
       "      <th>214</th>\n",
       "      <td>52.0</td>\n",
       "      <td>88.33</td>\n",
       "      <td>54.32</td>\n",
       "      <td>53.78</td>\n",
       "    </tr>\n",
       "    <tr>\n",
       "      <th>215</th>\n",
       "      <td>52.0</td>\n",
       "      <td>88.33</td>\n",
       "      <td>54.32</td>\n",
       "      <td>53.78</td>\n",
       "    </tr>\n",
       "    <tr>\n",
       "      <th>216</th>\n",
       "      <td>52.0</td>\n",
       "      <td>88.33</td>\n",
       "      <td>54.32</td>\n",
       "      <td>53.78</td>\n",
       "    </tr>\n",
       "  </tbody>\n",
       "</table>\n",
       "</div>"
      ],
      "text/plain": [
       "     Naive     SA  SMA-12  SMA-6\n",
       "212   52.0  88.33   54.32  53.78\n",
       "213   52.0  88.33   54.32  53.78\n",
       "214   52.0  88.33   54.32  53.78\n",
       "215   52.0  88.33   54.32  53.78\n",
       "216   52.0  88.33   54.32  53.78"
      ]
     },
     "execution_count": 23,
     "metadata": {},
     "output_type": "execute_result"
    },
    {
     "data": {
      "image/png": "[encoded data removed]",
      "text/plain": [
       "<Figure size 432x288 with 1 Axes>"
      ]
     },
     "metadata": {
      "needs_background": "light"
     },
     "output_type": "display_data"
    }
   ],
   "source": [
    "# Simple Moving Average - Window -6\n",
    "y_pred = df_test[COL_EXCH].copy(deep=True)\n",
    "y_pred[:] = df_train[COL_EXCH].rolling(6).mean().round(2)[TRAIN-1]; df_forecast['SMA-6'] = y_pred\n",
    "calErrors('Simple Moving Average - 6', y_actual, y_pred)\n",
    "plotForecast('SMA-6')\n",
    "df_forecast.head()"
   ]
  },
  {
   "cell_type": "code",
   "execution_count": 26,
   "metadata": {},
   "outputs": [
    {
     "name": "stdout",
     "output_type": "stream",
     "text": [
      "rmse 5.98 mape 8.41\n"
     ]
    },
    {
     "data": {
      "text/html": [
       "<div>\n",
       "<style scoped>\n",
       "    .dataframe tbody tr th:only-of-type {\n",
       "        vertical-align: middle;\n",
       "    }\n",
       "\n",
       "    .dataframe tbody tr th {\n",
       "        vertical-align: top;\n",
       "    }\n",
       "\n",
       "    .dataframe thead th {\n",
       "        text-align: right;\n",
       "    }\n",
       "</style>\n",
       "<table border=\"1\" class=\"dataframe\">\n",
       "  <thead>\n",
       "    <tr style=\"text-align: right;\">\n",
       "      <th></th>\n",
       "      <th>Naive</th>\n",
       "      <th>SA</th>\n",
       "      <th>SMA-12</th>\n",
       "      <th>SMA-6</th>\n",
       "      <th>SMA-3</th>\n",
       "    </tr>\n",
       "  </thead>\n",
       "  <tbody>\n",
       "    <tr>\n",
       "      <th>212</th>\n",
       "      <td>52.0</td>\n",
       "      <td>88.33</td>\n",
       "      <td>54.32</td>\n",
       "      <td>53.78</td>\n",
       "      <td>52.0</td>\n",
       "    </tr>\n",
       "    <tr>\n",
       "      <th>213</th>\n",
       "      <td>52.0</td>\n",
       "      <td>88.33</td>\n",
       "      <td>54.32</td>\n",
       "      <td>53.78</td>\n",
       "      <td>52.0</td>\n",
       "    </tr>\n",
       "    <tr>\n",
       "      <th>214</th>\n",
       "      <td>52.0</td>\n",
       "      <td>88.33</td>\n",
       "      <td>54.32</td>\n",
       "      <td>53.78</td>\n",
       "      <td>52.0</td>\n",
       "    </tr>\n",
       "    <tr>\n",
       "      <th>215</th>\n",
       "      <td>52.0</td>\n",
       "      <td>88.33</td>\n",
       "      <td>54.32</td>\n",
       "      <td>53.78</td>\n",
       "      <td>52.0</td>\n",
       "    </tr>\n",
       "    <tr>\n",
       "      <th>216</th>\n",
       "      <td>52.0</td>\n",
       "      <td>88.33</td>\n",
       "      <td>54.32</td>\n",
       "      <td>53.78</td>\n",
       "      <td>52.0</td>\n",
       "    </tr>\n",
       "  </tbody>\n",
       "</table>\n",
       "</div>"
      ],
      "text/plain": [
       "     Naive     SA  SMA-12  SMA-6  SMA-3\n",
       "212   52.0  88.33   54.32  53.78   52.0\n",
       "213   52.0  88.33   54.32  53.78   52.0\n",
       "214   52.0  88.33   54.32  53.78   52.0\n",
       "215   52.0  88.33   54.32  53.78   52.0\n",
       "216   52.0  88.33   54.32  53.78   52.0"
      ]
     },
     "execution_count": 26,
     "metadata": {},
     "output_type": "execute_result"
    },
    {
     "data": {
      "image/png": "[encoded data removed]",
      "text/plain": [
       "<Figure size 432x288 with 1 Axes>"
      ]
     },
     "metadata": {
      "needs_background": "light"
     },
     "output_type": "display_data"
    }
   ],
   "source": [
    "# Simple Moving Average - Window -3\n",
    "y_pred = df_test[COL_EXCH].copy(deep=True)\n",
    "y_pred[:] = df_train[COL_EXCH].rolling(3).mean().round(2)[TRAIN-1]; df_forecast['SMA-3'] = y_pred\n",
    "calErrors('Simple Moving Average - 3', y_actual, y_pred)\n",
    "plotForecast('SMA-3')\n",
    "df_forecast.head()"
   ]
  },
  {
   "cell_type": "code",
   "execution_count": 27,
   "metadata": {},
   "outputs": [
    {
     "data": {
      "text/html": [
       "<div>\n",
       "<style scoped>\n",
       "    .dataframe tbody tr th:only-of-type {\n",
       "        vertical-align: middle;\n",
       "    }\n",
       "\n",
       "    .dataframe tbody tr th {\n",
       "        vertical-align: top;\n",
       "    }\n",
       "\n",
       "    .dataframe thead th {\n",
       "        text-align: right;\n",
       "    }\n",
       "</style>\n",
       "<table border=\"1\" class=\"dataframe\">\n",
       "  <thead>\n",
       "    <tr style=\"text-align: right;\">\n",
       "      <th></th>\n",
       "      <th>Method</th>\n",
       "      <th>RMSE</th>\n",
       "      <th>MAPE</th>\n",
       "    </tr>\n",
       "  </thead>\n",
       "  <tbody>\n",
       "    <tr>\n",
       "      <th>0</th>\n",
       "      <td>Naive</td>\n",
       "      <td>5.98</td>\n",
       "      <td>8.41</td>\n",
       "    </tr>\n",
       "    <tr>\n",
       "      <th>0</th>\n",
       "      <td>Simple Average</td>\n",
       "      <td>32.42</td>\n",
       "      <td>58.13</td>\n",
       "    </tr>\n",
       "    <tr>\n",
       "      <th>0</th>\n",
       "      <td>Simple Moving Average - 12</td>\n",
       "      <td>4.66</td>\n",
       "      <td>6.96</td>\n",
       "    </tr>\n",
       "    <tr>\n",
       "      <th>0</th>\n",
       "      <td>Simple Moving Average - 6</td>\n",
       "      <td>4.90</td>\n",
       "      <td>7.13</td>\n",
       "    </tr>\n",
       "    <tr>\n",
       "      <th>0</th>\n",
       "      <td>Simple Moving Average - 3</td>\n",
       "      <td>4.90</td>\n",
       "      <td>7.13</td>\n",
       "    </tr>\n",
       "    <tr>\n",
       "      <th>0</th>\n",
       "      <td>Simple Moving Average - 3</td>\n",
       "      <td>5.98</td>\n",
       "      <td>8.41</td>\n",
       "    </tr>\n",
       "  </tbody>\n",
       "</table>\n",
       "</div>"
      ],
      "text/plain": [
       "                       Method   RMSE   MAPE\n",
       "0                       Naive   5.98   8.41\n",
       "0              Simple Average  32.42  58.13\n",
       "0  Simple Moving Average - 12   4.66   6.96\n",
       "0   Simple Moving Average - 6   4.90   7.13\n",
       "0   Simple Moving Average - 3   4.90   7.13\n",
       "0   Simple Moving Average - 3   5.98   8.41"
      ]
     },
     "execution_count": 27,
     "metadata": {},
     "output_type": "execute_result"
    }
   ],
   "source": [
    "df_summary"
   ]
  }
 ],
 "metadata": {
  "interpreter": {
   "hash": "8550a287e8c07f108da4527f3e46894028b32e72a651cacc8b64d5a05a68c294"
  },
  "kernelspec": {
   "display_name": "Python 3.7.9 64-bit ('venv': venv)",
   "language": "python",
   "name": "python3"
  },
  "language_info": {
   "codemirror_mode": {
    "name": "ipython",
    "version": 3
   },
   "file_extension": ".py",
   "mimetype": "text/x-python",
   "name": "python",
   "nbconvert_exporter": "python",
   "pygments_lexer": "ipython3",
   "version": "3.7.9"
  },
  "orig_nbformat": 4
 },
 "nbformat": 4,
 "nbformat_minor": 2
}
