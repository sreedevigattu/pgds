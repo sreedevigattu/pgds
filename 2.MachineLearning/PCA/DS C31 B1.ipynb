{
 "cells": [
  {
   "cell_type": "code",
   "execution_count": 14,
   "metadata": {},
   "outputs": [],
   "source": [
    "import pandas as pd\n",
    "import numpy as np"
   ]
  },
  {
   "cell_type": "code",
   "execution_count": 15,
   "metadata": {},
   "outputs": [
    {
     "data": {
      "text/html": [
       "<div>\n",
       "<style scoped>\n",
       "    .dataframe tbody tr th:only-of-type {\n",
       "        vertical-align: middle;\n",
       "    }\n",
       "\n",
       "    .dataframe tbody tr th {\n",
       "        vertical-align: top;\n",
       "    }\n",
       "\n",
       "    .dataframe thead th {\n",
       "        text-align: right;\n",
       "    }\n",
       "</style>\n",
       "<table border=\"1\" class=\"dataframe\">\n",
       "  <thead>\n",
       "    <tr style=\"text-align: right;\">\n",
       "      <th></th>\n",
       "      <th>Age</th>\n",
       "      <th>Weight</th>\n",
       "      <th>Height</th>\n",
       "    </tr>\n",
       "  </thead>\n",
       "  <tbody>\n",
       "    <tr>\n",
       "      <th>0</th>\n",
       "      <td>20</td>\n",
       "      <td>50</td>\n",
       "      <td>4.0</td>\n",
       "    </tr>\n",
       "    <tr>\n",
       "      <th>1</th>\n",
       "      <td>26</td>\n",
       "      <td>60</td>\n",
       "      <td>5.0</td>\n",
       "    </tr>\n",
       "    <tr>\n",
       "      <th>2</th>\n",
       "      <td>30</td>\n",
       "      <td>65</td>\n",
       "      <td>5.5</td>\n",
       "    </tr>\n",
       "    <tr>\n",
       "      <th>3</th>\n",
       "      <td>40</td>\n",
       "      <td>75</td>\n",
       "      <td>7.0</td>\n",
       "    </tr>\n",
       "  </tbody>\n",
       "</table>\n",
       "</div>"
      ],
      "text/plain": [
       "   Age  Weight  Height\n",
       "0   20      50     4.0\n",
       "1   26      60     5.0\n",
       "2   30      65     5.5\n",
       "3   40      75     7.0"
      ]
     },
     "execution_count": 15,
     "metadata": {},
     "output_type": "execute_result"
    }
   ],
   "source": [
    "a = [[20,50,4], [26,60,5], [30,65,5.5], [40,75,7]]\n",
    "b = ['Age', 'Weight', 'Height']\n",
    "A = pd.DataFrame(a, columns = b)\n",
    "A"
   ]
  },
  {
   "cell_type": "code",
   "execution_count": 16,
   "metadata": {},
   "outputs": [
    {
     "data": {
      "text/plain": [
       "Age       39.136956\n",
       "Weight    59.997692\n",
       "Height     0.865351\n",
       "dtype: float64"
      ]
     },
     "execution_count": 16,
     "metadata": {},
     "output_type": "execute_result"
    }
   ],
   "source": [
    "100*np.var(A)/sum(np.var(A))"
   ]
  },
  {
   "cell_type": "markdown",
   "metadata": {},
   "source": [
    "**Mean Centering**"
   ]
  },
  {
   "cell_type": "code",
   "execution_count": 17,
   "metadata": {},
   "outputs": [],
   "source": [
    "M = np.mean(A)"
   ]
  },
  {
   "cell_type": "code",
   "execution_count": 18,
   "metadata": {},
   "outputs": [
    {
     "data": {
      "text/plain": [
       "Age       29.000\n",
       "Weight    62.500\n",
       "Height     5.375\n",
       "dtype: float64"
      ]
     },
     "execution_count": 18,
     "metadata": {},
     "output_type": "execute_result"
    }
   ],
   "source": [
    "M"
   ]
  },
  {
   "cell_type": "code",
   "execution_count": 19,
   "metadata": {},
   "outputs": [],
   "source": [
    "C  = A-M"
   ]
  },
  {
   "cell_type": "code",
   "execution_count": 20,
   "metadata": {},
   "outputs": [
    {
     "data": {
      "text/html": [
       "<div>\n",
       "<style scoped>\n",
       "    .dataframe tbody tr th:only-of-type {\n",
       "        vertical-align: middle;\n",
       "    }\n",
       "\n",
       "    .dataframe tbody tr th {\n",
       "        vertical-align: top;\n",
       "    }\n",
       "\n",
       "    .dataframe thead th {\n",
       "        text-align: right;\n",
       "    }\n",
       "</style>\n",
       "<table border=\"1\" class=\"dataframe\">\n",
       "  <thead>\n",
       "    <tr style=\"text-align: right;\">\n",
       "      <th></th>\n",
       "      <th>Age</th>\n",
       "      <th>Weight</th>\n",
       "      <th>Height</th>\n",
       "    </tr>\n",
       "  </thead>\n",
       "  <tbody>\n",
       "    <tr>\n",
       "      <th>0</th>\n",
       "      <td>-9.0</td>\n",
       "      <td>-12.5</td>\n",
       "      <td>-1.375</td>\n",
       "    </tr>\n",
       "    <tr>\n",
       "      <th>1</th>\n",
       "      <td>-3.0</td>\n",
       "      <td>-2.5</td>\n",
       "      <td>-0.375</td>\n",
       "    </tr>\n",
       "    <tr>\n",
       "      <th>2</th>\n",
       "      <td>1.0</td>\n",
       "      <td>2.5</td>\n",
       "      <td>0.125</td>\n",
       "    </tr>\n",
       "    <tr>\n",
       "      <th>3</th>\n",
       "      <td>11.0</td>\n",
       "      <td>12.5</td>\n",
       "      <td>1.625</td>\n",
       "    </tr>\n",
       "  </tbody>\n",
       "</table>\n",
       "</div>"
      ],
      "text/plain": [
       "    Age  Weight  Height\n",
       "0  -9.0   -12.5  -1.375\n",
       "1  -3.0    -2.5  -0.375\n",
       "2   1.0     2.5   0.125\n",
       "3  11.0    12.5   1.625"
      ]
     },
     "execution_count": 20,
     "metadata": {},
     "output_type": "execute_result"
    }
   ],
   "source": [
    "C"
   ]
  },
  {
   "cell_type": "code",
   "execution_count": 21,
   "metadata": {},
   "outputs": [
    {
     "data": {
      "text/html": [
       "<div>\n",
       "<style scoped>\n",
       "    .dataframe tbody tr th:only-of-type {\n",
       "        vertical-align: middle;\n",
       "    }\n",
       "\n",
       "    .dataframe tbody tr th {\n",
       "        vertical-align: top;\n",
       "    }\n",
       "\n",
       "    .dataframe thead th {\n",
       "        text-align: right;\n",
       "    }\n",
       "</style>\n",
       "<table border=\"1\" class=\"dataframe\">\n",
       "  <thead>\n",
       "    <tr style=\"text-align: right;\">\n",
       "      <th></th>\n",
       "      <th>0</th>\n",
       "      <th>1</th>\n",
       "      <th>2</th>\n",
       "      <th>3</th>\n",
       "    </tr>\n",
       "  </thead>\n",
       "  <tbody>\n",
       "    <tr>\n",
       "      <th>Age</th>\n",
       "      <td>-9.000</td>\n",
       "      <td>-3.000</td>\n",
       "      <td>1.000</td>\n",
       "      <td>11.000</td>\n",
       "    </tr>\n",
       "    <tr>\n",
       "      <th>Weight</th>\n",
       "      <td>-12.500</td>\n",
       "      <td>-2.500</td>\n",
       "      <td>2.500</td>\n",
       "      <td>12.500</td>\n",
       "    </tr>\n",
       "    <tr>\n",
       "      <th>Height</th>\n",
       "      <td>-1.375</td>\n",
       "      <td>-0.375</td>\n",
       "      <td>0.125</td>\n",
       "      <td>1.625</td>\n",
       "    </tr>\n",
       "  </tbody>\n",
       "</table>\n",
       "</div>"
      ],
      "text/plain": [
       "             0      1      2       3\n",
       "Age     -9.000 -3.000  1.000  11.000\n",
       "Weight -12.500 -2.500  2.500  12.500\n",
       "Height  -1.375 -0.375  0.125   1.625"
      ]
     },
     "execution_count": 21,
     "metadata": {},
     "output_type": "execute_result"
    }
   ],
   "source": [
    "C.T"
   ]
  },
  {
   "cell_type": "markdown",
   "metadata": {},
   "source": [
    "**Covariance Matrix**"
   ]
  },
  {
   "cell_type": "code",
   "execution_count": 22,
   "metadata": {},
   "outputs": [
    {
     "name": "stdout",
     "output_type": "stream",
     "text": [
      "Help on function cov in module numpy:\n",
      "\n",
      "cov(m, y=None, rowvar=True, bias=False, ddof=None, fweights=None, aweights=None, *, dtype=None)\n",
      "    Estimate a covariance matrix, given data and weights.\n",
      "    \n",
      "    Covariance indicates the level to which two variables vary together.\n",
      "    If we examine N-dimensional samples, :math:`X = [x_1, x_2, ... x_N]^T`,\n",
      "    then the covariance matrix element :math:`C_{ij}` is the covariance of\n",
      "    :math:`x_i` and :math:`x_j`. The element :math:`C_{ii}` is the variance\n",
      "    of :math:`x_i`.\n",
      "    \n",
      "    See the notes for an outline of the algorithm.\n",
      "    \n",
      "    Parameters\n",
      "    ----------\n",
      "    m : array_like\n",
      "        A 1-D or 2-D array containing multiple variables and observations.\n",
      "        Each row of `m` represents a variable, and each column a single\n",
      "        observation of all those variables. Also see `rowvar` below.\n",
      "    y : array_like, optional\n",
      "        An additional set of variables and observations. `y` has the same form\n",
      "        as that of `m`.\n",
      "    rowvar : bool, optional\n",
      "        If `rowvar` is True (default), then each row represents a\n",
      "        variable, with observations in the columns. Otherwise, the relationship\n",
      "        is transposed: each column represents a variable, while the rows\n",
      "        contain observations.\n",
      "    bias : bool, optional\n",
      "        Default normalization (False) is by ``(N - 1)``, where ``N`` is the\n",
      "        number of observations given (unbiased estimate). If `bias` is True,\n",
      "        then normalization is by ``N``. These values can be overridden by using\n",
      "        the keyword ``ddof`` in numpy versions >= 1.5.\n",
      "    ddof : int, optional\n",
      "        If not ``None`` the default value implied by `bias` is overridden.\n",
      "        Note that ``ddof=1`` will return the unbiased estimate, even if both\n",
      "        `fweights` and `aweights` are specified, and ``ddof=0`` will return\n",
      "        the simple average. See the notes for the details. The default value\n",
      "        is ``None``.\n",
      "    \n",
      "        .. versionadded:: 1.5\n",
      "    fweights : array_like, int, optional\n",
      "        1-D array of integer frequency weights; the number of times each\n",
      "        observation vector should be repeated.\n",
      "    \n",
      "        .. versionadded:: 1.10\n",
      "    aweights : array_like, optional\n",
      "        1-D array of observation vector weights. These relative weights are\n",
      "        typically large for observations considered \"important\" and smaller for\n",
      "        observations considered less \"important\". If ``ddof=0`` the array of\n",
      "        weights can be used to assign probabilities to observation vectors.\n",
      "    \n",
      "        .. versionadded:: 1.10\n",
      "    dtype : data-type, optional\n",
      "        Data-type of the result. By default, the return data-type will have\n",
      "        at least `numpy.float64` precision.\n",
      "    \n",
      "        .. versionadded:: 1.20\n",
      "    \n",
      "    Returns\n",
      "    -------\n",
      "    out : ndarray\n",
      "        The covariance matrix of the variables.\n",
      "    \n",
      "    See Also\n",
      "    --------\n",
      "    corrcoef : Normalized covariance matrix\n",
      "    \n",
      "    Notes\n",
      "    -----\n",
      "    Assume that the observations are in the columns of the observation\n",
      "    array `m` and let ``f = fweights`` and ``a = aweights`` for brevity. The\n",
      "    steps to compute the weighted covariance are as follows::\n",
      "    \n",
      "        >>> m = np.arange(10, dtype=np.float64)\n",
      "        >>> f = np.arange(10) * 2\n",
      "        >>> a = np.arange(10) ** 2.\n",
      "        >>> ddof = 1\n",
      "        >>> w = f * a\n",
      "        >>> v1 = np.sum(w)\n",
      "        >>> v2 = np.sum(w * a)\n",
      "        >>> m -= np.sum(m * w, axis=None, keepdims=True) / v1\n",
      "        >>> cov = np.dot(m * w, m.T) * v1 / (v1**2 - ddof * v2)\n",
      "    \n",
      "    Note that when ``a == 1``, the normalization factor\n",
      "    ``v1 / (v1**2 - ddof * v2)`` goes over to ``1 / (np.sum(f) - ddof)``\n",
      "    as it should.\n",
      "    \n",
      "    Examples\n",
      "    --------\n",
      "    Consider two variables, :math:`x_0` and :math:`x_1`, which\n",
      "    correlate perfectly, but in opposite directions:\n",
      "    \n",
      "    >>> x = np.array([[0, 2], [1, 1], [2, 0]]).T\n",
      "    >>> x\n",
      "    array([[0, 1, 2],\n",
      "           [2, 1, 0]])\n",
      "    \n",
      "    Note how :math:`x_0` increases while :math:`x_1` decreases. The covariance\n",
      "    matrix shows this clearly:\n",
      "    \n",
      "    >>> np.cov(x)\n",
      "    array([[ 1., -1.],\n",
      "           [-1.,  1.]])\n",
      "    \n",
      "    Note that element :math:`C_{0,1}`, which shows the correlation between\n",
      "    :math:`x_0` and :math:`x_1`, is negative.\n",
      "    \n",
      "    Further, note how `x` and `y` are combined:\n",
      "    \n",
      "    >>> x = [-2.1, -1,  4.3]\n",
      "    >>> y = [3,  1.1,  0.12]\n",
      "    >>> X = np.stack((x, y), axis=0)\n",
      "    >>> np.cov(X)\n",
      "    array([[11.71      , -4.286     ], # may vary\n",
      "           [-4.286     ,  2.144133]])\n",
      "    >>> np.cov(x, y)\n",
      "    array([[11.71      , -4.286     ], # may vary\n",
      "           [-4.286     ,  2.144133]])\n",
      "    >>> np.cov(x)\n",
      "    array(11.71)\n",
      "\n"
     ]
    }
   ],
   "source": [
    "help(np.cov)"
   ]
  },
  {
   "cell_type": "code",
   "execution_count": 23,
   "metadata": {},
   "outputs": [],
   "source": [
    "V = np.cov(C.T)"
   ]
  },
  {
   "cell_type": "code",
   "execution_count": 24,
   "metadata": {},
   "outputs": [
    {
     "data": {
      "text/plain": [
       "array([[ 70.66666667,  86.66666667,  10.5       ],\n",
       "       [ 86.66666667, 108.33333333,  12.91666667],\n",
       "       [ 10.5       ,  12.91666667,   1.5625    ]])"
      ]
     },
     "execution_count": 24,
     "metadata": {},
     "output_type": "execute_result"
    }
   ],
   "source": [
    "V"
   ]
  },
  {
   "cell_type": "code",
   "execution_count": 25,
   "metadata": {},
   "outputs": [],
   "source": [
    "evalue, B = np.linalg.eig(V)"
   ]
  },
  {
   "cell_type": "code",
   "execution_count": 26,
   "metadata": {},
   "outputs": [
    {
     "data": {
      "text/plain": [
       "array([[-0.62486143, -0.77080323, -0.12413931],\n",
       "       [-0.77517499,  0.63146152, -0.01897568],\n",
       "       [-0.09301572, -0.08437252,  0.99208334]])"
      ]
     },
     "execution_count": 26,
     "metadata": {},
     "output_type": "execute_result"
    }
   ],
   "source": [
    "B"
   ]
  },
  {
   "cell_type": "code",
   "execution_count": 27,
   "metadata": {},
   "outputs": [],
   "source": [
    "Binv = np.linalg.inv(B)"
   ]
  },
  {
   "cell_type": "code",
   "execution_count": 28,
   "metadata": {},
   "outputs": [
    {
     "data": {
      "text/plain": [
       "array([[-0.62486143, -0.77517499, -0.09301572],\n",
       "       [-0.77080323,  0.63146152, -0.08437252],\n",
       "       [-0.12413931, -0.01897568,  0.99208334]])"
      ]
     },
     "execution_count": 28,
     "metadata": {},
     "output_type": "execute_result"
    }
   ],
   "source": [
    "Binv"
   ]
  },
  {
   "cell_type": "code",
   "execution_count": 29,
   "metadata": {},
   "outputs": [
    {
     "data": {
      "text/html": [
       "<div>\n",
       "<style scoped>\n",
       "    .dataframe tbody tr th:only-of-type {\n",
       "        vertical-align: middle;\n",
       "    }\n",
       "\n",
       "    .dataframe tbody tr th {\n",
       "        vertical-align: top;\n",
       "    }\n",
       "\n",
       "    .dataframe thead th {\n",
       "        text-align: right;\n",
       "    }\n",
       "</style>\n",
       "<table border=\"1\" class=\"dataframe\">\n",
       "  <thead>\n",
       "    <tr style=\"text-align: right;\">\n",
       "      <th></th>\n",
       "      <th>Age</th>\n",
       "      <th>Weight</th>\n",
       "      <th>Height</th>\n",
       "    </tr>\n",
       "  </thead>\n",
       "  <tbody>\n",
       "    <tr>\n",
       "      <th>0</th>\n",
       "      <td>-9.0</td>\n",
       "      <td>-12.5</td>\n",
       "      <td>-1.375</td>\n",
       "    </tr>\n",
       "    <tr>\n",
       "      <th>1</th>\n",
       "      <td>-3.0</td>\n",
       "      <td>-2.5</td>\n",
       "      <td>-0.375</td>\n",
       "    </tr>\n",
       "    <tr>\n",
       "      <th>2</th>\n",
       "      <td>1.0</td>\n",
       "      <td>2.5</td>\n",
       "      <td>0.125</td>\n",
       "    </tr>\n",
       "    <tr>\n",
       "      <th>3</th>\n",
       "      <td>11.0</td>\n",
       "      <td>12.5</td>\n",
       "      <td>1.625</td>\n",
       "    </tr>\n",
       "  </tbody>\n",
       "</table>\n",
       "</div>"
      ],
      "text/plain": [
       "    Age  Weight  Height\n",
       "0  -9.0   -12.5  -1.375\n",
       "1  -3.0    -2.5  -0.375\n",
       "2   1.0     2.5   0.125\n",
       "3  11.0    12.5   1.625"
      ]
     },
     "execution_count": 29,
     "metadata": {},
     "output_type": "execute_result"
    }
   ],
   "source": [
    "C"
   ]
  },
  {
   "cell_type": "raw",
   "metadata": {},
   "source": [
    "Binv: 3*3\n",
    "r1: 4*3\n",
    "r1.T: 3*4"
   ]
  },
  {
   "cell_type": "code",
   "execution_count": 30,
   "metadata": {},
   "outputs": [],
   "source": [
    "r1 = Binv@C.T"
   ]
  },
  {
   "cell_type": "code",
   "execution_count": 31,
   "metadata": {},
   "outputs": [],
   "source": [
    "Anew = r1.T"
   ]
  },
  {
   "cell_type": "code",
   "execution_count": 32,
   "metadata": {},
   "outputs": [
    {
     "data": {
      "text/html": [
       "<div>\n",
       "<style scoped>\n",
       "    .dataframe tbody tr th:only-of-type {\n",
       "        vertical-align: middle;\n",
       "    }\n",
       "\n",
       "    .dataframe tbody tr th {\n",
       "        vertical-align: top;\n",
       "    }\n",
       "\n",
       "    .dataframe thead th {\n",
       "        text-align: right;\n",
       "    }\n",
       "</style>\n",
       "<table border=\"1\" class=\"dataframe\">\n",
       "  <thead>\n",
       "    <tr style=\"text-align: right;\">\n",
       "      <th></th>\n",
       "      <th>0</th>\n",
       "      <th>1</th>\n",
       "      <th>2</th>\n",
       "    </tr>\n",
       "  </thead>\n",
       "  <tbody>\n",
       "    <tr>\n",
       "      <th>0</th>\n",
       "      <td>15.441337</td>\n",
       "      <td>-0.840028</td>\n",
       "      <td>-0.009665</td>\n",
       "    </tr>\n",
       "    <tr>\n",
       "      <th>1</th>\n",
       "      <td>3.847403</td>\n",
       "      <td>0.765396</td>\n",
       "      <td>0.047826</td>\n",
       "    </tr>\n",
       "    <tr>\n",
       "      <th>2</th>\n",
       "      <td>-2.574426</td>\n",
       "      <td>0.797304</td>\n",
       "      <td>-0.047568</td>\n",
       "    </tr>\n",
       "    <tr>\n",
       "      <th>3</th>\n",
       "      <td>-16.714314</td>\n",
       "      <td>-0.722672</td>\n",
       "      <td>0.009407</td>\n",
       "    </tr>\n",
       "  </tbody>\n",
       "</table>\n",
       "</div>"
      ],
      "text/plain": [
       "           0         1         2\n",
       "0  15.441337 -0.840028 -0.009665\n",
       "1   3.847403  0.765396  0.047826\n",
       "2  -2.574426  0.797304 -0.047568\n",
       "3 -16.714314 -0.722672  0.009407"
      ]
     },
     "execution_count": 32,
     "metadata": {},
     "output_type": "execute_result"
    }
   ],
   "source": [
    "Anew"
   ]
  },
  {
   "cell_type": "code",
   "execution_count": 33,
   "metadata": {},
   "outputs": [],
   "source": [
    "Anew.columns = ['PC1', 'PC2', 'PC3']"
   ]
  },
  {
   "cell_type": "code",
   "execution_count": 34,
   "metadata": {},
   "outputs": [
    {
     "data": {
      "text/html": [
       "<div>\n",
       "<style scoped>\n",
       "    .dataframe tbody tr th:only-of-type {\n",
       "        vertical-align: middle;\n",
       "    }\n",
       "\n",
       "    .dataframe tbody tr th {\n",
       "        vertical-align: top;\n",
       "    }\n",
       "\n",
       "    .dataframe thead th {\n",
       "        text-align: right;\n",
       "    }\n",
       "</style>\n",
       "<table border=\"1\" class=\"dataframe\">\n",
       "  <thead>\n",
       "    <tr style=\"text-align: right;\">\n",
       "      <th></th>\n",
       "      <th>PC1</th>\n",
       "      <th>PC2</th>\n",
       "      <th>PC3</th>\n",
       "    </tr>\n",
       "  </thead>\n",
       "  <tbody>\n",
       "    <tr>\n",
       "      <th>0</th>\n",
       "      <td>15.441337</td>\n",
       "      <td>-0.840028</td>\n",
       "      <td>-0.009665</td>\n",
       "    </tr>\n",
       "    <tr>\n",
       "      <th>1</th>\n",
       "      <td>3.847403</td>\n",
       "      <td>0.765396</td>\n",
       "      <td>0.047826</td>\n",
       "    </tr>\n",
       "    <tr>\n",
       "      <th>2</th>\n",
       "      <td>-2.574426</td>\n",
       "      <td>0.797304</td>\n",
       "      <td>-0.047568</td>\n",
       "    </tr>\n",
       "    <tr>\n",
       "      <th>3</th>\n",
       "      <td>-16.714314</td>\n",
       "      <td>-0.722672</td>\n",
       "      <td>0.009407</td>\n",
       "    </tr>\n",
       "  </tbody>\n",
       "</table>\n",
       "</div>"
      ],
      "text/plain": [
       "         PC1       PC2       PC3\n",
       "0  15.441337 -0.840028 -0.009665\n",
       "1   3.847403  0.765396  0.047826\n",
       "2  -2.574426  0.797304 -0.047568\n",
       "3 -16.714314 -0.722672  0.009407"
      ]
     },
     "execution_count": 34,
     "metadata": {},
     "output_type": "execute_result"
    }
   ],
   "source": [
    "Anew"
   ]
  },
  {
   "cell_type": "code",
   "execution_count": 35,
   "metadata": {},
   "outputs": [
    {
     "data": {
      "text/plain": [
       "PC1    99.546942\n",
       "PC2     0.452184\n",
       "PC3     0.000874\n",
       "dtype: float64"
      ]
     },
     "execution_count": 35,
     "metadata": {},
     "output_type": "execute_result"
    }
   ],
   "source": [
    "100*np.var(Anew)/sum(np.var(Anew))"
   ]
  }
 ],
 "metadata": {
  "kernelspec": {
   "display_name": "Python 3",
   "language": "python",
   "name": "python3"
  },
  "language_info": {
   "codemirror_mode": {
    "name": "ipython",
    "version": 3
   },
   "file_extension": ".py",
   "mimetype": "text/x-python",
   "name": "python",
   "nbconvert_exporter": "python",
   "pygments_lexer": "ipython3",
   "version": "3.7.9"
  }
 },
 "nbformat": 4,
 "nbformat_minor": 2
}
